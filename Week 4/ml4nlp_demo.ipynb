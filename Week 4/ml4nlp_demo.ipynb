{
 "cells": [
  {
   "cell_type": "markdown",
   "metadata": {},
   "source": [
    "## Import Library"
   ]
  },
  {
   "cell_type": "code",
   "execution_count": 3,
   "metadata": {
    "_cell_guid": "b1076dfc-b9ad-4769-8c92-a6c4dae69d19",
    "_uuid": "8f2839f25d086af736a60e9eeb907d3b93b6e0e5",
    "execution": {
     "iopub.execute_input": "2025-09-13T07:26:06.043190Z",
     "iopub.status.busy": "2025-09-13T07:26:06.042894Z",
     "iopub.status.idle": "2025-09-13T07:26:11.438790Z",
     "shell.execute_reply": "2025-09-13T07:26:11.438084Z",
     "shell.execute_reply.started": "2025-09-13T07:26:06.043168Z"
    },
    "trusted": true
   },
   "outputs": [
    {
     "name": "stdout",
     "output_type": "stream",
     "text": [
      "Collecting underthesea\n",
      "  Downloading underthesea-6.8.4-py3-none-any.whl.metadata (15 kB)\n",
      "Requirement already satisfied: Click>=6.0 in /usr/local/lib/python3.11/dist-packages (from underthesea) (8.2.1)\n",
      "Collecting python-crfsuite>=0.9.6 (from underthesea)\n",
      "  Downloading python_crfsuite-0.9.11-cp311-cp311-manylinux_2_17_x86_64.manylinux2014_x86_64.whl.metadata (4.3 kB)\n",
      "Requirement already satisfied: nltk in /usr/local/lib/python3.11/dist-packages (from underthesea) (3.9.1)\n",
      "Requirement already satisfied: tqdm in /usr/local/lib/python3.11/dist-packages (from underthesea) (4.67.1)\n",
      "Requirement already satisfied: requests in /usr/local/lib/python3.11/dist-packages (from underthesea) (2.32.4)\n",
      "Requirement already satisfied: joblib in /usr/local/lib/python3.11/dist-packages (from underthesea) (1.5.1)\n",
      "Requirement already satisfied: scikit-learn in /usr/local/lib/python3.11/dist-packages (from underthesea) (1.2.2)\n",
      "Requirement already satisfied: PyYAML in /usr/local/lib/python3.11/dist-packages (from underthesea) (6.0.2)\n",
      "Collecting underthesea-core==1.0.4 (from underthesea)\n",
      "  Downloading underthesea_core-1.0.4-cp311-cp311-manylinux2010_x86_64.whl.metadata (1.7 kB)\n",
      "Requirement already satisfied: regex>=2021.8.3 in /usr/local/lib/python3.11/dist-packages (from nltk->underthesea) (2024.11.6)\n",
      "Requirement already satisfied: charset_normalizer<4,>=2 in /usr/local/lib/python3.11/dist-packages (from requests->underthesea) (3.4.2)\n",
      "Requirement already satisfied: idna<4,>=2.5 in /usr/local/lib/python3.11/dist-packages (from requests->underthesea) (3.10)\n",
      "Requirement already satisfied: urllib3<3,>=1.21.1 in /usr/local/lib/python3.11/dist-packages (from requests->underthesea) (2.5.0)\n",
      "Requirement already satisfied: certifi>=2017.4.17 in /usr/local/lib/python3.11/dist-packages (from requests->underthesea) (2025.6.15)\n",
      "Requirement already satisfied: numpy>=1.17.3 in /usr/local/lib/python3.11/dist-packages (from scikit-learn->underthesea) (1.26.4)\n",
      "Requirement already satisfied: scipy>=1.3.2 in /usr/local/lib/python3.11/dist-packages (from scikit-learn->underthesea) (1.15.3)\n",
      "Requirement already satisfied: threadpoolctl>=2.0.0 in /usr/local/lib/python3.11/dist-packages (from scikit-learn->underthesea) (3.6.0)\n",
      "Requirement already satisfied: mkl_fft in /usr/local/lib/python3.11/dist-packages (from numpy>=1.17.3->scikit-learn->underthesea) (1.3.8)\n",
      "Requirement already satisfied: mkl_random in /usr/local/lib/python3.11/dist-packages (from numpy>=1.17.3->scikit-learn->underthesea) (1.2.4)\n",
      "Requirement already satisfied: mkl_umath in /usr/local/lib/python3.11/dist-packages (from numpy>=1.17.3->scikit-learn->underthesea) (0.1.1)\n",
      "Requirement already satisfied: mkl in /usr/local/lib/python3.11/dist-packages (from numpy>=1.17.3->scikit-learn->underthesea) (2025.2.0)\n",
      "Requirement already satisfied: tbb4py in /usr/local/lib/python3.11/dist-packages (from numpy>=1.17.3->scikit-learn->underthesea) (2022.2.0)\n",
      "Requirement already satisfied: mkl-service in /usr/local/lib/python3.11/dist-packages (from numpy>=1.17.3->scikit-learn->underthesea) (2.4.1)\n",
      "Requirement already satisfied: intel-openmp<2026,>=2024 in /usr/local/lib/python3.11/dist-packages (from mkl->numpy>=1.17.3->scikit-learn->underthesea) (2024.2.0)\n",
      "Requirement already satisfied: tbb==2022.* in /usr/local/lib/python3.11/dist-packages (from mkl->numpy>=1.17.3->scikit-learn->underthesea) (2022.2.0)\n",
      "Requirement already satisfied: tcmlib==1.* in /usr/local/lib/python3.11/dist-packages (from tbb==2022.*->mkl->numpy>=1.17.3->scikit-learn->underthesea) (1.4.0)\n",
      "Requirement already satisfied: intel-cmplr-lib-rt in /usr/local/lib/python3.11/dist-packages (from mkl_umath->numpy>=1.17.3->scikit-learn->underthesea) (2024.2.0)\n",
      "Requirement already satisfied: intel-cmplr-lib-ur==2024.2.0 in /usr/local/lib/python3.11/dist-packages (from intel-openmp<2026,>=2024->mkl->numpy>=1.17.3->scikit-learn->underthesea) (2024.2.0)\n",
      "Downloading underthesea-6.8.4-py3-none-any.whl (20.9 MB)\n",
      "\u001b[2K   \u001b[90m━━━━━━━━━━━━━━━━━━━━━━━━━━━━━━━━━━━━━━━━\u001b[0m \u001b[32m20.9/20.9 MB\u001b[0m \u001b[31m77.7 MB/s\u001b[0m eta \u001b[36m0:00:00\u001b[0m:00:01\u001b[0m00:01\u001b[0m\n",
      "\u001b[?25hDownloading underthesea_core-1.0.4-cp311-cp311-manylinux2010_x86_64.whl (657 kB)\n",
      "\u001b[2K   \u001b[90m━━━━━━━━━━━━━━━━━━━━━━━━━━━━━━━━━━━━━━━━\u001b[0m \u001b[32m657.8/657.8 kB\u001b[0m \u001b[31m29.0 MB/s\u001b[0m eta \u001b[36m0:00:00\u001b[0m\n",
      "\u001b[?25hDownloading python_crfsuite-0.9.11-cp311-cp311-manylinux_2_17_x86_64.manylinux2014_x86_64.whl (1.3 MB)\n",
      "\u001b[2K   \u001b[90m━━━━━━━━━━━━━━━━━━━━━━━━━━━━━━━━━━━━━━━━\u001b[0m \u001b[32m1.3/1.3 MB\u001b[0m \u001b[31m56.1 MB/s\u001b[0m eta \u001b[36m0:00:00\u001b[0m\n",
      "\u001b[?25hInstalling collected packages: underthesea-core, python-crfsuite, underthesea\n",
      "Successfully installed python-crfsuite-0.9.11 underthesea-6.8.4 underthesea-core-1.0.4\n"
     ]
    }
   ],
   "source": [
    "!pip install underthesea"
   ]
  },
  {
   "cell_type": "markdown",
   "metadata": {},
   "source": [
    "## Illustrate"
   ]
  },
  {
   "cell_type": "markdown",
   "metadata": {},
   "source": [
    "### 1. Named Entity Recognition"
   ]
  },
  {
   "cell_type": "code",
   "execution_count": 2,
   "metadata": {
    "execution": {
     "iopub.execute_input": "2025-09-13T05:15:16.454856Z",
     "iopub.status.busy": "2025-09-13T05:15:16.454380Z",
     "iopub.status.idle": "2025-09-13T05:15:25.171186Z",
     "shell.execute_reply": "2025-09-13T05:15:25.170574Z",
     "shell.execute_reply.started": "2025-09-13T05:15:16.454823Z"
    },
    "trusted": true
   },
   "outputs": [
    {
     "data": {
      "text/plain": [
       "[('Chưa', 'R', 'O', 'O'),\n",
       " ('tiết lộ', 'V', 'B-VP', 'O'),\n",
       " ('lịch trình', 'V', 'B-VP', 'O'),\n",
       " ('tới', 'E', 'B-PP', 'O'),\n",
       " ('Việt Nam', 'Np', 'B-NP', 'B-LOC'),\n",
       " ('của', 'E', 'B-PP', 'O'),\n",
       " ('Tổng thống', 'N', 'B-NP', 'O'),\n",
       " ('Mỹ', 'Np', 'B-NP', 'B-LOC'),\n",
       " ('Donald', 'Np', 'B-NP', 'B-PER'),\n",
       " ('Trump', 'Np', 'B-NP', 'I-PER')]"
      ]
     },
     "execution_count": 2,
     "metadata": {},
     "output_type": "execute_result"
    }
   ],
   "source": [
    "from underthesea import ner\n",
    "text = 'Chưa tiết lộ lịch trình tới Việt Nam của Tổng thống Mỹ Donald Trump'\n",
    "ner(text)"
   ]
  },
  {
   "cell_type": "code",
   "execution_count": 3,
   "metadata": {
    "execution": {
     "iopub.execute_input": "2025-09-13T05:16:10.139865Z",
     "iopub.status.busy": "2025-09-13T05:16:10.139193Z",
     "iopub.status.idle": "2025-09-13T05:16:10.148954Z",
     "shell.execute_reply": "2025-09-13T05:16:10.148210Z",
     "shell.execute_reply.started": "2025-09-13T05:16:10.139839Z"
    },
    "trusted": true
   },
   "outputs": [
    {
     "data": {
      "text/plain": [
       "[('Ông', 'Nc', 'B-NP', 'O'),\n",
       " ('Putin', 'Np', 'B-NP', 'B-PER'),\n",
       " ('ca ngợi', 'V', 'B-VP', 'O'),\n",
       " ('những', 'L', 'B-NP', 'O'),\n",
       " ('thành tựu', 'N', 'B-NP', 'O'),\n",
       " ('vĩ đại', 'A', 'B-AP', 'O'),\n",
       " ('của', 'E', 'B-PP', 'O'),\n",
       " ('Liên Xô', 'Np', 'B-NP', 'B-LOC')]"
      ]
     },
     "execution_count": 3,
     "metadata": {},
     "output_type": "execute_result"
    }
   ],
   "source": [
    "sentence = \"Ông Putin ca ngợi những thành tựu vĩ đại của Liên Xô\"\n",
    "ner(sentence)"
   ]
  },
  {
   "cell_type": "markdown",
   "metadata": {},
   "source": [
    "### 2. Sentiment"
   ]
  },
  {
   "cell_type": "code",
   "execution_count": 8,
   "metadata": {
    "execution": {
     "iopub.execute_input": "2025-09-13T06:06:15.126693Z",
     "iopub.status.busy": "2025-09-13T06:06:15.126329Z",
     "iopub.status.idle": "2025-09-13T06:06:15.138120Z",
     "shell.execute_reply": "2025-09-13T06:06:15.136850Z",
     "shell.execute_reply.started": "2025-09-13T06:06:15.126667Z"
    },
    "trusted": true
   },
   "outputs": [
    {
     "name": "stdout",
     "output_type": "stream",
     "text": [
      "['INTERNET_BANKING#negative']\n"
     ]
    }
   ],
   "source": [
    "from underthesea import sentiment\n",
    "sentence = \"Vừa smartbidv, vừa bidv online mà lại k dùng chung 1 tài khoản đăng nhập, rắc rối!\"\n",
    "print(sentiment(sentence, domain='bank'))"
   ]
  },
  {
   "cell_type": "code",
   "execution_count": 28,
   "metadata": {
    "execution": {
     "iopub.execute_input": "2025-09-13T06:19:48.244902Z",
     "iopub.status.busy": "2025-09-13T06:19:48.244481Z",
     "iopub.status.idle": "2025-09-13T06:19:48.252012Z",
     "shell.execute_reply": "2025-09-13T06:19:48.251057Z",
     "shell.execute_reply.started": "2025-09-13T06:19:48.244875Z"
    },
    "trusted": true
   },
   "outputs": [
    {
     "name": "stdout",
     "output_type": "stream",
     "text": [
      "positive\n"
     ]
    }
   ],
   "source": [
    "from underthesea import sentiment\n",
    "sentence = \"Ngân hàng này tốt quá\"\n",
    "print(sentiment(sentence))"
   ]
  },
  {
   "cell_type": "markdown",
   "metadata": {},
   "source": [
    "## Text Classification"
   ]
  },
  {
   "cell_type": "code",
   "execution_count": 4,
   "metadata": {
    "execution": {
     "iopub.execute_input": "2025-09-13T07:26:19.894640Z",
     "iopub.status.busy": "2025-09-13T07:26:19.894328Z",
     "iopub.status.idle": "2025-09-13T07:26:20.866810Z",
     "shell.execute_reply": "2025-09-13T07:26:20.866174Z",
     "shell.execute_reply.started": "2025-09-13T07:26:19.894614Z"
    },
    "trusted": true
   },
   "outputs": [],
   "source": [
    "# === Libraries ===\n",
    "import re\n",
    "import string\n",
    "from collections import defaultdict\n",
    "\n",
    "import pandas as pd\n",
    "import matplotlib.pyplot as plt\n",
    "from tqdm import tqdm\n",
    "\n",
    "from underthesea import word_tokenize\n",
    "\n",
    "from sklearn.model_selection import train_test_split\n",
    "from sklearn.feature_extraction.text import TfidfVectorizer\n",
    "from sklearn.linear_model import LogisticRegression\n",
    "from sklearn.pipeline import Pipeline\n",
    "from sklearn.metrics import (\n",
    "    accuracy_score,\n",
    "    f1_score,\n",
    "    roc_auc_score,\n",
    "    classification_report,\n",
    "    confusion_matrix,\n",
    "    ConfusionMatrixDisplay,\n",
    ")"
   ]
  },
  {
   "cell_type": "code",
   "execution_count": 4,
   "metadata": {
    "execution": {
     "iopub.execute_input": "2025-09-13T07:14:35.524264Z",
     "iopub.status.busy": "2025-09-13T07:14:35.523874Z",
     "iopub.status.idle": "2025-09-13T07:14:36.044702Z",
     "shell.execute_reply": "2025-09-13T07:14:36.043964Z",
     "shell.execute_reply.started": "2025-09-13T07:14:35.524242Z"
    },
    "trusted": true
   },
   "outputs": [
    {
     "name": "stdout",
     "output_type": "stream",
     "text": [
      "Path to dataset files: /kaggle/input/vietnamese-text-classification-dataset\n"
     ]
    }
   ],
   "source": [
    "# === Download dataset ===\n",
    "import kagglehub\n",
    "\n",
    "# Download latest version\n",
    "path = kagglehub.dataset_download(\"tuannguyenvananh/vietnamese-text-classification-dataset\")\n",
    "\n",
    "print(\"Path to dataset files:\", path)"
   ]
  },
  {
   "cell_type": "code",
   "execution_count": 5,
   "metadata": {
    "execution": {
     "iopub.execute_input": "2025-09-13T07:26:21.883647Z",
     "iopub.status.busy": "2025-09-13T07:26:21.882785Z",
     "iopub.status.idle": "2025-09-13T07:26:21.951563Z",
     "shell.execute_reply": "2025-09-13T07:26:21.950875Z",
     "shell.execute_reply.started": "2025-09-13T07:26:21.883619Z"
    },
    "trusted": true
   },
   "outputs": [
    {
     "name": "stdout",
     "output_type": "stream",
     "text": [
      "<class 'pandas.core.frame.DataFrame'>\n",
      "RangeIndex: 3039 entries, 0 to 3038\n",
      "Data columns (total 2 columns):\n",
      " #   Column                  Non-Null Count  Dtype \n",
      "---  ------                  --------------  ----- \n",
      " 0   0                       3039 non-null   int64 \n",
      " 1   máy dùng hay bị đơ máy  3039 non-null   object\n",
      "dtypes: int64(1), object(1)\n",
      "memory usage: 47.6+ KB\n"
     ]
    }
   ],
   "source": [
    "data = pd.read_csv('/kaggle/input/vietnamese-text-classification-dataset/train.csv')\n",
    "data.info()"
   ]
  },
  {
   "cell_type": "code",
   "execution_count": 6,
   "metadata": {
    "execution": {
     "iopub.execute_input": "2025-09-13T07:26:25.444582Z",
     "iopub.status.busy": "2025-09-13T07:26:25.443989Z",
     "iopub.status.idle": "2025-09-13T07:26:25.448229Z",
     "shell.execute_reply": "2025-09-13T07:26:25.447519Z",
     "shell.execute_reply.started": "2025-09-13T07:26:25.444557Z"
    },
    "trusted": true
   },
   "outputs": [],
   "source": [
    "data.columns = ['labels', 'text']"
   ]
  },
  {
   "cell_type": "code",
   "execution_count": 38,
   "metadata": {
    "execution": {
     "iopub.execute_input": "2025-09-13T06:28:00.151424Z",
     "iopub.status.busy": "2025-09-13T06:28:00.151114Z",
     "iopub.status.idle": "2025-09-13T06:28:00.160942Z",
     "shell.execute_reply": "2025-09-13T06:28:00.160040Z",
     "shell.execute_reply.started": "2025-09-13T06:28:00.151401Z"
    },
    "trusted": true
   },
   "outputs": [
    {
     "data": {
      "text/html": [
       "<div>\n",
       "<style scoped>\n",
       "    .dataframe tbody tr th:only-of-type {\n",
       "        vertical-align: middle;\n",
       "    }\n",
       "\n",
       "    .dataframe tbody tr th {\n",
       "        vertical-align: top;\n",
       "    }\n",
       "\n",
       "    .dataframe thead th {\n",
       "        text-align: right;\n",
       "    }\n",
       "</style>\n",
       "<table border=\"1\" class=\"dataframe\">\n",
       "  <thead>\n",
       "    <tr style=\"text-align: right;\">\n",
       "      <th></th>\n",
       "      <th>labels</th>\n",
       "      <th>text</th>\n",
       "    </tr>\n",
       "  </thead>\n",
       "  <tbody>\n",
       "    <tr>\n",
       "      <th>0</th>\n",
       "      <td>0</td>\n",
       "      <td>chỉ có dây cáp nguồn không có adapter sao sử d...</td>\n",
       "    </tr>\n",
       "    <tr>\n",
       "      <th>1</th>\n",
       "      <td>0</td>\n",
       "      <td>Chất lượng quá kém Mới dùng được 2 ngày loa ba...</td>\n",
       "    </tr>\n",
       "    <tr>\n",
       "      <th>2</th>\n",
       "      <td>0</td>\n",
       "      <td>Usb tôi vừa mới nhận usb này Rất bực bội vì cá...</td>\n",
       "    </tr>\n",
       "    <tr>\n",
       "      <th>3</th>\n",
       "      <td>2</td>\n",
       "      <td>Tuyệt vời. Hàng FPT cửa hàng</td>\n",
       "    </tr>\n",
       "    <tr>\n",
       "      <th>4</th>\n",
       "      <td>1</td>\n",
       "      <td>Chưa đo đúng bước chân rõ Nhiều khi gián đoạn ...</td>\n",
       "    </tr>\n",
       "  </tbody>\n",
       "</table>\n",
       "</div>"
      ],
      "text/plain": [
       "   labels                                               text\n",
       "0       0  chỉ có dây cáp nguồn không có adapter sao sử d...\n",
       "1       0  Chất lượng quá kém Mới dùng được 2 ngày loa ba...\n",
       "2       0  Usb tôi vừa mới nhận usb này Rất bực bội vì cá...\n",
       "3       2                       Tuyệt vời. Hàng FPT cửa hàng\n",
       "4       1  Chưa đo đúng bước chân rõ Nhiều khi gián đoạn ..."
      ]
     },
     "execution_count": 38,
     "metadata": {},
     "output_type": "execute_result"
    }
   ],
   "source": [
    "data.head()"
   ]
  },
  {
   "cell_type": "code",
   "execution_count": 39,
   "metadata": {
    "execution": {
     "iopub.execute_input": "2025-09-13T06:28:03.461125Z",
     "iopub.status.busy": "2025-09-13T06:28:03.460809Z",
     "iopub.status.idle": "2025-09-13T06:28:03.612105Z",
     "shell.execute_reply": "2025-09-13T06:28:03.611089Z",
     "shell.execute_reply.started": "2025-09-13T06:28:03.461101Z"
    },
    "trusted": true
   },
   "outputs": [
    {
     "data": {
      "image/png": "[encoded data removed]",
      "text/plain": [
       "<Figure size 600x400 with 1 Axes>"
      ]
     },
     "metadata": {},
     "output_type": "display_data"
    }
   ],
   "source": [
    "# Check the labels \n",
    "plt.figure(figsize=(6,4))\n",
    "data[\"labels\"].value_counts().plot(kind=\"bar\", color=[\"green\",\"red\",\"pink\"])\n",
    "plt.title(\"Phân bố sentiment\")\n",
    "plt.xlabel(\"Sentiment\")\n",
    "plt.ylabel(\"Số lượng mẫu\")\n",
    "plt.show()"
   ]
  },
  {
   "cell_type": "markdown",
   "metadata": {},
   "source": [
    "### Text Preprocessing"
   ]
  },
  {
   "cell_type": "code",
   "execution_count": 7,
   "metadata": {
    "execution": {
     "iopub.execute_input": "2025-09-13T07:26:30.583866Z",
     "iopub.status.busy": "2025-09-13T07:26:30.583047Z",
     "iopub.status.idle": "2025-09-13T07:26:38.248190Z",
     "shell.execute_reply": "2025-09-13T07:26:38.247501Z",
     "shell.execute_reply.started": "2025-09-13T07:26:30.583834Z"
    },
    "trusted": true
   },
   "outputs": [],
   "source": [
    "# === Text preprocessing for Vietnamese ===\n",
    "def clean_text_vi(text: str) -> str:\n",
    "    \"\"\" Lowercase, remove URLs, tokenize Vietnamese words, strip punctuation; \n",
    "        return a clean string.\"\"\"\n",
    "    text = text.lower()\n",
    "    text = re.sub(r\"http\\S+|www\\S+\", \"\", text)\n",
    "    tokens = word_tokenize(text)   \n",
    "    out = []\n",
    "    for tok in tokens:\n",
    "        for sub in tok.split():  \n",
    "            if sub not in string.punctuation:\n",
    "                out.append(sub)\n",
    "    return \" \".join(out)"
   ]
  },
  {
   "cell_type": "markdown",
   "metadata": {},
   "source": [
    "### Logistic regression"
   ]
  },
  {
   "cell_type": "code",
   "execution_count": 8,
   "metadata": {
    "execution": {
     "iopub.execute_input": "2025-09-13T07:26:38.249765Z",
     "iopub.status.busy": "2025-09-13T07:26:38.249315Z",
     "iopub.status.idle": "2025-09-13T07:26:44.391118Z",
     "shell.execute_reply": "2025-09-13T07:26:44.390457Z",
     "shell.execute_reply.started": "2025-09-13T07:26:38.249733Z"
    },
    "trusted": true
   },
   "outputs": [
    {
     "name": "stdout",
     "output_type": "stream",
     "text": [
      "Accuracy: 0.7861842105263158\n",
      "F1-macro: 0.7727185686531808\n",
      "              precision    recall  f1-score   support\n",
      "\n",
      "           0       0.77      0.89      0.83       221\n",
      "           1       0.68      0.58      0.63       177\n",
      "           2       0.87      0.86      0.87       210\n",
      "\n",
      "    accuracy                           0.79       608\n",
      "   macro avg       0.78      0.77      0.77       608\n",
      "weighted avg       0.78      0.79      0.78       608\n",
      "\n"
     ]
    }
   ],
   "source": [
    "# === Vietnamese tokenizer with TF-IDF ===\n",
    "def uts_tokenize(s: str):\n",
    "    return word_tokenize(s, format=\"text\").split()\n",
    "X, y = data[\"text\"].astype(str), data[\"labels\"].astype(str)\n",
    "\n",
    "# === Train/test split with stratify ===\n",
    "X_train, X_test, y_train, y_test = train_test_split(\n",
    "    X, y, test_size=0.2, random_state=42, stratify=y\n",
    ")\n",
    "\n",
    "# === Build pipeline: TF-IDF + Logistic Regression ===\n",
    "pipe = Pipeline([\n",
    "    (\"tfidf\", TfidfVectorizer(\n",
    "        preprocessor=clean_text_vi,   \n",
    "        ngram_range=(1,3),\n",
    "        min_df=2, max_df=0.8\n",
    "    )),\n",
    "    \n",
    "    (\"clf\", LogisticRegression(\n",
    "        max_iter=1000,              \n",
    "        n_jobs=None,                \n",
    "        class_weight=None           \n",
    "    ))\n",
    "])\n",
    "\n",
    "# === Train ===\n",
    "pipe.fit(X_train, y_train)\n",
    "\n",
    "# === Evaluate ===\n",
    "pred = pipe.predict(X_test)\n",
    "print(\"Accuracy:\", accuracy_score(y_test, pred))\n",
    "print(\"F1-macro:\", f1_score(y_test, pred, average=\"macro\"))\n",
    "print(classification_report(y_test, pred))"
   ]
  },
  {
   "cell_type": "code",
   "execution_count": 10,
   "metadata": {
    "execution": {
     "iopub.execute_input": "2025-09-13T07:15:17.917950Z",
     "iopub.status.busy": "2025-09-13T07:15:17.917385Z",
     "iopub.status.idle": "2025-09-13T07:15:18.201839Z",
     "shell.execute_reply": "2025-09-13T07:15:18.201018Z",
     "shell.execute_reply.started": "2025-09-13T07:15:17.917928Z"
    },
    "trusted": true
   },
   "outputs": [
    {
     "data": {
      "image/png": "[encoded data removed]",
      "text/plain": [
       "<Figure size 600x600 with 2 Axes>"
      ]
     },
     "metadata": {},
     "output_type": "display_data"
    }
   ],
   "source": [
    "labels = pipe.named_steps[\"clf\"].classes_\n",
    "\n",
    "# Counts\n",
    "cm = confusion_matrix(y_test, pred, labels=labels)\n",
    "disp = ConfusionMatrixDisplay(confusion_matrix=cm, display_labels=labels)\n",
    "fig, ax = plt.subplots(figsize=(6,6))\n",
    "disp.plot(cmap=\"Blues\", values_format=\".0f\", ax=ax, colorbar=True)\n",
    "ax.set_title(\"Confusion Matrix (Counts)\")\n",
    "plt.tight_layout()\n",
    "plt.show()"
   ]
  }
 ],
 "metadata": {
  "kaggle": {
   "accelerator": "gpu",
   "dataSources": [
    {
     "databundleVersionId": 3466898,
     "datasetId": 2058416,
     "sourceId": 3415101,
     "sourceType": "datasetVersion"
    }
   ],
   "dockerImageVersionId": 31090,
   "isGpuEnabled": true,
   "isInternetEnabled": true,
   "language": "python",
   "sourceType": "notebook"
  },
  "kernelspec": {
   "display_name": "Python 3",
   "language": "python",
   "name": "python3"
  },
  "language_info": {
   "codemirror_mode": {
    "name": "ipython",
    "version": 3
   },
   "file_extension": ".py",
   "mimetype": "text/x-python",
   "name": "python",
   "nbconvert_exporter": "python",
   "pygments_lexer": "ipython3",
   "version": "3.11.13"
  }
 },
 "nbformat": 4,
 "nbformat_minor": 4
}
