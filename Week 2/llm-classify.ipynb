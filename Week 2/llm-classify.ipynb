{
 "cells": [
  {
   "cell_type": "code",
   "execution_count": 1,
   "id": "64397f0c",
   "metadata": {
    "execution": {
     "iopub.execute_input": "2025-09-06T11:54:21.333892Z",
     "iopub.status.busy": "2025-09-06T11:54:21.333133Z",
     "iopub.status.idle": "2025-09-06T11:54:24.413391Z",
     "shell.execute_reply": "2025-09-06T11:54:24.412768Z"
    },
    "papermill": {
     "duration": 3.085483,
     "end_time": "2025-09-06T11:54:24.414795",
     "exception": false,
     "start_time": "2025-09-06T11:54:21.329312",
     "status": "completed"
    },
    "tags": []
   },
   "outputs": [],
   "source": [
    "import pandas as pd\n",
    "import matplotlib.pyplot as plt\n",
    "from tqdm import tqdm\n",
    "from nltk.stem import WordNetLemmatizer"
   ]
  },
  {
   "cell_type": "code",
   "execution_count": 2,
   "id": "7473683f",
   "metadata": {
    "execution": {
     "iopub.execute_input": "2025-09-06T11:54:24.420680Z",
     "iopub.status.busy": "2025-09-06T11:54:24.420099Z",
     "iopub.status.idle": "2025-09-06T11:54:24.547532Z",
     "shell.execute_reply": "2025-09-06T11:54:24.546670Z"
    },
    "papermill": {
     "duration": 0.131272,
     "end_time": "2025-09-06T11:54:24.548703",
     "exception": false,
     "start_time": "2025-09-06T11:54:24.417431",
     "status": "completed"
    },
    "tags": []
   },
   "outputs": [
    {
     "name": "stderr",
     "output_type": "stream",
     "text": [
      "[nltk_data] Downloading package punkt to /usr/share/nltk_data...\n",
      "[nltk_data]   Package punkt is already up-to-date!\n",
      "[nltk_data] Downloading package stopwords to /usr/share/nltk_data...\n",
      "[nltk_data]   Package stopwords is already up-to-date!\n"
     ]
    },
    {
     "data": {
      "text/plain": [
       "True"
      ]
     },
     "execution_count": 2,
     "metadata": {},
     "output_type": "execute_result"
    }
   ],
   "source": [
    "import re\n",
    "import string\n",
    "import nltk\n",
    "from nltk.corpus import stopwords\n",
    "from nltk.tokenize import word_tokenize\n",
    "\n",
    "nltk.download(\"punkt\")\n",
    "nltk.download(\"stopwords\")"
   ]
  },
  {
   "cell_type": "code",
   "execution_count": 3,
   "id": "018eb265",
   "metadata": {
    "execution": {
     "iopub.execute_input": "2025-09-06T11:54:24.554237Z",
     "iopub.status.busy": "2025-09-06T11:54:24.554011Z",
     "iopub.status.idle": "2025-09-06T11:54:24.620039Z",
     "shell.execute_reply": "2025-09-06T11:54:24.619339Z"
    },
    "papermill": {
     "duration": 0.069927,
     "end_time": "2025-09-06T11:54:24.621115",
     "exception": false,
     "start_time": "2025-09-06T11:54:24.551188",
     "status": "completed"
    },
    "tags": []
   },
   "outputs": [
    {
     "name": "stdout",
     "output_type": "stream",
     "text": [
      "<class 'pandas.core.frame.DataFrame'>\n",
      "RangeIndex: 3534 entries, 0 to 3533\n",
      "Data columns (total 3 columns):\n",
      " #   Column     Non-Null Count  Dtype \n",
      "---  ------     --------------  ----- \n",
      " 0   textID     3534 non-null   object\n",
      " 1   text       3534 non-null   object\n",
      " 2   sentiment  3534 non-null   object\n",
      "dtypes: object(3)\n",
      "memory usage: 83.0+ KB\n"
     ]
    },
    {
     "data": {
      "text/html": [
       "<div>\n",
       "<style scoped>\n",
       "    .dataframe tbody tr th:only-of-type {\n",
       "        vertical-align: middle;\n",
       "    }\n",
       "\n",
       "    .dataframe tbody tr th {\n",
       "        vertical-align: top;\n",
       "    }\n",
       "\n",
       "    .dataframe thead th {\n",
       "        text-align: right;\n",
       "    }\n",
       "</style>\n",
       "<table border=\"1\" class=\"dataframe\">\n",
       "  <thead>\n",
       "    <tr style=\"text-align: right;\">\n",
       "      <th></th>\n",
       "      <th>textID</th>\n",
       "      <th>text</th>\n",
       "      <th>sentiment</th>\n",
       "    </tr>\n",
       "  </thead>\n",
       "  <tbody>\n",
       "    <tr>\n",
       "      <th>0</th>\n",
       "      <td>f87dea47db</td>\n",
       "      <td>Last session of the day  http://twitpic.com/67ezh</td>\n",
       "      <td>neutral</td>\n",
       "    </tr>\n",
       "    <tr>\n",
       "      <th>1</th>\n",
       "      <td>96d74cb729</td>\n",
       "      <td>Shanghai is also really exciting (precisely -...</td>\n",
       "      <td>positive</td>\n",
       "    </tr>\n",
       "    <tr>\n",
       "      <th>2</th>\n",
       "      <td>eee518ae67</td>\n",
       "      <td>Recession hit Veronique Branquinho, she has to...</td>\n",
       "      <td>negative</td>\n",
       "    </tr>\n",
       "    <tr>\n",
       "      <th>3</th>\n",
       "      <td>01082688c6</td>\n",
       "      <td>happy bday!</td>\n",
       "      <td>positive</td>\n",
       "    </tr>\n",
       "    <tr>\n",
       "      <th>4</th>\n",
       "      <td>33987a8ee5</td>\n",
       "      <td>http://twitpic.com/4w75p - I like it!!</td>\n",
       "      <td>positive</td>\n",
       "    </tr>\n",
       "  </tbody>\n",
       "</table>\n",
       "</div>"
      ],
      "text/plain": [
       "       textID                                               text sentiment\n",
       "0  f87dea47db  Last session of the day  http://twitpic.com/67ezh   neutral\n",
       "1  96d74cb729   Shanghai is also really exciting (precisely -...  positive\n",
       "2  eee518ae67  Recession hit Veronique Branquinho, she has to...  negative\n",
       "3  01082688c6                                        happy bday!  positive\n",
       "4  33987a8ee5             http://twitpic.com/4w75p - I like it!!  positive"
      ]
     },
     "execution_count": 3,
     "metadata": {},
     "output_type": "execute_result"
    }
   ],
   "source": [
    "data = pd.read_csv('/kaggle/input/tweet-sentiment-extraction-dataset/test (1).csv')\n",
    "data.info()\n",
    "data.head()"
   ]
  },
  {
   "cell_type": "code",
   "execution_count": 4,
   "id": "fc5fcc84",
   "metadata": {
    "execution": {
     "iopub.execute_input": "2025-09-06T11:54:24.627149Z",
     "iopub.status.busy": "2025-09-06T11:54:24.626748Z",
     "iopub.status.idle": "2025-09-06T11:54:24.919270Z",
     "shell.execute_reply": "2025-09-06T11:54:24.918512Z"
    },
    "papermill": {
     "duration": 0.296642,
     "end_time": "2025-09-06T11:54:24.920455",
     "exception": false,
     "start_time": "2025-09-06T11:54:24.623813",
     "status": "completed"
    },
    "tags": []
   },
   "outputs": [
    {
     "data": {
      "image/png": "[encoded data removed]",
      "text/plain": [
       "<Figure size 600x400 with 1 Axes>"
      ]
     },
     "metadata": {},
     "output_type": "display_data"
    }
   ],
   "source": [
    "# Check the labels before removing\n",
    "plt.figure(figsize=(6,4))\n",
    "data[\"sentiment\"].value_counts().plot(kind=\"bar\", color=[\"green\",\"red\",\"pink\"])\n",
    "plt.title(\"Phân bố sentiment\")\n",
    "plt.xlabel(\"Sentiment\")\n",
    "plt.ylabel(\"Số lượng mẫu\")\n",
    "plt.show()"
   ]
  },
  {
   "cell_type": "code",
   "execution_count": 5,
   "id": "2b7deff4",
   "metadata": {
    "execution": {
     "iopub.execute_input": "2025-09-06T11:54:24.927109Z",
     "iopub.status.busy": "2025-09-06T11:54:24.926869Z",
     "iopub.status.idle": "2025-09-06T11:54:25.048843Z",
     "shell.execute_reply": "2025-09-06T11:54:25.048083Z"
    },
    "papermill": {
     "duration": 0.126694,
     "end_time": "2025-09-06T11:54:25.050085",
     "exception": false,
     "start_time": "2025-09-06T11:54:24.923391",
     "status": "completed"
    },
    "tags": []
   },
   "outputs": [
    {
     "data": {
      "image/png": "[encoded data removed]",
      "text/plain": [
       "<Figure size 600x400 with 1 Axes>"
      ]
     },
     "metadata": {},
     "output_type": "display_data"
    }
   ],
   "source": [
    "# Remove sentiment neutral for decreasing time predicting\n",
    "data = data[data[\"sentiment\"] != \"neutral\"]\n",
    "# Check the labels after removing\n",
    "plt.figure(figsize=(6,4))\n",
    "data[\"sentiment\"].value_counts().plot(kind=\"bar\", color=[\"green\",\"red\",\"pink\"])\n",
    "plt.title(\"Phân bố sentiment\")\n",
    "plt.xlabel(\"Sentiment\")\n",
    "plt.ylabel(\"Số lượng mẫu\")\n",
    "plt.show()"
   ]
  },
  {
   "cell_type": "code",
   "execution_count": 6,
   "id": "3157e3f2",
   "metadata": {
    "execution": {
     "iopub.execute_input": "2025-09-06T11:54:25.057450Z",
     "iopub.status.busy": "2025-09-06T11:54:25.057215Z",
     "iopub.status.idle": "2025-09-06T11:54:25.063925Z",
     "shell.execute_reply": "2025-09-06T11:54:25.063221Z"
    },
    "papermill": {
     "duration": 0.011732,
     "end_time": "2025-09-06T11:54:25.065081",
     "exception": false,
     "start_time": "2025-09-06T11:54:25.053349",
     "status": "completed"
    },
    "tags": []
   },
   "outputs": [],
   "source": [
    "stop_words = set(stopwords.words(\"english\"))\n",
    "lemmatizer = WordNetLemmatizer()\n",
    "\n",
    "def clean_text(text):\n",
    "    text = text.lower()\n",
    "    text = re.sub(r\"http\\S+|www\\S+\", \"\", text)\n",
    "    text = text.translate(str.maketrans(\"\", \"\", string.punctuation))\n",
    "    tokens = word_tokenize(text)\n",
    "    tokens = [lemmatizer.lemmatize(w) for w in tokens if w not in stop_words]\n",
    "    return \" \".join(tokens)"
   ]
  },
  {
   "cell_type": "code",
   "execution_count": 7,
   "id": "19b690d9",
   "metadata": {
    "execution": {
     "iopub.execute_input": "2025-09-06T11:54:25.072366Z",
     "iopub.status.busy": "2025-09-06T11:54:25.071720Z",
     "iopub.status.idle": "2025-09-06T11:54:27.987541Z",
     "shell.execute_reply": "2025-09-06T11:54:27.986693Z"
    },
    "papermill": {
     "duration": 2.920635,
     "end_time": "2025-09-06T11:54:27.988814",
     "exception": false,
     "start_time": "2025-09-06T11:54:25.068179",
     "status": "completed"
    },
    "tags": []
   },
   "outputs": [
    {
     "name": "stdout",
     "output_type": "stream",
     "text": [
      "=== Original Tweet ===\n",
      " soooooo wish i could, but im in school and myspace is completely blocked\n",
      "\n",
      "=== Raw Text ===\n",
      " soooooo wish i could, but im in school and myspace is completely blocked\n",
      "\n",
      "=== Cleaned Text (NLTK) ===\n",
      "soooooo wish could im school myspace completely blocked\n"
     ]
    }
   ],
   "source": [
    "# Copy data for maintaining text\n",
    "data[\"raw_text\"] = data[\"text\"]\n",
    "\n",
    "# Preprocessed with NLTK library\n",
    "data[\"clean_text\"] = data[\"text\"].astype(str).apply(clean_text)\n",
    "\n",
    "# Print a sample for review\n",
    "first_row = data.iloc[6]\n",
    "print(\"=== Original Tweet ===\")\n",
    "print(first_row[\"text\"])\n",
    "print(\"\\n=== Raw Text ===\")\n",
    "print(first_row[\"raw_text\"])\n",
    "print(\"\\n=== Cleaned Text (NLTK) ===\")\n",
    "print(first_row[\"clean_text\"])"
   ]
  },
  {
   "cell_type": "code",
   "execution_count": 8,
   "id": "fd47b70d",
   "metadata": {
    "execution": {
     "iopub.execute_input": "2025-09-06T11:54:27.996084Z",
     "iopub.status.busy": "2025-09-06T11:54:27.995613Z",
     "iopub.status.idle": "2025-09-06T11:56:17.478663Z",
     "shell.execute_reply": "2025-09-06T11:56:17.478057Z"
    },
    "papermill": {
     "duration": 109.487989,
     "end_time": "2025-09-06T11:56:17.480044",
     "exception": false,
     "start_time": "2025-09-06T11:54:27.992055",
     "status": "completed"
    },
    "tags": []
   },
   "outputs": [
    {
     "data": {
      "application/vnd.jupyter.widget-view+json": {
       "model_id": "88b3da1f0cf24476b6bb6f648dcd5c18",
       "version_major": 2,
       "version_minor": 0
      },
      "text/plain": [
       "tokenizer_config.json: 0.00B [00:00, ?B/s]"
      ]
     },
     "metadata": {},
     "output_type": "display_data"
    },
    {
     "data": {
      "application/vnd.jupyter.widget-view+json": {
       "model_id": "dbe2f52a028741f0a2c0189e124885bf",
       "version_major": 2,
       "version_minor": 0
      },
      "text/plain": [
       "vocab.json: 0.00B [00:00, ?B/s]"
      ]
     },
     "metadata": {},
     "output_type": "display_data"
    },
    {
     "data": {
      "application/vnd.jupyter.widget-view+json": {
       "model_id": "c4e0e47ba0e14ef9a482740224589567",
       "version_major": 2,
       "version_minor": 0
      },
      "text/plain": [
       "merges.txt: 0.00B [00:00, ?B/s]"
      ]
     },
     "metadata": {},
     "output_type": "display_data"
    },
    {
     "data": {
      "application/vnd.jupyter.widget-view+json": {
       "model_id": "52d38a5176be4f4495f47f769d16ed99",
       "version_major": 2,
       "version_minor": 0
      },
      "text/plain": [
       "tokenizer.json:   0%|          | 0.00/11.4M [00:00<?, ?B/s]"
      ]
     },
     "metadata": {},
     "output_type": "display_data"
    },
    {
     "data": {
      "application/vnd.jupyter.widget-view+json": {
       "model_id": "9722610132db4cefba9032fd9b9eda86",
       "version_major": 2,
       "version_minor": 0
      },
      "text/plain": [
       "config.json:   0%|          | 0.00/727 [00:00<?, ?B/s]"
      ]
     },
     "metadata": {},
     "output_type": "display_data"
    },
    {
     "name": "stderr",
     "output_type": "stream",
     "text": [
      "2025-09-06 11:54:46.806114: E external/local_xla/xla/stream_executor/cuda/cuda_fft.cc:477] Unable to register cuFFT factory: Attempting to register factory for plugin cuFFT when one has already been registered\n",
      "WARNING: All log messages before absl::InitializeLog() is called are written to STDERR\n",
      "E0000 00:00:1757159686.996711      19 cuda_dnn.cc:8310] Unable to register cuDNN factory: Attempting to register factory for plugin cuDNN when one has already been registered\n",
      "E0000 00:00:1757159687.046986      19 cuda_blas.cc:1418] Unable to register cuBLAS factory: Attempting to register factory for plugin cuBLAS when one has already been registered\n"
     ]
    },
    {
     "data": {
      "application/vnd.jupyter.widget-view+json": {
       "model_id": "196116ff8f434b6fa91eec5602283947",
       "version_major": 2,
       "version_minor": 0
      },
      "text/plain": [
       "model.safetensors.index.json: 0.00B [00:00, ?B/s]"
      ]
     },
     "metadata": {},
     "output_type": "display_data"
    },
    {
     "data": {
      "application/vnd.jupyter.widget-view+json": {
       "model_id": "db3ce8c7d7a04f18af75702ce658a65a",
       "version_major": 2,
       "version_minor": 0
      },
      "text/plain": [
       "Fetching 3 files:   0%|          | 0/3 [00:00<?, ?it/s]"
      ]
     },
     "metadata": {},
     "output_type": "display_data"
    },
    {
     "data": {
      "application/vnd.jupyter.widget-view+json": {
       "model_id": "e10aa9fd26bb42459f1f9863244ba855",
       "version_major": 2,
       "version_minor": 0
      },
      "text/plain": [
       "model-00001-of-00003.safetensors:   0%|          | 0.00/3.96G [00:00<?, ?B/s]"
      ]
     },
     "metadata": {},
     "output_type": "display_data"
    },
    {
     "data": {
      "application/vnd.jupyter.widget-view+json": {
       "model_id": "6ad01aa56472408ba258b014fb04ca66",
       "version_major": 2,
       "version_minor": 0
      },
      "text/plain": [
       "model-00003-of-00003.safetensors:   0%|          | 0.00/99.6M [00:00<?, ?B/s]"
      ]
     },
     "metadata": {},
     "output_type": "display_data"
    },
    {
     "data": {
      "application/vnd.jupyter.widget-view+json": {
       "model_id": "0b4d3054e0e741638df536de7dd7cae7",
       "version_major": 2,
       "version_minor": 0
      },
      "text/plain": [
       "model-00002-of-00003.safetensors:   0%|          | 0.00/3.99G [00:00<?, ?B/s]"
      ]
     },
     "metadata": {},
     "output_type": "display_data"
    },
    {
     "data": {
      "application/vnd.jupyter.widget-view+json": {
       "model_id": "d6dbc15bce594aa18fe290209ea6cdf6",
       "version_major": 2,
       "version_minor": 0
      },
      "text/plain": [
       "Loading checkpoint shards:   0%|          | 0/3 [00:00<?, ?it/s]"
      ]
     },
     "metadata": {},
     "output_type": "display_data"
    },
    {
     "data": {
      "application/vnd.jupyter.widget-view+json": {
       "model_id": "60132e79fc8e49b7a09cca90eadbe961",
       "version_major": 2,
       "version_minor": 0
      },
      "text/plain": [
       "generation_config.json:   0%|          | 0.00/238 [00:00<?, ?B/s]"
      ]
     },
     "metadata": {},
     "output_type": "display_data"
    }
   ],
   "source": [
    "from transformers import AutoTokenizer, AutoModelForCausalLM\n",
    "import torch\n",
    "\n",
    "# Load Qwen3-4B-Instruct\n",
    "model_name = \"Qwen/Qwen3-4B-Instruct-2507\"\n",
    "tokenizer = AutoTokenizer.from_pretrained(model_name)\n",
    "model = AutoModelForCausalLM.from_pretrained(model_name, device_map=\"auto\")\n",
    "\n",
    "# Hàm phân loại sentiment\n",
    "def classify_sentiment(text):\n",
    "    messages = [\n",
    "    {\"role\": \"system\", \"content\": \"You are a sentiment analysis assistant. Only answer exactly 'positive' or 'negative' without explanation.\"},\n",
    "    {\"role\": \"user\", \"content\": f'Classify the following tweet sentiment:\\n\\n\"{text}\"'}\n",
    "    ]\n",
    "\n",
    "    inputs = tokenizer.apply_chat_template(\n",
    "        messages,\n",
    "        add_generation_prompt=True,\n",
    "        return_tensors=\"pt\",\n",
    "        return_dict=True\n",
    "    ).to(model.device)\n",
    "\n",
    "    outputs = model.generate(**inputs, max_new_tokens=20)\n",
    "    response = outputs[0][inputs[\"input_ids\"].shape[-1]:]  # chỉ lấy phần model sinh\n",
    "    return tokenizer.decode(response, skip_special_tokens=True).strip()"
   ]
  },
  {
   "cell_type": "code",
   "execution_count": 9,
   "id": "6d00fb73",
   "metadata": {
    "execution": {
     "iopub.execute_input": "2025-09-06T11:56:17.490933Z",
     "iopub.status.busy": "2025-09-06T11:56:17.490241Z",
     "iopub.status.idle": "2025-09-06T11:56:20.424791Z",
     "shell.execute_reply": "2025-09-06T11:56:20.423872Z"
    },
    "papermill": {
     "duration": 2.940418,
     "end_time": "2025-09-06T11:56:20.425991",
     "exception": false,
     "start_time": "2025-09-06T11:56:17.485573",
     "status": "completed"
    },
    "tags": []
   },
   "outputs": [
    {
     "name": "stdout",
     "output_type": "stream",
     "text": [
      "=== RAW TEXT ===\n",
      " Shanghai is also really exciting (precisely -- skyscrapers galore). Good tweeps in China:  (SH)  (BJ).\n",
      "Predicted: positive\n",
      "\n",
      "=== CLEANED TEXT ===\n",
      "shanghai also really exciting precisely skyscraper galore good tweeps china sh bj\n",
      "Predicted: positive\n"
     ]
    }
   ],
   "source": [
    "# Test trên raw và cleaned cho 1 sample\n",
    "first_row = data.iloc[0]\n",
    "raw_text = first_row[\"raw_text\"]\n",
    "clean_text = first_row[\"clean_text\"]\n",
    "\n",
    "print(\"=== RAW TEXT ===\")\n",
    "print(raw_text)\n",
    "print(\"Predicted:\", classify_sentiment(raw_text))\n",
    "\n",
    "print(\"\\n=== CLEANED TEXT ===\")\n",
    "print(clean_text)\n",
    "print(\"Predicted:\", classify_sentiment(clean_text))"
   ]
  },
  {
   "cell_type": "code",
   "execution_count": 10,
   "id": "aae139bb",
   "metadata": {
    "execution": {
     "iopub.execute_input": "2025-09-06T11:56:20.435385Z",
     "iopub.status.busy": "2025-09-06T11:56:20.435180Z",
     "iopub.status.idle": "2025-09-06T11:56:20.446417Z",
     "shell.execute_reply": "2025-09-06T11:56:20.445646Z"
    },
    "papermill": {
     "duration": 0.017058,
     "end_time": "2025-09-06T11:56:20.447431",
     "exception": false,
     "start_time": "2025-09-06T11:56:20.430373",
     "status": "completed"
    },
    "tags": []
   },
   "outputs": [
    {
     "name": "stdout",
     "output_type": "stream",
     "text": [
      "<class 'pandas.core.frame.DataFrame'>\n",
      "Index: 2104 entries, 1 to 3533\n",
      "Data columns (total 5 columns):\n",
      " #   Column      Non-Null Count  Dtype \n",
      "---  ------      --------------  ----- \n",
      " 0   textID      2104 non-null   object\n",
      " 1   text        2104 non-null   object\n",
      " 2   sentiment   2104 non-null   object\n",
      " 3   raw_text    2104 non-null   object\n",
      " 4   clean_text  2104 non-null   object\n",
      "dtypes: object(5)\n",
      "memory usage: 98.6+ KB\n"
     ]
    }
   ],
   "source": [
    "data.info()"
   ]
  },
  {
   "cell_type": "code",
   "execution_count": 11,
   "id": "ee95bba0",
   "metadata": {
    "execution": {
     "iopub.execute_input": "2025-09-06T11:56:20.456361Z",
     "iopub.status.busy": "2025-09-06T11:56:20.456173Z",
     "iopub.status.idle": "2025-09-06T12:25:56.960239Z",
     "shell.execute_reply": "2025-09-06T12:25:56.959440Z"
    },
    "papermill": {
     "duration": 1776.510307,
     "end_time": "2025-09-06T12:25:56.961858",
     "exception": false,
     "start_time": "2025-09-06T11:56:20.451551",
     "status": "completed"
    },
    "tags": []
   },
   "outputs": [
    {
     "name": "stderr",
     "output_type": "stream",
     "text": [
      "  0%|          | 1/1000 [00:01<30:14,  1.82s/it]"
     ]
    },
    {
     "name": "stdout",
     "output_type": "stream",
     "text": [
      "\n",
      "=== Sample 1/1000 ===\n",
      "RAW TEXT:  Shanghai is also really exciting (precisely -- skyscrapers galore). Good tweeps in China:  (SH)  (BJ).\n",
      "Predicted RAW: positive\n",
      "CLEANED TEXT: shanghai also really exciting precisely skyscraper galore good tweeps china sh bj\n",
      "Predicted CLEAN: positive\n",
      "TRUE SENTIMENT: positive\n"
     ]
    },
    {
     "name": "stderr",
     "output_type": "stream",
     "text": [
      "  0%|          | 2/1000 [00:03<29:24,  1.77s/it]"
     ]
    },
    {
     "name": "stdout",
     "output_type": "stream",
     "text": [
      "\n",
      "=== Sample 2/1000 ===\n",
      "RAW TEXT: Recession hit Veronique Branquinho, she has to quit her company, such a shame!\n",
      "Predicted RAW: negative\n",
      "CLEANED TEXT: recession hit veronique branquinho quit company shame\n",
      "Predicted CLEAN: negative\n",
      "TRUE SENTIMENT: negative\n"
     ]
    },
    {
     "name": "stderr",
     "output_type": "stream",
     "text": [
      "  0%|          | 3/1000 [00:05<29:17,  1.76s/it]"
     ]
    },
    {
     "name": "stdout",
     "output_type": "stream",
     "text": [
      "\n",
      "=== Sample 3/1000 ===\n",
      "RAW TEXT:  happy bday!\n",
      "Predicted RAW: positive\n",
      "CLEANED TEXT: happy bday\n",
      "Predicted CLEAN: positive\n",
      "TRUE SENTIMENT: positive\n"
     ]
    },
    {
     "name": "stderr",
     "output_type": "stream",
     "text": [
      "  0%|          | 4/1000 [00:07<29:09,  1.76s/it]"
     ]
    },
    {
     "name": "stdout",
     "output_type": "stream",
     "text": [
      "\n",
      "=== Sample 4/1000 ===\n",
      "RAW TEXT:  http://twitpic.com/4w75p - I like it!!\n",
      "Predicted RAW: positive\n",
      "CLEANED TEXT: like\n",
      "Predicted CLEAN: positive\n",
      "TRUE SENTIMENT: positive\n"
     ]
    },
    {
     "name": "stderr",
     "output_type": "stream",
     "text": [
      "  0%|          | 5/1000 [00:08<28:58,  1.75s/it]"
     ]
    },
    {
     "name": "stdout",
     "output_type": "stream",
     "text": [
      "\n",
      "=== Sample 5/1000 ===\n",
      "RAW TEXT:  that`s great!! weee!! visitors!\n",
      "Predicted RAW: positive\n",
      "CLEANED TEXT: thats great weee visitor\n",
      "Predicted CLEAN: positive\n",
      "TRUE SENTIMENT: positive\n"
     ]
    },
    {
     "name": "stderr",
     "output_type": "stream",
     "text": [
      "  1%|          | 6/1000 [00:10<28:54,  1.74s/it]"
     ]
    },
    {
     "name": "stdout",
     "output_type": "stream",
     "text": [
      "\n",
      "=== Sample 6/1000 ===\n",
      "RAW TEXT: I THINK EVERYONE HATES ME ON HERE   lol\n",
      "Predicted RAW: negative\n",
      "CLEANED TEXT: think everyone hate lol\n",
      "Predicted CLEAN: negative\n",
      "TRUE SENTIMENT: negative\n"
     ]
    },
    {
     "name": "stderr",
     "output_type": "stream",
     "text": [
      "  1%|          | 7/1000 [00:12<28:49,  1.74s/it]"
     ]
    },
    {
     "name": "stdout",
     "output_type": "stream",
     "text": [
      "\n",
      "=== Sample 7/1000 ===\n",
      "RAW TEXT:  soooooo wish i could, but im in school and myspace is completely blocked\n",
      "Predicted RAW: negative\n",
      "CLEANED TEXT: soooooo wish could im school myspace completely blocked\n",
      "Predicted CLEAN: negative\n",
      "TRUE SENTIMENT: negative\n"
     ]
    },
    {
     "name": "stderr",
     "output_type": "stream",
     "text": [
      "  1%|          | 8/1000 [00:14<28:47,  1.74s/it]"
     ]
    },
    {
     "name": "stdout",
     "output_type": "stream",
     "text": [
      "\n",
      "=== Sample 8/1000 ===\n",
      "RAW TEXT: My bike was put on hold...should have known that.... argh total bummer\n",
      "Predicted RAW: negative\n",
      "CLEANED TEXT: bike put holdshould known argh total bummer\n",
      "Predicted CLEAN: negative\n",
      "TRUE SENTIMENT: negative\n"
     ]
    },
    {
     "name": "stderr",
     "output_type": "stream",
     "text": [
      "  1%|          | 9/1000 [00:15<29:22,  1.78s/it]"
     ]
    },
    {
     "name": "stdout",
     "output_type": "stream",
     "text": [
      "\n",
      "=== Sample 9/1000 ===\n",
      "RAW TEXT: I`m in VA for the weekend, my youngest son turns 2 tomorrow......it makes me kinda sad, he is getting so big, check out my twipics\n",
      "Predicted RAW: negative\n",
      "CLEANED TEXT: im va weekend youngest son turn 2 tomorrowit make kinda sad getting big check twipics\n",
      "Predicted CLEAN: negative\n",
      "TRUE SENTIMENT: negative\n"
     ]
    },
    {
     "name": "stderr",
     "output_type": "stream",
     "text": [
      "  1%|          | 10/1000 [00:17<29:35,  1.79s/it]"
     ]
    },
    {
     "name": "stdout",
     "output_type": "stream",
     "text": [
      "\n",
      "=== Sample 10/1000 ===\n",
      "RAW TEXT: Its coming out the socket  I feel like my phones hole is not a virgin. That`s how loose it is... :`(\n",
      "Predicted RAW: negative\n",
      "CLEANED TEXT: coming socket feel like phone hole virgin thats loose\n",
      "Predicted CLEAN: negative\n",
      "TRUE SENTIMENT: negative\n"
     ]
    },
    {
     "name": "stderr",
     "output_type": "stream",
     "text": [
      "  1%|          | 11/1000 [00:19<29:18,  1.78s/it]"
     ]
    },
    {
     "name": "stdout",
     "output_type": "stream",
     "text": [
      "\n",
      "=== Sample 11/1000 ===\n",
      "RAW TEXT: So hot today =_=  don`t like it and i hate my new timetable, having such a bad week\n",
      "Predicted RAW: negative\n",
      "CLEANED TEXT: hot today dont like hate new timetable bad week\n",
      "Predicted CLEAN: negative\n",
      "TRUE SENTIMENT: negative\n"
     ]
    },
    {
     "name": "stderr",
     "output_type": "stream",
     "text": [
      "  1%|          | 12/1000 [00:21<29:04,  1.77s/it]"
     ]
    },
    {
     "name": "stdout",
     "output_type": "stream",
     "text": [
      "\n",
      "=== Sample 12/1000 ===\n",
      "RAW TEXT:  Miss you\n",
      "Predicted RAW: positive\n",
      "CLEANED TEXT: miss\n",
      "Predicted CLEAN: negative\n",
      "TRUE SENTIMENT: negative\n"
     ]
    },
    {
     "name": "stderr",
     "output_type": "stream",
     "text": [
      "  1%|▏         | 13/1000 [00:22<28:54,  1.76s/it]"
     ]
    },
    {
     "name": "stdout",
     "output_type": "stream",
     "text": [
      "\n",
      "=== Sample 13/1000 ===\n",
      "RAW TEXT: Cramps . . .\n",
      "Predicted RAW: negative\n",
      "CLEANED TEXT: cramp\n",
      "Predicted CLEAN: negative\n",
      "TRUE SENTIMENT: negative\n"
     ]
    },
    {
     "name": "stderr",
     "output_type": "stream",
     "text": [
      "  1%|▏         | 14/1000 [00:24<28:52,  1.76s/it]"
     ]
    },
    {
     "name": "stdout",
     "output_type": "stream",
     "text": [
      "\n",
      "=== Sample 14/1000 ===\n",
      "RAW TEXT:  you guys didn`t say hi or answer my questions yesterday  but nice songs.\n",
      "Predicted RAW: negative\n",
      "CLEANED TEXT: guy didnt say hi answer question yesterday nice song\n",
      "Predicted CLEAN: positive\n",
      "TRUE SENTIMENT: positive\n"
     ]
    },
    {
     "name": "stderr",
     "output_type": "stream",
     "text": [
      "  2%|▏         | 15/1000 [00:26<28:48,  1.75s/it]"
     ]
    },
    {
     "name": "stdout",
     "output_type": "stream",
     "text": [
      "\n",
      "=== Sample 15/1000 ===\n",
      "RAW TEXT: Stupid storm. No river for us tonight\n",
      "Predicted RAW: negative\n",
      "CLEANED TEXT: stupid storm river u tonight\n",
      "Predicted CLEAN: negative\n",
      "TRUE SENTIMENT: negative\n"
     ]
    },
    {
     "name": "stderr",
     "output_type": "stream",
     "text": [
      "  2%|▏         | 16/1000 [00:28<28:42,  1.75s/it]"
     ]
    },
    {
     "name": "stdout",
     "output_type": "stream",
     "text": [
      "\n",
      "=== Sample 16/1000 ===\n",
      "RAW TEXT: My dead grandpa pays more attention to me than you do\n",
      "Predicted RAW: negative\n",
      "CLEANED TEXT: dead grandpa pay attention\n",
      "Predicted CLEAN: negative\n",
      "TRUE SENTIMENT: negative\n"
     ]
    },
    {
     "name": "stderr",
     "output_type": "stream",
     "text": [
      "  2%|▏         | 17/1000 [00:29<28:40,  1.75s/it]"
     ]
    },
    {
     "name": "stdout",
     "output_type": "stream",
     "text": [
      "\n",
      "=== Sample 17/1000 ===\n",
      "RAW TEXT: ... need retail therapy, bad. AHHH.....gimme money geebus\n",
      "Predicted RAW: negative\n",
      "CLEANED TEXT: need retail therapy bad ahhhgimme money geebus\n",
      "Predicted CLEAN: negative\n",
      "TRUE SENTIMENT: negative\n"
     ]
    },
    {
     "name": "stderr",
     "output_type": "stream",
     "text": [
      "  2%|▏         | 18/1000 [00:31<28:36,  1.75s/it]"
     ]
    },
    {
     "name": "stdout",
     "output_type": "stream",
     "text": [
      "\n",
      "=== Sample 18/1000 ===\n",
      "RAW TEXT:  you are lame  go make me breakfast!!\n",
      "Predicted RAW: negative\n",
      "CLEANED TEXT: lame go make breakfast\n",
      "Predicted CLEAN: negative\n",
      "TRUE SENTIMENT: negative\n"
     ]
    },
    {
     "name": "stderr",
     "output_type": "stream",
     "text": [
      "  2%|▏         | 19/1000 [00:33<28:33,  1.75s/it]"
     ]
    },
    {
     "name": "stdout",
     "output_type": "stream",
     "text": [
      "\n",
      "=== Sample 19/1000 ===\n",
      "RAW TEXT:  thats so cool\n",
      "Predicted RAW: positive\n",
      "CLEANED TEXT: thats cool\n",
      "Predicted CLEAN: positive\n",
      "TRUE SENTIMENT: positive\n"
     ]
    },
    {
     "name": "stderr",
     "output_type": "stream",
     "text": [
      "  2%|▏         | 20/1000 [00:35<28:29,  1.74s/it]"
     ]
    },
    {
     "name": "stdout",
     "output_type": "stream",
     "text": [
      "\n",
      "=== Sample 20/1000 ===\n",
      "RAW TEXT:  look who I found just for you  --->  http://twitter.com/DJT2009\n",
      "Predicted RAW: positive\n",
      "CLEANED TEXT: look found\n",
      "Predicted CLEAN: positive\n",
      "TRUE SENTIMENT: positive\n"
     ]
    },
    {
     "name": "stderr",
     "output_type": "stream",
     "text": [
      "  2%|▏         | 21/1000 [00:36<28:23,  1.74s/it]"
     ]
    },
    {
     "name": "stdout",
     "output_type": "stream",
     "text": [
      "\n",
      "=== Sample 21/1000 ===\n",
      "RAW TEXT: No AC, the fan doesnt swing our way ... we are sweating it out on a hot humid day\n",
      "Predicted RAW: negative\n",
      "CLEANED TEXT: ac fan doesnt swing way sweating hot humid day\n",
      "Predicted CLEAN: negative\n",
      "TRUE SENTIMENT: negative\n"
     ]
    },
    {
     "name": "stderr",
     "output_type": "stream",
     "text": [
      "  2%|▏         | 22/1000 [00:38<28:18,  1.74s/it]"
     ]
    },
    {
     "name": "stdout",
     "output_type": "stream",
     "text": [
      "\n",
      "=== Sample 22/1000 ===\n",
      "RAW TEXT: Watching Body of Lies...good film\n",
      "Predicted RAW: positive\n",
      "CLEANED TEXT: watching body liesgood film\n",
      "Predicted CLEAN: positive\n",
      "TRUE SENTIMENT: positive\n"
     ]
    },
    {
     "name": "stderr",
     "output_type": "stream",
     "text": [
      "  2%|▏         | 23/1000 [00:40<28:13,  1.73s/it]"
     ]
    },
    {
     "name": "stdout",
     "output_type": "stream",
     "text": [
      "\n",
      "=== Sample 23/1000 ===\n",
      "RAW TEXT: Happy mothers day mumm  xoxo\n",
      "Predicted RAW: positive\n",
      "CLEANED TEXT: happy mother day mumm xoxo\n",
      "Predicted CLEAN: positive\n",
      "TRUE SENTIMENT: positive\n"
     ]
    },
    {
     "name": "stderr",
     "output_type": "stream",
     "text": [
      "  2%|▏         | 24/1000 [00:42<28:18,  1.74s/it]"
     ]
    },
    {
     "name": "stdout",
     "output_type": "stream",
     "text": [
      "\n",
      "=== Sample 24/1000 ===\n",
      "RAW TEXT:  I`m sorry  at least it`s Friday?\n",
      "Predicted RAW: negative\n",
      "CLEANED TEXT: im sorry least friday\n",
      "Predicted CLEAN: negative\n",
      "TRUE SENTIMENT: negative\n"
     ]
    },
    {
     "name": "stderr",
     "output_type": "stream",
     "text": [
      "  2%|▎         | 25/1000 [00:43<28:19,  1.74s/it]"
     ]
    },
    {
     "name": "stdout",
     "output_type": "stream",
     "text": [
      "\n",
      "=== Sample 25/1000 ===\n",
      "RAW TEXT: feels sorry every time I`m printing out, I use like 200 new papers\n",
      "Predicted RAW: negative\n",
      "CLEANED TEXT: feel sorry every time im printing use like 200 new paper\n",
      "Predicted CLEAN: negative\n",
      "TRUE SENTIMENT: negative\n"
     ]
    },
    {
     "name": "stderr",
     "output_type": "stream",
     "text": [
      "  3%|▎         | 26/1000 [00:45<28:25,  1.75s/it]"
     ]
    },
    {
     "name": "stdout",
     "output_type": "stream",
     "text": [
      "\n",
      "=== Sample 26/1000 ===\n",
      "RAW TEXT:  4n? ma rog  never heard of it  esti beat acum? u tweet too much\n",
      "Predicted RAW: negative\n",
      "CLEANED TEXT: 4n rog never heard esti beat acum u tweet much\n",
      "Predicted CLEAN: negative\n",
      "TRUE SENTIMENT: negative\n"
     ]
    },
    {
     "name": "stderr",
     "output_type": "stream",
     "text": [
      "  3%|▎         | 27/1000 [00:47<28:18,  1.75s/it]"
     ]
    },
    {
     "name": "stdout",
     "output_type": "stream",
     "text": [
      "\n",
      "=== Sample 27/1000 ===\n",
      "RAW TEXT:  Hi there.  I agree!  Small children should be running about happy, not breaking down in tears\n",
      "Predicted RAW: positive\n",
      "CLEANED TEXT: hi agree small child running happy breaking tear\n",
      "Predicted CLEAN: positive\n",
      "TRUE SENTIMENT: positive\n"
     ]
    },
    {
     "name": "stderr",
     "output_type": "stream",
     "text": [
      "  3%|▎         | 28/1000 [00:49<28:10,  1.74s/it]"
     ]
    },
    {
     "name": "stdout",
     "output_type": "stream",
     "text": [
      "\n",
      "=== Sample 28/1000 ===\n",
      "RAW TEXT:   Hope ur havin fun in da club\n",
      "Predicted RAW: positive\n",
      "CLEANED TEXT: hope ur havin fun da club\n",
      "Predicted CLEAN: positive\n",
      "TRUE SENTIMENT: positive\n"
     ]
    },
    {
     "name": "stderr",
     "output_type": "stream",
     "text": [
      "  3%|▎         | 29/1000 [00:50<28:08,  1.74s/it]"
     ]
    },
    {
     "name": "stdout",
     "output_type": "stream",
     "text": [
      "\n",
      "=== Sample 29/1000 ===\n",
      "RAW TEXT: thinks SG is wonderful\n",
      "Predicted RAW: positive\n",
      "CLEANED TEXT: think sg wonderful\n",
      "Predicted CLEAN: positive\n",
      "TRUE SENTIMENT: positive\n"
     ]
    },
    {
     "name": "stderr",
     "output_type": "stream",
     "text": [
      "  3%|▎         | 30/1000 [00:52<28:09,  1.74s/it]"
     ]
    },
    {
     "name": "stdout",
     "output_type": "stream",
     "text": [
      "\n",
      "=== Sample 30/1000 ===\n",
      "RAW TEXT:   im really sorry i know wallah how u feel this life is shittttttttt\n",
      "Predicted RAW: negative\n",
      "CLEANED TEXT: im really sorry know wallah u feel life shittttttttt\n",
      "Predicted CLEAN: negative\n",
      "TRUE SENTIMENT: negative\n"
     ]
    },
    {
     "name": "stderr",
     "output_type": "stream",
     "text": [
      "  3%|▎         | 31/1000 [00:54<28:11,  1.75s/it]"
     ]
    },
    {
     "name": "stdout",
     "output_type": "stream",
     "text": [
      "\n",
      "=== Sample 31/1000 ===\n",
      "RAW TEXT: Not happy\n",
      "Predicted RAW: negative\n",
      "CLEANED TEXT: happy\n",
      "Predicted CLEAN: positive\n",
      "TRUE SENTIMENT: negative\n"
     ]
    },
    {
     "name": "stderr",
     "output_type": "stream",
     "text": [
      "  3%|▎         | 32/1000 [00:56<28:15,  1.75s/it]"
     ]
    },
    {
     "name": "stdout",
     "output_type": "stream",
     "text": [
      "\n",
      "=== Sample 32/1000 ===\n",
      "RAW TEXT: I`m so very tired...and have insomnia.\n",
      "Predicted RAW: negative\n",
      "CLEANED TEXT: im tiredand insomnia\n",
      "Predicted CLEAN: negative\n",
      "TRUE SENTIMENT: negative\n"
     ]
    },
    {
     "name": "stderr",
     "output_type": "stream",
     "text": [
      "  3%|▎         | 33/1000 [00:57<28:09,  1.75s/it]"
     ]
    },
    {
     "name": "stdout",
     "output_type": "stream",
     "text": [
      "\n",
      "=== Sample 33/1000 ===\n",
      "RAW TEXT:  Thanks Ennio\n",
      "Predicted RAW: positive\n",
      "CLEANED TEXT: thanks ennio\n",
      "Predicted CLEAN: positive\n",
      "TRUE SENTIMENT: positive\n"
     ]
    },
    {
     "name": "stderr",
     "output_type": "stream",
     "text": [
      "  3%|▎         | 34/1000 [00:59<28:09,  1.75s/it]"
     ]
    },
    {
     "name": "stdout",
     "output_type": "stream",
     "text": [
      "\n",
      "=== Sample 34/1000 ===\n",
      "RAW TEXT:  You seem nice, you`re generous and you know your stuff\n",
      "Predicted RAW: positive\n",
      "CLEANED TEXT: seem nice youre generous know stuff\n",
      "Predicted CLEAN: positive\n",
      "TRUE SENTIMENT: positive\n"
     ]
    },
    {
     "name": "stderr",
     "output_type": "stream",
     "text": [
      "  4%|▎         | 35/1000 [01:01<28:09,  1.75s/it]"
     ]
    },
    {
     "name": "stdout",
     "output_type": "stream",
     "text": [
      "\n",
      "=== Sample 35/1000 ===\n",
      "RAW TEXT:    Caladesi was definitely a nice peaceful way to spend a Sunday! I got a lil tan!\n",
      "Predicted RAW: positive\n",
      "CLEANED TEXT: caladesi definitely nice peaceful way spend sunday got lil tan\n",
      "Predicted CLEAN: positive\n",
      "TRUE SENTIMENT: positive\n"
     ]
    },
    {
     "name": "stderr",
     "output_type": "stream",
     "text": [
      "  4%|▎         | 36/1000 [01:03<28:10,  1.75s/it]"
     ]
    },
    {
     "name": "stdout",
     "output_type": "stream",
     "text": [
      "\n",
      "=== Sample 36/1000 ===\n",
      "RAW TEXT: Dear rain, you suck. Now I gotta change my plans for tonight\n",
      "Predicted RAW: negative\n",
      "CLEANED TEXT: dear rain suck got ta change plan tonight\n",
      "Predicted CLEAN: negative\n",
      "TRUE SENTIMENT: negative\n"
     ]
    },
    {
     "name": "stderr",
     "output_type": "stream",
     "text": [
      "  4%|▎         | 37/1000 [01:04<28:10,  1.76s/it]"
     ]
    },
    {
     "name": "stdout",
     "output_type": "stream",
     "text": [
      "\n",
      "=== Sample 37/1000 ===\n",
      "RAW TEXT: I just cried whilst watching hollyoaks  .. i need a life! lol\n",
      "Predicted RAW: negative\n",
      "CLEANED TEXT: cried whilst watching hollyoaks need life lol\n",
      "Predicted CLEAN: positive\n",
      "TRUE SENTIMENT: negative\n"
     ]
    },
    {
     "name": "stderr",
     "output_type": "stream",
     "text": [
      "  4%|▍         | 38/1000 [01:06<28:35,  1.78s/it]"
     ]
    },
    {
     "name": "stdout",
     "output_type": "stream",
     "text": [
      "\n",
      "=== Sample 38/1000 ===\n",
      "RAW TEXT: Hi all, just recovering from a party, looking forward to an exciting bank holiday around the diy shops...life cant get much better.surely\n",
      "Predicted RAW: positive\n",
      "CLEANED TEXT: hi recovering party looking forward exciting bank holiday around diy shopslife cant get much bettersurely\n",
      "Predicted CLEAN: positive\n",
      "TRUE SENTIMENT: positive\n"
     ]
    },
    {
     "name": "stderr",
     "output_type": "stream",
     "text": [
      "  4%|▍         | 39/1000 [01:08<28:47,  1.80s/it]"
     ]
    },
    {
     "name": "stdout",
     "output_type": "stream",
     "text": [
      "\n",
      "=== Sample 39/1000 ===\n",
      "RAW TEXT:  for...the...loss. dumbface  ...him, not u. what u up to on the wknd? i wanna seeeeeee ya!\n",
      "Predicted RAW: positive\n",
      "CLEANED TEXT: fortheloss dumbface u u wknd wan na seeeeeee ya\n",
      "Predicted CLEAN: negative\n",
      "TRUE SENTIMENT: negative\n"
     ]
    },
    {
     "name": "stderr",
     "output_type": "stream",
     "text": [
      "  4%|▍         | 40/1000 [01:10<28:31,  1.78s/it]"
     ]
    },
    {
     "name": "stdout",
     "output_type": "stream",
     "text": [
      "\n",
      "=== Sample 40/1000 ===\n",
      "RAW TEXT: On the monday, so i wont be able to be with you!  i love you\n",
      "Predicted RAW: positive\n",
      "CLEANED TEXT: monday wont able love\n",
      "Predicted CLEAN: negative\n",
      "TRUE SENTIMENT: positive\n"
     ]
    },
    {
     "name": "stderr",
     "output_type": "stream",
     "text": [
      "  4%|▍         | 41/1000 [01:12<28:43,  1.80s/it]"
     ]
    },
    {
     "name": "stdout",
     "output_type": "stream",
     "text": [
      "\n",
      "=== Sample 41/1000 ===\n",
      "RAW TEXT:  Ur so cute..I`m a fan of Dream A Little Dream, This Kiss and appearances like in Dawson`s Creek  Make more flicks!\n",
      "Predicted RAW: positive\n",
      "CLEANED TEXT: ur cuteim fan dream little dream kiss appearance like dawson creek make flick\n",
      "Predicted CLEAN: positive\n",
      "TRUE SENTIMENT: positive\n"
     ]
    },
    {
     "name": "stderr",
     "output_type": "stream",
     "text": [
      "  4%|▍         | 42/1000 [01:13<28:23,  1.78s/it]"
     ]
    },
    {
     "name": "stdout",
     "output_type": "stream",
     "text": [
      "\n",
      "=== Sample 42/1000 ===\n",
      "RAW TEXT: _LaMont yr very young looking dude\n",
      "Predicted RAW: positive\n",
      "CLEANED TEXT: lamont yr young looking dude\n",
      "Predicted CLEAN: positive\n",
      "TRUE SENTIMENT: positive\n"
     ]
    },
    {
     "name": "stderr",
     "output_type": "stream",
     "text": [
      "  4%|▍         | 43/1000 [01:15<28:14,  1.77s/it]"
     ]
    },
    {
     "name": "stdout",
     "output_type": "stream",
     "text": [
      "\n",
      "=== Sample 43/1000 ===\n",
      "RAW TEXT: : hmmm, wrong link, ignore my tweet\n",
      "Predicted RAW: negative\n",
      "CLEANED TEXT: hmmm wrong link ignore tweet\n",
      "Predicted CLEAN: negative\n",
      "TRUE SENTIMENT: negative\n"
     ]
    },
    {
     "name": "stderr",
     "output_type": "stream",
     "text": [
      "  4%|▍         | 44/1000 [01:17<28:05,  1.76s/it]"
     ]
    },
    {
     "name": "stdout",
     "output_type": "stream",
     "text": [
      "\n",
      "=== Sample 44/1000 ===\n",
      "RAW TEXT: AT&T cheated the system and now I have no Green Day tickets  **** you AT&T!\n",
      "Predicted RAW: negative\n",
      "CLEANED TEXT: att cheated system green day ticket att\n",
      "Predicted CLEAN: negative\n",
      "TRUE SENTIMENT: negative\n"
     ]
    },
    {
     "name": "stderr",
     "output_type": "stream",
     "text": [
      "  4%|▍         | 45/1000 [01:19<27:57,  1.76s/it]"
     ]
    },
    {
     "name": "stdout",
     "output_type": "stream",
     "text": [
      "\n",
      "=== Sample 45/1000 ===\n",
      "RAW TEXT: Tracy and Berwick breaks my achy breaky heart  They split ways in the hallways.\n",
      "Predicted RAW: negative\n",
      "CLEANED TEXT: tracy berwick break achy breaky heart split way hallway\n",
      "Predicted CLEAN: negative\n",
      "TRUE SENTIMENT: negative\n"
     ]
    },
    {
     "name": "stderr",
     "output_type": "stream",
     "text": [
      "  5%|▍         | 46/1000 [01:20<27:48,  1.75s/it]"
     ]
    },
    {
     "name": "stdout",
     "output_type": "stream",
     "text": [
      "\n",
      "=== Sample 46/1000 ===\n",
      "RAW TEXT:  yep, i wish they were all playing dubiln\n",
      "Predicted RAW: negative\n",
      "CLEANED TEXT: yep wish playing dubiln\n",
      "Predicted CLEAN: negative\n",
      "TRUE SENTIMENT: positive\n"
     ]
    },
    {
     "name": "stderr",
     "output_type": "stream",
     "text": [
      "  5%|▍         | 47/1000 [01:22<28:06,  1.77s/it]"
     ]
    },
    {
     "name": "stdout",
     "output_type": "stream",
     "text": [
      "\n",
      "=== Sample 47/1000 ===\n",
      "RAW TEXT:  Yay for Block Party!  You`re the BOMB! Blockheads <3 Dave!   Thanks for supporting NKOTB!\n",
      "Predicted RAW: positive\n",
      "CLEANED TEXT: yay block party youre bomb blockhead 3 dave thanks supporting nkotb\n",
      "Predicted CLEAN: positive\n",
      "TRUE SENTIMENT: positive\n"
     ]
    },
    {
     "name": "stderr",
     "output_type": "stream",
     "text": [
      "  5%|▍         | 48/1000 [01:24<27:59,  1.76s/it]"
     ]
    },
    {
     "name": "stdout",
     "output_type": "stream",
     "text": [
      "\n",
      "=== Sample 48/1000 ===\n",
      "RAW TEXT: Happy Birthday Snickers!!!! ? I hope you have the best day ever! Let`s go shopping!!!\n",
      "Predicted RAW: positive\n",
      "CLEANED TEXT: happy birthday snicker hope best day ever let go shopping\n",
      "Predicted CLEAN: positive\n",
      "TRUE SENTIMENT: positive\n"
     ]
    },
    {
     "name": "stderr",
     "output_type": "stream",
     "text": [
      "  5%|▍         | 49/1000 [01:26<27:57,  1.76s/it]"
     ]
    },
    {
     "name": "stdout",
     "output_type": "stream",
     "text": [
      "\n",
      "=== Sample 49/1000 ===\n",
      "RAW TEXT:  Thank you!  I`m working on `s\n",
      "Predicted RAW: positive\n",
      "CLEANED TEXT: thank im working\n",
      "Predicted CLEAN: positive\n",
      "TRUE SENTIMENT: positive\n"
     ]
    },
    {
     "name": "stderr",
     "output_type": "stream",
     "text": [
      "  5%|▌         | 50/1000 [01:27<27:49,  1.76s/it]"
     ]
    },
    {
     "name": "stdout",
     "output_type": "stream",
     "text": [
      "\n",
      "=== Sample 50/1000 ===\n",
      "RAW TEXT: Not feeling all that well today\n",
      "Predicted RAW: negative\n",
      "CLEANED TEXT: feeling well today\n",
      "Predicted CLEAN: positive\n",
      "TRUE SENTIMENT: negative\n"
     ]
    },
    {
     "name": "stderr",
     "output_type": "stream",
     "text": [
      "  5%|▌         | 51/1000 [01:29<28:07,  1.78s/it]"
     ]
    },
    {
     "name": "stdout",
     "output_type": "stream",
     "text": [
      "\n",
      "=== Sample 51/1000 ===\n",
      "RAW TEXT: http://twitpic.com/4wp8s - My ear hurts, and THIS is my medicine. GUM\n",
      "Predicted RAW: negative\n",
      "CLEANED TEXT: ear hurt medicine gum\n",
      "Predicted CLEAN: negative\n",
      "TRUE SENTIMENT: negative\n"
     ]
    },
    {
     "name": "stderr",
     "output_type": "stream",
     "text": [
      "  5%|▌         | 52/1000 [01:31<27:56,  1.77s/it]"
     ]
    },
    {
     "name": "stdout",
     "output_type": "stream",
     "text": [
      "\n",
      "=== Sample 52/1000 ===\n",
      "RAW TEXT: The underwire in my bra is sticking out and poking me in the armpit\n",
      "Predicted RAW: negative\n",
      "CLEANED TEXT: underwire bra sticking poking armpit\n",
      "Predicted CLEAN: negative\n",
      "TRUE SENTIMENT: negative\n"
     ]
    },
    {
     "name": "stderr",
     "output_type": "stream",
     "text": [
      "  5%|▌         | 53/1000 [01:33<27:46,  1.76s/it]"
     ]
    },
    {
     "name": "stdout",
     "output_type": "stream",
     "text": [
      "\n",
      "=== Sample 53/1000 ===\n",
      "RAW TEXT: Happy Mothers Day!!!\n",
      "Predicted RAW: positive\n",
      "CLEANED TEXT: happy mother day\n",
      "Predicted CLEAN: positive\n",
      "TRUE SENTIMENT: positive\n"
     ]
    },
    {
     "name": "stderr",
     "output_type": "stream",
     "text": [
      "  5%|▌         | 54/1000 [01:34<27:45,  1.76s/it]"
     ]
    },
    {
     "name": "stdout",
     "output_type": "stream",
     "text": [
      "\n",
      "=== Sample 54/1000 ===\n",
      "RAW TEXT: Happy star wars day! May the fourth be with you\n",
      "Predicted RAW: positive\n",
      "CLEANED TEXT: happy star war day may fourth\n",
      "Predicted CLEAN: positive\n",
      "TRUE SENTIMENT: positive\n"
     ]
    },
    {
     "name": "stderr",
     "output_type": "stream",
     "text": [
      "  6%|▌         | 55/1000 [01:36<27:44,  1.76s/it]"
     ]
    },
    {
     "name": "stdout",
     "output_type": "stream",
     "text": [
      "\n",
      "=== Sample 55/1000 ===\n",
      "RAW TEXT: i just watched Marley & Me...i cried so hard!\n",
      "Predicted RAW: positive\n",
      "CLEANED TEXT: watched marley mei cried hard\n",
      "Predicted CLEAN: positive\n",
      "TRUE SENTIMENT: negative\n"
     ]
    },
    {
     "name": "stderr",
     "output_type": "stream",
     "text": [
      "  6%|▌         | 56/1000 [01:38<28:04,  1.78s/it]"
     ]
    },
    {
     "name": "stdout",
     "output_type": "stream",
     "text": [
      "\n",
      "=== Sample 56/1000 ===\n",
      "RAW TEXT:  haaaw..well i get out of class at 10:50..i hope i make it\n",
      "Predicted RAW: positive\n",
      "CLEANED TEXT: haaawwell get class 1050i hope make\n",
      "Predicted CLEAN: negative\n",
      "TRUE SENTIMENT: positive\n"
     ]
    },
    {
     "name": "stderr",
     "output_type": "stream",
     "text": [
      "  6%|▌         | 57/1000 [01:40<28:17,  1.80s/it]"
     ]
    },
    {
     "name": "stdout",
     "output_type": "stream",
     "text": [
      "\n",
      "=== Sample 57/1000 ===\n",
      "RAW TEXT: Just had a great study time followed by a delicious Japanese meal with Arty! Now, trying to get back into the study mood\n",
      "Predicted RAW: positive\n",
      "CLEANED TEXT: great study time followed delicious japanese meal arty trying get back study mood\n",
      "Predicted CLEAN: positive\n",
      "TRUE SENTIMENT: positive\n"
     ]
    },
    {
     "name": "stderr",
     "output_type": "stream",
     "text": [
      "  6%|▌         | 58/1000 [01:42<27:54,  1.78s/it]"
     ]
    },
    {
     "name": "stdout",
     "output_type": "stream",
     "text": [
      "\n",
      "=== Sample 58/1000 ===\n",
      "RAW TEXT: FML not having a car is prohibiting finding a job\n",
      "Predicted RAW: negative\n",
      "CLEANED TEXT: fml car prohibiting finding job\n",
      "Predicted CLEAN: negative\n",
      "TRUE SENTIMENT: negative\n"
     ]
    },
    {
     "name": "stderr",
     "output_type": "stream",
     "text": [
      "  6%|▌         | 59/1000 [01:43<27:39,  1.76s/it]"
     ]
    },
    {
     "name": "stdout",
     "output_type": "stream",
     "text": [
      "\n",
      "=== Sample 59/1000 ===\n",
      "RAW TEXT:  I want to see David cook!!\n",
      "Predicted RAW: positive\n",
      "CLEANED TEXT: want see david cook\n",
      "Predicted CLEAN: positive\n",
      "TRUE SENTIMENT: positive\n"
     ]
    },
    {
     "name": "stderr",
     "output_type": "stream",
     "text": [
      "  6%|▌         | 60/1000 [01:45<28:01,  1.79s/it]"
     ]
    },
    {
     "name": "stdout",
     "output_type": "stream",
     "text": [
      "\n",
      "=== Sample 60/1000 ===\n",
      "RAW TEXT:  yeah i need his fricken cell number ive tried his home for months and hes too busy. i miss braddddddddd\n",
      "Predicted RAW: negative\n",
      "CLEANED TEXT: yeah need fricken cell number ive tried home month he busy miss braddddddddd\n",
      "Predicted CLEAN: negative\n",
      "TRUE SENTIMENT: negative\n"
     ]
    },
    {
     "name": "stderr",
     "output_type": "stream",
     "text": [
      "  6%|▌         | 61/1000 [01:47<27:47,  1.78s/it]"
     ]
    },
    {
     "name": "stdout",
     "output_type": "stream",
     "text": [
      "\n",
      "=== Sample 61/1000 ===\n",
      "RAW TEXT:  yay about breaking 200!\n",
      "Predicted RAW: positive\n",
      "CLEANED TEXT: yay breaking 200\n",
      "Predicted CLEAN: positive\n",
      "TRUE SENTIMENT: positive\n"
     ]
    },
    {
     "name": "stderr",
     "output_type": "stream",
     "text": [
      "  6%|▌         | 62/1000 [01:49<27:36,  1.77s/it]"
     ]
    },
    {
     "name": "stdout",
     "output_type": "stream",
     "text": [
      "\n",
      "=== Sample 62/1000 ===\n",
      "RAW TEXT:  bahah sadly I am not\n",
      "Predicted RAW: negative\n",
      "CLEANED TEXT: bahah sadly\n",
      "Predicted CLEAN: negative\n",
      "TRUE SENTIMENT: negative\n"
     ]
    },
    {
     "name": "stderr",
     "output_type": "stream",
     "text": [
      "  6%|▋         | 63/1000 [01:50<27:25,  1.76s/it]"
     ]
    },
    {
     "name": "stdout",
     "output_type": "stream",
     "text": [
      "\n",
      "=== Sample 63/1000 ===\n",
      "RAW TEXT:  i always have those for my Champions League parties  Tis awesome\n",
      "Predicted RAW: positive\n",
      "CLEANED TEXT: always champion league party ti awesome\n",
      "Predicted CLEAN: positive\n",
      "TRUE SENTIMENT: positive\n"
     ]
    },
    {
     "name": "stderr",
     "output_type": "stream",
     "text": [
      "  6%|▋         | 64/1000 [01:52<27:49,  1.78s/it]"
     ]
    },
    {
     "name": "stdout",
     "output_type": "stream",
     "text": [
      "\n",
      "=== Sample 64/1000 ===\n",
      "RAW TEXT:  well, not all. just stay away from those kinds and surround yourself with those who don`t. happy mother`s day to ur mom, treiz!\n",
      "Predicted RAW: positive\n",
      "CLEANED TEXT: well stay away kind surround dont happy mother day ur mom treiz\n",
      "Predicted CLEAN: negative\n",
      "TRUE SENTIMENT: positive\n"
     ]
    },
    {
     "name": "stderr",
     "output_type": "stream",
     "text": [
      "  6%|▋         | 65/1000 [01:54<28:10,  1.81s/it]"
     ]
    },
    {
     "name": "stdout",
     "output_type": "stream",
     "text": [
      "\n",
      "=== Sample 65/1000 ===\n",
      "RAW TEXT:  thats rough. hubby had knee surgery but it did help him in the end. Let us know the results. We`ll keep him in our prayers\n",
      "Predicted RAW: positive\n",
      "CLEANED TEXT: thats rough hubby knee surgery help end let u know result well keep prayer\n",
      "Predicted CLEAN: negative\n",
      "TRUE SENTIMENT: negative\n"
     ]
    },
    {
     "name": "stderr",
     "output_type": "stream",
     "text": [
      "  7%|▋         | 66/1000 [01:56<27:57,  1.80s/it]"
     ]
    },
    {
     "name": "stdout",
     "output_type": "stream",
     "text": [
      "\n",
      "=== Sample 66/1000 ===\n",
      "RAW TEXT: Playin City of Villains, wishin my buddies were playin with me.....\n",
      "Predicted RAW: positive\n",
      "CLEANED TEXT: playin city villain wishin buddy playin\n",
      "Predicted CLEAN: negative\n",
      "TRUE SENTIMENT: positive\n"
     ]
    },
    {
     "name": "stderr",
     "output_type": "stream",
     "text": [
      "  7%|▋         | 67/1000 [01:58<28:07,  1.81s/it]"
     ]
    },
    {
     "name": "stdout",
     "output_type": "stream",
     "text": [
      "\n",
      "=== Sample 67/1000 ===\n",
      "RAW TEXT:  yep - three things: a good haircut, the ability to listen and the value of not taking yourself too seriously\n",
      "Predicted RAW: positive\n",
      "CLEANED TEXT: yep three thing good haircut ability listen value taking seriously\n",
      "Predicted CLEAN: positive\n",
      "TRUE SENTIMENT: positive\n"
     ]
    },
    {
     "name": "stderr",
     "output_type": "stream",
     "text": [
      "  7%|▋         | 68/1000 [01:59<27:48,  1.79s/it]"
     ]
    },
    {
     "name": "stdout",
     "output_type": "stream",
     "text": [
      "\n",
      "=== Sample 68/1000 ===\n",
      "RAW TEXT:  I liked it.  Did you record it yourself?  If so you have a very soothing voice.\n",
      "Predicted RAW: positive\n",
      "CLEANED TEXT: liked record soothing voice\n",
      "Predicted CLEAN: positive\n",
      "TRUE SENTIMENT: positive\n"
     ]
    },
    {
     "name": "stderr",
     "output_type": "stream",
     "text": [
      "  7%|▋         | 69/1000 [02:01<27:58,  1.80s/it]"
     ]
    },
    {
     "name": "stdout",
     "output_type": "stream",
     "text": [
      "\n",
      "=== Sample 69/1000 ===\n",
      "RAW TEXT:  Folks thought it was hilarious when I told them the story, and then they saw the shirt I wore tonight.  Laughter all night.\n",
      "Predicted RAW: positive\n",
      "CLEANED TEXT: folk thought hilarious told story saw shirt wore tonight laughter night\n",
      "Predicted CLEAN: positive\n",
      "TRUE SENTIMENT: positive\n"
     ]
    },
    {
     "name": "stderr",
     "output_type": "stream",
     "text": [
      "  7%|▋         | 70/1000 [02:03<27:46,  1.79s/it]"
     ]
    },
    {
     "name": "stdout",
     "output_type": "stream",
     "text": [
      "\n",
      "=== Sample 70/1000 ===\n",
      "RAW TEXT:  you`re the absoute best\n",
      "Predicted RAW: positive\n",
      "CLEANED TEXT: youre absoute best\n",
      "Predicted CLEAN: positive\n",
      "TRUE SENTIMENT: positive\n"
     ]
    },
    {
     "name": "stderr",
     "output_type": "stream",
     "text": [
      "  7%|▋         | 71/1000 [02:05<27:35,  1.78s/it]"
     ]
    },
    {
     "name": "stdout",
     "output_type": "stream",
     "text": [
      "\n",
      "=== Sample 71/1000 ===\n",
      "RAW TEXT:  Welcome!\n",
      "Predicted RAW: positive\n",
      "CLEANED TEXT: welcome\n",
      "Predicted CLEAN: positive\n",
      "TRUE SENTIMENT: positive\n"
     ]
    },
    {
     "name": "stderr",
     "output_type": "stream",
     "text": [
      "  7%|▋         | 72/1000 [02:07<27:25,  1.77s/it]"
     ]
    },
    {
     "name": "stdout",
     "output_type": "stream",
     "text": [
      "\n",
      "=== Sample 72/1000 ===\n",
      "RAW TEXT: just got home from a nice party, just not tired yet\n",
      "Predicted RAW: positive\n",
      "CLEANED TEXT: got home nice party tired yet\n",
      "Predicted CLEAN: positive\n",
      "TRUE SENTIMENT: positive\n"
     ]
    },
    {
     "name": "stderr",
     "output_type": "stream",
     "text": [
      "  7%|▋         | 73/1000 [02:08<27:15,  1.76s/it]"
     ]
    },
    {
     "name": "stdout",
     "output_type": "stream",
     "text": [
      "\n",
      "=== Sample 73/1000 ===\n",
      "RAW TEXT: Now I have a sunburn\n",
      "Predicted RAW: negative\n",
      "CLEANED TEXT: sunburn\n",
      "Predicted CLEAN: negative\n",
      "TRUE SENTIMENT: negative\n"
     ]
    },
    {
     "name": "stderr",
     "output_type": "stream",
     "text": [
      "  7%|▋         | 74/1000 [02:10<27:08,  1.76s/it]"
     ]
    },
    {
     "name": "stdout",
     "output_type": "stream",
     "text": [
      "\n",
      "=== Sample 74/1000 ===\n",
      "RAW TEXT: I have the Job  this is a nice day it can not be better\n",
      "Predicted RAW: positive\n",
      "CLEANED TEXT: job nice day better\n",
      "Predicted CLEAN: positive\n",
      "TRUE SENTIMENT: positive\n"
     ]
    },
    {
     "name": "stderr",
     "output_type": "stream",
     "text": [
      "  8%|▊         | 75/1000 [02:12<27:01,  1.75s/it]"
     ]
    },
    {
     "name": "stdout",
     "output_type": "stream",
     "text": [
      "\n",
      "=== Sample 75/1000 ===\n",
      "RAW TEXT: I wish I could go to #BEA this weekend.\n",
      "Predicted RAW: positive\n",
      "CLEANED TEXT: wish could go bea weekend\n",
      "Predicted CLEAN: negative\n",
      "TRUE SENTIMENT: positive\n"
     ]
    },
    {
     "name": "stderr",
     "output_type": "stream",
     "text": [
      "  8%|▊         | 76/1000 [02:14<26:55,  1.75s/it]"
     ]
    },
    {
     "name": "stdout",
     "output_type": "stream",
     "text": [
      "\n",
      "=== Sample 76/1000 ===\n",
      "RAW TEXT:  love your books\n",
      "Predicted RAW: positive\n",
      "CLEANED TEXT: love book\n",
      "Predicted CLEAN: positive\n",
      "TRUE SENTIMENT: positive\n"
     ]
    },
    {
     "name": "stderr",
     "output_type": "stream",
     "text": [
      "  8%|▊         | 77/1000 [02:15<27:22,  1.78s/it]"
     ]
    },
    {
     "name": "stdout",
     "output_type": "stream",
     "text": [
      "\n",
      "=== Sample 77/1000 ===\n",
      "RAW TEXT: ok so this eye doctor guy is taking forever and i`m sitting in a cold room by myself...what? A jerk!\n",
      "Predicted RAW: negative\n",
      "CLEANED TEXT: ok eye doctor guy taking forever im sitting cold room myselfwhat jerk\n",
      "Predicted CLEAN: negative\n",
      "TRUE SENTIMENT: negative\n"
     ]
    },
    {
     "name": "stderr",
     "output_type": "stream",
     "text": [
      "  8%|▊         | 78/1000 [02:17<27:13,  1.77s/it]"
     ]
    },
    {
     "name": "stdout",
     "output_type": "stream",
     "text": [
      "\n",
      "=== Sample 78/1000 ===\n",
      "RAW TEXT: Im Slowing on My Tweets..Cuase I Lost My Phone\n",
      "Predicted RAW: negative\n",
      "CLEANED TEXT: im slowing tweetscuase lost phone\n",
      "Predicted CLEAN: negative\n",
      "TRUE SENTIMENT: negative\n"
     ]
    },
    {
     "name": "stderr",
     "output_type": "stream",
     "text": [
      "  8%|▊         | 79/1000 [02:19<27:03,  1.76s/it]"
     ]
    },
    {
     "name": "stdout",
     "output_type": "stream",
     "text": [
      "\n",
      "=== Sample 79/1000 ===\n",
      "RAW TEXT:  well thank your phone for me.\n",
      "Predicted RAW: negative\n",
      "CLEANED TEXT: well thank phone\n",
      "Predicted CLEAN: negative\n",
      "TRUE SENTIMENT: positive\n"
     ]
    },
    {
     "name": "stderr",
     "output_type": "stream",
     "text": [
      "  8%|▊         | 80/1000 [02:21<26:56,  1.76s/it]"
     ]
    },
    {
     "name": "stdout",
     "output_type": "stream",
     "text": [
      "\n",
      "=== Sample 80/1000 ===\n",
      "RAW TEXT:  why would they take a photo with stuffed animals?! that`s pretty funny\n",
      "Predicted RAW: positive\n",
      "CLEANED TEXT: would take photo stuffed animal thats pretty funny\n",
      "Predicted CLEAN: positive\n",
      "TRUE SENTIMENT: positive\n"
     ]
    },
    {
     "name": "stderr",
     "output_type": "stream",
     "text": [
      "  8%|▊         | 81/1000 [02:22<26:56,  1.76s/it]"
     ]
    },
    {
     "name": "stdout",
     "output_type": "stream",
     "text": [
      "\n",
      "=== Sample 81/1000 ===\n",
      "RAW TEXT: tikcets are only ï¿½91...each...BUT I SO WANT TO GO\n",
      "Predicted RAW: positive\n",
      "CLEANED TEXT: tikcets ï¿½91eachbut want go\n",
      "Predicted CLEAN: negative\n",
      "TRUE SENTIMENT: positive\n"
     ]
    },
    {
     "name": "stderr",
     "output_type": "stream",
     "text": [
      "  8%|▊         | 82/1000 [02:24<26:53,  1.76s/it]"
     ]
    },
    {
     "name": "stdout",
     "output_type": "stream",
     "text": [
      "\n",
      "=== Sample 82/1000 ===\n",
      "RAW TEXT:  Happy Mothers Day\n",
      "Predicted RAW: positive\n",
      "CLEANED TEXT: happy mother day\n",
      "Predicted CLEAN: positive\n",
      "TRUE SENTIMENT: positive\n"
     ]
    },
    {
     "name": "stderr",
     "output_type": "stream",
     "text": [
      "  8%|▊         | 83/1000 [02:26<27:17,  1.79s/it]"
     ]
    },
    {
     "name": "stdout",
     "output_type": "stream",
     "text": [
      "\n",
      "=== Sample 83/1000 ===\n",
      "RAW TEXT:  It`s gonna be hot here today too. today is Ryan`s last day of pre-k. I can`t believe it!  I`ve been a SAHM since I had him!\n",
      "Predicted RAW: positive\n",
      "CLEANED TEXT: gon na hot today today ryans last day prek cant believe ive sahm since\n",
      "Predicted CLEAN: negative\n",
      "TRUE SENTIMENT: negative\n"
     ]
    },
    {
     "name": "stderr",
     "output_type": "stream",
     "text": [
      "  8%|▊         | 84/1000 [02:28<27:29,  1.80s/it]"
     ]
    },
    {
     "name": "stdout",
     "output_type": "stream",
     "text": [
      "\n",
      "=== Sample 84/1000 ===\n",
      "RAW TEXT: Oh, **** me. I`ve just returned from the Supermarket Of Doom to find that I have nothing to drink here.\n",
      "Predicted RAW: negative\n",
      "CLEANED TEXT: oh ive returned supermarket doom find nothing drink\n",
      "Predicted CLEAN: negative\n",
      "TRUE SENTIMENT: negative\n"
     ]
    },
    {
     "name": "stderr",
     "output_type": "stream",
     "text": [
      "  8%|▊         | 85/1000 [02:30<27:37,  1.81s/it]"
     ]
    },
    {
     "name": "stdout",
     "output_type": "stream",
     "text": [
      "\n",
      "=== Sample 85/1000 ===\n",
      "RAW TEXT: D-group Saturday`s, with a little bit of football, an hour nap, 3 hours of soccer, basketball in the TSU and Yogurtland... Life`s Good\n",
      "Predicted RAW: positive\n",
      "CLEANED TEXT: dgroup saturday little bit football hour nap 3 hour soccer basketball tsu yogurtland life good\n",
      "Predicted CLEAN: positive\n",
      "TRUE SENTIMENT: positive\n"
     ]
    },
    {
     "name": "stderr",
     "output_type": "stream",
     "text": [
      "  9%|▊         | 86/1000 [02:31<27:14,  1.79s/it]"
     ]
    },
    {
     "name": "stdout",
     "output_type": "stream",
     "text": [
      "\n",
      "=== Sample 86/1000 ===\n",
      "RAW TEXT: just set up a new computer again. 15min. I love Norton Ghost.\n",
      "Predicted RAW: positive\n",
      "CLEANED TEXT: set new computer 15min love norton ghost\n",
      "Predicted CLEAN: positive\n",
      "TRUE SENTIMENT: positive\n"
     ]
    },
    {
     "name": "stderr",
     "output_type": "stream",
     "text": [
      "  9%|▊         | 87/1000 [02:33<26:56,  1.77s/it]"
     ]
    },
    {
     "name": "stdout",
     "output_type": "stream",
     "text": [
      "\n",
      "=== Sample 87/1000 ===\n",
      "RAW TEXT: Ahhh my mommie got me new sheets for my bed  so comfy\n",
      "Predicted RAW: positive\n",
      "CLEANED TEXT: ahhh mommie got new sheet bed comfy\n",
      "Predicted CLEAN: positive\n",
      "TRUE SENTIMENT: positive\n"
     ]
    },
    {
     "name": "stderr",
     "output_type": "stream",
     "text": [
      "  9%|▉         | 88/1000 [02:35<26:55,  1.77s/it]"
     ]
    },
    {
     "name": "stdout",
     "output_type": "stream",
     "text": [
      "\n",
      "=== Sample 88/1000 ===\n",
      "RAW TEXT: is pretty dang tired. but chambers class is for napping.\n",
      "Predicted RAW: negative\n",
      "CLEANED TEXT: pretty dang tired chamber class napping\n",
      "Predicted CLEAN: negative\n",
      "TRUE SENTIMENT: negative\n"
     ]
    },
    {
     "name": "stderr",
     "output_type": "stream",
     "text": [
      "  9%|▉         | 89/1000 [02:37<26:44,  1.76s/it]"
     ]
    },
    {
     "name": "stdout",
     "output_type": "stream",
     "text": [
      "\n",
      "=== Sample 89/1000 ===\n",
      "RAW TEXT: i have to poop...   is hogging the shitter\n",
      "Predicted RAW: negative\n",
      "CLEANED TEXT: poop hogging shitter\n",
      "Predicted CLEAN: negative\n",
      "TRUE SENTIMENT: negative\n"
     ]
    },
    {
     "name": "stderr",
     "output_type": "stream",
     "text": [
      "  9%|▉         | 90/1000 [02:38<26:36,  1.75s/it]"
     ]
    },
    {
     "name": "stdout",
     "output_type": "stream",
     "text": [
      "\n",
      "=== Sample 90/1000 ===\n",
      "RAW TEXT: Happy muthath`s day to all moms!!! I salute you!\n",
      "Predicted RAW: positive\n",
      "CLEANED TEXT: happy muthaths day mom salute\n",
      "Predicted CLEAN: positive\n",
      "TRUE SENTIMENT: positive\n"
     ]
    },
    {
     "name": "stderr",
     "output_type": "stream",
     "text": [
      "  9%|▉         | 91/1000 [02:40<26:30,  1.75s/it]"
     ]
    },
    {
     "name": "stdout",
     "output_type": "stream",
     "text": [
      "\n",
      "=== Sample 91/1000 ===\n",
      "RAW TEXT: Hahaha! Alright  ..\n",
      "Predicted RAW: positive\n",
      "CLEANED TEXT: hahaha alright\n",
      "Predicted CLEAN: positive\n",
      "TRUE SENTIMENT: positive\n"
     ]
    },
    {
     "name": "stderr",
     "output_type": "stream",
     "text": [
      "  9%|▉         | 92/1000 [02:42<26:26,  1.75s/it]"
     ]
    },
    {
     "name": "stdout",
     "output_type": "stream",
     "text": [
      "\n",
      "=== Sample 92/1000 ===\n",
      "RAW TEXT:  Aren`t you suppossed to support the local economy ... LOL ... good for you and congrats\n",
      "Predicted RAW: positive\n",
      "CLEANED TEXT: arent suppossed support local economy lol good congrats\n",
      "Predicted CLEAN: negative\n",
      "TRUE SENTIMENT: positive\n"
     ]
    },
    {
     "name": "stderr",
     "output_type": "stream",
     "text": [
      "  9%|▉         | 93/1000 [02:44<26:22,  1.74s/it]"
     ]
    },
    {
     "name": "stdout",
     "output_type": "stream",
     "text": [
      "\n",
      "=== Sample 93/1000 ===\n",
      "RAW TEXT:  good to know   thanks\n",
      "Predicted RAW: positive\n",
      "CLEANED TEXT: good know thanks\n",
      "Predicted CLEAN: positive\n",
      "TRUE SENTIMENT: positive\n"
     ]
    },
    {
     "name": "stderr",
     "output_type": "stream",
     "text": [
      "  9%|▉         | 94/1000 [02:45<26:52,  1.78s/it]"
     ]
    },
    {
     "name": "stdout",
     "output_type": "stream",
     "text": [
      "\n",
      "=== Sample 94/1000 ===\n",
      "RAW TEXT:  E.L.O.  wow, brings back so many happy memories.  LOVE this band!..and yes, I know I`m showing my age but I don`t care\n",
      "Predicted RAW: positive\n",
      "CLEANED TEXT: elo wow brings back many happy memory love bandand yes know im showing age dont care\n",
      "Predicted CLEAN: positive\n",
      "TRUE SENTIMENT: positive\n"
     ]
    },
    {
     "name": "stderr",
     "output_type": "stream",
     "text": [
      " 10%|▉         | 95/1000 [02:47<27:07,  1.80s/it]"
     ]
    },
    {
     "name": "stdout",
     "output_type": "stream",
     "text": [
      "\n",
      "=== Sample 95/1000 ===\n",
      "RAW TEXT:  that`s a very cute picture ... but you don`t get fat from licking BBQs ... he must have found some chops on someone else`s ...\n",
      "Predicted RAW: positive\n",
      "CLEANED TEXT: thats cute picture dont get fat licking bbqs must found chop someone elses\n",
      "Predicted CLEAN: negative\n",
      "TRUE SENTIMENT: positive\n"
     ]
    },
    {
     "name": "stderr",
     "output_type": "stream",
     "text": [
      " 10%|▉         | 96/1000 [02:49<26:56,  1.79s/it]"
     ]
    },
    {
     "name": "stdout",
     "output_type": "stream",
     "text": [
      "\n",
      "=== Sample 96/1000 ===\n",
      "RAW TEXT:  oh i love sunday mornings like this - mum just made scrambled eggs on toast\n",
      "Predicted RAW: positive\n",
      "CLEANED TEXT: oh love sunday morning like mum made scrambled egg toast\n",
      "Predicted CLEAN: positive\n",
      "TRUE SENTIMENT: positive\n"
     ]
    },
    {
     "name": "stderr",
     "output_type": "stream",
     "text": [
      " 10%|▉         | 97/1000 [02:51<26:41,  1.77s/it]"
     ]
    },
    {
     "name": "stdout",
     "output_type": "stream",
     "text": [
      "\n",
      "=== Sample 97/1000 ===\n",
      "RAW TEXT: hate working when its sunny,boohoo\n",
      "Predicted RAW: negative\n",
      "CLEANED TEXT: hate working sunnyboohoo\n",
      "Predicted CLEAN: negative\n",
      "TRUE SENTIMENT: negative\n"
     ]
    },
    {
     "name": "stderr",
     "output_type": "stream",
     "text": [
      " 10%|▉         | 98/1000 [02:53<26:31,  1.76s/it]"
     ]
    },
    {
     "name": "stdout",
     "output_type": "stream",
     "text": [
      "\n",
      "=== Sample 98/1000 ===\n",
      "RAW TEXT: Wondering if i cld make things any worse than they already are... answer.. JUST DID!!!\n",
      "Predicted RAW: negative\n",
      "CLEANED TEXT: wondering cld make thing worse already answer\n",
      "Predicted CLEAN: negative\n",
      "TRUE SENTIMENT: negative\n"
     ]
    },
    {
     "name": "stderr",
     "output_type": "stream",
     "text": [
      " 10%|▉         | 99/1000 [02:54<26:28,  1.76s/it]"
     ]
    },
    {
     "name": "stdout",
     "output_type": "stream",
     "text": [
      "\n",
      "=== Sample 99/1000 ===\n",
      "RAW TEXT: Twitter has spoiled all the fun. Frustratingly slow!!  couldnt even bid properly!\n",
      "Predicted RAW: negative\n",
      "CLEANED TEXT: twitter spoiled fun frustratingly slow couldnt even bid properly\n",
      "Predicted CLEAN: negative\n",
      "TRUE SENTIMENT: negative\n"
     ]
    },
    {
     "name": "stderr",
     "output_type": "stream",
     "text": [
      " 10%|█         | 100/1000 [02:56<26:26,  1.76s/it]"
     ]
    },
    {
     "name": "stdout",
     "output_type": "stream",
     "text": [
      "\n",
      "=== Sample 100/1000 ===\n",
      "RAW TEXT: _chick haha. I completely agree\n",
      "Predicted RAW: positive\n",
      "CLEANED TEXT: chick haha completely agree\n",
      "Predicted CLEAN: positive\n",
      "TRUE SENTIMENT: positive\n"
     ]
    },
    {
     "name": "stderr",
     "output_type": "stream",
     "text": [
      " 10%|█         | 101/1000 [02:58<26:39,  1.78s/it]"
     ]
    },
    {
     "name": "stdout",
     "output_type": "stream",
     "text": [
      "\n",
      "=== Sample 101/1000 ===\n",
      "RAW TEXT: Going to bed after a great night with a friend  glad to know she has the same feelings about classes as someone else\n",
      "Predicted RAW: positive\n",
      "CLEANED TEXT: going bed great night friend glad know feeling class someone else\n",
      "Predicted CLEAN: positive\n",
      "TRUE SENTIMENT: positive\n"
     ]
    },
    {
     "name": "stderr",
     "output_type": "stream",
     "text": [
      " 10%|█         | 102/1000 [03:00<26:51,  1.80s/it]"
     ]
    },
    {
     "name": "stdout",
     "output_type": "stream",
     "text": [
      "\n",
      "=== Sample 102/1000 ===\n",
      "RAW TEXT:  many! mine included. ahem. shld have known better back then, wldn`t have missed so many opportunities haha\n",
      "Predicted RAW: positive\n",
      "CLEANED TEXT: many mine included ahem shld known better back wldnt missed many opportunity haha\n",
      "Predicted CLEAN: positive\n",
      "TRUE SENTIMENT: negative\n"
     ]
    },
    {
     "name": "stderr",
     "output_type": "stream",
     "text": [
      " 10%|█         | 103/1000 [03:01<26:35,  1.78s/it]"
     ]
    },
    {
     "name": "stdout",
     "output_type": "stream",
     "text": [
      "\n",
      "=== Sample 103/1000 ===\n",
      "RAW TEXT: it`s nice to leave the office when the sun is still up\n",
      "Predicted RAW: positive\n",
      "CLEANED TEXT: nice leave office sun still\n",
      "Predicted CLEAN: positive\n",
      "TRUE SENTIMENT: positive\n"
     ]
    },
    {
     "name": "stderr",
     "output_type": "stream",
     "text": [
      " 10%|█         | 104/1000 [03:03<26:27,  1.77s/it]"
     ]
    },
    {
     "name": "stdout",
     "output_type": "stream",
     "text": [
      "\n",
      "=== Sample 104/1000 ===\n",
      "RAW TEXT: I will miss the soccer moms\n",
      "Predicted RAW: negative\n",
      "CLEANED TEXT: miss soccer mom\n",
      "Predicted CLEAN: negative\n",
      "TRUE SENTIMENT: negative\n"
     ]
    },
    {
     "name": "stderr",
     "output_type": "stream",
     "text": [
      " 10%|█         | 105/1000 [03:05<26:21,  1.77s/it]"
     ]
    },
    {
     "name": "stdout",
     "output_type": "stream",
     "text": [
      "\n",
      "=== Sample 105/1000 ===\n",
      "RAW TEXT: just watched yes man. bahaha. that movie is messed up\n",
      "Predicted RAW: positive\n",
      "CLEANED TEXT: watched yes man bahaha movie messed\n",
      "Predicted CLEAN: positive\n",
      "TRUE SENTIMENT: negative\n"
     ]
    },
    {
     "name": "stderr",
     "output_type": "stream",
     "text": [
      " 11%|█         | 106/1000 [03:07<26:39,  1.79s/it]"
     ]
    },
    {
     "name": "stdout",
     "output_type": "stream",
     "text": [
      "\n",
      "=== Sample 106/1000 ===\n",
      "RAW TEXT:  Sadly I think I know exactly were you put it--in the expired drawer   Those things have a life span of less than two years\n",
      "Predicted RAW: negative\n",
      "CLEANED TEXT: sadly think know exactly put itin expired drawer thing life span less two year\n",
      "Predicted CLEAN: negative\n",
      "TRUE SENTIMENT: negative\n"
     ]
    },
    {
     "name": "stderr",
     "output_type": "stream",
     "text": [
      " 11%|█         | 107/1000 [03:09<26:29,  1.78s/it]"
     ]
    },
    {
     "name": "stdout",
     "output_type": "stream",
     "text": [
      "\n",
      "=== Sample 107/1000 ===\n",
      "RAW TEXT:  Too much? No, not unless one of the pillows ends up suffocating the one sleeping next to you.\n",
      "Predicted RAW: positive\n",
      "CLEANED TEXT: much unless one pillow end suffocating one sleeping next\n",
      "Predicted CLEAN: negative\n",
      "TRUE SENTIMENT: negative\n"
     ]
    },
    {
     "name": "stderr",
     "output_type": "stream",
     "text": [
      " 11%|█         | 108/1000 [03:10<26:20,  1.77s/it]"
     ]
    },
    {
     "name": "stdout",
     "output_type": "stream",
     "text": [
      "\n",
      "=== Sample 108/1000 ===\n",
      "RAW TEXT: Wow that was fast...next up Soderling or Ferrer. Gilles Simon lost\n",
      "Predicted RAW: positive\n",
      "CLEANED TEXT: wow fastnext soderling ferrer gilles simon lost\n",
      "Predicted CLEAN: negative\n",
      "TRUE SENTIMENT: negative\n"
     ]
    },
    {
     "name": "stderr",
     "output_type": "stream",
     "text": [
      " 11%|█         | 109/1000 [03:12<26:11,  1.76s/it]"
     ]
    },
    {
     "name": "stdout",
     "output_type": "stream",
     "text": [
      "\n",
      "=== Sample 109/1000 ===\n",
      "RAW TEXT:  glad to know that the ad display problem was due to a firewall config at yr office. phew!\n",
      "Predicted RAW: positive\n",
      "CLEANED TEXT: glad know ad display problem due firewall config yr office phew\n",
      "Predicted CLEAN: positive\n",
      "TRUE SENTIMENT: positive\n"
     ]
    },
    {
     "name": "stderr",
     "output_type": "stream",
     "text": [
      " 11%|█         | 110/1000 [03:14<26:03,  1.76s/it]"
     ]
    },
    {
     "name": "stdout",
     "output_type": "stream",
     "text": [
      "\n",
      "=== Sample 110/1000 ===\n",
      "RAW TEXT:  woot!\n",
      "Predicted RAW: positive\n",
      "CLEANED TEXT: woot\n",
      "Predicted CLEAN: positive\n",
      "TRUE SENTIMENT: positive\n"
     ]
    },
    {
     "name": "stderr",
     "output_type": "stream",
     "text": [
      " 11%|█         | 111/1000 [03:16<26:02,  1.76s/it]"
     ]
    },
    {
     "name": "stdout",
     "output_type": "stream",
     "text": [
      "\n",
      "=== Sample 111/1000 ===\n",
      "RAW TEXT: Happy #StarWarsDay. May the 4th be with you!  From everyone _paintball\n",
      "Predicted RAW: positive\n",
      "CLEANED TEXT: happy starwarsday may 4th everyone paintball\n",
      "Predicted CLEAN: positive\n",
      "TRUE SENTIMENT: positive\n"
     ]
    },
    {
     "name": "stderr",
     "output_type": "stream",
     "text": [
      " 11%|█         | 112/1000 [03:17<25:53,  1.75s/it]"
     ]
    },
    {
     "name": "stdout",
     "output_type": "stream",
     "text": [
      "\n",
      "=== Sample 112/1000 ===\n",
      "RAW TEXT: St joe is dirty.\n",
      "Predicted RAW: negative\n",
      "CLEANED TEXT: st joe dirty\n",
      "Predicted CLEAN: negative\n",
      "TRUE SENTIMENT: negative\n"
     ]
    },
    {
     "name": "stderr",
     "output_type": "stream",
     "text": [
      " 11%|█▏        | 113/1000 [03:19<25:53,  1.75s/it]"
     ]
    },
    {
     "name": "stdout",
     "output_type": "stream",
     "text": [
      "\n",
      "=== Sample 113/1000 ===\n",
      "RAW TEXT: I hate my life\n",
      "Predicted RAW: negative\n",
      "CLEANED TEXT: hate life\n",
      "Predicted CLEAN: negative\n",
      "TRUE SENTIMENT: negative\n"
     ]
    },
    {
     "name": "stderr",
     "output_type": "stream",
     "text": [
      " 11%|█▏        | 114/1000 [03:21<25:53,  1.75s/it]"
     ]
    },
    {
     "name": "stdout",
     "output_type": "stream",
     "text": [
      "\n",
      "=== Sample 114/1000 ===\n",
      "RAW TEXT: sick to my stomach.. and i have a headache.. i wish someone could come rub my temples.\n",
      "Predicted RAW: negative\n",
      "CLEANED TEXT: sick stomach headache wish someone could come rub temple\n",
      "Predicted CLEAN: negative\n",
      "TRUE SENTIMENT: negative\n"
     ]
    },
    {
     "name": "stderr",
     "output_type": "stream",
     "text": [
      " 12%|█▏        | 115/1000 [03:23<26:15,  1.78s/it]"
     ]
    },
    {
     "name": "stdout",
     "output_type": "stream",
     "text": [
      "\n",
      "=== Sample 115/1000 ===\n",
      "RAW TEXT:  ****! natalya! you gotta tell me whats going on!!! i`d call you but i lost all my phone numbers when i broke my blackberry\n",
      "Predicted RAW: positive\n",
      "CLEANED TEXT: natalya got ta tell whats going id call lost phone number broke blackberry\n",
      "Predicted CLEAN: negative\n",
      "TRUE SENTIMENT: negative\n"
     ]
    },
    {
     "name": "stderr",
     "output_type": "stream",
     "text": [
      " 12%|█▏        | 116/1000 [03:24<26:13,  1.78s/it]"
     ]
    },
    {
     "name": "stdout",
     "output_type": "stream",
     "text": [
      "\n",
      "=== Sample 116/1000 ===\n",
      "RAW TEXT: just thought about how unfair 3 ppl have been 2 me n got depressed again  HATERS!!!\n",
      "Predicted RAW: negative\n",
      "CLEANED TEXT: thought unfair 3 ppl 2 n got depressed hater\n",
      "Predicted CLEAN: negative\n",
      "TRUE SENTIMENT: negative\n"
     ]
    },
    {
     "name": "stderr",
     "output_type": "stream",
     "text": [
      " 12%|█▏        | 117/1000 [03:26<26:07,  1.77s/it]"
     ]
    },
    {
     "name": "stdout",
     "output_type": "stream",
     "text": [
      "\n",
      "=== Sample 117/1000 ===\n",
      "RAW TEXT: crying real tears\n",
      "Predicted RAW: negative\n",
      "CLEANED TEXT: cry real tear\n",
      "Predicted CLEAN: negative\n",
      "TRUE SENTIMENT: negative\n"
     ]
    },
    {
     "name": "stderr",
     "output_type": "stream",
     "text": [
      " 12%|█▏        | 118/1000 [03:28<26:02,  1.77s/it]"
     ]
    },
    {
     "name": "stdout",
     "output_type": "stream",
     "text": [
      "\n",
      "=== Sample 118/1000 ===\n",
      "RAW TEXT:  Panchito`s burfday party tonight... wish you were here kiddo!\n",
      "Predicted RAW: positive\n",
      "CLEANED TEXT: panchitos burfday party tonight wish kiddo\n",
      "Predicted CLEAN: positive\n",
      "TRUE SENTIMENT: positive\n"
     ]
    },
    {
     "name": "stderr",
     "output_type": "stream",
     "text": [
      " 12%|█▏        | 119/1000 [03:30<25:55,  1.77s/it]"
     ]
    },
    {
     "name": "stdout",
     "output_type": "stream",
     "text": [
      "\n",
      "=== Sample 119/1000 ===\n",
      "RAW TEXT: the best things in life are free  x\n",
      "Predicted RAW: positive\n",
      "CLEANED TEXT: best thing life free x\n",
      "Predicted CLEAN: positive\n",
      "TRUE SENTIMENT: positive\n"
     ]
    },
    {
     "name": "stderr",
     "output_type": "stream",
     "text": [
      " 12%|█▏        | 120/1000 [03:32<26:08,  1.78s/it]"
     ]
    },
    {
     "name": "stdout",
     "output_type": "stream",
     "text": [
      "\n",
      "=== Sample 120/1000 ===\n",
      "RAW TEXT: misses my Mom today. She was my Best Friend and even though she has been gone several yrs I still miss her dearly. Happy Mother`s Day\n",
      "Predicted RAW: positive\n",
      "CLEANED TEXT: miss mom today best friend even though gone several yr still miss dearly happy mother day\n",
      "Predicted CLEAN: positive\n",
      "TRUE SENTIMENT: positive\n"
     ]
    },
    {
     "name": "stderr",
     "output_type": "stream",
     "text": [
      " 12%|█▏        | 121/1000 [03:33<26:18,  1.80s/it]"
     ]
    },
    {
     "name": "stdout",
     "output_type": "stream",
     "text": [
      "\n",
      "=== Sample 121/1000 ===\n",
      "RAW TEXT: I am watching Blood + on veoh episode 19 love the music.wishing i could watch the live action but not old enough\n",
      "Predicted RAW: positive\n",
      "CLEANED TEXT: watching blood veoh episode 19 love musicwishing could watch live action old enough\n",
      "Predicted CLEAN: positive\n",
      "TRUE SENTIMENT: negative\n"
     ]
    },
    {
     "name": "stderr",
     "output_type": "stream",
     "text": [
      " 12%|█▏        | 122/1000 [03:35<26:11,  1.79s/it]"
     ]
    },
    {
     "name": "stdout",
     "output_type": "stream",
     "text": [
      "\n",
      "=== Sample 122/1000 ===\n",
      "RAW TEXT:  that is a bummer\n",
      "Predicted RAW: negative\n",
      "CLEANED TEXT: bummer\n",
      "Predicted CLEAN: negative\n",
      "TRUE SENTIMENT: negative\n"
     ]
    },
    {
     "name": "stderr",
     "output_type": "stream",
     "text": [
      " 12%|█▏        | 123/1000 [03:37<25:59,  1.78s/it]"
     ]
    },
    {
     "name": "stdout",
     "output_type": "stream",
     "text": [
      "\n",
      "=== Sample 123/1000 ===\n",
      "RAW TEXT: http://twitpic.com/665jw The racoons ate our bread!\n",
      "Predicted RAW: negative\n",
      "CLEANED TEXT: racoon ate bread\n",
      "Predicted CLEAN: neutral\n",
      "TRUE SENTIMENT: negative\n"
     ]
    },
    {
     "name": "stderr",
     "output_type": "stream",
     "text": [
      " 12%|█▏        | 124/1000 [03:39<25:46,  1.77s/it]"
     ]
    },
    {
     "name": "stdout",
     "output_type": "stream",
     "text": [
      "\n",
      "=== Sample 124/1000 ===\n",
      "RAW TEXT: Be sure to let the moms you know how fabulous you think they are!!   Almost Mother`s Day.\n",
      "Predicted RAW: positive\n",
      "CLEANED TEXT: sure let mom know fabulous think almost mother day\n",
      "Predicted CLEAN: positive\n",
      "TRUE SENTIMENT: positive\n"
     ]
    },
    {
     "name": "stderr",
     "output_type": "stream",
     "text": [
      " 12%|█▎        | 125/1000 [03:40<25:41,  1.76s/it]"
     ]
    },
    {
     "name": "stdout",
     "output_type": "stream",
     "text": [
      "\n",
      "=== Sample 125/1000 ===\n",
      "RAW TEXT: No launch today. Teacher changed plans and we watched a stupid move about tesla\n",
      "Predicted RAW: negative\n",
      "CLEANED TEXT: launch today teacher changed plan watched stupid move tesla\n",
      "Predicted CLEAN: negative\n",
      "TRUE SENTIMENT: negative\n"
     ]
    },
    {
     "name": "stderr",
     "output_type": "stream",
     "text": [
      " 13%|█▎        | 126/1000 [03:42<25:31,  1.75s/it]"
     ]
    },
    {
     "name": "stdout",
     "output_type": "stream",
     "text": [
      "\n",
      "=== Sample 126/1000 ===\n",
      "RAW TEXT:   it`s very pleasant. i sooo rarely just have time to kill...\n",
      "Predicted RAW: positive\n",
      "CLEANED TEXT: pleasant sooo rarely time kill\n",
      "Predicted CLEAN: positive\n",
      "TRUE SENTIMENT: positive\n"
     ]
    },
    {
     "name": "stderr",
     "output_type": "stream",
     "text": [
      " 13%|█▎        | 127/1000 [03:44<25:57,  1.78s/it]"
     ]
    },
    {
     "name": "stdout",
     "output_type": "stream",
     "text": [
      "\n",
      "=== Sample 127/1000 ===\n",
      "RAW TEXT:  thank you!! ooh I see you`ve read Desert Islands http://is.gd/ys6K great book!\n",
      "Predicted RAW: positive\n",
      "CLEANED TEXT: thank ooh see youve read desert island great book\n",
      "Predicted CLEAN: positive\n",
      "TRUE SENTIMENT: positive\n"
     ]
    },
    {
     "name": "stderr",
     "output_type": "stream",
     "text": [
      " 13%|█▎        | 128/1000 [03:46<25:47,  1.77s/it]"
     ]
    },
    {
     "name": "stdout",
     "output_type": "stream",
     "text": [
      "\n",
      "=== Sample 128/1000 ===\n",
      "RAW TEXT: __O lol but tiz a good song\n",
      "Predicted RAW: positive\n",
      "CLEANED TEXT: lol tiz good song\n",
      "Predicted CLEAN: positive\n",
      "TRUE SENTIMENT: positive\n"
     ]
    },
    {
     "name": "stderr",
     "output_type": "stream",
     "text": [
      " 13%|█▎        | 129/1000 [03:48<26:00,  1.79s/it]"
     ]
    },
    {
     "name": "stdout",
     "output_type": "stream",
     "text": [
      "\n",
      "=== Sample 129/1000 ===\n",
      "RAW TEXT: @_Anix_ I bought cheesecake ice cream last week, thinking it was good, and it sucked so much.   I`m taking yours.\n",
      "Predicted RAW: negative\n",
      "CLEANED TEXT: anix bought cheesecake ice cream last week thinking good sucked much im taking\n",
      "Predicted CLEAN: negative\n",
      "TRUE SENTIMENT: negative\n"
     ]
    },
    {
     "name": "stderr",
     "output_type": "stream",
     "text": [
      " 13%|█▎        | 130/1000 [03:49<25:49,  1.78s/it]"
     ]
    },
    {
     "name": "stdout",
     "output_type": "stream",
     "text": [
      "\n",
      "=== Sample 130/1000 ===\n",
      "RAW TEXT: _Wright THANK YOU! 'Return of the Mack' is THE jam!\n",
      "Predicted RAW: positive\n",
      "CLEANED TEXT: wright thank return mack jam\n",
      "Predicted CLEAN: negative\n",
      "TRUE SENTIMENT: positive\n"
     ]
    },
    {
     "name": "stderr",
     "output_type": "stream",
     "text": [
      " 13%|█▎        | 131/1000 [03:51<25:38,  1.77s/it]"
     ]
    },
    {
     "name": "stdout",
     "output_type": "stream",
     "text": [
      "\n",
      "=== Sample 131/1000 ===\n",
      "RAW TEXT: Ready for this saddenning depressing dullful upsetting dreadful weekend.\n",
      "Predicted RAW: negative\n",
      "CLEANED TEXT: ready saddenning depressing dullful upsetting dreadful weekend\n",
      "Predicted CLEAN: negative\n",
      "TRUE SENTIMENT: negative\n"
     ]
    },
    {
     "name": "stderr",
     "output_type": "stream",
     "text": [
      " 13%|█▎        | 132/1000 [03:53<25:30,  1.76s/it]"
     ]
    },
    {
     "name": "stdout",
     "output_type": "stream",
     "text": [
      "\n",
      "=== Sample 132/1000 ===\n",
      "RAW TEXT: sorry for my lack of tweets  ive been buzy. new vid this saturday!!\n",
      "Predicted RAW: positive\n",
      "CLEANED TEXT: sorry lack tweet ive buzy new vid saturday\n",
      "Predicted CLEAN: negative\n",
      "TRUE SENTIMENT: negative\n"
     ]
    },
    {
     "name": "stderr",
     "output_type": "stream",
     "text": [
      " 13%|█▎        | 133/1000 [03:55<25:50,  1.79s/it]"
     ]
    },
    {
     "name": "stdout",
     "output_type": "stream",
     "text": [
      "\n",
      "=== Sample 133/1000 ===\n",
      "RAW TEXT:  I do my humble best  Going on a works paintball day soon so that should fuel a few strips, no doubt\n",
      "Predicted RAW: positive\n",
      "CLEANED TEXT: humble best going work paintball day soon fuel strip doubt\n",
      "Predicted CLEAN: negative\n",
      "TRUE SENTIMENT: positive\n"
     ]
    },
    {
     "name": "stderr",
     "output_type": "stream",
     "text": [
      " 13%|█▎        | 134/1000 [03:56<25:40,  1.78s/it]"
     ]
    },
    {
     "name": "stdout",
     "output_type": "stream",
     "text": [
      "\n",
      "=== Sample 134/1000 ===\n",
      "RAW TEXT: going to bed  cant take thiss any longeerr maan. [U]\n",
      "Predicted RAW: negative\n",
      "CLEANED TEXT: going bed cant take thiss longeerr maan u\n",
      "Predicted CLEAN: negative\n",
      "TRUE SENTIMENT: negative\n"
     ]
    },
    {
     "name": "stderr",
     "output_type": "stream",
     "text": [
      " 14%|█▎        | 135/1000 [03:58<25:50,  1.79s/it]"
     ]
    },
    {
     "name": "stdout",
     "output_type": "stream",
     "text": [
      "\n",
      "=== Sample 135/1000 ===\n",
      "RAW TEXT: _Morden ..be at richard`s. if not then i`ll see you when you/we get back  good luck!\n",
      "Predicted RAW: positive\n",
      "CLEANED TEXT: morden richards ill see youwe get back good luck\n",
      "Predicted CLEAN: positive\n",
      "TRUE SENTIMENT: positive\n"
     ]
    },
    {
     "name": "stderr",
     "output_type": "stream",
     "text": [
      " 14%|█▎        | 136/1000 [04:00<25:40,  1.78s/it]"
     ]
    },
    {
     "name": "stdout",
     "output_type": "stream",
     "text": [
      "\n",
      "=== Sample 136/1000 ===\n",
      "RAW TEXT: Spent the last hour signing yearbooks. I`ll miss you guys!\n",
      "Predicted RAW: positive\n",
      "CLEANED TEXT: spent last hour signing yearbook ill miss guy\n",
      "Predicted CLEAN: negative\n",
      "TRUE SENTIMENT: negative\n"
     ]
    },
    {
     "name": "stderr",
     "output_type": "stream",
     "text": [
      " 14%|█▎        | 137/1000 [04:02<25:29,  1.77s/it]"
     ]
    },
    {
     "name": "stdout",
     "output_type": "stream",
     "text": [
      "\n",
      "=== Sample 137/1000 ===\n",
      "RAW TEXT: And I just love every little thing about you...\n",
      "Predicted RAW: positive\n",
      "CLEANED TEXT: love every little thing\n",
      "Predicted CLEAN: positive\n",
      "TRUE SENTIMENT: positive\n"
     ]
    },
    {
     "name": "stderr",
     "output_type": "stream",
     "text": [
      " 14%|█▍        | 138/1000 [04:03<25:18,  1.76s/it]"
     ]
    },
    {
     "name": "stdout",
     "output_type": "stream",
     "text": [
      "\n",
      "=== Sample 138/1000 ===\n",
      "RAW TEXT: My mobile has stopped recieving text messages AGAIN. Stoooopid thing\n",
      "Predicted RAW: negative\n",
      "CLEANED TEXT: mobile stopped recieving text message stoooopid thing\n",
      "Predicted CLEAN: negative\n",
      "TRUE SENTIMENT: negative\n"
     ]
    },
    {
     "name": "stderr",
     "output_type": "stream",
     "text": [
      " 14%|█▍        | 139/1000 [04:05<25:10,  1.75s/it]"
     ]
    },
    {
     "name": "stdout",
     "output_type": "stream",
     "text": [
      "\n",
      "=== Sample 139/1000 ===\n",
      "RAW TEXT: Had an amazing night with my favorite lady friend\n",
      "Predicted RAW: positive\n",
      "CLEANED TEXT: amazing night favorite lady friend\n",
      "Predicted CLEAN: positive\n",
      "TRUE SENTIMENT: positive\n"
     ]
    },
    {
     "name": "stderr",
     "output_type": "stream",
     "text": [
      " 14%|█▍        | 140/1000 [04:07<25:05,  1.75s/it]"
     ]
    },
    {
     "name": "stdout",
     "output_type": "stream",
     "text": [
      "\n",
      "=== Sample 140/1000 ===\n",
      "RAW TEXT: _Oyler Poor little woman with her smushed in head\n",
      "Predicted RAW: negative\n",
      "CLEANED TEXT: oyler poor little woman smushed head\n",
      "Predicted CLEAN: negative\n",
      "TRUE SENTIMENT: negative\n"
     ]
    },
    {
     "name": "stderr",
     "output_type": "stream",
     "text": [
      " 14%|█▍        | 141/1000 [04:09<25:02,  1.75s/it]"
     ]
    },
    {
     "name": "stdout",
     "output_type": "stream",
     "text": [
      "\n",
      "=== Sample 141/1000 ===\n",
      "RAW TEXT: is fixin to clean the house for my mom for mother`s day\n",
      "Predicted RAW: positive\n",
      "CLEANED TEXT: fixin clean house mom mother day\n",
      "Predicted CLEAN: positive\n",
      "TRUE SENTIMENT: positive\n"
     ]
    },
    {
     "name": "stderr",
     "output_type": "stream",
     "text": [
      " 14%|█▍        | 142/1000 [04:10<24:57,  1.75s/it]"
     ]
    },
    {
     "name": "stdout",
     "output_type": "stream",
     "text": [
      "\n",
      "=== Sample 142/1000 ===\n",
      "RAW TEXT:  Hey! That`s my school! I hate that place.\n",
      "Predicted RAW: negative\n",
      "CLEANED TEXT: hey thats school hate place\n",
      "Predicted CLEAN: negative\n",
      "TRUE SENTIMENT: negative\n"
     ]
    },
    {
     "name": "stderr",
     "output_type": "stream",
     "text": [
      " 14%|█▍        | 143/1000 [04:12<24:56,  1.75s/it]"
     ]
    },
    {
     "name": "stdout",
     "output_type": "stream",
     "text": [
      "\n",
      "=== Sample 143/1000 ===\n",
      "RAW TEXT:  i did i only got 3 stars on the pre wash then failed the rince\n",
      "Predicted RAW: negative\n",
      "CLEANED TEXT: got 3 star pre wash failed rince\n",
      "Predicted CLEAN: negative\n",
      "TRUE SENTIMENT: negative\n"
     ]
    },
    {
     "name": "stderr",
     "output_type": "stream",
     "text": [
      " 14%|█▍        | 144/1000 [04:14<25:19,  1.77s/it]"
     ]
    },
    {
     "name": "stdout",
     "output_type": "stream",
     "text": [
      "\n",
      "=== Sample 144/1000 ===\n",
      "RAW TEXT: MY SiSTER iN LAW JUST LEFT FOR HER PROM!! SHE LOOKED SOO PRETTY.. TEARS ALL AROUND\n",
      "Predicted RAW: positive\n",
      "CLEANED TEXT: sister law left prom looked soo pretty tear around\n",
      "Predicted CLEAN: positive\n",
      "TRUE SENTIMENT: positive\n"
     ]
    },
    {
     "name": "stderr",
     "output_type": "stream",
     "text": [
      " 14%|█▍        | 145/1000 [04:16<25:35,  1.80s/it]"
     ]
    },
    {
     "name": "stdout",
     "output_type": "stream",
     "text": [
      "\n",
      "=== Sample 145/1000 ===\n",
      "RAW TEXT: I`m really bored! My brother went to get his permit! Stay off the roads! Jk lol! It feels like all my friends have abandoned me! Except 1\n",
      "Predicted RAW: negative\n",
      "CLEANED TEXT: im really bored brother went get permit stay road jk lol feel like friend abandoned except 1\n",
      "Predicted CLEAN: negative\n",
      "TRUE SENTIMENT: negative\n"
     ]
    },
    {
     "name": "stderr",
     "output_type": "stream",
     "text": [
      " 15%|█▍        | 146/1000 [04:18<25:19,  1.78s/it]"
     ]
    },
    {
     "name": "stdout",
     "output_type": "stream",
     "text": [
      "\n",
      "=== Sample 146/1000 ===\n",
      "RAW TEXT: , goodnight\n",
      "Predicted RAW: positive\n",
      "CLEANED TEXT: goodnight\n",
      "Predicted CLEAN: positive\n",
      "TRUE SENTIMENT: positive\n"
     ]
    },
    {
     "name": "stderr",
     "output_type": "stream",
     "text": [
      " 15%|█▍        | 147/1000 [04:19<25:32,  1.80s/it]"
     ]
    },
    {
     "name": "stdout",
     "output_type": "stream",
     "text": [
      "\n",
      "=== Sample 147/1000 ===\n",
      "RAW TEXT: _The_Moon Hiya hun! It`s just not my day. Dentist appointment (ouch!),notebook being a ****. Feeling sick  How`s you?\n",
      "Predicted RAW: negative\n",
      "CLEANED TEXT: themoon hiya hun day dentist appointment ouchnotebook feeling sick hows\n",
      "Predicted CLEAN: negative\n",
      "TRUE SENTIMENT: negative\n"
     ]
    },
    {
     "name": "stderr",
     "output_type": "stream",
     "text": [
      " 15%|█▍        | 148/1000 [04:21<25:17,  1.78s/it]"
     ]
    },
    {
     "name": "stdout",
     "output_type": "stream",
     "text": [
      "\n",
      "=== Sample 148/1000 ===\n",
      "RAW TEXT:  but i do emily ahahha you scare me, so it would work\n",
      "Predicted RAW: positive\n",
      "CLEANED TEXT: emily ahahha scare would work\n",
      "Predicted CLEAN: positive\n",
      "TRUE SENTIMENT: negative\n"
     ]
    },
    {
     "name": "stderr",
     "output_type": "stream",
     "text": [
      " 15%|█▍        | 149/1000 [04:23<25:03,  1.77s/it]"
     ]
    },
    {
     "name": "stdout",
     "output_type": "stream",
     "text": [
      "\n",
      "=== Sample 149/1000 ===\n",
      "RAW TEXT: should not have waled past the Quad! I want to be outside having fun.\n",
      "Predicted RAW: positive\n",
      "CLEANED TEXT: waled past quad want outside fun\n",
      "Predicted CLEAN: negative\n",
      "TRUE SENTIMENT: positive\n"
     ]
    },
    {
     "name": "stderr",
     "output_type": "stream",
     "text": [
      " 15%|█▌        | 150/1000 [04:25<24:59,  1.76s/it]"
     ]
    },
    {
     "name": "stdout",
     "output_type": "stream",
     "text": [
      "\n",
      "=== Sample 150/1000 ===\n",
      "RAW TEXT: i think the food i ate made me sick.. i no feel so good\n",
      "Predicted RAW: negative\n",
      "CLEANED TEXT: think food ate made sick feel good\n",
      "Predicted CLEAN: negative\n",
      "TRUE SENTIMENT: negative\n"
     ]
    },
    {
     "name": "stderr",
     "output_type": "stream",
     "text": [
      " 15%|█▌        | 151/1000 [04:27<25:17,  1.79s/it]"
     ]
    },
    {
     "name": "stdout",
     "output_type": "stream",
     "text": [
      "\n",
      "=== Sample 151/1000 ===\n",
      "RAW TEXT: Lots of tasks to complete today. First, wecloming new members to Canadamigos Social Networking site, www.canadamigos.com, and coffee\n",
      "Predicted RAW: positive\n",
      "CLEANED TEXT: lot task complete today first wecloming new member canadamigos social networking site coffee\n",
      "Predicted CLEAN: positive\n",
      "TRUE SENTIMENT: positive\n"
     ]
    },
    {
     "name": "stderr",
     "output_type": "stream",
     "text": [
      " 15%|█▌        | 152/1000 [04:28<25:04,  1.77s/it]"
     ]
    },
    {
     "name": "stdout",
     "output_type": "stream",
     "text": [
      "\n",
      "=== Sample 152/1000 ===\n",
      "RAW TEXT: Just wants to stay in bed all day but has to go to work instead  sux\n",
      "Predicted RAW: negative\n",
      "CLEANED TEXT: want stay bed day go work instead sux\n",
      "Predicted CLEAN: negative\n",
      "TRUE SENTIMENT: negative\n"
     ]
    },
    {
     "name": "stderr",
     "output_type": "stream",
     "text": [
      " 15%|█▌        | 153/1000 [04:30<24:51,  1.76s/it]"
     ]
    },
    {
     "name": "stdout",
     "output_type": "stream",
     "text": [
      "\n",
      "=== Sample 153/1000 ===\n",
      "RAW TEXT: chillen trying to figure this thing out gettin drunk\n",
      "Predicted RAW: negative\n",
      "CLEANED TEXT: chillen trying figure thing gettin drunk\n",
      "Predicted CLEAN: negative\n",
      "TRUE SENTIMENT: positive\n"
     ]
    },
    {
     "name": "stderr",
     "output_type": "stream",
     "text": [
      " 15%|█▌        | 154/1000 [04:32<25:09,  1.78s/it]"
     ]
    },
    {
     "name": "stdout",
     "output_type": "stream",
     "text": [
      "\n",
      "=== Sample 154/1000 ===\n",
      "RAW TEXT: Filming at a carnival for my music video... It reminds me of the Cherry Festival that I used to go to back home... Ahhh memories...\n",
      "Predicted RAW: positive\n",
      "CLEANED TEXT: filming carnival music video reminds cherry festival used go back home ahhh memory\n",
      "Predicted CLEAN: positive\n",
      "TRUE SENTIMENT: positive\n"
     ]
    },
    {
     "name": "stderr",
     "output_type": "stream",
     "text": [
      " 16%|█▌        | 155/1000 [04:34<24:59,  1.77s/it]"
     ]
    },
    {
     "name": "stdout",
     "output_type": "stream",
     "text": [
      "\n",
      "=== Sample 155/1000 ===\n",
      "RAW TEXT: I`m siiiiiickkk  I dun feel good!!\n",
      "Predicted RAW: negative\n",
      "CLEANED TEXT: im siiiiiickkk dun feel good\n",
      "Predicted CLEAN: negative\n",
      "TRUE SENTIMENT: negative\n"
     ]
    },
    {
     "name": "stderr",
     "output_type": "stream",
     "text": [
      " 16%|█▌        | 156/1000 [04:35<25:12,  1.79s/it]"
     ]
    },
    {
     "name": "stdout",
     "output_type": "stream",
     "text": [
      "\n",
      "=== Sample 156/1000 ===\n",
      "RAW TEXT:  Propellerheads has been on my harddrive for a long while. Just got my music repo back in shape this WE and felt nostalgic\n",
      "Predicted RAW: positive\n",
      "CLEANED TEXT: propellerheads harddrive long got music repo back shape felt nostalgic\n",
      "Predicted CLEAN: positive\n",
      "TRUE SENTIMENT: positive\n"
     ]
    },
    {
     "name": "stderr",
     "output_type": "stream",
     "text": [
      " 16%|█▌        | 157/1000 [04:37<25:16,  1.80s/it]"
     ]
    },
    {
     "name": "stdout",
     "output_type": "stream",
     "text": [
      "\n",
      "=== Sample 157/1000 ===\n",
      "RAW TEXT: Glorious sunny day in London town.. I`m in drama school fighting people with swords while protecting my romantically structured face\n",
      "Predicted RAW: positive\n",
      "CLEANED TEXT: glorious sunny day london town im drama school fighting people sword protecting romantically structured face\n",
      "Predicted CLEAN: positive\n",
      "TRUE SENTIMENT: positive\n"
     ]
    },
    {
     "name": "stderr",
     "output_type": "stream",
     "text": [
      " 16%|█▌        | 158/1000 [04:39<24:57,  1.78s/it]"
     ]
    },
    {
     "name": "stdout",
     "output_type": "stream",
     "text": [
      "\n",
      "=== Sample 158/1000 ===\n",
      "RAW TEXT: _89 I feel so sorry for her  hope she dnt cry 2nd time\n",
      "Predicted RAW: negative\n",
      "CLEANED TEXT: 89 feel sorry hope dnt cry 2nd time\n",
      "Predicted CLEAN: negative\n",
      "TRUE SENTIMENT: negative\n"
     ]
    },
    {
     "name": "stderr",
     "output_type": "stream",
     "text": [
      " 16%|█▌        | 159/1000 [04:41<24:45,  1.77s/it]"
     ]
    },
    {
     "name": "stdout",
     "output_type": "stream",
     "text": [
      "\n",
      "=== Sample 159/1000 ===\n",
      "RAW TEXT: would wish the severe migrains would stop!!! doc`s prescriptions arent working\n",
      "Predicted RAW: negative\n",
      "CLEANED TEXT: would wish severe migrains would stop doc prescription arent working\n",
      "Predicted CLEAN: negative\n",
      "TRUE SENTIMENT: negative\n"
     ]
    },
    {
     "name": "stderr",
     "output_type": "stream",
     "text": [
      " 16%|█▌        | 160/1000 [04:43<25:23,  1.81s/it]"
     ]
    },
    {
     "name": "stdout",
     "output_type": "stream",
     "text": [
      "\n",
      "=== Sample 160/1000 ===\n",
      "RAW TEXT: 09/09 +full moon+ my lovely friends and family= my b-day wish came true;)<3 In addition,gray matters is one of the cutest movies ever!!\n",
      "Predicted RAW: positive\n",
      "CLEANED TEXT: 0909 full moon lovely friend family bday wish came true3 additiongray matter one cutest movie ever\n",
      "Predicted CLEAN: positive\n",
      "TRUE SENTIMENT: positive\n"
     ]
    },
    {
     "name": "stderr",
     "output_type": "stream",
     "text": [
      " 16%|█▌        | 161/1000 [04:44<25:05,  1.79s/it]"
     ]
    },
    {
     "name": "stdout",
     "output_type": "stream",
     "text": [
      "\n",
      "=== Sample 161/1000 ===\n",
      "RAW TEXT: My Life Would Suck Without You - Kelly Clarkson\n",
      "Predicted RAW: positive\n",
      "CLEANED TEXT: life would suck without kelly clarkson\n",
      "Predicted CLEAN: positive\n",
      "TRUE SENTIMENT: negative\n"
     ]
    },
    {
     "name": "stderr",
     "output_type": "stream",
     "text": [
      " 16%|█▌        | 162/1000 [04:46<24:55,  1.78s/it]"
     ]
    },
    {
     "name": "stdout",
     "output_type": "stream",
     "text": [
      "\n",
      "=== Sample 162/1000 ===\n",
      "RAW TEXT:  you should so host the next logies, i only laughed at your bit really\n",
      "Predicted RAW: positive\n",
      "CLEANED TEXT: host next logies laughed bit really\n",
      "Predicted CLEAN: positive\n",
      "TRUE SENTIMENT: positive\n"
     ]
    },
    {
     "name": "stderr",
     "output_type": "stream",
     "text": [
      " 16%|█▋        | 163/1000 [04:48<24:46,  1.78s/it]"
     ]
    },
    {
     "name": "stdout",
     "output_type": "stream",
     "text": [
      "\n",
      "=== Sample 163/1000 ===\n",
      "RAW TEXT: __joy i feel like red lea now\n",
      "Predicted RAW: positive\n",
      "CLEANED TEXT: joy feel like red lea\n",
      "Predicted CLEAN: positive\n",
      "TRUE SENTIMENT: positive\n"
     ]
    },
    {
     "name": "stderr",
     "output_type": "stream",
     "text": [
      " 16%|█▋        | 164/1000 [04:50<25:03,  1.80s/it]"
     ]
    },
    {
     "name": "stdout",
     "output_type": "stream",
     "text": [
      "\n",
      "=== Sample 164/1000 ===\n",
      "RAW TEXT: thinks revising in the garden from 8 this morning without sunscreen isnt the best idea ive had  oucccccccch\n",
      "Predicted RAW: negative\n",
      "CLEANED TEXT: think revising garden 8 morning without sunscreen isnt best idea ive oucccccccch\n",
      "Predicted CLEAN: negative\n",
      "TRUE SENTIMENT: negative\n"
     ]
    },
    {
     "name": "stderr",
     "output_type": "stream",
     "text": [
      " 16%|█▋        | 165/1000 [04:51<24:46,  1.78s/it]"
     ]
    },
    {
     "name": "stdout",
     "output_type": "stream",
     "text": [
      "\n",
      "=== Sample 165/1000 ===\n",
      "RAW TEXT: Is miserable  i feel like im gona cry  sux!\n",
      "Predicted RAW: negative\n",
      "CLEANED TEXT: miserable feel like im gona cry sux\n",
      "Predicted CLEAN: negative\n",
      "TRUE SENTIMENT: negative\n"
     ]
    },
    {
     "name": "stderr",
     "output_type": "stream",
     "text": [
      " 17%|█▋        | 166/1000 [04:53<24:58,  1.80s/it]"
     ]
    },
    {
     "name": "stdout",
     "output_type": "stream",
     "text": [
      "\n",
      "=== Sample 166/1000 ===\n",
      "RAW TEXT:  i know they are delicious.miss germany but like holland as well as we used to shoppin there at weekends.lol\n",
      "Predicted RAW: positive\n",
      "CLEANED TEXT: know deliciousmiss germany like holland well used shoppin weekendslol\n",
      "Predicted CLEAN: positive\n",
      "TRUE SENTIMENT: positive\n"
     ]
    },
    {
     "name": "stderr",
     "output_type": "stream",
     "text": [
      " 17%|█▋        | 167/1000 [04:55<25:09,  1.81s/it]"
     ]
    },
    {
     "name": "stdout",
     "output_type": "stream",
     "text": [
      "\n",
      "=== Sample 167/1000 ===\n",
      "RAW TEXT:  LOL, very true. Maybe next year. I loooved that siggy, and I don`t remember what the password for the mod thing was  Cake?\n",
      "Predicted RAW: positive\n",
      "CLEANED TEXT: lol true maybe next year loooved siggy dont remember password mod thing cake\n",
      "Predicted CLEAN: positive\n",
      "TRUE SENTIMENT: positive\n"
     ]
    },
    {
     "name": "stderr",
     "output_type": "stream",
     "text": [
      " 17%|█▋        | 168/1000 [04:57<24:48,  1.79s/it]"
     ]
    },
    {
     "name": "stdout",
     "output_type": "stream",
     "text": [
      "\n",
      "=== Sample 168/1000 ===\n",
      "RAW TEXT:  Hope you did great - you certainly spent enough time studying.\n",
      "Predicted RAW: positive\n",
      "CLEANED TEXT: hope great certainly spent enough time studying\n",
      "Predicted CLEAN: positive\n",
      "TRUE SENTIMENT: positive\n"
     ]
    },
    {
     "name": "stderr",
     "output_type": "stream",
     "text": [
      " 17%|█▋        | 169/1000 [04:59<25:00,  1.81s/it]"
     ]
    },
    {
     "name": "stdout",
     "output_type": "stream",
     "text": [
      "\n",
      "=== Sample 169/1000 ===\n",
      "RAW TEXT: Straighening my hair and its not going as straight as i want it to be what a  bummerrr for me\n",
      "Predicted RAW: negative\n",
      "CLEANED TEXT: straighening hair going straight want bummerrr\n",
      "Predicted CLEAN: negative\n",
      "TRUE SENTIMENT: negative\n"
     ]
    },
    {
     "name": "stderr",
     "output_type": "stream",
     "text": [
      " 17%|█▋        | 170/1000 [05:01<25:03,  1.81s/it]"
     ]
    },
    {
     "name": "stdout",
     "output_type": "stream",
     "text": [
      "\n",
      "=== Sample 170/1000 ===\n",
      "RAW TEXT:  I need botox work on the lips if I`m going to change my name to Angelina Jolie, but it`s a thought! Sad though about the racism\n",
      "Predicted RAW: negative\n",
      "CLEANED TEXT: need botox work lip im going change name angelina jolie thought sad though racism\n",
      "Predicted CLEAN: negative\n",
      "TRUE SENTIMENT: negative\n"
     ]
    },
    {
     "name": "stderr",
     "output_type": "stream",
     "text": [
      " 17%|█▋        | 171/1000 [05:02<24:50,  1.80s/it]"
     ]
    },
    {
     "name": "stdout",
     "output_type": "stream",
     "text": [
      "\n",
      "=== Sample 171/1000 ===\n",
      "RAW TEXT: Morning all! Have a GREAT DAY! Off to school I go\n",
      "Predicted RAW: positive\n",
      "CLEANED TEXT: morning great day school go\n",
      "Predicted CLEAN: positive\n",
      "TRUE SENTIMENT: positive\n"
     ]
    },
    {
     "name": "stderr",
     "output_type": "stream",
     "text": [
      " 17%|█▋        | 172/1000 [05:04<24:38,  1.79s/it]"
     ]
    },
    {
     "name": "stdout",
     "output_type": "stream",
     "text": [
      "\n",
      "=== Sample 172/1000 ===\n",
      "RAW TEXT: now, in a weird mood  muahaz\n",
      "Predicted RAW: positive\n",
      "CLEANED TEXT: weird mood muahaz\n",
      "Predicted CLEAN: negative\n",
      "TRUE SENTIMENT: negative\n"
     ]
    },
    {
     "name": "stderr",
     "output_type": "stream",
     "text": [
      " 17%|█▋        | 173/1000 [05:06<24:26,  1.77s/it]"
     ]
    },
    {
     "name": "stdout",
     "output_type": "stream",
     "text": [
      "\n",
      "=== Sample 173/1000 ===\n",
      "RAW TEXT:  congrats! Photo of dre?\n",
      "Predicted RAW: positive\n",
      "CLEANED TEXT: congrats photo dre\n",
      "Predicted CLEAN: positive\n",
      "TRUE SENTIMENT: positive\n"
     ]
    },
    {
     "name": "stderr",
     "output_type": "stream",
     "text": [
      " 17%|█▋        | 174/1000 [05:08<24:41,  1.79s/it]"
     ]
    },
    {
     "name": "stdout",
     "output_type": "stream",
     "text": [
      "\n",
      "=== Sample 174/1000 ===\n",
      "RAW TEXT: #SanctuarySunday  thanks for joining on #SanctuarySunday, follow more Sanctuary people to keep up to date on the tweets!\n",
      "Predicted RAW: positive\n",
      "CLEANED TEXT: sanctuarysunday thanks joining sanctuarysunday follow sanctuary people keep date tweet\n",
      "Predicted CLEAN: positive\n",
      "TRUE SENTIMENT: positive\n"
     ]
    },
    {
     "name": "stderr",
     "output_type": "stream",
     "text": [
      " 18%|█▊        | 175/1000 [05:10<24:48,  1.80s/it]"
     ]
    },
    {
     "name": "stdout",
     "output_type": "stream",
     "text": [
      "\n",
      "=== Sample 175/1000 ===\n",
      "RAW TEXT: Done at Disneyland, kid`s knocked out, stopped by the hotel bar and grabbed a grey goose & tonic on the way up...peace\n",
      "Predicted RAW: positive\n",
      "CLEANED TEXT: done disneyland kid knocked stopped hotel bar grabbed grey goose tonic way uppeace\n",
      "Predicted CLEAN: negative\n",
      "TRUE SENTIMENT: positive\n"
     ]
    },
    {
     "name": "stderr",
     "output_type": "stream",
     "text": [
      " 18%|█▊        | 176/1000 [05:11<24:32,  1.79s/it]"
     ]
    },
    {
     "name": "stdout",
     "output_type": "stream",
     "text": [
      "\n",
      "=== Sample 176/1000 ===\n",
      "RAW TEXT:  Oh, and a very good review\n",
      "Predicted RAW: positive\n",
      "CLEANED TEXT: oh good review\n",
      "Predicted CLEAN: positive\n",
      "TRUE SENTIMENT: positive\n"
     ]
    },
    {
     "name": "stderr",
     "output_type": "stream",
     "text": [
      " 18%|█▊        | 177/1000 [05:13<24:36,  1.79s/it]"
     ]
    },
    {
     "name": "stdout",
     "output_type": "stream",
     "text": [
      "\n",
      "=== Sample 177/1000 ===\n",
      "RAW TEXT: _MileyCyrus it wont let me do it twitter keeps saying over twitter capacity or something that bird keeps coming up.\n",
      "Predicted RAW: negative\n",
      "CLEANED TEXT: mileycyrus wont let twitter keep saying twitter capacity something bird keep coming\n",
      "Predicted CLEAN: negative\n",
      "TRUE SENTIMENT: negative\n"
     ]
    },
    {
     "name": "stderr",
     "output_type": "stream",
     "text": [
      " 18%|█▊        | 178/1000 [05:15<24:42,  1.80s/it]"
     ]
    },
    {
     "name": "stdout",
     "output_type": "stream",
     "text": [
      "\n",
      "=== Sample 178/1000 ===\n",
      "RAW TEXT: I`m extremely hungry.... and the only thing I have in my house is Soup...  I don`t like soup... *pouts*\n",
      "Predicted RAW: negative\n",
      "CLEANED TEXT: im extremely hungry thing house soup dont like soup pout\n",
      "Predicted CLEAN: negative\n",
      "TRUE SENTIMENT: negative\n"
     ]
    },
    {
     "name": "stderr",
     "output_type": "stream",
     "text": [
      " 18%|█▊        | 179/1000 [05:17<24:26,  1.79s/it]"
     ]
    },
    {
     "name": "stdout",
     "output_type": "stream",
     "text": [
      "\n",
      "=== Sample 179/1000 ===\n",
      "RAW TEXT:  its hilarious\n",
      "Predicted RAW: positive\n",
      "CLEANED TEXT: hilarious\n",
      "Predicted CLEAN: positive\n",
      "TRUE SENTIMENT: positive\n"
     ]
    },
    {
     "name": "stderr",
     "output_type": "stream",
     "text": [
      " 18%|█▊        | 180/1000 [05:18<24:18,  1.78s/it]"
     ]
    },
    {
     "name": "stdout",
     "output_type": "stream",
     "text": [
      "\n",
      "=== Sample 180/1000 ===\n",
      "RAW TEXT:  I love the guy that was standing behind me\n",
      "Predicted RAW: positive\n",
      "CLEANED TEXT: love guy standing behind\n",
      "Predicted CLEAN: positive\n",
      "TRUE SENTIMENT: positive\n"
     ]
    },
    {
     "name": "stderr",
     "output_type": "stream",
     "text": [
      " 18%|█▊        | 181/1000 [05:20<24:13,  1.77s/it]"
     ]
    },
    {
     "name": "stdout",
     "output_type": "stream",
     "text": [
      "\n",
      "=== Sample 181/1000 ===\n",
      "RAW TEXT: Bout to hit the sack...got **** to do tomorrow. Happy mothers day MOM!\n",
      "Predicted RAW: positive\n",
      "CLEANED TEXT: bout hit sackgot tomorrow happy mother day mom\n",
      "Predicted CLEAN: positive\n",
      "TRUE SENTIMENT: positive\n"
     ]
    },
    {
     "name": "stderr",
     "output_type": "stream",
     "text": [
      " 18%|█▊        | 182/1000 [05:22<24:08,  1.77s/it]"
     ]
    },
    {
     "name": "stdout",
     "output_type": "stream",
     "text": [
      "\n",
      "=== Sample 182/1000 ===\n",
      "RAW TEXT: lost my DC hat ..\n",
      "Predicted RAW: negative\n",
      "CLEANED TEXT: lost dc hat\n",
      "Predicted CLEAN: negative\n",
      "TRUE SENTIMENT: negative\n"
     ]
    },
    {
     "name": "stderr",
     "output_type": "stream",
     "text": [
      " 18%|█▊        | 183/1000 [05:24<24:01,  1.76s/it]"
     ]
    },
    {
     "name": "stdout",
     "output_type": "stream",
     "text": [
      "\n",
      "=== Sample 183/1000 ===\n",
      "RAW TEXT:  I am soo excited about your pasadena seminar...if only i can find the confermation email\n",
      "Predicted RAW: positive\n",
      "CLEANED TEXT: soo excited pasadena seminarif find confermation email\n",
      "Predicted CLEAN: positive\n",
      "TRUE SENTIMENT: positive\n"
     ]
    },
    {
     "name": "stderr",
     "output_type": "stream",
     "text": [
      " 18%|█▊        | 184/1000 [05:25<24:01,  1.77s/it]"
     ]
    },
    {
     "name": "stdout",
     "output_type": "stream",
     "text": [
      "\n",
      "=== Sample 184/1000 ===\n",
      "RAW TEXT: Ugh I don`t feel well again all of a sudden\n",
      "Predicted RAW: negative\n",
      "CLEANED TEXT: ugh dont feel well sudden\n",
      "Predicted CLEAN: negative\n",
      "TRUE SENTIMENT: negative\n"
     ]
    },
    {
     "name": "stderr",
     "output_type": "stream",
     "text": [
      " 18%|█▊        | 185/1000 [05:27<23:56,  1.76s/it]"
     ]
    },
    {
     "name": "stdout",
     "output_type": "stream",
     "text": [
      "\n",
      "=== Sample 185/1000 ===\n",
      "RAW TEXT: I want a new phone  I`ve seen too much cellphone commercials (\n",
      "Predicted RAW: positive\n",
      "CLEANED TEXT: want new phone ive seen much cellphone commercial\n",
      "Predicted CLEAN: positive\n",
      "TRUE SENTIMENT: negative\n"
     ]
    },
    {
     "name": "stderr",
     "output_type": "stream",
     "text": [
      " 19%|█▊        | 186/1000 [05:29<24:12,  1.78s/it]"
     ]
    },
    {
     "name": "stdout",
     "output_type": "stream",
     "text": [
      "\n",
      "=== Sample 186/1000 ===\n",
      "RAW TEXT:  we`ll test that theory  with no right arm to strum with.  Got a feelin I`ll be humming my new tunes for a while\n",
      "Predicted RAW: positive\n",
      "CLEANED TEXT: well test theory right arm strum got feelin ill humming new tune\n",
      "Predicted CLEAN: negative\n",
      "TRUE SENTIMENT: negative\n"
     ]
    },
    {
     "name": "stderr",
     "output_type": "stream",
     "text": [
      " 19%|█▊        | 187/1000 [05:31<24:01,  1.77s/it]"
     ]
    },
    {
     "name": "stdout",
     "output_type": "stream",
     "text": [
      "\n",
      "=== Sample 187/1000 ===\n",
      "RAW TEXT:  http://twitpic.com/4vuuy - That`s so cool.\n",
      "Predicted RAW: positive\n",
      "CLEANED TEXT: thats cool\n",
      "Predicted CLEAN: positive\n",
      "TRUE SENTIMENT: positive\n"
     ]
    },
    {
     "name": "stderr",
     "output_type": "stream",
     "text": [
      " 19%|█▉        | 188/1000 [05:33<23:53,  1.77s/it]"
     ]
    },
    {
     "name": "stdout",
     "output_type": "stream",
     "text": [
      "\n",
      "=== Sample 188/1000 ===\n",
      "RAW TEXT: school. 39 days !!! so exited. Amazing premier \n",
      "Predicted RAW: positive\n",
      "CLEANED TEXT: school 39 day exited amazing premier\n",
      "Predicted CLEAN: positive\n",
      "TRUE SENTIMENT: positive\n"
     ]
    },
    {
     "name": "stderr",
     "output_type": "stream",
     "text": [
      " 19%|█▉        | 189/1000 [05:34<23:52,  1.77s/it]"
     ]
    },
    {
     "name": "stdout",
     "output_type": "stream",
     "text": [
      "\n",
      "=== Sample 189/1000 ===\n",
      "RAW TEXT:   tis very useful indeed esp. for newbies like me!\n",
      "Predicted RAW: positive\n",
      "CLEANED TEXT: ti useful indeed esp newbie like\n",
      "Predicted CLEAN: positive\n",
      "TRUE SENTIMENT: positive\n"
     ]
    },
    {
     "name": "stderr",
     "output_type": "stream",
     "text": [
      " 19%|█▉        | 190/1000 [05:36<23:54,  1.77s/it]"
     ]
    },
    {
     "name": "stdout",
     "output_type": "stream",
     "text": [
      "\n",
      "=== Sample 190/1000 ===\n",
      "RAW TEXT: is relaxing after working on Mothers Day.  Oh well. A good day had.  Hope you are all well\n",
      "Predicted RAW: positive\n",
      "CLEANED TEXT: relaxing working mother day oh well good day hope well\n",
      "Predicted CLEAN: positive\n",
      "TRUE SENTIMENT: positive\n"
     ]
    },
    {
     "name": "stderr",
     "output_type": "stream",
     "text": [
      " 19%|█▉        | 191/1000 [05:38<23:45,  1.76s/it]"
     ]
    },
    {
     "name": "stdout",
     "output_type": "stream",
     "text": [
      "\n",
      "=== Sample 191/1000 ===\n",
      "RAW TEXT:  yup!  Now I can join in on the nin access fun!\n",
      "Predicted RAW: positive\n",
      "CLEANED TEXT: yup join nin access fun\n",
      "Predicted CLEAN: positive\n",
      "TRUE SENTIMENT: positive\n"
     ]
    },
    {
     "name": "stderr",
     "output_type": "stream",
     "text": [
      " 19%|█▉        | 192/1000 [05:40<23:35,  1.75s/it]"
     ]
    },
    {
     "name": "stdout",
     "output_type": "stream",
     "text": [
      "\n",
      "=== Sample 192/1000 ===\n",
      "RAW TEXT:  unfair  I wanna go too.\n",
      "Predicted RAW: negative\n",
      "CLEANED TEXT: unfair wan na go\n",
      "Predicted CLEAN: negative\n",
      "TRUE SENTIMENT: negative\n"
     ]
    },
    {
     "name": "stderr",
     "output_type": "stream",
     "text": [
      " 19%|█▉        | 193/1000 [05:41<23:54,  1.78s/it]"
     ]
    },
    {
     "name": "stdout",
     "output_type": "stream",
     "text": [
      "\n",
      "=== Sample 193/1000 ===\n",
      "RAW TEXT: Download movie  'A Good Day to Be Black &#38 Sexy' http://tinyurl.com/ckmkul cool #movie\n",
      "Predicted RAW: positive\n",
      "CLEANED TEXT: download movie good day black 38 sexy cool movie\n",
      "Predicted CLEAN: positive\n",
      "TRUE SENTIMENT: positive\n"
     ]
    },
    {
     "name": "stderr",
     "output_type": "stream",
     "text": [
      " 19%|█▉        | 194/1000 [05:43<24:08,  1.80s/it]"
     ]
    },
    {
     "name": "stdout",
     "output_type": "stream",
     "text": [
      "\n",
      "=== Sample 194/1000 ===\n",
      "RAW TEXT: Jus got back from a run up sunset blvd! My cuzin tried to kill me my legs are still movin and I`m sittin down!!\n",
      "Predicted RAW: positive\n",
      "CLEANED TEXT: jus got back run sunset blvd cuzin tried kill leg still movin im sittin\n",
      "Predicted CLEAN: negative\n",
      "TRUE SENTIMENT: negative\n"
     ]
    },
    {
     "name": "stderr",
     "output_type": "stream",
     "text": [
      " 20%|█▉        | 195/1000 [05:45<23:55,  1.78s/it]"
     ]
    },
    {
     "name": "stdout",
     "output_type": "stream",
     "text": [
      "\n",
      "=== Sample 195/1000 ===\n",
      "RAW TEXT:  Aww, that`s sad.  I miss seeing you guys on the big screen.\n",
      "Predicted RAW: positive\n",
      "CLEANED TEXT: aww thats sad miss seeing guy big screen\n",
      "Predicted CLEAN: negative\n",
      "TRUE SENTIMENT: negative\n"
     ]
    },
    {
     "name": "stderr",
     "output_type": "stream",
     "text": [
      " 20%|█▉        | 196/1000 [05:47<24:06,  1.80s/it]"
     ]
    },
    {
     "name": "stdout",
     "output_type": "stream",
     "text": [
      "\n",
      "=== Sample 196/1000 ===\n",
      "RAW TEXT:  eeeeep so jealous ;) I`m at work  um, how can u receive Viva? Do they broadcast it online? :plz:\n",
      "Predicted RAW: positive\n",
      "CLEANED TEXT: eeeeep jealous im work um u receive viva broadcast online plz\n",
      "Predicted CLEAN: negative\n",
      "TRUE SENTIMENT: negative\n"
     ]
    },
    {
     "name": "stderr",
     "output_type": "stream",
     "text": [
      " 20%|█▉        | 197/1000 [05:49<23:54,  1.79s/it]"
     ]
    },
    {
     "name": "stdout",
     "output_type": "stream",
     "text": [
      "\n",
      "=== Sample 197/1000 ===\n",
      "RAW TEXT:  Thank you so much phaoloo !!!!\n",
      "Predicted RAW: positive\n",
      "CLEANED TEXT: thank much phaoloo\n",
      "Predicted CLEAN: positive\n",
      "TRUE SENTIMENT: positive\n"
     ]
    },
    {
     "name": "stderr",
     "output_type": "stream",
     "text": [
      " 20%|█▉        | 198/1000 [05:50<23:40,  1.77s/it]"
     ]
    },
    {
     "name": "stdout",
     "output_type": "stream",
     "text": [
      "\n",
      "=== Sample 198/1000 ===\n",
      "RAW TEXT:  the hotel should be thankful\n",
      "Predicted RAW: negative\n",
      "CLEANED TEXT: hotel thankful\n",
      "Predicted CLEAN: positive\n",
      "TRUE SENTIMENT: positive\n"
     ]
    },
    {
     "name": "stderr",
     "output_type": "stream",
     "text": [
      " 20%|█▉        | 199/1000 [05:52<23:32,  1.76s/it]"
     ]
    },
    {
     "name": "stdout",
     "output_type": "stream",
     "text": [
      "\n",
      "=== Sample 199/1000 ===\n",
      "RAW TEXT: Watching GH. I feel so bad for Carly.  OMG, so **** up.\n",
      "Predicted RAW: negative\n",
      "CLEANED TEXT: watching gh feel bad carly omg\n",
      "Predicted CLEAN: negative\n",
      "TRUE SENTIMENT: negative\n"
     ]
    },
    {
     "name": "stderr",
     "output_type": "stream",
     "text": [
      " 20%|██        | 200/1000 [05:54<23:28,  1.76s/it]"
     ]
    },
    {
     "name": "stdout",
     "output_type": "stream",
     "text": [
      "\n",
      "=== Sample 200/1000 ===\n",
      "RAW TEXT:  rofl that`s what we like to hear\n",
      "Predicted RAW: positive\n",
      "CLEANED TEXT: rofl thats like hear\n",
      "Predicted CLEAN: positive\n",
      "TRUE SENTIMENT: positive\n"
     ]
    },
    {
     "name": "stderr",
     "output_type": "stream",
     "text": [
      " 20%|██        | 201/1000 [05:56<23:25,  1.76s/it]"
     ]
    },
    {
     "name": "stdout",
     "output_type": "stream",
     "text": [
      "\n",
      "=== Sample 201/1000 ===\n",
      "RAW TEXT: Ok I`m frustrated, there is hella dust between the screens of my blackberry\n",
      "Predicted RAW: negative\n",
      "CLEANED TEXT: ok im frustrated hella dust screen blackberry\n",
      "Predicted CLEAN: negative\n",
      "TRUE SENTIMENT: negative\n"
     ]
    },
    {
     "name": "stderr",
     "output_type": "stream",
     "text": [
      " 20%|██        | 202/1000 [05:57<24:02,  1.81s/it]"
     ]
    },
    {
     "name": "stdout",
     "output_type": "stream",
     "text": [
      "\n",
      "=== Sample 202/1000 ===\n",
      "RAW TEXT: IS ANYONE AWAKE?!?!?!?! oh my god i am dying here. i want to go to SLEEEEEEEEEEEEEEEEEEEEEEEEEEEEEEEEEEEEEEEEEEEEEEEEEEEEEEEEEEEP. :[\n",
      "Predicted RAW: negative\n",
      "CLEANED TEXT: anyone awake oh god dying want go sleeeeeeeeeeeeeeeeeeeeeeeeeeeeeeeeeeeeeeeeeeeeeeeeeeeeeeeeeeep\n",
      "Predicted CLEAN: negative\n",
      "TRUE SENTIMENT: negative\n"
     ]
    },
    {
     "name": "stderr",
     "output_type": "stream",
     "text": [
      " 20%|██        | 203/1000 [05:59<23:43,  1.79s/it]"
     ]
    },
    {
     "name": "stdout",
     "output_type": "stream",
     "text": [
      "\n",
      "=== Sample 203/1000 ===\n",
      "RAW TEXT:  thanks for following\n",
      "Predicted RAW: positive\n",
      "CLEANED TEXT: thanks following\n",
      "Predicted CLEAN: positive\n",
      "TRUE SENTIMENT: positive\n"
     ]
    },
    {
     "name": "stderr",
     "output_type": "stream",
     "text": [
      " 20%|██        | 204/1000 [06:01<23:31,  1.77s/it]"
     ]
    },
    {
     "name": "stdout",
     "output_type": "stream",
     "text": [
      "\n",
      "=== Sample 204/1000 ===\n",
      "RAW TEXT:  Well, good luck then.\n",
      "Predicted RAW: negative\n",
      "CLEANED TEXT: well good luck\n",
      "Predicted CLEAN: positive\n",
      "TRUE SENTIMENT: positive\n"
     ]
    },
    {
     "name": "stderr",
     "output_type": "stream",
     "text": [
      " 20%|██        | 205/1000 [06:03<23:40,  1.79s/it]"
     ]
    },
    {
     "name": "stdout",
     "output_type": "stream",
     "text": [
      "\n",
      "=== Sample 205/1000 ===\n",
      "RAW TEXT: at work getting a quick bite to eat before having to kill my wrist self addressing 500 envolopes\n",
      "Predicted RAW: negative\n",
      "CLEANED TEXT: work getting quick bite eat kill wrist self addressing 500 envolopes\n",
      "Predicted CLEAN: negative\n",
      "TRUE SENTIMENT: negative\n"
     ]
    },
    {
     "name": "stderr",
     "output_type": "stream",
     "text": [
      " 21%|██        | 206/1000 [06:05<23:32,  1.78s/it]"
     ]
    },
    {
     "name": "stdout",
     "output_type": "stream",
     "text": [
      "\n",
      "=== Sample 206/1000 ===\n",
      "RAW TEXT: Arghhhhhhhhh... i can`t keep up with these TwitterBones peeps\n",
      "Predicted RAW: negative\n",
      "CLEANED TEXT: arghhhhhhhhh cant keep twitterbones peep\n",
      "Predicted CLEAN: negative\n",
      "TRUE SENTIMENT: negative\n"
     ]
    },
    {
     "name": "stderr",
     "output_type": "stream",
     "text": [
      " 21%|██        | 207/1000 [06:06<23:23,  1.77s/it]"
     ]
    },
    {
     "name": "stdout",
     "output_type": "stream",
     "text": [
      "\n",
      "=== Sample 207/1000 ===\n",
      "RAW TEXT: making german apple slice  nom nom nom\n",
      "Predicted RAW: positive\n",
      "CLEANED TEXT: making german apple slice nom nom nom\n",
      "Predicted CLEAN: positive\n",
      "TRUE SENTIMENT: positive\n"
     ]
    },
    {
     "name": "stderr",
     "output_type": "stream",
     "text": [
      " 21%|██        | 208/1000 [06:08<23:16,  1.76s/it]"
     ]
    },
    {
     "name": "stdout",
     "output_type": "stream",
     "text": [
      "\n",
      "=== Sample 208/1000 ===\n",
      "RAW TEXT: My tummy hurts\n",
      "Predicted RAW: negative\n",
      "CLEANED TEXT: tummy hurt\n",
      "Predicted CLEAN: negative\n",
      "TRUE SENTIMENT: negative\n"
     ]
    },
    {
     "name": "stderr",
     "output_type": "stream",
     "text": [
      " 21%|██        | 209/1000 [06:10<23:08,  1.75s/it]"
     ]
    },
    {
     "name": "stdout",
     "output_type": "stream",
     "text": [
      "\n",
      "=== Sample 209/1000 ===\n",
      "RAW TEXT: Anybody else experiencing painful slowdowns with facebook?\n",
      "Predicted RAW: negative\n",
      "CLEANED TEXT: anybody else experiencing painful slowdown facebook\n",
      "Predicted CLEAN: negative\n",
      "TRUE SENTIMENT: negative\n"
     ]
    },
    {
     "name": "stderr",
     "output_type": "stream",
     "text": [
      " 21%|██        | 210/1000 [06:12<23:06,  1.76s/it]"
     ]
    },
    {
     "name": "stdout",
     "output_type": "stream",
     "text": [
      "\n",
      "=== Sample 210/1000 ===\n",
      "RAW TEXT: The poor Pirate had out his last wisdom tooth and is looking really peaky.\n",
      "Predicted RAW: negative\n",
      "CLEANED TEXT: poor pirate last wisdom tooth looking really peaky\n",
      "Predicted CLEAN: negative\n",
      "TRUE SENTIMENT: negative\n"
     ]
    },
    {
     "name": "stderr",
     "output_type": "stream",
     "text": [
      " 21%|██        | 211/1000 [06:13<23:02,  1.75s/it]"
     ]
    },
    {
     "name": "stdout",
     "output_type": "stream",
     "text": [
      "\n",
      "=== Sample 211/1000 ===\n",
      "RAW TEXT: Mozzer cancelled tonight by the looks of it.\n",
      "Predicted RAW: negative\n",
      "CLEANED TEXT: mozzer cancelled tonight look\n",
      "Predicted CLEAN: negative\n",
      "TRUE SENTIMENT: positive\n"
     ]
    },
    {
     "name": "stderr",
     "output_type": "stream",
     "text": [
      " 21%|██        | 212/1000 [06:15<23:03,  1.76s/it]"
     ]
    },
    {
     "name": "stdout",
     "output_type": "stream",
     "text": [
      "\n",
      "=== Sample 212/1000 ===\n",
      "RAW TEXT: waiting for aaron to get into town, and then leave him for work. booo\n",
      "Predicted RAW: negative\n",
      "CLEANED TEXT: waiting aaron get town leave work booo\n",
      "Predicted CLEAN: negative\n",
      "TRUE SENTIMENT: negative\n"
     ]
    },
    {
     "name": "stderr",
     "output_type": "stream",
     "text": [
      " 21%|██▏       | 213/1000 [06:17<23:19,  1.78s/it]"
     ]
    },
    {
     "name": "stdout",
     "output_type": "stream",
     "text": [
      "\n",
      "=== Sample 213/1000 ===\n",
      "RAW TEXT: is going to bed soon. happy mothers day to all the mothers  <333 ryan less than 3 weeks :]\n",
      "Predicted RAW: positive\n",
      "CLEANED TEXT: going bed soon happy mother day mother 333 ryan less 3 week\n",
      "Predicted CLEAN: positive\n",
      "TRUE SENTIMENT: positive\n"
     ]
    },
    {
     "name": "stderr",
     "output_type": "stream",
     "text": [
      " 21%|██▏       | 214/1000 [06:19<23:31,  1.80s/it]"
     ]
    },
    {
     "name": "stdout",
     "output_type": "stream",
     "text": [
      "\n",
      "=== Sample 214/1000 ===\n",
      "RAW TEXT: bored bored bored! wish i had something to do tomorrow, especially with the weather we`re to have!  not fair\n",
      "Predicted RAW: negative\n",
      "CLEANED TEXT: bored bored bored wish something tomorrow especially weather fair\n",
      "Predicted CLEAN: negative\n",
      "TRUE SENTIMENT: negative\n"
     ]
    },
    {
     "name": "stderr",
     "output_type": "stream",
     "text": [
      " 22%|██▏       | 215/1000 [06:20<23:18,  1.78s/it]"
     ]
    },
    {
     "name": "stdout",
     "output_type": "stream",
     "text": [
      "\n",
      "=== Sample 215/1000 ===\n",
      "RAW TEXT:  well even with her breakdown she was better than the other acts unfortunately! Britain`s got very little talent\n",
      "Predicted RAW: negative\n",
      "CLEANED TEXT: well even breakdown better act unfortunately britain got little talent\n",
      "Predicted CLEAN: negative\n",
      "TRUE SENTIMENT: negative\n"
     ]
    },
    {
     "name": "stderr",
     "output_type": "stream",
     "text": [
      " 22%|██▏       | 216/1000 [06:22<23:05,  1.77s/it]"
     ]
    },
    {
     "name": "stdout",
     "output_type": "stream",
     "text": [
      "\n",
      "=== Sample 216/1000 ===\n",
      "RAW TEXT:  Sadly, I can`t view that site due to region restrictions\n",
      "Predicted RAW: negative\n",
      "CLEANED TEXT: sadly cant view site due region restriction\n",
      "Predicted CLEAN: negative\n",
      "TRUE SENTIMENT: negative\n"
     ]
    },
    {
     "name": "stderr",
     "output_type": "stream",
     "text": [
      " 22%|██▏       | 217/1000 [06:24<23:22,  1.79s/it]"
     ]
    },
    {
     "name": "stdout",
     "output_type": "stream",
     "text": [
      "\n",
      "=== Sample 217/1000 ===\n",
      "RAW TEXT: It`s 20:50 hs and i`m still at the office...really tired,wanna go home!\n",
      "Predicted RAW: negative\n",
      "CLEANED TEXT: 2050 h im still officereally tiredwanna go home\n",
      "Predicted CLEAN: negative\n",
      "TRUE SENTIMENT: negative\n"
     ]
    },
    {
     "name": "stderr",
     "output_type": "stream",
     "text": [
      " 22%|██▏       | 218/1000 [06:26<23:14,  1.78s/it]"
     ]
    },
    {
     "name": "stdout",
     "output_type": "stream",
     "text": [
      "\n",
      "=== Sample 218/1000 ===\n",
      "RAW TEXT: Aly & AJ new album this summer. YAY!\n",
      "Predicted RAW: positive\n",
      "CLEANED TEXT: aly aj new album summer yay\n",
      "Predicted CLEAN: positive\n",
      "TRUE SENTIMENT: positive\n"
     ]
    },
    {
     "name": "stderr",
     "output_type": "stream",
     "text": [
      " 22%|██▏       | 219/1000 [06:28<23:00,  1.77s/it]"
     ]
    },
    {
     "name": "stdout",
     "output_type": "stream",
     "text": [
      "\n",
      "=== Sample 219/1000 ===\n",
      "RAW TEXT: _day26 ~ Awwwww have fun with the fam boo boo\n",
      "Predicted RAW: positive\n",
      "CLEANED TEXT: day26 fun fam boo boo\n",
      "Predicted CLEAN: positive\n",
      "TRUE SENTIMENT: positive\n"
     ]
    },
    {
     "name": "stderr",
     "output_type": "stream",
     "text": [
      " 22%|██▏       | 220/1000 [06:29<22:51,  1.76s/it]"
     ]
    },
    {
     "name": "stdout",
     "output_type": "stream",
     "text": [
      "\n",
      "=== Sample 220/1000 ===\n",
      "RAW TEXT: @ lovelytrinkets I like the way you worded that about Rocky Road\n",
      "Predicted RAW: positive\n",
      "CLEANED TEXT: lovelytrinkets like way worded rocky road\n",
      "Predicted CLEAN: positive\n",
      "TRUE SENTIMENT: positive\n"
     ]
    },
    {
     "name": "stderr",
     "output_type": "stream",
     "text": [
      " 22%|██▏       | 221/1000 [06:31<23:15,  1.79s/it]"
     ]
    },
    {
     "name": "stdout",
     "output_type": "stream",
     "text": [
      "\n",
      "=== Sample 221/1000 ===\n",
      "RAW TEXT: Mexican coca cola in a bottle. New favorite thing.  No high fructose corn syrup....  sugar is so awesomely old school.\n",
      "Predicted RAW: positive\n",
      "CLEANED TEXT: mexican coca cola bottle new favorite thing high fructose corn syrup sugar awesomely old school\n",
      "Predicted CLEAN: positive\n",
      "TRUE SENTIMENT: positive\n"
     ]
    },
    {
     "name": "stderr",
     "output_type": "stream",
     "text": [
      " 22%|██▏       | 222/1000 [06:33<23:22,  1.80s/it]"
     ]
    },
    {
     "name": "stdout",
     "output_type": "stream",
     "text": [
      "\n",
      "=== Sample 222/1000 ===\n",
      "RAW TEXT: Got people don`t let me skip sci pratical becos skola is impt and dont waste my parents money.  Nt fair.\n",
      "Predicted RAW: negative\n",
      "CLEANED TEXT: got people dont let skip sci pratical becos skola impt dont waste parent money nt fair\n",
      "Predicted CLEAN: negative\n",
      "TRUE SENTIMENT: negative\n"
     ]
    },
    {
     "name": "stderr",
     "output_type": "stream",
     "text": [
      " 22%|██▏       | 223/1000 [06:35<23:10,  1.79s/it]"
     ]
    },
    {
     "name": "stdout",
     "output_type": "stream",
     "text": [
      "\n",
      "=== Sample 223/1000 ===\n",
      "RAW TEXT:  Thanks for the hint.  http://tinyurl.com/chtx7e.\n",
      "Predicted RAW: positive\n",
      "CLEANED TEXT: thanks hint\n",
      "Predicted CLEAN: positive\n",
      "TRUE SENTIMENT: positive\n"
     ]
    },
    {
     "name": "stderr",
     "output_type": "stream",
     "text": [
      " 22%|██▏       | 224/1000 [06:36<23:00,  1.78s/it]"
     ]
    },
    {
     "name": "stdout",
     "output_type": "stream",
     "text": [
      "\n",
      "=== Sample 224/1000 ===\n",
      "RAW TEXT:  u welcome babe, kill the show! Yuuupp!\n",
      "Predicted RAW: negative\n",
      "CLEANED TEXT: u welcome babe kill show yuuupp\n",
      "Predicted CLEAN: negative\n",
      "TRUE SENTIMENT: positive\n"
     ]
    },
    {
     "name": "stderr",
     "output_type": "stream",
     "text": [
      " 22%|██▎       | 225/1000 [06:38<22:49,  1.77s/it]"
     ]
    },
    {
     "name": "stdout",
     "output_type": "stream",
     "text": [
      "\n",
      "=== Sample 225/1000 ===\n",
      "RAW TEXT:  I was never a good stereotypical teen\n",
      "Predicted RAW: negative\n",
      "CLEANED TEXT: never good stereotypical teen\n",
      "Predicted CLEAN: negative\n",
      "TRUE SENTIMENT: negative\n"
     ]
    },
    {
     "name": "stderr",
     "output_type": "stream",
     "text": [
      " 23%|██▎       | 226/1000 [06:40<22:42,  1.76s/it]"
     ]
    },
    {
     "name": "stdout",
     "output_type": "stream",
     "text": [
      "\n",
      "=== Sample 226/1000 ===\n",
      "RAW TEXT: I love my Maitu. N she loves me. Happy mothers day mama!\n",
      "Predicted RAW: positive\n",
      "CLEANED TEXT: love maitu n love happy mother day mama\n",
      "Predicted CLEAN: positive\n",
      "TRUE SENTIMENT: positive\n"
     ]
    },
    {
     "name": "stderr",
     "output_type": "stream",
     "text": [
      " 23%|██▎       | 227/1000 [06:42<22:34,  1.75s/it]"
     ]
    },
    {
     "name": "stdout",
     "output_type": "stream",
     "text": [
      "\n",
      "=== Sample 227/1000 ===\n",
      "RAW TEXT:  i am so sorry\n",
      "Predicted RAW: negative\n",
      "CLEANED TEXT: sorry\n",
      "Predicted CLEAN: negative\n",
      "TRUE SENTIMENT: negative\n"
     ]
    },
    {
     "name": "stderr",
     "output_type": "stream",
     "text": [
      " 23%|██▎       | 228/1000 [06:44<22:51,  1.78s/it]"
     ]
    },
    {
     "name": "stdout",
     "output_type": "stream",
     "text": [
      "\n",
      "=== Sample 228/1000 ===\n",
      "RAW TEXT: i have problems wih pizza..ii love it too much..i`m so addicted to pizza  and Dot Dot Curve. >\n",
      "Predicted RAW: positive\n",
      "CLEANED TEXT: problem wih pizzaii love muchim addicted pizza dot dot curve\n",
      "Predicted CLEAN: positive\n",
      "TRUE SENTIMENT: positive\n"
     ]
    },
    {
     "name": "stderr",
     "output_type": "stream",
     "text": [
      " 23%|██▎       | 229/1000 [06:45<22:46,  1.77s/it]"
     ]
    },
    {
     "name": "stdout",
     "output_type": "stream",
     "text": [
      "\n",
      "=== Sample 229/1000 ===\n",
      "RAW TEXT: So tired.\n",
      "Predicted RAW: negative\n",
      "CLEANED TEXT: tired\n",
      "Predicted CLEAN: negative\n",
      "TRUE SENTIMENT: negative\n"
     ]
    },
    {
     "name": "stderr",
     "output_type": "stream",
     "text": [
      " 23%|██▎       | 230/1000 [06:47<22:40,  1.77s/it]"
     ]
    },
    {
     "name": "stdout",
     "output_type": "stream",
     "text": [
      "\n",
      "=== Sample 230/1000 ===\n",
      "RAW TEXT: had a lovely breakfast with mum...yummy pancakes\n",
      "Predicted RAW: positive\n",
      "CLEANED TEXT: lovely breakfast mumyummy pancake\n",
      "Predicted CLEAN: positive\n",
      "TRUE SENTIMENT: positive\n"
     ]
    },
    {
     "name": "stderr",
     "output_type": "stream",
     "text": [
      " 23%|██▎       | 231/1000 [06:49<22:37,  1.77s/it]"
     ]
    },
    {
     "name": "stdout",
     "output_type": "stream",
     "text": [
      "\n",
      "=== Sample 231/1000 ===\n",
      "RAW TEXT:  Yay! have fun\n",
      "Predicted RAW: positive\n",
      "CLEANED TEXT: yay fun\n",
      "Predicted CLEAN: positive\n",
      "TRUE SENTIMENT: positive\n"
     ]
    },
    {
     "name": "stderr",
     "output_type": "stream",
     "text": [
      " 23%|██▎       | 232/1000 [06:51<22:30,  1.76s/it]"
     ]
    },
    {
     "name": "stdout",
     "output_type": "stream",
     "text": [
      "\n",
      "=== Sample 232/1000 ===\n",
      "RAW TEXT:  Why thank you... Us Mami`s are bringin` sexy back...\n",
      "Predicted RAW: positive\n",
      "CLEANED TEXT: thank u mamis bringin sexy back\n",
      "Predicted CLEAN: positive\n",
      "TRUE SENTIMENT: positive\n"
     ]
    },
    {
     "name": "stderr",
     "output_type": "stream",
     "text": [
      " 23%|██▎       | 233/1000 [06:52<22:22,  1.75s/it]"
     ]
    },
    {
     "name": "stdout",
     "output_type": "stream",
     "text": [
      "\n",
      "=== Sample 233/1000 ===\n",
      "RAW TEXT:  lucky! that`s awesome\n",
      "Predicted RAW: positive\n",
      "CLEANED TEXT: lucky thats awesome\n",
      "Predicted CLEAN: positive\n",
      "TRUE SENTIMENT: positive\n"
     ]
    },
    {
     "name": "stderr",
     "output_type": "stream",
     "text": [
      " 23%|██▎       | 234/1000 [06:54<22:27,  1.76s/it]"
     ]
    },
    {
     "name": "stdout",
     "output_type": "stream",
     "text": [
      "\n",
      "=== Sample 234/1000 ===\n",
      "RAW TEXT: Oh god, a moth was living in a **** power outlet!  (Actually, my PowerSquid.)\n",
      "Predicted RAW: negative\n",
      "CLEANED TEXT: oh god moth living power outlet actually powersquid\n",
      "Predicted CLEAN: negative\n",
      "TRUE SENTIMENT: negative\n"
     ]
    },
    {
     "name": "stderr",
     "output_type": "stream",
     "text": [
      " 24%|██▎       | 235/1000 [06:56<22:49,  1.79s/it]"
     ]
    },
    {
     "name": "stdout",
     "output_type": "stream",
     "text": [
      "\n",
      "=== Sample 235/1000 ===\n",
      "RAW TEXT: I love  very much  I called him, but he was talking to other fans  I love you a lot Mitchel! I`ll see u in El Cajon. June 7\n",
      "Predicted RAW: positive\n",
      "CLEANED TEXT: love much called talking fan love lot mitchel ill see u el cajon june 7\n",
      "Predicted CLEAN: positive\n",
      "TRUE SENTIMENT: positive\n"
     ]
    },
    {
     "name": "stderr",
     "output_type": "stream",
     "text": [
      " 24%|██▎       | 236/1000 [06:58<22:39,  1.78s/it]"
     ]
    },
    {
     "name": "stdout",
     "output_type": "stream",
     "text": [
      "\n",
      "=== Sample 236/1000 ===\n",
      "RAW TEXT: I misses my bed  so sleepy!\n",
      "Predicted RAW: positive\n",
      "CLEANED TEXT: miss bed sleepy\n",
      "Predicted CLEAN: negative\n",
      "TRUE SENTIMENT: negative\n"
     ]
    },
    {
     "name": "stderr",
     "output_type": "stream",
     "text": [
      " 24%|██▎       | 237/1000 [07:00<22:47,  1.79s/it]"
     ]
    },
    {
     "name": "stdout",
     "output_type": "stream",
     "text": [
      "\n",
      "=== Sample 237/1000 ===\n",
      "RAW TEXT: Woo! Two days till awesome gig, one day till Uni is finished for 12 days  #gigs #3yp\n",
      "Predicted RAW: positive\n",
      "CLEANED TEXT: woo two day till awesome gig one day till uni finished 12 day gig 3yp\n",
      "Predicted CLEAN: positive\n",
      "TRUE SENTIMENT: positive\n"
     ]
    },
    {
     "name": "stderr",
     "output_type": "stream",
     "text": [
      " 24%|██▍       | 238/1000 [07:01<22:35,  1.78s/it]"
     ]
    },
    {
     "name": "stdout",
     "output_type": "stream",
     "text": [
      "\n",
      "=== Sample 238/1000 ===\n",
      "RAW TEXT: Just found mj mouse flats at DJs. Of course there are none left in my size\n",
      "Predicted RAW: negative\n",
      "CLEANED TEXT: found mj mouse flat dj course none left size\n",
      "Predicted CLEAN: negative\n",
      "TRUE SENTIMENT: negative\n"
     ]
    },
    {
     "name": "stderr",
     "output_type": "stream",
     "text": [
      " 24%|██▍       | 239/1000 [07:03<22:22,  1.76s/it]"
     ]
    },
    {
     "name": "stdout",
     "output_type": "stream",
     "text": [
      "\n",
      "=== Sample 239/1000 ===\n",
      "RAW TEXT: I`m dreading hearing even worse news tonight\n",
      "Predicted RAW: negative\n",
      "CLEANED TEXT: im dreading hearing even worse news tonight\n",
      "Predicted CLEAN: negative\n",
      "TRUE SENTIMENT: negative\n"
     ]
    },
    {
     "name": "stderr",
     "output_type": "stream",
     "text": [
      " 24%|██▍       | 240/1000 [07:05<22:16,  1.76s/it]"
     ]
    },
    {
     "name": "stdout",
     "output_type": "stream",
     "text": [
      "\n",
      "=== Sample 240/1000 ===\n",
      "RAW TEXT: haappy bank holiday  2 weeeeks. aah!\n",
      "Predicted RAW: positive\n",
      "CLEANED TEXT: haappy bank holiday 2 weeeeks aah\n",
      "Predicted CLEAN: positive\n",
      "TRUE SENTIMENT: positive\n"
     ]
    },
    {
     "name": "stderr",
     "output_type": "stream",
     "text": [
      " 24%|██▍       | 241/1000 [07:07<22:32,  1.78s/it]"
     ]
    },
    {
     "name": "stdout",
     "output_type": "stream",
     "text": [
      "\n",
      "=== Sample 241/1000 ===\n",
      "RAW TEXT: says my new layout is so cute x) see the cuties ? hahahah  http://plurk.com/p/suqp6\n",
      "Predicted RAW: positive\n",
      "CLEANED TEXT: say new layout cute x see cuties hahahah\n",
      "Predicted CLEAN: positive\n",
      "TRUE SENTIMENT: positive\n"
     ]
    },
    {
     "name": "stderr",
     "output_type": "stream",
     "text": [
      " 24%|██▍       | 242/1000 [07:08<22:24,  1.77s/it]"
     ]
    },
    {
     "name": "stdout",
     "output_type": "stream",
     "text": [
      "\n",
      "=== Sample 242/1000 ===\n",
      "RAW TEXT:  Good night, Rob. Sleep well. Safe travels tomorrow!\n",
      "Predicted RAW: positive\n",
      "CLEANED TEXT: good night rob sleep well safe travel tomorrow\n",
      "Predicted CLEAN: positive\n",
      "TRUE SENTIMENT: positive\n"
     ]
    },
    {
     "name": "stderr",
     "output_type": "stream",
     "text": [
      " 24%|██▍       | 243/1000 [07:10<22:16,  1.77s/it]"
     ]
    },
    {
     "name": "stdout",
     "output_type": "stream",
     "text": [
      "\n",
      "=== Sample 243/1000 ===\n",
      "RAW TEXT:  i know i suck.  my data plan is weak sauce.\n",
      "Predicted RAW: negative\n",
      "CLEANED TEXT: know suck data plan weak sauce\n",
      "Predicted CLEAN: negative\n",
      "TRUE SENTIMENT: negative\n"
     ]
    },
    {
     "name": "stderr",
     "output_type": "stream",
     "text": [
      " 24%|██▍       | 244/1000 [07:12<22:11,  1.76s/it]"
     ]
    },
    {
     "name": "stdout",
     "output_type": "stream",
     "text": [
      "\n",
      "=== Sample 244/1000 ===\n",
      "RAW TEXT:  dear oh dear.....\n",
      "Predicted RAW: negative\n",
      "CLEANED TEXT: dear oh dear\n",
      "Predicted CLEAN: positive\n",
      "TRUE SENTIMENT: negative\n"
     ]
    },
    {
     "name": "stderr",
     "output_type": "stream",
     "text": [
      " 24%|██▍       | 245/1000 [07:14<22:04,  1.75s/it]"
     ]
    },
    {
     "name": "stdout",
     "output_type": "stream",
     "text": [
      "\n",
      "=== Sample 245/1000 ===\n",
      "RAW TEXT: playing at my old school playground still the same except them lame **** got rid of the tire swing\n",
      "Predicted RAW: negative\n",
      "CLEANED TEXT: playing old school playground still except lame got rid tire swing\n",
      "Predicted CLEAN: negative\n",
      "TRUE SENTIMENT: negative\n"
     ]
    },
    {
     "name": "stderr",
     "output_type": "stream",
     "text": [
      " 25%|██▍       | 246/1000 [07:15<22:04,  1.76s/it]"
     ]
    },
    {
     "name": "stdout",
     "output_type": "stream",
     "text": [
      "\n",
      "=== Sample 246/1000 ===\n",
      "RAW TEXT: happy mommah`s day to your moms  http://plurk.com/p/stqya\n",
      "Predicted RAW: positive\n",
      "CLEANED TEXT: happy mommahs day mom\n",
      "Predicted CLEAN: positive\n",
      "TRUE SENTIMENT: positive\n"
     ]
    },
    {
     "name": "stderr",
     "output_type": "stream",
     "text": [
      " 25%|██▍       | 247/1000 [07:17<22:22,  1.78s/it]"
     ]
    },
    {
     "name": "stdout",
     "output_type": "stream",
     "text": [
      "\n",
      "=== Sample 247/1000 ===\n",
      "RAW TEXT:  Lol - I could have written that - would be good to have 2 Mondays this week, then I might catch up x\n",
      "Predicted RAW: positive\n",
      "CLEANED TEXT: lol could written would good 2 monday week might catch x\n",
      "Predicted CLEAN: positive\n",
      "TRUE SENTIMENT: positive\n"
     ]
    },
    {
     "name": "stderr",
     "output_type": "stream",
     "text": [
      " 25%|██▍       | 248/1000 [07:19<22:31,  1.80s/it]"
     ]
    },
    {
     "name": "stdout",
     "output_type": "stream",
     "text": [
      "\n",
      "=== Sample 248/1000 ===\n",
      "RAW TEXT:  Cant wait for DTE in Michigan this summer you guys are great look for me in the customized NKOTB Track Jacket\n",
      "Predicted RAW: positive\n",
      "CLEANED TEXT: cant wait dte michigan summer guy great look customized nkotb track jacket\n",
      "Predicted CLEAN: positive\n",
      "TRUE SENTIMENT: positive\n"
     ]
    },
    {
     "name": "stderr",
     "output_type": "stream",
     "text": [
      " 25%|██▍       | 249/1000 [07:21<22:17,  1.78s/it]"
     ]
    },
    {
     "name": "stdout",
     "output_type": "stream",
     "text": [
      "\n",
      "=== Sample 249/1000 ===\n",
      "RAW TEXT:  nope i have a fifth generation ipod classic  it likes to be dumb\n",
      "Predicted RAW: negative\n",
      "CLEANED TEXT: nope fifth generation ipod classic like dumb\n",
      "Predicted CLEAN: negative\n",
      "TRUE SENTIMENT: negative\n"
     ]
    },
    {
     "name": "stderr",
     "output_type": "stream",
     "text": [
      " 25%|██▌       | 250/1000 [07:22<22:05,  1.77s/it]"
     ]
    },
    {
     "name": "stdout",
     "output_type": "stream",
     "text": [
      "\n",
      "=== Sample 250/1000 ===\n",
      "RAW TEXT:  meetings are overrated.\n",
      "Predicted RAW: negative\n",
      "CLEANED TEXT: meeting overrated\n",
      "Predicted CLEAN: negative\n",
      "TRUE SENTIMENT: negative\n"
     ]
    },
    {
     "name": "stderr",
     "output_type": "stream",
     "text": [
      " 25%|██▌       | 251/1000 [07:24<22:02,  1.77s/it]"
     ]
    },
    {
     "name": "stdout",
     "output_type": "stream",
     "text": [
      "\n",
      "=== Sample 251/1000 ===\n",
      "RAW TEXT:  I love the smell of procrastination in the morning... oder so.\n",
      "Predicted RAW: negative\n",
      "CLEANED TEXT: love smell procrastination morning oder\n",
      "Predicted CLEAN: negative\n",
      "TRUE SENTIMENT: positive\n"
     ]
    },
    {
     "name": "stderr",
     "output_type": "stream",
     "text": [
      " 25%|██▌       | 252/1000 [07:26<22:02,  1.77s/it]"
     ]
    },
    {
     "name": "stdout",
     "output_type": "stream",
     "text": [
      "\n",
      "=== Sample 252/1000 ===\n",
      "RAW TEXT:  I considered being a nurse when I was younger but I really don`t think I could cope if a baby died\n",
      "Predicted RAW: negative\n",
      "CLEANED TEXT: considered nurse younger really dont think could cope baby died\n",
      "Predicted CLEAN: negative\n",
      "TRUE SENTIMENT: negative\n"
     ]
    },
    {
     "name": "stderr",
     "output_type": "stream",
     "text": [
      " 25%|██▌       | 253/1000 [07:28<21:55,  1.76s/it]"
     ]
    },
    {
     "name": "stdout",
     "output_type": "stream",
     "text": [
      "\n",
      "=== Sample 253/1000 ===\n",
      "RAW TEXT:  I know.  I am definitely going to try and see Up this weekend.\n",
      "Predicted RAW: positive\n",
      "CLEANED TEXT: know definitely going try see weekend\n",
      "Predicted CLEAN: positive\n",
      "TRUE SENTIMENT: positive\n"
     ]
    },
    {
     "name": "stderr",
     "output_type": "stream",
     "text": [
      " 25%|██▌       | 254/1000 [07:29<21:50,  1.76s/it]"
     ]
    },
    {
     "name": "stdout",
     "output_type": "stream",
     "text": [
      "\n",
      "=== Sample 254/1000 ===\n",
      "RAW TEXT:  Nice!!!!!!!! I WILL be there\n",
      "Predicted RAW: positive\n",
      "CLEANED TEXT: nice\n",
      "Predicted CLEAN: positive\n",
      "TRUE SENTIMENT: positive\n"
     ]
    },
    {
     "name": "stderr",
     "output_type": "stream",
     "text": [
      " 26%|██▌       | 255/1000 [07:31<21:48,  1.76s/it]"
     ]
    },
    {
     "name": "stdout",
     "output_type": "stream",
     "text": [
      "\n",
      "=== Sample 255/1000 ===\n",
      "RAW TEXT: Oh No!!!! I must be gettin old!!!! My mom use to watch this show....I miss her\n",
      "Predicted RAW: negative\n",
      "CLEANED TEXT: oh must gettin old mom use watch showi miss\n",
      "Predicted CLEAN: negative\n",
      "TRUE SENTIMENT: negative\n"
     ]
    },
    {
     "name": "stderr",
     "output_type": "stream",
     "text": [
      " 26%|██▌       | 256/1000 [07:33<21:45,  1.75s/it]"
     ]
    },
    {
     "name": "stdout",
     "output_type": "stream",
     "text": [
      "\n",
      "=== Sample 256/1000 ===\n",
      "RAW TEXT:  lol that just totally made me laugh, which made my day\n",
      "Predicted RAW: positive\n",
      "CLEANED TEXT: lol totally made laugh made day\n",
      "Predicted CLEAN: positive\n",
      "TRUE SENTIMENT: positive\n"
     ]
    },
    {
     "name": "stderr",
     "output_type": "stream",
     "text": [
      " 26%|██▌       | 257/1000 [07:35<21:44,  1.76s/it]"
     ]
    },
    {
     "name": "stdout",
     "output_type": "stream",
     "text": [
      "\n",
      "=== Sample 257/1000 ===\n",
      "RAW TEXT: tonight was fun\n",
      "Predicted RAW: positive\n",
      "CLEANED TEXT: tonight fun\n",
      "Predicted CLEAN: positive\n",
      "TRUE SENTIMENT: positive\n"
     ]
    },
    {
     "name": "stderr",
     "output_type": "stream",
     "text": [
      " 26%|██▌       | 258/1000 [07:37<22:01,  1.78s/it]"
     ]
    },
    {
     "name": "stdout",
     "output_type": "stream",
     "text": [
      "\n",
      "=== Sample 258/1000 ===\n",
      "RAW TEXT: Good morning!  Just took the longest shower ive ever taken in my life. Like 45 to 50 min shower!! Woah. lol\n",
      "Predicted RAW: positive\n",
      "CLEANED TEXT: good morning took longest shower ive ever taken life like 45 50 min shower woah lol\n",
      "Predicted CLEAN: positive\n",
      "TRUE SENTIMENT: positive\n"
     ]
    },
    {
     "name": "stderr",
     "output_type": "stream",
     "text": [
      " 26%|██▌       | 259/1000 [07:38<22:12,  1.80s/it]"
     ]
    },
    {
     "name": "stdout",
     "output_type": "stream",
     "text": [
      "\n",
      "=== Sample 259/1000 ===\n",
      "RAW TEXT: Allergies  sun is out, wearing shorts.  Stuck with my advisory the whole day.... This should be boring. Except fun. If people make it fun?\n",
      "Predicted RAW: positive\n",
      "CLEANED TEXT: allergy sun wearing short stuck advisory whole day boring except fun people make fun\n",
      "Predicted CLEAN: negative\n",
      "TRUE SENTIMENT: negative\n"
     ]
    },
    {
     "name": "stderr",
     "output_type": "stream",
     "text": [
      " 26%|██▌       | 260/1000 [07:40<22:16,  1.81s/it]"
     ]
    },
    {
     "name": "stdout",
     "output_type": "stream",
     "text": [
      "\n",
      "=== Sample 260/1000 ===\n",
      "RAW TEXT: Good  morning! Just went to bed it feels and already morning...goes fast! Now i am going to the gym soon. Have a nice day!\n",
      "Predicted RAW: positive\n",
      "CLEANED TEXT: good morning went bed feel already morninggoes fast going gym soon nice day\n",
      "Predicted CLEAN: positive\n",
      "TRUE SENTIMENT: positive\n"
     ]
    },
    {
     "name": "stderr",
     "output_type": "stream",
     "text": [
      " 26%|██▌       | 261/1000 [07:42<22:03,  1.79s/it]"
     ]
    },
    {
     "name": "stdout",
     "output_type": "stream",
     "text": [
      "\n",
      "=== Sample 261/1000 ===\n",
      "RAW TEXT: no internet for a week or longer\n",
      "Predicted RAW: negative\n",
      "CLEANED TEXT: internet week longer\n",
      "Predicted CLEAN: negative\n",
      "TRUE SENTIMENT: negative\n"
     ]
    },
    {
     "name": "stderr",
     "output_type": "stream",
     "text": [
      " 26%|██▌       | 262/1000 [07:44<21:52,  1.78s/it]"
     ]
    },
    {
     "name": "stdout",
     "output_type": "stream",
     "text": [
      "\n",
      "=== Sample 262/1000 ===\n",
      "RAW TEXT: Jesus Christ meadowhall could do with better air con! Too hot\n",
      "Predicted RAW: negative\n",
      "CLEANED TEXT: jesus christ meadowhall could better air con hot\n",
      "Predicted CLEAN: negative\n",
      "TRUE SENTIMENT: negative\n"
     ]
    },
    {
     "name": "stderr",
     "output_type": "stream",
     "text": [
      " 26%|██▋       | 263/1000 [07:46<21:42,  1.77s/it]"
     ]
    },
    {
     "name": "stdout",
     "output_type": "stream",
     "text": [
      "\n",
      "=== Sample 263/1000 ===\n",
      "RAW TEXT:  I sure she can\n",
      "Predicted RAW: positive\n",
      "CLEANED TEXT: sure\n",
      "Predicted CLEAN: positive\n",
      "TRUE SENTIMENT: positive\n"
     ]
    },
    {
     "name": "stderr",
     "output_type": "stream",
     "text": [
      " 26%|██▋       | 264/1000 [07:47<21:35,  1.76s/it]"
     ]
    },
    {
     "name": "stdout",
     "output_type": "stream",
     "text": [
      "\n",
      "=== Sample 264/1000 ===\n",
      "RAW TEXT:  i want to gooo\n",
      "Predicted RAW: positive\n",
      "CLEANED TEXT: want gooo\n",
      "Predicted CLEAN: positive\n",
      "TRUE SENTIMENT: positive\n"
     ]
    },
    {
     "name": "stderr",
     "output_type": "stream",
     "text": [
      " 26%|██▋       | 265/1000 [07:49<21:52,  1.79s/it]"
     ]
    },
    {
     "name": "stdout",
     "output_type": "stream",
     "text": [
      "\n",
      "=== Sample 265/1000 ===\n",
      "RAW TEXT: evryone come here http://www.blogtv.com/People/GinaNicole2 were spamming so much and blogtv is glitching and it might work\n",
      "Predicted RAW: negative\n",
      "CLEANED TEXT: evryone come spamming much blogtv glitching might work\n",
      "Predicted CLEAN: negative\n",
      "TRUE SENTIMENT: negative\n"
     ]
    },
    {
     "name": "stderr",
     "output_type": "stream",
     "text": [
      " 27%|██▋       | 266/1000 [07:51<21:44,  1.78s/it]"
     ]
    },
    {
     "name": "stdout",
     "output_type": "stream",
     "text": [
      "\n",
      "=== Sample 266/1000 ===\n",
      "RAW TEXT: Ready for tomorrow. My mommy will get her gift for Mother`s Day. Hope she LOVES it!\n",
      "Predicted RAW: positive\n",
      "CLEANED TEXT: ready tomorrow mommy get gift mother day hope love\n",
      "Predicted CLEAN: positive\n",
      "TRUE SENTIMENT: positive\n"
     ]
    },
    {
     "name": "stderr",
     "output_type": "stream",
     "text": [
      " 27%|██▋       | 267/1000 [07:53<21:34,  1.77s/it]"
     ]
    },
    {
     "name": "stdout",
     "output_type": "stream",
     "text": [
      "\n",
      "=== Sample 267/1000 ===\n",
      "RAW TEXT: Ugh fun concert  screen cracked on phone again because it fell... =\\\n",
      "Predicted RAW: negative\n",
      "CLEANED TEXT: ugh fun concert screen cracked phone fell\n",
      "Predicted CLEAN: negative\n",
      "TRUE SENTIMENT: negative\n"
     ]
    },
    {
     "name": "stderr",
     "output_type": "stream",
     "text": [
      " 27%|██▋       | 268/1000 [07:54<21:29,  1.76s/it]"
     ]
    },
    {
     "name": "stdout",
     "output_type": "stream",
     "text": [
      "\n",
      "=== Sample 268/1000 ===\n",
      "RAW TEXT: So happy, my VStudio shortcuts are backkk\n",
      "Predicted RAW: positive\n",
      "CLEANED TEXT: happy vstudio shortcut backkk\n",
      "Predicted CLEAN: positive\n",
      "TRUE SENTIMENT: positive\n"
     ]
    },
    {
     "name": "stderr",
     "output_type": "stream",
     "text": [
      " 27%|██▋       | 269/1000 [07:56<21:26,  1.76s/it]"
     ]
    },
    {
     "name": "stdout",
     "output_type": "stream",
     "text": [
      "\n",
      "=== Sample 269/1000 ===\n",
      "RAW TEXT:  can`t wait to hear the evp! And cuuuute picture.\n",
      "Predicted RAW: positive\n",
      "CLEANED TEXT: cant wait hear evp cuuuute picture\n",
      "Predicted CLEAN: positive\n",
      "TRUE SENTIMENT: positive\n"
     ]
    },
    {
     "name": "stderr",
     "output_type": "stream",
     "text": [
      " 27%|██▋       | 270/1000 [07:58<21:22,  1.76s/it]"
     ]
    },
    {
     "name": "stdout",
     "output_type": "stream",
     "text": [
      "\n",
      "=== Sample 270/1000 ===\n",
      "RAW TEXT: Headed to verizon. Praying that pinkberry is going to make it.\n",
      "Predicted RAW: positive\n",
      "CLEANED TEXT: headed verizon praying pinkberry going make\n",
      "Predicted CLEAN: negative\n",
      "TRUE SENTIMENT: positive\n"
     ]
    },
    {
     "name": "stderr",
     "output_type": "stream",
     "text": [
      " 27%|██▋       | 271/1000 [08:00<21:21,  1.76s/it]"
     ]
    },
    {
     "name": "stdout",
     "output_type": "stream",
     "text": [
      "\n",
      "=== Sample 271/1000 ===\n",
      "RAW TEXT: Awaiting reply from two projects. One cancelled.\n",
      "Predicted RAW: negative\n",
      "CLEANED TEXT: awaiting reply two project one cancelled\n",
      "Predicted CLEAN: negative\n",
      "TRUE SENTIMENT: negative\n"
     ]
    },
    {
     "name": "stderr",
     "output_type": "stream",
     "text": [
      " 27%|██▋       | 272/1000 [08:01<21:14,  1.75s/it]"
     ]
    },
    {
     "name": "stdout",
     "output_type": "stream",
     "text": [
      "\n",
      "=== Sample 272/1000 ===\n",
      "RAW TEXT:  Have You Watched You Belong With Me?   By My Lovely Sister ) Kiddin.\n",
      "Predicted RAW: positive\n",
      "CLEANED TEXT: watched belong lovely sister kiddin\n",
      "Predicted CLEAN: positive\n",
      "TRUE SENTIMENT: positive\n"
     ]
    },
    {
     "name": "stderr",
     "output_type": "stream",
     "text": [
      " 27%|██▋       | 273/1000 [08:03<21:31,  1.78s/it]"
     ]
    },
    {
     "name": "stdout",
     "output_type": "stream",
     "text": [
      "\n",
      "=== Sample 273/1000 ===\n",
      "RAW TEXT: Well, Sacramento, I hope you appreciate Rivkah Sass & treat her well. I`ll be sitting here in Omaha, pouting\n",
      "Predicted RAW: positive\n",
      "CLEANED TEXT: well sacramento hope appreciate rivkah sas treat well ill sitting omaha pouting\n",
      "Predicted CLEAN: negative\n",
      "TRUE SENTIMENT: positive\n"
     ]
    },
    {
     "name": "stderr",
     "output_type": "stream",
     "text": [
      " 27%|██▋       | 274/1000 [08:05<21:29,  1.78s/it]"
     ]
    },
    {
     "name": "stdout",
     "output_type": "stream",
     "text": [
      "\n",
      "=== Sample 274/1000 ===\n",
      "RAW TEXT: Leaving the beach .. Having a great day with vicente .. We needed this time together\n",
      "Predicted RAW: positive\n",
      "CLEANED TEXT: leaving beach great day vicente needed time together\n",
      "Predicted CLEAN: positive\n",
      "TRUE SENTIMENT: positive\n"
     ]
    },
    {
     "name": "stderr",
     "output_type": "stream",
     "text": [
      " 28%|██▊       | 275/1000 [08:07<21:25,  1.77s/it]"
     ]
    },
    {
     "name": "stdout",
     "output_type": "stream",
     "text": [
      "\n",
      "=== Sample 275/1000 ===\n",
      "RAW TEXT: Got caught in the rain. Sand Monsoon all the way home, even though i looked like a complete idiot\n",
      "Predicted RAW: negative\n",
      "CLEANED TEXT: got caught rain sand monsoon way home even though looked like complete idiot\n",
      "Predicted CLEAN: negative\n",
      "TRUE SENTIMENT: negative\n"
     ]
    },
    {
     "name": "stderr",
     "output_type": "stream",
     "text": [
      " 28%|██▊       | 276/1000 [08:08<21:14,  1.76s/it]"
     ]
    },
    {
     "name": "stdout",
     "output_type": "stream",
     "text": [
      "\n",
      "=== Sample 276/1000 ===\n",
      "RAW TEXT: just left & already misses Nashville  be back sunday\n",
      "Predicted RAW: positive\n",
      "CLEANED TEXT: left already miss nashville back sunday\n",
      "Predicted CLEAN: negative\n",
      "TRUE SENTIMENT: negative\n"
     ]
    },
    {
     "name": "stderr",
     "output_type": "stream",
     "text": [
      " 28%|██▊       | 277/1000 [08:10<21:28,  1.78s/it]"
     ]
    },
    {
     "name": "stdout",
     "output_type": "stream",
     "text": [
      "\n",
      "=== Sample 277/1000 ===\n",
      "RAW TEXT:  you`re a busy Bob, I`m jealous. I`m not sure I can even afford to go meet John de Lancie and Leonard Nimoy\n",
      "Predicted RAW: negative\n",
      "CLEANED TEXT: youre busy bob im jealous im sure even afford go meet john de lancie leonard nimoy\n",
      "Predicted CLEAN: negative\n",
      "TRUE SENTIMENT: negative\n"
     ]
    },
    {
     "name": "stderr",
     "output_type": "stream",
     "text": [
      " 28%|██▊       | 278/1000 [08:12<21:18,  1.77s/it]"
     ]
    },
    {
     "name": "stdout",
     "output_type": "stream",
     "text": [
      "\n",
      "=== Sample 278/1000 ===\n",
      "RAW TEXT: I am living in a country where the government is ALWAYS a circus show ... sad but true...\n",
      "Predicted RAW: negative\n",
      "CLEANED TEXT: living country government always circus show sad true\n",
      "Predicted CLEAN: negative\n",
      "TRUE SENTIMENT: negative\n"
     ]
    },
    {
     "name": "stderr",
     "output_type": "stream",
     "text": [
      " 28%|██▊       | 279/1000 [08:14<21:09,  1.76s/it]"
     ]
    },
    {
     "name": "stdout",
     "output_type": "stream",
     "text": [
      "\n",
      "=== Sample 279/1000 ===\n",
      "RAW TEXT:  yep  but I`m going better now\n",
      "Predicted RAW: positive\n",
      "CLEANED TEXT: yep im going better\n",
      "Predicted CLEAN: positive\n",
      "TRUE SENTIMENT: positive\n"
     ]
    },
    {
     "name": "stderr",
     "output_type": "stream",
     "text": [
      " 28%|██▊       | 280/1000 [08:16<21:04,  1.76s/it]"
     ]
    },
    {
     "name": "stdout",
     "output_type": "stream",
     "text": [
      "\n",
      "=== Sample 280/1000 ===\n",
      "RAW TEXT: Fun is being had.\n",
      "Predicted RAW: positive\n",
      "CLEANED TEXT: fun\n",
      "Predicted CLEAN: positive\n",
      "TRUE SENTIMENT: positive\n"
     ]
    },
    {
     "name": "stderr",
     "output_type": "stream",
     "text": [
      " 28%|██▊       | 281/1000 [08:17<21:20,  1.78s/it]"
     ]
    },
    {
     "name": "stdout",
     "output_type": "stream",
     "text": [
      "\n",
      "=== Sample 281/1000 ===\n",
      "RAW TEXT: $#@! My nose stud fell out and I can`t find it  Looks like I`ll have to head into Amsterdam today and get a new one\n",
      "Predicted RAW: negative\n",
      "CLEANED TEXT: nose stud fell cant find look like ill head amsterdam today get new one\n",
      "Predicted CLEAN: negative\n",
      "TRUE SENTIMENT: negative\n"
     ]
    },
    {
     "name": "stderr",
     "output_type": "stream",
     "text": [
      " 28%|██▊       | 282/1000 [08:19<21:14,  1.77s/it]"
     ]
    },
    {
     "name": "stdout",
     "output_type": "stream",
     "text": [
      "\n",
      "=== Sample 282/1000 ===\n",
      "RAW TEXT: _other Excellent analogy\n",
      "Predicted RAW: positive\n",
      "CLEANED TEXT: excellent analogy\n",
      "Predicted CLEAN: positive\n",
      "TRUE SENTIMENT: positive\n"
     ]
    },
    {
     "name": "stderr",
     "output_type": "stream",
     "text": [
      " 28%|██▊       | 283/1000 [08:21<21:05,  1.77s/it]"
     ]
    },
    {
     "name": "stdout",
     "output_type": "stream",
     "text": [
      "\n",
      "=== Sample 283/1000 ===\n",
      "RAW TEXT: Good morning tweeps. Busy this a.m. but not in a working way\n",
      "Predicted RAW: positive\n",
      "CLEANED TEXT: good morning tweeps busy working way\n",
      "Predicted CLEAN: positive\n",
      "TRUE SENTIMENT: positive\n"
     ]
    },
    {
     "name": "stderr",
     "output_type": "stream",
     "text": [
      " 28%|██▊       | 284/1000 [08:23<21:02,  1.76s/it]"
     ]
    },
    {
     "name": "stdout",
     "output_type": "stream",
     "text": [
      "\n",
      "=== Sample 284/1000 ===\n",
      "RAW TEXT:  FOLLOW ME BABY U SAID N DA CHAT U WILL  LUV YA GOODNITE\n",
      "Predicted RAW: positive\n",
      "CLEANED TEXT: follow baby u said n da chat u luv ya goodnite\n",
      "Predicted CLEAN: positive\n",
      "TRUE SENTIMENT: positive\n"
     ]
    },
    {
     "name": "stderr",
     "output_type": "stream",
     "text": [
      " 28%|██▊       | 285/1000 [08:24<20:55,  1.76s/it]"
     ]
    },
    {
     "name": "stdout",
     "output_type": "stream",
     "text": [
      "\n",
      "=== Sample 285/1000 ===\n",
      "RAW TEXT: got a rad new t-shirt from my aunt. Made from some cool shiny shiny pink material.\n",
      "Predicted RAW: positive\n",
      "CLEANED TEXT: got rad new tshirt aunt made cool shiny shiny pink material\n",
      "Predicted CLEAN: positive\n",
      "TRUE SENTIMENT: positive\n"
     ]
    },
    {
     "name": "stderr",
     "output_type": "stream",
     "text": [
      " 29%|██▊       | 286/1000 [08:26<20:51,  1.75s/it]"
     ]
    },
    {
     "name": "stdout",
     "output_type": "stream",
     "text": [
      "\n",
      "=== Sample 286/1000 ===\n",
      "RAW TEXT:  it was an awesome talk  find it very true that i am watching the ruby community closely\n",
      "Predicted RAW: positive\n",
      "CLEANED TEXT: awesome talk find true watching ruby community closely\n",
      "Predicted CLEAN: positive\n",
      "TRUE SENTIMENT: positive\n"
     ]
    },
    {
     "name": "stderr",
     "output_type": "stream",
     "text": [
      " 29%|██▊       | 287/1000 [08:28<21:04,  1.77s/it]"
     ]
    },
    {
     "name": "stdout",
     "output_type": "stream",
     "text": [
      "\n",
      "=== Sample 287/1000 ===\n",
      "RAW TEXT:  hahaha niene ur soo smart.! lmao i think that is who its by..  good lookin.. whts up gurlie?? i come home this weekend.!\n",
      "Predicted RAW: positive\n",
      "CLEANED TEXT: hahaha niene ur soo smart lmao think good lookin whts gurlie come home weekend\n",
      "Predicted CLEAN: positive\n",
      "TRUE SENTIMENT: positive\n"
     ]
    },
    {
     "name": "stderr",
     "output_type": "stream",
     "text": [
      " 29%|██▉       | 288/1000 [08:30<20:56,  1.76s/it]"
     ]
    },
    {
     "name": "stdout",
     "output_type": "stream",
     "text": [
      "\n",
      "=== Sample 288/1000 ===\n",
      "RAW TEXT: I hereby announce that I am... employed! Couldn`t be happier, Alhamdulillah!\n",
      "Predicted RAW: positive\n",
      "CLEANED TEXT: hereby announce employed couldnt happier alhamdulillah\n",
      "Predicted CLEAN: positive\n",
      "TRUE SENTIMENT: positive\n"
     ]
    },
    {
     "name": "stderr",
     "output_type": "stream",
     "text": [
      " 29%|██▉       | 289/1000 [08:31<21:06,  1.78s/it]"
     ]
    },
    {
     "name": "stdout",
     "output_type": "stream",
     "text": [
      "\n",
      "=== Sample 289/1000 ===\n",
      "RAW TEXT: i juz registered my cp in twitter, but my tweets wont go thru? Argh..Hmm wanna follow my idols lyk  away from the PC..\n",
      "Predicted RAW: negative\n",
      "CLEANED TEXT: juz registered cp twitter tweet wont go thru arghhmm wan na follow idol lyk away pc\n",
      "Predicted CLEAN: negative\n",
      "TRUE SENTIMENT: negative\n"
     ]
    },
    {
     "name": "stderr",
     "output_type": "stream",
     "text": [
      " 29%|██▉       | 290/1000 [08:33<21:17,  1.80s/it]"
     ]
    },
    {
     "name": "stdout",
     "output_type": "stream",
     "text": [
      "\n",
      "=== Sample 290/1000 ===\n",
      "RAW TEXT:  Glad to hear you made it out, I hear that place used to be it`s own country  Looking forward to your arrival!\n",
      "Predicted RAW: positive\n",
      "CLEANED TEXT: glad hear made hear place used country looking forward arrival\n",
      "Predicted CLEAN: positive\n",
      "TRUE SENTIMENT: positive\n"
     ]
    },
    {
     "name": "stderr",
     "output_type": "stream",
     "text": [
      " 29%|██▉       | 291/1000 [08:35<21:09,  1.79s/it]"
     ]
    },
    {
     "name": "stdout",
     "output_type": "stream",
     "text": [
      "\n",
      "=== Sample 291/1000 ===\n",
      "RAW TEXT: So many farewell parties! sad to see people leaving ..\n",
      "Predicted RAW: negative\n",
      "CLEANED TEXT: many farewell party sad see people leaving\n",
      "Predicted CLEAN: negative\n",
      "TRUE SENTIMENT: negative\n"
     ]
    },
    {
     "name": "stderr",
     "output_type": "stream",
     "text": [
      " 29%|██▉       | 292/1000 [08:37<20:58,  1.78s/it]"
     ]
    },
    {
     "name": "stdout",
     "output_type": "stream",
     "text": [
      "\n",
      "=== Sample 292/1000 ===\n",
      "RAW TEXT:  - Still a pity it comes with no lamb though\n",
      "Predicted RAW: negative\n",
      "CLEANED TEXT: still pity come lamb though\n",
      "Predicted CLEAN: negative\n",
      "TRUE SENTIMENT: negative\n"
     ]
    },
    {
     "name": "stderr",
     "output_type": "stream",
     "text": [
      " 29%|██▉       | 293/1000 [08:39<20:49,  1.77s/it]"
     ]
    },
    {
     "name": "stdout",
     "output_type": "stream",
     "text": [
      "\n",
      "=== Sample 293/1000 ===\n",
      "RAW TEXT: TAKE THAT, TAKE THAT!!!! IN YOUR FACES!!!!!!!!!!!!  Robbie won!\n",
      "Predicted RAW: positive\n",
      "CLEANED TEXT: take take face robbie\n",
      "Predicted CLEAN: negative\n",
      "TRUE SENTIMENT: positive\n"
     ]
    },
    {
     "name": "stderr",
     "output_type": "stream",
     "text": [
      " 29%|██▉       | 294/1000 [08:40<20:42,  1.76s/it]"
     ]
    },
    {
     "name": "stdout",
     "output_type": "stream",
     "text": [
      "\n",
      "=== Sample 294/1000 ===\n",
      "RAW TEXT:  no other reason? I wonder if she loves you\n",
      "Predicted RAW: positive\n",
      "CLEANED TEXT: reason wonder love\n",
      "Predicted CLEAN: positive\n",
      "TRUE SENTIMENT: positive\n"
     ]
    },
    {
     "name": "stderr",
     "output_type": "stream",
     "text": [
      " 30%|██▉       | 295/1000 [08:42<20:39,  1.76s/it]"
     ]
    },
    {
     "name": "stdout",
     "output_type": "stream",
     "text": [
      "\n",
      "=== Sample 295/1000 ===\n",
      "RAW TEXT:  happy birthday ness!!\n",
      "Predicted RAW: positive\n",
      "CLEANED TEXT: happy birthday ness\n",
      "Predicted CLEAN: positive\n",
      "TRUE SENTIMENT: positive\n"
     ]
    },
    {
     "name": "stderr",
     "output_type": "stream",
     "text": [
      " 30%|██▉       | 296/1000 [08:44<20:36,  1.76s/it]"
     ]
    },
    {
     "name": "stdout",
     "output_type": "stream",
     "text": [
      "\n",
      "=== Sample 296/1000 ===\n",
      "RAW TEXT: feels ..my cousin is a monkey  http://plurk.com/p/x23pa\n",
      "Predicted RAW: negative\n",
      "CLEANED TEXT: feel cousin monkey\n",
      "Predicted CLEAN: negative\n",
      "TRUE SENTIMENT: negative\n"
     ]
    },
    {
     "name": "stderr",
     "output_type": "stream",
     "text": [
      " 30%|██▉       | 297/1000 [08:46<20:37,  1.76s/it]"
     ]
    },
    {
     "name": "stdout",
     "output_type": "stream",
     "text": [
      "\n",
      "=== Sample 297/1000 ===\n",
      "RAW TEXT: Don`t you hate it when you`re left with one slice of bread left in the bag? Half sandwich.\n",
      "Predicted RAW: negative\n",
      "CLEANED TEXT: dont hate youre left one slice bread left bag half sandwich\n",
      "Predicted CLEAN: negative\n",
      "TRUE SENTIMENT: negative\n"
     ]
    },
    {
     "name": "stderr",
     "output_type": "stream",
     "text": [
      " 30%|██▉       | 298/1000 [08:47<20:31,  1.75s/it]"
     ]
    },
    {
     "name": "stdout",
     "output_type": "stream",
     "text": [
      "\n",
      "=== Sample 298/1000 ===\n",
      "RAW TEXT: Loves random acts of kindness and laughter\n",
      "Predicted RAW: positive\n",
      "CLEANED TEXT: love random act kindness laughter\n",
      "Predicted CLEAN: positive\n",
      "TRUE SENTIMENT: positive\n"
     ]
    },
    {
     "name": "stderr",
     "output_type": "stream",
     "text": [
      " 30%|██▉       | 299/1000 [08:49<20:25,  1.75s/it]"
     ]
    },
    {
     "name": "stdout",
     "output_type": "stream",
     "text": [
      "\n",
      "=== Sample 299/1000 ===\n",
      "RAW TEXT: Gha, off to work - hopefully traffic has cleared up by the time I get there!!\n",
      "Predicted RAW: positive\n",
      "CLEANED TEXT: gha work hopefully traffic cleared time get\n",
      "Predicted CLEAN: negative\n",
      "TRUE SENTIMENT: positive\n"
     ]
    },
    {
     "name": "stderr",
     "output_type": "stream",
     "text": [
      " 30%|███       | 300/1000 [08:51<20:23,  1.75s/it]"
     ]
    },
    {
     "name": "stdout",
     "output_type": "stream",
     "text": [
      "\n",
      "=== Sample 300/1000 ===\n",
      "RAW TEXT: Just watched another episode of JONAS. Is it better than Hannah Montana? Very much true!\n",
      "Predicted RAW: positive\n",
      "CLEANED TEXT: watched another episode jonas better hannah montana much true\n",
      "Predicted CLEAN: positive\n",
      "TRUE SENTIMENT: positive\n"
     ]
    },
    {
     "name": "stderr",
     "output_type": "stream",
     "text": [
      " 30%|███       | 301/1000 [08:53<20:23,  1.75s/it]"
     ]
    },
    {
     "name": "stdout",
     "output_type": "stream",
     "text": [
      "\n",
      "=== Sample 301/1000 ===\n",
      "RAW TEXT: Going to meet the new family I`m babysitting for... Wish I was still sleeeeping\n",
      "Predicted RAW: negative\n",
      "CLEANED TEXT: going meet new family im babysitting wish still sleeeeping\n",
      "Predicted CLEAN: positive\n",
      "TRUE SENTIMENT: positive\n"
     ]
    },
    {
     "name": "stderr",
     "output_type": "stream",
     "text": [
      " 30%|███       | 302/1000 [08:54<20:43,  1.78s/it]"
     ]
    },
    {
     "name": "stdout",
     "output_type": "stream",
     "text": [
      "\n",
      "=== Sample 302/1000 ===\n",
      "RAW TEXT:  Hi Heather. I dont know why... but I just saw your messages from April!! Have not been very twitter friendly...\n",
      "Predicted RAW: positive\n",
      "CLEANED TEXT: hi heather dont know saw message april twitter friendly\n",
      "Predicted CLEAN: positive\n",
      "TRUE SENTIMENT: negative\n"
     ]
    },
    {
     "name": "stderr",
     "output_type": "stream",
     "text": [
      " 30%|███       | 303/1000 [08:56<20:56,  1.80s/it]"
     ]
    },
    {
     "name": "stdout",
     "output_type": "stream",
     "text": [
      "\n",
      "=== Sample 303/1000 ===\n",
      "RAW TEXT:  I know right  Poorpoor girl! It shows why they shouldn`t put young people in competitions like this though (.....) -\n",
      "Predicted RAW: negative\n",
      "CLEANED TEXT: know right poorpoor girl show shouldnt put young people competition like though\n",
      "Predicted CLEAN: negative\n",
      "TRUE SENTIMENT: negative\n"
     ]
    },
    {
     "name": "stderr",
     "output_type": "stream",
     "text": [
      " 30%|███       | 304/1000 [08:58<21:02,  1.81s/it]"
     ]
    },
    {
     "name": "stdout",
     "output_type": "stream",
     "text": [
      "\n",
      "=== Sample 304/1000 ===\n",
      "RAW TEXT:  wowie wooie someone updated their twitter without me having to remind you. I`m not even mad,I`m impressed.  how was the lasagna ?\n",
      "Predicted RAW: positive\n",
      "CLEANED TEXT: wowie wooie someone updated twitter without remind im even madim impressed lasagna\n",
      "Predicted CLEAN: negative\n",
      "TRUE SENTIMENT: positive\n"
     ]
    },
    {
     "name": "stderr",
     "output_type": "stream",
     "text": [
      " 30%|███       | 305/1000 [09:00<21:04,  1.82s/it]"
     ]
    },
    {
     "name": "stdout",
     "output_type": "stream",
     "text": [
      "\n",
      "=== Sample 305/1000 ===\n",
      "RAW TEXT: Today is another good day for some less extreme experiences... Anyone a fan of #24? I`m watching season 4 now\n",
      "Predicted RAW: positive\n",
      "CLEANED TEXT: today another good day less extreme experience anyone fan 24 im watching season 4\n",
      "Predicted CLEAN: positive\n",
      "TRUE SENTIMENT: positive\n"
     ]
    },
    {
     "name": "stderr",
     "output_type": "stream",
     "text": [
      " 31%|███       | 306/1000 [09:02<20:48,  1.80s/it]"
     ]
    },
    {
     "name": "stdout",
     "output_type": "stream",
     "text": [
      "\n",
      "=== Sample 306/1000 ===\n",
      "RAW TEXT:  i was going tonight, but you never wrote me back with the info  im sososo sad...\n",
      "Predicted RAW: negative\n",
      "CLEANED TEXT: going tonight never wrote back info im sososo sad\n",
      "Predicted CLEAN: negative\n",
      "TRUE SENTIMENT: negative\n"
     ]
    },
    {
     "name": "stderr",
     "output_type": "stream",
     "text": [
      " 31%|███       | 307/1000 [09:03<20:34,  1.78s/it]"
     ]
    },
    {
     "name": "stdout",
     "output_type": "stream",
     "text": [
      "\n",
      "=== Sample 307/1000 ===\n",
      "RAW TEXT:  still not 100%    im sick of being sick!\n",
      "Predicted RAW: negative\n",
      "CLEANED TEXT: still 100 im sick sick\n",
      "Predicted CLEAN: negative\n",
      "TRUE SENTIMENT: negative\n"
     ]
    },
    {
     "name": "stderr",
     "output_type": "stream",
     "text": [
      " 31%|███       | 308/1000 [09:05<20:29,  1.78s/it]"
     ]
    },
    {
     "name": "stdout",
     "output_type": "stream",
     "text": [
      "\n",
      "=== Sample 308/1000 ===\n",
      "RAW TEXT: wat a stressful week i jus hope everything falls into place 4me\n",
      "Predicted RAW: negative\n",
      "CLEANED TEXT: wat stressful week jus hope everything fall place 4me\n",
      "Predicted CLEAN: negative\n",
      "TRUE SENTIMENT: negative\n"
     ]
    },
    {
     "name": "stderr",
     "output_type": "stream",
     "text": [
      " 31%|███       | 309/1000 [09:07<20:21,  1.77s/it]"
     ]
    },
    {
     "name": "stdout",
     "output_type": "stream",
     "text": [
      "\n",
      "=== Sample 309/1000 ===\n",
      "RAW TEXT: with hubby at the dentist ready to hold his hand  and getting nervy about potentially buying a car tomorrow\n",
      "Predicted RAW: negative\n",
      "CLEANED TEXT: hubby dentist ready hold hand getting nervy potentially buying car tomorrow\n",
      "Predicted CLEAN: negative\n",
      "TRUE SENTIMENT: negative\n"
     ]
    },
    {
     "name": "stderr",
     "output_type": "stream",
     "text": [
      " 31%|███       | 310/1000 [09:09<20:14,  1.76s/it]"
     ]
    },
    {
     "name": "stdout",
     "output_type": "stream",
     "text": [
      "\n",
      "=== Sample 310/1000 ===\n",
      "RAW TEXT: Aww I got to see my 1st grade teacher`s last day before she retired\n",
      "Predicted RAW: positive\n",
      "CLEANED TEXT: aww got see 1st grade teacher last day retired\n",
      "Predicted CLEAN: positive\n",
      "TRUE SENTIMENT: positive\n"
     ]
    },
    {
     "name": "stderr",
     "output_type": "stream",
     "text": [
      " 31%|███       | 311/1000 [09:10<20:12,  1.76s/it]"
     ]
    },
    {
     "name": "stdout",
     "output_type": "stream",
     "text": [
      "\n",
      "=== Sample 311/1000 ===\n",
      "RAW TEXT:  For sure you should continue to Tweet WHILE on conf call, WHILE worrying about cat and bee.\n",
      "Predicted RAW: negative\n",
      "CLEANED TEXT: sure continue tweet conf call worrying cat bee\n",
      "Predicted CLEAN: negative\n",
      "TRUE SENTIMENT: negative\n"
     ]
    },
    {
     "name": "stderr",
     "output_type": "stream",
     "text": [
      " 31%|███       | 312/1000 [09:12<20:08,  1.76s/it]"
     ]
    },
    {
     "name": "stdout",
     "output_type": "stream",
     "text": [
      "\n",
      "=== Sample 312/1000 ===\n",
      "RAW TEXT: LOL! Made a huge mess of my school shirt, was using charcoal sticks in 2D art\n",
      "Predicted RAW: positive\n",
      "CLEANED TEXT: lol made huge mess school shirt using charcoal stick 2d art\n",
      "Predicted CLEAN: positive\n",
      "TRUE SENTIMENT: negative\n"
     ]
    },
    {
     "name": "stderr",
     "output_type": "stream",
     "text": [
      " 31%|███▏      | 313/1000 [09:14<20:06,  1.76s/it]"
     ]
    },
    {
     "name": "stdout",
     "output_type": "stream",
     "text": [
      "\n",
      "=== Sample 313/1000 ===\n",
      "RAW TEXT: BGT made me cry tonight\n",
      "Predicted RAW: positive\n",
      "CLEANED TEXT: bgt made cry tonight\n",
      "Predicted CLEAN: positive\n",
      "TRUE SENTIMENT: negative\n"
     ]
    },
    {
     "name": "stderr",
     "output_type": "stream",
     "text": [
      " 31%|███▏      | 314/1000 [09:16<20:00,  1.75s/it]"
     ]
    },
    {
     "name": "stdout",
     "output_type": "stream",
     "text": [
      "\n",
      "=== Sample 314/1000 ===\n",
      "RAW TEXT: gawww, why is facebook being so slow?\n",
      "Predicted RAW: negative\n",
      "CLEANED TEXT: ga facebook slow\n",
      "Predicted CLEAN: negative\n",
      "TRUE SENTIMENT: negative\n"
     ]
    },
    {
     "name": "stderr",
     "output_type": "stream",
     "text": [
      " 32%|███▏      | 315/1000 [09:17<19:58,  1.75s/it]"
     ]
    },
    {
     "name": "stdout",
     "output_type": "stream",
     "text": [
      "\n",
      "=== Sample 315/1000 ===\n",
      "RAW TEXT:  im cool  cant wait to hear these stories xoxo\n",
      "Predicted RAW: positive\n",
      "CLEANED TEXT: im cool cant wait hear story xoxo\n",
      "Predicted CLEAN: positive\n",
      "TRUE SENTIMENT: positive\n"
     ]
    },
    {
     "name": "stderr",
     "output_type": "stream",
     "text": [
      " 32%|███▏      | 316/1000 [09:19<19:57,  1.75s/it]"
     ]
    },
    {
     "name": "stdout",
     "output_type": "stream",
     "text": [
      "\n",
      "=== Sample 316/1000 ===\n",
      "RAW TEXT: Also I was conviced to do a happy dance and then told it was the most adorable happy dance ever\n",
      "Predicted RAW: positive\n",
      "CLEANED TEXT: also conviced happy dance told adorable happy dance ever\n",
      "Predicted CLEAN: positive\n",
      "TRUE SENTIMENT: positive\n"
     ]
    },
    {
     "name": "stderr",
     "output_type": "stream",
     "text": [
      " 32%|███▏      | 317/1000 [09:21<19:55,  1.75s/it]"
     ]
    },
    {
     "name": "stdout",
     "output_type": "stream",
     "text": [
      "\n",
      "=== Sample 317/1000 ===\n",
      "RAW TEXT: i feel in love with pizza girl... now i eat pizza everyday\n",
      "Predicted RAW: positive\n",
      "CLEANED TEXT: feel love pizza girl eat pizza everyday\n",
      "Predicted CLEAN: positive\n",
      "TRUE SENTIMENT: positive\n"
     ]
    },
    {
     "name": "stderr",
     "output_type": "stream",
     "text": [
      " 32%|███▏      | 318/1000 [09:23<19:53,  1.75s/it]"
     ]
    },
    {
     "name": "stdout",
     "output_type": "stream",
     "text": [
      "\n",
      "=== Sample 318/1000 ===\n",
      "RAW TEXT:  11 30s way early! anyway nigth night  love you!\n",
      "Predicted RAW: positive\n",
      "CLEANED TEXT: 11 30 way early anyway nigth night love\n",
      "Predicted CLEAN: positive\n",
      "TRUE SENTIMENT: positive\n"
     ]
    },
    {
     "name": "stderr",
     "output_type": "stream",
     "text": [
      " 32%|███▏      | 319/1000 [09:24<19:55,  1.75s/it]"
     ]
    },
    {
     "name": "stdout",
     "output_type": "stream",
     "text": [
      "\n",
      "=== Sample 319/1000 ===\n",
      "RAW TEXT:  If i say PLEASE REPLY TO ME DOUGIE, will you do it? I double dare you\n",
      "Predicted RAW: negative\n",
      "CLEANED TEXT: say please reply dougie double dare\n",
      "Predicted CLEAN: negative\n",
      "TRUE SENTIMENT: negative\n"
     ]
    },
    {
     "name": "stderr",
     "output_type": "stream",
     "text": [
      " 32%|███▏      | 320/1000 [09:26<20:10,  1.78s/it]"
     ]
    },
    {
     "name": "stdout",
     "output_type": "stream",
     "text": [
      "\n",
      "=== Sample 320/1000 ===\n",
      "RAW TEXT:  MUAHAHAHHAHAHA...   well, maybe they think I`m crazy or something. I haven`t scared  yet though\n",
      "Predicted RAW: positive\n",
      "CLEANED TEXT: muahahahhahaha well maybe think im crazy something havent scared yet though\n",
      "Predicted CLEAN: negative\n",
      "TRUE SENTIMENT: positive\n"
     ]
    },
    {
     "name": "stderr",
     "output_type": "stream",
     "text": [
      " 32%|███▏      | 321/1000 [09:28<20:01,  1.77s/it]"
     ]
    },
    {
     "name": "stdout",
     "output_type": "stream",
     "text": [
      "\n",
      "=== Sample 321/1000 ===\n",
      "RAW TEXT: today got her POP! t-shirt & lovess ittt  haha x\n",
      "Predicted RAW: positive\n",
      "CLEANED TEXT: today got pop tshirt lovess ittt haha x\n",
      "Predicted CLEAN: positive\n",
      "TRUE SENTIMENT: positive\n"
     ]
    },
    {
     "name": "stderr",
     "output_type": "stream",
     "text": [
      " 32%|███▏      | 322/1000 [09:30<19:55,  1.76s/it]"
     ]
    },
    {
     "name": "stdout",
     "output_type": "stream",
     "text": [
      "\n",
      "=== Sample 322/1000 ===\n",
      "RAW TEXT: Perfect night. Best month of my life so far!! You my boo, \n",
      "Predicted RAW: positive\n",
      "CLEANED TEXT: perfect night best month life far boo\n",
      "Predicted CLEAN: positive\n",
      "TRUE SENTIMENT: positive\n"
     ]
    },
    {
     "name": "stderr",
     "output_type": "stream",
     "text": [
      " 32%|███▏      | 323/1000 [09:32<20:09,  1.79s/it]"
     ]
    },
    {
     "name": "stdout",
     "output_type": "stream",
     "text": [
      "\n",
      "=== Sample 323/1000 ===\n",
      "RAW TEXT:  yayy  you`ll can help me im doing my english homeworks which i had to do during the holidays >.<\n",
      "Predicted RAW: positive\n",
      "CLEANED TEXT: yayy youll help im english homework holiday\n",
      "Predicted CLEAN: positive\n",
      "TRUE SENTIMENT: positive\n"
     ]
    },
    {
     "name": "stderr",
     "output_type": "stream",
     "text": [
      " 32%|███▏      | 324/1000 [09:33<20:18,  1.80s/it]"
     ]
    },
    {
     "name": "stdout",
     "output_type": "stream",
     "text": [
      "\n",
      "=== Sample 324/1000 ===\n",
      "RAW TEXT:  hi ya demi! im glad ur back   http://twitpic.com/4vuuy i personally love the picture! haha\n",
      "Predicted RAW: positive\n",
      "CLEANED TEXT: hi ya demi im glad ur back personally love picture haha\n",
      "Predicted CLEAN: positive\n",
      "TRUE SENTIMENT: positive\n"
     ]
    },
    {
     "name": "stderr",
     "output_type": "stream",
     "text": [
      " 32%|███▎      | 325/1000 [09:35<20:06,  1.79s/it]"
     ]
    },
    {
     "name": "stdout",
     "output_type": "stream",
     "text": [
      "\n",
      "=== Sample 325/1000 ===\n",
      "RAW TEXT:  Think you should do a tour in England, we dont got to see any aweomse people !!\n",
      "Predicted RAW: negative\n",
      "CLEANED TEXT: think tour england dont got see aweomse people\n",
      "Predicted CLEAN: negative\n",
      "TRUE SENTIMENT: negative\n"
     ]
    },
    {
     "name": "stderr",
     "output_type": "stream",
     "text": [
      " 33%|███▎      | 326/1000 [09:37<19:53,  1.77s/it]"
     ]
    },
    {
     "name": "stdout",
     "output_type": "stream",
     "text": [
      "\n",
      "=== Sample 326/1000 ===\n",
      "RAW TEXT: Is bummed out...i don`t have even one testimonial on Flickr.\n",
      "Predicted RAW: negative\n",
      "CLEANED TEXT: bummed outi dont even one testimonial flickr\n",
      "Predicted CLEAN: negative\n",
      "TRUE SENTIMENT: negative\n"
     ]
    },
    {
     "name": "stderr",
     "output_type": "stream",
     "text": [
      " 33%|███▎      | 327/1000 [09:39<19:46,  1.76s/it]"
     ]
    },
    {
     "name": "stdout",
     "output_type": "stream",
     "text": [
      "\n",
      "=== Sample 327/1000 ===\n",
      "RAW TEXT:  I am sorry that you are feeling that way.\n",
      "Predicted RAW: positive\n",
      "CLEANED TEXT: sorry feeling way\n",
      "Predicted CLEAN: negative\n",
      "TRUE SENTIMENT: negative\n"
     ]
    },
    {
     "name": "stderr",
     "output_type": "stream",
     "text": [
      " 33%|███▎      | 328/1000 [09:40<19:42,  1.76s/it]"
     ]
    },
    {
     "name": "stdout",
     "output_type": "stream",
     "text": [
      "\n",
      "=== Sample 328/1000 ===\n",
      "RAW TEXT: yeah so Prom Night is now the Craft (good movie)\n",
      "Predicted RAW: positive\n",
      "CLEANED TEXT: yeah prom night craft good movie\n",
      "Predicted CLEAN: positive\n",
      "TRUE SENTIMENT: positive\n"
     ]
    },
    {
     "name": "stderr",
     "output_type": "stream",
     "text": [
      " 33%|███▎      | 329/1000 [09:42<19:57,  1.78s/it]"
     ]
    },
    {
     "name": "stdout",
     "output_type": "stream",
     "text": [
      "\n",
      "=== Sample 329/1000 ===\n",
      "RAW TEXT:  don`t go to logan square we`re pretty sure the shirt isn`t there  1 more philly local tmrw\n",
      "Predicted RAW: negative\n",
      "CLEANED TEXT: dont go logan square pretty sure shirt isnt 1 philly local tmrw\n",
      "Predicted CLEAN: negative\n",
      "TRUE SENTIMENT: negative\n"
     ]
    },
    {
     "name": "stderr",
     "output_type": "stream",
     "text": [
      " 33%|███▎      | 330/1000 [09:44<19:52,  1.78s/it]"
     ]
    },
    {
     "name": "stdout",
     "output_type": "stream",
     "text": [
      "\n",
      "=== Sample 330/1000 ===\n",
      "RAW TEXT:     I am sending healthy, healing thoughts in the mumborg`s direction.\n",
      "Predicted RAW: positive\n",
      "CLEANED TEXT: sending healthy healing thought mumborgs direction\n",
      "Predicted CLEAN: positive\n",
      "TRUE SENTIMENT: positive\n"
     ]
    },
    {
     "name": "stderr",
     "output_type": "stream",
     "text": [
      " 33%|███▎      | 331/1000 [09:46<19:47,  1.78s/it]"
     ]
    },
    {
     "name": "stdout",
     "output_type": "stream",
     "text": [
      "\n",
      "=== Sample 331/1000 ===\n",
      "RAW TEXT: Not at prom. Ha! Chinese, iced chai, and some old school pokemon. Good night\n",
      "Predicted RAW: positive\n",
      "CLEANED TEXT: prom ha chinese iced chai old school pokemon good night\n",
      "Predicted CLEAN: positive\n",
      "TRUE SENTIMENT: positive\n"
     ]
    },
    {
     "name": "stderr",
     "output_type": "stream",
     "text": [
      " 33%|███▎      | 332/1000 [09:48<20:00,  1.80s/it]"
     ]
    },
    {
     "name": "stdout",
     "output_type": "stream",
     "text": [
      "\n",
      "=== Sample 332/1000 ===\n",
      "RAW TEXT: Went on a short flight around the Geelong waterfront.  Surprised at how well I handled it, as I`m still exhausted from last weeks meetup\n",
      "Predicted RAW: positive\n",
      "CLEANED TEXT: went short flight around geelong waterfront surprised well handled im still exhausted last week meetup\n",
      "Predicted CLEAN: positive\n",
      "TRUE SENTIMENT: positive\n"
     ]
    },
    {
     "name": "stderr",
     "output_type": "stream",
     "text": [
      " 33%|███▎      | 333/1000 [09:50<20:05,  1.81s/it]"
     ]
    },
    {
     "name": "stdout",
     "output_type": "stream",
     "text": [
      "\n",
      "=== Sample 333/1000 ===\n",
      "RAW TEXT: : I`ll keep y`all in my prayers but welcome back to TX  Hope you have a good,safe flight\n",
      "Predicted RAW: positive\n",
      "CLEANED TEXT: ill keep yall prayer welcome back tx hope goodsafe flight\n",
      "Predicted CLEAN: positive\n",
      "TRUE SENTIMENT: positive\n"
     ]
    },
    {
     "name": "stderr",
     "output_type": "stream",
     "text": [
      " 33%|███▎      | 334/1000 [09:51<19:51,  1.79s/it]"
     ]
    },
    {
     "name": "stdout",
     "output_type": "stream",
     "text": [
      "\n",
      "=== Sample 334/1000 ===\n",
      "RAW TEXT: Good morning scary world!\n",
      "Predicted RAW: negative\n",
      "CLEANED TEXT: good morning scary world\n",
      "Predicted CLEAN: negative\n",
      "TRUE SENTIMENT: negative\n"
     ]
    },
    {
     "name": "stderr",
     "output_type": "stream",
     "text": [
      " 34%|███▎      | 335/1000 [09:53<19:40,  1.78s/it]"
     ]
    },
    {
     "name": "stdout",
     "output_type": "stream",
     "text": [
      "\n",
      "=== Sample 335/1000 ===\n",
      "RAW TEXT: is back at working auditing away, time to make the hard decisions and be happy\n",
      "Predicted RAW: positive\n",
      "CLEANED TEXT: back working auditing away time make hard decision happy\n",
      "Predicted CLEAN: positive\n",
      "TRUE SENTIMENT: positive\n"
     ]
    },
    {
     "name": "stderr",
     "output_type": "stream",
     "text": [
      " 34%|███▎      | 336/1000 [09:55<19:36,  1.77s/it]"
     ]
    },
    {
     "name": "stdout",
     "output_type": "stream",
     "text": [
      "\n",
      "=== Sample 336/1000 ===\n",
      "RAW TEXT:  - ummmm. no comment. LOL. I actually have not watched GH in about a week.\n",
      "Predicted RAW: neutral\n",
      "CLEANED TEXT: ummmm comment lol actually watched gh week\n",
      "Predicted CLEAN: positive\n",
      "TRUE SENTIMENT: positive\n"
     ]
    },
    {
     "name": "stderr",
     "output_type": "stream",
     "text": [
      " 34%|███▎      | 337/1000 [09:57<19:46,  1.79s/it]"
     ]
    },
    {
     "name": "stdout",
     "output_type": "stream",
     "text": [
      "\n",
      "=== Sample 337/1000 ===\n",
      "RAW TEXT:  <3 your gonna be the first  twitter ;) cause your amazing lol. come to canada  would do anything to see you perform\n",
      "Predicted RAW: positive\n",
      "CLEANED TEXT: 3 gon na first twitter cause amazing lol come canada would anything see perform\n",
      "Predicted CLEAN: negative\n",
      "TRUE SENTIMENT: positive\n"
     ]
    },
    {
     "name": "stderr",
     "output_type": "stream",
     "text": [
      " 34%|███▍      | 338/1000 [09:58<19:33,  1.77s/it]"
     ]
    },
    {
     "name": "stdout",
     "output_type": "stream",
     "text": [
      "\n",
      "=== Sample 338/1000 ===\n",
      "RAW TEXT:  Thankfully that face only shows up for photoshoots\n",
      "Predicted RAW: positive\n",
      "CLEANED TEXT: thankfully face show photoshoots\n",
      "Predicted CLEAN: positive\n",
      "TRUE SENTIMENT: positive\n"
     ]
    },
    {
     "name": "stderr",
     "output_type": "stream",
     "text": [
      " 34%|███▍      | 339/1000 [10:00<19:26,  1.76s/it]"
     ]
    },
    {
     "name": "stdout",
     "output_type": "stream",
     "text": [
      "\n",
      "=== Sample 339/1000 ===\n",
      "RAW TEXT:  Don`t worry, the bizarre will find you\n",
      "Predicted RAW: positive\n",
      "CLEANED TEXT: dont worry bizarre find\n",
      "Predicted CLEAN: negative\n",
      "TRUE SENTIMENT: positive\n"
     ]
    },
    {
     "name": "stderr",
     "output_type": "stream",
     "text": [
      " 34%|███▍      | 340/1000 [10:02<19:20,  1.76s/it]"
     ]
    },
    {
     "name": "stdout",
     "output_type": "stream",
     "text": [
      "\n",
      "=== Sample 340/1000 ===\n",
      "RAW TEXT:  Sorry - I have failed to grasp your meaning\n",
      "Predicted RAW: negative\n",
      "CLEANED TEXT: sorry failed grasp meaning\n",
      "Predicted CLEAN: negative\n",
      "TRUE SENTIMENT: negative\n"
     ]
    },
    {
     "name": "stderr",
     "output_type": "stream",
     "text": [
      " 34%|███▍      | 341/1000 [10:04<19:35,  1.78s/it]"
     ]
    },
    {
     "name": "stdout",
     "output_type": "stream",
     "text": [
      "\n",
      "=== Sample 341/1000 ===\n",
      "RAW TEXT: Extremely happy to see my new track 'The Awakening' featured on Indivibe   http://www.indivibe.com/vibe.php?city=1\n",
      "Predicted RAW: positive\n",
      "CLEANED TEXT: extremely happy see new track awakening featured indivibe\n",
      "Predicted CLEAN: positive\n",
      "TRUE SENTIMENT: positive\n"
     ]
    },
    {
     "name": "stderr",
     "output_type": "stream",
     "text": [
      " 34%|███▍      | 342/1000 [10:05<19:27,  1.77s/it]"
     ]
    },
    {
     "name": "stdout",
     "output_type": "stream",
     "text": [
      "\n",
      "=== Sample 342/1000 ===\n",
      "RAW TEXT: I love my mom! Happy Mother`s Day, mommies\n",
      "Predicted RAW: positive\n",
      "CLEANED TEXT: love mom happy mother day mommy\n",
      "Predicted CLEAN: positive\n",
      "TRUE SENTIMENT: positive\n"
     ]
    },
    {
     "name": "stderr",
     "output_type": "stream",
     "text": [
      " 34%|███▍      | 343/1000 [10:07<19:37,  1.79s/it]"
     ]
    },
    {
     "name": "stdout",
     "output_type": "stream",
     "text": [
      "\n",
      "=== Sample 343/1000 ===\n",
      "RAW TEXT: Just Chilling after MCFLY last night! ABSOULUTELY INCREDIBLE! =D i love them!\n",
      "Predicted RAW: positive\n",
      "CLEANED TEXT: chilling mcfly last night absoulutely incredible love\n",
      "Predicted CLEAN: positive\n",
      "TRUE SENTIMENT: positive\n"
     ]
    },
    {
     "name": "stderr",
     "output_type": "stream",
     "text": [
      " 34%|███▍      | 344/1000 [10:09<19:27,  1.78s/it]"
     ]
    },
    {
     "name": "stdout",
     "output_type": "stream",
     "text": [
      "\n",
      "=== Sample 344/1000 ===\n",
      "RAW TEXT: God, why can`t I be at #asylum? Really. I never get to do anything cool!\n",
      "Predicted RAW: negative\n",
      "CLEANED TEXT: god cant asylum really never get anything cool\n",
      "Predicted CLEAN: negative\n",
      "TRUE SENTIMENT: negative\n"
     ]
    },
    {
     "name": "stderr",
     "output_type": "stream",
     "text": [
      " 34%|███▍      | 345/1000 [10:11<19:19,  1.77s/it]"
     ]
    },
    {
     "name": "stdout",
     "output_type": "stream",
     "text": [
      "\n",
      "=== Sample 345/1000 ===\n",
      "RAW TEXT: working on mothers day slideshow, cake, card, and balloons  she deserves the best!\n",
      "Predicted RAW: positive\n",
      "CLEANED TEXT: working mother day slideshow cake card balloon deserves best\n",
      "Predicted CLEAN: positive\n",
      "TRUE SENTIMENT: positive\n"
     ]
    },
    {
     "name": "stderr",
     "output_type": "stream",
     "text": [
      " 35%|███▍      | 346/1000 [10:12<19:11,  1.76s/it]"
     ]
    },
    {
     "name": "stdout",
     "output_type": "stream",
     "text": [
      "\n",
      "=== Sample 346/1000 ===\n",
      "RAW TEXT:  Thanks, hope you have a good one\n",
      "Predicted RAW: positive\n",
      "CLEANED TEXT: thanks hope good one\n",
      "Predicted CLEAN: positive\n",
      "TRUE SENTIMENT: positive\n"
     ]
    },
    {
     "name": "stderr",
     "output_type": "stream",
     "text": [
      " 35%|███▍      | 347/1000 [10:14<19:12,  1.76s/it]"
     ]
    },
    {
     "name": "stdout",
     "output_type": "stream",
     "text": [
      "\n",
      "=== Sample 347/1000 ===\n",
      "RAW TEXT:  - You too, thanks for completing  Calvin Appreciated\n",
      "Predicted RAW: positive\n",
      "CLEANED TEXT: thanks completing calvin appreciated\n",
      "Predicted CLEAN: positive\n",
      "TRUE SENTIMENT: positive\n"
     ]
    },
    {
     "name": "stderr",
     "output_type": "stream",
     "text": [
      " 35%|███▍      | 348/1000 [10:16<19:10,  1.76s/it]"
     ]
    },
    {
     "name": "stdout",
     "output_type": "stream",
     "text": [
      "\n",
      "=== Sample 348/1000 ===\n",
      "RAW TEXT: Morning everyone sorry for going early last night had bad news, felt totally ****   Today is a new day\n",
      "Predicted RAW: negative\n",
      "CLEANED TEXT: morning everyone sorry going early last night bad news felt totally today new day\n",
      "Predicted CLEAN: negative\n",
      "TRUE SENTIMENT: negative\n"
     ]
    },
    {
     "name": "stderr",
     "output_type": "stream",
     "text": [
      " 35%|███▍      | 349/1000 [10:18<19:24,  1.79s/it]"
     ]
    },
    {
     "name": "stdout",
     "output_type": "stream",
     "text": [
      "\n",
      "=== Sample 349/1000 ===\n",
      "RAW TEXT:  Hahah! That was the best! Thank god for Terry he was laughing so hard. I miss him   I remember racing trucks with him that ...\n",
      "Predicted RAW: positive\n",
      "CLEANED TEXT: hahah best thank god terry laughing hard miss remember racing truck\n",
      "Predicted CLEAN: positive\n",
      "TRUE SENTIMENT: positive\n"
     ]
    },
    {
     "name": "stderr",
     "output_type": "stream",
     "text": [
      " 35%|███▌      | 350/1000 [10:20<19:15,  1.78s/it]"
     ]
    },
    {
     "name": "stdout",
     "output_type": "stream",
     "text": [
      "\n",
      "=== Sample 350/1000 ===\n",
      "RAW TEXT:  KILL IT JASMINE! Haven`t talked to you for ages.\n",
      "Predicted RAW: positive\n",
      "CLEANED TEXT: kill jasmine havent talked age\n",
      "Predicted CLEAN: negative\n",
      "TRUE SENTIMENT: negative\n"
     ]
    },
    {
     "name": "stderr",
     "output_type": "stream",
     "text": [
      " 35%|███▌      | 351/1000 [10:21<19:08,  1.77s/it]"
     ]
    },
    {
     "name": "stdout",
     "output_type": "stream",
     "text": [
      "\n",
      "=== Sample 351/1000 ===\n",
      "RAW TEXT: got an awesome hair cut todayyyy  it looks so hottt haha doing homework\n",
      "Predicted RAW: positive\n",
      "CLEANED TEXT: got awesome hair cut todayyyy look hottt haha homework\n",
      "Predicted CLEAN: positive\n",
      "TRUE SENTIMENT: positive\n"
     ]
    },
    {
     "name": "stderr",
     "output_type": "stream",
     "text": [
      " 35%|███▌      | 352/1000 [10:23<19:20,  1.79s/it]"
     ]
    },
    {
     "name": "stdout",
     "output_type": "stream",
     "text": [
      "\n",
      "=== Sample 352/1000 ===\n",
      "RAW TEXT:  someone`s a sweet tooth  i was dying for somethin sweet so i`ve attacked the chock coated tiny teddies all i could find lol\n",
      "Predicted RAW: positive\n",
      "CLEANED TEXT: someone sweet tooth dying somethin sweet ive attacked chock coated tiny teddy could find lol\n",
      "Predicted CLEAN: positive\n",
      "TRUE SENTIMENT: positive\n"
     ]
    },
    {
     "name": "stderr",
     "output_type": "stream",
     "text": [
      " 35%|███▌      | 353/1000 [10:25<19:10,  1.78s/it]"
     ]
    },
    {
     "name": "stdout",
     "output_type": "stream",
     "text": [
      "\n",
      "=== Sample 353/1000 ===\n",
      "RAW TEXT: my apple-mouse doesn`t work on my shiny red coffee table...\n",
      "Predicted RAW: negative\n",
      "CLEANED TEXT: applemouse doesnt work shiny red coffee table\n",
      "Predicted CLEAN: negative\n",
      "TRUE SENTIMENT: negative\n"
     ]
    },
    {
     "name": "stderr",
     "output_type": "stream",
     "text": [
      " 35%|███▌      | 354/1000 [10:27<18:59,  1.76s/it]"
     ]
    },
    {
     "name": "stdout",
     "output_type": "stream",
     "text": [
      "\n",
      "=== Sample 354/1000 ===\n",
      "RAW TEXT:  (2) in commentary  , I was with her, was sad, very sad\n",
      "Predicted RAW: negative\n",
      "CLEANED TEXT: 2 commentary sad sad\n",
      "Predicted CLEAN: negative\n",
      "TRUE SENTIMENT: negative\n"
     ]
    },
    {
     "name": "stderr",
     "output_type": "stream",
     "text": [
      " 36%|███▌      | 355/1000 [10:28<18:51,  1.75s/it]"
     ]
    },
    {
     "name": "stdout",
     "output_type": "stream",
     "text": [
      "\n",
      "=== Sample 355/1000 ===\n",
      "RAW TEXT: Yet another good weekend with someone. Sigh. Man I like the boy..\n",
      "Predicted RAW: positive\n",
      "CLEANED TEXT: yet another good weekend someone sigh man like boy\n",
      "Predicted CLEAN: positive\n",
      "TRUE SENTIMENT: positive\n"
     ]
    },
    {
     "name": "stderr",
     "output_type": "stream",
     "text": [
      " 36%|███▌      | 356/1000 [10:30<18:47,  1.75s/it]"
     ]
    },
    {
     "name": "stdout",
     "output_type": "stream",
     "text": [
      "\n",
      "=== Sample 356/1000 ===\n",
      "RAW TEXT: about to head to the Strand, goodnight\n",
      "Predicted RAW: positive\n",
      "CLEANED TEXT: head strand goodnight\n",
      "Predicted CLEAN: positive\n",
      "TRUE SENTIMENT: positive\n"
     ]
    },
    {
     "name": "stderr",
     "output_type": "stream",
     "text": [
      " 36%|███▌      | 357/1000 [10:32<18:43,  1.75s/it]"
     ]
    },
    {
     "name": "stdout",
     "output_type": "stream",
     "text": [
      "\n",
      "=== Sample 357/1000 ===\n",
      "RAW TEXT:  hiya! been looking for you1\n",
      "Predicted RAW: positive\n",
      "CLEANED TEXT: hiya looking you1\n",
      "Predicted CLEAN: positive\n",
      "TRUE SENTIMENT: positive\n"
     ]
    },
    {
     "name": "stderr",
     "output_type": "stream",
     "text": [
      " 36%|███▌      | 358/1000 [10:34<18:40,  1.75s/it]"
     ]
    },
    {
     "name": "stdout",
     "output_type": "stream",
     "text": [
      "\n",
      "=== Sample 358/1000 ===\n",
      "RAW TEXT:  Aw, that stinks, I`m sorry.\n",
      "Predicted RAW: negative\n",
      "CLEANED TEXT: aw stink im sorry\n",
      "Predicted CLEAN: negative\n",
      "TRUE SENTIMENT: negative\n"
     ]
    },
    {
     "name": "stderr",
     "output_type": "stream",
     "text": [
      " 36%|███▌      | 359/1000 [10:35<18:36,  1.74s/it]"
     ]
    },
    {
     "name": "stdout",
     "output_type": "stream",
     "text": [
      "\n",
      "=== Sample 359/1000 ===\n",
      "RAW TEXT: My comp is being slo w\n",
      "Predicted RAW: negative\n",
      "CLEANED TEXT: comp slo w\n",
      "Predicted CLEAN: negative\n",
      "TRUE SENTIMENT: negative\n"
     ]
    },
    {
     "name": "stderr",
     "output_type": "stream",
     "text": [
      " 36%|███▌      | 360/1000 [10:37<18:34,  1.74s/it]"
     ]
    },
    {
     "name": "stdout",
     "output_type": "stream",
     "text": [
      "\n",
      "=== Sample 360/1000 ===\n",
      "RAW TEXT: : unfortunately not.  I have to take it to a repair shop or replace it.\n",
      "Predicted RAW: negative\n",
      "CLEANED TEXT: unfortunately take repair shop replace\n",
      "Predicted CLEAN: negative\n",
      "TRUE SENTIMENT: negative\n"
     ]
    },
    {
     "name": "stderr",
     "output_type": "stream",
     "text": [
      " 36%|███▌      | 361/1000 [10:39<18:49,  1.77s/it]"
     ]
    },
    {
     "name": "stdout",
     "output_type": "stream",
     "text": [
      "\n",
      "=== Sample 361/1000 ===\n",
      "RAW TEXT:  : Come to VietNam to make a live Show Miley. there are so much fans love you at Viet Nam\n",
      "Predicted RAW: positive\n",
      "CLEANED TEXT: come vietnam make live show miley much fan love viet nam\n",
      "Predicted CLEAN: positive\n",
      "TRUE SENTIMENT: positive\n"
     ]
    },
    {
     "name": "stderr",
     "output_type": "stream",
     "text": [
      " 36%|███▌      | 362/1000 [10:41<18:46,  1.77s/it]"
     ]
    },
    {
     "name": "stdout",
     "output_type": "stream",
     "text": [
      "\n",
      "=== Sample 362/1000 ===\n",
      "RAW TEXT:  'You guys could have fun in a cardboard box'.. I miss you already, bro.\n",
      "Predicted RAW: positive\n",
      "CLEANED TEXT: guy could fun cardboard box miss already bro\n",
      "Predicted CLEAN: negative\n",
      "TRUE SENTIMENT: negative\n"
     ]
    },
    {
     "name": "stderr",
     "output_type": "stream",
     "text": [
      " 36%|███▋      | 363/1000 [10:43<18:57,  1.78s/it]"
     ]
    },
    {
     "name": "stdout",
     "output_type": "stream",
     "text": [
      "\n",
      "=== Sample 363/1000 ===\n",
      "RAW TEXT: Josie`s out of surgery. She`s now officially unable to procreate. And She`s way out of it... Poor medicated baby\n",
      "Predicted RAW: negative\n",
      "CLEANED TEXT: josies surgery shes officially unable procreate shes way poor medicated baby\n",
      "Predicted CLEAN: negative\n",
      "TRUE SENTIMENT: negative\n"
     ]
    },
    {
     "name": "stderr",
     "output_type": "stream",
     "text": [
      " 36%|███▋      | 364/1000 [10:44<18:50,  1.78s/it]"
     ]
    },
    {
     "name": "stdout",
     "output_type": "stream",
     "text": [
      "\n",
      "=== Sample 364/1000 ===\n",
      "RAW TEXT: I signed up for an account on a political website so I could post a comment but it isn`t working.\n",
      "Predicted RAW: negative\n",
      "CLEANED TEXT: signed account political website could post comment isnt working\n",
      "Predicted CLEAN: negative\n",
      "TRUE SENTIMENT: negative\n"
     ]
    },
    {
     "name": "stderr",
     "output_type": "stream",
     "text": [
      " 36%|███▋      | 365/1000 [10:46<18:59,  1.79s/it]"
     ]
    },
    {
     "name": "stdout",
     "output_type": "stream",
     "text": [
      "\n",
      "=== Sample 365/1000 ===\n",
      "RAW TEXT: _NigerianBoi thanks JT i also enjoyed it i will. r u following me? ill follow u back\n",
      "Predicted RAW: positive\n",
      "CLEANED TEXT: nigerianboi thanks jt also enjoyed r u following ill follow u back\n",
      "Predicted CLEAN: positive\n",
      "TRUE SENTIMENT: positive\n"
     ]
    },
    {
     "name": "stderr",
     "output_type": "stream",
     "text": [
      " 37%|███▋      | 366/1000 [10:48<18:48,  1.78s/it]"
     ]
    },
    {
     "name": "stdout",
     "output_type": "stream",
     "text": [
      "\n",
      "=== Sample 366/1000 ===\n",
      "RAW TEXT:  sorry 19/female/atl very lonely\n",
      "Predicted RAW: negative\n",
      "CLEANED TEXT: sorry 19femaleatl lonely\n",
      "Predicted CLEAN: negative\n",
      "TRUE SENTIMENT: negative\n"
     ]
    },
    {
     "name": "stderr",
     "output_type": "stream",
     "text": [
      " 37%|███▋      | 367/1000 [10:50<18:46,  1.78s/it]"
     ]
    },
    {
     "name": "stdout",
     "output_type": "stream",
     "text": [
      "\n",
      "=== Sample 367/1000 ===\n",
      "RAW TEXT: Feeling awful, new medication is making me nauseous\n",
      "Predicted RAW: negative\n",
      "CLEANED TEXT: feeling awful new medication making nauseous\n",
      "Predicted CLEAN: negative\n",
      "TRUE SENTIMENT: negative\n"
     ]
    },
    {
     "name": "stderr",
     "output_type": "stream",
     "text": [
      " 37%|███▋      | 368/1000 [10:52<18:58,  1.80s/it]"
     ]
    },
    {
     "name": "stdout",
     "output_type": "stream",
     "text": [
      "\n",
      "=== Sample 368/1000 ===\n",
      "RAW TEXT:  inooo arent they just  i wanna just go down there now an meet kyle again.. im too obsessed its not fair!\n",
      "Predicted RAW: positive\n",
      "CLEANED TEXT: inooo arent wan na go meet kyle im obsessed fair\n",
      "Predicted CLEAN: positive\n",
      "TRUE SENTIMENT: negative\n"
     ]
    },
    {
     "name": "stderr",
     "output_type": "stream",
     "text": [
      " 37%|███▋      | 369/1000 [10:53<18:44,  1.78s/it]"
     ]
    },
    {
     "name": "stdout",
     "output_type": "stream",
     "text": [
      "\n",
      "=== Sample 369/1000 ===\n",
      "RAW TEXT:  If I could, I`d send California sunshine your way.\n",
      "Predicted RAW: positive\n",
      "CLEANED TEXT: could id send california sunshine way\n",
      "Predicted CLEAN: positive\n",
      "TRUE SENTIMENT: positive\n"
     ]
    },
    {
     "name": "stderr",
     "output_type": "stream",
     "text": [
      " 37%|███▋      | 370/1000 [10:55<18:43,  1.78s/it]"
     ]
    },
    {
     "name": "stdout",
     "output_type": "stream",
     "text": [
      "\n",
      "=== Sample 370/1000 ===\n",
      "RAW TEXT: I need a present for my mom.  Could anybody help me ?!\n",
      "Predicted RAW: positive\n",
      "CLEANED TEXT: need present mom could anybody help\n",
      "Predicted CLEAN: negative\n",
      "TRUE SENTIMENT: positive\n"
     ]
    },
    {
     "name": "stderr",
     "output_type": "stream",
     "text": [
      " 37%|███▋      | 371/1000 [10:57<18:52,  1.80s/it]"
     ]
    },
    {
     "name": "stdout",
     "output_type": "stream",
     "text": [
      "\n",
      "=== Sample 371/1000 ===\n",
      "RAW TEXT:  I am in Weirton Julie, way up North at the tippy top! LOL we don`t think southern WV folks like us too much.\n",
      "Predicted RAW: positive\n",
      "CLEANED TEXT: weirton julie way north tippy top lol dont think southern wv folk like u much\n",
      "Predicted CLEAN: negative\n",
      "TRUE SENTIMENT: negative\n"
     ]
    },
    {
     "name": "stderr",
     "output_type": "stream",
     "text": [
      " 37%|███▋      | 372/1000 [10:59<18:40,  1.78s/it]"
     ]
    },
    {
     "name": "stdout",
     "output_type": "stream",
     "text": [
      "\n",
      "=== Sample 372/1000 ===\n",
      "RAW TEXT: bad mood and i dont feel good. too bad no one cares\n",
      "Predicted RAW: negative\n",
      "CLEANED TEXT: bad mood dont feel good bad one care\n",
      "Predicted CLEAN: negative\n",
      "TRUE SENTIMENT: negative\n"
     ]
    },
    {
     "name": "stderr",
     "output_type": "stream",
     "text": [
      " 37%|███▋      | 373/1000 [11:00<18:30,  1.77s/it]"
     ]
    },
    {
     "name": "stdout",
     "output_type": "stream",
     "text": [
      "\n",
      "=== Sample 373/1000 ===\n",
      "RAW TEXT:  I love you so much.  Just got into my hiding spot, gonna go check out datalounge\n",
      "Predicted RAW: positive\n",
      "CLEANED TEXT: love much got hiding spot gon na go check datalounge\n",
      "Predicted CLEAN: positive\n",
      "TRUE SENTIMENT: positive\n"
     ]
    },
    {
     "name": "stderr",
     "output_type": "stream",
     "text": [
      " 37%|███▋      | 374/1000 [11:02<18:37,  1.79s/it]"
     ]
    },
    {
     "name": "stdout",
     "output_type": "stream",
     "text": [
      "\n",
      "=== Sample 374/1000 ===\n",
      "RAW TEXT:   youre diabetic?   so is my dad.  & i might be too, not sure.  are you still allowed to eat sugar throughout the day?\n",
      "Predicted RAW: negative\n",
      "CLEANED TEXT: youre diabetic dad might sure still allowed eat sugar throughout day\n",
      "Predicted CLEAN: negative\n",
      "TRUE SENTIMENT: negative\n"
     ]
    },
    {
     "name": "stderr",
     "output_type": "stream",
     "text": [
      " 38%|███▊      | 375/1000 [11:04<18:31,  1.78s/it]"
     ]
    },
    {
     "name": "stdout",
     "output_type": "stream",
     "text": [
      "\n",
      "=== Sample 375/1000 ===\n",
      "RAW TEXT: I just really want to sleep butmy eyes won`t let me\n",
      "Predicted RAW: negative\n",
      "CLEANED TEXT: really want sleep butmy eye wont let\n",
      "Predicted CLEAN: negative\n",
      "TRUE SENTIMENT: negative\n"
     ]
    },
    {
     "name": "stderr",
     "output_type": "stream",
     "text": [
      " 38%|███▊      | 376/1000 [11:06<18:40,  1.80s/it]"
     ]
    },
    {
     "name": "stdout",
     "output_type": "stream",
     "text": [
      "\n",
      "=== Sample 376/1000 ===\n",
      "RAW TEXT:  Ian and I are going to a matinee tomorrow, or that`s the plan at least...it`s going to be too expensive for 3d at night\n",
      "Predicted RAW: positive\n",
      "CLEANED TEXT: ian going matinee tomorrow thats plan leastits going expensive 3d night\n",
      "Predicted CLEAN: negative\n",
      "TRUE SENTIMENT: negative\n"
     ]
    },
    {
     "name": "stderr",
     "output_type": "stream",
     "text": [
      " 38%|███▊      | 377/1000 [11:08<18:28,  1.78s/it]"
     ]
    },
    {
     "name": "stdout",
     "output_type": "stream",
     "text": [
      "\n",
      "=== Sample 377/1000 ===\n",
      "RAW TEXT:  I know, but work is so boring. I prefer the  take on life\n",
      "Predicted RAW: negative\n",
      "CLEANED TEXT: know work boring prefer take life\n",
      "Predicted CLEAN: negative\n",
      "TRUE SENTIMENT: negative\n"
     ]
    },
    {
     "name": "stderr",
     "output_type": "stream",
     "text": [
      " 38%|███▊      | 378/1000 [11:09<18:22,  1.77s/it]"
     ]
    },
    {
     "name": "stdout",
     "output_type": "stream",
     "text": [
      "\n",
      "=== Sample 378/1000 ===\n",
      "RAW TEXT:  Gmorning Hermana! Thank you for your testimonial it is wonderful. Posted already.\n",
      "Predicted RAW: positive\n",
      "CLEANED TEXT: gmorning hermana thank testimonial wonderful posted already\n",
      "Predicted CLEAN: positive\n",
      "TRUE SENTIMENT: positive\n"
     ]
    },
    {
     "name": "stderr",
     "output_type": "stream",
     "text": [
      " 38%|███▊      | 379/1000 [11:11<18:47,  1.82s/it]"
     ]
    },
    {
     "name": "stdout",
     "output_type": "stream",
     "text": [
      "\n",
      "=== Sample 379/1000 ===\n",
      "RAW TEXT: AHHH - Whatchu talkinï¿½ baby?  HAHAHA I canï¿½t believe youu:O heh, actually I can. Life is worth taking risks... http://tumblr.com/xs81qy54s\n",
      "Predicted RAW: positive\n",
      "CLEANED TEXT: ahhh whatchu talkinï¿½ baby hahaha canï¿½t believe youuo heh actually life worth taking risk\n",
      "Predicted CLEAN: positive\n",
      "TRUE SENTIMENT: positive\n"
     ]
    },
    {
     "name": "stderr",
     "output_type": "stream",
     "text": [
      " 38%|███▊      | 380/1000 [11:13<18:28,  1.79s/it]"
     ]
    },
    {
     "name": "stdout",
     "output_type": "stream",
     "text": [
      "\n",
      "=== Sample 380/1000 ===\n",
      "RAW TEXT: Off to enjoy a Hanami picnic at the cherry tree park. Hope the weather stays nice.\n",
      "Predicted RAW: positive\n",
      "CLEANED TEXT: enjoy hanami picnic cherry tree park hope weather stay nice\n",
      "Predicted CLEAN: positive\n",
      "TRUE SENTIMENT: positive\n"
     ]
    },
    {
     "name": "stderr",
     "output_type": "stream",
     "text": [
      " 38%|███▊      | 381/1000 [11:15<18:20,  1.78s/it]"
     ]
    },
    {
     "name": "stdout",
     "output_type": "stream",
     "text": [
      "\n",
      "=== Sample 381/1000 ===\n",
      "RAW TEXT: The comp deleted half my apps\n",
      "Predicted RAW: negative\n",
      "CLEANED TEXT: comp deleted half apps\n",
      "Predicted CLEAN: negative\n",
      "TRUE SENTIMENT: negative\n"
     ]
    },
    {
     "name": "stderr",
     "output_type": "stream",
     "text": [
      " 38%|███▊      | 382/1000 [11:16<18:13,  1.77s/it]"
     ]
    },
    {
     "name": "stdout",
     "output_type": "stream",
     "text": [
      "\n",
      "=== Sample 382/1000 ===\n",
      "RAW TEXT: In Whin Park on the swings, victory is all mine right now\n",
      "Predicted RAW: positive\n",
      "CLEANED TEXT: whin park swing victory mine right\n",
      "Predicted CLEAN: positive\n",
      "TRUE SENTIMENT: positive\n"
     ]
    },
    {
     "name": "stderr",
     "output_type": "stream",
     "text": [
      " 38%|███▊      | 383/1000 [11:18<18:25,  1.79s/it]"
     ]
    },
    {
     "name": "stdout",
     "output_type": "stream",
     "text": [
      "\n",
      "=== Sample 383/1000 ===\n",
      "RAW TEXT: Well it would seem that you can enter nine 0s if you are an Individual without a SSN/ITIN or EIN according to Apple.  Hurray!\n",
      "Predicted RAW: positive\n",
      "CLEANED TEXT: well would seem enter nine 0 individual without ssnitin ein according apple hurray\n",
      "Predicted CLEAN: negative\n",
      "TRUE SENTIMENT: positive\n"
     ]
    },
    {
     "name": "stderr",
     "output_type": "stream",
     "text": [
      " 38%|███▊      | 384/1000 [11:20<18:34,  1.81s/it]"
     ]
    },
    {
     "name": "stdout",
     "output_type": "stream",
     "text": [
      "\n",
      "=== Sample 384/1000 ===\n",
      "RAW TEXT:  because its like ten times better than this place xD and its so beautiful and fun  and they have gold coast hot dogs!! xD\n",
      "Predicted RAW: positive\n",
      "CLEANED TEXT: like ten time better place xd beautiful fun gold coast hot dog xd\n",
      "Predicted CLEAN: positive\n",
      "TRUE SENTIMENT: positive\n"
     ]
    },
    {
     "name": "stderr",
     "output_type": "stream",
     "text": [
      " 38%|███▊      | 385/1000 [11:22<18:20,  1.79s/it]"
     ]
    },
    {
     "name": "stdout",
     "output_type": "stream",
     "text": [
      "\n",
      "=== Sample 385/1000 ===\n",
      "RAW TEXT:  oh you are too kind\n",
      "Predicted RAW: positive\n",
      "CLEANED TEXT: oh kind\n",
      "Predicted CLEAN: positive\n",
      "TRUE SENTIMENT: positive\n"
     ]
    },
    {
     "name": "stderr",
     "output_type": "stream",
     "text": [
      " 39%|███▊      | 386/1000 [11:24<18:27,  1.80s/it]"
     ]
    },
    {
     "name": "stdout",
     "output_type": "stream",
     "text": [
      "\n",
      "=== Sample 386/1000 ===\n",
      "RAW TEXT:  yeah, so quick! And I`m using the 5mm addi`s I bought on Sat and it makes it even smoother\n",
      "Predicted RAW: positive\n",
      "CLEANED TEXT: yeah quick im using 5mm addis bought sat make even smoother\n",
      "Predicted CLEAN: positive\n",
      "TRUE SENTIMENT: positive\n"
     ]
    },
    {
     "name": "stderr",
     "output_type": "stream",
     "text": [
      " 39%|███▊      | 387/1000 [11:25<18:22,  1.80s/it]"
     ]
    },
    {
     "name": "stdout",
     "output_type": "stream",
     "text": [
      "\n",
      "=== Sample 387/1000 ===\n",
      "RAW TEXT:   ummm...last night when I DM`d you, you said it was a 'good' question.\n",
      "Predicted RAW: positive\n",
      "CLEANED TEXT: ummmlast night dmd said good question\n",
      "Predicted CLEAN: positive\n",
      "TRUE SENTIMENT: positive\n"
     ]
    },
    {
     "name": "stderr",
     "output_type": "stream",
     "text": [
      " 39%|███▉      | 388/1000 [11:27<18:13,  1.79s/it]"
     ]
    },
    {
     "name": "stdout",
     "output_type": "stream",
     "text": [
      "\n",
      "=== Sample 388/1000 ===\n",
      "RAW TEXT:  man, I am really sorry\n",
      "Predicted RAW: negative\n",
      "CLEANED TEXT: man really sorry\n",
      "Predicted CLEAN: positive\n",
      "TRUE SENTIMENT: negative\n"
     ]
    },
    {
     "name": "stderr",
     "output_type": "stream",
     "text": [
      " 39%|███▉      | 389/1000 [11:29<18:21,  1.80s/it]"
     ]
    },
    {
     "name": "stdout",
     "output_type": "stream",
     "text": [
      "\n",
      "=== Sample 389/1000 ===\n",
      "RAW TEXT: wow.. tomorrow and then it`s over. i`ll never see some of those people again. it`s kind of sad.\n",
      "Predicted RAW: negative\n",
      "CLEANED TEXT: wow tomorrow ill never see people kind sad\n",
      "Predicted CLEAN: negative\n",
      "TRUE SENTIMENT: negative\n"
     ]
    },
    {
     "name": "stderr",
     "output_type": "stream",
     "text": [
      " 39%|███▉      | 390/1000 [11:31<18:43,  1.84s/it]"
     ]
    },
    {
     "name": "stdout",
     "output_type": "stream",
     "text": [
      "\n",
      "=== Sample 390/1000 ===\n",
      "RAW TEXT: NCAA Baseball Road 2 Omaha: South Carolina just hit a 3-run homerun. Dagger 2 my heart.    Mason 1 - South Carolina 3..\n",
      "Predicted RAW: positive\n",
      "CLEANED TEXT: ncaa baseball road 2 omaha south carolina hit 3run homerun dagger 2 heart mason 1 south carolina 3\n",
      "Predicted CLEAN: positive\n",
      "TRUE SENTIMENT: negative\n"
     ]
    },
    {
     "name": "stderr",
     "output_type": "stream",
     "text": [
      " 39%|███▉      | 391/1000 [11:33<18:38,  1.84s/it]"
     ]
    },
    {
     "name": "stdout",
     "output_type": "stream",
     "text": [
      "\n",
      "=== Sample 391/1000 ===\n",
      "RAW TEXT:  I send messages to greg all the time, no answer  its ok I still love o & a, goog luck with your move to Erie.\n",
      "Predicted RAW: positive\n",
      "CLEANED TEXT: send message greg time answer ok still love goog luck move erie\n",
      "Predicted CLEAN: positive\n",
      "TRUE SENTIMENT: positive\n"
     ]
    },
    {
     "name": "stderr",
     "output_type": "stream",
     "text": [
      " 39%|███▉      | 392/1000 [11:35<18:34,  1.83s/it]"
     ]
    },
    {
     "name": "stdout",
     "output_type": "stream",
     "text": [
      "\n",
      "=== Sample 392/1000 ===\n",
      "RAW TEXT: 10.11PM~ todays a drag for me. so bored. im about to get into the romance book so i prob wont be on til the morn  night twitter babes ;)\n",
      "Predicted RAW: negative\n",
      "CLEANED TEXT: 1011pm today drag bored im get romance book prob wont til morn night twitter babe\n",
      "Predicted CLEAN: negative\n",
      "TRUE SENTIMENT: negative\n"
     ]
    },
    {
     "name": "stderr",
     "output_type": "stream",
     "text": [
      " 39%|███▉      | 393/1000 [11:36<18:29,  1.83s/it]"
     ]
    },
    {
     "name": "stdout",
     "output_type": "stream",
     "text": [
      "\n",
      "=== Sample 393/1000 ===\n",
      "RAW TEXT: twitter fam, i`m about to hop back on AIM i went ghost on y`all lolz sowwy\n",
      "Predicted RAW: negative\n",
      "CLEANED TEXT: twitter fam im hop back aim went ghost yall lolz sowwy\n",
      "Predicted CLEAN: negative\n",
      "TRUE SENTIMENT: negative\n"
     ]
    },
    {
     "name": "stderr",
     "output_type": "stream",
     "text": [
      " 39%|███▉      | 394/1000 [11:38<18:10,  1.80s/it]"
     ]
    },
    {
     "name": "stdout",
     "output_type": "stream",
     "text": [
      "\n",
      "=== Sample 394/1000 ===\n",
      "RAW TEXT:  i make them good girls go bad\n",
      "Predicted RAW: negative\n",
      "CLEANED TEXT: make good girl go bad\n",
      "Predicted CLEAN: negative\n",
      "TRUE SENTIMENT: negative\n"
     ]
    },
    {
     "name": "stderr",
     "output_type": "stream",
     "text": [
      " 40%|███▉      | 395/1000 [11:40<17:59,  1.78s/it]"
     ]
    },
    {
     "name": "stdout",
     "output_type": "stream",
     "text": [
      "\n",
      "=== Sample 395/1000 ===\n",
      "RAW TEXT: Sites that republish my blog`s feed often end up higher than my blog on Google search results\n",
      "Predicted RAW: negative\n",
      "CLEANED TEXT: site republish blog feed often end higher blog google search result\n",
      "Predicted CLEAN: negative\n",
      "TRUE SENTIMENT: negative\n"
     ]
    },
    {
     "name": "stderr",
     "output_type": "stream",
     "text": [
      " 40%|███▉      | 396/1000 [11:42<17:49,  1.77s/it]"
     ]
    },
    {
     "name": "stdout",
     "output_type": "stream",
     "text": [
      "\n",
      "=== Sample 396/1000 ===\n",
      "RAW TEXT: oh yes! Level 40\n",
      "Predicted RAW: positive\n",
      "CLEANED TEXT: oh yes level 40\n",
      "Predicted CLEAN: positive\n",
      "TRUE SENTIMENT: positive\n"
     ]
    },
    {
     "name": "stderr",
     "output_type": "stream",
     "text": [
      " 40%|███▉      | 397/1000 [11:44<17:59,  1.79s/it]"
     ]
    },
    {
     "name": "stdout",
     "output_type": "stream",
     "text": [
      "\n",
      "=== Sample 397/1000 ===\n",
      "RAW TEXT: my baby`s off on his adventure. 14.5 hours in the car up to Lake Ann Mi. I admit it. I cried a little when the truck pulled out...\n",
      "Predicted RAW: positive\n",
      "CLEANED TEXT: baby adventure 145 hour car lake ann mi admit cried little truck pulled\n",
      "Predicted CLEAN: positive\n",
      "TRUE SENTIMENT: negative\n"
     ]
    },
    {
     "name": "stderr",
     "output_type": "stream",
     "text": [
      " 40%|███▉      | 398/1000 [11:45<18:06,  1.80s/it]"
     ]
    },
    {
     "name": "stdout",
     "output_type": "stream",
     "text": [
      "\n",
      "=== Sample 398/1000 ===\n",
      "RAW TEXT:  http://twitpic.com/4uyn9 - I NEED THIS. RIGHT NOW. THIS IS ABSOLUTELY MINDDDD BLOWING  I love this. So much!\n",
      "Predicted RAW: positive\n",
      "CLEANED TEXT: need right absolutely mindddd blowing love much\n",
      "Predicted CLEAN: positive\n",
      "TRUE SENTIMENT: positive\n"
     ]
    },
    {
     "name": "stderr",
     "output_type": "stream",
     "text": [
      " 40%|███▉      | 399/1000 [11:47<17:53,  1.79s/it]"
     ]
    },
    {
     "name": "stdout",
     "output_type": "stream",
     "text": [
      "\n",
      "=== Sample 399/1000 ===\n",
      "RAW TEXT: frustrated by my stupid iPhone I need a blackberry!!!!\n",
      "Predicted RAW: negative\n",
      "CLEANED TEXT: frustrated stupid iphone need blackberry\n",
      "Predicted CLEAN: negative\n",
      "TRUE SENTIMENT: negative\n"
     ]
    },
    {
     "name": "stderr",
     "output_type": "stream",
     "text": [
      " 40%|████      | 400/1000 [11:49<17:46,  1.78s/it]"
     ]
    },
    {
     "name": "stdout",
     "output_type": "stream",
     "text": [
      "\n",
      "=== Sample 400/1000 ===\n",
      "RAW TEXT: I`m still at the mothers day lunch at my uncles house. Having a nice time!\n",
      "Predicted RAW: positive\n",
      "CLEANED TEXT: im still mother day lunch uncle house nice time\n",
      "Predicted CLEAN: positive\n",
      "TRUE SENTIMENT: positive\n"
     ]
    },
    {
     "name": "stderr",
     "output_type": "stream",
     "text": [
      " 40%|████      | 401/1000 [11:51<17:42,  1.77s/it]"
     ]
    },
    {
     "name": "stdout",
     "output_type": "stream",
     "text": [
      "\n",
      "=== Sample 401/1000 ===\n",
      "RAW TEXT:  Oh! I ate pizza last night too!  I stupidly feel closer to you somehow!\n",
      "Predicted RAW: positive\n",
      "CLEANED TEXT: oh ate pizza last night stupidly feel closer somehow\n",
      "Predicted CLEAN: positive\n",
      "TRUE SENTIMENT: positive\n"
     ]
    },
    {
     "name": "stderr",
     "output_type": "stream",
     "text": [
      " 40%|████      | 402/1000 [11:52<17:52,  1.79s/it]"
     ]
    },
    {
     "name": "stdout",
     "output_type": "stream",
     "text": [
      "\n",
      "=== Sample 402/1000 ===\n",
      "RAW TEXT:  Oh right,sorry,now i get ya,But still 3000 email`s,wow,cool\n",
      "Predicted RAW: positive\n",
      "CLEANED TEXT: oh rightsorrynow get yabut still 3000 emailswowcool\n",
      "Predicted CLEAN: positive\n",
      "TRUE SENTIMENT: negative\n"
     ]
    },
    {
     "name": "stderr",
     "output_type": "stream",
     "text": [
      " 40%|████      | 403/1000 [11:54<18:01,  1.81s/it]"
     ]
    },
    {
     "name": "stdout",
     "output_type": "stream",
     "text": [
      "\n",
      "=== Sample 403/1000 ===\n",
      "RAW TEXT: ? I had great time in Boston. Thanks to my baby girl.   http://plurk.com/p/rplmy\n",
      "Predicted RAW: positive\n",
      "CLEANED TEXT: great time boston thanks baby girl\n",
      "Predicted CLEAN: positive\n",
      "TRUE SENTIMENT: positive\n"
     ]
    },
    {
     "name": "stderr",
     "output_type": "stream",
     "text": [
      " 40%|████      | 404/1000 [11:56<17:52,  1.80s/it]"
     ]
    },
    {
     "name": "stdout",
     "output_type": "stream",
     "text": [
      "\n",
      "=== Sample 404/1000 ===\n",
      "RAW TEXT:  my bad homie\n",
      "Predicted RAW: positive\n",
      "CLEANED TEXT: bad homie\n",
      "Predicted CLEAN: negative\n",
      "TRUE SENTIMENT: negative\n"
     ]
    },
    {
     "name": "stderr",
     "output_type": "stream",
     "text": [
      " 40%|████      | 405/1000 [11:58<17:40,  1.78s/it]"
     ]
    },
    {
     "name": "stdout",
     "output_type": "stream",
     "text": [
      "\n",
      "=== Sample 405/1000 ===\n",
      "RAW TEXT: Good morning everyone\n",
      "Predicted RAW: positive\n",
      "CLEANED TEXT: good morning everyone\n",
      "Predicted CLEAN: positive\n",
      "TRUE SENTIMENT: positive\n"
     ]
    },
    {
     "name": "stderr",
     "output_type": "stream",
     "text": [
      " 41%|████      | 406/1000 [12:00<17:46,  1.80s/it]"
     ]
    },
    {
     "name": "stdout",
     "output_type": "stream",
     "text": [
      "\n",
      "=== Sample 406/1000 ===\n",
      "RAW TEXT:  love this one, especially the shoes  anyway, gmn punya acc lookbook ya? http://lookbook.nu/look/92920\n",
      "Predicted RAW: positive\n",
      "CLEANED TEXT: love one especially shoe anyway gmn punya acc lookbook ya\n",
      "Predicted CLEAN: positive\n",
      "TRUE SENTIMENT: positive\n"
     ]
    },
    {
     "name": "stderr",
     "output_type": "stream",
     "text": [
      " 41%|████      | 407/1000 [12:01<17:36,  1.78s/it]"
     ]
    },
    {
     "name": "stdout",
     "output_type": "stream",
     "text": [
      "\n",
      "=== Sample 407/1000 ===\n",
      "RAW TEXT: good morning world\n",
      "Predicted RAW: positive\n",
      "CLEANED TEXT: good morning world\n",
      "Predicted CLEAN: positive\n",
      "TRUE SENTIMENT: positive\n"
     ]
    },
    {
     "name": "stderr",
     "output_type": "stream",
     "text": [
      " 41%|████      | 408/1000 [12:03<17:29,  1.77s/it]"
     ]
    },
    {
     "name": "stdout",
     "output_type": "stream",
     "text": [
      "\n",
      "=== Sample 408/1000 ===\n",
      "RAW TEXT: And ... Happy Mother`s Day to all Moms   You sure are the ? heart of mankind.\n",
      "Predicted RAW: positive\n",
      "CLEANED TEXT: happy mother day mom sure heart mankind\n",
      "Predicted CLEAN: positive\n",
      "TRUE SENTIMENT: positive\n"
     ]
    },
    {
     "name": "stderr",
     "output_type": "stream",
     "text": [
      " 41%|████      | 409/1000 [12:05<17:25,  1.77s/it]"
     ]
    },
    {
     "name": "stdout",
     "output_type": "stream",
     "text": [
      "\n",
      "=== Sample 409/1000 ===\n",
      "RAW TEXT:  lol that was a great movie\n",
      "Predicted RAW: positive\n",
      "CLEANED TEXT: lol great movie\n",
      "Predicted CLEAN: positive\n",
      "TRUE SENTIMENT: positive\n"
     ]
    },
    {
     "name": "stderr",
     "output_type": "stream",
     "text": [
      " 41%|████      | 410/1000 [12:07<17:22,  1.77s/it]"
     ]
    },
    {
     "name": "stdout",
     "output_type": "stream",
     "text": [
      "\n",
      "=== Sample 410/1000 ===\n",
      "RAW TEXT: feels really sick.\n",
      "Predicted RAW: negative\n",
      "CLEANED TEXT: feel really sick\n",
      "Predicted CLEAN: negative\n",
      "TRUE SENTIMENT: negative\n"
     ]
    },
    {
     "name": "stderr",
     "output_type": "stream",
     "text": [
      " 41%|████      | 411/1000 [12:08<17:14,  1.76s/it]"
     ]
    },
    {
     "name": "stdout",
     "output_type": "stream",
     "text": [
      "\n",
      "=== Sample 411/1000 ===\n",
      "RAW TEXT: Hecks yeah. Jandy timsamlake is too rawesome!\n",
      "Predicted RAW: positive\n",
      "CLEANED TEXT: hecks yeah jandy timsamlake rawesome\n",
      "Predicted CLEAN: positive\n",
      "TRUE SENTIMENT: positive\n"
     ]
    },
    {
     "name": "stderr",
     "output_type": "stream",
     "text": [
      " 41%|████      | 412/1000 [12:10<17:24,  1.78s/it]"
     ]
    },
    {
     "name": "stdout",
     "output_type": "stream",
     "text": [
      "\n",
      "=== Sample 412/1000 ===\n",
      "RAW TEXT: **** internet jus cut me off!  was bout 2 shoot sum guys eye out  ~*~KANDI~*~\n",
      "Predicted RAW: negative\n",
      "CLEANED TEXT: internet jus cut bout 2 shoot sum guy eye kandi\n",
      "Predicted CLEAN: negative\n",
      "TRUE SENTIMENT: negative\n"
     ]
    },
    {
     "name": "stderr",
     "output_type": "stream",
     "text": [
      " 41%|████▏     | 413/1000 [12:12<17:32,  1.79s/it]"
     ]
    },
    {
     "name": "stdout",
     "output_type": "stream",
     "text": [
      "\n",
      "=== Sample 413/1000 ===\n",
      "RAW TEXT: Not only has it broken but it`s Monday!!Does this mean Monday can be fix`d?  ? http://blip.fm/~5jgio\n",
      "Predicted RAW: negative\n",
      "CLEANED TEXT: broken mondaydoes mean monday fixd\n",
      "Predicted CLEAN: negative\n",
      "TRUE SENTIMENT: negative\n"
     ]
    },
    {
     "name": "stderr",
     "output_type": "stream",
     "text": [
      " 41%|████▏     | 414/1000 [12:14<17:20,  1.78s/it]"
     ]
    },
    {
     "name": "stdout",
     "output_type": "stream",
     "text": [
      "\n",
      "=== Sample 414/1000 ===\n",
      "RAW TEXT: People at work are stressing me out.\n",
      "Predicted RAW: negative\n",
      "CLEANED TEXT: people work stressing\n",
      "Predicted CLEAN: negative\n",
      "TRUE SENTIMENT: negative\n"
     ]
    },
    {
     "name": "stderr",
     "output_type": "stream",
     "text": [
      " 42%|████▏     | 415/1000 [12:16<17:14,  1.77s/it]"
     ]
    },
    {
     "name": "stdout",
     "output_type": "stream",
     "text": [
      "\n",
      "=== Sample 415/1000 ===\n",
      "RAW TEXT: never trust someone else`s battery operated power tools when you`re in a hurry\n",
      "Predicted RAW: negative\n",
      "CLEANED TEXT: never trust someone elses battery operated power tool youre hurry\n",
      "Predicted CLEAN: negative\n",
      "TRUE SENTIMENT: positive\n"
     ]
    },
    {
     "name": "stderr",
     "output_type": "stream",
     "text": [
      " 42%|████▏     | 416/1000 [12:17<17:23,  1.79s/it]"
     ]
    },
    {
     "name": "stdout",
     "output_type": "stream",
     "text": [
      "\n",
      "=== Sample 416/1000 ===\n",
      "RAW TEXT:  Lol Your tweets are so funny! I met you in Calgary! You`re awesome  Can`t wait for the next HP movie!\n",
      "Predicted RAW: positive\n",
      "CLEANED TEXT: lol tweet funny met calgary youre awesome cant wait next hp movie\n",
      "Predicted CLEAN: positive\n",
      "TRUE SENTIMENT: positive\n"
     ]
    },
    {
     "name": "stderr",
     "output_type": "stream",
     "text": [
      " 42%|████▏     | 417/1000 [12:19<17:29,  1.80s/it]"
     ]
    },
    {
     "name": "stdout",
     "output_type": "stream",
     "text": [
      "\n",
      "=== Sample 417/1000 ===\n",
      "RAW TEXT: is off to work ... still 'recovering' from an amazing and beautiful weekend. Have I mentioned how incredible my friends are??\n",
      "Predicted RAW: positive\n",
      "CLEANED TEXT: work still recovering amazing beautiful weekend mentioned incredible friend\n",
      "Predicted CLEAN: positive\n",
      "TRUE SENTIMENT: positive\n"
     ]
    },
    {
     "name": "stderr",
     "output_type": "stream",
     "text": [
      " 42%|████▏     | 418/1000 [12:21<17:20,  1.79s/it]"
     ]
    },
    {
     "name": "stdout",
     "output_type": "stream",
     "text": [
      "\n",
      "=== Sample 418/1000 ===\n",
      "RAW TEXT:  so`s the smell of cigarettes and alcohol... at least *i * like it.\n",
      "Predicted RAW: positive\n",
      "CLEANED TEXT: so smell cigarette alcohol least like\n",
      "Predicted CLEAN: negative\n",
      "TRUE SENTIMENT: positive\n"
     ]
    },
    {
     "name": "stderr",
     "output_type": "stream",
     "text": [
      " 42%|████▏     | 419/1000 [12:23<17:33,  1.81s/it]"
     ]
    },
    {
     "name": "stdout",
     "output_type": "stream",
     "text": [
      "\n",
      "=== Sample 419/1000 ===\n",
      "RAW TEXT: `s current goal is to lose 10 pounds by next tuesday! 120 here i come   soooo ready for Gatlinburg!\n",
      "Predicted RAW: positive\n",
      "CLEANED TEXT: current goal lose 10 pound next tuesday 120 come soooo ready gatlinburg\n",
      "Predicted CLEAN: positive\n",
      "TRUE SENTIMENT: positive\n"
     ]
    },
    {
     "name": "stderr",
     "output_type": "stream",
     "text": [
      " 42%|████▏     | 420/1000 [12:25<17:23,  1.80s/it]"
     ]
    },
    {
     "name": "stdout",
     "output_type": "stream",
     "text": [
      "\n",
      "=== Sample 420/1000 ===\n",
      "RAW TEXT: my best friends bought something which i really want.\n",
      "Predicted RAW: positive\n",
      "CLEANED TEXT: best friend bought something really want\n",
      "Predicted CLEAN: positive\n",
      "TRUE SENTIMENT: positive\n"
     ]
    },
    {
     "name": "stderr",
     "output_type": "stream",
     "text": [
      " 42%|████▏     | 421/1000 [12:26<17:26,  1.81s/it]"
     ]
    },
    {
     "name": "stdout",
     "output_type": "stream",
     "text": [
      "\n",
      "=== Sample 421/1000 ===\n",
      "RAW TEXT:  It depends on your goals & how much you want to spend  Cannondale, Specialized and Cervelo are all good brands.\n",
      "Predicted RAW: positive\n",
      "CLEANED TEXT: depends goal much want spend cannondale specialized cervelo good brand\n",
      "Predicted CLEAN: positive\n",
      "TRUE SENTIMENT: positive\n"
     ]
    },
    {
     "name": "stderr",
     "output_type": "stream",
     "text": [
      " 42%|████▏     | 422/1000 [12:28<17:13,  1.79s/it]"
     ]
    },
    {
     "name": "stdout",
     "output_type": "stream",
     "text": [
      "\n",
      "=== Sample 422/1000 ===\n",
      "RAW TEXT: My net died so yeah....  I`m sad now\n",
      "Predicted RAW: negative\n",
      "CLEANED TEXT: net died yeah im sad\n",
      "Predicted CLEAN: negative\n",
      "TRUE SENTIMENT: negative\n"
     ]
    },
    {
     "name": "stderr",
     "output_type": "stream",
     "text": [
      " 42%|████▏     | 423/1000 [12:30<17:19,  1.80s/it]"
     ]
    },
    {
     "name": "stdout",
     "output_type": "stream",
     "text": [
      "\n",
      "=== Sample 423/1000 ===\n",
      "RAW TEXT: i dont know why i follow sme of the ppl that i do... they e anoying and boring. * note to self -unfollow peeps on monday morning\n",
      "Predicted RAW: negative\n",
      "CLEANED TEXT: dont know follow sme ppl e anoying boring note self unfollow peep monday morning\n",
      "Predicted CLEAN: negative\n",
      "TRUE SENTIMENT: negative\n"
     ]
    },
    {
     "name": "stderr",
     "output_type": "stream",
     "text": [
      " 42%|████▏     | 424/1000 [12:32<17:07,  1.78s/it]"
     ]
    },
    {
     "name": "stdout",
     "output_type": "stream",
     "text": [
      "\n",
      "=== Sample 424/1000 ===\n",
      "RAW TEXT: Bad migrane and need to go to dancing tonight.... Not a good combination\n",
      "Predicted RAW: negative\n",
      "CLEANED TEXT: bad migrane need go dancing tonight good combination\n",
      "Predicted CLEAN: negative\n",
      "TRUE SENTIMENT: negative\n"
     ]
    },
    {
     "name": "stderr",
     "output_type": "stream",
     "text": [
      " 42%|████▎     | 425/1000 [12:34<17:14,  1.80s/it]"
     ]
    },
    {
     "name": "stdout",
     "output_type": "stream",
     "text": [
      "\n",
      "=== Sample 425/1000 ===\n",
      "RAW TEXT: Grinding Skyguard rep. This is less awful than I anticipated. Yet, still awful. Last tabard I need\n",
      "Predicted RAW: negative\n",
      "CLEANED TEXT: grinding skyguard rep less awful anticipated yet still awful last tabard need\n",
      "Predicted CLEAN: negative\n",
      "TRUE SENTIMENT: negative\n"
     ]
    },
    {
     "name": "stderr",
     "output_type": "stream",
     "text": [
      " 43%|████▎     | 426/1000 [12:35<17:04,  1.78s/it]"
     ]
    },
    {
     "name": "stdout",
     "output_type": "stream",
     "text": [
      "\n",
      "=== Sample 426/1000 ===\n",
      "RAW TEXT:  i dunno if he saw it  happy birthday girl!\n",
      "Predicted RAW: positive\n",
      "CLEANED TEXT: dunno saw happy birthday girl\n",
      "Predicted CLEAN: positive\n",
      "TRUE SENTIMENT: positive\n"
     ]
    },
    {
     "name": "stderr",
     "output_type": "stream",
     "text": [
      " 43%|████▎     | 427/1000 [12:37<16:56,  1.77s/it]"
     ]
    },
    {
     "name": "stdout",
     "output_type": "stream",
     "text": [
      "\n",
      "=== Sample 427/1000 ===\n",
      "RAW TEXT:  awesome\n",
      "Predicted RAW: positive\n",
      "CLEANED TEXT: awesome\n",
      "Predicted CLEAN: positive\n",
      "TRUE SENTIMENT: positive\n"
     ]
    },
    {
     "name": "stderr",
     "output_type": "stream",
     "text": [
      " 43%|████▎     | 428/1000 [12:39<16:55,  1.77s/it]"
     ]
    },
    {
     "name": "stdout",
     "output_type": "stream",
     "text": [
      "\n",
      "=== Sample 428/1000 ===\n",
      "RAW TEXT:  ****! I want to be at the beach in the sun\n",
      "Predicted RAW: positive\n",
      "CLEANED TEXT: want beach sun\n",
      "Predicted CLEAN: positive\n",
      "TRUE SENTIMENT: negative\n"
     ]
    },
    {
     "name": "stderr",
     "output_type": "stream",
     "text": [
      " 43%|████▎     | 429/1000 [12:41<16:48,  1.77s/it]"
     ]
    },
    {
     "name": "stdout",
     "output_type": "stream",
     "text": [
      "\n",
      "=== Sample 429/1000 ===\n",
      "RAW TEXT: OH. I am just so tired.\n",
      "Predicted RAW: negative\n",
      "CLEANED TEXT: oh tired\n",
      "Predicted CLEAN: negative\n",
      "TRUE SENTIMENT: negative\n"
     ]
    },
    {
     "name": "stderr",
     "output_type": "stream",
     "text": [
      " 43%|████▎     | 430/1000 [12:42<16:42,  1.76s/it]"
     ]
    },
    {
     "name": "stdout",
     "output_type": "stream",
     "text": [
      "\n",
      "=== Sample 430/1000 ===\n",
      "RAW TEXT: Well, my dog still isn`t at the shelter. I hope someone good has him\n",
      "Predicted RAW: positive\n",
      "CLEANED TEXT: well dog still isnt shelter hope someone good\n",
      "Predicted CLEAN: negative\n",
      "TRUE SENTIMENT: positive\n"
     ]
    },
    {
     "name": "stderr",
     "output_type": "stream",
     "text": [
      " 43%|████▎     | 431/1000 [12:44<16:39,  1.76s/it]"
     ]
    },
    {
     "name": "stdout",
     "output_type": "stream",
     "text": [
      "\n",
      "=== Sample 431/1000 ===\n",
      "RAW TEXT:  Well tell me what fashion tips you need and I`m your woman  hehehe\n",
      "Predicted RAW: positive\n",
      "CLEANED TEXT: well tell fashion tip need im woman hehehe\n",
      "Predicted CLEAN: positive\n",
      "TRUE SENTIMENT: positive\n"
     ]
    },
    {
     "name": "stderr",
     "output_type": "stream",
     "text": [
      " 43%|████▎     | 432/1000 [12:46<16:41,  1.76s/it]"
     ]
    },
    {
     "name": "stdout",
     "output_type": "stream",
     "text": [
      "\n",
      "=== Sample 432/1000 ===\n",
      "RAW TEXT:  Hello there, Taylor  I MISS YOU. Its been 2 months </3\n",
      "Predicted RAW: positive\n",
      "CLEANED TEXT: hello taylor miss 2 month 3\n",
      "Predicted CLEAN: positive\n",
      "TRUE SENTIMENT: negative\n"
     ]
    },
    {
     "name": "stderr",
     "output_type": "stream",
     "text": [
      " 43%|████▎     | 433/1000 [12:48<16:35,  1.76s/it]"
     ]
    },
    {
     "name": "stdout",
     "output_type": "stream",
     "text": [
      "\n",
      "=== Sample 433/1000 ===\n",
      "RAW TEXT: i wear a lot of white  http://tinyurl.com/dlbltg\n",
      "Predicted RAW: positive\n",
      "CLEANED TEXT: wear lot white\n",
      "Predicted CLEAN: negative\n",
      "TRUE SENTIMENT: negative\n"
     ]
    },
    {
     "name": "stderr",
     "output_type": "stream",
     "text": [
      " 43%|████▎     | 434/1000 [12:49<16:33,  1.75s/it]"
     ]
    },
    {
     "name": "stdout",
     "output_type": "stream",
     "text": [
      "\n",
      "=== Sample 434/1000 ===\n",
      "RAW TEXT:  Always a good idea.\n",
      "Predicted RAW: positive\n",
      "CLEANED TEXT: always good idea\n",
      "Predicted CLEAN: positive\n",
      "TRUE SENTIMENT: positive\n"
     ]
    },
    {
     "name": "stderr",
     "output_type": "stream",
     "text": [
      " 44%|████▎     | 435/1000 [12:51<16:30,  1.75s/it]"
     ]
    },
    {
     "name": "stdout",
     "output_type": "stream",
     "text": [
      "\n",
      "=== Sample 435/1000 ===\n",
      "RAW TEXT: getting nails done!!! how relaxing! benji is only 24 hours away!!!!\n",
      "Predicted RAW: positive\n",
      "CLEANED TEXT: getting nail done relaxing benji 24 hour away\n",
      "Predicted CLEAN: positive\n",
      "TRUE SENTIMENT: positive\n"
     ]
    },
    {
     "name": "stderr",
     "output_type": "stream",
     "text": [
      " 44%|████▎     | 436/1000 [12:53<16:27,  1.75s/it]"
     ]
    },
    {
     "name": "stdout",
     "output_type": "stream",
     "text": [
      "\n",
      "=== Sample 436/1000 ===\n",
      "RAW TEXT:  not here for long hun, head hurts\n",
      "Predicted RAW: negative\n",
      "CLEANED TEXT: long hun head hurt\n",
      "Predicted CLEAN: negative\n",
      "TRUE SENTIMENT: negative\n"
     ]
    },
    {
     "name": "stderr",
     "output_type": "stream",
     "text": [
      " 44%|████▎     | 437/1000 [12:55<16:42,  1.78s/it]"
     ]
    },
    {
     "name": "stdout",
     "output_type": "stream",
     "text": [
      "\n",
      "=== Sample 437/1000 ===\n",
      "RAW TEXT: All of a sudden I`m craving broccoli and cheese soup really bad... my mouth is watering envisioning a bread bowl in my head...\n",
      "Predicted RAW: positive\n",
      "CLEANED TEXT: sudden im craving broccoli cheese soup really bad mouth watering envisioning bread bowl head\n",
      "Predicted CLEAN: positive\n",
      "TRUE SENTIMENT: negative\n"
     ]
    },
    {
     "name": "stderr",
     "output_type": "stream",
     "text": [
      " 44%|████▍     | 438/1000 [12:56<16:34,  1.77s/it]"
     ]
    },
    {
     "name": "stdout",
     "output_type": "stream",
     "text": [
      "\n",
      "=== Sample 438/1000 ===\n",
      "RAW TEXT:  That it does  just wish more people would notice it\n",
      "Predicted RAW: positive\n",
      "CLEANED TEXT: wish people would notice\n",
      "Predicted CLEAN: negative\n",
      "TRUE SENTIMENT: positive\n"
     ]
    },
    {
     "name": "stderr",
     "output_type": "stream",
     "text": [
      " 44%|████▍     | 439/1000 [12:58<16:28,  1.76s/it]"
     ]
    },
    {
     "name": "stdout",
     "output_type": "stream",
     "text": [
      "\n",
      "=== Sample 439/1000 ===\n",
      "RAW TEXT: Wish you were here, babe\n",
      "Predicted RAW: positive\n",
      "CLEANED TEXT: wish babe\n",
      "Predicted CLEAN: positive\n",
      "TRUE SENTIMENT: positive\n"
     ]
    },
    {
     "name": "stderr",
     "output_type": "stream",
     "text": [
      " 44%|████▍     | 440/1000 [13:00<16:39,  1.78s/it]"
     ]
    },
    {
     "name": "stdout",
     "output_type": "stream",
     "text": [
      "\n",
      "=== Sample 440/1000 ===\n",
      "RAW TEXT: This morning I rode behind a guy with a bird cage containing a plastic Tyrannosaurus rex attached to his bicycle. I couldn`t get a photo.\n",
      "Predicted RAW: positive\n",
      "CLEANED TEXT: morning rode behind guy bird cage containing plastic tyrannosaurus rex attached bicycle couldnt get photo\n",
      "Predicted CLEAN: negative\n",
      "TRUE SENTIMENT: negative\n"
     ]
    },
    {
     "name": "stderr",
     "output_type": "stream",
     "text": [
      " 44%|████▍     | 441/1000 [13:02<16:32,  1.77s/it]"
     ]
    },
    {
     "name": "stdout",
     "output_type": "stream",
     "text": [
      "\n",
      "=== Sample 441/1000 ===\n",
      "RAW TEXT: I love summer, but I oddly don`t want this school year to end.\n",
      "Predicted RAW: positive\n",
      "CLEANED TEXT: love summer oddly dont want school year end\n",
      "Predicted CLEAN: positive\n",
      "TRUE SENTIMENT: positive\n"
     ]
    },
    {
     "name": "stderr",
     "output_type": "stream",
     "text": [
      " 44%|████▍     | 442/1000 [13:04<16:38,  1.79s/it]"
     ]
    },
    {
     "name": "stdout",
     "output_type": "stream",
     "text": [
      "\n",
      "=== Sample 442/1000 ===\n",
      "RAW TEXT:  lolz at your modesty...***kix rox***...now all the gals will be lined up at your door\n",
      "Predicted RAW: negative\n",
      "CLEANED TEXT: lolz modestykix roxnow gal lined door\n",
      "Predicted CLEAN: negative\n",
      "TRUE SENTIMENT: positive\n"
     ]
    },
    {
     "name": "stderr",
     "output_type": "stream",
     "text": [
      " 44%|████▍     | 443/1000 [13:05<16:44,  1.80s/it]"
     ]
    },
    {
     "name": "stdout",
     "output_type": "stream",
     "text": [
      "\n",
      "=== Sample 443/1000 ===\n",
      "RAW TEXT: morning, how is everone? sing to me  You tuck me in, Turn out the light, kept me safe and sound at night. (8)\n",
      "Predicted RAW: positive\n",
      "CLEANED TEXT: morning everone sing tuck turn light kept safe sound night 8\n",
      "Predicted CLEAN: negative\n",
      "TRUE SENTIMENT: positive\n"
     ]
    },
    {
     "name": "stderr",
     "output_type": "stream",
     "text": [
      " 44%|████▍     | 444/1000 [13:07<16:30,  1.78s/it]"
     ]
    },
    {
     "name": "stdout",
     "output_type": "stream",
     "text": [
      "\n",
      "=== Sample 444/1000 ===\n",
      "RAW TEXT: i so can`t be bothered working tomorrow!\n",
      "Predicted RAW: negative\n",
      "CLEANED TEXT: cant bothered working tomorrow\n",
      "Predicted CLEAN: negative\n",
      "TRUE SENTIMENT: positive\n"
     ]
    },
    {
     "name": "stderr",
     "output_type": "stream",
     "text": [
      " 44%|████▍     | 445/1000 [13:09<16:24,  1.77s/it]"
     ]
    },
    {
     "name": "stdout",
     "output_type": "stream",
     "text": [
      "\n",
      "=== Sample 445/1000 ===\n",
      "RAW TEXT:  kittens are cute then they grow up n become CATS\n",
      "Predicted RAW: positive\n",
      "CLEANED TEXT: kitten cute grow n become cat\n",
      "Predicted CLEAN: positive\n",
      "TRUE SENTIMENT: positive\n"
     ]
    },
    {
     "name": "stderr",
     "output_type": "stream",
     "text": [
      " 45%|████▍     | 446/1000 [13:11<16:35,  1.80s/it]"
     ]
    },
    {
     "name": "stdout",
     "output_type": "stream",
     "text": [
      "\n",
      "=== Sample 446/1000 ===\n",
      "RAW TEXT:  .. Guess ol` Tom has another mission impossible ... some of this is like trying to prove innocence .. I didn`t get hugged\n",
      "Predicted RAW: negative\n",
      "CLEANED TEXT: guess ol tom another mission impossible like trying prove innocence didnt get hugged\n",
      "Predicted CLEAN: negative\n",
      "TRUE SENTIMENT: negative\n"
     ]
    },
    {
     "name": "stderr",
     "output_type": "stream",
     "text": [
      " 45%|████▍     | 447/1000 [13:13<16:31,  1.79s/it]"
     ]
    },
    {
     "name": "stdout",
     "output_type": "stream",
     "text": [
      "\n",
      "=== Sample 447/1000 ===\n",
      "RAW TEXT:  Hey I was scared last night at 3:17 because of you... and I had several bad nightmares\n",
      "Predicted RAW: negative\n",
      "CLEANED TEXT: hey scared last night 317 several bad nightmare\n",
      "Predicted CLEAN: negative\n",
      "TRUE SENTIMENT: negative\n"
     ]
    },
    {
     "name": "stderr",
     "output_type": "stream",
     "text": [
      " 45%|████▍     | 448/1000 [13:14<16:23,  1.78s/it]"
     ]
    },
    {
     "name": "stdout",
     "output_type": "stream",
     "text": [
      "\n",
      "=== Sample 448/1000 ===\n",
      "RAW TEXT:  gawd. People still remember the preggers comment. Hate you!\n",
      "Predicted RAW: negative\n",
      "CLEANED TEXT: gawd people still remember preggers comment hate\n",
      "Predicted CLEAN: negative\n",
      "TRUE SENTIMENT: negative\n"
     ]
    },
    {
     "name": "stderr",
     "output_type": "stream",
     "text": [
      " 45%|████▍     | 449/1000 [13:16<16:19,  1.78s/it]"
     ]
    },
    {
     "name": "stdout",
     "output_type": "stream",
     "text": [
      "\n",
      "=== Sample 449/1000 ===\n",
      "RAW TEXT: oh no my tweetdeck is malfunctioning :O il have web will its fixd\n",
      "Predicted RAW: negative\n",
      "CLEANED TEXT: oh tweetdeck malfunctioning il web fixd\n",
      "Predicted CLEAN: negative\n",
      "TRUE SENTIMENT: negative\n"
     ]
    },
    {
     "name": "stderr",
     "output_type": "stream",
     "text": [
      " 45%|████▌     | 450/1000 [13:18<16:12,  1.77s/it]"
     ]
    },
    {
     "name": "stdout",
     "output_type": "stream",
     "text": [
      "\n",
      "=== Sample 450/1000 ===\n",
      "RAW TEXT:  yeah freakin sucks!!\n",
      "Predicted RAW: negative\n",
      "CLEANED TEXT: yeah freakin suck\n",
      "Predicted CLEAN: negative\n",
      "TRUE SENTIMENT: negative\n"
     ]
    },
    {
     "name": "stderr",
     "output_type": "stream",
     "text": [
      " 45%|████▌     | 451/1000 [13:20<16:34,  1.81s/it]"
     ]
    },
    {
     "name": "stdout",
     "output_type": "stream",
     "text": [
      "\n",
      "=== Sample 451/1000 ===\n",
      "RAW TEXT: #followfriday _1001 cuz ive never been added to anyone`s followfriday either  & cuz he`s got a cool picture\n",
      "Predicted RAW: positive\n",
      "CLEANED TEXT: followfriday 1001 cuz ive never added anyones followfriday either cuz he got cool picture\n",
      "Predicted CLEAN: positive\n",
      "TRUE SENTIMENT: positive\n"
     ]
    },
    {
     "name": "stderr",
     "output_type": "stream",
     "text": [
      " 45%|████▌     | 452/1000 [13:22<16:37,  1.82s/it]"
     ]
    },
    {
     "name": "stdout",
     "output_type": "stream",
     "text": [
      "\n",
      "=== Sample 452/1000 ===\n",
      "RAW TEXT: wishes that you would see not with your eyes but with your heart.  http://plurk.com/p/sv5bb\n",
      "Predicted RAW: positive\n",
      "CLEANED TEXT: wish would see eye heart\n",
      "Predicted CLEAN: negative\n",
      "TRUE SENTIMENT: positive\n"
     ]
    },
    {
     "name": "stderr",
     "output_type": "stream",
     "text": [
      " 45%|████▌     | 453/1000 [13:23<16:23,  1.80s/it]"
     ]
    },
    {
     "name": "stdout",
     "output_type": "stream",
     "text": [
      "\n",
      "=== Sample 453/1000 ===\n",
      "RAW TEXT:  Awwww   i`ve got some photos of cute bunnies\n",
      "Predicted RAW: positive\n",
      "CLEANED TEXT: ive got photo cute bunny\n",
      "Predicted CLEAN: positive\n",
      "TRUE SENTIMENT: positive\n"
     ]
    },
    {
     "name": "stderr",
     "output_type": "stream",
     "text": [
      " 45%|████▌     | 454/1000 [13:25<16:19,  1.79s/it]"
     ]
    },
    {
     "name": "stdout",
     "output_type": "stream",
     "text": [
      "\n",
      "=== Sample 454/1000 ===\n",
      "RAW TEXT: long day and i still have to mow the lawn\n",
      "Predicted RAW: negative\n",
      "CLEANED TEXT: long day still mow lawn\n",
      "Predicted CLEAN: negative\n",
      "TRUE SENTIMENT: negative\n"
     ]
    },
    {
     "name": "stderr",
     "output_type": "stream",
     "text": [
      " 46%|████▌     | 455/1000 [13:27<16:09,  1.78s/it]"
     ]
    },
    {
     "name": "stdout",
     "output_type": "stream",
     "text": [
      "\n",
      "=== Sample 455/1000 ===\n",
      "RAW TEXT:  why has it been so long since i have talked to you let alone seen you?? it makes me sad\n",
      "Predicted RAW: negative\n",
      "CLEANED TEXT: long since talked let alone seen make sad\n",
      "Predicted CLEAN: negative\n",
      "TRUE SENTIMENT: negative\n"
     ]
    },
    {
     "name": "stderr",
     "output_type": "stream",
     "text": [
      " 46%|████▌     | 456/1000 [13:29<16:00,  1.77s/it]"
     ]
    },
    {
     "name": "stdout",
     "output_type": "stream",
     "text": [
      "\n",
      "=== Sample 456/1000 ===\n",
      "RAW TEXT: Happy mothers day mom  ?\n",
      "Predicted RAW: positive\n",
      "CLEANED TEXT: happy mother day mom\n",
      "Predicted CLEAN: positive\n",
      "TRUE SENTIMENT: positive\n"
     ]
    },
    {
     "name": "stderr",
     "output_type": "stream",
     "text": [
      " 46%|████▌     | 457/1000 [13:30<15:51,  1.75s/it]"
     ]
    },
    {
     "name": "stdout",
     "output_type": "stream",
     "text": [
      "\n",
      "=== Sample 457/1000 ===\n",
      "RAW TEXT: I want cookies for breakfast! Luckily I`m an adult and can do that!\n",
      "Predicted RAW: positive\n",
      "CLEANED TEXT: want cooky breakfast luckily im adult\n",
      "Predicted CLEAN: positive\n",
      "TRUE SENTIMENT: positive\n"
     ]
    },
    {
     "name": "stderr",
     "output_type": "stream",
     "text": [
      " 46%|████▌     | 458/1000 [13:32<15:45,  1.75s/it]"
     ]
    },
    {
     "name": "stdout",
     "output_type": "stream",
     "text": [
      "\n",
      "=== Sample 458/1000 ===\n",
      "RAW TEXT: Mowing #6. I hate my lawn\n",
      "Predicted RAW: negative\n",
      "CLEANED TEXT: mowing 6 hate lawn\n",
      "Predicted CLEAN: negative\n",
      "TRUE SENTIMENT: negative\n"
     ]
    },
    {
     "name": "stderr",
     "output_type": "stream",
     "text": [
      " 46%|████▌     | 459/1000 [13:34<15:59,  1.77s/it]"
     ]
    },
    {
     "name": "stdout",
     "output_type": "stream",
     "text": [
      "\n",
      "=== Sample 459/1000 ===\n",
      "RAW TEXT:  yeah.. I left cause my pc can`t run the client anymore. I had thought I would have a new one by now..\n",
      "Predicted RAW: negative\n",
      "CLEANED TEXT: yeah left cause pc cant run client anymore thought would new one\n",
      "Predicted CLEAN: negative\n",
      "TRUE SENTIMENT: negative\n"
     ]
    },
    {
     "name": "stderr",
     "output_type": "stream",
     "text": [
      " 46%|████▌     | 460/1000 [13:36<15:55,  1.77s/it]"
     ]
    },
    {
     "name": "stdout",
     "output_type": "stream",
     "text": [
      "\n",
      "=== Sample 460/1000 ===\n",
      "RAW TEXT: Feeling bad for  profile pic\n",
      "Predicted RAW: negative\n",
      "CLEANED TEXT: feeling bad profile pic\n",
      "Predicted CLEAN: negative\n",
      "TRUE SENTIMENT: negative\n"
     ]
    },
    {
     "name": "stderr",
     "output_type": "stream",
     "text": [
      " 46%|████▌     | 461/1000 [13:37<15:50,  1.76s/it]"
     ]
    },
    {
     "name": "stdout",
     "output_type": "stream",
     "text": [
      "\n",
      "=== Sample 461/1000 ===\n",
      "RAW TEXT: movie then sleep! Today was good day  [{H!--D3ff}]\n",
      "Predicted RAW: positive\n",
      "CLEANED TEXT: movie sleep today good day hd3ff\n",
      "Predicted CLEAN: positive\n",
      "TRUE SENTIMENT: positive\n"
     ]
    },
    {
     "name": "stderr",
     "output_type": "stream",
     "text": [
      " 46%|████▌     | 462/1000 [13:39<15:45,  1.76s/it]"
     ]
    },
    {
     "name": "stdout",
     "output_type": "stream",
     "text": [
      "\n",
      "=== Sample 462/1000 ===\n",
      "RAW TEXT: is getting married in Vegas in November by an Elvis impersonator am so happy!!!\n",
      "Predicted RAW: positive\n",
      "CLEANED TEXT: getting married vega november elvis impersonator happy\n",
      "Predicted CLEAN: positive\n",
      "TRUE SENTIMENT: positive\n"
     ]
    },
    {
     "name": "stderr",
     "output_type": "stream",
     "text": [
      " 46%|████▋     | 463/1000 [13:41<15:41,  1.75s/it]"
     ]
    },
    {
     "name": "stdout",
     "output_type": "stream",
     "text": [
      "\n",
      "=== Sample 463/1000 ===\n",
      "RAW TEXT:  tried to join the chat but the site would not let me sign in\n",
      "Predicted RAW: negative\n",
      "CLEANED TEXT: tried join chat site would let sign\n",
      "Predicted CLEAN: negative\n",
      "TRUE SENTIMENT: negative\n"
     ]
    },
    {
     "name": "stderr",
     "output_type": "stream",
     "text": [
      " 46%|████▋     | 464/1000 [13:43<15:40,  1.75s/it]"
     ]
    },
    {
     "name": "stdout",
     "output_type": "stream",
     "text": [
      "\n",
      "=== Sample 464/1000 ===\n",
      "RAW TEXT: singing songs and filming movies  what i do best\n",
      "Predicted RAW: positive\n",
      "CLEANED TEXT: singing song filming movie best\n",
      "Predicted CLEAN: positive\n",
      "TRUE SENTIMENT: positive\n"
     ]
    },
    {
     "name": "stderr",
     "output_type": "stream",
     "text": [
      " 46%|████▋     | 465/1000 [13:44<15:38,  1.75s/it]"
     ]
    },
    {
     "name": "stdout",
     "output_type": "stream",
     "text": [
      "\n",
      "=== Sample 465/1000 ===\n",
      "RAW TEXT: Their songs make me want to cry..\n",
      "Predicted RAW: negative\n",
      "CLEANED TEXT: song make want cry\n",
      "Predicted CLEAN: negative\n",
      "TRUE SENTIMENT: negative\n"
     ]
    },
    {
     "name": "stderr",
     "output_type": "stream",
     "text": [
      " 47%|████▋     | 466/1000 [13:46<15:49,  1.78s/it]"
     ]
    },
    {
     "name": "stdout",
     "output_type": "stream",
     "text": [
      "\n",
      "=== Sample 466/1000 ===\n",
      "RAW TEXT: While driving u come across aggressive driving behaviour by another driver. U should... Chase the car 2 tell the driver how to drive\n",
      "Predicted RAW: negative\n",
      "CLEANED TEXT: driving u come across aggressive driving behaviour another driver u chase car 2 tell driver drive\n",
      "Predicted CLEAN: negative\n",
      "TRUE SENTIMENT: negative\n"
     ]
    },
    {
     "name": "stderr",
     "output_type": "stream",
     "text": [
      " 47%|████▋     | 467/1000 [13:48<15:40,  1.76s/it]"
     ]
    },
    {
     "name": "stdout",
     "output_type": "stream",
     "text": [
      "\n",
      "=== Sample 467/1000 ===\n",
      "RAW TEXT:  Wasn`**** totally awesome?  Seeing the rebooted crew was so nice!\n",
      "Predicted RAW: positive\n",
      "CLEANED TEXT: totally awesome seeing rebooted crew nice\n",
      "Predicted CLEAN: positive\n",
      "TRUE SENTIMENT: positive\n"
     ]
    },
    {
     "name": "stderr",
     "output_type": "stream",
     "text": [
      " 47%|████▋     | 468/1000 [13:50<15:36,  1.76s/it]"
     ]
    },
    {
     "name": "stdout",
     "output_type": "stream",
     "text": [
      "\n",
      "=== Sample 468/1000 ===\n",
      "RAW TEXT: _d thats good to know, and I bet he looks just like you.\n",
      "Predicted RAW: positive\n",
      "CLEANED TEXT: thats good know bet look like\n",
      "Predicted CLEAN: positive\n",
      "TRUE SENTIMENT: positive\n"
     ]
    },
    {
     "name": "stderr",
     "output_type": "stream",
     "text": [
      " 47%|████▋     | 469/1000 [13:52<15:59,  1.81s/it]"
     ]
    },
    {
     "name": "stdout",
     "output_type": "stream",
     "text": [
      "\n",
      "=== Sample 469/1000 ===\n",
      "RAW TEXT: _43 HAHHAHAH that really made me laugh out loudd! ahahahahahahahahah your fuunny!!\n",
      "Predicted RAW: positive\n",
      "CLEANED TEXT: 43 hahhahah really made laugh loudd ahahahahahahahahah fuunny\n",
      "Predicted CLEAN: positive\n",
      "TRUE SENTIMENT: positive\n"
     ]
    },
    {
     "name": "stderr",
     "output_type": "stream",
     "text": [
      " 47%|████▋     | 470/1000 [13:53<15:45,  1.78s/it]"
     ]
    },
    {
     "name": "stdout",
     "output_type": "stream",
     "text": [
      "\n",
      "=== Sample 470/1000 ===\n",
      "RAW TEXT: i so wish i could get pregnant!!\n",
      "Predicted RAW: negative\n",
      "CLEANED TEXT: wish could get pregnant\n",
      "Predicted CLEAN: negative\n",
      "TRUE SENTIMENT: positive\n"
     ]
    },
    {
     "name": "stderr",
     "output_type": "stream",
     "text": [
      " 47%|████▋     | 471/1000 [13:55<15:54,  1.81s/it]"
     ]
    },
    {
     "name": "stdout",
     "output_type": "stream",
     "text": [
      "\n",
      "=== Sample 471/1000 ===\n",
      "RAW TEXT:  im trying to fix it.. it doesnt do it  and its 'ahi dios mio' but u did good lol\n",
      "Predicted RAW: positive\n",
      "CLEANED TEXT: im trying fix doesnt ahi dios mio u good lol\n",
      "Predicted CLEAN: negative\n",
      "TRUE SENTIMENT: positive\n"
     ]
    },
    {
     "name": "stderr",
     "output_type": "stream",
     "text": [
      " 47%|████▋     | 472/1000 [13:57<15:42,  1.78s/it]"
     ]
    },
    {
     "name": "stdout",
     "output_type": "stream",
     "text": [
      "\n",
      "=== Sample 472/1000 ===\n",
      "RAW TEXT:  Hiya! Missed you too! What have you been up to?\n",
      "Predicted RAW: positive\n",
      "CLEANED TEXT: hiya missed\n",
      "Predicted CLEAN: positive\n",
      "TRUE SENTIMENT: negative\n"
     ]
    },
    {
     "name": "stderr",
     "output_type": "stream",
     "text": [
      " 47%|████▋     | 473/1000 [13:59<15:34,  1.77s/it]"
     ]
    },
    {
     "name": "stdout",
     "output_type": "stream",
     "text": [
      "\n",
      "=== Sample 473/1000 ===\n",
      "RAW TEXT: Really sick\n",
      "Predicted RAW: negative\n",
      "CLEANED TEXT: really sick\n",
      "Predicted CLEAN: negative\n",
      "TRUE SENTIMENT: negative\n"
     ]
    },
    {
     "name": "stderr",
     "output_type": "stream",
     "text": [
      " 47%|████▋     | 474/1000 [14:00<15:28,  1.76s/it]"
     ]
    },
    {
     "name": "stdout",
     "output_type": "stream",
     "text": [
      "\n",
      "=== Sample 474/1000 ===\n",
      "RAW TEXT: Thx, Robban  http://www.sk-gaming.com/match/17905\n",
      "Predicted RAW: positive\n",
      "CLEANED TEXT: thx robban\n",
      "Predicted CLEAN: positive\n",
      "TRUE SENTIMENT: positive\n"
     ]
    },
    {
     "name": "stderr",
     "output_type": "stream",
     "text": [
      " 48%|████▊     | 475/1000 [14:02<15:23,  1.76s/it]"
     ]
    },
    {
     "name": "stdout",
     "output_type": "stream",
     "text": [
      "\n",
      "=== Sample 475/1000 ===\n",
      "RAW TEXT:  thanks JK!!!  Love ya to death\n",
      "Predicted RAW: positive\n",
      "CLEANED TEXT: thanks jk love ya death\n",
      "Predicted CLEAN: positive\n",
      "TRUE SENTIMENT: positive\n"
     ]
    },
    {
     "name": "stderr",
     "output_type": "stream",
     "text": [
      " 48%|████▊     | 476/1000 [14:04<15:36,  1.79s/it]"
     ]
    },
    {
     "name": "stdout",
     "output_type": "stream",
     "text": [
      "\n",
      "=== Sample 476/1000 ===\n",
      "RAW TEXT: Going to Al Ain.  Need to check out one store. Hope i find things that I`m looking for.\n",
      "Predicted RAW: positive\n",
      "CLEANED TEXT: going al need check one store hope find thing im looking\n",
      "Predicted CLEAN: negative\n",
      "TRUE SENTIMENT: positive\n"
     ]
    },
    {
     "name": "stderr",
     "output_type": "stream",
     "text": [
      " 48%|████▊     | 477/1000 [14:06<15:41,  1.80s/it]"
     ]
    },
    {
     "name": "stdout",
     "output_type": "stream",
     "text": [
      "\n",
      "=== Sample 477/1000 ===\n",
      "RAW TEXT: So my parents are too busy making me feel like **** to realise that I`ve got worse and need to see a doctor again. No sleep sucks\n",
      "Predicted RAW: negative\n",
      "CLEANED TEXT: parent busy making feel like realise ive got worse need see doctor sleep suck\n",
      "Predicted CLEAN: negative\n",
      "TRUE SENTIMENT: negative\n"
     ]
    },
    {
     "name": "stderr",
     "output_type": "stream",
     "text": [
      " 48%|████▊     | 478/1000 [14:08<15:44,  1.81s/it]"
     ]
    },
    {
     "name": "stdout",
     "output_type": "stream",
     "text": [
      "\n",
      "=== Sample 478/1000 ===\n",
      "RAW TEXT:  G`night Jonathan! I tried to stay up, I really did. I can`t wait till ur in my timezone! Will be so much easier then!\n",
      "Predicted RAW: positive\n",
      "CLEANED TEXT: gnight jonathan tried stay really cant wait till ur timezone much easier\n",
      "Predicted CLEAN: positive\n",
      "TRUE SENTIMENT: positive\n"
     ]
    },
    {
     "name": "stderr",
     "output_type": "stream",
     "text": [
      " 48%|████▊     | 479/1000 [14:09<15:31,  1.79s/it]"
     ]
    },
    {
     "name": "stdout",
     "output_type": "stream",
     "text": [
      "\n",
      "=== Sample 479/1000 ===\n",
      "RAW TEXT: Prom is so over rated!! Irritated... Going to bed goodnight\n",
      "Predicted RAW: negative\n",
      "CLEANED TEXT: prom rated irritated going bed goodnight\n",
      "Predicted CLEAN: negative\n",
      "TRUE SENTIMENT: negative\n"
     ]
    },
    {
     "name": "stderr",
     "output_type": "stream",
     "text": [
      " 48%|████▊     | 480/1000 [14:11<15:22,  1.77s/it]"
     ]
    },
    {
     "name": "stdout",
     "output_type": "stream",
     "text": [
      "\n",
      "=== Sample 480/1000 ===\n",
      "RAW TEXT:  english screwed up my overall percentage in X, in XII again and probably in adm tests too. **** happens.\n",
      "Predicted RAW: negative\n",
      "CLEANED TEXT: english screwed overall percentage x xii probably adm test happens\n",
      "Predicted CLEAN: negative\n",
      "TRUE SENTIMENT: negative\n"
     ]
    },
    {
     "name": "stderr",
     "output_type": "stream",
     "text": [
      " 48%|████▊     | 481/1000 [14:13<15:14,  1.76s/it]"
     ]
    },
    {
     "name": "stdout",
     "output_type": "stream",
     "text": [
      "\n",
      "=== Sample 481/1000 ===\n",
      "RAW TEXT:  i want chinese food really baaad.\n",
      "Predicted RAW: positive\n",
      "CLEANED TEXT: want chinese food really baaad\n",
      "Predicted CLEAN: positive\n",
      "TRUE SENTIMENT: positive\n"
     ]
    },
    {
     "name": "stderr",
     "output_type": "stream",
     "text": [
      " 48%|████▊     | 482/1000 [14:15<15:23,  1.78s/it]"
     ]
    },
    {
     "name": "stdout",
     "output_type": "stream",
     "text": [
      "\n",
      "=== Sample 482/1000 ===\n",
      "RAW TEXT: _d you`re gonna take good care of that little baby and he`s gonna be a strong boy, that`s for sure\n",
      "Predicted RAW: positive\n",
      "CLEANED TEXT: youre gon na take good care little baby he gon na strong boy thats sure\n",
      "Predicted CLEAN: positive\n",
      "TRUE SENTIMENT: positive\n"
     ]
    },
    {
     "name": "stderr",
     "output_type": "stream",
     "text": [
      " 48%|████▊     | 483/1000 [14:17<15:28,  1.80s/it]"
     ]
    },
    {
     "name": "stdout",
     "output_type": "stream",
     "text": [
      "\n",
      "=== Sample 483/1000 ===\n",
      "RAW TEXT:  ha! lemme know what you find (tho I suspect it will be a lot of complaints). Have a peaceful night my friend\n",
      "Predicted RAW: positive\n",
      "CLEANED TEXT: ha lem know find tho suspect lot complaint peaceful night friend\n",
      "Predicted CLEAN: negative\n",
      "TRUE SENTIMENT: positive\n"
     ]
    },
    {
     "name": "stderr",
     "output_type": "stream",
     "text": [
      " 48%|████▊     | 484/1000 [14:18<15:15,  1.77s/it]"
     ]
    },
    {
     "name": "stdout",
     "output_type": "stream",
     "text": [
      "\n",
      "=== Sample 484/1000 ===\n",
      "RAW TEXT:   sad face.\n",
      "Predicted RAW: negative\n",
      "CLEANED TEXT: sad face\n",
      "Predicted CLEAN: negative\n",
      "TRUE SENTIMENT: negative\n"
     ]
    },
    {
     "name": "stderr",
     "output_type": "stream",
     "text": [
      " 48%|████▊     | 485/1000 [14:20<15:08,  1.76s/it]"
     ]
    },
    {
     "name": "stdout",
     "output_type": "stream",
     "text": [
      "\n",
      "=== Sample 485/1000 ===\n",
      "RAW TEXT: Aaaaahhhh.... Friday!!!! but.......     Funeral at 5\n",
      "Predicted RAW: negative\n",
      "CLEANED TEXT: aaaaahhhh friday funeral 5\n",
      "Predicted CLEAN: positive\n",
      "TRUE SENTIMENT: negative\n"
     ]
    },
    {
     "name": "stderr",
     "output_type": "stream",
     "text": [
      " 49%|████▊     | 486/1000 [14:22<15:01,  1.75s/it]"
     ]
    },
    {
     "name": "stdout",
     "output_type": "stream",
     "text": [
      "\n",
      "=== Sample 486/1000 ===\n",
      "RAW TEXT: Already misses \n",
      "Predicted RAW: negative\n",
      "CLEANED TEXT: already miss\n",
      "Predicted CLEAN: positive\n",
      "TRUE SENTIMENT: negative\n"
     ]
    },
    {
     "name": "stderr",
     "output_type": "stream",
     "text": [
      " 49%|████▊     | 487/1000 [14:24<14:59,  1.75s/it]"
     ]
    },
    {
     "name": "stdout",
     "output_type": "stream",
     "text": [
      "\n",
      "=== Sample 487/1000 ===\n",
      "RAW TEXT: _laura_LP ok thanks for the help! I hope they respond to me sooner or later, then! thanks!\n",
      "Predicted RAW: positive\n",
      "CLEANED TEXT: lauralp ok thanks help hope respond sooner later thanks\n",
      "Predicted CLEAN: positive\n",
      "TRUE SENTIMENT: positive\n"
     ]
    },
    {
     "name": "stderr",
     "output_type": "stream",
     "text": [
      " 49%|████▉     | 488/1000 [14:25<15:11,  1.78s/it]"
     ]
    },
    {
     "name": "stdout",
     "output_type": "stream",
     "text": [
      "\n",
      "=== Sample 488/1000 ===\n",
      "RAW TEXT:   out of commish for a few days in ATL with fam.  Just saw the updates to the .net website... Looks AWESOME!\n",
      "Predicted RAW: positive\n",
      "CLEANED TEXT: commish day atl fam saw update net website look awesome\n",
      "Predicted CLEAN: positive\n",
      "TRUE SENTIMENT: positive\n"
     ]
    },
    {
     "name": "stderr",
     "output_type": "stream",
     "text": [
      " 49%|████▉     | 489/1000 [14:27<15:20,  1.80s/it]"
     ]
    },
    {
     "name": "stdout",
     "output_type": "stream",
     "text": [
      "\n",
      "=== Sample 489/1000 ===\n",
      "RAW TEXT:  awww that sucks  also, when i finish uni, you should totally have a mini housewarming. yes, work it around my schedule, LOL.\n",
      "Predicted RAW: positive\n",
      "CLEANED TEXT: awww suck also finish uni totally mini housewarming yes work around schedule lol\n",
      "Predicted CLEAN: positive\n",
      "TRUE SENTIMENT: negative\n"
     ]
    },
    {
     "name": "stderr",
     "output_type": "stream",
     "text": [
      " 49%|████▉     | 490/1000 [14:29<15:35,  1.83s/it]"
     ]
    },
    {
     "name": "stdout",
     "output_type": "stream",
     "text": [
      "\n",
      "=== Sample 490/1000 ===\n",
      "RAW TEXT:  I would vote for you Miley but I live in Ireland  You`ll be fine  Good luck! Slï¿½n!(bye in irish ) Sorcha xxxx\n",
      "Predicted RAW: positive\n",
      "CLEANED TEXT: would vote miley live ireland youll fine good luck slï¿½nbye irish sorcha xxxx\n",
      "Predicted CLEAN: positive\n",
      "TRUE SENTIMENT: positive\n"
     ]
    },
    {
     "name": "stderr",
     "output_type": "stream",
     "text": [
      " 49%|████▉     | 491/1000 [14:31<15:34,  1.84s/it]"
     ]
    },
    {
     "name": "stdout",
     "output_type": "stream",
     "text": [
      "\n",
      "=== Sample 491/1000 ===\n",
      "RAW TEXT: Oh..Summer begins..yay..  The fighting, Crying and stress has started with the kids..It`s only been 3 hrs since they got out.\n",
      "Predicted RAW: negative\n",
      "CLEANED TEXT: ohsummer beginsyay fighting cry stress started kidsits 3 hr since got\n",
      "Predicted CLEAN: negative\n",
      "TRUE SENTIMENT: negative\n"
     ]
    },
    {
     "name": "stderr",
     "output_type": "stream",
     "text": [
      " 49%|████▉     | 492/1000 [14:33<15:16,  1.80s/it]"
     ]
    },
    {
     "name": "stdout",
     "output_type": "stream",
     "text": [
      "\n",
      "=== Sample 492/1000 ===\n",
      "RAW TEXT: I feel so deflated. No more doggy.\n",
      "Predicted RAW: negative\n",
      "CLEANED TEXT: feel deflated doggy\n",
      "Predicted CLEAN: negative\n",
      "TRUE SENTIMENT: negative\n"
     ]
    },
    {
     "name": "stderr",
     "output_type": "stream",
     "text": [
      " 49%|████▉     | 493/1000 [14:35<15:20,  1.82s/it]"
     ]
    },
    {
     "name": "stdout",
     "output_type": "stream",
     "text": [
      "\n",
      "=== Sample 493/1000 ===\n",
      "RAW TEXT:  Omg really??  I sowwy! I`ll do it again! :-p I was tired when I did that this morning. :-p lol!\n",
      "Predicted RAW: positive\n",
      "CLEANED TEXT: omg really sowwy ill p tired morning p lol\n",
      "Predicted CLEAN: negative\n",
      "TRUE SENTIMENT: negative\n"
     ]
    },
    {
     "name": "stderr",
     "output_type": "stream",
     "text": [
      " 49%|████▉     | 494/1000 [14:36<15:10,  1.80s/it]"
     ]
    },
    {
     "name": "stdout",
     "output_type": "stream",
     "text": [
      "\n",
      "=== Sample 494/1000 ===\n",
      "RAW TEXT: owww, back pain  hm, walmart or no? i could get cupcakes~\n",
      "Predicted RAW: negative\n",
      "CLEANED TEXT: back pain hm walmart could get cupcake\n",
      "Predicted CLEAN: negative\n",
      "TRUE SENTIMENT: negative\n"
     ]
    },
    {
     "name": "stderr",
     "output_type": "stream",
     "text": [
      " 50%|████▉     | 495/1000 [14:38<14:58,  1.78s/it]"
     ]
    },
    {
     "name": "stdout",
     "output_type": "stream",
     "text": [
      "\n",
      "=== Sample 495/1000 ===\n",
      "RAW TEXT: Making my boyfriend look different.  He`s  cute no matter what. <3\n",
      "Predicted RAW: positive\n",
      "CLEANED TEXT: making boyfriend look different he cute matter 3\n",
      "Predicted CLEAN: negative\n",
      "TRUE SENTIMENT: positive\n"
     ]
    },
    {
     "name": "stderr",
     "output_type": "stream",
     "text": [
      " 50%|████▉     | 496/1000 [14:40<14:52,  1.77s/it]"
     ]
    },
    {
     "name": "stdout",
     "output_type": "stream",
     "text": [
      "\n",
      "=== Sample 496/1000 ===\n",
      "RAW TEXT:  LOL thx\n",
      "Predicted RAW: positive\n",
      "CLEANED TEXT: lol thx\n",
      "Predicted CLEAN: positive\n",
      "TRUE SENTIMENT: positive\n"
     ]
    },
    {
     "name": "stderr",
     "output_type": "stream",
     "text": [
      " 50%|████▉     | 497/1000 [14:42<14:47,  1.76s/it]"
     ]
    },
    {
     "name": "stdout",
     "output_type": "stream",
     "text": [
      "\n",
      "=== Sample 497/1000 ===\n",
      "RAW TEXT:  well there go my peace corps prospects.\n",
      "Predicted RAW: negative\n",
      "CLEANED TEXT: well go peace corp prospect\n",
      "Predicted CLEAN: negative\n",
      "TRUE SENTIMENT: positive\n"
     ]
    },
    {
     "name": "stderr",
     "output_type": "stream",
     "text": [
      " 50%|████▉     | 498/1000 [14:43<14:52,  1.78s/it]"
     ]
    },
    {
     "name": "stdout",
     "output_type": "stream",
     "text": [
      "\n",
      "=== Sample 498/1000 ===\n",
      "RAW TEXT:  Good idea! I`ll have to remove all the old receipts, tissue paper and other nonsense before I can take a pic\n",
      "Predicted RAW: positive\n",
      "CLEANED TEXT: good idea ill remove old receipt tissue paper nonsense take pic\n",
      "Predicted CLEAN: positive\n",
      "TRUE SENTIMENT: positive\n"
     ]
    },
    {
     "name": "stderr",
     "output_type": "stream",
     "text": [
      " 50%|████▉     | 499/1000 [14:45<15:00,  1.80s/it]"
     ]
    },
    {
     "name": "stdout",
     "output_type": "stream",
     "text": [
      "\n",
      "=== Sample 499/1000 ===\n",
      "RAW TEXT:  i`m not in the best financial situation myself at the moment. i`m beyond broke. my money is spend as soon as i earn it atm\n",
      "Predicted RAW: negative\n",
      "CLEANED TEXT: im best financial situation moment im beyond broke money spend soon earn atm\n",
      "Predicted CLEAN: negative\n",
      "TRUE SENTIMENT: negative\n"
     ]
    },
    {
     "name": "stderr",
     "output_type": "stream",
     "text": [
      " 50%|█████     | 500/1000 [14:47<15:02,  1.81s/it]"
     ]
    },
    {
     "name": "stdout",
     "output_type": "stream",
     "text": [
      "\n",
      "=== Sample 500/1000 ===\n",
      "RAW TEXT: If recent experience is anything to go by, I fear I might be going off Indian food. This is not good, people. Not good\n",
      "Predicted RAW: negative\n",
      "CLEANED TEXT: recent experience anything go fear might going indian food good people good\n",
      "Predicted CLEAN: positive\n",
      "TRUE SENTIMENT: negative\n"
     ]
    },
    {
     "name": "stderr",
     "output_type": "stream",
     "text": [
      " 50%|█████     | 501/1000 [14:49<14:50,  1.79s/it]"
     ]
    },
    {
     "name": "stdout",
     "output_type": "stream",
     "text": [
      "\n",
      "=== Sample 501/1000 ===\n",
      "RAW TEXT:  i wish i wasn`t all  bummed but i kinda am\n",
      "Predicted RAW: negative\n",
      "CLEANED TEXT: wish wasnt bummed kinda\n",
      "Predicted CLEAN: negative\n",
      "TRUE SENTIMENT: positive\n"
     ]
    },
    {
     "name": "stderr",
     "output_type": "stream",
     "text": [
      " 50%|█████     | 502/1000 [14:51<14:45,  1.78s/it]"
     ]
    },
    {
     "name": "stdout",
     "output_type": "stream",
     "text": [
      "\n",
      "=== Sample 502/1000 ===\n",
      "RAW TEXT:  Hey Mitchel when will you be live again? I didn`t get a chance to call you\n",
      "Predicted RAW: positive\n",
      "CLEANED TEXT: hey mitchel live didnt get chance call\n",
      "Predicted CLEAN: negative\n",
      "TRUE SENTIMENT: negative\n"
     ]
    },
    {
     "name": "stderr",
     "output_type": "stream",
     "text": [
      " 50%|█████     | 503/1000 [14:52<14:38,  1.77s/it]"
     ]
    },
    {
     "name": "stdout",
     "output_type": "stream",
     "text": [
      "\n",
      "=== Sample 503/1000 ===\n",
      "RAW TEXT: Back is SORE... should not have done that jump last night\n",
      "Predicted RAW: negative\n",
      "CLEANED TEXT: back sore done jump last night\n",
      "Predicted CLEAN: negative\n",
      "TRUE SENTIMENT: negative\n"
     ]
    },
    {
     "name": "stderr",
     "output_type": "stream",
     "text": [
      " 50%|█████     | 504/1000 [14:54<14:49,  1.79s/it]"
     ]
    },
    {
     "name": "stdout",
     "output_type": "stream",
     "text": [
      "\n",
      "=== Sample 504/1000 ===\n",
      "RAW TEXT: 'Brides a la mode' pow wow first thing this morning   This past weekend`s lovely wedding fresh in my mind... pics soon!\n",
      "Predicted RAW: positive\n",
      "CLEANED TEXT: bride la mode pow wow first thing morning past weekend lovely wedding fresh mind pic soon\n",
      "Predicted CLEAN: positive\n",
      "TRUE SENTIMENT: positive\n"
     ]
    },
    {
     "name": "stderr",
     "output_type": "stream",
     "text": [
      " 50%|█████     | 505/1000 [14:56<14:40,  1.78s/it]"
     ]
    },
    {
     "name": "stdout",
     "output_type": "stream",
     "text": [
      "\n",
      "=== Sample 505/1000 ===\n",
      "RAW TEXT: such beautiful weather.. .why are u sick, baby ?  @ tanapolis\n",
      "Predicted RAW: positive\n",
      "CLEANED TEXT: beautiful weather u sick baby tanapolis\n",
      "Predicted CLEAN: positive\n",
      "TRUE SENTIMENT: positive\n"
     ]
    },
    {
     "name": "stderr",
     "output_type": "stream",
     "text": [
      " 51%|█████     | 506/1000 [14:58<14:32,  1.77s/it]"
     ]
    },
    {
     "name": "stdout",
     "output_type": "stream",
     "text": [
      "\n",
      "=== Sample 506/1000 ===\n",
      "RAW TEXT:  Yep. Nothing to worry about.\n",
      "Predicted RAW: positive\n",
      "CLEANED TEXT: yep nothing worry\n",
      "Predicted CLEAN: positive\n",
      "TRUE SENTIMENT: positive\n"
     ]
    },
    {
     "name": "stderr",
     "output_type": "stream",
     "text": [
      " 51%|█████     | 507/1000 [14:59<14:38,  1.78s/it]"
     ]
    },
    {
     "name": "stdout",
     "output_type": "stream",
     "text": [
      "\n",
      "=== Sample 507/1000 ===\n",
      "RAW TEXT: back to work tomorrow  whose idea was it to go back on a saturday?!? Oh wait... that would be mine. FAIL.\n",
      "Predicted RAW: negative\n",
      "CLEANED TEXT: back work tomorrow whose idea go back saturday oh wait would mine fail\n",
      "Predicted CLEAN: negative\n",
      "TRUE SENTIMENT: negative\n"
     ]
    },
    {
     "name": "stderr",
     "output_type": "stream",
     "text": [
      " 51%|█████     | 508/1000 [15:01<14:30,  1.77s/it]"
     ]
    },
    {
     "name": "stdout",
     "output_type": "stream",
     "text": [
      "\n",
      "=== Sample 508/1000 ===\n",
      "RAW TEXT: Wow what a storm we just had!!! Now no power\n",
      "Predicted RAW: negative\n",
      "CLEANED TEXT: wow storm power\n",
      "Predicted CLEAN: positive\n",
      "TRUE SENTIMENT: positive\n"
     ]
    },
    {
     "name": "stderr",
     "output_type": "stream",
     "text": [
      " 51%|█████     | 509/1000 [15:03<14:24,  1.76s/it]"
     ]
    },
    {
     "name": "stdout",
     "output_type": "stream",
     "text": [
      "\n",
      "=== Sample 509/1000 ===\n",
      "RAW TEXT: getting my phone back this week  yeeeewww\n",
      "Predicted RAW: positive\n",
      "CLEANED TEXT: getting phone back week yeeeewww\n",
      "Predicted CLEAN: negative\n",
      "TRUE SENTIMENT: positive\n"
     ]
    },
    {
     "name": "stderr",
     "output_type": "stream",
     "text": [
      " 51%|█████     | 510/1000 [15:05<14:21,  1.76s/it]"
     ]
    },
    {
     "name": "stdout",
     "output_type": "stream",
     "text": [
      "\n",
      "=== Sample 510/1000 ===\n",
      "RAW TEXT: back from school  daily show was amazing  gonna watch it again later i think xD\n",
      "Predicted RAW: positive\n",
      "CLEANED TEXT: back school daily show amazing gon na watch later think xd\n",
      "Predicted CLEAN: positive\n",
      "TRUE SENTIMENT: positive\n"
     ]
    },
    {
     "name": "stderr",
     "output_type": "stream",
     "text": [
      " 51%|█████     | 511/1000 [15:06<14:16,  1.75s/it]"
     ]
    },
    {
     "name": "stdout",
     "output_type": "stream",
     "text": [
      "\n",
      "=== Sample 511/1000 ===\n",
      "RAW TEXT: _breez Yer please do! Have a good day!\n",
      "Predicted RAW: positive\n",
      "CLEANED TEXT: breez yer please good day\n",
      "Predicted CLEAN: positive\n",
      "TRUE SENTIMENT: positive\n"
     ]
    },
    {
     "name": "stderr",
     "output_type": "stream",
     "text": [
      " 51%|█████     | 512/1000 [15:08<14:14,  1.75s/it]"
     ]
    },
    {
     "name": "stdout",
     "output_type": "stream",
     "text": [
      "\n",
      "=== Sample 512/1000 ===\n",
      "RAW TEXT:  hot cuppa coffee made with milk & fortified with Monin`s Irish Coffee syrup! Bliss!\n",
      "Predicted RAW: positive\n",
      "CLEANED TEXT: hot cuppa coffee made milk fortified monins irish coffee syrup bliss\n",
      "Predicted CLEAN: positive\n",
      "TRUE SENTIMENT: positive\n"
     ]
    },
    {
     "name": "stderr",
     "output_type": "stream",
     "text": [
      " 51%|█████▏    | 513/1000 [15:10<14:24,  1.78s/it]"
     ]
    },
    {
     "name": "stdout",
     "output_type": "stream",
     "text": [
      "\n",
      "=== Sample 513/1000 ===\n",
      "RAW TEXT: right im out of here peeps.. i hope  fixes twitter mobile so i can tweet from the race.. m.twitter has been down for 4 days  #fail\n",
      "Predicted RAW: negative\n",
      "CLEANED TEXT: right im peep hope fix twitter mobile tweet race mtwitter 4 day fail\n",
      "Predicted CLEAN: negative\n",
      "TRUE SENTIMENT: positive\n"
     ]
    },
    {
     "name": "stderr",
     "output_type": "stream",
     "text": [
      " 51%|█████▏    | 514/1000 [15:12<14:18,  1.77s/it]"
     ]
    },
    {
     "name": "stdout",
     "output_type": "stream",
     "text": [
      "\n",
      "=== Sample 514/1000 ===\n",
      "RAW TEXT: watching Army Wives and it always makes me cry\n",
      "Predicted RAW: negative\n",
      "CLEANED TEXT: watching army wife always make cry\n",
      "Predicted CLEAN: negative\n",
      "TRUE SENTIMENT: negative\n"
     ]
    },
    {
     "name": "stderr",
     "output_type": "stream",
     "text": [
      " 52%|█████▏    | 515/1000 [15:13<14:12,  1.76s/it]"
     ]
    },
    {
     "name": "stdout",
     "output_type": "stream",
     "text": [
      "\n",
      "=== Sample 515/1000 ===\n",
      "RAW TEXT: productive day 1\n",
      "Predicted RAW: positive\n",
      "CLEANED TEXT: productive day 1\n",
      "Predicted CLEAN: positive\n",
      "TRUE SENTIMENT: positive\n"
     ]
    },
    {
     "name": "stderr",
     "output_type": "stream",
     "text": [
      " 52%|█████▏    | 516/1000 [15:15<14:09,  1.75s/it]"
     ]
    },
    {
     "name": "stdout",
     "output_type": "stream",
     "text": [
      "\n",
      "=== Sample 516/1000 ===\n",
      "RAW TEXT:  gotta love the summer\n",
      "Predicted RAW: positive\n",
      "CLEANED TEXT: got ta love summer\n",
      "Predicted CLEAN: positive\n",
      "TRUE SENTIMENT: positive\n"
     ]
    },
    {
     "name": "stderr",
     "output_type": "stream",
     "text": [
      " 52%|█████▏    | 517/1000 [15:17<14:18,  1.78s/it]"
     ]
    },
    {
     "name": "stdout",
     "output_type": "stream",
     "text": [
      "\n",
      "=== Sample 517/1000 ===\n",
      "RAW TEXT: _buckley Good morning from sunny London...sounds like an oxymoron but happens to be true of today  Hurrah!\n",
      "Predicted RAW: positive\n",
      "CLEANED TEXT: buckley good morning sunny londonsounds like oxymoron happens true today hurrah\n",
      "Predicted CLEAN: positive\n",
      "TRUE SENTIMENT: positive\n"
     ]
    },
    {
     "name": "stderr",
     "output_type": "stream",
     "text": [
      " 52%|█████▏    | 518/1000 [15:19<14:13,  1.77s/it]"
     ]
    },
    {
     "name": "stdout",
     "output_type": "stream",
     "text": [
      "\n",
      "=== Sample 518/1000 ===\n",
      "RAW TEXT:  Cool. That`d be fantastic!\n",
      "Predicted RAW: positive\n",
      "CLEANED TEXT: cool thatd fantastic\n",
      "Predicted CLEAN: positive\n",
      "TRUE SENTIMENT: positive\n"
     ]
    },
    {
     "name": "stderr",
     "output_type": "stream",
     "text": [
      " 52%|█████▏    | 519/1000 [15:21<14:20,  1.79s/it]"
     ]
    },
    {
     "name": "stdout",
     "output_type": "stream",
     "text": [
      "\n",
      "=== Sample 519/1000 ===\n",
      "RAW TEXT:  Yes, but I`m quite rusty.  I`m hoping to get back to it and 'tune up' my skills.  Tim plays guitar.  We threaten duets.\n",
      "Predicted RAW: positive\n",
      "CLEANED TEXT: yes im quite rusty im hoping get back tune skill tim play guitar threaten duet\n",
      "Predicted CLEAN: negative\n",
      "TRUE SENTIMENT: negative\n"
     ]
    },
    {
     "name": "stderr",
     "output_type": "stream",
     "text": [
      " 52%|█████▏    | 520/1000 [15:22<14:23,  1.80s/it]"
     ]
    },
    {
     "name": "stdout",
     "output_type": "stream",
     "text": [
      "\n",
      "=== Sample 520/1000 ===\n",
      "RAW TEXT: Hey everybody!  hah this day is cool! just got back from walk with the dog...  OMGosh! Send me the link again please!\n",
      "Predicted RAW: positive\n",
      "CLEANED TEXT: hey everybody hah day cool got back walk dog omgosh send link please\n",
      "Predicted CLEAN: positive\n",
      "TRUE SENTIMENT: positive\n"
     ]
    },
    {
     "name": "stderr",
     "output_type": "stream",
     "text": [
      " 52%|█████▏    | 521/1000 [15:24<14:28,  1.81s/it]"
     ]
    },
    {
     "name": "stdout",
     "output_type": "stream",
     "text": [
      "\n",
      "=== Sample 521/1000 ===\n",
      "RAW TEXT:  srry im not so interesting right now... stayed up til 6am cause my tummy hurt and now im pooped and have to work\n",
      "Predicted RAW: negative\n",
      "CLEANED TEXT: srry im interesting right stayed til 6am cause tummy hurt im pooped work\n",
      "Predicted CLEAN: negative\n",
      "TRUE SENTIMENT: negative\n"
     ]
    },
    {
     "name": "stderr",
     "output_type": "stream",
     "text": [
      " 52%|█████▏    | 522/1000 [15:26<14:17,  1.79s/it]"
     ]
    },
    {
     "name": "stdout",
     "output_type": "stream",
     "text": [
      "\n",
      "=== Sample 522/1000 ===\n",
      "RAW TEXT:  me because I might not have enough money for college!!!\n",
      "Predicted RAW: negative\n",
      "CLEANED TEXT: might enough money college\n",
      "Predicted CLEAN: negative\n",
      "TRUE SENTIMENT: negative\n"
     ]
    },
    {
     "name": "stderr",
     "output_type": "stream",
     "text": [
      " 52%|█████▏    | 523/1000 [15:28<14:08,  1.78s/it]"
     ]
    },
    {
     "name": "stdout",
     "output_type": "stream",
     "text": [
      "\n",
      "=== Sample 523/1000 ===\n",
      "RAW TEXT: I love how when I leave my laptop on my bed it creates a nice toasty spot\n",
      "Predicted RAW: positive\n",
      "CLEANED TEXT: love leave laptop bed creates nice toasty spot\n",
      "Predicted CLEAN: positive\n",
      "TRUE SENTIMENT: positive\n"
     ]
    },
    {
     "name": "stderr",
     "output_type": "stream",
     "text": [
      " 52%|█████▏    | 524/1000 [15:30<14:03,  1.77s/it]"
     ]
    },
    {
     "name": "stdout",
     "output_type": "stream",
     "text": [
      "\n",
      "=== Sample 524/1000 ===\n",
      "RAW TEXT:  Does it start tomorrow?  I was going to book Sam on that and forgot\n",
      "Predicted RAW: negative\n",
      "CLEANED TEXT: start tomorrow going book sam forgot\n",
      "Predicted CLEAN: negative\n",
      "TRUE SENTIMENT: negative\n"
     ]
    },
    {
     "name": "stderr",
     "output_type": "stream",
     "text": [
      " 52%|█████▎    | 525/1000 [15:31<13:57,  1.76s/it]"
     ]
    },
    {
     "name": "stdout",
     "output_type": "stream",
     "text": [
      "\n",
      "=== Sample 525/1000 ===\n",
      "RAW TEXT:  salt and vinegar, cheese and onion make your breathe smell lol  ****\n",
      "Predicted RAW: negative\n",
      "CLEANED TEXT: salt vinegar cheese onion make breathe smell lol\n",
      "Predicted CLEAN: negative\n",
      "TRUE SENTIMENT: negative\n"
     ]
    },
    {
     "name": "stderr",
     "output_type": "stream",
     "text": [
      " 53%|█████▎    | 526/1000 [15:33<13:52,  1.76s/it]"
     ]
    },
    {
     "name": "stdout",
     "output_type": "stream",
     "text": [
      "\n",
      "=== Sample 526/1000 ===\n",
      "RAW TEXT:  You`re welcome. There!  I added you already!\n",
      "Predicted RAW: positive\n",
      "CLEANED TEXT: youre welcome added already\n",
      "Predicted CLEAN: positive\n",
      "TRUE SENTIMENT: positive\n"
     ]
    },
    {
     "name": "stderr",
     "output_type": "stream",
     "text": [
      " 53%|█████▎    | 527/1000 [15:35<13:52,  1.76s/it]"
     ]
    },
    {
     "name": "stdout",
     "output_type": "stream",
     "text": [
      "\n",
      "=== Sample 527/1000 ===\n",
      "RAW TEXT:  Sorry to hear about your dude probs, what is it that`s too much?\n",
      "Predicted RAW: negative\n",
      "CLEANED TEXT: sorry hear dude probs thats much\n",
      "Predicted CLEAN: negative\n",
      "TRUE SENTIMENT: negative\n"
     ]
    },
    {
     "name": "stderr",
     "output_type": "stream",
     "text": [
      " 53%|█████▎    | 528/1000 [15:37<13:52,  1.76s/it]"
     ]
    },
    {
     "name": "stdout",
     "output_type": "stream",
     "text": [
      "\n",
      "=== Sample 528/1000 ===\n",
      "RAW TEXT: Discovered that Numpy arrays can hold values of any type.  Useful for manipulating arrays of numbers with uncertainties.\n",
      "Predicted RAW: positive\n",
      "CLEANED TEXT: discovered numpy array hold value type useful manipulating array number uncertainty\n",
      "Predicted CLEAN: positive\n",
      "TRUE SENTIMENT: negative\n"
     ]
    },
    {
     "name": "stderr",
     "output_type": "stream",
     "text": [
      " 53%|█████▎    | 529/1000 [15:38<14:01,  1.79s/it]"
     ]
    },
    {
     "name": "stdout",
     "output_type": "stream",
     "text": [
      "\n",
      "=== Sample 529/1000 ===\n",
      "RAW TEXT: maybe i should take up drinking again, feel as if i have a ,massive hangover  still not ,yself today\n",
      "Predicted RAW: negative\n",
      "CLEANED TEXT: maybe take drinking feel massive hangover still yself today\n",
      "Predicted CLEAN: negative\n",
      "TRUE SENTIMENT: negative\n"
     ]
    },
    {
     "name": "stderr",
     "output_type": "stream",
     "text": [
      " 53%|█████▎    | 530/1000 [15:40<14:05,  1.80s/it]"
     ]
    },
    {
     "name": "stdout",
     "output_type": "stream",
     "text": [
      "\n",
      "=== Sample 530/1000 ===\n",
      "RAW TEXT: TODAY FRIDAY: I really hope you will read my messages here and reply to me soon. I could not reach you by phone before you go to work.\n",
      "Predicted RAW: positive\n",
      "CLEANED TEXT: today friday really hope read message reply soon could reach phone go work\n",
      "Predicted CLEAN: negative\n",
      "TRUE SENTIMENT: positive\n"
     ]
    },
    {
     "name": "stderr",
     "output_type": "stream",
     "text": [
      " 53%|█████▎    | 531/1000 [15:42<13:59,  1.79s/it]"
     ]
    },
    {
     "name": "stdout",
     "output_type": "stream",
     "text": [
      "\n",
      "=== Sample 531/1000 ===\n",
      "RAW TEXT:  whatever i know you like it.  HAHAHHAH!\n",
      "Predicted RAW: positive\n",
      "CLEANED TEXT: whatever know like hahahhah\n",
      "Predicted CLEAN: positive\n",
      "TRUE SENTIMENT: positive\n"
     ]
    },
    {
     "name": "stderr",
     "output_type": "stream",
     "text": [
      " 53%|█████▎    | 532/1000 [15:44<14:03,  1.80s/it]"
     ]
    },
    {
     "name": "stdout",
     "output_type": "stream",
     "text": [
      "\n",
      "=== Sample 532/1000 ===\n",
      "RAW TEXT: oh no! my fun weekend with friends is gone! my mother has made a family weekend of it!  ****\n",
      "Predicted RAW: negative\n",
      "CLEANED TEXT: oh fun weekend friend gone mother made family weekend\n",
      "Predicted CLEAN: positive\n",
      "TRUE SENTIMENT: negative\n"
     ]
    },
    {
     "name": "stderr",
     "output_type": "stream",
     "text": [
      " 53%|█████▎    | 533/1000 [15:46<13:52,  1.78s/it]"
     ]
    },
    {
     "name": "stdout",
     "output_type": "stream",
     "text": [
      "\n",
      "=== Sample 533/1000 ===\n",
      "RAW TEXT: Good morning twitterland. Happy Monday\n",
      "Predicted RAW: positive\n",
      "CLEANED TEXT: good morning twitterland happy monday\n",
      "Predicted CLEAN: positive\n",
      "TRUE SENTIMENT: positive\n"
     ]
    },
    {
     "name": "stderr",
     "output_type": "stream",
     "text": [
      " 53%|█████▎    | 534/1000 [15:47<13:45,  1.77s/it]"
     ]
    },
    {
     "name": "stdout",
     "output_type": "stream",
     "text": [
      "\n",
      "=== Sample 534/1000 ===\n",
      "RAW TEXT: thanks timmy.  turns out he has strep and a high fever.\n",
      "Predicted RAW: negative\n",
      "CLEANED TEXT: thanks timmy turn strep high fever\n",
      "Predicted CLEAN: positive\n",
      "TRUE SENTIMENT: positive\n"
     ]
    },
    {
     "name": "stderr",
     "output_type": "stream",
     "text": [
      " 54%|█████▎    | 535/1000 [15:49<13:50,  1.79s/it]"
     ]
    },
    {
     "name": "stdout",
     "output_type": "stream",
     "text": [
      "\n",
      "=== Sample 535/1000 ===\n",
      "RAW TEXT:  oh, that is very nice!! I will do something nice next week ~ going to Madrid next weekend for few days\n",
      "Predicted RAW: positive\n",
      "CLEANED TEXT: oh nice something nice next week going madrid next weekend day\n",
      "Predicted CLEAN: positive\n",
      "TRUE SENTIMENT: positive\n"
     ]
    },
    {
     "name": "stderr",
     "output_type": "stream",
     "text": [
      " 54%|█████▎    | 536/1000 [15:51<13:42,  1.77s/it]"
     ]
    },
    {
     "name": "stdout",
     "output_type": "stream",
     "text": [
      "\n",
      "=== Sample 536/1000 ===\n",
      "RAW TEXT: keeping it chilled.\n",
      "Predicted RAW: positive\n",
      "CLEANED TEXT: keeping chilled\n",
      "Predicted CLEAN: positive\n",
      "TRUE SENTIMENT: positive\n"
     ]
    },
    {
     "name": "stderr",
     "output_type": "stream",
     "text": [
      " 54%|█████▎    | 537/1000 [15:53<13:37,  1.77s/it]"
     ]
    },
    {
     "name": "stdout",
     "output_type": "stream",
     "text": [
      "\n",
      "=== Sample 537/1000 ===\n",
      "RAW TEXT: what a beautiful day not to got to my first class\n",
      "Predicted RAW: positive\n",
      "CLEANED TEXT: beautiful day got first class\n",
      "Predicted CLEAN: positive\n",
      "TRUE SENTIMENT: positive\n"
     ]
    },
    {
     "name": "stderr",
     "output_type": "stream",
     "text": [
      " 54%|█████▍    | 538/1000 [15:54<13:47,  1.79s/it]"
     ]
    },
    {
     "name": "stdout",
     "output_type": "stream",
     "text": [
      "\n",
      "=== Sample 538/1000 ===\n",
      "RAW TEXT:  Fabulous. And I didn`t get that pic  Gmail be acting the fool sometimes. Can u DM me it?\n",
      "Predicted RAW: positive\n",
      "CLEANED TEXT: fabulous didnt get pic gmail acting fool sometimes u dm\n",
      "Predicted CLEAN: negative\n",
      "TRUE SENTIMENT: positive\n"
     ]
    },
    {
     "name": "stderr",
     "output_type": "stream",
     "text": [
      " 54%|█████▍    | 539/1000 [15:56<13:40,  1.78s/it]"
     ]
    },
    {
     "name": "stdout",
     "output_type": "stream",
     "text": [
      "\n",
      "=== Sample 539/1000 ===\n",
      "RAW TEXT: _ that sucks!\n",
      "Predicted RAW: negative\n",
      "CLEANED TEXT: suck\n",
      "Predicted CLEAN: negative\n",
      "TRUE SENTIMENT: negative\n"
     ]
    },
    {
     "name": "stderr",
     "output_type": "stream",
     "text": [
      " 54%|█████▍    | 540/1000 [15:58<13:33,  1.77s/it]"
     ]
    },
    {
     "name": "stdout",
     "output_type": "stream",
     "text": [
      "\n",
      "=== Sample 540/1000 ===\n",
      "RAW TEXT:  yes it does\n",
      "Predicted RAW: positive\n",
      "CLEANED TEXT: yes\n",
      "Predicted CLEAN: positive\n",
      "TRUE SENTIMENT: positive\n"
     ]
    },
    {
     "name": "stderr",
     "output_type": "stream",
     "text": [
      " 54%|█████▍    | 541/1000 [16:00<13:27,  1.76s/it]"
     ]
    },
    {
     "name": "stdout",
     "output_type": "stream",
     "text": [
      "\n",
      "=== Sample 541/1000 ===\n",
      "RAW TEXT: _datti Thanks sankar for ur wishes\n",
      "Predicted RAW: positive\n",
      "CLEANED TEXT: datti thanks sankar ur wish\n",
      "Predicted CLEAN: positive\n",
      "TRUE SENTIMENT: positive\n"
     ]
    },
    {
     "name": "stderr",
     "output_type": "stream",
     "text": [
      " 54%|█████▍    | 542/1000 [16:01<13:22,  1.75s/it]"
     ]
    },
    {
     "name": "stdout",
     "output_type": "stream",
     "text": [
      "\n",
      "=== Sample 542/1000 ===\n",
      "RAW TEXT: I love waking up and thinking it`s a weekday, but then realizing it`s the weekend.\n",
      "Predicted RAW: positive\n",
      "CLEANED TEXT: love waking thinking weekday realizing weekend\n",
      "Predicted CLEAN: positive\n",
      "TRUE SENTIMENT: positive\n"
     ]
    },
    {
     "name": "stderr",
     "output_type": "stream",
     "text": [
      " 54%|█████▍    | 543/1000 [16:03<13:21,  1.75s/it]"
     ]
    },
    {
     "name": "stdout",
     "output_type": "stream",
     "text": [
      "\n",
      "=== Sample 543/1000 ===\n",
      "RAW TEXT:  sorry bout the cat,\n",
      "Predicted RAW: negative\n",
      "CLEANED TEXT: sorry bout cat\n",
      "Predicted CLEAN: negative\n",
      "TRUE SENTIMENT: negative\n"
     ]
    },
    {
     "name": "stderr",
     "output_type": "stream",
     "text": [
      " 54%|█████▍    | 544/1000 [16:05<13:24,  1.76s/it]"
     ]
    },
    {
     "name": "stdout",
     "output_type": "stream",
     "text": [
      "\n",
      "=== Sample 544/1000 ===\n",
      "RAW TEXT: Up and washed  I`m clothing myself as I type xD WOOOO\n",
      "Predicted RAW: positive\n",
      "CLEANED TEXT: washed im clothing type xd woooo\n",
      "Predicted CLEAN: positive\n",
      "TRUE SENTIMENT: positive\n"
     ]
    },
    {
     "name": "stderr",
     "output_type": "stream",
     "text": [
      " 55%|█████▍    | 545/1000 [16:07<13:21,  1.76s/it]"
     ]
    },
    {
     "name": "stdout",
     "output_type": "stream",
     "text": [
      "\n",
      "=== Sample 545/1000 ===\n",
      "RAW TEXT:  miss u too. I`m still at a club...u know...west coast ****!\n",
      "Predicted RAW: negative\n",
      "CLEANED TEXT: miss u im still clubu knowwest coast\n",
      "Predicted CLEAN: positive\n",
      "TRUE SENTIMENT: negative\n"
     ]
    },
    {
     "name": "stderr",
     "output_type": "stream",
     "text": [
      " 55%|█████▍    | 546/1000 [16:08<13:16,  1.75s/it]"
     ]
    },
    {
     "name": "stdout",
     "output_type": "stream",
     "text": [
      "\n",
      "=== Sample 546/1000 ===\n",
      "RAW TEXT:  love love love pot psycology. My Friday night treat\n",
      "Predicted RAW: positive\n",
      "CLEANED TEXT: love love love pot psycology friday night treat\n",
      "Predicted CLEAN: positive\n",
      "TRUE SENTIMENT: positive\n"
     ]
    },
    {
     "name": "stderr",
     "output_type": "stream",
     "text": [
      " 55%|█████▍    | 547/1000 [16:10<13:11,  1.75s/it]"
     ]
    },
    {
     "name": "stdout",
     "output_type": "stream",
     "text": [
      "\n",
      "=== Sample 547/1000 ===\n",
      "RAW TEXT: Happy Star Wars Day  May the fourth be with you!\n",
      "Predicted RAW: positive\n",
      "CLEANED TEXT: happy star war day may fourth\n",
      "Predicted CLEAN: positive\n",
      "TRUE SENTIMENT: positive\n"
     ]
    },
    {
     "name": "stderr",
     "output_type": "stream",
     "text": [
      " 55%|█████▍    | 548/1000 [16:12<13:10,  1.75s/it]"
     ]
    },
    {
     "name": "stdout",
     "output_type": "stream",
     "text": [
      "\n",
      "=== Sample 548/1000 ===\n",
      "RAW TEXT: _art That would be the one.  It`s awesome sauce.\n",
      "Predicted RAW: positive\n",
      "CLEANED TEXT: art would one awesome sauce\n",
      "Predicted CLEAN: positive\n",
      "TRUE SENTIMENT: positive\n"
     ]
    },
    {
     "name": "stderr",
     "output_type": "stream",
     "text": [
      " 55%|█████▍    | 549/1000 [16:14<13:21,  1.78s/it]"
     ]
    },
    {
     "name": "stdout",
     "output_type": "stream",
     "text": [
      "\n",
      "=== Sample 549/1000 ===\n",
      "RAW TEXT:  I`ve never been to Prague, but if i had the money, it`ll be in the 10 first cities I visit\n",
      "Predicted RAW: positive\n",
      "CLEANED TEXT: ive never prague money itll 10 first city visit\n",
      "Predicted CLEAN: negative\n",
      "TRUE SENTIMENT: positive\n"
     ]
    },
    {
     "name": "stderr",
     "output_type": "stream",
     "text": [
      " 55%|█████▌    | 550/1000 [16:16<13:19,  1.78s/it]"
     ]
    },
    {
     "name": "stdout",
     "output_type": "stream",
     "text": [
      "\n",
      "=== Sample 550/1000 ===\n",
      "RAW TEXT: _ really!? that son of a ****, screw him, ill talk to on msn later k  xox\n",
      "Predicted RAW: negative\n",
      "CLEANED TEXT: really son screw ill talk msn later k xox\n",
      "Predicted CLEAN: negative\n",
      "TRUE SENTIMENT: negative\n"
     ]
    },
    {
     "name": "stderr",
     "output_type": "stream",
     "text": [
      " 55%|█████▌    | 551/1000 [16:17<13:20,  1.78s/it]"
     ]
    },
    {
     "name": "stdout",
     "output_type": "stream",
     "text": [
      "\n",
      "=== Sample 551/1000 ===\n",
      "RAW TEXT:  We didn`t...but we did have to wait a good twenty minutes for one.  Good night, though!\n",
      "Predicted RAW: positive\n",
      "CLEANED TEXT: didntbut wait good twenty minute one good night though\n",
      "Predicted CLEAN: positive\n",
      "TRUE SENTIMENT: positive\n"
     ]
    },
    {
     "name": "stderr",
     "output_type": "stream",
     "text": [
      " 55%|█████▌    | 552/1000 [16:19<13:16,  1.78s/it]"
     ]
    },
    {
     "name": "stdout",
     "output_type": "stream",
     "text": [
      "\n",
      "=== Sample 552/1000 ===\n",
      "RAW TEXT:  I always hope they will die out but then i see the the old ones and it makes me sad\n",
      "Predicted RAW: negative\n",
      "CLEANED TEXT: always hope die see old one make sad\n",
      "Predicted CLEAN: negative\n",
      "TRUE SENTIMENT: negative\n"
     ]
    },
    {
     "name": "stderr",
     "output_type": "stream",
     "text": [
      " 55%|█████▌    | 553/1000 [16:21<13:12,  1.77s/it]"
     ]
    },
    {
     "name": "stdout",
     "output_type": "stream",
     "text": [
      "\n",
      "=== Sample 553/1000 ===\n",
      "RAW TEXT:  don`t follow me. You will ruin my twitter experience\n",
      "Predicted RAW: negative\n",
      "CLEANED TEXT: dont follow ruin twitter experience\n",
      "Predicted CLEAN: negative\n",
      "TRUE SENTIMENT: negative\n"
     ]
    },
    {
     "name": "stderr",
     "output_type": "stream",
     "text": [
      " 55%|█████▌    | 554/1000 [16:23<13:06,  1.76s/it]"
     ]
    },
    {
     "name": "stdout",
     "output_type": "stream",
     "text": [
      "\n",
      "=== Sample 554/1000 ===\n",
      "RAW TEXT: Blah to car repairs... almost 600 dollars...   Shopping around for a better deal.\n",
      "Predicted RAW: negative\n",
      "CLEANED TEXT: blah car repair almost 600 dollar shopping around better deal\n",
      "Predicted CLEAN: negative\n",
      "TRUE SENTIMENT: negative\n"
     ]
    },
    {
     "name": "stderr",
     "output_type": "stream",
     "text": [
      " 56%|█████▌    | 555/1000 [16:24<13:02,  1.76s/it]"
     ]
    },
    {
     "name": "stdout",
     "output_type": "stream",
     "text": [
      "\n",
      "=== Sample 555/1000 ===\n",
      "RAW TEXT: Weetabix and Choco milk  Yum!\n",
      "Predicted RAW: positive\n",
      "CLEANED TEXT: weetabix choco milk yum\n",
      "Predicted CLEAN: positive\n",
      "TRUE SENTIMENT: positive\n"
     ]
    },
    {
     "name": "stderr",
     "output_type": "stream",
     "text": [
      " 56%|█████▌    | 556/1000 [16:26<13:00,  1.76s/it]"
     ]
    },
    {
     "name": "stdout",
     "output_type": "stream",
     "text": [
      "\n",
      "=== Sample 556/1000 ===\n",
      "RAW TEXT: I`m sad to have lost another person close to me to cancer\n",
      "Predicted RAW: negative\n",
      "CLEANED TEXT: im sad lost another person close cancer\n",
      "Predicted CLEAN: negative\n",
      "TRUE SENTIMENT: negative\n"
     ]
    },
    {
     "name": "stderr",
     "output_type": "stream",
     "text": [
      " 56%|█████▌    | 557/1000 [16:28<12:59,  1.76s/it]"
     ]
    },
    {
     "name": "stdout",
     "output_type": "stream",
     "text": [
      "\n",
      "=== Sample 557/1000 ===\n",
      "RAW TEXT: _Nutbar Good morning  how are you? #TwitterTakeover\n",
      "Predicted RAW: positive\n",
      "CLEANED TEXT: nutbar good morning twittertakeover\n",
      "Predicted CLEAN: positive\n",
      "TRUE SENTIMENT: positive\n"
     ]
    },
    {
     "name": "stderr",
     "output_type": "stream",
     "text": [
      " 56%|█████▌    | 558/1000 [16:30<13:09,  1.79s/it]"
     ]
    },
    {
     "name": "stdout",
     "output_type": "stream",
     "text": [
      "\n",
      "=== Sample 558/1000 ===\n",
      "RAW TEXT: _la ben`s dreams make me so saddddddd  i want them to be togetherrr. i swear if this **** gets me bawlinggg, so help me..\n",
      "Predicted RAW: negative\n",
      "CLEANED TEXT: la ben dream make saddddddd want togetherrr swear get bawlinggg help\n",
      "Predicted CLEAN: negative\n",
      "TRUE SENTIMENT: negative\n"
     ]
    },
    {
     "name": "stderr",
     "output_type": "stream",
     "text": [
      " 56%|█████▌    | 559/1000 [16:32<13:15,  1.80s/it]"
     ]
    },
    {
     "name": "stdout",
     "output_type": "stream",
     "text": [
      "\n",
      "=== Sample 559/1000 ===\n",
      "RAW TEXT: 30 year old Barbie dolls still can rock it...that girl was H-O-T!  and Ken ain`t so bad either!  now those are memories!\n",
      "Predicted RAW: positive\n",
      "CLEANED TEXT: 30 year old barbie doll still rock itthat girl hot ken aint bad either memory\n",
      "Predicted CLEAN: positive\n",
      "TRUE SENTIMENT: negative\n"
     ]
    },
    {
     "name": "stderr",
     "output_type": "stream",
     "text": [
      " 56%|█████▌    | 560/1000 [16:33<13:05,  1.79s/it]"
     ]
    },
    {
     "name": "stdout",
     "output_type": "stream",
     "text": [
      "\n",
      "=== Sample 560/1000 ===\n",
      "RAW TEXT: this weather makes my fingers numb / still waiting\n",
      "Predicted RAW: negative\n",
      "CLEANED TEXT: weather make finger numb still waiting\n",
      "Predicted CLEAN: negative\n",
      "TRUE SENTIMENT: negative\n"
     ]
    },
    {
     "name": "stderr",
     "output_type": "stream",
     "text": [
      " 56%|█████▌    | 561/1000 [16:35<13:02,  1.78s/it]"
     ]
    },
    {
     "name": "stdout",
     "output_type": "stream",
     "text": [
      "\n",
      "=== Sample 561/1000 ===\n",
      "RAW TEXT:  LOL yeah ima mama  thanks. happy mama`s day and lakers day! i love it!\n",
      "Predicted RAW: positive\n",
      "CLEANED TEXT: lol yeah ima mama thanks happy mama day lakers day love\n",
      "Predicted CLEAN: positive\n",
      "TRUE SENTIMENT: positive\n"
     ]
    },
    {
     "name": "stderr",
     "output_type": "stream",
     "text": [
      " 56%|█████▌    | 562/1000 [16:37<13:08,  1.80s/it]"
     ]
    },
    {
     "name": "stdout",
     "output_type": "stream",
     "text": [
      "\n",
      "=== Sample 562/1000 ===\n",
      "RAW TEXT: http://yfrog.com/0xoxij Fry bread is good but they only gave me a little pinch of lettuce  ha ha\n",
      "Predicted RAW: positive\n",
      "CLEANED TEXT: fry bread good gave little pinch lettuce ha ha\n",
      "Predicted CLEAN: positive\n",
      "TRUE SENTIMENT: positive\n"
     ]
    },
    {
     "name": "stderr",
     "output_type": "stream",
     "text": [
      " 56%|█████▋    | 563/1000 [16:39<12:58,  1.78s/it]"
     ]
    },
    {
     "name": "stdout",
     "output_type": "stream",
     "text": [
      "\n",
      "=== Sample 563/1000 ===\n",
      "RAW TEXT:  Its WoW! effect  Thanks for the update.\n",
      "Predicted RAW: positive\n",
      "CLEANED TEXT: wow effect thanks update\n",
      "Predicted CLEAN: positive\n",
      "TRUE SENTIMENT: positive\n"
     ]
    },
    {
     "name": "stderr",
     "output_type": "stream",
     "text": [
      " 56%|█████▋    | 564/1000 [16:40<12:53,  1.77s/it]"
     ]
    },
    {
     "name": "stdout",
     "output_type": "stream",
     "text": [
      "\n",
      "=== Sample 564/1000 ===\n",
      "RAW TEXT: got up at 8 today, and also misses his friend \n",
      "Predicted RAW: negative\n",
      "CLEANED TEXT: got 8 today also miss friend\n",
      "Predicted CLEAN: negative\n",
      "TRUE SENTIMENT: negative\n"
     ]
    },
    {
     "name": "stderr",
     "output_type": "stream",
     "text": [
      " 56%|█████▋    | 565/1000 [16:42<12:48,  1.77s/it]"
     ]
    },
    {
     "name": "stdout",
     "output_type": "stream",
     "text": [
      "\n",
      "=== Sample 565/1000 ===\n",
      "RAW TEXT: Gonna go to work with my honey today!!!! So exciting!!!\n",
      "Predicted RAW: positive\n",
      "CLEANED TEXT: gon na go work honey today exciting\n",
      "Predicted CLEAN: positive\n",
      "TRUE SENTIMENT: positive\n"
     ]
    },
    {
     "name": "stderr",
     "output_type": "stream",
     "text": [
      " 57%|█████▋    | 566/1000 [16:44<12:43,  1.76s/it]"
     ]
    },
    {
     "name": "stdout",
     "output_type": "stream",
     "text": [
      "\n",
      "=== Sample 566/1000 ===\n",
      "RAW TEXT: _ aww thats too bad you lost it though\n",
      "Predicted RAW: positive\n",
      "CLEANED TEXT: aww thats bad lost though\n",
      "Predicted CLEAN: negative\n",
      "TRUE SENTIMENT: negative\n"
     ]
    },
    {
     "name": "stderr",
     "output_type": "stream",
     "text": [
      " 57%|█████▋    | 567/1000 [16:46<12:50,  1.78s/it]"
     ]
    },
    {
     "name": "stdout",
     "output_type": "stream",
     "text": [
      "\n",
      "=== Sample 567/1000 ===\n",
      "RAW TEXT: I hate going online and looking at the balance in the bank.  its always a lot lower than I need it to be.\n",
      "Predicted RAW: negative\n",
      "CLEANED TEXT: hate going online looking balance bank always lot lower need\n",
      "Predicted CLEAN: negative\n",
      "TRUE SENTIMENT: negative\n"
     ]
    },
    {
     "name": "stderr",
     "output_type": "stream",
     "text": [
      " 57%|█████▋    | 568/1000 [16:48<12:42,  1.76s/it]"
     ]
    },
    {
     "name": "stdout",
     "output_type": "stream",
     "text": [
      "\n",
      "=== Sample 568/1000 ===\n",
      "RAW TEXT: _x How did your Geo ISU go? I swear I just had the worse day ever..\n",
      "Predicted RAW: negative\n",
      "CLEANED TEXT: x geo isu go swear worse day ever\n",
      "Predicted CLEAN: negative\n",
      "TRUE SENTIMENT: negative\n"
     ]
    },
    {
     "name": "stderr",
     "output_type": "stream",
     "text": [
      " 57%|█████▋    | 569/1000 [16:49<12:49,  1.79s/it]"
     ]
    },
    {
     "name": "stdout",
     "output_type": "stream",
     "text": [
      "\n",
      "=== Sample 569/1000 ===\n",
      "RAW TEXT: And you could have it all, my empire of dirt! I`m in a&e with dad I`m freezing fully shivering Every1 else is warm  no fones allowed ffs!\n",
      "Predicted RAW: negative\n",
      "CLEANED TEXT: could empire dirt im ae dad im freezing fully shivering every1 else warm fones allowed ffs\n",
      "Predicted CLEAN: negative\n",
      "TRUE SENTIMENT: negative\n"
     ]
    },
    {
     "name": "stderr",
     "output_type": "stream",
     "text": [
      " 57%|█████▋    | 570/1000 [16:51<12:44,  1.78s/it]"
     ]
    },
    {
     "name": "stdout",
     "output_type": "stream",
     "text": [
      "\n",
      "=== Sample 570/1000 ===\n",
      "RAW TEXT: Out for ultimate training. looking forward to the sunset!\n",
      "Predicted RAW: positive\n",
      "CLEANED TEXT: ultimate training looking forward sunset\n",
      "Predicted CLEAN: positive\n",
      "TRUE SENTIMENT: positive\n"
     ]
    },
    {
     "name": "stderr",
     "output_type": "stream",
     "text": [
      " 57%|█████▋    | 571/1000 [16:53<12:50,  1.79s/it]"
     ]
    },
    {
     "name": "stdout",
     "output_type": "stream",
     "text": [
      "\n",
      "=== Sample 571/1000 ===\n",
      "RAW TEXT: going to work once again. what a great few days off i had. now it`s over  but atleast i get 2 more commin up wahooooooo\n",
      "Predicted RAW: positive\n",
      "CLEANED TEXT: going work great day atleast get 2 commin wahooooooo\n",
      "Predicted CLEAN: positive\n",
      "TRUE SENTIMENT: positive\n"
     ]
    },
    {
     "name": "stderr",
     "output_type": "stream",
     "text": [
      " 57%|█████▋    | 572/1000 [16:55<12:57,  1.82s/it]"
     ]
    },
    {
     "name": "stdout",
     "output_type": "stream",
     "text": [
      "\n",
      "=== Sample 572/1000 ===\n",
      "RAW TEXT: 'you said 'darling what happened? did I fall asleep, and you carry me home? Cuz I know I wasn`t here'' Goodnight twitterererers\n",
      "Predicted RAW: negative\n",
      "CLEANED TEXT: said darling happened fall asleep carry home cuz know wasnt goodnight twitterererers\n",
      "Predicted CLEAN: negative\n",
      "TRUE SENTIMENT: positive\n"
     ]
    },
    {
     "name": "stderr",
     "output_type": "stream",
     "text": [
      " 57%|█████▋    | 573/1000 [16:57<12:47,  1.80s/it]"
     ]
    },
    {
     "name": "stdout",
     "output_type": "stream",
     "text": [
      "\n",
      "=== Sample 573/1000 ===\n",
      "RAW TEXT:  I broke my ipod\n",
      "Predicted RAW: negative\n",
      "CLEANED TEXT: broke ipod\n",
      "Predicted CLEAN: negative\n",
      "TRUE SENTIMENT: negative\n"
     ]
    },
    {
     "name": "stderr",
     "output_type": "stream",
     "text": [
      " 57%|█████▋    | 574/1000 [16:58<12:40,  1.78s/it]"
     ]
    },
    {
     "name": "stdout",
     "output_type": "stream",
     "text": [
      "\n",
      "=== Sample 574/1000 ===\n",
      "RAW TEXT: _banks 'Something must be wrong. Only found 17 July Harl/Sil books I wanted\n",
      "Predicted RAW: negative\n",
      "CLEANED TEXT: bank something must wrong found 17 july harlsil book wanted\n",
      "Predicted CLEAN: negative\n",
      "TRUE SENTIMENT: negative\n"
     ]
    },
    {
     "name": "stderr",
     "output_type": "stream",
     "text": [
      " 57%|█████▊    | 575/1000 [17:00<12:33,  1.77s/it]"
     ]
    },
    {
     "name": "stdout",
     "output_type": "stream",
     "text": [
      "\n",
      "=== Sample 575/1000 ===\n",
      "RAW TEXT:  Haha and you should! State pride is important\n",
      "Predicted RAW: positive\n",
      "CLEANED TEXT: haha state pride important\n",
      "Predicted CLEAN: positive\n",
      "TRUE SENTIMENT: positive\n"
     ]
    },
    {
     "name": "stderr",
     "output_type": "stream",
     "text": [
      " 58%|█████▊    | 576/1000 [17:02<12:28,  1.77s/it]"
     ]
    },
    {
     "name": "stdout",
     "output_type": "stream",
     "text": [
      "\n",
      "=== Sample 576/1000 ===\n",
      "RAW TEXT:  Ugh, did you just say your friend might have swine flu? OMG, why?\n",
      "Predicted RAW: negative\n",
      "CLEANED TEXT: ugh say friend might swine flu omg\n",
      "Predicted CLEAN: negative\n",
      "TRUE SENTIMENT: negative\n"
     ]
    },
    {
     "name": "stderr",
     "output_type": "stream",
     "text": [
      " 58%|█████▊    | 577/1000 [17:04<12:25,  1.76s/it]"
     ]
    },
    {
     "name": "stdout",
     "output_type": "stream",
     "text": [
      "\n",
      "=== Sample 577/1000 ===\n",
      "RAW TEXT:  haha no problem, it`s fun isn`****\n",
      "Predicted RAW: positive\n",
      "CLEANED TEXT: haha problem fun\n",
      "Predicted CLEAN: positive\n",
      "TRUE SENTIMENT: positive\n"
     ]
    },
    {
     "name": "stderr",
     "output_type": "stream",
     "text": [
      " 58%|█████▊    | 578/1000 [17:05<12:26,  1.77s/it]"
     ]
    },
    {
     "name": "stdout",
     "output_type": "stream",
     "text": [
      "\n",
      "=== Sample 578/1000 ===\n",
      "RAW TEXT: Finally got to wash my hair! I feel much better now, but I gotta dry it ... Effffffort.\n",
      "Predicted RAW: positive\n",
      "CLEANED TEXT: finally got wash hair feel much better got ta dry effffffort\n",
      "Predicted CLEAN: positive\n",
      "TRUE SENTIMENT: positive\n"
     ]
    },
    {
     "name": "stderr",
     "output_type": "stream",
     "text": [
      " 58%|█████▊    | 579/1000 [17:07<12:33,  1.79s/it]"
     ]
    },
    {
     "name": "stdout",
     "output_type": "stream",
     "text": [
      "\n",
      "=== Sample 579/1000 ===\n",
      "RAW TEXT: finally feel back into swing of things here at work after getting married last week! sigh of relief for no more wedding planning!\n",
      "Predicted RAW: positive\n",
      "CLEANED TEXT: finally feel back swing thing work getting married last week sigh relief wedding planning\n",
      "Predicted CLEAN: positive\n",
      "TRUE SENTIMENT: positive\n"
     ]
    },
    {
     "name": "stderr",
     "output_type": "stream",
     "text": [
      " 58%|█████▊    | 580/1000 [17:09<12:26,  1.78s/it]"
     ]
    },
    {
     "name": "stdout",
     "output_type": "stream",
     "text": [
      "\n",
      "=== Sample 580/1000 ===\n",
      "RAW TEXT:  that sucks  booo.\n",
      "Predicted RAW: negative\n",
      "CLEANED TEXT: suck booo\n",
      "Predicted CLEAN: negative\n",
      "TRUE SENTIMENT: negative\n"
     ]
    },
    {
     "name": "stderr",
     "output_type": "stream",
     "text": [
      " 58%|█████▊    | 581/1000 [17:11<12:20,  1.77s/it]"
     ]
    },
    {
     "name": "stdout",
     "output_type": "stream",
     "text": [
      "\n",
      "=== Sample 581/1000 ===\n",
      "RAW TEXT: looks like we`re rained out for weekend climbing\n",
      "Predicted RAW: negative\n",
      "CLEANED TEXT: look like rained weekend climbing\n",
      "Predicted CLEAN: negative\n",
      "TRUE SENTIMENT: negative\n"
     ]
    },
    {
     "name": "stderr",
     "output_type": "stream",
     "text": [
      " 58%|█████▊    | 582/1000 [17:12<12:15,  1.76s/it]"
     ]
    },
    {
     "name": "stdout",
     "output_type": "stream",
     "text": [
      "\n",
      "=== Sample 582/1000 ===\n",
      "RAW TEXT:  oh ****!!\n",
      "Predicted RAW: negative\n",
      "CLEANED TEXT: oh\n",
      "Predicted CLEAN: positive\n",
      "TRUE SENTIMENT: negative\n"
     ]
    },
    {
     "name": "stderr",
     "output_type": "stream",
     "text": [
      " 58%|█████▊    | 583/1000 [17:14<12:23,  1.78s/it]"
     ]
    },
    {
     "name": "stdout",
     "output_type": "stream",
     "text": [
      "\n",
      "=== Sample 583/1000 ===\n",
      "RAW TEXT:  i dont really trust the judgements and vouches of _xo   jk. i`ll think about becoming a friend of yours\n",
      "Predicted RAW: positive\n",
      "CLEANED TEXT: dont really trust judgement vouches xo jk ill think becoming friend\n",
      "Predicted CLEAN: positive\n",
      "TRUE SENTIMENT: negative\n"
     ]
    },
    {
     "name": "stderr",
     "output_type": "stream",
     "text": [
      " 58%|█████▊    | 584/1000 [17:16<12:18,  1.77s/it]"
     ]
    },
    {
     "name": "stdout",
     "output_type": "stream",
     "text": [
      "\n",
      "=== Sample 584/1000 ===\n",
      "RAW TEXT:  Jesus heals\n",
      "Predicted RAW: positive\n",
      "CLEANED TEXT: jesus heals\n",
      "Predicted CLEAN: positive\n",
      "TRUE SENTIMENT: positive\n"
     ]
    },
    {
     "name": "stderr",
     "output_type": "stream",
     "text": [
      " 58%|█████▊    | 585/1000 [17:18<12:14,  1.77s/it]"
     ]
    },
    {
     "name": "stdout",
     "output_type": "stream",
     "text": [
      "\n",
      "=== Sample 585/1000 ===\n",
      "RAW TEXT:  Your birthday? WELL Happy birthday\n",
      "Predicted RAW: positive\n",
      "CLEANED TEXT: birthday well happy birthday\n",
      "Predicted CLEAN: positive\n",
      "TRUE SENTIMENT: positive\n"
     ]
    },
    {
     "name": "stderr",
     "output_type": "stream",
     "text": [
      " 59%|█████▊    | 586/1000 [17:20<12:21,  1.79s/it]"
     ]
    },
    {
     "name": "stdout",
     "output_type": "stream",
     "text": [
      "\n",
      "=== Sample 586/1000 ===\n",
      "RAW TEXT:  did you tweet me? i thought i remembered seeing one but i cant see it now! SO glad teatree is ok!\n",
      "Predicted RAW: positive\n",
      "CLEANED TEXT: tweet thought remembered seeing one cant see glad teatree ok\n",
      "Predicted CLEAN: negative\n",
      "TRUE SENTIMENT: positive\n"
     ]
    },
    {
     "name": "stderr",
     "output_type": "stream",
     "text": [
      " 59%|█████▊    | 587/1000 [17:21<12:16,  1.78s/it]"
     ]
    },
    {
     "name": "stdout",
     "output_type": "stream",
     "text": [
      "\n",
      "=== Sample 587/1000 ===\n",
      "RAW TEXT:  Happy birthday in 2 hours and 54 minuets  Haha\n",
      "Predicted RAW: positive\n",
      "CLEANED TEXT: happy birthday 2 hour 54 minuet haha\n",
      "Predicted CLEAN: positive\n",
      "TRUE SENTIMENT: positive\n"
     ]
    },
    {
     "name": "stderr",
     "output_type": "stream",
     "text": [
      " 59%|█████▉    | 588/1000 [17:23<12:20,  1.80s/it]"
     ]
    },
    {
     "name": "stdout",
     "output_type": "stream",
     "text": [
      "\n",
      "=== Sample 588/1000 ===\n",
      "RAW TEXT: Glad to see it`s a typical Bank Holiday weather wise - I was going to do so much today - yeah right!\n",
      "Predicted RAW: negative\n",
      "CLEANED TEXT: glad see typical bank holiday weather wise going much today yeah right\n",
      "Predicted CLEAN: positive\n",
      "TRUE SENTIMENT: positive\n"
     ]
    },
    {
     "name": "stderr",
     "output_type": "stream",
     "text": [
      " 59%|█████▉    | 589/1000 [17:25<12:16,  1.79s/it]"
     ]
    },
    {
     "name": "stdout",
     "output_type": "stream",
     "text": [
      "\n",
      "=== Sample 589/1000 ===\n",
      "RAW TEXT:  Hayley Williams is pretty much amazzing\n",
      "Predicted RAW: positive\n",
      "CLEANED TEXT: hayley williams pretty much amazzing\n",
      "Predicted CLEAN: positive\n",
      "TRUE SENTIMENT: positive\n"
     ]
    },
    {
     "name": "stderr",
     "output_type": "stream",
     "text": [
      " 59%|█████▉    | 590/1000 [17:27<12:08,  1.78s/it]"
     ]
    },
    {
     "name": "stdout",
     "output_type": "stream",
     "text": [
      "\n",
      "=== Sample 590/1000 ===\n",
      "RAW TEXT:  not really having a good night... missing my little girl...\n",
      "Predicted RAW: negative\n",
      "CLEANED TEXT: really good night missing little girl\n",
      "Predicted CLEAN: positive\n",
      "TRUE SENTIMENT: negative\n"
     ]
    },
    {
     "name": "stderr",
     "output_type": "stream",
     "text": [
      " 59%|█████▉    | 591/1000 [17:29<12:05,  1.77s/it]"
     ]
    },
    {
     "name": "stdout",
     "output_type": "stream",
     "text": [
      "\n",
      "=== Sample 591/1000 ===\n",
      "RAW TEXT:   miss you captain\n",
      "Predicted RAW: positive\n",
      "CLEANED TEXT: miss captain\n",
      "Predicted CLEAN: positive\n",
      "TRUE SENTIMENT: negative\n"
     ]
    },
    {
     "name": "stderr",
     "output_type": "stream",
     "text": [
      " 59%|█████▉    | 592/1000 [17:30<12:00,  1.77s/it]"
     ]
    },
    {
     "name": "stdout",
     "output_type": "stream",
     "text": [
      "\n",
      "=== Sample 592/1000 ===\n",
      "RAW TEXT:  OI, are you mocking the fact I dont cry at tv things?!  *Feels bad*xxx\n",
      "Predicted RAW: negative\n",
      "CLEANED TEXT: oi mocking fact dont cry tv thing feel badxxx\n",
      "Predicted CLEAN: negative\n",
      "TRUE SENTIMENT: negative\n"
     ]
    },
    {
     "name": "stderr",
     "output_type": "stream",
     "text": [
      " 59%|█████▉    | 593/1000 [17:32<11:57,  1.76s/it]"
     ]
    },
    {
     "name": "stdout",
     "output_type": "stream",
     "text": [
      "\n",
      "=== Sample 593/1000 ===\n",
      "RAW TEXT: is excited!  http://plurk.com/p/stk04\n",
      "Predicted RAW: positive\n",
      "CLEANED TEXT: excited\n",
      "Predicted CLEAN: positive\n",
      "TRUE SENTIMENT: positive\n"
     ]
    },
    {
     "name": "stderr",
     "output_type": "stream",
     "text": [
      " 59%|█████▉    | 594/1000 [17:34<11:54,  1.76s/it]"
     ]
    },
    {
     "name": "stdout",
     "output_type": "stream",
     "text": [
      "\n",
      "=== Sample 594/1000 ===\n",
      "RAW TEXT:  hmmm really??? that`s weird idk about that one  sowwy\n",
      "Predicted RAW: negative\n",
      "CLEANED TEXT: hmmm really thats weird idk one sowwy\n",
      "Predicted CLEAN: negative\n",
      "TRUE SENTIMENT: negative\n"
     ]
    },
    {
     "name": "stderr",
     "output_type": "stream",
     "text": [
      " 60%|█████▉    | 595/1000 [17:36<11:51,  1.76s/it]"
     ]
    },
    {
     "name": "stdout",
     "output_type": "stream",
     "text": [
      "\n",
      "=== Sample 595/1000 ===\n",
      "RAW TEXT:  oh that looks boring  and even more boring you have an exam on a saturday\n",
      "Predicted RAW: negative\n",
      "CLEANED TEXT: oh look boring even boring exam saturday\n",
      "Predicted CLEAN: negative\n",
      "TRUE SENTIMENT: negative\n"
     ]
    },
    {
     "name": "stderr",
     "output_type": "stream",
     "text": [
      " 60%|█████▉    | 596/1000 [17:37<11:59,  1.78s/it]"
     ]
    },
    {
     "name": "stdout",
     "output_type": "stream",
     "text": [
      "\n",
      "=== Sample 596/1000 ===\n",
      "RAW TEXT:  Thanks though - am trying to be positive!!  Wine may not be helping lol!!  Wish I could make the gigs.....\n",
      "Predicted RAW: positive\n",
      "CLEANED TEXT: thanks though trying positive wine may helping lol wish could make gig\n",
      "Predicted CLEAN: positive\n",
      "TRUE SENTIMENT: positive\n"
     ]
    },
    {
     "name": "stderr",
     "output_type": "stream",
     "text": [
      " 60%|█████▉    | 597/1000 [17:39<11:53,  1.77s/it]"
     ]
    },
    {
     "name": "stdout",
     "output_type": "stream",
     "text": [
      "\n",
      "=== Sample 597/1000 ===\n",
      "RAW TEXT:  i think my niece got me sickee  lame.\n",
      "Predicted RAW: negative\n",
      "CLEANED TEXT: think niece got sickee lame\n",
      "Predicted CLEAN: negative\n",
      "TRUE SENTIMENT: negative\n"
     ]
    },
    {
     "name": "stderr",
     "output_type": "stream",
     "text": [
      " 60%|█████▉    | 598/1000 [17:41<11:47,  1.76s/it]"
     ]
    },
    {
     "name": "stdout",
     "output_type": "stream",
     "text": [
      "\n",
      "=== Sample 598/1000 ===\n",
      "RAW TEXT: Rise and shine  Time to get prettifide.\n",
      "Predicted RAW: positive\n",
      "CLEANED TEXT: rise shine time get prettifide\n",
      "Predicted CLEAN: positive\n",
      "TRUE SENTIMENT: positive\n"
     ]
    },
    {
     "name": "stderr",
     "output_type": "stream",
     "text": [
      " 60%|█████▉    | 599/1000 [17:43<11:45,  1.76s/it]"
     ]
    },
    {
     "name": "stdout",
     "output_type": "stream",
     "text": [
      "\n",
      "=== Sample 599/1000 ===\n",
      "RAW TEXT:  I tried sooooo hard to work from home today, but failed  Not my fault though.\n",
      "Predicted RAW: negative\n",
      "CLEANED TEXT: tried sooooo hard work home today failed fault though\n",
      "Predicted CLEAN: negative\n",
      "TRUE SENTIMENT: negative\n"
     ]
    },
    {
     "name": "stderr",
     "output_type": "stream",
     "text": [
      " 60%|██████    | 600/1000 [17:44<11:43,  1.76s/it]"
     ]
    },
    {
     "name": "stdout",
     "output_type": "stream",
     "text": [
      "\n",
      "=== Sample 600/1000 ===\n",
      "RAW TEXT:  Gosh I`ve a stinky old headache. Maybe I should have lunchfast\n",
      "Predicted RAW: negative\n",
      "CLEANED TEXT: gosh ive stinky old headache maybe lunchfast\n",
      "Predicted CLEAN: negative\n",
      "TRUE SENTIMENT: negative\n"
     ]
    },
    {
     "name": "stderr",
     "output_type": "stream",
     "text": [
      " 60%|██████    | 601/1000 [17:46<11:42,  1.76s/it]"
     ]
    },
    {
     "name": "stdout",
     "output_type": "stream",
     "text": [
      "\n",
      "=== Sample 601/1000 ===\n",
      "RAW TEXT: I love my life  Ni night twitter!<3\n",
      "Predicted RAW: positive\n",
      "CLEANED TEXT: love life ni night twitter3\n",
      "Predicted CLEAN: positive\n",
      "TRUE SENTIMENT: positive\n"
     ]
    },
    {
     "name": "stderr",
     "output_type": "stream",
     "text": [
      " 60%|██████    | 602/1000 [17:48<11:38,  1.75s/it]"
     ]
    },
    {
     "name": "stdout",
     "output_type": "stream",
     "text": [
      "\n",
      "=== Sample 602/1000 ===\n",
      "RAW TEXT: Succesfully following Tayla!!\n",
      "Predicted RAW: positive\n",
      "CLEANED TEXT: succesfully following tayla\n",
      "Predicted CLEAN: positive\n",
      "TRUE SENTIMENT: positive\n"
     ]
    },
    {
     "name": "stderr",
     "output_type": "stream",
     "text": [
      " 60%|██████    | 603/1000 [17:50<11:46,  1.78s/it]"
     ]
    },
    {
     "name": "stdout",
     "output_type": "stream",
     "text": [
      "\n",
      "=== Sample 603/1000 ===\n",
      "RAW TEXT:  Have fun tomorrow night. I think it will be more fun at a bar than art gallery. Wish I could be there\n",
      "Predicted RAW: positive\n",
      "CLEANED TEXT: fun tomorrow night think fun bar art gallery wish could\n",
      "Predicted CLEAN: positive\n",
      "TRUE SENTIMENT: positive\n"
     ]
    },
    {
     "name": "stderr",
     "output_type": "stream",
     "text": [
      " 60%|██████    | 604/1000 [17:51<11:42,  1.77s/it]"
     ]
    },
    {
     "name": "stdout",
     "output_type": "stream",
     "text": [
      "\n",
      "=== Sample 604/1000 ===\n",
      "RAW TEXT: trying to learn to tweet!!  it`s all good I hope..\n",
      "Predicted RAW: positive\n",
      "CLEANED TEXT: trying learn tweet good hope\n",
      "Predicted CLEAN: positive\n",
      "TRUE SENTIMENT: positive\n"
     ]
    },
    {
     "name": "stderr",
     "output_type": "stream",
     "text": [
      " 60%|██████    | 605/1000 [17:53<11:49,  1.80s/it]"
     ]
    },
    {
     "name": "stdout",
     "output_type": "stream",
     "text": [
      "\n",
      "=== Sample 605/1000 ===\n",
      "RAW TEXT: Bleargh. I can never clean as much of my house as I want to before work, no matter how early I wake up. Today: sink, laundry.\n",
      "Predicted RAW: negative\n",
      "CLEANED TEXT: bleargh never clean much house want work matter early wake today sink laundry\n",
      "Predicted CLEAN: negative\n",
      "TRUE SENTIMENT: negative\n"
     ]
    },
    {
     "name": "stderr",
     "output_type": "stream",
     "text": [
      " 61%|██████    | 606/1000 [17:55<11:44,  1.79s/it]"
     ]
    },
    {
     "name": "stdout",
     "output_type": "stream",
     "text": [
      "\n",
      "=== Sample 606/1000 ===\n",
      "RAW TEXT: Great, social network sites are still growing\n",
      "Predicted RAW: positive\n",
      "CLEANED TEXT: great social network site still growing\n",
      "Predicted CLEAN: positive\n",
      "TRUE SENTIMENT: positive\n"
     ]
    },
    {
     "name": "stderr",
     "output_type": "stream",
     "text": [
      " 61%|██████    | 607/1000 [17:57<11:41,  1.79s/it]"
     ]
    },
    {
     "name": "stdout",
     "output_type": "stream",
     "text": [
      "\n",
      "=== Sample 607/1000 ===\n",
      "RAW TEXT:  So...I was half asleep when I wrote the previous message. Greatest friends !!haha  You are!!\n",
      "Predicted RAW: positive\n",
      "CLEANED TEXT: soi half asleep wrote previous message greatest friend haha\n",
      "Predicted CLEAN: positive\n",
      "TRUE SENTIMENT: positive\n"
     ]
    },
    {
     "name": "stderr",
     "output_type": "stream",
     "text": [
      " 61%|██████    | 608/1000 [17:59<11:36,  1.78s/it]"
     ]
    },
    {
     "name": "stdout",
     "output_type": "stream",
     "text": [
      "\n",
      "=== Sample 608/1000 ===\n",
      "RAW TEXT: some of my new followers are pretty cool tweeps; check `em out.\n",
      "Predicted RAW: positive\n",
      "CLEANED TEXT: new follower pretty cool tweeps check em\n",
      "Predicted CLEAN: positive\n",
      "TRUE SENTIMENT: positive\n"
     ]
    },
    {
     "name": "stderr",
     "output_type": "stream",
     "text": [
      " 61%|██████    | 609/1000 [18:00<11:31,  1.77s/it]"
     ]
    },
    {
     "name": "stdout",
     "output_type": "stream",
     "text": [
      "\n",
      "=== Sample 609/1000 ===\n",
      "RAW TEXT: no work today! went shopping, and now relaxing  &learning for the toefl\n",
      "Predicted RAW: positive\n",
      "CLEANED TEXT: work today went shopping relaxing learning toefl\n",
      "Predicted CLEAN: positive\n",
      "TRUE SENTIMENT: positive\n"
     ]
    },
    {
     "name": "stderr",
     "output_type": "stream",
     "text": [
      " 61%|██████    | 610/1000 [18:02<11:37,  1.79s/it]"
     ]
    },
    {
     "name": "stdout",
     "output_type": "stream",
     "text": [
      "\n",
      "=== Sample 610/1000 ===\n",
      "RAW TEXT:  yay asap lol awwh I miss our friday night happy hours even luna del sea and the 'boy' hahahaha\n",
      "Predicted RAW: positive\n",
      "CLEANED TEXT: yay asap lol awwh miss friday night happy hour even luna del sea boy hahahaha\n",
      "Predicted CLEAN: positive\n",
      "TRUE SENTIMENT: negative\n"
     ]
    },
    {
     "name": "stderr",
     "output_type": "stream",
     "text": [
      " 61%|██████    | 611/1000 [18:04<11:31,  1.78s/it]"
     ]
    },
    {
     "name": "stdout",
     "output_type": "stream",
     "text": [
      "\n",
      "=== Sample 611/1000 ===\n",
      "RAW TEXT:  Cowboy westerns...haven`t seen those in a while. good luck\n",
      "Predicted RAW: positive\n",
      "CLEANED TEXT: cowboy westernshavent seen good luck\n",
      "Predicted CLEAN: negative\n",
      "TRUE SENTIMENT: positive\n"
     ]
    },
    {
     "name": "stderr",
     "output_type": "stream",
     "text": [
      " 61%|██████    | 612/1000 [18:06<11:25,  1.77s/it]"
     ]
    },
    {
     "name": "stdout",
     "output_type": "stream",
     "text": [
      "\n",
      "=== Sample 612/1000 ===\n",
      "RAW TEXT:  It`s already over? ****!\n",
      "Predicted RAW: negative\n",
      "CLEANED TEXT: already\n",
      "Predicted CLEAN: positive\n",
      "TRUE SENTIMENT: negative\n"
     ]
    },
    {
     "name": "stderr",
     "output_type": "stream",
     "text": [
      " 61%|██████▏   | 613/1000 [18:07<11:22,  1.76s/it]"
     ]
    },
    {
     "name": "stdout",
     "output_type": "stream",
     "text": [
      "\n",
      "=== Sample 613/1000 ===\n",
      "RAW TEXT: My dad knows i got drunk today. And i didnt get in trouble.\n",
      "Predicted RAW: positive\n",
      "CLEANED TEXT: dad know got drunk today didnt get trouble\n",
      "Predicted CLEAN: negative\n",
      "TRUE SENTIMENT: positive\n"
     ]
    },
    {
     "name": "stderr",
     "output_type": "stream",
     "text": [
      " 61%|██████▏   | 614/1000 [18:09<11:18,  1.76s/it]"
     ]
    },
    {
     "name": "stdout",
     "output_type": "stream",
     "text": [
      "\n",
      "=== Sample 614/1000 ===\n",
      "RAW TEXT:  Lol - I could try!  Seriously tho, dont do all of it! That sucks! ****\n",
      "Predicted RAW: negative\n",
      "CLEANED TEXT: lol could try seriously tho dont suck\n",
      "Predicted CLEAN: positive\n",
      "TRUE SENTIMENT: negative\n"
     ]
    },
    {
     "name": "stderr",
     "output_type": "stream",
     "text": [
      " 62%|██████▏   | 615/1000 [18:11<11:16,  1.76s/it]"
     ]
    },
    {
     "name": "stdout",
     "output_type": "stream",
     "text": [
      "\n",
      "=== Sample 615/1000 ===\n",
      "RAW TEXT:  **** i wanna see the rest!! i only saw like 30 minutes\n",
      "Predicted RAW: positive\n",
      "CLEANED TEXT: wan na see rest saw like 30 minute\n",
      "Predicted CLEAN: negative\n",
      "TRUE SENTIMENT: negative\n"
     ]
    },
    {
     "name": "stderr",
     "output_type": "stream",
     "text": [
      " 62%|██████▏   | 616/1000 [18:13<11:12,  1.75s/it]"
     ]
    },
    {
     "name": "stdout",
     "output_type": "stream",
     "text": [
      "\n",
      "=== Sample 616/1000 ===\n",
      "RAW TEXT: Happy mothers day mom!!!  i love you.\n",
      "Predicted RAW: positive\n",
      "CLEANED TEXT: happy mother day mom love\n",
      "Predicted CLEAN: positive\n",
      "TRUE SENTIMENT: positive\n"
     ]
    },
    {
     "name": "stderr",
     "output_type": "stream",
     "text": [
      " 62%|██████▏   | 617/1000 [18:14<11:09,  1.75s/it]"
     ]
    },
    {
     "name": "stdout",
     "output_type": "stream",
     "text": [
      "\n",
      "=== Sample 617/1000 ===\n",
      "RAW TEXT: burning cd`s,,,,,,,,, **** outa blank disc`s\n",
      "Predicted RAW: negative\n",
      "CLEANED TEXT: burning cd outa blank disc\n",
      "Predicted CLEAN: negative\n",
      "TRUE SENTIMENT: positive\n"
     ]
    },
    {
     "name": "stderr",
     "output_type": "stream",
     "text": [
      " 62%|██████▏   | 618/1000 [18:16<11:10,  1.75s/it]"
     ]
    },
    {
     "name": "stdout",
     "output_type": "stream",
     "text": [
      "\n",
      "=== Sample 618/1000 ===\n",
      "RAW TEXT:  new album is truly genius, so happy with it\n",
      "Predicted RAW: positive\n",
      "CLEANED TEXT: new album truly genius happy\n",
      "Predicted CLEAN: positive\n",
      "TRUE SENTIMENT: positive\n"
     ]
    },
    {
     "name": "stderr",
     "output_type": "stream",
     "text": [
      " 62%|██████▏   | 619/1000 [18:18<11:08,  1.76s/it]"
     ]
    },
    {
     "name": "stdout",
     "output_type": "stream",
     "text": [
      "\n",
      "=== Sample 619/1000 ===\n",
      "RAW TEXT:  you`re alive!!!!!!  Go w/ The Notebook...it`ll make you cry and stuff\n",
      "Predicted RAW: positive\n",
      "CLEANED TEXT: youre alive go w notebookitll make cry stuff\n",
      "Predicted CLEAN: positive\n",
      "TRUE SENTIMENT: negative\n"
     ]
    },
    {
     "name": "stderr",
     "output_type": "stream",
     "text": [
      " 62%|██████▏   | 620/1000 [18:20<11:16,  1.78s/it]"
     ]
    },
    {
     "name": "stdout",
     "output_type": "stream",
     "text": [
      "\n",
      "=== Sample 620/1000 ===\n",
      "RAW TEXT:  Okaii Cool!  I Can`t Wait For The Series To Begin It`s Guna Be Awesome  x\n",
      "Predicted RAW: positive\n",
      "CLEANED TEXT: okaii cool cant wait series begin guna awesome x\n",
      "Predicted CLEAN: positive\n",
      "TRUE SENTIMENT: positive\n"
     ]
    },
    {
     "name": "stderr",
     "output_type": "stream",
     "text": [
      " 62%|██████▏   | 621/1000 [18:22<11:11,  1.77s/it]"
     ]
    },
    {
     "name": "stdout",
     "output_type": "stream",
     "text": [
      "\n",
      "=== Sample 621/1000 ===\n",
      "RAW TEXT: crying to A Walk To Remember as usual\n",
      "Predicted RAW: positive\n",
      "CLEANED TEXT: cry walk remember usual\n",
      "Predicted CLEAN: negative\n",
      "TRUE SENTIMENT: negative\n"
     ]
    },
    {
     "name": "stderr",
     "output_type": "stream",
     "text": [
      " 62%|██████▏   | 622/1000 [18:23<11:17,  1.79s/it]"
     ]
    },
    {
     "name": "stdout",
     "output_type": "stream",
     "text": [
      "\n",
      "=== Sample 622/1000 ===\n",
      "RAW TEXT: happy star wars day everyone  off to celebrate with the family... ok we`re not celebrating it but i am going round to the famo`s...\n",
      "Predicted RAW: positive\n",
      "CLEANED TEXT: happy star war day everyone celebrate family ok celebrating going round famos\n",
      "Predicted CLEAN: positive\n",
      "TRUE SENTIMENT: positive\n"
     ]
    },
    {
     "name": "stderr",
     "output_type": "stream",
     "text": [
      " 62%|██████▏   | 623/1000 [18:25<11:21,  1.81s/it]"
     ]
    },
    {
     "name": "stdout",
     "output_type": "stream",
     "text": [
      "\n",
      "=== Sample 623/1000 ===\n",
      "RAW TEXT: I also have a certain CD from camp that a certain somebody gave me...  Yeah, there`s this guy in the video that`s really frickin hot!\n",
      "Predicted RAW: positive\n",
      "CLEANED TEXT: also certain cd camp certain somebody gave yeah there guy video thats really frickin hot\n",
      "Predicted CLEAN: positive\n",
      "TRUE SENTIMENT: positive\n"
     ]
    },
    {
     "name": "stderr",
     "output_type": "stream",
     "text": [
      " 62%|██████▏   | 624/1000 [18:27<11:12,  1.79s/it]"
     ]
    },
    {
     "name": "stdout",
     "output_type": "stream",
     "text": [
      "\n",
      "=== Sample 624/1000 ===\n",
      "RAW TEXT: we finally hit 1,000 friends! thanks!\n",
      "Predicted RAW: positive\n",
      "CLEANED TEXT: finally hit 1000 friend thanks\n",
      "Predicted CLEAN: positive\n",
      "TRUE SENTIMENT: positive\n"
     ]
    },
    {
     "name": "stderr",
     "output_type": "stream",
     "text": [
      " 62%|██████▎   | 625/1000 [18:29<11:05,  1.77s/it]"
     ]
    },
    {
     "name": "stdout",
     "output_type": "stream",
     "text": [
      "\n",
      "=== Sample 625/1000 ===\n",
      "RAW TEXT: I`m at work....bored out of my mind.\n",
      "Predicted RAW: negative\n",
      "CLEANED TEXT: im workbored mind\n",
      "Predicted CLEAN: negative\n",
      "TRUE SENTIMENT: negative\n"
     ]
    },
    {
     "name": "stderr",
     "output_type": "stream",
     "text": [
      " 63%|██████▎   | 626/1000 [18:31<11:09,  1.79s/it]"
     ]
    },
    {
     "name": "stdout",
     "output_type": "stream",
     "text": [
      "\n",
      "=== Sample 626/1000 ===\n",
      "RAW TEXT:  http://twitpic.com/4l85a - best kind of gum ever! I just bought a pack\n",
      "Predicted RAW: positive\n",
      "CLEANED TEXT: best kind gum ever bought pack\n",
      "Predicted CLEAN: positive\n",
      "TRUE SENTIMENT: positive\n"
     ]
    },
    {
     "name": "stderr",
     "output_type": "stream",
     "text": [
      " 63%|██████▎   | 627/1000 [18:32<11:02,  1.78s/it]"
     ]
    },
    {
     "name": "stdout",
     "output_type": "stream",
     "text": [
      "\n",
      "=== Sample 627/1000 ===\n",
      "RAW TEXT: The Heater blew up\n",
      "Predicted RAW: negative\n",
      "CLEANED TEXT: heater blew\n",
      "Predicted CLEAN: negative\n",
      "TRUE SENTIMENT: negative\n"
     ]
    },
    {
     "name": "stderr",
     "output_type": "stream",
     "text": [
      " 63%|██████▎   | 628/1000 [18:34<10:59,  1.77s/it]"
     ]
    },
    {
     "name": "stdout",
     "output_type": "stream",
     "text": [
      "\n",
      "=== Sample 628/1000 ===\n",
      "RAW TEXT:  i tried. and failed\n",
      "Predicted RAW: negative\n",
      "CLEANED TEXT: tried failed\n",
      "Predicted CLEAN: negative\n",
      "TRUE SENTIMENT: negative\n"
     ]
    },
    {
     "name": "stderr",
     "output_type": "stream",
     "text": [
      " 63%|██████▎   | 629/1000 [18:36<10:55,  1.77s/it]"
     ]
    },
    {
     "name": "stdout",
     "output_type": "stream",
     "text": [
      "\n",
      "=== Sample 629/1000 ===\n",
      "RAW TEXT:   just finished mine, some parts were remarkably difficult  cramming kanji now!\n",
      "Predicted RAW: positive\n",
      "CLEANED TEXT: finished mine part remarkably difficult cramming kanji\n",
      "Predicted CLEAN: negative\n",
      "TRUE SENTIMENT: negative\n"
     ]
    },
    {
     "name": "stderr",
     "output_type": "stream",
     "text": [
      " 63%|██████▎   | 630/1000 [18:38<10:51,  1.76s/it]"
     ]
    },
    {
     "name": "stdout",
     "output_type": "stream",
     "text": [
      "\n",
      "=== Sample 630/1000 ===\n",
      "RAW TEXT: why is everyones tweets about britains got talent?! i feel left out\n",
      "Predicted RAW: negative\n",
      "CLEANED TEXT: everyones tweet britain got talent feel left\n",
      "Predicted CLEAN: negative\n",
      "TRUE SENTIMENT: negative\n"
     ]
    },
    {
     "name": "stderr",
     "output_type": "stream",
     "text": [
      " 63%|██████▎   | 631/1000 [18:39<10:48,  1.76s/it]"
     ]
    },
    {
     "name": "stdout",
     "output_type": "stream",
     "text": [
      "\n",
      "=== Sample 631/1000 ===\n",
      "RAW TEXT: yay mothers day  i love mi madre\n",
      "Predicted RAW: positive\n",
      "CLEANED TEXT: yay mother day love mi madre\n",
      "Predicted CLEAN: positive\n",
      "TRUE SENTIMENT: positive\n"
     ]
    },
    {
     "name": "stderr",
     "output_type": "stream",
     "text": [
      " 63%|██████▎   | 632/1000 [18:41<10:46,  1.76s/it]"
     ]
    },
    {
     "name": "stdout",
     "output_type": "stream",
     "text": [
      "\n",
      "=== Sample 632/1000 ===\n",
      "RAW TEXT: They wouldn`t reverse any of my overdraft fees.\n",
      "Predicted RAW: negative\n",
      "CLEANED TEXT: wouldnt reverse overdraft fee\n",
      "Predicted CLEAN: negative\n",
      "TRUE SENTIMENT: negative\n"
     ]
    },
    {
     "name": "stderr",
     "output_type": "stream",
     "text": [
      " 63%|██████▎   | 633/1000 [18:43<10:43,  1.75s/it]"
     ]
    },
    {
     "name": "stdout",
     "output_type": "stream",
     "text": [
      "\n",
      "=== Sample 633/1000 ===\n",
      "RAW TEXT: _N9ne I`m not having a good day\n",
      "Predicted RAW: negative\n",
      "CLEANED TEXT: n9ne im good day\n",
      "Predicted CLEAN: positive\n",
      "TRUE SENTIMENT: negative\n"
     ]
    },
    {
     "name": "stderr",
     "output_type": "stream",
     "text": [
      " 63%|██████▎   | 634/1000 [18:45<10:42,  1.76s/it]"
     ]
    },
    {
     "name": "stdout",
     "output_type": "stream",
     "text": [
      "\n",
      "=== Sample 634/1000 ===\n",
      "RAW TEXT: i miss the Soulja Boy dance...\n",
      "Predicted RAW: negative\n",
      "CLEANED TEXT: miss soulja boy dance\n",
      "Predicted CLEAN: positive\n",
      "TRUE SENTIMENT: negative\n"
     ]
    },
    {
     "name": "stderr",
     "output_type": "stream",
     "text": [
      " 64%|██████▎   | 635/1000 [18:46<10:51,  1.78s/it]"
     ]
    },
    {
     "name": "stdout",
     "output_type": "stream",
     "text": [
      "\n",
      "=== Sample 635/1000 ===\n",
      "RAW TEXT: I woke up an came to the realization that I can put it off as much as I want, but I need 2 drop some friends. Dammit!\n",
      "Predicted RAW: negative\n",
      "CLEANED TEXT: woke came realization put much want need 2 drop friend dammit\n",
      "Predicted CLEAN: negative\n",
      "TRUE SENTIMENT: negative\n"
     ]
    },
    {
     "name": "stderr",
     "output_type": "stream",
     "text": [
      " 64%|██████▎   | 636/1000 [18:48<10:46,  1.78s/it]"
     ]
    },
    {
     "name": "stdout",
     "output_type": "stream",
     "text": [
      "\n",
      "=== Sample 636/1000 ===\n",
      "RAW TEXT: 11 Days left until freedom. I really just want to get through this weekend. I hate essays.\n",
      "Predicted RAW: negative\n",
      "CLEANED TEXT: 11 day left freedom really want get weekend hate essay\n",
      "Predicted CLEAN: negative\n",
      "TRUE SENTIMENT: negative\n"
     ]
    },
    {
     "name": "stderr",
     "output_type": "stream",
     "text": [
      " 64%|██████▎   | 637/1000 [18:50<10:40,  1.77s/it]"
     ]
    },
    {
     "name": "stdout",
     "output_type": "stream",
     "text": [
      "\n",
      "=== Sample 637/1000 ===\n",
      "RAW TEXT:   lol you guys are awesome\n",
      "Predicted RAW: positive\n",
      "CLEANED TEXT: lol guy awesome\n",
      "Predicted CLEAN: positive\n",
      "TRUE SENTIMENT: positive\n"
     ]
    },
    {
     "name": "stderr",
     "output_type": "stream",
     "text": [
      " 64%|██████▍   | 638/1000 [18:52<10:38,  1.76s/it]"
     ]
    },
    {
     "name": "stdout",
     "output_type": "stream",
     "text": [
      "\n",
      "=== Sample 638/1000 ===\n",
      "RAW TEXT: Home, good night world\n",
      "Predicted RAW: positive\n",
      "CLEANED TEXT: home good night world\n",
      "Predicted CLEAN: positive\n",
      "TRUE SENTIMENT: positive\n"
     ]
    },
    {
     "name": "stderr",
     "output_type": "stream",
     "text": [
      " 64%|██████▍   | 639/1000 [18:53<10:34,  1.76s/it]"
     ]
    },
    {
     "name": "stdout",
     "output_type": "stream",
     "text": [
      "\n",
      "=== Sample 639/1000 ===\n",
      "RAW TEXT:  http://twitpic.com/4vtlm - awww, she is really cute\n",
      "Predicted RAW: positive\n",
      "CLEANED TEXT: really cute\n",
      "Predicted CLEAN: positive\n",
      "TRUE SENTIMENT: positive\n"
     ]
    },
    {
     "name": "stderr",
     "output_type": "stream",
     "text": [
      " 64%|██████▍   | 640/1000 [18:55<10:43,  1.79s/it]"
     ]
    },
    {
     "name": "stdout",
     "output_type": "stream",
     "text": [
      "\n",
      "=== Sample 640/1000 ===\n",
      "RAW TEXT: got alot of runnin around to do today to get this job app completed so they can have it on file... so glad i got this job!!\n",
      "Predicted RAW: positive\n",
      "CLEANED TEXT: got alot runnin around today get job app completed file glad got job\n",
      "Predicted CLEAN: positive\n",
      "TRUE SENTIMENT: positive\n"
     ]
    },
    {
     "name": "stderr",
     "output_type": "stream",
     "text": [
      " 64%|██████▍   | 641/1000 [18:57<10:47,  1.81s/it]"
     ]
    },
    {
     "name": "stdout",
     "output_type": "stream",
     "text": [
      "\n",
      "=== Sample 641/1000 ===\n",
      "RAW TEXT: lappy charger is completely dead... conserving what`s left of the battery until i can afford to buy a new one\n",
      "Predicted RAW: negative\n",
      "CLEANED TEXT: lappy charger completely dead conserving whats left battery afford buy new one\n",
      "Predicted CLEAN: negative\n",
      "TRUE SENTIMENT: negative\n"
     ]
    },
    {
     "name": "stderr",
     "output_type": "stream",
     "text": [
      " 64%|██████▍   | 642/1000 [18:59<10:50,  1.82s/it]"
     ]
    },
    {
     "name": "stdout",
     "output_type": "stream",
     "text": [
      "\n",
      "=== Sample 642/1000 ===\n",
      "RAW TEXT: Happy Mother`s Day all of the mom`s around the world!  I love mine more than anything in the world and can`t wait to celebrate! WOO!\n",
      "Predicted RAW: positive\n",
      "CLEANED TEXT: happy mother day mom around world love mine anything world cant wait celebrate woo\n",
      "Predicted CLEAN: positive\n",
      "TRUE SENTIMENT: positive\n"
     ]
    },
    {
     "name": "stderr",
     "output_type": "stream",
     "text": [
      " 64%|██████▍   | 643/1000 [19:01<10:41,  1.80s/it]"
     ]
    },
    {
     "name": "stdout",
     "output_type": "stream",
     "text": [
      "\n",
      "=== Sample 643/1000 ===\n",
      "RAW TEXT: I put a real pic of myself up. I`m going to miss the avatar.\n",
      "Predicted RAW: positive\n",
      "CLEANED TEXT: put real pic im going miss avatar\n",
      "Predicted CLEAN: negative\n",
      "TRUE SENTIMENT: negative\n"
     ]
    },
    {
     "name": "stderr",
     "output_type": "stream",
     "text": [
      " 64%|██████▍   | 644/1000 [19:02<10:31,  1.78s/it]"
     ]
    },
    {
     "name": "stdout",
     "output_type": "stream",
     "text": [
      "\n",
      "=== Sample 644/1000 ===\n",
      "RAW TEXT: doing my folio work but keep on getting distracted by deb pics\n",
      "Predicted RAW: negative\n",
      "CLEANED TEXT: folio work keep getting distracted deb pic\n",
      "Predicted CLEAN: negative\n",
      "TRUE SENTIMENT: negative\n"
     ]
    },
    {
     "name": "stderr",
     "output_type": "stream",
     "text": [
      " 64%|██████▍   | 645/1000 [19:04<10:38,  1.80s/it]"
     ]
    },
    {
     "name": "stdout",
     "output_type": "stream",
     "text": [
      "\n",
      "=== Sample 645/1000 ===\n",
      "RAW TEXT: I can`t sleep. I can`t find my grandmother`s quilt or locket. I`m sick at myself cause I may have lost them somehow. Or they were stolen\n",
      "Predicted RAW: negative\n",
      "CLEANED TEXT: cant sleep cant find grandmother quilt locket im sick cause may lost somehow stolen\n",
      "Predicted CLEAN: negative\n",
      "TRUE SENTIMENT: negative\n"
     ]
    },
    {
     "name": "stderr",
     "output_type": "stream",
     "text": [
      " 65%|██████▍   | 646/1000 [19:06<10:32,  1.79s/it]"
     ]
    },
    {
     "name": "stdout",
     "output_type": "stream",
     "text": [
      "\n",
      "=== Sample 646/1000 ===\n",
      "RAW TEXT: Had to take my bad **** dog to the pet hotel....so sad\n",
      "Predicted RAW: negative\n",
      "CLEANED TEXT: take bad dog pet hotelso sad\n",
      "Predicted CLEAN: negative\n",
      "TRUE SENTIMENT: negative\n"
     ]
    },
    {
     "name": "stderr",
     "output_type": "stream",
     "text": [
      " 65%|██████▍   | 647/1000 [19:08<10:26,  1.78s/it]"
     ]
    },
    {
     "name": "stdout",
     "output_type": "stream",
     "text": [
      "\n",
      "=== Sample 647/1000 ===\n",
      "RAW TEXT: Wow, its hot and miserable. People are probably killing themselves right about now...\n",
      "Predicted RAW: negative\n",
      "CLEANED TEXT: wow hot miserable people probably killing right\n",
      "Predicted CLEAN: negative\n",
      "TRUE SENTIMENT: negative\n"
     ]
    },
    {
     "name": "stderr",
     "output_type": "stream",
     "text": [
      " 65%|██████▍   | 648/1000 [19:10<10:22,  1.77s/it]"
     ]
    },
    {
     "name": "stdout",
     "output_type": "stream",
     "text": [
      "\n",
      "=== Sample 648/1000 ===\n",
      "RAW TEXT:  Thanks mama ! I absolutely adore her\n",
      "Predicted RAW: positive\n",
      "CLEANED TEXT: thanks mama absolutely adore\n",
      "Predicted CLEAN: positive\n",
      "TRUE SENTIMENT: positive\n"
     ]
    },
    {
     "name": "stderr",
     "output_type": "stream",
     "text": [
      " 65%|██████▍   | 649/1000 [19:11<10:19,  1.77s/it]"
     ]
    },
    {
     "name": "stdout",
     "output_type": "stream",
     "text": [
      "\n",
      "=== Sample 649/1000 ===\n",
      "RAW TEXT:  i would but he`s premiering avatar footage and can`t do it then. also, we better hang out.\n",
      "Predicted RAW: positive\n",
      "CLEANED TEXT: would he premiering avatar footage cant also better hang\n",
      "Predicted CLEAN: negative\n",
      "TRUE SENTIMENT: positive\n"
     ]
    },
    {
     "name": "stderr",
     "output_type": "stream",
     "text": [
      " 65%|██████▌   | 650/1000 [19:13<10:16,  1.76s/it]"
     ]
    },
    {
     "name": "stdout",
     "output_type": "stream",
     "text": [
      "\n",
      "=== Sample 650/1000 ===\n",
      "RAW TEXT: Home from Chelsea`s  Jam sessions = <3 = Chelsea + Abby = I luh you.\n",
      "Predicted RAW: positive\n",
      "CLEANED TEXT: home chelseas jam session 3 chelsea abby luh\n",
      "Predicted CLEAN: positive\n",
      "TRUE SENTIMENT: positive\n"
     ]
    },
    {
     "name": "stderr",
     "output_type": "stream",
     "text": [
      " 65%|██████▌   | 651/1000 [19:15<10:23,  1.79s/it]"
     ]
    },
    {
     "name": "stdout",
     "output_type": "stream",
     "text": [
      "\n",
      "=== Sample 651/1000 ===\n",
      "RAW TEXT: we`ll be visiting my grandparents later. BTW i just heard katy perry`s HOOK UP whew so cool i love it more than k.clarkson`s version\n",
      "Predicted RAW: positive\n",
      "CLEANED TEXT: well visiting grandparent later btw heard katy perry hook whew cool love kclarksons version\n",
      "Predicted CLEAN: positive\n",
      "TRUE SENTIMENT: positive\n"
     ]
    },
    {
     "name": "stderr",
     "output_type": "stream",
     "text": [
      " 65%|██████▌   | 652/1000 [19:17<10:26,  1.80s/it]"
     ]
    },
    {
     "name": "stdout",
     "output_type": "stream",
     "text": [
      "\n",
      "=== Sample 652/1000 ===\n",
      "RAW TEXT:   very sweet!!! HAHA. I am like super proud to be a new mom!!! I feel like, i got the PERFECT daughter. And i am a GREAT mom!!!\n",
      "Predicted RAW: positive\n",
      "CLEANED TEXT: sweet haha like super proud new mom feel like got perfect daughter great mom\n",
      "Predicted CLEAN: positive\n",
      "TRUE SENTIMENT: positive\n"
     ]
    },
    {
     "name": "stderr",
     "output_type": "stream",
     "text": [
      " 65%|██████▌   | 653/1000 [19:19<10:28,  1.81s/it]"
     ]
    },
    {
     "name": "stdout",
     "output_type": "stream",
     "text": [
      "\n",
      "=== Sample 653/1000 ===\n",
      "RAW TEXT: gosh im bored. its early..n i wanna go..to sleeeepp why am i at work?  *kay<3*\n",
      "Predicted RAW: negative\n",
      "CLEANED TEXT: gosh im bored earlyn wan na goto sleeeepp work kay3\n",
      "Predicted CLEAN: negative\n",
      "TRUE SENTIMENT: negative\n"
     ]
    },
    {
     "name": "stderr",
     "output_type": "stream",
     "text": [
      " 65%|██████▌   | 654/1000 [19:20<10:29,  1.82s/it]"
     ]
    },
    {
     "name": "stdout",
     "output_type": "stream",
     "text": [
      "\n",
      "=== Sample 654/1000 ===\n",
      "RAW TEXT:  I hate cottage cheese.  I even got some fancy stuff last weekend with lemon and berries...I could only eat half of it.\n",
      "Predicted RAW: negative\n",
      "CLEANED TEXT: hate cottage cheese even got fancy stuff last weekend lemon berriesi could eat half\n",
      "Predicted CLEAN: negative\n",
      "TRUE SENTIMENT: negative\n"
     ]
    },
    {
     "name": "stderr",
     "output_type": "stream",
     "text": [
      " 66%|██████▌   | 655/1000 [19:22<10:30,  1.83s/it]"
     ]
    },
    {
     "name": "stdout",
     "output_type": "stream",
     "text": [
      "\n",
      "=== Sample 655/1000 ===\n",
      "RAW TEXT:  you should come to Estonia, I know some epic horses here, hehe, and a good trainer and good beaches were to ride!\n",
      "Predicted RAW: positive\n",
      "CLEANED TEXT: come estonia know epic horse hehe good trainer good beach ride\n",
      "Predicted CLEAN: positive\n",
      "TRUE SENTIMENT: positive\n"
     ]
    },
    {
     "name": "stderr",
     "output_type": "stream",
     "text": [
      " 66%|██████▌   | 656/1000 [19:24<10:21,  1.81s/it]"
     ]
    },
    {
     "name": "stdout",
     "output_type": "stream",
     "text": [
      "\n",
      "=== Sample 656/1000 ===\n",
      "RAW TEXT: _jonas101 WOW they`re totally amazing and they`re more than awesome\n",
      "Predicted RAW: positive\n",
      "CLEANED TEXT: jonas101 wow theyre totally amazing theyre awesome\n",
      "Predicted CLEAN: positive\n",
      "TRUE SENTIMENT: positive\n"
     ]
    },
    {
     "name": "stderr",
     "output_type": "stream",
     "text": [
      " 66%|██████▌   | 657/1000 [19:26<10:14,  1.79s/it]"
     ]
    },
    {
     "name": "stdout",
     "output_type": "stream",
     "text": [
      "\n",
      "=== Sample 657/1000 ===\n",
      "RAW TEXT: Just got laid off  stupid economy!\n",
      "Predicted RAW: negative\n",
      "CLEANED TEXT: got laid stupid economy\n",
      "Predicted CLEAN: negative\n",
      "TRUE SENTIMENT: negative\n"
     ]
    },
    {
     "name": "stderr",
     "output_type": "stream",
     "text": [
      " 66%|██████▌   | 658/1000 [19:28<10:08,  1.78s/it]"
     ]
    },
    {
     "name": "stdout",
     "output_type": "stream",
     "text": [
      "\n",
      "=== Sample 658/1000 ===\n",
      "RAW TEXT: http://twitpic.com/67i90 - My plans have been ruined\n",
      "Predicted RAW: negative\n",
      "CLEANED TEXT: plan ruined\n",
      "Predicted CLEAN: negative\n",
      "TRUE SENTIMENT: negative\n"
     ]
    },
    {
     "name": "stderr",
     "output_type": "stream",
     "text": [
      " 66%|██████▌   | 659/1000 [19:29<10:12,  1.80s/it]"
     ]
    },
    {
     "name": "stdout",
     "output_type": "stream",
     "text": [
      "\n",
      "=== Sample 659/1000 ===\n",
      "RAW TEXT: nothing better than to have your Grandaughter smile and nothing feels better than that big hug!! Grandkids, what a hoot!\n",
      "Predicted RAW: positive\n",
      "CLEANED TEXT: nothing better grandaughter smile nothing feel better big hug grandkids hoot\n",
      "Predicted CLEAN: positive\n",
      "TRUE SENTIMENT: positive\n"
     ]
    },
    {
     "name": "stderr",
     "output_type": "stream",
     "text": [
      " 66%|██████▌   | 660/1000 [19:31<10:03,  1.77s/it]"
     ]
    },
    {
     "name": "stdout",
     "output_type": "stream",
     "text": [
      "\n",
      "=== Sample 660/1000 ===\n",
      "RAW TEXT:  oh I know. and I aprreciate it  it can be my back up plan\n",
      "Predicted RAW: positive\n",
      "CLEANED TEXT: oh know aprreciate back plan\n",
      "Predicted CLEAN: negative\n",
      "TRUE SENTIMENT: positive\n"
     ]
    },
    {
     "name": "stderr",
     "output_type": "stream",
     "text": [
      " 66%|██████▌   | 661/1000 [19:33<09:57,  1.76s/it]"
     ]
    },
    {
     "name": "stdout",
     "output_type": "stream",
     "text": [
      "\n",
      "=== Sample 661/1000 ===\n",
      "RAW TEXT:  Yes, I would love some more cowbell!\n",
      "Predicted RAW: positive\n",
      "CLEANED TEXT: yes would love cowbell\n",
      "Predicted CLEAN: positive\n",
      "TRUE SENTIMENT: positive\n"
     ]
    },
    {
     "name": "stderr",
     "output_type": "stream",
     "text": [
      " 66%|██████▌   | 662/1000 [19:35<09:54,  1.76s/it]"
     ]
    },
    {
     "name": "stdout",
     "output_type": "stream",
     "text": [
      "\n",
      "=== Sample 662/1000 ===\n",
      "RAW TEXT: Trying to get to sleep but mum is blaring Les Mis really loudly in the sitting room\n",
      "Predicted RAW: negative\n",
      "CLEANED TEXT: trying get sleep mum blaring le mi really loudly sitting room\n",
      "Predicted CLEAN: negative\n",
      "TRUE SENTIMENT: negative\n"
     ]
    },
    {
     "name": "stderr",
     "output_type": "stream",
     "text": [
      " 66%|██████▋   | 663/1000 [19:36<10:01,  1.78s/it]"
     ]
    },
    {
     "name": "stdout",
     "output_type": "stream",
     "text": [
      "\n",
      "=== Sample 663/1000 ===\n",
      "RAW TEXT: Don`t think I`m gonna be able to go to see the JB 3D Concert...wrong time, no where very close by\n",
      "Predicted RAW: negative\n",
      "CLEANED TEXT: dont think im gon na able go see jb 3d concertwrong time close\n",
      "Predicted CLEAN: negative\n",
      "TRUE SENTIMENT: negative\n"
     ]
    },
    {
     "name": "stderr",
     "output_type": "stream",
     "text": [
      " 66%|██████▋   | 664/1000 [19:38<10:04,  1.80s/it]"
     ]
    },
    {
     "name": "stdout",
     "output_type": "stream",
     "text": [
      "\n",
      "=== Sample 664/1000 ===\n",
      "RAW TEXT: I`m a sad panda, hulu doesn`t have the elephant show   no Skinnamarinkydinkydink sing alongs for me.\n",
      "Predicted RAW: negative\n",
      "CLEANED TEXT: im sad panda hulu doesnt elephant show skinnamarinkydinkydink sing alongs\n",
      "Predicted CLEAN: negative\n",
      "TRUE SENTIMENT: negative\n"
     ]
    },
    {
     "name": "stderr",
     "output_type": "stream",
     "text": [
      " 66%|██████▋   | 665/1000 [19:40<09:57,  1.78s/it]"
     ]
    },
    {
     "name": "stdout",
     "output_type": "stream",
     "text": [
      "\n",
      "=== Sample 665/1000 ===\n",
      "RAW TEXT: I`m gonna cry    I went bad at my History test ! I really hate History  !\n",
      "Predicted RAW: negative\n",
      "CLEANED TEXT: im gon na cry went bad history test really hate history\n",
      "Predicted CLEAN: negative\n",
      "TRUE SENTIMENT: negative\n"
     ]
    },
    {
     "name": "stderr",
     "output_type": "stream",
     "text": [
      " 67%|██████▋   | 666/1000 [19:42<09:50,  1.77s/it]"
     ]
    },
    {
     "name": "stdout",
     "output_type": "stream",
     "text": [
      "\n",
      "=== Sample 666/1000 ===\n",
      "RAW TEXT: _ Truetrue  But he`s not! xD\n",
      "Predicted RAW: positive\n",
      "CLEANED TEXT: truetrue he xd\n",
      "Predicted CLEAN: positive\n",
      "TRUE SENTIMENT: positive\n"
     ]
    },
    {
     "name": "stderr",
     "output_type": "stream",
     "text": [
      " 67%|██████▋   | 667/1000 [19:43<09:45,  1.76s/it]"
     ]
    },
    {
     "name": "stdout",
     "output_type": "stream",
     "text": [
      "\n",
      "=== Sample 667/1000 ===\n",
      "RAW TEXT: Sad I missed  going away party due to too much work, but I really am gonna miss that kid\n",
      "Predicted RAW: negative\n",
      "CLEANED TEXT: sad missed going away party due much work really gon na miss kid\n",
      "Predicted CLEAN: negative\n",
      "TRUE SENTIMENT: negative\n"
     ]
    },
    {
     "name": "stderr",
     "output_type": "stream",
     "text": [
      " 67%|██████▋   | 668/1000 [19:45<09:44,  1.76s/it]"
     ]
    },
    {
     "name": "stdout",
     "output_type": "stream",
     "text": [
      "\n",
      "=== Sample 668/1000 ===\n",
      "RAW TEXT: One of the most random phone calls ever. My god kill me now.\n",
      "Predicted RAW: negative\n",
      "CLEANED TEXT: one random phone call ever god kill\n",
      "Predicted CLEAN: negative\n",
      "TRUE SENTIMENT: negative\n"
     ]
    },
    {
     "name": "stderr",
     "output_type": "stream",
     "text": [
      " 67%|██████▋   | 669/1000 [19:47<09:50,  1.78s/it]"
     ]
    },
    {
     "name": "stdout",
     "output_type": "stream",
     "text": [
      "\n",
      "=== Sample 669/1000 ===\n",
      "RAW TEXT: & more #<3criminy cuteness! http://tinyurl.com/cd8yab #sinfest\n",
      "Predicted RAW: positive\n",
      "CLEANED TEXT: 3criminy cuteness sinfest\n",
      "Predicted CLEAN: positive\n",
      "TRUE SENTIMENT: positive\n"
     ]
    },
    {
     "name": "stderr",
     "output_type": "stream",
     "text": [
      " 67%|██████▋   | 670/1000 [19:49<09:54,  1.80s/it]"
     ]
    },
    {
     "name": "stdout",
     "output_type": "stream",
     "text": [
      "\n",
      "=== Sample 670/1000 ===\n",
      "RAW TEXT: the neighborhood gas station is gone, kaput, out of business. No more convenient trips for ice or whatevs. over 3 miles now to travel..\n",
      "Predicted RAW: negative\n",
      "CLEANED TEXT: neighborhood gas station gone kaput business convenient trip ice whatevs 3 mile travel\n",
      "Predicted CLEAN: negative\n",
      "TRUE SENTIMENT: negative\n"
     ]
    },
    {
     "name": "stderr",
     "output_type": "stream",
     "text": [
      " 67%|██████▋   | 671/1000 [19:51<09:57,  1.81s/it]"
     ]
    },
    {
     "name": "stdout",
     "output_type": "stream",
     "text": [
      "\n",
      "=== Sample 671/1000 ===\n",
      "RAW TEXT: tomorrow`s mother`s day  me n my sis gonna make an onigiri for our mom~!! its gonna be so kewl!! cant wait for tomorrow >_<\n",
      "Predicted RAW: positive\n",
      "CLEANED TEXT: tomorrow mother day n si gon na make onigiri mom gon na kewl cant wait tomorrow\n",
      "Predicted CLEAN: positive\n",
      "TRUE SENTIMENT: positive\n"
     ]
    },
    {
     "name": "stderr",
     "output_type": "stream",
     "text": [
      " 67%|██████▋   | 672/1000 [19:53<09:48,  1.79s/it]"
     ]
    },
    {
     "name": "stdout",
     "output_type": "stream",
     "text": [
      "\n",
      "=== Sample 672/1000 ===\n",
      "RAW TEXT: it makes me sad when people phones are sick\n",
      "Predicted RAW: negative\n",
      "CLEANED TEXT: make sad people phone sick\n",
      "Predicted CLEAN: negative\n",
      "TRUE SENTIMENT: negative\n"
     ]
    },
    {
     "name": "stderr",
     "output_type": "stream",
     "text": [
      " 67%|██████▋   | 673/1000 [19:54<09:44,  1.79s/it]"
     ]
    },
    {
     "name": "stdout",
     "output_type": "stream",
     "text": [
      "\n",
      "=== Sample 673/1000 ===\n",
      "RAW TEXT: taking care of sick children\n",
      "Predicted RAW: negative\n",
      "CLEANED TEXT: taking care sick child\n",
      "Predicted CLEAN: negative\n",
      "TRUE SENTIMENT: positive\n"
     ]
    },
    {
     "name": "stderr",
     "output_type": "stream",
     "text": [
      " 67%|██████▋   | 674/1000 [19:56<09:38,  1.78s/it]"
     ]
    },
    {
     "name": "stdout",
     "output_type": "stream",
     "text": [
      "\n",
      "=== Sample 674/1000 ===\n",
      "RAW TEXT:  welcome to my life\n",
      "Predicted RAW: negative\n",
      "CLEANED TEXT: welcome life\n",
      "Predicted CLEAN: positive\n",
      "TRUE SENTIMENT: positive\n"
     ]
    },
    {
     "name": "stderr",
     "output_type": "stream",
     "text": [
      " 68%|██████▊   | 675/1000 [19:58<09:44,  1.80s/it]"
     ]
    },
    {
     "name": "stdout",
     "output_type": "stream",
     "text": [
      "\n",
      "=== Sample 675/1000 ===\n",
      "RAW TEXT:  Same here - events + writing songs. But I just finished my TMNT vs MMPR song, so I`m excited to record that on Wednesday\n",
      "Predicted RAW: positive\n",
      "CLEANED TEXT: event writing song finished tmnt v mmpr song im excited record wednesday\n",
      "Predicted CLEAN: positive\n",
      "TRUE SENTIMENT: positive\n"
     ]
    },
    {
     "name": "stderr",
     "output_type": "stream",
     "text": [
      " 68%|██████▊   | 676/1000 [20:00<09:37,  1.78s/it]"
     ]
    },
    {
     "name": "stdout",
     "output_type": "stream",
     "text": [
      "\n",
      "=== Sample 676/1000 ===\n",
      "RAW TEXT:  oh sweet! I`ll definitely check it out when I get the chance...\n",
      "Predicted RAW: positive\n",
      "CLEANED TEXT: oh sweet ill definitely check get chance\n",
      "Predicted CLEAN: positive\n",
      "TRUE SENTIMENT: positive\n"
     ]
    },
    {
     "name": "stderr",
     "output_type": "stream",
     "text": [
      " 68%|██████▊   | 677/1000 [20:01<09:32,  1.77s/it]"
     ]
    },
    {
     "name": "stdout",
     "output_type": "stream",
     "text": [
      "\n",
      "=== Sample 677/1000 ===\n",
      "RAW TEXT:  Youuuu`re an aaass  my aaass loooool\n",
      "Predicted RAW: negative\n",
      "CLEANED TEXT: youuuure aaass aaass loooool\n",
      "Predicted CLEAN: negative\n",
      "TRUE SENTIMENT: negative\n"
     ]
    },
    {
     "name": "stderr",
     "output_type": "stream",
     "text": [
      " 68%|██████▊   | 678/1000 [20:03<09:26,  1.76s/it]"
     ]
    },
    {
     "name": "stdout",
     "output_type": "stream",
     "text": [
      "\n",
      "=== Sample 678/1000 ===\n",
      "RAW TEXT: I want to ride my bicycle today, but it`s too cold and cloudy today\n",
      "Predicted RAW: negative\n",
      "CLEANED TEXT: want ride bicycle today cold cloudy today\n",
      "Predicted CLEAN: positive\n",
      "TRUE SENTIMENT: negative\n"
     ]
    },
    {
     "name": "stderr",
     "output_type": "stream",
     "text": [
      " 68%|██████▊   | 679/1000 [20:05<09:24,  1.76s/it]"
     ]
    },
    {
     "name": "stdout",
     "output_type": "stream",
     "text": [
      "\n",
      "=== Sample 679/1000 ===\n",
      "RAW TEXT:  Thank you! One day at a time, right?\n",
      "Predicted RAW: positive\n",
      "CLEANED TEXT: thank one day time right\n",
      "Predicted CLEAN: positive\n",
      "TRUE SENTIMENT: positive\n"
     ]
    },
    {
     "name": "stderr",
     "output_type": "stream",
     "text": [
      " 68%|██████▊   | 680/1000 [20:07<09:23,  1.76s/it]"
     ]
    },
    {
     "name": "stdout",
     "output_type": "stream",
     "text": [
      "\n",
      "=== Sample 680/1000 ===\n",
      "RAW TEXT:  I missed mine, too. Not fun...\n",
      "Predicted RAW: negative\n",
      "CLEANED TEXT: missed mine fun\n",
      "Predicted CLEAN: negative\n",
      "TRUE SENTIMENT: negative\n"
     ]
    },
    {
     "name": "stderr",
     "output_type": "stream",
     "text": [
      " 68%|██████▊   | 681/1000 [20:08<09:21,  1.76s/it]"
     ]
    },
    {
     "name": "stdout",
     "output_type": "stream",
     "text": [
      "\n",
      "=== Sample 681/1000 ===\n",
      "RAW TEXT: _e thanks for following me. Nice to meet you\n",
      "Predicted RAW: positive\n",
      "CLEANED TEXT: e thanks following nice meet\n",
      "Predicted CLEAN: positive\n",
      "TRUE SENTIMENT: positive\n"
     ]
    },
    {
     "name": "stderr",
     "output_type": "stream",
     "text": [
      " 68%|██████▊   | 682/1000 [20:10<09:18,  1.76s/it]"
     ]
    },
    {
     "name": "stdout",
     "output_type": "stream",
     "text": [
      "\n",
      "=== Sample 682/1000 ===\n",
      "RAW TEXT: Danny cut his beautiful curls\n",
      "Predicted RAW: positive\n",
      "CLEANED TEXT: danny cut beautiful curl\n",
      "Predicted CLEAN: positive\n",
      "TRUE SENTIMENT: negative\n"
     ]
    },
    {
     "name": "stderr",
     "output_type": "stream",
     "text": [
      " 68%|██████▊   | 683/1000 [20:12<09:15,  1.75s/it]"
     ]
    },
    {
     "name": "stdout",
     "output_type": "stream",
     "text": [
      "\n",
      "=== Sample 683/1000 ===\n",
      "RAW TEXT: God is so good!!\n",
      "Predicted RAW: positive\n",
      "CLEANED TEXT: god good\n",
      "Predicted CLEAN: positive\n",
      "TRUE SENTIMENT: positive\n"
     ]
    },
    {
     "name": "stderr",
     "output_type": "stream",
     "text": [
      " 68%|██████▊   | 684/1000 [20:14<09:13,  1.75s/it]"
     ]
    },
    {
     "name": "stdout",
     "output_type": "stream",
     "text": [
      "\n",
      "=== Sample 684/1000 ===\n",
      "RAW TEXT: forcing myself to watch the movie 1984 for my book report  im lazy to read\n",
      "Predicted RAW: negative\n",
      "CLEANED TEXT: forcing watch movie 1984 book report im lazy read\n",
      "Predicted CLEAN: negative\n",
      "TRUE SENTIMENT: negative\n"
     ]
    },
    {
     "name": "stderr",
     "output_type": "stream",
     "text": [
      " 68%|██████▊   | 685/1000 [20:15<09:11,  1.75s/it]"
     ]
    },
    {
     "name": "stdout",
     "output_type": "stream",
     "text": [
      "\n",
      "=== Sample 685/1000 ===\n",
      "RAW TEXT:  thanks amy, its full of hotness\n",
      "Predicted RAW: positive\n",
      "CLEANED TEXT: thanks amy full hotness\n",
      "Predicted CLEAN: positive\n",
      "TRUE SENTIMENT: positive\n"
     ]
    },
    {
     "name": "stderr",
     "output_type": "stream",
     "text": [
      " 69%|██████▊   | 686/1000 [20:17<09:17,  1.78s/it]"
     ]
    },
    {
     "name": "stdout",
     "output_type": "stream",
     "text": [
      "\n",
      "=== Sample 686/1000 ===\n",
      "RAW TEXT:  don`t think i can take a needle. watched a horribly gory short film on drugs a few months ago. i`m scarred for life.\n",
      "Predicted RAW: negative\n",
      "CLEANED TEXT: dont think take needle watched horribly gory short film drug month ago im scarred life\n",
      "Predicted CLEAN: negative\n",
      "TRUE SENTIMENT: negative\n"
     ]
    },
    {
     "name": "stderr",
     "output_type": "stream",
     "text": [
      " 69%|██████▊   | 687/1000 [20:19<09:12,  1.77s/it]"
     ]
    },
    {
     "name": "stdout",
     "output_type": "stream",
     "text": [
      "\n",
      "=== Sample 687/1000 ===\n",
      "RAW TEXT: can`t be arsed to get out of bed  hello sunshine\n",
      "Predicted RAW: negative\n",
      "CLEANED TEXT: cant arsed get bed hello sunshine\n",
      "Predicted CLEAN: positive\n",
      "TRUE SENTIMENT: negative\n"
     ]
    },
    {
     "name": "stderr",
     "output_type": "stream",
     "text": [
      " 69%|██████▉   | 688/1000 [20:21<09:11,  1.77s/it]"
     ]
    },
    {
     "name": "stdout",
     "output_type": "stream",
     "text": [
      "\n",
      "=== Sample 688/1000 ===\n",
      "RAW TEXT: Every pair of jeans I own nowadays is very tight.  I think mah butt gettin big (oh!)\n",
      "Predicted RAW: negative\n",
      "CLEANED TEXT: every pair jean nowadays tight think mah butt gettin big oh\n",
      "Predicted CLEAN: negative\n",
      "TRUE SENTIMENT: negative\n"
     ]
    },
    {
     "name": "stderr",
     "output_type": "stream",
     "text": [
      " 69%|██████▉   | 689/1000 [20:23<09:16,  1.79s/it]"
     ]
    },
    {
     "name": "stdout",
     "output_type": "stream",
     "text": [
      "\n",
      "=== Sample 689/1000 ===\n",
      "RAW TEXT:  Cheese and Onion! Vinegar taste weird on crisps! England`s got loads of weird crisps flavorus  lol.. What do you like ? x\n",
      "Predicted RAW: positive\n",
      "CLEANED TEXT: cheese onion vinegar taste weird crisp england got load weird crisp flavorus lol like x\n",
      "Predicted CLEAN: negative\n",
      "TRUE SENTIMENT: negative\n"
     ]
    },
    {
     "name": "stderr",
     "output_type": "stream",
     "text": [
      " 69%|██████▉   | 690/1000 [20:24<09:12,  1.78s/it]"
     ]
    },
    {
     "name": "stdout",
     "output_type": "stream",
     "text": [
      "\n",
      "=== Sample 690/1000 ===\n",
      "RAW TEXT:  Thank yooou! I might have to get it seen to... hm...  ****\n",
      "Predicted RAW: negative\n",
      "CLEANED TEXT: thank yooou might get seen hm\n",
      "Predicted CLEAN: positive\n",
      "TRUE SENTIMENT: positive\n"
     ]
    },
    {
     "name": "stderr",
     "output_type": "stream",
     "text": [
      " 69%|██████▉   | 691/1000 [20:26<09:17,  1.80s/it]"
     ]
    },
    {
     "name": "stdout",
     "output_type": "stream",
     "text": [
      "\n",
      "=== Sample 691/1000 ===\n",
      "RAW TEXT: Ohh grandpas.. Stable.. Won`t kno all details til tomorrow when I visit... Keep him me and my fam in ur prayers..thank you  ... Goodnite\n",
      "Predicted RAW: positive\n",
      "CLEANED TEXT: ohh grandpa stable wont kno detail til tomorrow visit keep fam ur prayersthank goodnite\n",
      "Predicted CLEAN: positive\n",
      "TRUE SENTIMENT: positive\n"
     ]
    },
    {
     "name": "stderr",
     "output_type": "stream",
     "text": [
      " 69%|██████▉   | 692/1000 [20:28<09:10,  1.79s/it]"
     ]
    },
    {
     "name": "stdout",
     "output_type": "stream",
     "text": [
      "\n",
      "=== Sample 692/1000 ===\n",
      "RAW TEXT: Sore throat. This is not good. I have four performances this weekend.\n",
      "Predicted RAW: negative\n",
      "CLEANED TEXT: sore throat good four performance weekend\n",
      "Predicted CLEAN: positive\n",
      "TRUE SENTIMENT: negative\n"
     ]
    },
    {
     "name": "stderr",
     "output_type": "stream",
     "text": [
      " 69%|██████▉   | 693/1000 [20:30<09:12,  1.80s/it]"
     ]
    },
    {
     "name": "stdout",
     "output_type": "stream",
     "text": [
      "\n",
      "=== Sample 693/1000 ===\n",
      "RAW TEXT:  it because your handwriting isnt on any of them. and everyone is making fun of me because im sitting by myseld in the lrc\n",
      "Predicted RAW: negative\n",
      "CLEANED TEXT: handwriting isnt everyone making fun im sitting myseld lrc\n",
      "Predicted CLEAN: negative\n",
      "TRUE SENTIMENT: negative\n"
     ]
    },
    {
     "name": "stderr",
     "output_type": "stream",
     "text": [
      " 69%|██████▉   | 694/1000 [20:32<09:22,  1.84s/it]"
     ]
    },
    {
     "name": "stdout",
     "output_type": "stream",
     "text": [
      "\n",
      "=== Sample 694/1000 ===\n",
      "RAW TEXT: So disappointed about the talent lineup for 'Reventï¿½n Super Estrella 2009'...hmm...Have the feeling I won`t get tix this time around.\n",
      "Predicted RAW: negative\n",
      "CLEANED TEXT: disappointed talent lineup reventï¿½n super estrella 2009hmmhave feeling wont get tix time around\n",
      "Predicted CLEAN: negative\n",
      "TRUE SENTIMENT: negative\n"
     ]
    },
    {
     "name": "stderr",
     "output_type": "stream",
     "text": [
      " 70%|██████▉   | 695/1000 [20:34<09:20,  1.84s/it]"
     ]
    },
    {
     "name": "stdout",
     "output_type": "stream",
     "text": [
      "\n",
      "=== Sample 695/1000 ===\n",
      "RAW TEXT:  can I come!?   I`m Merci btw., I have always been so inspired by you since I was a teenager.\n",
      "Predicted RAW: positive\n",
      "CLEANED TEXT: come im merci btw always inspired since teenager\n",
      "Predicted CLEAN: positive\n",
      "TRUE SENTIMENT: positive\n"
     ]
    },
    {
     "name": "stderr",
     "output_type": "stream",
     "text": [
      " 70%|██████▉   | 696/1000 [20:35<09:11,  1.82s/it]"
     ]
    },
    {
     "name": "stdout",
     "output_type": "stream",
     "text": [
      "\n",
      "=== Sample 696/1000 ===\n",
      "RAW TEXT:  how crappy for him\n",
      "Predicted RAW: negative\n",
      "CLEANED TEXT: crappy\n",
      "Predicted CLEAN: negative\n",
      "TRUE SENTIMENT: negative\n"
     ]
    },
    {
     "name": "stderr",
     "output_type": "stream",
     "text": [
      " 70%|██████▉   | 697/1000 [20:37<09:04,  1.80s/it]"
     ]
    },
    {
     "name": "stdout",
     "output_type": "stream",
     "text": [
      "\n",
      "=== Sample 697/1000 ===\n",
      "RAW TEXT: its freezing cold! i cant function right in this type of weather. starving to the max\n",
      "Predicted RAW: negative\n",
      "CLEANED TEXT: freezing cold cant function right type weather starving max\n",
      "Predicted CLEAN: negative\n",
      "TRUE SENTIMENT: negative\n"
     ]
    },
    {
     "name": "stderr",
     "output_type": "stream",
     "text": [
      " 70%|██████▉   | 698/1000 [20:39<08:59,  1.79s/it]"
     ]
    },
    {
     "name": "stdout",
     "output_type": "stream",
     "text": [
      "\n",
      "=== Sample 698/1000 ===\n",
      "RAW TEXT: Anyone ever had that heavy feeling of sadness in their hearts? Thats my case rite now.\n",
      "Predicted RAW: negative\n",
      "CLEANED TEXT: anyone ever heavy feeling sadness heart thats case rite\n",
      "Predicted CLEAN: negative\n",
      "TRUE SENTIMENT: negative\n"
     ]
    },
    {
     "name": "stderr",
     "output_type": "stream",
     "text": [
      " 70%|██████▉   | 699/1000 [20:41<08:53,  1.77s/it]"
     ]
    },
    {
     "name": "stdout",
     "output_type": "stream",
     "text": [
      "\n",
      "=== Sample 699/1000 ===\n",
      "RAW TEXT: _k_2k - Y!360 closing? get out!\n",
      "Predicted RAW: negative\n",
      "CLEANED TEXT: k2k y360 closing get\n",
      "Predicted CLEAN: negative\n",
      "TRUE SENTIMENT: negative\n"
     ]
    },
    {
     "name": "stderr",
     "output_type": "stream",
     "text": [
      " 70%|███████   | 700/1000 [20:42<08:48,  1.76s/it]"
     ]
    },
    {
     "name": "stdout",
     "output_type": "stream",
     "text": [
      "\n",
      "=== Sample 700/1000 ===\n",
      "RAW TEXT:  aww if I could, I would...  GBY ;)\n",
      "Predicted RAW: positive\n",
      "CLEANED TEXT: aww could would gby\n",
      "Predicted CLEAN: positive\n",
      "TRUE SENTIMENT: positive\n"
     ]
    },
    {
     "name": "stderr",
     "output_type": "stream",
     "text": [
      " 70%|███████   | 701/1000 [20:44<08:46,  1.76s/it]"
     ]
    },
    {
     "name": "stdout",
     "output_type": "stream",
     "text": [
      "\n",
      "=== Sample 701/1000 ===\n",
      "RAW TEXT: I ate too many kisses.\n",
      "Predicted RAW: positive\n",
      "CLEANED TEXT: ate many kiss\n",
      "Predicted CLEAN: negative\n",
      "TRUE SENTIMENT: negative\n"
     ]
    },
    {
     "name": "stderr",
     "output_type": "stream",
     "text": [
      " 70%|███████   | 702/1000 [20:46<08:42,  1.75s/it]"
     ]
    },
    {
     "name": "stdout",
     "output_type": "stream",
     "text": [
      "\n",
      "=== Sample 702/1000 ===\n",
      "RAW TEXT:  Thanks for the warning. Good thing my heart is unbreakable.\n",
      "Predicted RAW: negative\n",
      "CLEANED TEXT: thanks warning good thing heart unbreakable\n",
      "Predicted CLEAN: positive\n",
      "TRUE SENTIMENT: positive\n"
     ]
    },
    {
     "name": "stderr",
     "output_type": "stream",
     "text": [
      " 70%|███████   | 703/1000 [20:48<08:40,  1.75s/it]"
     ]
    },
    {
     "name": "stdout",
     "output_type": "stream",
     "text": [
      "\n",
      "=== Sample 703/1000 ===\n",
      "RAW TEXT:  ... like you`re stuff!  Strange voicemails! http://bit.ly/yKxms\n",
      "Predicted RAW: negative\n",
      "CLEANED TEXT: like youre stuff strange voicemail\n",
      "Predicted CLEAN: negative\n",
      "TRUE SENTIMENT: positive\n"
     ]
    },
    {
     "name": "stderr",
     "output_type": "stream",
     "text": [
      " 70%|███████   | 704/1000 [20:49<08:38,  1.75s/it]"
     ]
    },
    {
     "name": "stdout",
     "output_type": "stream",
     "text": [
      "\n",
      "=== Sample 704/1000 ===\n",
      "RAW TEXT:  Well done! Happy for ya.\n",
      "Predicted RAW: positive\n",
      "CLEANED TEXT: well done happy ya\n",
      "Predicted CLEAN: positive\n",
      "TRUE SENTIMENT: positive\n"
     ]
    },
    {
     "name": "stderr",
     "output_type": "stream",
     "text": [
      " 70%|███████   | 705/1000 [20:51<08:44,  1.78s/it]"
     ]
    },
    {
     "name": "stdout",
     "output_type": "stream",
     "text": [
      "\n",
      "=== Sample 705/1000 ===\n",
      "RAW TEXT: True to form, Bank Holiday Monday looks like it might be rainy. Hope it holds off til later, family&friends plan walk and picnic today\n",
      "Predicted RAW: positive\n",
      "CLEANED TEXT: true form bank holiday monday look like might rainy hope hold til later familyfriends plan walk picnic today\n",
      "Predicted CLEAN: positive\n",
      "TRUE SENTIMENT: positive\n"
     ]
    },
    {
     "name": "stderr",
     "output_type": "stream",
     "text": [
      " 71%|███████   | 706/1000 [20:53<08:39,  1.77s/it]"
     ]
    },
    {
     "name": "stdout",
     "output_type": "stream",
     "text": [
      "\n",
      "=== Sample 706/1000 ===\n",
      "RAW TEXT: Thinks FML should changed to LML (love my life)\n",
      "Predicted RAW: positive\n",
      "CLEANED TEXT: think fml changed lml love life\n",
      "Predicted CLEAN: negative\n",
      "TRUE SENTIMENT: positive\n"
     ]
    },
    {
     "name": "stderr",
     "output_type": "stream",
     "text": [
      " 71%|███████   | 707/1000 [20:55<08:37,  1.77s/it]"
     ]
    },
    {
     "name": "stdout",
     "output_type": "stream",
     "text": [
      "\n",
      "=== Sample 707/1000 ===\n",
      "RAW TEXT: Ha,  i`m giving spymaster a chance - just curious! will miss u\n",
      "Predicted RAW: positive\n",
      "CLEANED TEXT: ha im giving spymaster chance curious miss u\n",
      "Predicted CLEAN: positive\n",
      "TRUE SENTIMENT: negative\n"
     ]
    },
    {
     "name": "stderr",
     "output_type": "stream",
     "text": [
      " 71%|███████   | 708/1000 [20:56<08:35,  1.76s/it]"
     ]
    },
    {
     "name": "stdout",
     "output_type": "stream",
     "text": [
      "\n",
      "=== Sample 708/1000 ===\n",
      "RAW TEXT: Loves the 2nd half of even days, orch and jazz band with daddy\n",
      "Predicted RAW: positive\n",
      "CLEANED TEXT: love 2nd half even day orch jazz band daddy\n",
      "Predicted CLEAN: positive\n",
      "TRUE SENTIMENT: positive\n"
     ]
    },
    {
     "name": "stderr",
     "output_type": "stream",
     "text": [
      " 71%|███████   | 709/1000 [20:58<08:32,  1.76s/it]"
     ]
    },
    {
     "name": "stdout",
     "output_type": "stream",
     "text": [
      "\n",
      "=== Sample 709/1000 ===\n",
      "RAW TEXT: is tired. And turning off the Internet. You can play on it in the morning.\n",
      "Predicted RAW: negative\n",
      "CLEANED TEXT: tired turning internet play morning\n",
      "Predicted CLEAN: negative\n",
      "TRUE SENTIMENT: negative\n"
     ]
    },
    {
     "name": "stderr",
     "output_type": "stream",
     "text": [
      " 71%|███████   | 710/1000 [21:00<08:28,  1.75s/it]"
     ]
    },
    {
     "name": "stdout",
     "output_type": "stream",
     "text": [
      "\n",
      "=== Sample 710/1000 ===\n",
      "RAW TEXT: happy star wars day\n",
      "Predicted RAW: positive\n",
      "CLEANED TEXT: happy star war day\n",
      "Predicted CLEAN: positive\n",
      "TRUE SENTIMENT: positive\n"
     ]
    },
    {
     "name": "stderr",
     "output_type": "stream",
     "text": [
      " 71%|███████   | 711/1000 [21:02<08:32,  1.77s/it]"
     ]
    },
    {
     "name": "stdout",
     "output_type": "stream",
     "text": [
      "\n",
      "=== Sample 711/1000 ===\n",
      "RAW TEXT: Just got notified my podcast was accepted into iTunes. http://budurl.com/SBit Of course I then realized it was miss formated  Fixed now.\n",
      "Predicted RAW: positive\n",
      "CLEANED TEXT: got notified podcast accepted itunes course realized miss formated fixed\n",
      "Predicted CLEAN: positive\n",
      "TRUE SENTIMENT: negative\n"
     ]
    },
    {
     "name": "stderr",
     "output_type": "stream",
     "text": [
      " 71%|███████   | 712/1000 [21:04<08:44,  1.82s/it]"
     ]
    },
    {
     "name": "stdout",
     "output_type": "stream",
     "text": [
      "\n",
      "=== Sample 712/1000 ===\n",
      "RAW TEXT: Heyy.thnxx.or.inviting.me.to.ur.party.rob.ill.be.down.there.on.june.24th.ill.miss.u.when.u.go.to.italy....   <333333333 txt.me.hon!!!\n",
      "Predicted RAW: positive\n",
      "CLEANED TEXT: heyythnxxorinvitingmetourpartyrobillbedownthereonjune24thillmissuwhenugotoitaly 333333333 txtmehon\n",
      "Predicted CLEAN: negative\n",
      "TRUE SENTIMENT: positive\n"
     ]
    },
    {
     "name": "stderr",
     "output_type": "stream",
     "text": [
      " 71%|███████▏  | 713/1000 [21:05<08:36,  1.80s/it]"
     ]
    },
    {
     "name": "stdout",
     "output_type": "stream",
     "text": [
      "\n",
      "=== Sample 713/1000 ===\n",
      "RAW TEXT: is tired of summer already\n",
      "Predicted RAW: negative\n",
      "CLEANED TEXT: tired summer already\n",
      "Predicted CLEAN: negative\n",
      "TRUE SENTIMENT: negative\n"
     ]
    },
    {
     "name": "stderr",
     "output_type": "stream",
     "text": [
      " 71%|███████▏  | 714/1000 [21:07<08:30,  1.79s/it]"
     ]
    },
    {
     "name": "stdout",
     "output_type": "stream",
     "text": [
      "\n",
      "=== Sample 714/1000 ===\n",
      "RAW TEXT:  I`ve given up on pizza - kids would never let me have my fav  (the hot ones)\n",
      "Predicted RAW: negative\n",
      "CLEANED TEXT: ive given pizza kid would never let fav hot one\n",
      "Predicted CLEAN: negative\n",
      "TRUE SENTIMENT: negative\n"
     ]
    },
    {
     "name": "stderr",
     "output_type": "stream",
     "text": [
      " 72%|███████▏  | 715/1000 [21:09<08:26,  1.78s/it]"
     ]
    },
    {
     "name": "stdout",
     "output_type": "stream",
     "text": [
      "\n",
      "=== Sample 715/1000 ===\n",
      "RAW TEXT: im hangin out with my cousin holly and tlkin 2 my grandparents.......  my phone went dead\n",
      "Predicted RAW: positive\n",
      "CLEANED TEXT: im hangin cousin holly tlkin 2 grandparent phone went dead\n",
      "Predicted CLEAN: positive\n",
      "TRUE SENTIMENT: negative\n"
     ]
    },
    {
     "name": "stderr",
     "output_type": "stream",
     "text": [
      " 72%|███████▏  | 716/1000 [21:11<08:23,  1.77s/it]"
     ]
    },
    {
     "name": "stdout",
     "output_type": "stream",
     "text": [
      "\n",
      "=== Sample 716/1000 ===\n",
      "RAW TEXT:  Thats great\n",
      "Predicted RAW: positive\n",
      "CLEANED TEXT: thats great\n",
      "Predicted CLEAN: positive\n",
      "TRUE SENTIMENT: positive\n"
     ]
    },
    {
     "name": "stderr",
     "output_type": "stream",
     "text": [
      " 72%|███████▏  | 717/1000 [21:12<08:19,  1.77s/it]"
     ]
    },
    {
     "name": "stdout",
     "output_type": "stream",
     "text": [
      "\n",
      "=== Sample 717/1000 ===\n",
      "RAW TEXT: i wish i could teach my dog how to play xbox!  alas...no thumbs\n",
      "Predicted RAW: positive\n",
      "CLEANED TEXT: wish could teach dog play xbox alasno thumb\n",
      "Predicted CLEAN: negative\n",
      "TRUE SENTIMENT: negative\n"
     ]
    },
    {
     "name": "stderr",
     "output_type": "stream",
     "text": [
      " 72%|███████▏  | 718/1000 [21:14<08:17,  1.77s/it]"
     ]
    },
    {
     "name": "stdout",
     "output_type": "stream",
     "text": [
      "\n",
      "=== Sample 718/1000 ===\n",
      "RAW TEXT:  thanks! I`m totally bushed today though time for some coding\n",
      "Predicted RAW: positive\n",
      "CLEANED TEXT: thanks im totally bushed today though time coding\n",
      "Predicted CLEAN: positive\n",
      "TRUE SENTIMENT: positive\n"
     ]
    },
    {
     "name": "stderr",
     "output_type": "stream",
     "text": [
      " 72%|███████▏  | 719/1000 [21:16<08:14,  1.76s/it]"
     ]
    },
    {
     "name": "stdout",
     "output_type": "stream",
     "text": [
      "\n",
      "=== Sample 719/1000 ===\n",
      "RAW TEXT: Omg!!! Is this the sun glimpsing through the clouds?! Woohoo!\n",
      "Predicted RAW: positive\n",
      "CLEANED TEXT: omg sun glimpsing cloud woohoo\n",
      "Predicted CLEAN: positive\n",
      "TRUE SENTIMENT: positive\n"
     ]
    },
    {
     "name": "stderr",
     "output_type": "stream",
     "text": [
      " 72%|███████▏  | 720/1000 [21:18<08:17,  1.78s/it]"
     ]
    },
    {
     "name": "stdout",
     "output_type": "stream",
     "text": [
      "\n",
      "=== Sample 720/1000 ===\n",
      "RAW TEXT:  haha yea, i just feel like its being taken the wrong direction, used to be a cool place, now its a mess\n",
      "Predicted RAW: negative\n",
      "CLEANED TEXT: haha yea feel like taken wrong direction used cool place mess\n",
      "Predicted CLEAN: negative\n",
      "TRUE SENTIMENT: negative\n"
     ]
    },
    {
     "name": "stderr",
     "output_type": "stream",
     "text": [
      " 72%|███████▏  | 721/1000 [21:19<08:12,  1.76s/it]"
     ]
    },
    {
     "name": "stdout",
     "output_type": "stream",
     "text": [
      "\n",
      "=== Sample 721/1000 ===\n",
      "RAW TEXT:  shes must be a truly amazing woman for having a phenomenal son..\n",
      "Predicted RAW: positive\n",
      "CLEANED TEXT: shes must truly amazing woman phenomenal son\n",
      "Predicted CLEAN: positive\n",
      "TRUE SENTIMENT: positive\n"
     ]
    },
    {
     "name": "stderr",
     "output_type": "stream",
     "text": [
      " 72%|███████▏  | 722/1000 [21:21<08:09,  1.76s/it]"
     ]
    },
    {
     "name": "stdout",
     "output_type": "stream",
     "text": [
      "\n",
      "=== Sample 722/1000 ===\n",
      "RAW TEXT:  very nice...i cleared my head\n",
      "Predicted RAW: positive\n",
      "CLEANED TEXT: nicei cleared head\n",
      "Predicted CLEAN: positive\n",
      "TRUE SENTIMENT: positive\n"
     ]
    },
    {
     "name": "stderr",
     "output_type": "stream",
     "text": [
      " 72%|███████▏  | 723/1000 [21:23<08:14,  1.78s/it]"
     ]
    },
    {
     "name": "stdout",
     "output_type": "stream",
     "text": [
      "\n",
      "=== Sample 723/1000 ===\n",
      "RAW TEXT:  umm get ready, help my mum, give GJ his presents when he gets up (could be a while), wait for people to arrive, then party\n",
      "Predicted RAW: positive\n",
      "CLEANED TEXT: umm get ready help mum give gj present get could wait people arrive party\n",
      "Predicted CLEAN: negative\n",
      "TRUE SENTIMENT: positive\n"
     ]
    },
    {
     "name": "stderr",
     "output_type": "stream",
     "text": [
      " 72%|███████▏  | 724/1000 [21:25<08:09,  1.77s/it]"
     ]
    },
    {
     "name": "stdout",
     "output_type": "stream",
     "text": [
      "\n",
      "=== Sample 724/1000 ===\n",
      "RAW TEXT: Happy Mother`s Day mom\n",
      "Predicted RAW: positive\n",
      "CLEANED TEXT: happy mother day mom\n",
      "Predicted CLEAN: positive\n",
      "TRUE SENTIMENT: positive\n"
     ]
    },
    {
     "name": "stderr",
     "output_type": "stream",
     "text": [
      " 72%|███████▎  | 725/1000 [21:27<08:06,  1.77s/it]"
     ]
    },
    {
     "name": "stdout",
     "output_type": "stream",
     "text": [
      "\n",
      "=== Sample 725/1000 ===\n",
      "RAW TEXT: #asylm yay registered but lost all my friends\n",
      "Predicted RAW: negative\n",
      "CLEANED TEXT: asylm yay registered lost friend\n",
      "Predicted CLEAN: positive\n",
      "TRUE SENTIMENT: negative\n"
     ]
    },
    {
     "name": "stderr",
     "output_type": "stream",
     "text": [
      " 73%|███████▎  | 726/1000 [21:28<08:04,  1.77s/it]"
     ]
    },
    {
     "name": "stdout",
     "output_type": "stream",
     "text": [
      "\n",
      "=== Sample 726/1000 ===\n",
      "RAW TEXT: church bellss are ringin  got to go. adieu,(god bless in german)\n",
      "Predicted RAW: positive\n",
      "CLEANED TEXT: church bellss ringin got go adieugod bless german\n",
      "Predicted CLEAN: positive\n",
      "TRUE SENTIMENT: positive\n"
     ]
    },
    {
     "name": "stderr",
     "output_type": "stream",
     "text": [
      " 73%|███████▎  | 727/1000 [21:30<08:00,  1.76s/it]"
     ]
    },
    {
     "name": "stdout",
     "output_type": "stream",
     "text": [
      "\n",
      "=== Sample 727/1000 ===\n",
      "RAW TEXT:  watching dor on utv movies again great performance\n",
      "Predicted RAW: positive\n",
      "CLEANED TEXT: watching dor utv movie great performance\n",
      "Predicted CLEAN: positive\n",
      "TRUE SENTIMENT: positive\n"
     ]
    },
    {
     "name": "stderr",
     "output_type": "stream",
     "text": [
      " 73%|███████▎  | 728/1000 [21:32<08:05,  1.79s/it]"
     ]
    },
    {
     "name": "stdout",
     "output_type": "stream",
     "text": [
      "\n",
      "=== Sample 728/1000 ===\n",
      "RAW TEXT: did U watch the spelling bee contest ? winner: Kavya Shivshankar ! Impressive performance - i had not even heared most of the words b4\n",
      "Predicted RAW: positive\n",
      "CLEANED TEXT: u watch spelling bee contest winner kavya shivshankar impressive performance even heared word b4\n",
      "Predicted CLEAN: positive\n",
      "TRUE SENTIMENT: positive\n"
     ]
    },
    {
     "name": "stderr",
     "output_type": "stream",
     "text": [
      " 73%|███████▎  | 729/1000 [21:34<08:00,  1.77s/it]"
     ]
    },
    {
     "name": "stdout",
     "output_type": "stream",
     "text": [
      "\n",
      "=== Sample 729/1000 ===\n",
      "RAW TEXT:  probably not in this weather\n",
      "Predicted RAW: negative\n",
      "CLEANED TEXT: probably weather\n",
      "Predicted CLEAN: negative\n",
      "TRUE SENTIMENT: negative\n"
     ]
    },
    {
     "name": "stderr",
     "output_type": "stream",
     "text": [
      " 73%|███████▎  | 730/1000 [21:35<07:58,  1.77s/it]"
     ]
    },
    {
     "name": "stdout",
     "output_type": "stream",
     "text": [
      "\n",
      "=== Sample 730/1000 ===\n",
      "RAW TEXT:  no wonder you hate driving and country roads and stuff\n",
      "Predicted RAW: negative\n",
      "CLEANED TEXT: wonder hate driving country road stuff\n",
      "Predicted CLEAN: negative\n",
      "TRUE SENTIMENT: negative\n"
     ]
    },
    {
     "name": "stderr",
     "output_type": "stream",
     "text": [
      " 73%|███████▎  | 731/1000 [21:37<08:02,  1.79s/it]"
     ]
    },
    {
     "name": "stdout",
     "output_type": "stream",
     "text": [
      "\n",
      "=== Sample 731/1000 ===\n",
      "RAW TEXT: heading out to (a long)band practice. last one before our first show on Saturday night. Hope it`s a good one  http://digg.com/u12MIW\n",
      "Predicted RAW: positive\n",
      "CLEANED TEXT: heading longband practice last one first show saturday night hope good one\n",
      "Predicted CLEAN: positive\n",
      "TRUE SENTIMENT: positive\n"
     ]
    },
    {
     "name": "stderr",
     "output_type": "stream",
     "text": [
      " 73%|███████▎  | 732/1000 [21:39<08:04,  1.81s/it]"
     ]
    },
    {
     "name": "stdout",
     "output_type": "stream",
     "text": [
      "\n",
      "=== Sample 732/1000 ===\n",
      "RAW TEXT: says HAPPY MOTHER`S DAY TO ALL THE MOMS OUT THERE!  http://plurk.com/p/stezd\n",
      "Predicted RAW: positive\n",
      "CLEANED TEXT: say happy mother day mom\n",
      "Predicted CLEAN: positive\n",
      "TRUE SENTIMENT: positive\n"
     ]
    },
    {
     "name": "stderr",
     "output_type": "stream",
     "text": [
      " 73%|███████▎  | 733/1000 [21:41<07:57,  1.79s/it]"
     ]
    },
    {
     "name": "stdout",
     "output_type": "stream",
     "text": [
      "\n",
      "=== Sample 733/1000 ===\n",
      "RAW TEXT:  sorry to hear your news\n",
      "Predicted RAW: negative\n",
      "CLEANED TEXT: sorry hear news\n",
      "Predicted CLEAN: negative\n",
      "TRUE SENTIMENT: negative\n"
     ]
    },
    {
     "name": "stderr",
     "output_type": "stream",
     "text": [
      " 73%|███████▎  | 734/1000 [21:43<07:52,  1.77s/it]"
     ]
    },
    {
     "name": "stdout",
     "output_type": "stream",
     "text": [
      "\n",
      "=== Sample 734/1000 ===\n",
      "RAW TEXT: sad.. Daniel is leaving Florida now.. just gave him a big hug\n",
      "Predicted RAW: negative\n",
      "CLEANED TEXT: sad daniel leaving florida gave big hug\n",
      "Predicted CLEAN: negative\n",
      "TRUE SENTIMENT: negative\n"
     ]
    },
    {
     "name": "stderr",
     "output_type": "stream",
     "text": [
      " 74%|███████▎  | 735/1000 [21:44<07:48,  1.77s/it]"
     ]
    },
    {
     "name": "stdout",
     "output_type": "stream",
     "text": [
      "\n",
      "=== Sample 735/1000 ===\n",
      "RAW TEXT: it`s mother`s day...i already bought and gave my mother`s day present to my mother.\n",
      "Predicted RAW: positive\n",
      "CLEANED TEXT: mother dayi already bought gave mother day present mother\n",
      "Predicted CLEAN: positive\n",
      "TRUE SENTIMENT: positive\n"
     ]
    },
    {
     "name": "stderr",
     "output_type": "stream",
     "text": [
      " 74%|███████▎  | 736/1000 [21:46<07:46,  1.77s/it]"
     ]
    },
    {
     "name": "stdout",
     "output_type": "stream",
     "text": [
      "\n",
      "=== Sample 736/1000 ===\n",
      "RAW TEXT: Best friend is leaving to go back to school today..I am so sad\n",
      "Predicted RAW: negative\n",
      "CLEANED TEXT: best friend leaving go back school todayi sad\n",
      "Predicted CLEAN: negative\n",
      "TRUE SENTIMENT: negative\n"
     ]
    },
    {
     "name": "stderr",
     "output_type": "stream",
     "text": [
      " 74%|███████▎  | 737/1000 [21:48<07:45,  1.77s/it]"
     ]
    },
    {
     "name": "stdout",
     "output_type": "stream",
     "text": [
      "\n",
      "=== Sample 737/1000 ===\n",
      "RAW TEXT: has a new nick name - arosh ..i like i like\n",
      "Predicted RAW: positive\n",
      "CLEANED TEXT: new nick name arosh like like\n",
      "Predicted CLEAN: positive\n",
      "TRUE SENTIMENT: positive\n"
     ]
    },
    {
     "name": "stderr",
     "output_type": "stream",
     "text": [
      " 74%|███████▍  | 738/1000 [21:50<07:49,  1.79s/it]"
     ]
    },
    {
     "name": "stdout",
     "output_type": "stream",
     "text": [
      "\n",
      "=== Sample 738/1000 ===\n",
      "RAW TEXT:  i guess you get loads of emails & people asking you stuff al the time but i seriously wonder if you ever read my comments  x\n",
      "Predicted RAW: negative\n",
      "CLEANED TEXT: guess get load email people asking stuff al time seriously wonder ever read comment x\n",
      "Predicted CLEAN: negative\n",
      "TRUE SENTIMENT: negative\n"
     ]
    },
    {
     "name": "stderr",
     "output_type": "stream",
     "text": [
      " 74%|███████▍  | 739/1000 [21:52<07:46,  1.79s/it]"
     ]
    },
    {
     "name": "stdout",
     "output_type": "stream",
     "text": [
      "\n",
      "=== Sample 739/1000 ===\n",
      "RAW TEXT: Ahh... I love Chinese music. Haha.  Not gonna see my luff til Thursday...\n",
      "Predicted RAW: positive\n",
      "CLEANED TEXT: ahh love chinese music haha gon na see luff til thursday\n",
      "Predicted CLEAN: positive\n",
      "TRUE SENTIMENT: positive\n"
     ]
    },
    {
     "name": "stderr",
     "output_type": "stream",
     "text": [
      " 74%|███████▍  | 740/1000 [21:53<07:41,  1.77s/it]"
     ]
    },
    {
     "name": "stdout",
     "output_type": "stream",
     "text": [
      "\n",
      "=== Sample 740/1000 ===\n",
      "RAW TEXT: People are people...nooooo? Id never have guessed tht...idiot..im grouchy now\n",
      "Predicted RAW: negative\n",
      "CLEANED TEXT: people peoplenooooo id never guessed thtidiotim grouchy\n",
      "Predicted CLEAN: negative\n",
      "TRUE SENTIMENT: negative\n"
     ]
    },
    {
     "name": "stderr",
     "output_type": "stream",
     "text": [
      " 74%|███████▍  | 741/1000 [21:55<07:39,  1.78s/it]"
     ]
    },
    {
     "name": "stdout",
     "output_type": "stream",
     "text": [
      "\n",
      "=== Sample 741/1000 ===\n",
      "RAW TEXT:  i see you hannah klein!. lookin good today\n",
      "Predicted RAW: positive\n",
      "CLEANED TEXT: see hannah klein lookin good today\n",
      "Predicted CLEAN: positive\n",
      "TRUE SENTIMENT: positive\n"
     ]
    },
    {
     "name": "stderr",
     "output_type": "stream",
     "text": [
      " 74%|███████▍  | 742/1000 [21:57<07:43,  1.80s/it]"
     ]
    },
    {
     "name": "stdout",
     "output_type": "stream",
     "text": [
      "\n",
      "=== Sample 742/1000 ===\n",
      "RAW TEXT: aha _marie my brother`s wallpaper on his phone is Dolly The Sheep  aha i`m loling.\n",
      "Predicted RAW: positive\n",
      "CLEANED TEXT: aha marie brother wallpaper phone dolly sheep aha im loling\n",
      "Predicted CLEAN: positive\n",
      "TRUE SENTIMENT: positive\n"
     ]
    },
    {
     "name": "stderr",
     "output_type": "stream",
     "text": [
      " 74%|███████▍  | 743/1000 [21:59<07:37,  1.78s/it]"
     ]
    },
    {
     "name": "stdout",
     "output_type": "stream",
     "text": [
      "\n",
      "=== Sample 743/1000 ===\n",
      "RAW TEXT: Sending blessings out to \n",
      "Predicted RAW: positive\n",
      "CLEANED TEXT: sending blessing\n",
      "Predicted CLEAN: positive\n",
      "TRUE SENTIMENT: positive\n"
     ]
    },
    {
     "name": "stderr",
     "output_type": "stream",
     "text": [
      " 74%|███████▍  | 744/1000 [22:00<07:35,  1.78s/it]"
     ]
    },
    {
     "name": "stdout",
     "output_type": "stream",
     "text": [
      "\n",
      "=== Sample 744/1000 ===\n",
      "RAW TEXT: Mudweight hauled in for last time by   http://yfrog.com/0zr2jqj\n",
      "Predicted RAW: negative\n",
      "CLEANED TEXT: mudweight hauled last time\n",
      "Predicted CLEAN: negative\n",
      "TRUE SENTIMENT: negative\n"
     ]
    },
    {
     "name": "stderr",
     "output_type": "stream",
     "text": [
      " 74%|███████▍  | 745/1000 [22:02<07:33,  1.78s/it]"
     ]
    },
    {
     "name": "stdout",
     "output_type": "stream",
     "text": [
      "\n",
      "=== Sample 745/1000 ===\n",
      "RAW TEXT: i cant believes its already Monday, the weekend went by soooo fast, keeping my fingers crossed that will too\n",
      "Predicted RAW: positive\n",
      "CLEANED TEXT: cant belief already monday weekend went soooo fast keeping finger crossed\n",
      "Predicted CLEAN: positive\n",
      "TRUE SENTIMENT: negative\n"
     ]
    },
    {
     "name": "stderr",
     "output_type": "stream",
     "text": [
      " 75%|███████▍  | 746/1000 [22:04<07:30,  1.77s/it]"
     ]
    },
    {
     "name": "stdout",
     "output_type": "stream",
     "text": [
      "\n",
      "=== Sample 746/1000 ===\n",
      "RAW TEXT: Barack Obama is a legend, just watched his dinner speach, it was pretty funny\n",
      "Predicted RAW: positive\n",
      "CLEANED TEXT: barack obama legend watched dinner speach pretty funny\n",
      "Predicted CLEAN: positive\n",
      "TRUE SENTIMENT: positive\n"
     ]
    },
    {
     "name": "stderr",
     "output_type": "stream",
     "text": [
      " 75%|███████▍  | 747/1000 [22:06<07:33,  1.79s/it]"
     ]
    },
    {
     "name": "stdout",
     "output_type": "stream",
     "text": [
      "\n",
      "=== Sample 747/1000 ===\n",
      "RAW TEXT:  Ouch. I won`t be down in Miami tomorrow morning. That sucks  It`s a cruise? Are you driving back the next Saturday?\n",
      "Predicted RAW: negative\n",
      "CLEANED TEXT: ouch wont miami tomorrow morning suck cruise driving back next saturday\n",
      "Predicted CLEAN: negative\n",
      "TRUE SENTIMENT: negative\n"
     ]
    },
    {
     "name": "stderr",
     "output_type": "stream",
     "text": [
      " 75%|███████▍  | 748/1000 [22:08<07:27,  1.78s/it]"
     ]
    },
    {
     "name": "stdout",
     "output_type": "stream",
     "text": [
      "\n",
      "=== Sample 748/1000 ===\n",
      "RAW TEXT: sadd..  last night in fl.. going back to AR tomorrow\n",
      "Predicted RAW: negative\n",
      "CLEANED TEXT: sadd last night fl going back ar tomorrow\n",
      "Predicted CLEAN: negative\n",
      "TRUE SENTIMENT: negative\n"
     ]
    },
    {
     "name": "stderr",
     "output_type": "stream",
     "text": [
      " 75%|███████▍  | 749/1000 [22:09<07:23,  1.77s/it]"
     ]
    },
    {
     "name": "stdout",
     "output_type": "stream",
     "text": [
      "\n",
      "=== Sample 749/1000 ===\n",
      "RAW TEXT:  sounds awesome..\n",
      "Predicted RAW: positive\n",
      "CLEANED TEXT: sound awesome\n",
      "Predicted CLEAN: positive\n",
      "TRUE SENTIMENT: positive\n"
     ]
    },
    {
     "name": "stderr",
     "output_type": "stream",
     "text": [
      " 75%|███████▌  | 750/1000 [22:11<07:26,  1.78s/it]"
     ]
    },
    {
     "name": "stdout",
     "output_type": "stream",
     "text": [
      "\n",
      "=== Sample 750/1000 ===\n",
      "RAW TEXT:  no. my school will start on June1.  two days to go. i still don`t want. :l\n",
      "Predicted RAW: negative\n",
      "CLEANED TEXT: school start june1 two day go still dont want l\n",
      "Predicted CLEAN: negative\n",
      "TRUE SENTIMENT: negative\n"
     ]
    },
    {
     "name": "stderr",
     "output_type": "stream",
     "text": [
      " 75%|███████▌  | 751/1000 [22:13<07:28,  1.80s/it]"
     ]
    },
    {
     "name": "stdout",
     "output_type": "stream",
     "text": [
      "\n",
      "=== Sample 751/1000 ===\n",
      "RAW TEXT: Tbh having no credit in your phone sux. i cant even text people to see what`s happening, like its totally grrrsville\n",
      "Predicted RAW: negative\n",
      "CLEANED TEXT: tbh credit phone sux cant even text people see whats happening like totally grrrsville\n",
      "Predicted CLEAN: negative\n",
      "TRUE SENTIMENT: negative\n"
     ]
    },
    {
     "name": "stderr",
     "output_type": "stream",
     "text": [
      " 75%|███████▌  | 752/1000 [22:15<07:23,  1.79s/it]"
     ]
    },
    {
     "name": "stdout",
     "output_type": "stream",
     "text": [
      "\n",
      "=== Sample 752/1000 ===\n",
      "RAW TEXT: This month was a bad month to try and get an advert together for Kobold Quarterly\n",
      "Predicted RAW: negative\n",
      "CLEANED TEXT: month bad month try get advert together kobold quarterly\n",
      "Predicted CLEAN: negative\n",
      "TRUE SENTIMENT: negative\n"
     ]
    },
    {
     "name": "stderr",
     "output_type": "stream",
     "text": [
      " 75%|███████▌  | 753/1000 [22:16<07:17,  1.77s/it]"
     ]
    },
    {
     "name": "stdout",
     "output_type": "stream",
     "text": [
      "\n",
      "=== Sample 753/1000 ===\n",
      "RAW TEXT:  I`m concerned for that family\n",
      "Predicted RAW: positive\n",
      "CLEANED TEXT: im concerned family\n",
      "Predicted CLEAN: negative\n",
      "TRUE SENTIMENT: positive\n"
     ]
    },
    {
     "name": "stderr",
     "output_type": "stream",
     "text": [
      " 75%|███████▌  | 754/1000 [22:18<07:14,  1.77s/it]"
     ]
    },
    {
     "name": "stdout",
     "output_type": "stream",
     "text": [
      "\n",
      "=== Sample 754/1000 ===\n",
      "RAW TEXT: Idk i cant do ****\n",
      "Predicted RAW: negative\n",
      "CLEANED TEXT: idk cant\n",
      "Predicted CLEAN: negative\n",
      "TRUE SENTIMENT: negative\n"
     ]
    },
    {
     "name": "stderr",
     "output_type": "stream",
     "text": [
      " 76%|███████▌  | 755/1000 [22:20<07:10,  1.76s/it]"
     ]
    },
    {
     "name": "stdout",
     "output_type": "stream",
     "text": [
      "\n",
      "=== Sample 755/1000 ===\n",
      "RAW TEXT: only gets spam in her college email account now. What a way to rub in graduation.\n",
      "Predicted RAW: negative\n",
      "CLEANED TEXT: get spam college email account way rub graduation\n",
      "Predicted CLEAN: negative\n",
      "TRUE SENTIMENT: negative\n"
     ]
    },
    {
     "name": "stderr",
     "output_type": "stream",
     "text": [
      " 76%|███████▌  | 756/1000 [22:22<07:08,  1.76s/it]"
     ]
    },
    {
     "name": "stdout",
     "output_type": "stream",
     "text": [
      "\n",
      "=== Sample 756/1000 ===\n",
      "RAW TEXT:  I`m very much in tune with your words today. Thanks.\n",
      "Predicted RAW: positive\n",
      "CLEANED TEXT: im much tune word today thanks\n",
      "Predicted CLEAN: positive\n",
      "TRUE SENTIMENT: positive\n"
     ]
    },
    {
     "name": "stderr",
     "output_type": "stream",
     "text": [
      " 76%|███████▌  | 757/1000 [22:23<07:04,  1.75s/it]"
     ]
    },
    {
     "name": "stdout",
     "output_type": "stream",
     "text": [
      "\n",
      "=== Sample 757/1000 ===\n",
      "RAW TEXT:  how are you gonna get them? I got bitten\n",
      "Predicted RAW: negative\n",
      "CLEANED TEXT: gon na get got bitten\n",
      "Predicted CLEAN: negative\n",
      "TRUE SENTIMENT: negative\n"
     ]
    },
    {
     "name": "stderr",
     "output_type": "stream",
     "text": [
      " 76%|███████▌  | 758/1000 [22:25<07:04,  1.75s/it]"
     ]
    },
    {
     "name": "stdout",
     "output_type": "stream",
     "text": [
      "\n",
      "=== Sample 758/1000 ===\n",
      "RAW TEXT:  I`m so sad I missed your calling time, I got home from practice too late\n",
      "Predicted RAW: negative\n",
      "CLEANED TEXT: im sad missed calling time got home practice late\n",
      "Predicted CLEAN: negative\n",
      "TRUE SENTIMENT: negative\n"
     ]
    },
    {
     "name": "stderr",
     "output_type": "stream",
     "text": [
      " 76%|███████▌  | 759/1000 [22:27<07:02,  1.75s/it]"
     ]
    },
    {
     "name": "stdout",
     "output_type": "stream",
     "text": [
      "\n",
      "=== Sample 759/1000 ===\n",
      "RAW TEXT:  im jealous.  im slaving away at the store and youre chilling on the boat.\n",
      "Predicted RAW: negative\n",
      "CLEANED TEXT: im jealous im slaving away store youre chilling boat\n",
      "Predicted CLEAN: negative\n",
      "TRUE SENTIMENT: negative\n"
     ]
    },
    {
     "name": "stderr",
     "output_type": "stream",
     "text": [
      " 76%|███████▌  | 760/1000 [22:29<07:06,  1.78s/it]"
     ]
    },
    {
     "name": "stdout",
     "output_type": "stream",
     "text": [
      "\n",
      "=== Sample 760/1000 ===\n",
      "RAW TEXT: I got up early to pay bills. I figured its like a bandaid if I get it over quickly it won`t be so bad... I was wrong\n",
      "Predicted RAW: negative\n",
      "CLEANED TEXT: got early pay bill figured like bandaid get quickly wont bad wrong\n",
      "Predicted CLEAN: negative\n",
      "TRUE SENTIMENT: negative\n"
     ]
    },
    {
     "name": "stderr",
     "output_type": "stream",
     "text": [
      " 76%|███████▌  | 761/1000 [22:30<07:02,  1.77s/it]"
     ]
    },
    {
     "name": "stdout",
     "output_type": "stream",
     "text": [
      "\n",
      "=== Sample 761/1000 ===\n",
      "RAW TEXT:  ooh, work im afarid  looking forward to a sunny weekeknd tho!!!\n",
      "Predicted RAW: positive\n",
      "CLEANED TEXT: ooh work im afarid looking forward sunny weekeknd tho\n",
      "Predicted CLEAN: positive\n",
      "TRUE SENTIMENT: negative\n"
     ]
    },
    {
     "name": "stderr",
     "output_type": "stream",
     "text": [
      " 76%|███████▌  | 762/1000 [22:32<07:04,  1.78s/it]"
     ]
    },
    {
     "name": "stdout",
     "output_type": "stream",
     "text": [
      "\n",
      "=== Sample 762/1000 ===\n",
      "RAW TEXT: putting 3 new consultants to work this week. it`s a good feeling!  congrats on your offers\n",
      "Predicted RAW: positive\n",
      "CLEANED TEXT: putting 3 new consultant work week good feeling congrats offer\n",
      "Predicted CLEAN: positive\n",
      "TRUE SENTIMENT: positive\n"
     ]
    },
    {
     "name": "stderr",
     "output_type": "stream",
     "text": [
      " 76%|███████▋  | 763/1000 [22:34<06:59,  1.77s/it]"
     ]
    },
    {
     "name": "stdout",
     "output_type": "stream",
     "text": [
      "\n",
      "=== Sample 763/1000 ===\n",
      "RAW TEXT: Just snappy`s delivered some tea and ice cream. I love my sister.\n",
      "Predicted RAW: positive\n",
      "CLEANED TEXT: snappys delivered tea ice cream love sister\n",
      "Predicted CLEAN: positive\n",
      "TRUE SENTIMENT: positive\n"
     ]
    },
    {
     "name": "stderr",
     "output_type": "stream",
     "text": [
      " 76%|███████▋  | 764/1000 [22:36<07:02,  1.79s/it]"
     ]
    },
    {
     "name": "stdout",
     "output_type": "stream",
     "text": [
      "\n",
      "=== Sample 764/1000 ===\n",
      "RAW TEXT: FRIDAY so freakin happy today was an annoying day  buuut WEEKEND! TGIF<3\n",
      "Predicted RAW: positive\n",
      "CLEANED TEXT: friday freakin happy today annoying day buuut weekend tgif3\n",
      "Predicted CLEAN: positive\n",
      "TRUE SENTIMENT: positive\n"
     ]
    },
    {
     "name": "stderr",
     "output_type": "stream",
     "text": [
      " 76%|███████▋  | 765/1000 [22:38<06:58,  1.78s/it]"
     ]
    },
    {
     "name": "stdout",
     "output_type": "stream",
     "text": [
      "\n",
      "=== Sample 765/1000 ===\n",
      "RAW TEXT:  YEP  it`ll be awesome to the max =] haha\n",
      "Predicted RAW: positive\n",
      "CLEANED TEXT: yep itll awesome max haha\n",
      "Predicted CLEAN: positive\n",
      "TRUE SENTIMENT: positive\n"
     ]
    },
    {
     "name": "stderr",
     "output_type": "stream",
     "text": [
      " 77%|███████▋  | 766/1000 [22:39<07:00,  1.80s/it]"
     ]
    },
    {
     "name": "stdout",
     "output_type": "stream",
     "text": [
      "\n",
      "=== Sample 766/1000 ===\n",
      "RAW TEXT: _ Heading off to Poole around 4ish,  has some serious gardening to do before we go, no Tweetdeck til Sunday evening,\n",
      "Predicted RAW: positive\n",
      "CLEANED TEXT: heading poole around 4ish serious gardening go tweetdeck til sunday evening\n",
      "Predicted CLEAN: positive\n",
      "TRUE SENTIMENT: negative\n"
     ]
    },
    {
     "name": "stderr",
     "output_type": "stream",
     "text": [
      " 77%|███████▋  | 767/1000 [22:41<06:54,  1.78s/it]"
     ]
    },
    {
     "name": "stdout",
     "output_type": "stream",
     "text": [
      "\n",
      "=== Sample 767/1000 ===\n",
      "RAW TEXT: too sick for rigging tomorrow.\n",
      "Predicted RAW: negative\n",
      "CLEANED TEXT: sick rigging tomorrow\n",
      "Predicted CLEAN: negative\n",
      "TRUE SENTIMENT: negative\n"
     ]
    },
    {
     "name": "stderr",
     "output_type": "stream",
     "text": [
      " 77%|███████▋  | 768/1000 [22:43<06:50,  1.77s/it]"
     ]
    },
    {
     "name": "stdout",
     "output_type": "stream",
     "text": [
      "\n",
      "=== Sample 768/1000 ===\n",
      "RAW TEXT: Have to go to the dreaded DMV tomorrow\n",
      "Predicted RAW: negative\n",
      "CLEANED TEXT: go dreaded dmv tomorrow\n",
      "Predicted CLEAN: negative\n",
      "TRUE SENTIMENT: negative\n"
     ]
    },
    {
     "name": "stderr",
     "output_type": "stream",
     "text": [
      " 77%|███████▋  | 769/1000 [22:45<06:47,  1.76s/it]"
     ]
    },
    {
     "name": "stdout",
     "output_type": "stream",
     "text": [
      "\n",
      "=== Sample 769/1000 ===\n",
      "RAW TEXT: Is on her way to nottingham! ICOF tonight, then no more gigs umtil download. Fail\n",
      "Predicted RAW: negative\n",
      "CLEANED TEXT: way nottingham icof tonight gig umtil download fail\n",
      "Predicted CLEAN: negative\n",
      "TRUE SENTIMENT: negative\n"
     ]
    },
    {
     "name": "stderr",
     "output_type": "stream",
     "text": [
      " 77%|███████▋  | 770/1000 [22:47<06:52,  1.79s/it]"
     ]
    },
    {
     "name": "stdout",
     "output_type": "stream",
     "text": [
      "\n",
      "=== Sample 770/1000 ===\n",
      "RAW TEXT:  Hey! r u back in La right now?What was ur favorite part bout Europe? I`ve never been out of the country xcept Canada  XO Jenna\n",
      "Predicted RAW: positive\n",
      "CLEANED TEXT: hey r u back la right nowwhat ur favorite part bout europe ive never country xcept canada xo jenna\n",
      "Predicted CLEAN: negative\n",
      "TRUE SENTIMENT: negative\n"
     ]
    },
    {
     "name": "stderr",
     "output_type": "stream",
     "text": [
      " 77%|███████▋  | 771/1000 [22:48<06:46,  1.77s/it]"
     ]
    },
    {
     "name": "stdout",
     "output_type": "stream",
     "text": [
      "\n",
      "=== Sample 771/1000 ===\n",
      "RAW TEXT:  I wish I could have time for my xbox  project all tied\n",
      "Predicted RAW: negative\n",
      "CLEANED TEXT: wish could time xbox project tied\n",
      "Predicted CLEAN: negative\n",
      "TRUE SENTIMENT: positive\n"
     ]
    },
    {
     "name": "stderr",
     "output_type": "stream",
     "text": [
      " 77%|███████▋  | 772/1000 [22:50<06:49,  1.80s/it]"
     ]
    },
    {
     "name": "stdout",
     "output_type": "stream",
     "text": [
      "\n",
      "=== Sample 772/1000 ===\n",
      "RAW TEXT:  Yay I love it when you host Money For Breakfast Jenna Lee  4hrs of you the amazing and so pretty and sexy Jenna Lee yay.\n",
      "Predicted RAW: positive\n",
      "CLEANED TEXT: yay love host money breakfast jenna lee 4hrs amazing pretty sexy jenna lee yay\n",
      "Predicted CLEAN: positive\n",
      "TRUE SENTIMENT: positive\n"
     ]
    },
    {
     "name": "stderr",
     "output_type": "stream",
     "text": [
      " 77%|███████▋  | 773/1000 [22:52<06:45,  1.79s/it]"
     ]
    },
    {
     "name": "stdout",
     "output_type": "stream",
     "text": [
      "\n",
      "=== Sample 773/1000 ===\n",
      "RAW TEXT: Gutted. The kitchen is empty literally EMPTY. No even kidding. I`m so hungry\n",
      "Predicted RAW: negative\n",
      "CLEANED TEXT: gutted kitchen empty literally empty even kidding im hungry\n",
      "Predicted CLEAN: negative\n",
      "TRUE SENTIMENT: negative\n"
     ]
    },
    {
     "name": "stderr",
     "output_type": "stream",
     "text": [
      " 77%|███████▋  | 774/1000 [22:54<06:48,  1.81s/it]"
     ]
    },
    {
     "name": "stdout",
     "output_type": "stream",
     "text": [
      "\n",
      "=== Sample 774/1000 ===\n",
      "RAW TEXT: _jtv WHAT! I was only gone for 30 minutes and you`re already showing boobage without me?\n",
      "Predicted RAW: negative\n",
      "CLEANED TEXT: jtv gone 30 minute youre already showing boobage without\n",
      "Predicted CLEAN: negative\n",
      "TRUE SENTIMENT: negative\n"
     ]
    },
    {
     "name": "stderr",
     "output_type": "stream",
     "text": [
      " 78%|███████▊  | 775/1000 [22:56<06:48,  1.82s/it]"
     ]
    },
    {
     "name": "stdout",
     "output_type": "stream",
     "text": [
      "\n",
      "=== Sample 775/1000 ===\n",
      "RAW TEXT:   I just got through doing my work now I can take the whole day off, its great being your own boss\n",
      "Predicted RAW: positive\n",
      "CLEANED TEXT: got work take whole day great bos\n",
      "Predicted CLEAN: positive\n",
      "TRUE SENTIMENT: positive\n"
     ]
    },
    {
     "name": "stderr",
     "output_type": "stream",
     "text": [
      " 78%|███████▊  | 776/1000 [22:57<06:42,  1.80s/it]"
     ]
    },
    {
     "name": "stdout",
     "output_type": "stream",
     "text": [
      "\n",
      "=== Sample 776/1000 ===\n",
      "RAW TEXT:   poor you lmao, just stick your head out the window!\n",
      "Predicted RAW: negative\n",
      "CLEANED TEXT: poor lmao stick head window\n",
      "Predicted CLEAN: negative\n",
      "TRUE SENTIMENT: negative\n"
     ]
    },
    {
     "name": "stderr",
     "output_type": "stream",
     "text": [
      " 78%|███████▊  | 777/1000 [22:59<06:42,  1.81s/it]"
     ]
    },
    {
     "name": "stdout",
     "output_type": "stream",
     "text": [
      "\n",
      "=== Sample 777/1000 ===\n",
      "RAW TEXT:  etherreal WAS my main preoccupation. Now it`s EtherREAL`s preoccupation... humm... me ? schizophrenic ?\n",
      "Predicted RAW: positive\n",
      "CLEANED TEXT: etherreal main preoccupation etherreals preoccupation humm schizophrenic\n",
      "Predicted CLEAN: negative\n",
      "TRUE SENTIMENT: negative\n"
     ]
    },
    {
     "name": "stderr",
     "output_type": "stream",
     "text": [
      " 78%|███████▊  | 778/1000 [23:01<06:36,  1.79s/it]"
     ]
    },
    {
     "name": "stdout",
     "output_type": "stream",
     "text": [
      "\n",
      "=== Sample 778/1000 ===\n",
      "RAW TEXT:  dohh! is it old? I had never heard it.. I`m so last year..\n",
      "Predicted RAW: negative\n",
      "CLEANED TEXT: dohh old never heard im last year\n",
      "Predicted CLEAN: negative\n",
      "TRUE SENTIMENT: negative\n"
     ]
    },
    {
     "name": "stderr",
     "output_type": "stream",
     "text": [
      " 78%|███████▊  | 779/1000 [23:03<06:37,  1.80s/it]"
     ]
    },
    {
     "name": "stdout",
     "output_type": "stream",
     "text": [
      "\n",
      "=== Sample 779/1000 ===\n",
      "RAW TEXT:  Instrumentalists like to give singers a hard time. But the vocalist`s job is the toughest when he/she is sick.\n",
      "Predicted RAW: positive\n",
      "CLEANED TEXT: instrumentalist like give singer hard time vocalist job toughest heshe sick\n",
      "Predicted CLEAN: negative\n",
      "TRUE SENTIMENT: negative\n"
     ]
    },
    {
     "name": "stderr",
     "output_type": "stream",
     "text": [
      " 78%|███████▊  | 780/1000 [23:04<06:32,  1.79s/it]"
     ]
    },
    {
     "name": "stdout",
     "output_type": "stream",
     "text": [
      "\n",
      "=== Sample 780/1000 ===\n",
      "RAW TEXT: Just got the Nashville IHOP staff to hit the Dougie with me and Mayne. What a **** night\n",
      "Predicted RAW: negative\n",
      "CLEANED TEXT: got nashville ihop staff hit dougie mayne night\n",
      "Predicted CLEAN: positive\n",
      "TRUE SENTIMENT: positive\n"
     ]
    },
    {
     "name": "stderr",
     "output_type": "stream",
     "text": [
      " 78%|███████▊  | 781/1000 [23:06<06:29,  1.78s/it]"
     ]
    },
    {
     "name": "stdout",
     "output_type": "stream",
     "text": [
      "\n",
      "=== Sample 781/1000 ===\n",
      "RAW TEXT: I miss matt today\n",
      "Predicted RAW: negative\n",
      "CLEANED TEXT: miss matt today\n",
      "Predicted CLEAN: negative\n",
      "TRUE SENTIMENT: negative\n"
     ]
    },
    {
     "name": "stderr",
     "output_type": "stream",
     "text": [
      " 78%|███████▊  | 782/1000 [23:08<06:25,  1.77s/it]"
     ]
    },
    {
     "name": "stdout",
     "output_type": "stream",
     "text": [
      "\n",
      "=== Sample 782/1000 ===\n",
      "RAW TEXT: Heading back home with a win!\n",
      "Predicted RAW: positive\n",
      "CLEANED TEXT: heading back home win\n",
      "Predicted CLEAN: positive\n",
      "TRUE SENTIMENT: positive\n"
     ]
    },
    {
     "name": "stderr",
     "output_type": "stream",
     "text": [
      " 78%|███████▊  | 783/1000 [23:10<06:21,  1.76s/it]"
     ]
    },
    {
     "name": "stdout",
     "output_type": "stream",
     "text": [
      "\n",
      "=== Sample 783/1000 ===\n",
      "RAW TEXT: my stomach hurts\n",
      "Predicted RAW: negative\n",
      "CLEANED TEXT: stomach hurt\n",
      "Predicted CLEAN: negative\n",
      "TRUE SENTIMENT: negative\n"
     ]
    },
    {
     "name": "stderr",
     "output_type": "stream",
     "text": [
      " 78%|███████▊  | 784/1000 [23:11<06:17,  1.75s/it]"
     ]
    },
    {
     "name": "stdout",
     "output_type": "stream",
     "text": [
      "\n",
      "=== Sample 784/1000 ===\n",
      "RAW TEXT:  good luck in the pressure test! don`t worry everything will be great\n",
      "Predicted RAW: positive\n",
      "CLEANED TEXT: good luck pressure test dont worry everything great\n",
      "Predicted CLEAN: positive\n",
      "TRUE SENTIMENT: positive\n"
     ]
    },
    {
     "name": "stderr",
     "output_type": "stream",
     "text": [
      " 78%|███████▊  | 785/1000 [23:13<06:15,  1.74s/it]"
     ]
    },
    {
     "name": "stdout",
     "output_type": "stream",
     "text": [
      "\n",
      "=== Sample 785/1000 ===\n",
      "RAW TEXT:  I really wish I could\n",
      "Predicted RAW: negative\n",
      "CLEANED TEXT: really wish could\n",
      "Predicted CLEAN: negative\n",
      "TRUE SENTIMENT: positive\n"
     ]
    },
    {
     "name": "stderr",
     "output_type": "stream",
     "text": [
      " 79%|███████▊  | 786/1000 [23:15<06:20,  1.78s/it]"
     ]
    },
    {
     "name": "stdout",
     "output_type": "stream",
     "text": [
      "\n",
      "=== Sample 786/1000 ===\n",
      "RAW TEXT: I`m very conflicted here.  I really like Mike but I still have feelings for Darrin.  It`s really complicated.  I don`t know what to do.\n",
      "Predicted RAW: negative\n",
      "CLEANED TEXT: im conflicted really like mike still feeling darrin really complicated dont know\n",
      "Predicted CLEAN: positive\n",
      "TRUE SENTIMENT: negative\n"
     ]
    },
    {
     "name": "stderr",
     "output_type": "stream",
     "text": [
      " 79%|███████▊  | 787/1000 [23:17<06:16,  1.77s/it]"
     ]
    },
    {
     "name": "stdout",
     "output_type": "stream",
     "text": [
      "\n",
      "=== Sample 787/1000 ===\n",
      "RAW TEXT:  noticed that yesterday too...i`m actually really happy about that  #StarTrek\n",
      "Predicted RAW: positive\n",
      "CLEANED TEXT: noticed yesterday tooim actually really happy startrek\n",
      "Predicted CLEAN: positive\n",
      "TRUE SENTIMENT: positive\n"
     ]
    },
    {
     "name": "stderr",
     "output_type": "stream",
     "text": [
      " 79%|███████▉  | 788/1000 [23:19<06:18,  1.79s/it]"
     ]
    },
    {
     "name": "stdout",
     "output_type": "stream",
     "text": [
      "\n",
      "=== Sample 788/1000 ===\n",
      "RAW TEXT: Okay so yesterday was good went food shopping, cooked some chicken tacos and bakes some cookies!!!  Now I am back at work.\n",
      "Predicted RAW: positive\n",
      "CLEANED TEXT: okay yesterday good went food shopping cooked chicken taco bakes cooky back work\n",
      "Predicted CLEAN: positive\n",
      "TRUE SENTIMENT: positive\n"
     ]
    },
    {
     "name": "stderr",
     "output_type": "stream",
     "text": [
      " 79%|███████▉  | 789/1000 [23:20<06:14,  1.78s/it]"
     ]
    },
    {
     "name": "stdout",
     "output_type": "stream",
     "text": [
      "\n",
      "=== Sample 789/1000 ===\n",
      "RAW TEXT: Looking at our photo shoot pics...check out our myspace pics to see them...i love them all...\n",
      "Predicted RAW: positive\n",
      "CLEANED TEXT: looking photo shoot picscheck myspace pic see themi love\n",
      "Predicted CLEAN: positive\n",
      "TRUE SENTIMENT: positive\n"
     ]
    },
    {
     "name": "stderr",
     "output_type": "stream",
     "text": [
      " 79%|███████▉  | 790/1000 [23:22<06:16,  1.79s/it]"
     ]
    },
    {
     "name": "stdout",
     "output_type": "stream",
     "text": [
      "\n",
      "=== Sample 790/1000 ===\n",
      "RAW TEXT: little beetle not feeling any love  Searches are bring up zilch, bar 2 peeps that appear funny !!!\n",
      "Predicted RAW: negative\n",
      "CLEANED TEXT: little beetle feeling love search bring zilch bar 2 peep appear funny\n",
      "Predicted CLEAN: positive\n",
      "TRUE SENTIMENT: positive\n"
     ]
    },
    {
     "name": "stderr",
     "output_type": "stream",
     "text": [
      " 79%|███████▉  | 791/1000 [23:24<06:12,  1.78s/it]"
     ]
    },
    {
     "name": "stdout",
     "output_type": "stream",
     "text": [
      "\n",
      "=== Sample 791/1000 ===\n",
      "RAW TEXT:  Thank ye, Vaneta.  Much appreciated\n",
      "Predicted RAW: positive\n",
      "CLEANED TEXT: thank ye vaneta much appreciated\n",
      "Predicted CLEAN: positive\n",
      "TRUE SENTIMENT: positive\n"
     ]
    },
    {
     "name": "stderr",
     "output_type": "stream",
     "text": [
      " 79%|███████▉  | 792/1000 [23:26<06:09,  1.78s/it]"
     ]
    },
    {
     "name": "stdout",
     "output_type": "stream",
     "text": [
      "\n",
      "=== Sample 792/1000 ===\n",
      "RAW TEXT:  LOL Me too. Going out at 12am isn`t as easy as it used to be\n",
      "Predicted RAW: positive\n",
      "CLEANED TEXT: lol going 12am isnt easy used\n",
      "Predicted CLEAN: positive\n",
      "TRUE SENTIMENT: negative\n"
     ]
    },
    {
     "name": "stderr",
     "output_type": "stream",
     "text": [
      " 79%|███████▉  | 793/1000 [23:27<06:06,  1.77s/it]"
     ]
    },
    {
     "name": "stdout",
     "output_type": "stream",
     "text": [
      "\n",
      "=== Sample 793/1000 ===\n",
      "RAW TEXT:  Quite a few. Peacocks and Oceanographer`s Choice are my new favorites to play\n",
      "Predicted RAW: positive\n",
      "CLEANED TEXT: quite peacock oceanographer choice new favorite play\n",
      "Predicted CLEAN: positive\n",
      "TRUE SENTIMENT: positive\n"
     ]
    },
    {
     "name": "stderr",
     "output_type": "stream",
     "text": [
      " 79%|███████▉  | 794/1000 [23:29<06:08,  1.79s/it]"
     ]
    },
    {
     "name": "stdout",
     "output_type": "stream",
     "text": [
      "\n",
      "=== Sample 794/1000 ===\n",
      "RAW TEXT:  yeahhh! u`ve got plenty of great fans!! And in Spain too! u should come and play a gig here!!\n",
      "Predicted RAW: positive\n",
      "CLEANED TEXT: yeahhh uve got plenty great fan spain u come play gig\n",
      "Predicted CLEAN: positive\n",
      "TRUE SENTIMENT: positive\n"
     ]
    },
    {
     "name": "stderr",
     "output_type": "stream",
     "text": [
      " 80%|███████▉  | 795/1000 [23:31<06:03,  1.77s/it]"
     ]
    },
    {
     "name": "stdout",
     "output_type": "stream",
     "text": [
      "\n",
      "=== Sample 795/1000 ===\n",
      "RAW TEXT: ugh! nothing to do in the valley  Seriously gotta move out of here!!!\n",
      "Predicted RAW: negative\n",
      "CLEANED TEXT: ugh nothing valley seriously got ta move\n",
      "Predicted CLEAN: negative\n",
      "TRUE SENTIMENT: negative\n"
     ]
    },
    {
     "name": "stderr",
     "output_type": "stream",
     "text": [
      " 80%|███████▉  | 796/1000 [23:33<06:05,  1.79s/it]"
     ]
    },
    {
     "name": "stdout",
     "output_type": "stream",
     "text": [
      "\n",
      "=== Sample 796/1000 ===\n",
      "RAW TEXT: 28deg C in here, all this tech in my room does have the major downside of a lot of heat, doesn`t help its hot outside 2\n",
      "Predicted RAW: negative\n",
      "CLEANED TEXT: 28deg c tech room major downside lot heat doesnt help hot outside 2\n",
      "Predicted CLEAN: negative\n",
      "TRUE SENTIMENT: negative\n"
     ]
    },
    {
     "name": "stderr",
     "output_type": "stream",
     "text": [
      " 80%|███████▉  | 797/1000 [23:35<06:06,  1.80s/it]"
     ]
    },
    {
     "name": "stdout",
     "output_type": "stream",
     "text": [
      "\n",
      "=== Sample 797/1000 ===\n",
      "RAW TEXT: wow the last hour of twittering that I`ve been doing has yet to be sent over to twitter..  guys bare w me...\n",
      "Predicted RAW: negative\n",
      "CLEANED TEXT: wow last hour twittering ive yet sent twitter guy bare w\n",
      "Predicted CLEAN: negative\n",
      "TRUE SENTIMENT: negative\n"
     ]
    },
    {
     "name": "stderr",
     "output_type": "stream",
     "text": [
      " 80%|███████▉  | 798/1000 [23:37<06:06,  1.81s/it]"
     ]
    },
    {
     "name": "stdout",
     "output_type": "stream",
     "text": [
      "\n",
      "=== Sample 798/1000 ===\n",
      "RAW TEXT: _leigh Thank you,!  Just trying to stay in a positive head space to keep pushing through it all. How`s things at your end?\n",
      "Predicted RAW: positive\n",
      "CLEANED TEXT: leigh thank trying stay positive head space keep pushing hows thing end\n",
      "Predicted CLEAN: positive\n",
      "TRUE SENTIMENT: positive\n"
     ]
    },
    {
     "name": "stderr",
     "output_type": "stream",
     "text": [
      " 80%|███████▉  | 799/1000 [23:38<06:01,  1.80s/it]"
     ]
    },
    {
     "name": "stdout",
     "output_type": "stream",
     "text": [
      "\n",
      "=== Sample 799/1000 ===\n",
      "RAW TEXT: Enjoyed this week off work, back next week\n",
      "Predicted RAW: positive\n",
      "CLEANED TEXT: enjoyed week work back next week\n",
      "Predicted CLEAN: positive\n",
      "TRUE SENTIMENT: positive\n"
     ]
    },
    {
     "name": "stderr",
     "output_type": "stream",
     "text": [
      " 80%|████████  | 800/1000 [23:40<05:56,  1.78s/it]"
     ]
    },
    {
     "name": "stdout",
     "output_type": "stream",
     "text": [
      "\n",
      "=== Sample 800/1000 ===\n",
      "RAW TEXT:  I`m come and try to find you and be your fan too\n",
      "Predicted RAW: positive\n",
      "CLEANED TEXT: im come try find fan\n",
      "Predicted CLEAN: negative\n",
      "TRUE SENTIMENT: positive\n"
     ]
    },
    {
     "name": "stderr",
     "output_type": "stream",
     "text": [
      " 80%|████████  | 801/1000 [23:42<05:58,  1.80s/it]"
     ]
    },
    {
     "name": "stdout",
     "output_type": "stream",
     "text": [
      "\n",
      "=== Sample 801/1000 ===\n",
      "RAW TEXT:  hey i know ya dont know me but i wanted to say yopu have helped me a lot i was over in iraq and i wanted to thank you\n",
      "Predicted RAW: positive\n",
      "CLEANED TEXT: hey know ya dont know wanted say yopu helped lot iraq wanted thank\n",
      "Predicted CLEAN: positive\n",
      "TRUE SENTIMENT: positive\n"
     ]
    },
    {
     "name": "stderr",
     "output_type": "stream",
     "text": [
      " 80%|████████  | 802/1000 [23:44<05:53,  1.78s/it]"
     ]
    },
    {
     "name": "stdout",
     "output_type": "stream",
     "text": [
      "\n",
      "=== Sample 802/1000 ===\n",
      "RAW TEXT: Feeling very tierd! too much college work!!!!!!\n",
      "Predicted RAW: negative\n",
      "CLEANED TEXT: feeling tierd much college work\n",
      "Predicted CLEAN: negative\n",
      "TRUE SENTIMENT: negative\n"
     ]
    },
    {
     "name": "stderr",
     "output_type": "stream",
     "text": [
      " 80%|████████  | 803/1000 [23:46<05:55,  1.81s/it]"
     ]
    },
    {
     "name": "stdout",
     "output_type": "stream",
     "text": [
      "\n",
      "=== Sample 803/1000 ===\n",
      "RAW TEXT: mmm...reconsituted meat products and week-old veggies...gotta love that rehydrated warm milk for breakfast\n",
      "Predicted RAW: negative\n",
      "CLEANED TEXT: mmmreconsituted meat product weekold veggiesgotta love rehydrated warm milk breakfast\n",
      "Predicted CLEAN: positive\n",
      "TRUE SENTIMENT: positive\n"
     ]
    },
    {
     "name": "stderr",
     "output_type": "stream",
     "text": [
      " 80%|████████  | 804/1000 [23:47<05:51,  1.79s/it]"
     ]
    },
    {
     "name": "stdout",
     "output_type": "stream",
     "text": [
      "\n",
      "=== Sample 804/1000 ===\n",
      "RAW TEXT:  oh no  say it aint so\n",
      "Predicted RAW: negative\n",
      "CLEANED TEXT: oh say aint\n",
      "Predicted CLEAN: negative\n",
      "TRUE SENTIMENT: negative\n"
     ]
    },
    {
     "name": "stderr",
     "output_type": "stream",
     "text": [
      " 80%|████████  | 805/1000 [23:49<05:51,  1.80s/it]"
     ]
    },
    {
     "name": "stdout",
     "output_type": "stream",
     "text": [
      "\n",
      "=== Sample 805/1000 ===\n",
      "RAW TEXT: thank god for some overcast and ivory. Trying to get my mom to take me out to lunch egh doesnt look like its gonna work.\n",
      "Predicted RAW: negative\n",
      "CLEANED TEXT: thank god overcast ivory trying get mom take lunch egh doesnt look like gon na work\n",
      "Predicted CLEAN: negative\n",
      "TRUE SENTIMENT: positive\n"
     ]
    },
    {
     "name": "stderr",
     "output_type": "stream",
     "text": [
      " 81%|████████  | 806/1000 [23:51<05:46,  1.79s/it]"
     ]
    },
    {
     "name": "stdout",
     "output_type": "stream",
     "text": [
      "\n",
      "=== Sample 806/1000 ===\n",
      "RAW TEXT:   Cant Thank YOu Enough, WHo is NITIN BETWEEN?\n",
      "Predicted RAW: positive\n",
      "CLEANED TEXT: cant thank enough nitin\n",
      "Predicted CLEAN: positive\n",
      "TRUE SENTIMENT: positive\n"
     ]
    },
    {
     "name": "stderr",
     "output_type": "stream",
     "text": [
      " 81%|████████  | 807/1000 [23:53<05:43,  1.78s/it]"
     ]
    },
    {
     "name": "stdout",
     "output_type": "stream",
     "text": [
      "\n",
      "=== Sample 807/1000 ===\n",
      "RAW TEXT:  well piss on that. I can`t get into their site @ work nor does it come thru on my phone.\n",
      "Predicted RAW: negative\n",
      "CLEANED TEXT: well piss cant get site work come thru phone\n",
      "Predicted CLEAN: negative\n",
      "TRUE SENTIMENT: negative\n"
     ]
    },
    {
     "name": "stderr",
     "output_type": "stream",
     "text": [
      " 81%|████████  | 808/1000 [23:54<05:41,  1.78s/it]"
     ]
    },
    {
     "name": "stdout",
     "output_type": "stream",
     "text": [
      "\n",
      "=== Sample 808/1000 ===\n",
      "RAW TEXT: http://twitpic.com/670ar - this is post guitar hero **** kicking\n",
      "Predicted RAW: negative\n",
      "CLEANED TEXT: post guitar hero kicking\n",
      "Predicted CLEAN: negative\n",
      "TRUE SENTIMENT: negative\n"
     ]
    },
    {
     "name": "stderr",
     "output_type": "stream",
     "text": [
      " 81%|████████  | 809/1000 [23:56<05:38,  1.77s/it]"
     ]
    },
    {
     "name": "stdout",
     "output_type": "stream",
     "text": [
      "\n",
      "=== Sample 809/1000 ===\n",
      "RAW TEXT:  i dont like #kde since ver. 4.0 its like vista  #fail\n",
      "Predicted RAW: negative\n",
      "CLEANED TEXT: dont like kde since ver 40 like vista fail\n",
      "Predicted CLEAN: negative\n",
      "TRUE SENTIMENT: negative\n"
     ]
    },
    {
     "name": "stderr",
     "output_type": "stream",
     "text": [
      " 81%|████████  | 810/1000 [23:58<05:35,  1.76s/it]"
     ]
    },
    {
     "name": "stdout",
     "output_type": "stream",
     "text": [
      "\n",
      "=== Sample 810/1000 ===\n",
      "RAW TEXT: I need some motivation in my life, oh and some love would be nice too\n",
      "Predicted RAW: positive\n",
      "CLEANED TEXT: need motivation life oh love would nice\n",
      "Predicted CLEAN: positive\n",
      "TRUE SENTIMENT: positive\n"
     ]
    },
    {
     "name": "stderr",
     "output_type": "stream",
     "text": [
      " 81%|████████  | 811/1000 [24:00<05:31,  1.76s/it]"
     ]
    },
    {
     "name": "stdout",
     "output_type": "stream",
     "text": [
      "\n",
      "=== Sample 811/1000 ===\n",
      "RAW TEXT:  welcome\n",
      "Predicted RAW: positive\n",
      "CLEANED TEXT: welcome\n",
      "Predicted CLEAN: positive\n",
      "TRUE SENTIMENT: positive\n"
     ]
    },
    {
     "name": "stderr",
     "output_type": "stream",
     "text": [
      " 81%|████████  | 812/1000 [24:01<05:34,  1.78s/it]"
     ]
    },
    {
     "name": "stdout",
     "output_type": "stream",
     "text": [
      "\n",
      "=== Sample 812/1000 ===\n",
      "RAW TEXT: I can`t wait to start my weekend. I`m so sick of working, I have to self-medicate, and I`m fresh out of herb\n",
      "Predicted RAW: negative\n",
      "CLEANED TEXT: cant wait start weekend im sick working selfmedicate im fresh herb\n",
      "Predicted CLEAN: positive\n",
      "TRUE SENTIMENT: negative\n"
     ]
    },
    {
     "name": "stderr",
     "output_type": "stream",
     "text": [
      " 81%|████████▏ | 813/1000 [24:03<05:30,  1.77s/it]"
     ]
    },
    {
     "name": "stdout",
     "output_type": "stream",
     "text": [
      "\n",
      "=== Sample 813/1000 ===\n",
      "RAW TEXT: _Itx no credits for me unfortunately!\n",
      "Predicted RAW: negative\n",
      "CLEANED TEXT: itx credit unfortunately\n",
      "Predicted CLEAN: negative\n",
      "TRUE SENTIMENT: negative\n"
     ]
    },
    {
     "name": "stderr",
     "output_type": "stream",
     "text": [
      " 81%|████████▏ | 814/1000 [24:05<05:34,  1.80s/it]"
     ]
    },
    {
     "name": "stdout",
     "output_type": "stream",
     "text": [
      "\n",
      "=== Sample 814/1000 ===\n",
      "RAW TEXT:  It`s ugly and gray outside even in San Diego. Not too cold, will get to 70, but May-gray June-gloom for us all\n",
      "Predicted RAW: negative\n",
      "CLEANED TEXT: ugly gray outside even san diego cold get 70 maygray junegloom u\n",
      "Predicted CLEAN: negative\n",
      "TRUE SENTIMENT: negative\n"
     ]
    },
    {
     "name": "stderr",
     "output_type": "stream",
     "text": [
      " 82%|████████▏ | 815/1000 [24:07<05:30,  1.78s/it]"
     ]
    },
    {
     "name": "stdout",
     "output_type": "stream",
     "text": [
      "\n",
      "=== Sample 815/1000 ===\n",
      "RAW TEXT: cookies are good\n",
      "Predicted RAW: positive\n",
      "CLEANED TEXT: cooky good\n",
      "Predicted CLEAN: positive\n",
      "TRUE SENTIMENT: positive\n"
     ]
    },
    {
     "name": "stderr",
     "output_type": "stream",
     "text": [
      " 82%|████████▏ | 816/1000 [24:09<05:32,  1.81s/it]"
     ]
    },
    {
     "name": "stdout",
     "output_type": "stream",
     "text": [
      "\n",
      "=== Sample 816/1000 ===\n",
      "RAW TEXT:  He loved it, so Happy Birthday!!!   He said you sounded like a mixture of John Lennon, Chrissie Hynde, and Janis Joplin.\n",
      "Predicted RAW: positive\n",
      "CLEANED TEXT: loved happy birthday said sounded like mixture john lennon chrissie hynde janis joplin\n",
      "Predicted CLEAN: positive\n",
      "TRUE SENTIMENT: positive\n"
     ]
    },
    {
     "name": "stderr",
     "output_type": "stream",
     "text": [
      " 82%|████████▏ | 817/1000 [24:10<05:28,  1.79s/it]"
     ]
    },
    {
     "name": "stdout",
     "output_type": "stream",
     "text": [
      "\n",
      "=== Sample 817/1000 ===\n",
      "RAW TEXT: _griffiths There was a good atmos. I decided to stay til closing, very funny!\n",
      "Predicted RAW: positive\n",
      "CLEANED TEXT: griffith good atmos decided stay til closing funny\n",
      "Predicted CLEAN: positive\n",
      "TRUE SENTIMENT: positive\n"
     ]
    },
    {
     "name": "stderr",
     "output_type": "stream",
     "text": [
      " 82%|████████▏ | 818/1000 [24:12<05:24,  1.78s/it]"
     ]
    },
    {
     "name": "stdout",
     "output_type": "stream",
     "text": [
      "\n",
      "=== Sample 818/1000 ===\n",
      "RAW TEXT:   supporting superfly all the way\n",
      "Predicted RAW: positive\n",
      "CLEANED TEXT: supporting superfly way\n",
      "Predicted CLEAN: positive\n",
      "TRUE SENTIMENT: positive\n"
     ]
    },
    {
     "name": "stderr",
     "output_type": "stream",
     "text": [
      " 82%|████████▏ | 819/1000 [24:14<05:25,  1.80s/it]"
     ]
    },
    {
     "name": "stdout",
     "output_type": "stream",
     "text": [
      "\n",
      "=== Sample 819/1000 ===\n",
      "RAW TEXT:  I would lime them. Or lemon?  And deal, sounds fabulous to me!  Text me up when you`re back\n",
      "Predicted RAW: positive\n",
      "CLEANED TEXT: would lime lemon deal sound fabulous text youre back\n",
      "Predicted CLEAN: positive\n",
      "TRUE SENTIMENT: positive\n"
     ]
    },
    {
     "name": "stderr",
     "output_type": "stream",
     "text": [
      " 82%|████████▏ | 820/1000 [24:16<05:20,  1.78s/it]"
     ]
    },
    {
     "name": "stdout",
     "output_type": "stream",
     "text": [
      "\n",
      "=== Sample 820/1000 ===\n",
      "RAW TEXT: Why don`t you make me feel like you used to\n",
      "Predicted RAW: negative\n",
      "CLEANED TEXT: dont make feel like used\n",
      "Predicted CLEAN: negative\n",
      "TRUE SENTIMENT: negative\n"
     ]
    },
    {
     "name": "stderr",
     "output_type": "stream",
     "text": [
      " 82%|████████▏ | 821/1000 [24:18<05:16,  1.77s/it]"
     ]
    },
    {
     "name": "stdout",
     "output_type": "stream",
     "text": [
      "\n",
      "=== Sample 821/1000 ===\n",
      "RAW TEXT:  unfortunately I didn`t leave the house in time\n",
      "Predicted RAW: negative\n",
      "CLEANED TEXT: unfortunately didnt leave house time\n",
      "Predicted CLEAN: negative\n",
      "TRUE SENTIMENT: negative\n"
     ]
    },
    {
     "name": "stderr",
     "output_type": "stream",
     "text": [
      " 82%|████████▏ | 822/1000 [24:19<05:13,  1.76s/it]"
     ]
    },
    {
     "name": "stdout",
     "output_type": "stream",
     "text": [
      "\n",
      "=== Sample 822/1000 ===\n",
      "RAW TEXT: when da heck will the garage man get here I ask you.. WHEN..\n",
      "Predicted RAW: negative\n",
      "CLEANED TEXT: da heck garage man get ask\n",
      "Predicted CLEAN: negative\n",
      "TRUE SENTIMENT: negative\n"
     ]
    },
    {
     "name": "stderr",
     "output_type": "stream",
     "text": [
      " 82%|████████▏ | 823/1000 [24:21<05:11,  1.76s/it]"
     ]
    },
    {
     "name": "stdout",
     "output_type": "stream",
     "text": [
      "\n",
      "=== Sample 823/1000 ===\n",
      "RAW TEXT: Hey, hey, happy mother`s day!  http://plurk.com/p/svwii\n",
      "Predicted RAW: positive\n",
      "CLEANED TEXT: hey hey happy mother day\n",
      "Predicted CLEAN: positive\n",
      "TRUE SENTIMENT: positive\n"
     ]
    },
    {
     "name": "stderr",
     "output_type": "stream",
     "text": [
      " 82%|████████▏ | 824/1000 [24:23<05:09,  1.76s/it]"
     ]
    },
    {
     "name": "stdout",
     "output_type": "stream",
     "text": [
      "\n",
      "=== Sample 824/1000 ===\n",
      "RAW TEXT: _alfradique No fun   Well hopefully you don`t have much more to go...\n",
      "Predicted RAW: negative\n",
      "CLEANED TEXT: alfradique fun well hopefully dont much go\n",
      "Predicted CLEAN: negative\n",
      "TRUE SENTIMENT: positive\n"
     ]
    },
    {
     "name": "stderr",
     "output_type": "stream",
     "text": [
      " 82%|████████▎ | 825/1000 [24:25<05:07,  1.76s/it]"
     ]
    },
    {
     "name": "stdout",
     "output_type": "stream",
     "text": [
      "\n",
      "=== Sample 825/1000 ===\n",
      "RAW TEXT: mothers day...love you madre   chels tonight. cant wait for her to see her present!\n",
      "Predicted RAW: positive\n",
      "CLEANED TEXT: mother daylove madre chels tonight cant wait see present\n",
      "Predicted CLEAN: positive\n",
      "TRUE SENTIMENT: positive\n"
     ]
    },
    {
     "name": "stderr",
     "output_type": "stream",
     "text": [
      " 83%|████████▎ | 826/1000 [24:26<05:05,  1.76s/it]"
     ]
    },
    {
     "name": "stdout",
     "output_type": "stream",
     "text": [
      "\n",
      "=== Sample 826/1000 ===\n",
      "RAW TEXT: Conference call with HP.  They gave me an invalid pass code so I can`t attend\n",
      "Predicted RAW: negative\n",
      "CLEANED TEXT: conference call hp gave invalid pas code cant attend\n",
      "Predicted CLEAN: negative\n",
      "TRUE SENTIMENT: negative\n"
     ]
    },
    {
     "name": "stderr",
     "output_type": "stream",
     "text": [
      " 83%|████████▎ | 827/1000 [24:28<05:08,  1.78s/it]"
     ]
    },
    {
     "name": "stdout",
     "output_type": "stream",
     "text": [
      "\n",
      "=== Sample 827/1000 ===\n",
      "RAW TEXT:  FUZE was giving away capes at Komen`s Race for the Cure today! And I`d always love a hug from you hun!\n",
      "Predicted RAW: positive\n",
      "CLEANED TEXT: fuze giving away cape komens race cure today id always love hug hun\n",
      "Predicted CLEAN: positive\n",
      "TRUE SENTIMENT: positive\n"
     ]
    },
    {
     "name": "stderr",
     "output_type": "stream",
     "text": [
      " 83%|████████▎ | 828/1000 [24:30<05:08,  1.80s/it]"
     ]
    },
    {
     "name": "stdout",
     "output_type": "stream",
     "text": [
      "\n",
      "=== Sample 828/1000 ===\n",
      "RAW TEXT: The lab informs me the logic board is dead as well. It is farking expensive to replace. I don`t know what to do.  #MyPowerBookG4RIP\n",
      "Predicted RAW: negative\n",
      "CLEANED TEXT: lab informs logic board dead well farking expensive replace dont know mypowerbookg4rip\n",
      "Predicted CLEAN: negative\n",
      "TRUE SENTIMENT: negative\n"
     ]
    },
    {
     "name": "stderr",
     "output_type": "stream",
     "text": [
      " 83%|████████▎ | 829/1000 [24:32<05:04,  1.78s/it]"
     ]
    },
    {
     "name": "stdout",
     "output_type": "stream",
     "text": [
      "\n",
      "=== Sample 829/1000 ===\n",
      "RAW TEXT: We just hit 10000 views on myspace! Thanks everyone!\n",
      "Predicted RAW: positive\n",
      "CLEANED TEXT: hit 10000 view myspace thanks everyone\n",
      "Predicted CLEAN: positive\n",
      "TRUE SENTIMENT: positive\n"
     ]
    },
    {
     "name": "stderr",
     "output_type": "stream",
     "text": [
      " 83%|████████▎ | 830/1000 [24:33<05:00,  1.77s/it]"
     ]
    },
    {
     "name": "stdout",
     "output_type": "stream",
     "text": [
      "\n",
      "=== Sample 830/1000 ===\n",
      "RAW TEXT: I`m not ready for my baby to be 3 tomorrow  she is growing so fast....\n",
      "Predicted RAW: positive\n",
      "CLEANED TEXT: im ready baby 3 tomorrow growing fast\n",
      "Predicted CLEAN: positive\n",
      "TRUE SENTIMENT: positive\n"
     ]
    },
    {
     "name": "stderr",
     "output_type": "stream",
     "text": [
      " 83%|████████▎ | 831/1000 [24:35<04:58,  1.77s/it]"
     ]
    },
    {
     "name": "stdout",
     "output_type": "stream",
     "text": [
      "\n",
      "=== Sample 831/1000 ===\n",
      "RAW TEXT: lao mein and spanikopita HAHA you would have to be here to know\n",
      "Predicted RAW: positive\n",
      "CLEANED TEXT: lao mein spanikopita haha would know\n",
      "Predicted CLEAN: positive\n",
      "TRUE SENTIMENT: positive\n"
     ]
    },
    {
     "name": "stderr",
     "output_type": "stream",
     "text": [
      " 83%|████████▎ | 832/1000 [24:37<04:55,  1.76s/it]"
     ]
    },
    {
     "name": "stdout",
     "output_type": "stream",
     "text": [
      "\n",
      "=== Sample 832/1000 ===\n",
      "RAW TEXT:  PS: Wish I were coming tonight.\n",
      "Predicted RAW: negative\n",
      "CLEANED TEXT: p wish coming tonight\n",
      "Predicted CLEAN: positive\n",
      "TRUE SENTIMENT: negative\n"
     ]
    },
    {
     "name": "stderr",
     "output_type": "stream",
     "text": [
      " 83%|████████▎ | 833/1000 [24:39<04:57,  1.78s/it]"
     ]
    },
    {
     "name": "stdout",
     "output_type": "stream",
     "text": [
      "\n",
      "=== Sample 833/1000 ===\n",
      "RAW TEXT: i hate feeling like this about him  i need a break away from everyone... as soon as exams are over i`m defo off to portsmouth for a bit\n",
      "Predicted RAW: negative\n",
      "CLEANED TEXT: hate feeling like need break away everyone soon exam im defo portsmouth bit\n",
      "Predicted CLEAN: negative\n",
      "TRUE SENTIMENT: negative\n"
     ]
    },
    {
     "name": "stderr",
     "output_type": "stream",
     "text": [
      " 83%|████████▎ | 834/1000 [24:41<04:54,  1.77s/it]"
     ]
    },
    {
     "name": "stdout",
     "output_type": "stream",
     "text": [
      "\n",
      "=== Sample 834/1000 ===\n",
      "RAW TEXT: goodmorning everyone\n",
      "Predicted RAW: positive\n",
      "CLEANED TEXT: goodmorning everyone\n",
      "Predicted CLEAN: positive\n",
      "TRUE SENTIMENT: positive\n"
     ]
    },
    {
     "name": "stderr",
     "output_type": "stream",
     "text": [
      " 84%|████████▎ | 835/1000 [24:42<04:51,  1.76s/it]"
     ]
    },
    {
     "name": "stdout",
     "output_type": "stream",
     "text": [
      "\n",
      "=== Sample 835/1000 ===\n",
      "RAW TEXT:  what did you think of the finale?  I thought it was kind of a cheap way out\n",
      "Predicted RAW: negative\n",
      "CLEANED TEXT: think finale thought kind cheap way\n",
      "Predicted CLEAN: negative\n",
      "TRUE SENTIMENT: negative\n"
     ]
    },
    {
     "name": "stderr",
     "output_type": "stream",
     "text": [
      " 84%|████████▎ | 836/1000 [24:44<04:49,  1.76s/it]"
     ]
    },
    {
     "name": "stdout",
     "output_type": "stream",
     "text": [
      "\n",
      "=== Sample 836/1000 ===\n",
      "RAW TEXT: Long day of dancin, travelin, and celebrating life  happy mothers day!!\n",
      "Predicted RAW: positive\n",
      "CLEANED TEXT: long day dancin travelin celebrating life happy mother day\n",
      "Predicted CLEAN: positive\n",
      "TRUE SENTIMENT: positive\n"
     ]
    },
    {
     "name": "stderr",
     "output_type": "stream",
     "text": [
      " 84%|████████▎ | 837/1000 [24:46<04:48,  1.77s/it]"
     ]
    },
    {
     "name": "stdout",
     "output_type": "stream",
     "text": [
      "\n",
      "=== Sample 837/1000 ===\n",
      "RAW TEXT: Why am I always the one on time. They are always late. I wanna sleep. I miss Mere.\n",
      "Predicted RAW: negative\n",
      "CLEANED TEXT: always one time always late wan na sleep miss mere\n",
      "Predicted CLEAN: negative\n",
      "TRUE SENTIMENT: negative\n"
     ]
    },
    {
     "name": "stderr",
     "output_type": "stream",
     "text": [
      " 84%|████████▍ | 838/1000 [24:48<04:46,  1.77s/it]"
     ]
    },
    {
     "name": "stdout",
     "output_type": "stream",
     "text": [
      "\n",
      "=== Sample 838/1000 ===\n",
      "RAW TEXT:  I want an invite - sick of seeing all these links for people playing and being left out\n",
      "Predicted RAW: negative\n",
      "CLEANED TEXT: want invite sick seeing link people playing left\n",
      "Predicted CLEAN: negative\n",
      "TRUE SENTIMENT: negative\n"
     ]
    },
    {
     "name": "stderr",
     "output_type": "stream",
     "text": [
      " 84%|████████▍ | 839/1000 [24:49<04:43,  1.76s/it]"
     ]
    },
    {
     "name": "stdout",
     "output_type": "stream",
     "text": [
      "\n",
      "=== Sample 839/1000 ===\n",
      "RAW TEXT: I miss my puppy\n",
      "Predicted RAW: positive\n",
      "CLEANED TEXT: miss puppy\n",
      "Predicted CLEAN: positive\n",
      "TRUE SENTIMENT: negative\n"
     ]
    },
    {
     "name": "stderr",
     "output_type": "stream",
     "text": [
      " 84%|████████▍ | 840/1000 [24:51<04:45,  1.79s/it]"
     ]
    },
    {
     "name": "stdout",
     "output_type": "stream",
     "text": [
      "\n",
      "=== Sample 840/1000 ===\n",
      "RAW TEXT: in San Jose.   having good time w/ bros.  Also helped dad edit next  Holy Land brochure. wish I could go!\n",
      "Predicted RAW: positive\n",
      "CLEANED TEXT: san jose good time w bros also helped dad edit next holy land brochure wish could go\n",
      "Predicted CLEAN: positive\n",
      "TRUE SENTIMENT: positive\n"
     ]
    },
    {
     "name": "stderr",
     "output_type": "stream",
     "text": [
      " 84%|████████▍ | 841/1000 [24:53<04:42,  1.77s/it]"
     ]
    },
    {
     "name": "stdout",
     "output_type": "stream",
     "text": [
      "\n",
      "=== Sample 841/1000 ===\n",
      "RAW TEXT:  how`s the fam? Well I hope.\n",
      "Predicted RAW: positive\n",
      "CLEANED TEXT: hows fam well hope\n",
      "Predicted CLEAN: negative\n",
      "TRUE SENTIMENT: positive\n"
     ]
    },
    {
     "name": "stderr",
     "output_type": "stream",
     "text": [
      " 84%|████████▍ | 842/1000 [24:55<04:44,  1.80s/it]"
     ]
    },
    {
     "name": "stdout",
     "output_type": "stream",
     "text": [
      "\n",
      "=== Sample 842/1000 ===\n",
      "RAW TEXT: >>Why did the Blonde Keep failing her drivers license test-------->>>>>Everytime they stopped, she jumped in the back seat.\n",
      "Predicted RAW: negative\n",
      "CLEANED TEXT: blonde keep failing driver license testeverytime stopped jumped back seat\n",
      "Predicted CLEAN: negative\n",
      "TRUE SENTIMENT: negative\n"
     ]
    },
    {
     "name": "stderr",
     "output_type": "stream",
     "text": [
      " 84%|████████▍ | 843/1000 [24:57<04:40,  1.79s/it]"
     ]
    },
    {
     "name": "stdout",
     "output_type": "stream",
     "text": [
      "\n",
      "=== Sample 843/1000 ===\n",
      "RAW TEXT:  Come to Rochester with me and Nikki. Beer and a Hog Roast always helps.\n",
      "Predicted RAW: positive\n",
      "CLEANED TEXT: come rochester nikki beer hog roast always help\n",
      "Predicted CLEAN: positive\n",
      "TRUE SENTIMENT: positive\n"
     ]
    },
    {
     "name": "stderr",
     "output_type": "stream",
     "text": [
      " 84%|████████▍ | 844/1000 [24:58<04:36,  1.77s/it]"
     ]
    },
    {
     "name": "stdout",
     "output_type": "stream",
     "text": [
      "\n",
      "=== Sample 844/1000 ===\n",
      "RAW TEXT:   Thank you!\n",
      "Predicted RAW: positive\n",
      "CLEANED TEXT: thank\n",
      "Predicted CLEAN: positive\n",
      "TRUE SENTIMENT: positive\n"
     ]
    },
    {
     "name": "stderr",
     "output_type": "stream",
     "text": [
      " 84%|████████▍ | 845/1000 [25:00<04:33,  1.77s/it]"
     ]
    },
    {
     "name": "stdout",
     "output_type": "stream",
     "text": [
      "\n",
      "=== Sample 845/1000 ===\n",
      "RAW TEXT: He put a **** mohawk in my son head.....he just killed my vibe as always\n",
      "Predicted RAW: negative\n",
      "CLEANED TEXT: put mohawk son headhe killed vibe always\n",
      "Predicted CLEAN: negative\n",
      "TRUE SENTIMENT: negative\n"
     ]
    },
    {
     "name": "stderr",
     "output_type": "stream",
     "text": [
      " 85%|████████▍ | 846/1000 [25:02<04:30,  1.76s/it]"
     ]
    },
    {
     "name": "stdout",
     "output_type": "stream",
     "text": [
      "\n",
      "=== Sample 846/1000 ===\n",
      "RAW TEXT: Well, she`s getting through.\n",
      "Predicted RAW: positive\n",
      "CLEANED TEXT: well shes getting\n",
      "Predicted CLEAN: negative\n",
      "TRUE SENTIMENT: positive\n"
     ]
    },
    {
     "name": "stderr",
     "output_type": "stream",
     "text": [
      " 85%|████████▍ | 847/1000 [25:04<04:32,  1.78s/it]"
     ]
    },
    {
     "name": "stdout",
     "output_type": "stream",
     "text": [
      "\n",
      "=== Sample 847/1000 ===\n",
      "RAW TEXT: No kickboxing classes today  pretty bummed. Still going to work out hard. http://myloc.me/1ZT0\n",
      "Predicted RAW: negative\n",
      "CLEANED TEXT: kickboxing class today pretty bummed still going work hard\n",
      "Predicted CLEAN: negative\n",
      "TRUE SENTIMENT: negative\n"
     ]
    },
    {
     "name": "stderr",
     "output_type": "stream",
     "text": [
      " 85%|████████▍ | 848/1000 [25:05<04:29,  1.77s/it]"
     ]
    },
    {
     "name": "stdout",
     "output_type": "stream",
     "text": [
      "\n",
      "=== Sample 848/1000 ===\n",
      "RAW TEXT: all alone for the weekend!\n",
      "Predicted RAW: negative\n",
      "CLEANED TEXT: alone weekend\n",
      "Predicted CLEAN: negative\n",
      "TRUE SENTIMENT: negative\n"
     ]
    },
    {
     "name": "stderr",
     "output_type": "stream",
     "text": [
      " 85%|████████▍ | 849/1000 [25:07<04:31,  1.80s/it]"
     ]
    },
    {
     "name": "stdout",
     "output_type": "stream",
     "text": [
      "\n",
      "=== Sample 849/1000 ===\n",
      "RAW TEXT: Poor dead Josh.  http://bit.ly/JKpHn  Please leave your messages of condolences there.  #boy #rip\n",
      "Predicted RAW: negative\n",
      "CLEANED TEXT: poor dead josh please leave message condolence boy rip\n",
      "Predicted CLEAN: negative\n",
      "TRUE SENTIMENT: negative\n"
     ]
    },
    {
     "name": "stderr",
     "output_type": "stream",
     "text": [
      " 85%|████████▌ | 850/1000 [25:09<04:31,  1.81s/it]"
     ]
    },
    {
     "name": "stdout",
     "output_type": "stream",
     "text": [
      "\n",
      "=== Sample 850/1000 ===\n",
      "RAW TEXT: watching the rain and reminiscing about the time when everytime it rained I was with the love of my life.\n",
      "Predicted RAW: positive\n",
      "CLEANED TEXT: watching rain reminiscing time everytime rained love life\n",
      "Predicted CLEAN: positive\n",
      "TRUE SENTIMENT: positive\n"
     ]
    },
    {
     "name": "stderr",
     "output_type": "stream",
     "text": [
      " 85%|████████▌ | 851/1000 [25:11<04:31,  1.82s/it]"
     ]
    },
    {
     "name": "stdout",
     "output_type": "stream",
     "text": [
      "\n",
      "=== Sample 851/1000 ===\n",
      "RAW TEXT: This is how much hair falls off everytime I shower. It`s more sad than disgusting  http://yfrog.com/6p190aj\n",
      "Predicted RAW: negative\n",
      "CLEANED TEXT: much hair fall everytime shower sad disgusting\n",
      "Predicted CLEAN: negative\n",
      "TRUE SENTIMENT: negative\n"
     ]
    },
    {
     "name": "stderr",
     "output_type": "stream",
     "text": [
      " 85%|████████▌ | 852/1000 [25:13<04:25,  1.79s/it]"
     ]
    },
    {
     "name": "stdout",
     "output_type": "stream",
     "text": [
      "\n",
      "=== Sample 852/1000 ===\n",
      "RAW TEXT: pff, Life sucks sometimes!\n",
      "Predicted RAW: negative\n",
      "CLEANED TEXT: pff life suck sometimes\n",
      "Predicted CLEAN: negative\n",
      "TRUE SENTIMENT: negative\n"
     ]
    },
    {
     "name": "stderr",
     "output_type": "stream",
     "text": [
      " 85%|████████▌ | 853/1000 [25:14<04:21,  1.78s/it]"
     ]
    },
    {
     "name": "stdout",
     "output_type": "stream",
     "text": [
      "\n",
      "=== Sample 853/1000 ===\n",
      "RAW TEXT: Wish I had a laptop charger so I could tweet faster\n",
      "Predicted RAW: negative\n",
      "CLEANED TEXT: wish laptop charger could tweet faster\n",
      "Predicted CLEAN: negative\n",
      "TRUE SENTIMENT: negative\n"
     ]
    },
    {
     "name": "stderr",
     "output_type": "stream",
     "text": [
      " 85%|████████▌ | 854/1000 [25:16<04:18,  1.77s/it]"
     ]
    },
    {
     "name": "stdout",
     "output_type": "stream",
     "text": [
      "\n",
      "=== Sample 854/1000 ===\n",
      "RAW TEXT: Waaah, asshat at CVS yesterday shortchanged me  I paid 10$ for chips.\n",
      "Predicted RAW: negative\n",
      "CLEANED TEXT: waaah asshat cv yesterday shortchanged paid 10 chip\n",
      "Predicted CLEAN: negative\n",
      "TRUE SENTIMENT: negative\n"
     ]
    },
    {
     "name": "stderr",
     "output_type": "stream",
     "text": [
      " 86%|████████▌ | 855/1000 [25:18<04:18,  1.78s/it]"
     ]
    },
    {
     "name": "stdout",
     "output_type": "stream",
     "text": [
      "\n",
      "=== Sample 855/1000 ===\n",
      "RAW TEXT:  Happy Mom`s Day!  Here in Spain it was last Sunday!! Any hint of when the first single will be out on radio? LYM!!  Mini\n",
      "Predicted RAW: positive\n",
      "CLEANED TEXT: happy mom day spain last sunday hint first single radio lym mini\n",
      "Predicted CLEAN: positive\n",
      "TRUE SENTIMENT: positive\n"
     ]
    },
    {
     "name": "stderr",
     "output_type": "stream",
     "text": [
      " 86%|████████▌ | 856/1000 [25:20<04:16,  1.78s/it]"
     ]
    },
    {
     "name": "stdout",
     "output_type": "stream",
     "text": [
      "\n",
      "=== Sample 856/1000 ===\n",
      "RAW TEXT:  not sexy with 2 tubes sticking out of my stomach  but thanks !\n",
      "Predicted RAW: negative\n",
      "CLEANED TEXT: sexy 2 tube sticking stomach thanks\n",
      "Predicted CLEAN: negative\n",
      "TRUE SENTIMENT: positive\n"
     ]
    },
    {
     "name": "stderr",
     "output_type": "stream",
     "text": [
      " 86%|████████▌ | 857/1000 [25:21<04:12,  1.77s/it]"
     ]
    },
    {
     "name": "stdout",
     "output_type": "stream",
     "text": [
      "\n",
      "=== Sample 857/1000 ===\n",
      "RAW TEXT: listening to David Archuleta album it`s amazing\n",
      "Predicted RAW: positive\n",
      "CLEANED TEXT: listening david archuleta album amazing\n",
      "Predicted CLEAN: positive\n",
      "TRUE SENTIMENT: positive\n"
     ]
    },
    {
     "name": "stderr",
     "output_type": "stream",
     "text": [
      " 86%|████████▌ | 858/1000 [25:23<04:09,  1.76s/it]"
     ]
    },
    {
     "name": "stdout",
     "output_type": "stream",
     "text": [
      "\n",
      "=== Sample 858/1000 ===\n",
      "RAW TEXT:  aww...thats a bummer\n",
      "Predicted RAW: negative\n",
      "CLEANED TEXT: awwthats bummer\n",
      "Predicted CLEAN: negative\n",
      "TRUE SENTIMENT: negative\n"
     ]
    },
    {
     "name": "stderr",
     "output_type": "stream",
     "text": [
      " 86%|████████▌ | 859/1000 [25:25<04:08,  1.76s/it]"
     ]
    },
    {
     "name": "stdout",
     "output_type": "stream",
     "text": [
      "\n",
      "=== Sample 859/1000 ===\n",
      "RAW TEXT: I dont wanna im to spanish today\n",
      "Predicted RAW: negative\n",
      "CLEANED TEXT: dont wan na im spanish today\n",
      "Predicted CLEAN: negative\n",
      "TRUE SENTIMENT: negative\n"
     ]
    },
    {
     "name": "stderr",
     "output_type": "stream",
     "text": [
      " 86%|████████▌ | 860/1000 [25:27<04:06,  1.76s/it]"
     ]
    },
    {
     "name": "stdout",
     "output_type": "stream",
     "text": [
      "\n",
      "=== Sample 860/1000 ===\n",
      "RAW TEXT: yep, good morning to you all  or night or evening or whatever xD\n",
      "Predicted RAW: positive\n",
      "CLEANED TEXT: yep good morning night evening whatever xd\n",
      "Predicted CLEAN: positive\n",
      "TRUE SENTIMENT: positive\n"
     ]
    },
    {
     "name": "stderr",
     "output_type": "stream",
     "text": [
      " 86%|████████▌ | 861/1000 [25:28<04:04,  1.76s/it]"
     ]
    },
    {
     "name": "stdout",
     "output_type": "stream",
     "text": [
      "\n",
      "=== Sample 861/1000 ===\n",
      "RAW TEXT: WORKK! yay\n",
      "Predicted RAW: positive\n",
      "CLEANED TEXT: workk yay\n",
      "Predicted CLEAN: positive\n",
      "TRUE SENTIMENT: positive\n"
     ]
    },
    {
     "name": "stderr",
     "output_type": "stream",
     "text": [
      " 86%|████████▌ | 862/1000 [25:30<04:02,  1.76s/it]"
     ]
    },
    {
     "name": "stdout",
     "output_type": "stream",
     "text": [
      "\n",
      "=== Sample 862/1000 ===\n",
      "RAW TEXT:  Aww, thank you Soulmate! Haha.\n",
      "Predicted RAW: positive\n",
      "CLEANED TEXT: aww thank soulmate haha\n",
      "Predicted CLEAN: positive\n",
      "TRUE SENTIMENT: positive\n"
     ]
    },
    {
     "name": "stderr",
     "output_type": "stream",
     "text": [
      " 86%|████████▋ | 863/1000 [25:32<04:04,  1.78s/it]"
     ]
    },
    {
     "name": "stdout",
     "output_type": "stream",
     "text": [
      "\n",
      "=== Sample 863/1000 ===\n",
      "RAW TEXT: cars,,,,cars....cars.....I need one. ha ha. The one I found last night, that I wanted so bad! is now sold. And not to me\n",
      "Predicted RAW: negative\n",
      "CLEANED TEXT: carscarscarsi need one ha ha one found last night wanted bad sold\n",
      "Predicted CLEAN: positive\n",
      "TRUE SENTIMENT: negative\n"
     ]
    },
    {
     "name": "stderr",
     "output_type": "stream",
     "text": [
      " 86%|████████▋ | 864/1000 [25:34<04:04,  1.80s/it]"
     ]
    },
    {
     "name": "stdout",
     "output_type": "stream",
     "text": [
      "\n",
      "=== Sample 864/1000 ===\n",
      "RAW TEXT:  (RE:'your joint w/  is crazy!!') Thx    Hey Trax heard a 49er rear ended you??\n",
      "Predicted RAW: positive\n",
      "CLEANED TEXT: reyour joint w crazy thx hey trax heard 49er rear ended\n",
      "Predicted CLEAN: negative\n",
      "TRUE SENTIMENT: positive\n"
     ]
    },
    {
     "name": "stderr",
     "output_type": "stream",
     "text": [
      " 86%|████████▋ | 865/1000 [25:36<04:01,  1.79s/it]"
     ]
    },
    {
     "name": "stdout",
     "output_type": "stream",
     "text": [
      "\n",
      "=== Sample 865/1000 ===\n",
      "RAW TEXT: _za thanks man. I can`t wait\n",
      "Predicted RAW: positive\n",
      "CLEANED TEXT: za thanks man cant wait\n",
      "Predicted CLEAN: positive\n",
      "TRUE SENTIMENT: positive\n"
     ]
    },
    {
     "name": "stderr",
     "output_type": "stream",
     "text": [
      " 87%|████████▋ | 866/1000 [25:37<04:01,  1.80s/it]"
     ]
    },
    {
     "name": "stdout",
     "output_type": "stream",
     "text": [
      "\n",
      "=== Sample 866/1000 ===\n",
      "RAW TEXT: I`ve been to Best Buy & Target and still no Electrik Red album! I`m loosing hope..they`ve never even heard of the girls\n",
      "Predicted RAW: negative\n",
      "CLEANED TEXT: ive best buy target still electrik red album im loosing hopetheyve never even heard girl\n",
      "Predicted CLEAN: negative\n",
      "TRUE SENTIMENT: negative\n"
     ]
    },
    {
     "name": "stderr",
     "output_type": "stream",
     "text": [
      " 87%|████████▋ | 867/1000 [25:39<04:00,  1.81s/it]"
     ]
    },
    {
     "name": "stdout",
     "output_type": "stream",
     "text": [
      "\n",
      "=== Sample 867/1000 ===\n",
      "RAW TEXT:  i was sent home yest from work, when in again today but feel like hell and burning up with a high temp, got it off hubby\n",
      "Predicted RAW: negative\n",
      "CLEANED TEXT: sent home yest work today feel like hell burning high temp got hubby\n",
      "Predicted CLEAN: negative\n",
      "TRUE SENTIMENT: negative\n"
     ]
    },
    {
     "name": "stderr",
     "output_type": "stream",
     "text": [
      " 87%|████████▋ | 868/1000 [25:41<03:59,  1.82s/it]"
     ]
    },
    {
     "name": "stdout",
     "output_type": "stream",
     "text": [
      "\n",
      "=== Sample 868/1000 ===\n",
      "RAW TEXT: Great exercise for a Sunday morning: 'stopping the wheel of karma' (R.A.W.) and transforming negativity into love... Life!\n",
      "Predicted RAW: positive\n",
      "CLEANED TEXT: great exercise sunday morning stopping wheel karma raw transforming negativity love life\n",
      "Predicted CLEAN: positive\n",
      "TRUE SENTIMENT: positive\n"
     ]
    },
    {
     "name": "stderr",
     "output_type": "stream",
     "text": [
      " 87%|████████▋ | 869/1000 [25:43<03:59,  1.83s/it]"
     ]
    },
    {
     "name": "stdout",
     "output_type": "stream",
     "text": [
      "\n",
      "=== Sample 869/1000 ===\n",
      "RAW TEXT:  yes yes yes lotsa fun  i cant wait. dont like make up with shaun too much in front of me tho cos ill get awkard haha\n",
      "Predicted RAW: positive\n",
      "CLEANED TEXT: yes yes yes lotsa fun cant wait dont like make shaun much front tho co ill get awkard haha\n",
      "Predicted CLEAN: positive\n",
      "TRUE SENTIMENT: positive\n"
     ]
    },
    {
     "name": "stderr",
     "output_type": "stream",
     "text": [
      " 87%|████████▋ | 870/1000 [25:45<03:55,  1.81s/it]"
     ]
    },
    {
     "name": "stdout",
     "output_type": "stream",
     "text": [
      "\n",
      "=== Sample 870/1000 ===\n",
      "RAW TEXT:  Thank you Kirst - your posts on running inspired me\n",
      "Predicted RAW: positive\n",
      "CLEANED TEXT: thank kirst post running inspired\n",
      "Predicted CLEAN: positive\n",
      "TRUE SENTIMENT: positive\n"
     ]
    },
    {
     "name": "stderr",
     "output_type": "stream",
     "text": [
      " 87%|████████▋ | 871/1000 [25:47<03:51,  1.79s/it]"
     ]
    },
    {
     "name": "stdout",
     "output_type": "stream",
     "text": [
      "\n",
      "=== Sample 871/1000 ===\n",
      "RAW TEXT: I wanna crawl under my desk and take a nap  nvrmind its dirty =/\n",
      "Predicted RAW: positive\n",
      "CLEANED TEXT: wan na crawl desk take nap nvrmind dirty\n",
      "Predicted CLEAN: negative\n",
      "TRUE SENTIMENT: negative\n"
     ]
    },
    {
     "name": "stderr",
     "output_type": "stream",
     "text": [
      " 87%|████████▋ | 872/1000 [25:48<03:47,  1.78s/it]"
     ]
    },
    {
     "name": "stdout",
     "output_type": "stream",
     "text": [
      "\n",
      "=== Sample 872/1000 ===\n",
      "RAW TEXT: okay someplease save me!!! now I am watching ninja warrier and eating an egg roll from last night\n",
      "Predicted RAW: negative\n",
      "CLEANED TEXT: okay someplease save watching ninja warrier eating egg roll last night\n",
      "Predicted CLEAN: negative\n",
      "TRUE SENTIMENT: negative\n"
     ]
    },
    {
     "name": "stderr",
     "output_type": "stream",
     "text": [
      " 87%|████████▋ | 873/1000 [25:50<03:44,  1.77s/it]"
     ]
    },
    {
     "name": "stdout",
     "output_type": "stream",
     "text": [
      "\n",
      "=== Sample 873/1000 ===\n",
      "RAW TEXT: HAPPY MOTHERS DAY 2 ME\n",
      "Predicted RAW: positive\n",
      "CLEANED TEXT: happy mother day 2\n",
      "Predicted CLEAN: positive\n",
      "TRUE SENTIMENT: positive\n"
     ]
    },
    {
     "name": "stderr",
     "output_type": "stream",
     "text": [
      " 87%|████████▋ | 874/1000 [25:52<03:42,  1.76s/it]"
     ]
    },
    {
     "name": "stdout",
     "output_type": "stream",
     "text": [
      "\n",
      "=== Sample 874/1000 ===\n",
      "RAW TEXT:  Excellent point.\n",
      "Predicted RAW: positive\n",
      "CLEANED TEXT: excellent point\n",
      "Predicted CLEAN: positive\n",
      "TRUE SENTIMENT: positive\n"
     ]
    },
    {
     "name": "stderr",
     "output_type": "stream",
     "text": [
      " 88%|████████▊ | 875/1000 [25:54<03:42,  1.78s/it]"
     ]
    },
    {
     "name": "stdout",
     "output_type": "stream",
     "text": [
      "\n",
      "=== Sample 875/1000 ===\n",
      "RAW TEXT:  oh and twas my very brilliant idea if I do say so myself  what can I say i`m an ideas woman\n",
      "Predicted RAW: positive\n",
      "CLEANED TEXT: oh twas brilliant idea say say im idea woman\n",
      "Predicted CLEAN: positive\n",
      "TRUE SENTIMENT: positive\n"
     ]
    },
    {
     "name": "stderr",
     "output_type": "stream",
     "text": [
      " 88%|████████▊ | 876/1000 [25:55<03:43,  1.80s/it]"
     ]
    },
    {
     "name": "stdout",
     "output_type": "stream",
     "text": [
      "\n",
      "=== Sample 876/1000 ===\n",
      "RAW TEXT: Good Morning! 'RETURN TO WILLEN ISLAND - Spring has most definitely sprung' ... http://bit.ly/EyRtT ... enjoy\n",
      "Predicted RAW: positive\n",
      "CLEANED TEXT: good morning return willen island spring definitely sprung enjoy\n",
      "Predicted CLEAN: positive\n",
      "TRUE SENTIMENT: positive\n"
     ]
    },
    {
     "name": "stderr",
     "output_type": "stream",
     "text": [
      " 88%|████████▊ | 877/1000 [25:57<03:39,  1.79s/it]"
     ]
    },
    {
     "name": "stdout",
     "output_type": "stream",
     "text": [
      "\n",
      "=== Sample 877/1000 ===\n",
      "RAW TEXT: Watching One Fine Day while eating my cereal. Start a good sunday with a good movie\n",
      "Predicted RAW: positive\n",
      "CLEANED TEXT: watching one fine day eating cereal start good sunday good movie\n",
      "Predicted CLEAN: positive\n",
      "TRUE SENTIMENT: positive\n"
     ]
    },
    {
     "name": "stderr",
     "output_type": "stream",
     "text": [
      " 88%|████████▊ | 878/1000 [25:59<03:36,  1.78s/it]"
     ]
    },
    {
     "name": "stdout",
     "output_type": "stream",
     "text": [
      "\n",
      "=== Sample 878/1000 ===\n",
      "RAW TEXT: OMG sore shoulder\n",
      "Predicted RAW: negative\n",
      "CLEANED TEXT: omg sore shoulder\n",
      "Predicted CLEAN: negative\n",
      "TRUE SENTIMENT: negative\n"
     ]
    },
    {
     "name": "stderr",
     "output_type": "stream",
     "text": [
      " 88%|████████▊ | 879/1000 [26:01<03:33,  1.77s/it]"
     ]
    },
    {
     "name": "stdout",
     "output_type": "stream",
     "text": [
      "\n",
      "=== Sample 879/1000 ===\n",
      "RAW TEXT:  You`re welcome! Cutie-pie kiddo.. in your picture btw  Love those shades!\n",
      "Predicted RAW: positive\n",
      "CLEANED TEXT: youre welcome cutiepie kiddo picture btw love shade\n",
      "Predicted CLEAN: positive\n",
      "TRUE SENTIMENT: positive\n"
     ]
    },
    {
     "name": "stderr",
     "output_type": "stream",
     "text": [
      " 88%|████████▊ | 880/1000 [26:02<03:30,  1.76s/it]"
     ]
    },
    {
     "name": "stdout",
     "output_type": "stream",
     "text": [
      "\n",
      "=== Sample 880/1000 ===\n",
      "RAW TEXT: goin ta bed now!   goodnite jessica\n",
      "Predicted RAW: positive\n",
      "CLEANED TEXT: goin ta bed goodnite jessica\n",
      "Predicted CLEAN: positive\n",
      "TRUE SENTIMENT: positive\n"
     ]
    },
    {
     "name": "stderr",
     "output_type": "stream",
     "text": [
      " 88%|████████▊ | 881/1000 [26:04<03:28,  1.75s/it]"
     ]
    },
    {
     "name": "stdout",
     "output_type": "stream",
     "text": [
      "\n",
      "=== Sample 881/1000 ===\n",
      "RAW TEXT:  lmao you witty wacko...loves it\n",
      "Predicted RAW: positive\n",
      "CLEANED TEXT: lmao witty wackoloves\n",
      "Predicted CLEAN: positive\n",
      "TRUE SENTIMENT: positive\n"
     ]
    },
    {
     "name": "stderr",
     "output_type": "stream",
     "text": [
      " 88%|████████▊ | 882/1000 [26:06<03:29,  1.78s/it]"
     ]
    },
    {
     "name": "stdout",
     "output_type": "stream",
     "text": [
      "\n",
      "=== Sample 882/1000 ===\n",
      "RAW TEXT:  I refuse to get excited as I don`t want to be let down  if it happens, as long as it`s not between June 11 - 28 or I`d die\n",
      "Predicted RAW: negative\n",
      "CLEANED TEXT: refuse get excited dont want let happens long june 11 28 id die\n",
      "Predicted CLEAN: negative\n",
      "TRUE SENTIMENT: negative\n"
     ]
    },
    {
     "name": "stderr",
     "output_type": "stream",
     "text": [
      " 88%|████████▊ | 883/1000 [26:08<03:29,  1.79s/it]"
     ]
    },
    {
     "name": "stdout",
     "output_type": "stream",
     "text": [
      "\n",
      "=== Sample 883/1000 ===\n",
      "RAW TEXT: `If I don`t believe in Him, why would He believe in me?` -Bring Me The Horizon  A chill goes down my spine whenever I hear that line.\n",
      "Predicted RAW: positive\n",
      "CLEANED TEXT: dont believe would believe bring horizon chill go spine whenever hear line\n",
      "Predicted CLEAN: negative\n",
      "TRUE SENTIMENT: negative\n"
     ]
    },
    {
     "name": "stderr",
     "output_type": "stream",
     "text": [
      " 88%|████████▊ | 884/1000 [26:10<03:26,  1.78s/it]"
     ]
    },
    {
     "name": "stdout",
     "output_type": "stream",
     "text": [
      "\n",
      "=== Sample 884/1000 ===\n",
      "RAW TEXT: @_xotashhh I love having days off school, I had one on friday too\n",
      "Predicted RAW: positive\n",
      "CLEANED TEXT: xotashhh love day school one friday\n",
      "Predicted CLEAN: positive\n",
      "TRUE SENTIMENT: positive\n"
     ]
    },
    {
     "name": "stderr",
     "output_type": "stream",
     "text": [
      " 88%|████████▊ | 885/1000 [26:11<03:23,  1.77s/it]"
     ]
    },
    {
     "name": "stdout",
     "output_type": "stream",
     "text": [
      "\n",
      "=== Sample 885/1000 ===\n",
      "RAW TEXT:  u never sent me carrie. ur an ****. but an **** that i miss\n",
      "Predicted RAW: negative\n",
      "CLEANED TEXT: u never sent carrie ur miss\n",
      "Predicted CLEAN: negative\n",
      "TRUE SENTIMENT: negative\n"
     ]
    },
    {
     "name": "stderr",
     "output_type": "stream",
     "text": [
      " 89%|████████▊ | 886/1000 [26:13<03:21,  1.76s/it]"
     ]
    },
    {
     "name": "stdout",
     "output_type": "stream",
     "text": [
      "\n",
      "=== Sample 886/1000 ===\n",
      "RAW TEXT: theres too much light pollution to see the stars\n",
      "Predicted RAW: negative\n",
      "CLEANED TEXT: there much light pollution see star\n",
      "Predicted CLEAN: negative\n",
      "TRUE SENTIMENT: negative\n"
     ]
    },
    {
     "name": "stderr",
     "output_type": "stream",
     "text": [
      " 89%|████████▊ | 887/1000 [26:15<03:19,  1.76s/it]"
     ]
    },
    {
     "name": "stdout",
     "output_type": "stream",
     "text": [
      "\n",
      "=== Sample 887/1000 ===\n",
      "RAW TEXT: sick n tired of people who steal other people`s work\n",
      "Predicted RAW: negative\n",
      "CLEANED TEXT: sick n tired people steal people work\n",
      "Predicted CLEAN: negative\n",
      "TRUE SENTIMENT: negative\n"
     ]
    },
    {
     "name": "stderr",
     "output_type": "stream",
     "text": [
      " 89%|████████▉ | 888/1000 [26:17<03:16,  1.75s/it]"
     ]
    },
    {
     "name": "stdout",
     "output_type": "stream",
     "text": [
      "\n",
      "=== Sample 888/1000 ===\n",
      "RAW TEXT:  I`m having trouble viewing it as well on you tube for some reason\n",
      "Predicted RAW: negative\n",
      "CLEANED TEXT: im trouble viewing well tube reason\n",
      "Predicted CLEAN: negative\n",
      "TRUE SENTIMENT: negative\n"
     ]
    },
    {
     "name": "stderr",
     "output_type": "stream",
     "text": [
      " 89%|████████▉ | 889/1000 [26:18<03:20,  1.80s/it]"
     ]
    },
    {
     "name": "stdout",
     "output_type": "stream",
     "text": [
      "\n",
      "=== Sample 889/1000 ===\n",
      "RAW TEXT: if i wasnt workin in 5 hours id be gettin ratarsed to the point where i couldnt even see let alone stand up...THAT is how **** i feel\n",
      "Predicted RAW: negative\n",
      "CLEANED TEXT: wasnt workin 5 hour id gettin ratarsed point couldnt even see let alone stand upthat feel\n",
      "Predicted CLEAN: negative\n",
      "TRUE SENTIMENT: negative\n"
     ]
    },
    {
     "name": "stderr",
     "output_type": "stream",
     "text": [
      " 89%|████████▉ | 890/1000 [26:20<03:16,  1.79s/it]"
     ]
    },
    {
     "name": "stdout",
     "output_type": "stream",
     "text": [
      "\n",
      "=== Sample 890/1000 ===\n",
      "RAW TEXT:  #warmfuzzies to you, my friend\n",
      "Predicted RAW: positive\n",
      "CLEANED TEXT: warmfuzzies friend\n",
      "Predicted CLEAN: positive\n",
      "TRUE SENTIMENT: positive\n"
     ]
    },
    {
     "name": "stderr",
     "output_type": "stream",
     "text": [
      " 89%|████████▉ | 891/1000 [26:22<03:13,  1.78s/it]"
     ]
    },
    {
     "name": "stdout",
     "output_type": "stream",
     "text": [
      "\n",
      "=== Sample 891/1000 ===\n",
      "RAW TEXT: @_supernatural_ http://twitpic.com/66l83 - I really miss her.\n",
      "Predicted RAW: positive\n",
      "CLEANED TEXT: supernatural really miss\n",
      "Predicted CLEAN: negative\n",
      "TRUE SENTIMENT: negative\n"
     ]
    },
    {
     "name": "stderr",
     "output_type": "stream",
     "text": [
      " 89%|████████▉ | 892/1000 [26:24<03:11,  1.77s/it]"
     ]
    },
    {
     "name": "stdout",
     "output_type": "stream",
     "text": [
      "\n",
      "=== Sample 892/1000 ===\n",
      "RAW TEXT: happy sunday all\n",
      "Predicted RAW: positive\n",
      "CLEANED TEXT: happy sunday\n",
      "Predicted CLEAN: positive\n",
      "TRUE SENTIMENT: positive\n"
     ]
    },
    {
     "name": "stderr",
     "output_type": "stream",
     "text": [
      " 89%|████████▉ | 893/1000 [26:26<03:12,  1.79s/it]"
     ]
    },
    {
     "name": "stdout",
     "output_type": "stream",
     "text": [
      "\n",
      "=== Sample 893/1000 ===\n",
      "RAW TEXT:  Please let me know if it is allright DE i need to know but first just wake up a little and enjoy the cofee  ****\n",
      "Predicted RAW: negative\n",
      "CLEANED TEXT: please let know allright de need know first wake little enjoy cofee\n",
      "Predicted CLEAN: negative\n",
      "TRUE SENTIMENT: positive\n"
     ]
    },
    {
     "name": "stderr",
     "output_type": "stream",
     "text": [
      " 89%|████████▉ | 894/1000 [26:27<03:08,  1.78s/it]"
     ]
    },
    {
     "name": "stdout",
     "output_type": "stream",
     "text": [
      "\n",
      "=== Sample 894/1000 ===\n",
      "RAW TEXT:  well maybe someone will care\n",
      "Predicted RAW: negative\n",
      "CLEANED TEXT: well maybe someone care\n",
      "Predicted CLEAN: negative\n",
      "TRUE SENTIMENT: positive\n"
     ]
    },
    {
     "name": "stderr",
     "output_type": "stream",
     "text": [
      " 90%|████████▉ | 895/1000 [26:29<03:05,  1.76s/it]"
     ]
    },
    {
     "name": "stdout",
     "output_type": "stream",
     "text": [
      "\n",
      "=== Sample 895/1000 ===\n",
      "RAW TEXT:    Awww, that wasn`t very nice.\n",
      "Predicted RAW: negative\n",
      "CLEANED TEXT: wasnt nice\n",
      "Predicted CLEAN: negative\n",
      "TRUE SENTIMENT: negative\n"
     ]
    },
    {
     "name": "stderr",
     "output_type": "stream",
     "text": [
      " 90%|████████▉ | 896/1000 [26:31<03:02,  1.76s/it]"
     ]
    },
    {
     "name": "stdout",
     "output_type": "stream",
     "text": [
      "\n",
      "=== Sample 896/1000 ===\n",
      "RAW TEXT: slaving away at work\n",
      "Predicted RAW: negative\n",
      "CLEANED TEXT: slaving away work\n",
      "Predicted CLEAN: negative\n",
      "TRUE SENTIMENT: negative\n"
     ]
    },
    {
     "name": "stderr",
     "output_type": "stream",
     "text": [
      " 90%|████████▉ | 897/1000 [26:33<02:59,  1.75s/it]"
     ]
    },
    {
     "name": "stdout",
     "output_type": "stream",
     "text": [
      "\n",
      "=== Sample 897/1000 ===\n",
      "RAW TEXT: For US tweeps, don`t forget to call your mom today...\n",
      "Predicted RAW: positive\n",
      "CLEANED TEXT: u tweeps dont forget call mom today\n",
      "Predicted CLEAN: negative\n",
      "TRUE SENTIMENT: positive\n"
     ]
    },
    {
     "name": "stderr",
     "output_type": "stream",
     "text": [
      " 90%|████████▉ | 898/1000 [26:34<03:01,  1.78s/it]"
     ]
    },
    {
     "name": "stdout",
     "output_type": "stream",
     "text": [
      "\n",
      "=== Sample 898/1000 ===\n",
      "RAW TEXT:  haha i agree ! i am her test dummy. i just go in and say 'do whatever you want' and i always love it.  she is magic!\n",
      "Predicted RAW: positive\n",
      "CLEANED TEXT: haha agree test dummy go say whatever want always love magic\n",
      "Predicted CLEAN: positive\n",
      "TRUE SENTIMENT: positive\n"
     ]
    },
    {
     "name": "stderr",
     "output_type": "stream",
     "text": [
      " 90%|████████▉ | 899/1000 [26:36<03:01,  1.80s/it]"
     ]
    },
    {
     "name": "stdout",
     "output_type": "stream",
     "text": [
      "\n",
      "=== Sample 899/1000 ===\n",
      "RAW TEXT:  ****, i dont have 2 work saturday, & i was suppose 2 hang out with my friend & watch it. we can still hang out but no JONAS =\n",
      "Predicted RAW: negative\n",
      "CLEANED TEXT: dont 2 work saturday suppose 2 hang friend watch still hang jonas\n",
      "Predicted CLEAN: positive\n",
      "TRUE SENTIMENT: negative\n"
     ]
    },
    {
     "name": "stderr",
     "output_type": "stream",
     "text": [
      " 90%|█████████ | 900/1000 [26:38<02:58,  1.78s/it]"
     ]
    },
    {
     "name": "stdout",
     "output_type": "stream",
     "text": [
      "\n",
      "=== Sample 900/1000 ===\n",
      "RAW TEXT: Going to tmobile  i need a new phone this G1 is so not working for me anymore\n",
      "Predicted RAW: negative\n",
      "CLEANED TEXT: going tmobile need new phone g1 working anymore\n",
      "Predicted CLEAN: negative\n",
      "TRUE SENTIMENT: negative\n"
     ]
    },
    {
     "name": "stderr",
     "output_type": "stream",
     "text": [
      " 90%|█████████ | 901/1000 [26:40<02:55,  1.77s/it]"
     ]
    },
    {
     "name": "stdout",
     "output_type": "stream",
     "text": [
      "\n",
      "=== Sample 901/1000 ===\n",
      "RAW TEXT:  OOO YUK !! thats not good Im retching as we tweet\n",
      "Predicted RAW: negative\n",
      "CLEANED TEXT: ooo yuk thats good im retching tweet\n",
      "Predicted CLEAN: negative\n",
      "TRUE SENTIMENT: negative\n"
     ]
    },
    {
     "name": "stderr",
     "output_type": "stream",
     "text": [
      " 90%|█████████ | 902/1000 [26:42<02:55,  1.79s/it]"
     ]
    },
    {
     "name": "stdout",
     "output_type": "stream",
     "text": [
      "\n",
      "=== Sample 902/1000 ===\n",
      "RAW TEXT:  120mm films usually handled at Fuji  Oh I met a girl at San Diego. Kwento soon. I miss youuu!\n",
      "Predicted RAW: positive\n",
      "CLEANED TEXT: 120mm film usually handled fuji oh met girl san diego kwento soon miss youuu\n",
      "Predicted CLEAN: positive\n",
      "TRUE SENTIMENT: negative\n"
     ]
    },
    {
     "name": "stderr",
     "output_type": "stream",
     "text": [
      " 90%|█████████ | 903/1000 [26:43<02:54,  1.80s/it]"
     ]
    },
    {
     "name": "stdout",
     "output_type": "stream",
     "text": [
      "\n",
      "=== Sample 903/1000 ===\n",
      "RAW TEXT: That seized bolt, ya it`s still stuck! The bushing is actually seized to the bolt, very very lame   Perhaps some heat will work?\n",
      "Predicted RAW: negative\n",
      "CLEANED TEXT: seized bolt ya still stuck bushing actually seized bolt lame perhaps heat work\n",
      "Predicted CLEAN: negative\n",
      "TRUE SENTIMENT: negative\n"
     ]
    },
    {
     "name": "stderr",
     "output_type": "stream",
     "text": [
      " 90%|█████████ | 904/1000 [26:45<02:51,  1.79s/it]"
     ]
    },
    {
     "name": "stdout",
     "output_type": "stream",
     "text": [
      "\n",
      "=== Sample 904/1000 ===\n",
      "RAW TEXT:  Hearing that my songs brighten someone`s day always makes ME grin.\n",
      "Predicted RAW: positive\n",
      "CLEANED TEXT: hearing song brighten someone day always make grin\n",
      "Predicted CLEAN: positive\n",
      "TRUE SENTIMENT: positive\n"
     ]
    },
    {
     "name": "stderr",
     "output_type": "stream",
     "text": [
      " 90%|█████████ | 905/1000 [26:47<02:49,  1.78s/it]"
     ]
    },
    {
     "name": "stdout",
     "output_type": "stream",
     "text": [
      "\n",
      "=== Sample 905/1000 ===\n",
      "RAW TEXT: Hates having broken wrist and has PE next ugh\n",
      "Predicted RAW: negative\n",
      "CLEANED TEXT: hate broken wrist pe next ugh\n",
      "Predicted CLEAN: negative\n",
      "TRUE SENTIMENT: negative\n"
     ]
    },
    {
     "name": "stderr",
     "output_type": "stream",
     "text": [
      " 91%|█████████ | 906/1000 [26:49<02:49,  1.80s/it]"
     ]
    },
    {
     "name": "stdout",
     "output_type": "stream",
     "text": [
      "\n",
      "=== Sample 906/1000 ===\n",
      "RAW TEXT: watching SNL with guess Justin Timberlake...OMG! He is too funny!  hahahah\n",
      "Predicted RAW: positive\n",
      "CLEANED TEXT: watching snl guess justin timberlakeomg funny hahahah\n",
      "Predicted CLEAN: positive\n",
      "TRUE SENTIMENT: positive\n"
     ]
    },
    {
     "name": "stderr",
     "output_type": "stream",
     "text": [
      " 91%|█████████ | 907/1000 [26:51<02:48,  1.81s/it]"
     ]
    },
    {
     "name": "stdout",
     "output_type": "stream",
     "text": [
      "\n",
      "=== Sample 907/1000 ===\n",
      "RAW TEXT: Well off 2 bed...cant wait 2 party 4 Mother`s Day in like 14 hours or so\n",
      "Predicted RAW: positive\n",
      "CLEANED TEXT: well 2 bedcant wait 2 party 4 mother day like 14 hour\n",
      "Predicted CLEAN: positive\n",
      "TRUE SENTIMENT: positive\n"
     ]
    },
    {
     "name": "stderr",
     "output_type": "stream",
     "text": [
      " 91%|█████████ | 908/1000 [26:52<02:44,  1.79s/it]"
     ]
    },
    {
     "name": "stdout",
     "output_type": "stream",
     "text": [
      "\n",
      "=== Sample 908/1000 ===\n",
      "RAW TEXT: is gonna be mad hungry when I get home. Forgot my money...\n",
      "Predicted RAW: negative\n",
      "CLEANED TEXT: gon na mad hungry get home forgot money\n",
      "Predicted CLEAN: negative\n",
      "TRUE SENTIMENT: negative\n"
     ]
    },
    {
     "name": "stderr",
     "output_type": "stream",
     "text": [
      " 91%|█████████ | 909/1000 [26:54<02:42,  1.79s/it]"
     ]
    },
    {
     "name": "stdout",
     "output_type": "stream",
     "text": [
      "\n",
      "=== Sample 909/1000 ===\n",
      "RAW TEXT: #bouvierb-day is on trending topics. ahh Happy Birthday Pierre Bouvier\n",
      "Predicted RAW: positive\n",
      "CLEANED TEXT: bouvierbday trending topic ahh happy birthday pierre bouvier\n",
      "Predicted CLEAN: positive\n",
      "TRUE SENTIMENT: positive\n"
     ]
    },
    {
     "name": "stderr",
     "output_type": "stream",
     "text": [
      " 91%|█████████ | 910/1000 [26:56<02:40,  1.78s/it]"
     ]
    },
    {
     "name": "stdout",
     "output_type": "stream",
     "text": [
      "\n",
      "=== Sample 910/1000 ===\n",
      "RAW TEXT: http://skipall.com/8p.png  The come apart easy enough\n",
      "Predicted RAW: negative\n",
      "CLEANED TEXT: come apart easy enough\n",
      "Predicted CLEAN: negative\n",
      "TRUE SENTIMENT: positive\n"
     ]
    },
    {
     "name": "stderr",
     "output_type": "stream",
     "text": [
      " 91%|█████████ | 911/1000 [26:58<02:37,  1.77s/it]"
     ]
    },
    {
     "name": "stdout",
     "output_type": "stream",
     "text": [
      "\n",
      "=== Sample 911/1000 ===\n",
      "RAW TEXT: sadly  brother told me there are no skateparks where he lives. BUMMER!\n",
      "Predicted RAW: negative\n",
      "CLEANED TEXT: sadly brother told skateparks life bummer\n",
      "Predicted CLEAN: negative\n",
      "TRUE SENTIMENT: negative\n"
     ]
    },
    {
     "name": "stderr",
     "output_type": "stream",
     "text": [
      " 91%|█████████ | 912/1000 [26:59<02:35,  1.76s/it]"
     ]
    },
    {
     "name": "stdout",
     "output_type": "stream",
     "text": [
      "\n",
      "=== Sample 912/1000 ===\n",
      "RAW TEXT: Heaos keen for next weekend.        Mummy. <3\n",
      "Predicted RAW: positive\n",
      "CLEANED TEXT: heaos keen next weekend mummy 3\n",
      "Predicted CLEAN: positive\n",
      "TRUE SENTIMENT: positive\n"
     ]
    },
    {
     "name": "stderr",
     "output_type": "stream",
     "text": [
      " 91%|█████████▏| 913/1000 [27:01<02:33,  1.76s/it]"
     ]
    },
    {
     "name": "stdout",
     "output_type": "stream",
     "text": [
      "\n",
      "=== Sample 913/1000 ===\n",
      "RAW TEXT: i hate stupid boys! arrgh\n",
      "Predicted RAW: negative\n",
      "CLEANED TEXT: hate stupid boy arrgh\n",
      "Predicted CLEAN: negative\n",
      "TRUE SENTIMENT: negative\n"
     ]
    },
    {
     "name": "stderr",
     "output_type": "stream",
     "text": [
      " 91%|█████████▏| 914/1000 [27:03<02:33,  1.78s/it]"
     ]
    },
    {
     "name": "stdout",
     "output_type": "stream",
     "text": [
      "\n",
      "=== Sample 914/1000 ===\n",
      "RAW TEXT:  I hope you didn`t take that quote personally!! I`ve been throwing them out here and there all day-guess I shoulda waited a bit\n",
      "Predicted RAW: positive\n",
      "CLEANED TEXT: hope didnt take quote personally ive throwing dayguess shoulda waited bit\n",
      "Predicted CLEAN: negative\n",
      "TRUE SENTIMENT: negative\n"
     ]
    },
    {
     "name": "stderr",
     "output_type": "stream",
     "text": [
      " 92%|█████████▏| 915/1000 [27:05<02:31,  1.78s/it]"
     ]
    },
    {
     "name": "stdout",
     "output_type": "stream",
     "text": [
      "\n",
      "=== Sample 915/1000 ===\n",
      "RAW TEXT:  sounds like you`re having a great time\n",
      "Predicted RAW: positive\n",
      "CLEANED TEXT: sound like youre great time\n",
      "Predicted CLEAN: positive\n",
      "TRUE SENTIMENT: positive\n"
     ]
    },
    {
     "name": "stderr",
     "output_type": "stream",
     "text": [
      " 92%|█████████▏| 916/1000 [27:06<02:28,  1.77s/it]"
     ]
    },
    {
     "name": "stdout",
     "output_type": "stream",
     "text": [
      "\n",
      "=== Sample 916/1000 ===\n",
      "RAW TEXT:  and Im just going into work... if we were married, we wud never see each other\n",
      "Predicted RAW: negative\n",
      "CLEANED TEXT: im going work married wud never see\n",
      "Predicted CLEAN: negative\n",
      "TRUE SENTIMENT: negative\n"
     ]
    },
    {
     "name": "stderr",
     "output_type": "stream",
     "text": [
      " 92%|█████████▏| 917/1000 [27:08<02:26,  1.76s/it]"
     ]
    },
    {
     "name": "stdout",
     "output_type": "stream",
     "text": [
      "\n",
      "=== Sample 917/1000 ===\n",
      "RAW TEXT:  Weird! Maybe all the updates just aren`t being sent to my phone  Haha\n",
      "Predicted RAW: positive\n",
      "CLEANED TEXT: weird maybe update arent sent phone haha\n",
      "Predicted CLEAN: negative\n",
      "TRUE SENTIMENT: negative\n"
     ]
    },
    {
     "name": "stderr",
     "output_type": "stream",
     "text": [
      " 92%|█████████▏| 918/1000 [27:10<02:24,  1.76s/it]"
     ]
    },
    {
     "name": "stdout",
     "output_type": "stream",
     "text": [
      "\n",
      "=== Sample 918/1000 ===\n",
      "RAW TEXT: Amazing day with my boyfriend. He`s a good drummer.\n",
      "Predicted RAW: positive\n",
      "CLEANED TEXT: amazing day boyfriend he good drummer\n",
      "Predicted CLEAN: positive\n",
      "TRUE SENTIMENT: positive\n"
     ]
    },
    {
     "name": "stderr",
     "output_type": "stream",
     "text": [
      " 92%|█████████▏| 919/1000 [27:12<02:22,  1.75s/it]"
     ]
    },
    {
     "name": "stdout",
     "output_type": "stream",
     "text": [
      "\n",
      "=== Sample 919/1000 ===\n",
      "RAW TEXT:  pansy  wtf codeh?!\n",
      "Predicted RAW: negative\n",
      "CLEANED TEXT: pansy wtf codeh\n",
      "Predicted CLEAN: negative\n",
      "TRUE SENTIMENT: negative\n"
     ]
    },
    {
     "name": "stderr",
     "output_type": "stream",
     "text": [
      " 92%|█████████▏| 920/1000 [27:14<02:22,  1.78s/it]"
     ]
    },
    {
     "name": "stdout",
     "output_type": "stream",
     "text": [
      "\n",
      "=== Sample 920/1000 ===\n",
      "RAW TEXT: I should have know that 'extra hand' comment would cause trouble...  About to upload House Music and Beyond Vol. 3\n",
      "Predicted RAW: negative\n",
      "CLEANED TEXT: know extra hand comment would cause trouble upload house music beyond vol 3\n",
      "Predicted CLEAN: negative\n",
      "TRUE SENTIMENT: negative\n"
     ]
    },
    {
     "name": "stderr",
     "output_type": "stream",
     "text": [
      " 92%|█████████▏| 921/1000 [27:15<02:20,  1.78s/it]"
     ]
    },
    {
     "name": "stdout",
     "output_type": "stream",
     "text": [
      "\n",
      "=== Sample 921/1000 ===\n",
      "RAW TEXT: Just got back from a run & I`m feeling grrrrrreeeeeaat!!!\n",
      "Predicted RAW: positive\n",
      "CLEANED TEXT: got back run im feeling grrrrrreeeeeaat\n",
      "Predicted CLEAN: positive\n",
      "TRUE SENTIMENT: positive\n"
     ]
    },
    {
     "name": "stderr",
     "output_type": "stream",
     "text": [
      " 92%|█████████▏| 922/1000 [27:17<02:18,  1.77s/it]"
     ]
    },
    {
     "name": "stdout",
     "output_type": "stream",
     "text": [
      "\n",
      "=== Sample 922/1000 ===\n",
      "RAW TEXT:  yes  and i want you to keep going if you would ;)\n",
      "Predicted RAW: positive\n",
      "CLEANED TEXT: yes want keep going would\n",
      "Predicted CLEAN: positive\n",
      "TRUE SENTIMENT: positive\n"
     ]
    },
    {
     "name": "stderr",
     "output_type": "stream",
     "text": [
      " 92%|█████████▏| 923/1000 [27:19<02:16,  1.77s/it]"
     ]
    },
    {
     "name": "stdout",
     "output_type": "stream",
     "text": [
      "\n",
      "=== Sample 923/1000 ===\n",
      "RAW TEXT: Sunburn ouch\n",
      "Predicted RAW: negative\n",
      "CLEANED TEXT: sunburn ouch\n",
      "Predicted CLEAN: negative\n",
      "TRUE SENTIMENT: negative\n"
     ]
    },
    {
     "name": "stderr",
     "output_type": "stream",
     "text": [
      " 92%|█████████▏| 924/1000 [27:21<02:16,  1.79s/it]"
     ]
    },
    {
     "name": "stdout",
     "output_type": "stream",
     "text": [
      "\n",
      "=== Sample 924/1000 ===\n",
      "RAW TEXT:  Fun times ~ that`s my friends beer!  here`s the pic`  http://yfrog.com/053agj\n",
      "Predicted RAW: positive\n",
      "CLEANED TEXT: fun time thats friend beer here pic\n",
      "Predicted CLEAN: positive\n",
      "TRUE SENTIMENT: positive\n"
     ]
    },
    {
     "name": "stderr",
     "output_type": "stream",
     "text": [
      " 92%|█████████▎| 925/1000 [27:22<02:13,  1.78s/it]"
     ]
    },
    {
     "name": "stdout",
     "output_type": "stream",
     "text": [
      "\n",
      "=== Sample 925/1000 ===\n",
      "RAW TEXT: It appears I`m going home tomorrow...and it`s not a good thing...\n",
      "Predicted RAW: negative\n",
      "CLEANED TEXT: appears im going home tomorrowand good thing\n",
      "Predicted CLEAN: positive\n",
      "TRUE SENTIMENT: negative\n"
     ]
    },
    {
     "name": "stderr",
     "output_type": "stream",
     "text": [
      " 93%|█████████▎| 926/1000 [27:24<02:11,  1.77s/it]"
     ]
    },
    {
     "name": "stdout",
     "output_type": "stream",
     "text": [
      "\n",
      "=== Sample 926/1000 ===\n",
      "RAW TEXT: The graduation ceremony should be starting about now. I really wish I could be there.\n",
      "Predicted RAW: positive\n",
      "CLEANED TEXT: graduation ceremony starting really wish could\n",
      "Predicted CLEAN: negative\n",
      "TRUE SENTIMENT: positive\n"
     ]
    },
    {
     "name": "stderr",
     "output_type": "stream",
     "text": [
      " 93%|█████████▎| 927/1000 [27:26<02:09,  1.78s/it]"
     ]
    },
    {
     "name": "stdout",
     "output_type": "stream",
     "text": [
      "\n",
      "=== Sample 927/1000 ===\n",
      "RAW TEXT: - I LOVE YOU!!!! YOU MAKE ME SO HAPPY!!!!\n",
      "Predicted RAW: positive\n",
      "CLEANED TEXT: love make happy\n",
      "Predicted CLEAN: positive\n",
      "TRUE SENTIMENT: positive\n"
     ]
    },
    {
     "name": "stderr",
     "output_type": "stream",
     "text": [
      " 93%|█████████▎| 928/1000 [27:28<02:07,  1.77s/it]"
     ]
    },
    {
     "name": "stdout",
     "output_type": "stream",
     "text": [
      "\n",
      "=== Sample 928/1000 ===\n",
      "RAW TEXT:  Thanks for sending the link.\n",
      "Predicted RAW: positive\n",
      "CLEANED TEXT: thanks sending link\n",
      "Predicted CLEAN: positive\n",
      "TRUE SENTIMENT: positive\n"
     ]
    },
    {
     "name": "stderr",
     "output_type": "stream",
     "text": [
      " 93%|█████████▎| 929/1000 [27:29<02:05,  1.76s/it]"
     ]
    },
    {
     "name": "stdout",
     "output_type": "stream",
     "text": [
      "\n",
      "=== Sample 929/1000 ===\n",
      "RAW TEXT:   wish u could rub my head too\n",
      "Predicted RAW: positive\n",
      "CLEANED TEXT: wish u could rub head\n",
      "Predicted CLEAN: negative\n",
      "TRUE SENTIMENT: positive\n"
     ]
    },
    {
     "name": "stderr",
     "output_type": "stream",
     "text": [
      " 93%|█████████▎| 930/1000 [27:31<02:03,  1.76s/it]"
     ]
    },
    {
     "name": "stdout",
     "output_type": "stream",
     "text": [
      "\n",
      "=== Sample 930/1000 ===\n",
      "RAW TEXT: _Hodges Yup. Their loss.\n",
      "Predicted RAW: positive\n",
      "CLEANED TEXT: hodges yup loss\n",
      "Predicted CLEAN: negative\n",
      "TRUE SENTIMENT: negative\n"
     ]
    },
    {
     "name": "stderr",
     "output_type": "stream",
     "text": [
      " 93%|█████████▎| 931/1000 [27:33<02:02,  1.78s/it]"
     ]
    },
    {
     "name": "stdout",
     "output_type": "stream",
     "text": [
      "\n",
      "=== Sample 931/1000 ===\n",
      "RAW TEXT: i`m sad...i`ll miss you grandma angie.. you were always like a 3rd grandma to me..\n",
      "Predicted RAW: negative\n",
      "CLEANED TEXT: im sadill miss grandma angie always like 3rd grandma\n",
      "Predicted CLEAN: negative\n",
      "TRUE SENTIMENT: negative\n"
     ]
    },
    {
     "name": "stderr",
     "output_type": "stream",
     "text": [
      " 93%|█████████▎| 932/1000 [27:35<02:02,  1.80s/it]"
     ]
    },
    {
     "name": "stdout",
     "output_type": "stream",
     "text": [
      "\n",
      "=== Sample 932/1000 ===\n",
      "RAW TEXT: _in_love scanton?! that`s farrr  elaine got her cartilage pierced! it`s so cute!\n",
      "Predicted RAW: positive\n",
      "CLEANED TEXT: inlove scanton thats farrr elaine got cartilage pierced cute\n",
      "Predicted CLEAN: positive\n",
      "TRUE SENTIMENT: positive\n"
     ]
    },
    {
     "name": "stderr",
     "output_type": "stream",
     "text": [
      " 93%|█████████▎| 933/1000 [27:37<01:59,  1.78s/it]"
     ]
    },
    {
     "name": "stdout",
     "output_type": "stream",
     "text": [
      "\n",
      "=== Sample 933/1000 ===\n",
      "RAW TEXT: Wake Up..... Please.\n",
      "Predicted RAW: negative\n",
      "CLEANED TEXT: wake please\n",
      "Predicted CLEAN: negative\n",
      "TRUE SENTIMENT: negative\n"
     ]
    },
    {
     "name": "stderr",
     "output_type": "stream",
     "text": [
      " 93%|█████████▎| 934/1000 [27:38<01:57,  1.78s/it]"
     ]
    },
    {
     "name": "stdout",
     "output_type": "stream",
     "text": [
      "\n",
      "=== Sample 934/1000 ===\n",
      "RAW TEXT:  Would applaud self-validation for all sorts of good theological, psychological & sociological reasons. But agree - lighten up!\n",
      "Predicted RAW: positive\n",
      "CLEANED TEXT: would applaud selfvalidation sort good theological psychological sociological reason agree lighten\n",
      "Predicted CLEAN: positive\n",
      "TRUE SENTIMENT: positive\n"
     ]
    },
    {
     "name": "stderr",
     "output_type": "stream",
     "text": [
      " 94%|█████████▎| 935/1000 [27:40<01:54,  1.77s/it]"
     ]
    },
    {
     "name": "stdout",
     "output_type": "stream",
     "text": [
      "\n",
      "=== Sample 935/1000 ===\n",
      "RAW TEXT:  im sorry\n",
      "Predicted RAW: negative\n",
      "CLEANED TEXT: im sorry\n",
      "Predicted CLEAN: negative\n",
      "TRUE SENTIMENT: negative\n"
     ]
    },
    {
     "name": "stderr",
     "output_type": "stream",
     "text": [
      " 94%|█████████▎| 936/1000 [27:42<01:54,  1.79s/it]"
     ]
    },
    {
     "name": "stdout",
     "output_type": "stream",
     "text": [
      "\n",
      "=== Sample 936/1000 ===\n",
      "RAW TEXT:  lol exams i didn`t go to mcast or other school i finished form 5 and that`s it soo disappointed in myself\n",
      "Predicted RAW: negative\n",
      "CLEANED TEXT: lol exam didnt go mcast school finished form 5 thats soo disappointed\n",
      "Predicted CLEAN: negative\n",
      "TRUE SENTIMENT: negative\n"
     ]
    },
    {
     "name": "stderr",
     "output_type": "stream",
     "text": [
      " 94%|█████████▎| 937/1000 [27:44<01:51,  1.78s/it]"
     ]
    },
    {
     "name": "stdout",
     "output_type": "stream",
     "text": [
      "\n",
      "=== Sample 937/1000 ===\n",
      "RAW TEXT: These messages are teasing me! It isnt fair.\n",
      "Predicted RAW: negative\n",
      "CLEANED TEXT: message teasing isnt fair\n",
      "Predicted CLEAN: negative\n",
      "TRUE SENTIMENT: negative\n"
     ]
    },
    {
     "name": "stderr",
     "output_type": "stream",
     "text": [
      " 94%|█████████▍| 938/1000 [27:45<01:49,  1.77s/it]"
     ]
    },
    {
     "name": "stdout",
     "output_type": "stream",
     "text": [
      "\n",
      "=== Sample 938/1000 ===\n",
      "RAW TEXT:  ack! I just read about your show  that`s horrible!!! No accounting for taste.\n",
      "Predicted RAW: negative\n",
      "CLEANED TEXT: ack read show thats horrible accounting taste\n",
      "Predicted CLEAN: negative\n",
      "TRUE SENTIMENT: negative\n"
     ]
    },
    {
     "name": "stderr",
     "output_type": "stream",
     "text": [
      " 94%|█████████▍| 939/1000 [27:47<01:47,  1.76s/it]"
     ]
    },
    {
     "name": "stdout",
     "output_type": "stream",
     "text": [
      "\n",
      "=== Sample 939/1000 ===\n",
      "RAW TEXT:  ... thx for ur msg, so awesome!  luv the new single! xoxo\n",
      "Predicted RAW: positive\n",
      "CLEANED TEXT: thx ur msg awesome luv new single xoxo\n",
      "Predicted CLEAN: positive\n",
      "TRUE SENTIMENT: positive\n"
     ]
    },
    {
     "name": "stderr",
     "output_type": "stream",
     "text": [
      " 94%|█████████▍| 940/1000 [27:49<01:47,  1.79s/it]"
     ]
    },
    {
     "name": "stdout",
     "output_type": "stream",
     "text": [
      "\n",
      "=== Sample 940/1000 ===\n",
      "RAW TEXT:  last week  and I interviewed  and we told him you are the FB queen! Glad to see you both connected\n",
      "Predicted RAW: positive\n",
      "CLEANED TEXT: last week interviewed told fb queen glad see connected\n",
      "Predicted CLEAN: positive\n",
      "TRUE SENTIMENT: positive\n"
     ]
    },
    {
     "name": "stderr",
     "output_type": "stream",
     "text": [
      " 94%|█████████▍| 941/1000 [27:51<01:45,  1.78s/it]"
     ]
    },
    {
     "name": "stdout",
     "output_type": "stream",
     "text": [
      "\n",
      "=== Sample 941/1000 ===\n",
      "RAW TEXT:  and I was just gonna ask you if you wanted to go to CLUB Hidden House on sat night. hehe.\n",
      "Predicted RAW: positive\n",
      "CLEANED TEXT: gon na ask wanted go club hidden house sat night hehe\n",
      "Predicted CLEAN: positive\n",
      "TRUE SENTIMENT: positive\n"
     ]
    },
    {
     "name": "stderr",
     "output_type": "stream",
     "text": [
      " 94%|█████████▍| 942/1000 [27:53<01:42,  1.77s/it]"
     ]
    },
    {
     "name": "stdout",
     "output_type": "stream",
     "text": [
      "\n",
      "=== Sample 942/1000 ===\n",
      "RAW TEXT: 5500 words and counting.  My hands hurt\n",
      "Predicted RAW: negative\n",
      "CLEANED TEXT: 5500 word counting hand hurt\n",
      "Predicted CLEAN: negative\n",
      "TRUE SENTIMENT: negative\n"
     ]
    },
    {
     "name": "stderr",
     "output_type": "stream",
     "text": [
      " 94%|█████████▍| 943/1000 [27:54<01:40,  1.77s/it]"
     ]
    },
    {
     "name": "stdout",
     "output_type": "stream",
     "text": [
      "\n",
      "=== Sample 943/1000 ===\n",
      "RAW TEXT: _ When they don`t pop well. I feel lousier after playing those.\n",
      "Predicted RAW: negative\n",
      "CLEANED TEXT: dont pop well feel lousier playing\n",
      "Predicted CLEAN: negative\n",
      "TRUE SENTIMENT: negative\n"
     ]
    },
    {
     "name": "stderr",
     "output_type": "stream",
     "text": [
      " 94%|█████████▍| 944/1000 [27:56<01:38,  1.76s/it]"
     ]
    },
    {
     "name": "stdout",
     "output_type": "stream",
     "text": [
      "\n",
      "=== Sample 944/1000 ===\n",
      "RAW TEXT:  Hi x Your websites soo cool i love using it  Thank you\n",
      "Predicted RAW: positive\n",
      "CLEANED TEXT: hi x website soo cool love using thank\n",
      "Predicted CLEAN: positive\n",
      "TRUE SENTIMENT: positive\n"
     ]
    },
    {
     "name": "stderr",
     "output_type": "stream",
     "text": [
      " 94%|█████████▍| 945/1000 [27:58<01:37,  1.78s/it]"
     ]
    },
    {
     "name": "stdout",
     "output_type": "stream",
     "text": [
      "\n",
      "=== Sample 945/1000 ===\n",
      "RAW TEXT:  pretty soon gonna have to unfollow myself from _words to cut the quickly growing 'habit' ... but I do love the challenge!\n",
      "Predicted RAW: positive\n",
      "CLEANED TEXT: pretty soon gon na unfollow word cut quickly growing habit love challenge\n",
      "Predicted CLEAN: positive\n",
      "TRUE SENTIMENT: positive\n"
     ]
    },
    {
     "name": "stderr",
     "output_type": "stream",
     "text": [
      " 95%|█████████▍| 946/1000 [28:00<01:37,  1.80s/it]"
     ]
    },
    {
     "name": "stdout",
     "output_type": "stream",
     "text": [
      "\n",
      "=== Sample 946/1000 ===\n",
      "RAW TEXT: OMggg. i just heard someone is gonna die on the new season of the secret life of the american teenager  noooo.\n",
      "Predicted RAW: negative\n",
      "CLEANED TEXT: omggg heard someone gon na die new season secret life american teenager noooo\n",
      "Predicted CLEAN: negative\n",
      "TRUE SENTIMENT: negative\n"
     ]
    },
    {
     "name": "stderr",
     "output_type": "stream",
     "text": [
      " 95%|█████████▍| 947/1000 [28:02<01:34,  1.79s/it]"
     ]
    },
    {
     "name": "stdout",
     "output_type": "stream",
     "text": [
      "\n",
      "=== Sample 947/1000 ===\n",
      "RAW TEXT: i`m getting ready for tonight (teachers dinner on the beach!) but it`s raining and i hate this!\n",
      "Predicted RAW: negative\n",
      "CLEANED TEXT: im getting ready tonight teacher dinner beach raining hate\n",
      "Predicted CLEAN: negative\n",
      "TRUE SENTIMENT: negative\n"
     ]
    },
    {
     "name": "stderr",
     "output_type": "stream",
     "text": [
      " 95%|█████████▍| 948/1000 [28:03<01:32,  1.78s/it]"
     ]
    },
    {
     "name": "stdout",
     "output_type": "stream",
     "text": [
      "\n",
      "=== Sample 948/1000 ===\n",
      "RAW TEXT:  not happy\n",
      "Predicted RAW: negative\n",
      "CLEANED TEXT: happy\n",
      "Predicted CLEAN: positive\n",
      "TRUE SENTIMENT: negative\n"
     ]
    },
    {
     "name": "stderr",
     "output_type": "stream",
     "text": [
      " 95%|█████████▍| 949/1000 [28:05<01:31,  1.80s/it]"
     ]
    },
    {
     "name": "stdout",
     "output_type": "stream",
     "text": [
      "\n",
      "=== Sample 949/1000 ===\n",
      "RAW TEXT: I wish I can see clips of your show that you hosted. Hottie Shawn in the 80`s! and yes your still a Hottie!\n",
      "Predicted RAW: positive\n",
      "CLEANED TEXT: wish see clip show hosted hottie shawn 80 yes still hottie\n",
      "Predicted CLEAN: positive\n",
      "TRUE SENTIMENT: positive\n"
     ]
    },
    {
     "name": "stderr",
     "output_type": "stream",
     "text": [
      " 95%|█████████▌| 950/1000 [28:07<01:29,  1.79s/it]"
     ]
    },
    {
     "name": "stdout",
     "output_type": "stream",
     "text": [
      "\n",
      "=== Sample 950/1000 ===\n",
      "RAW TEXT: But on the bright side...no school\n",
      "Predicted RAW: positive\n",
      "CLEANED TEXT: bright sideno school\n",
      "Predicted CLEAN: positive\n",
      "TRUE SENTIMENT: positive\n"
     ]
    },
    {
     "name": "stderr",
     "output_type": "stream",
     "text": [
      " 95%|█████████▌| 951/1000 [28:09<01:26,  1.78s/it]"
     ]
    },
    {
     "name": "stdout",
     "output_type": "stream",
     "text": [
      "\n",
      "=== Sample 951/1000 ===\n",
      "RAW TEXT: I have turned into a fast food ****\n",
      "Predicted RAW: negative\n",
      "CLEANED TEXT: turned fast food\n",
      "Predicted CLEAN: negative\n",
      "TRUE SENTIMENT: negative\n"
     ]
    },
    {
     "name": "stderr",
     "output_type": "stream",
     "text": [
      " 95%|█████████▌| 952/1000 [28:10<01:26,  1.80s/it]"
     ]
    },
    {
     "name": "stdout",
     "output_type": "stream",
     "text": [
      "\n",
      "=== Sample 952/1000 ===\n",
      "RAW TEXT: I hate not getting e-mail`s  going to do other stuff now...ice my toe (long story) and have some calpol (cold :S) soooo night xxxx\n",
      "Predicted RAW: negative\n",
      "CLEANED TEXT: hate getting email going stuff nowice toe long story calpol cold soooo night xxxx\n",
      "Predicted CLEAN: negative\n",
      "TRUE SENTIMENT: negative\n"
     ]
    },
    {
     "name": "stderr",
     "output_type": "stream",
     "text": [
      " 95%|█████████▌| 953/1000 [28:12<01:23,  1.78s/it]"
     ]
    },
    {
     "name": "stdout",
     "output_type": "stream",
     "text": [
      "\n",
      "=== Sample 953/1000 ===\n",
      "RAW TEXT: Now I am depressed after watching so you think you can dance\n",
      "Predicted RAW: negative\n",
      "CLEANED TEXT: depressed watching think dance\n",
      "Predicted CLEAN: negative\n",
      "TRUE SENTIMENT: negative\n"
     ]
    },
    {
     "name": "stderr",
     "output_type": "stream",
     "text": [
      " 95%|█████████▌| 954/1000 [28:14<01:21,  1.77s/it]"
     ]
    },
    {
     "name": "stdout",
     "output_type": "stream",
     "text": [
      "\n",
      "=== Sample 954/1000 ===\n",
      "RAW TEXT: misses Nanny.\n",
      "Predicted RAW: negative\n",
      "CLEANED TEXT: miss nanny\n",
      "Predicted CLEAN: negative\n",
      "TRUE SENTIMENT: negative\n"
     ]
    },
    {
     "name": "stderr",
     "output_type": "stream",
     "text": [
      " 96%|█████████▌| 955/1000 [28:16<01:19,  1.77s/it]"
     ]
    },
    {
     "name": "stdout",
     "output_type": "stream",
     "text": [
      "\n",
      "=== Sample 955/1000 ===\n",
      "RAW TEXT: thinks castles are fun\n",
      "Predicted RAW: positive\n",
      "CLEANED TEXT: think castle fun\n",
      "Predicted CLEAN: positive\n",
      "TRUE SENTIMENT: positive\n"
     ]
    },
    {
     "name": "stderr",
     "output_type": "stream",
     "text": [
      " 96%|█████████▌| 956/1000 [28:17<01:17,  1.76s/it]"
     ]
    },
    {
     "name": "stdout",
     "output_type": "stream",
     "text": [
      "\n",
      "=== Sample 956/1000 ===\n",
      "RAW TEXT: I will move anywhere as long as it has a freaking dishwasher! I despise doing dishes\n",
      "Predicted RAW: positive\n",
      "CLEANED TEXT: move anywhere long freaking dishwasher despise dish\n",
      "Predicted CLEAN: negative\n",
      "TRUE SENTIMENT: negative\n"
     ]
    },
    {
     "name": "stderr",
     "output_type": "stream",
     "text": [
      " 96%|█████████▌| 957/1000 [28:19<01:16,  1.78s/it]"
     ]
    },
    {
     "name": "stdout",
     "output_type": "stream",
     "text": [
      "\n",
      "=== Sample 957/1000 ===\n",
      "RAW TEXT:  Im doing ok.  I have a 15 year old going on 35 that is driving me crazy, but that comes with the territory, I guess.\n",
      "Predicted RAW: negative\n",
      "CLEANED TEXT: im ok 15 year old going 35 driving crazy come territory guess\n",
      "Predicted CLEAN: negative\n",
      "TRUE SENTIMENT: negative\n"
     ]
    },
    {
     "name": "stderr",
     "output_type": "stream",
     "text": [
      " 96%|█████████▌| 958/1000 [28:21<01:15,  1.80s/it]"
     ]
    },
    {
     "name": "stdout",
     "output_type": "stream",
     "text": [
      "\n",
      "=== Sample 958/1000 ===\n",
      "RAW TEXT: Poor Kella is on meds now for an ear infection; she lost her food all over  twice at the doc`s\n",
      "Predicted RAW: negative\n",
      "CLEANED TEXT: poor kella med ear infection lost food twice doc\n",
      "Predicted CLEAN: negative\n",
      "TRUE SENTIMENT: negative\n"
     ]
    },
    {
     "name": "stderr",
     "output_type": "stream",
     "text": [
      " 96%|█████████▌| 959/1000 [28:23<01:13,  1.78s/it]"
     ]
    },
    {
     "name": "stdout",
     "output_type": "stream",
     "text": [
      "\n",
      "=== Sample 959/1000 ===\n",
      "RAW TEXT:  Yes, have to be right for church\n",
      "Predicted RAW: negative\n",
      "CLEANED TEXT: yes right church\n",
      "Predicted CLEAN: positive\n",
      "TRUE SENTIMENT: positive\n"
     ]
    },
    {
     "name": "stderr",
     "output_type": "stream",
     "text": [
      " 96%|█████████▌| 960/1000 [28:25<01:11,  1.78s/it]"
     ]
    },
    {
     "name": "stdout",
     "output_type": "stream",
     "text": [
      "\n",
      "=== Sample 960/1000 ===\n",
      "RAW TEXT: hm...still workin on my contract.hmm...i`m feelin awful..\n",
      "Predicted RAW: negative\n",
      "CLEANED TEXT: hmstill workin contracthmmim feelin awful\n",
      "Predicted CLEAN: negative\n",
      "TRUE SENTIMENT: negative\n"
     ]
    },
    {
     "name": "stderr",
     "output_type": "stream",
     "text": [
      " 96%|█████████▌| 961/1000 [28:26<01:08,  1.76s/it]"
     ]
    },
    {
     "name": "stdout",
     "output_type": "stream",
     "text": [
      "\n",
      "=== Sample 961/1000 ===\n",
      "RAW TEXT: I totally forgot my phone at home this morning\n",
      "Predicted RAW: negative\n",
      "CLEANED TEXT: totally forgot phone home morning\n",
      "Predicted CLEAN: negative\n",
      "TRUE SENTIMENT: negative\n"
     ]
    },
    {
     "name": "stderr",
     "output_type": "stream",
     "text": [
      " 96%|█████████▌| 962/1000 [28:28<01:06,  1.76s/it]"
     ]
    },
    {
     "name": "stdout",
     "output_type": "stream",
     "text": [
      "\n",
      "=== Sample 962/1000 ===\n",
      "RAW TEXT:  Proud 17-year-old here that loves The Carpenters!!!\n",
      "Predicted RAW: positive\n",
      "CLEANED TEXT: proud 17yearold love carpenter\n",
      "Predicted CLEAN: positive\n",
      "TRUE SENTIMENT: positive\n"
     ]
    },
    {
     "name": "stderr",
     "output_type": "stream",
     "text": [
      " 96%|█████████▋| 963/1000 [28:30<01:05,  1.76s/it]"
     ]
    },
    {
     "name": "stdout",
     "output_type": "stream",
     "text": [
      "\n",
      "=== Sample 963/1000 ===\n",
      "RAW TEXT: feels sick to my stomach and idkk whyy\n",
      "Predicted RAW: negative\n",
      "CLEANED TEXT: feel sick stomach idkk whyy\n",
      "Predicted CLEAN: negative\n",
      "TRUE SENTIMENT: negative\n"
     ]
    },
    {
     "name": "stderr",
     "output_type": "stream",
     "text": [
      " 96%|█████████▋| 964/1000 [28:32<01:03,  1.76s/it]"
     ]
    },
    {
     "name": "stdout",
     "output_type": "stream",
     "text": [
      "\n",
      "=== Sample 964/1000 ===\n",
      "RAW TEXT:  so cute you twitting in potuguese!\n",
      "Predicted RAW: positive\n",
      "CLEANED TEXT: cute twitting potuguese\n",
      "Predicted CLEAN: positive\n",
      "TRUE SENTIMENT: positive\n"
     ]
    },
    {
     "name": "stderr",
     "output_type": "stream",
     "text": [
      " 96%|█████████▋| 965/1000 [28:33<01:01,  1.75s/it]"
     ]
    },
    {
     "name": "stdout",
     "output_type": "stream",
     "text": [
      "\n",
      "=== Sample 965/1000 ===\n",
      "RAW TEXT:  ew.  sorry zach\n",
      "Predicted RAW: negative\n",
      "CLEANED TEXT: ew sorry zach\n",
      "Predicted CLEAN: negative\n",
      "TRUE SENTIMENT: negative\n"
     ]
    },
    {
     "name": "stderr",
     "output_type": "stream",
     "text": [
      " 97%|█████████▋| 966/1000 [28:35<01:00,  1.78s/it]"
     ]
    },
    {
     "name": "stdout",
     "output_type": "stream",
     "text": [
      "\n",
      "=== Sample 966/1000 ===\n",
      "RAW TEXT:  http://twitpic.com/4jber - aww .... then we wonder why they hate us later..... lol!!\n",
      "Predicted RAW: positive\n",
      "CLEANED TEXT: aww wonder hate u later lol\n",
      "Predicted CLEAN: positive\n",
      "TRUE SENTIMENT: negative\n"
     ]
    },
    {
     "name": "stderr",
     "output_type": "stream",
     "text": [
      " 97%|█████████▋| 967/1000 [28:37<00:58,  1.77s/it]"
     ]
    },
    {
     "name": "stdout",
     "output_type": "stream",
     "text": [
      "\n",
      "=== Sample 967/1000 ===\n",
      "RAW TEXT: i hate it when my bff is groundedd  boooooooooo\n",
      "Predicted RAW: negative\n",
      "CLEANED TEXT: hate bff groundedd boooooooooo\n",
      "Predicted CLEAN: negative\n",
      "TRUE SENTIMENT: negative\n"
     ]
    },
    {
     "name": "stderr",
     "output_type": "stream",
     "text": [
      " 97%|█████████▋| 968/1000 [28:39<00:57,  1.79s/it]"
     ]
    },
    {
     "name": "stdout",
     "output_type": "stream",
     "text": [
      "\n",
      "=== Sample 968/1000 ===\n",
      "RAW TEXT:  The Star Trek in IMAX wasn`t in 3D, but it was huge on the screen.  Still worth watching.\n",
      "Predicted RAW: positive\n",
      "CLEANED TEXT: star trek imax wasnt 3d huge screen still worth watching\n",
      "Predicted CLEAN: positive\n",
      "TRUE SENTIMENT: positive\n"
     ]
    },
    {
     "name": "stderr",
     "output_type": "stream",
     "text": [
      " 97%|█████████▋| 969/1000 [28:41<00:55,  1.78s/it]"
     ]
    },
    {
     "name": "stdout",
     "output_type": "stream",
     "text": [
      "\n",
      "=== Sample 969/1000 ===\n",
      "RAW TEXT: getting ready to see my cousins graduate.  gonna miss em.\n",
      "Predicted RAW: positive\n",
      "CLEANED TEXT: getting ready see cousin graduate gon na miss em\n",
      "Predicted CLEAN: positive\n",
      "TRUE SENTIMENT: negative\n"
     ]
    },
    {
     "name": "stderr",
     "output_type": "stream",
     "text": [
      " 97%|█████████▋| 970/1000 [28:42<00:53,  1.77s/it]"
     ]
    },
    {
     "name": "stdout",
     "output_type": "stream",
     "text": [
      "\n",
      "=== Sample 970/1000 ===\n",
      "RAW TEXT:  **** i shouldnt have left!\n",
      "Predicted RAW: negative\n",
      "CLEANED TEXT: shouldnt left\n",
      "Predicted CLEAN: negative\n",
      "TRUE SENTIMENT: negative\n"
     ]
    },
    {
     "name": "stderr",
     "output_type": "stream",
     "text": [
      " 97%|█████████▋| 971/1000 [28:44<00:52,  1.79s/it]"
     ]
    },
    {
     "name": "stdout",
     "output_type": "stream",
     "text": [
      "\n",
      "=== Sample 971/1000 ===\n",
      "RAW TEXT: _law_rence &  WHY?! my head feels like the surface of the sun  underneath a beaver pelt.\n",
      "Predicted RAW: negative\n",
      "CLEANED TEXT: lawrence head feel like surface sun underneath beaver pelt\n",
      "Predicted CLEAN: negative\n",
      "TRUE SENTIMENT: negative\n"
     ]
    },
    {
     "name": "stderr",
     "output_type": "stream",
     "text": [
      " 97%|█████████▋| 972/1000 [28:46<00:50,  1.81s/it]"
     ]
    },
    {
     "name": "stdout",
     "output_type": "stream",
     "text": [
      "\n",
      "=== Sample 972/1000 ===\n",
      "RAW TEXT: Finished watching Episode 4&5 of Ruby Metaprogramming Screencasts. Lots of cool tips, great! But need to more coding practices to master.\n",
      "Predicted RAW: positive\n",
      "CLEANED TEXT: finished watching episode 45 ruby metaprogramming screencasts lot cool tip great need coding practice master\n",
      "Predicted CLEAN: positive\n",
      "TRUE SENTIMENT: positive\n"
     ]
    },
    {
     "name": "stderr",
     "output_type": "stream",
     "text": [
      " 97%|█████████▋| 973/1000 [28:48<00:49,  1.82s/it]"
     ]
    },
    {
     "name": "stdout",
     "output_type": "stream",
     "text": [
      "\n",
      "=== Sample 973/1000 ===\n",
      "RAW TEXT:  I love the site what a hoot, really enjoy the hair cuts in Thailand, always try to time ir just right, thanks for the tip\n",
      "Predicted RAW: positive\n",
      "CLEANED TEXT: love site hoot really enjoy hair cut thailand always try time ir right thanks tip\n",
      "Predicted CLEAN: positive\n",
      "TRUE SENTIMENT: positive\n"
     ]
    },
    {
     "name": "stderr",
     "output_type": "stream",
     "text": [
      " 97%|█████████▋| 974/1000 [28:50<00:46,  1.80s/it]"
     ]
    },
    {
     "name": "stdout",
     "output_type": "stream",
     "text": [
      "\n",
      "=== Sample 974/1000 ===\n",
      "RAW TEXT: Not made it to work  couldn`t get up feelin blurgh\n",
      "Predicted RAW: negative\n",
      "CLEANED TEXT: made work couldnt get feelin blurgh\n",
      "Predicted CLEAN: negative\n",
      "TRUE SENTIMENT: negative\n"
     ]
    },
    {
     "name": "stderr",
     "output_type": "stream",
     "text": [
      " 98%|█████████▊| 975/1000 [28:51<00:44,  1.78s/it]"
     ]
    },
    {
     "name": "stdout",
     "output_type": "stream",
     "text": [
      "\n",
      "=== Sample 975/1000 ===\n",
      "RAW TEXT: My throat hurts and I can`t sleep.\n",
      "Predicted RAW: negative\n",
      "CLEANED TEXT: throat hurt cant sleep\n",
      "Predicted CLEAN: negative\n",
      "TRUE SENTIMENT: negative\n"
     ]
    },
    {
     "name": "stderr",
     "output_type": "stream",
     "text": [
      " 98%|█████████▊| 976/1000 [28:53<00:42,  1.78s/it]"
     ]
    },
    {
     "name": "stdout",
     "output_type": "stream",
     "text": [
      "\n",
      "=== Sample 976/1000 ===\n",
      "RAW TEXT: im depressed on this pretty day  Everyone either is doing something or CAN`T...bleh -.-\n",
      "Predicted RAW: negative\n",
      "CLEANED TEXT: im depressed pretty day everyone either something cantbleh\n",
      "Predicted CLEAN: negative\n",
      "TRUE SENTIMENT: negative\n"
     ]
    },
    {
     "name": "stderr",
     "output_type": "stream",
     "text": [
      " 98%|█████████▊| 977/1000 [28:55<00:40,  1.78s/it]"
     ]
    },
    {
     "name": "stdout",
     "output_type": "stream",
     "text": [
      "\n",
      "=== Sample 977/1000 ===\n",
      "RAW TEXT: The rain outside motivates me to sleep.\n",
      "Predicted RAW: negative\n",
      "CLEANED TEXT: rain outside motivates sleep\n",
      "Predicted CLEAN: negative\n",
      "TRUE SENTIMENT: positive\n"
     ]
    },
    {
     "name": "stderr",
     "output_type": "stream",
     "text": [
      " 98%|█████████▊| 978/1000 [28:57<00:38,  1.77s/it]"
     ]
    },
    {
     "name": "stdout",
     "output_type": "stream",
     "text": [
      "\n",
      "=== Sample 978/1000 ===\n",
      "RAW TEXT:  HEY BUCK!!!!  love u loads!! LOVE 'WHAT THE BUCK?!'\n",
      "Predicted RAW: positive\n",
      "CLEANED TEXT: hey buck love u load love buck\n",
      "Predicted CLEAN: positive\n",
      "TRUE SENTIMENT: positive\n"
     ]
    },
    {
     "name": "stderr",
     "output_type": "stream",
     "text": [
      " 98%|█████████▊| 979/1000 [28:58<00:37,  1.77s/it]"
     ]
    },
    {
     "name": "stdout",
     "output_type": "stream",
     "text": [
      "\n",
      "=== Sample 979/1000 ===\n",
      "RAW TEXT: ..exams.  haha just remembrd the china buffet king yesterday. vair amusing ....\n",
      "Predicted RAW: positive\n",
      "CLEANED TEXT: exam haha remembrd china buffet king yesterday vair amusing\n",
      "Predicted CLEAN: positive\n",
      "TRUE SENTIMENT: positive\n"
     ]
    },
    {
     "name": "stderr",
     "output_type": "stream",
     "text": [
      " 98%|█████████▊| 980/1000 [29:00<00:35,  1.79s/it]"
     ]
    },
    {
     "name": "stdout",
     "output_type": "stream",
     "text": [
      "\n",
      "=== Sample 980/1000 ===\n",
      "RAW TEXT: hmmm dollhouse sounds pretty good, http://bit.ly/z3aZv  i think ima download it and try watching it\n",
      "Predicted RAW: positive\n",
      "CLEANED TEXT: hmmm dollhouse sound pretty good think ima download try watching\n",
      "Predicted CLEAN: positive\n",
      "TRUE SENTIMENT: positive\n"
     ]
    },
    {
     "name": "stderr",
     "output_type": "stream",
     "text": [
      " 98%|█████████▊| 981/1000 [29:02<00:34,  1.80s/it]"
     ]
    },
    {
     "name": "stdout",
     "output_type": "stream",
     "text": [
      "\n",
      "=== Sample 981/1000 ===\n",
      "RAW TEXT: **** these nig*s is all on me, but they won`t get this...'Not without a check!' LMFAO\n",
      "Predicted RAW: negative\n",
      "CLEANED TEXT: nigs wont get thisnot without check lmfao\n",
      "Predicted CLEAN: negative\n",
      "TRUE SENTIMENT: negative\n"
     ]
    },
    {
     "name": "stderr",
     "output_type": "stream",
     "text": [
      " 98%|█████████▊| 982/1000 [29:04<00:32,  1.79s/it]"
     ]
    },
    {
     "name": "stdout",
     "output_type": "stream",
     "text": [
      "\n",
      "=== Sample 982/1000 ===\n",
      "RAW TEXT: thanks do the invite though\n",
      "Predicted RAW: positive\n",
      "CLEANED TEXT: thanks invite though\n",
      "Predicted CLEAN: positive\n",
      "TRUE SENTIMENT: positive\n"
     ]
    },
    {
     "name": "stderr",
     "output_type": "stream",
     "text": [
      " 98%|█████████▊| 983/1000 [29:06<00:30,  1.77s/it]"
     ]
    },
    {
     "name": "stdout",
     "output_type": "stream",
     "text": [
      "\n",
      "=== Sample 983/1000 ===\n",
      "RAW TEXT:  YOU LOOKED ABSOLUTELY BEAUTIFUL AND ELEGANT.\n",
      "Predicted RAW: positive\n",
      "CLEANED TEXT: looked absolutely beautiful elegant\n",
      "Predicted CLEAN: positive\n",
      "TRUE SENTIMENT: positive\n"
     ]
    },
    {
     "name": "stderr",
     "output_type": "stream",
     "text": [
      " 98%|█████████▊| 984/1000 [29:07<00:28,  1.77s/it]"
     ]
    },
    {
     "name": "stdout",
     "output_type": "stream",
     "text": [
      "\n",
      "=== Sample 984/1000 ===\n",
      "RAW TEXT: _Brown Thank you so much Natalie, hope u are well\n",
      "Predicted RAW: positive\n",
      "CLEANED TEXT: brown thank much natalie hope u well\n",
      "Predicted CLEAN: positive\n",
      "TRUE SENTIMENT: positive\n"
     ]
    },
    {
     "name": "stderr",
     "output_type": "stream",
     "text": [
      " 98%|█████████▊| 985/1000 [29:09<00:26,  1.79s/it]"
     ]
    },
    {
     "name": "stdout",
     "output_type": "stream",
     "text": [
      "\n",
      "=== Sample 985/1000 ===\n",
      "RAW TEXT:  Please send me those youtube links, Erin watched most of them but I was cooking and didn`t get to see the cowboys\n",
      "Predicted RAW: positive\n",
      "CLEANED TEXT: please send youtube link erin watched cooking didnt get see cowboy\n",
      "Predicted CLEAN: negative\n",
      "TRUE SENTIMENT: negative\n"
     ]
    },
    {
     "name": "stderr",
     "output_type": "stream",
     "text": [
      " 99%|█████████▊| 986/1000 [29:11<00:24,  1.78s/it]"
     ]
    },
    {
     "name": "stdout",
     "output_type": "stream",
     "text": [
      "\n",
      "=== Sample 986/1000 ===\n",
      "RAW TEXT:  That didn`t work, unfortunately.\n",
      "Predicted RAW: negative\n",
      "CLEANED TEXT: didnt work unfortunately\n",
      "Predicted CLEAN: negative\n",
      "TRUE SENTIMENT: negative\n"
     ]
    },
    {
     "name": "stderr",
     "output_type": "stream",
     "text": [
      " 99%|█████████▊| 987/1000 [29:13<00:23,  1.79s/it]"
     ]
    },
    {
     "name": "stdout",
     "output_type": "stream",
     "text": [
      "\n",
      "=== Sample 987/1000 ===\n",
      "RAW TEXT: get it right! I think I am obsessed with Hydes` voice @_@  I`ve chosen a guitar song to learn for the summer! Time to perfect picking!\n",
      "Predicted RAW: positive\n",
      "CLEANED TEXT: get right think obsessed hydes voice ive chosen guitar song learn summer time perfect picking\n",
      "Predicted CLEAN: positive\n",
      "TRUE SENTIMENT: positive\n"
     ]
    },
    {
     "name": "stderr",
     "output_type": "stream",
     "text": [
      " 99%|█████████▉| 988/1000 [29:14<00:21,  1.78s/it]"
     ]
    },
    {
     "name": "stdout",
     "output_type": "stream",
     "text": [
      "\n",
      "=== Sample 988/1000 ===\n",
      "RAW TEXT:  Good prices for bulk SMS and Premium SMS too  http://promotion.itagg.com\n",
      "Predicted RAW: positive\n",
      "CLEANED TEXT: good price bulk sm premium sm\n",
      "Predicted CLEAN: positive\n",
      "TRUE SENTIMENT: positive\n"
     ]
    },
    {
     "name": "stderr",
     "output_type": "stream",
     "text": [
      " 99%|█████████▉| 989/1000 [29:16<00:19,  1.80s/it]"
     ]
    },
    {
     "name": "stdout",
     "output_type": "stream",
     "text": [
      "\n",
      "=== Sample 989/1000 ===\n",
      "RAW TEXT: What`s worse than a fever and sore throat? Cancelling a trip to see your little bro because of a fever and sore throat.\n",
      "Predicted RAW: negative\n",
      "CLEANED TEXT: whats worse fever sore throat cancelling trip see little bro fever sore throat\n",
      "Predicted CLEAN: negative\n",
      "TRUE SENTIMENT: negative\n"
     ]
    },
    {
     "name": "stderr",
     "output_type": "stream",
     "text": [
      " 99%|█████████▉| 990/1000 [29:18<00:18,  1.82s/it]"
     ]
    },
    {
     "name": "stdout",
     "output_type": "stream",
     "text": [
      "\n",
      "=== Sample 990/1000 ===\n",
      "RAW TEXT: Yea!  Headed home to change and head over to Pelham.  Sad thought... suposed to be heading over there for the NKOTB concert...\n",
      "Predicted RAW: negative\n",
      "CLEANED TEXT: yea headed home change head pelham sad thought suposed heading nkotb concert\n",
      "Predicted CLEAN: negative\n",
      "TRUE SENTIMENT: negative\n"
     ]
    },
    {
     "name": "stderr",
     "output_type": "stream",
     "text": [
      " 99%|█████████▉| 991/1000 [29:20<00:16,  1.80s/it]"
     ]
    },
    {
     "name": "stdout",
     "output_type": "stream",
     "text": [
      "\n",
      "=== Sample 991/1000 ===\n",
      "RAW TEXT:  Aw it says the pic doesn`t exist anymore\n",
      "Predicted RAW: negative\n",
      "CLEANED TEXT: aw say pic doesnt exist anymore\n",
      "Predicted CLEAN: negative\n",
      "TRUE SENTIMENT: negative\n"
     ]
    },
    {
     "name": "stderr",
     "output_type": "stream",
     "text": [
      " 99%|█████████▉| 992/1000 [29:22<00:14,  1.82s/it]"
     ]
    },
    {
     "name": "stdout",
     "output_type": "stream",
     "text": [
      "\n",
      "=== Sample 992/1000 ===\n",
      "RAW TEXT: Today, i did`t have lunch, cuz wel i embarrass my self with all 'school'  ok, FINAL TESTS and FINAL YEAR aaaaa! thanx God 4 That friends!\n",
      "Predicted RAW: negative\n",
      "CLEANED TEXT: today didt lunch cuz wel embarrass self school ok final test final year aaaaa thanx god 4 friend\n",
      "Predicted CLEAN: negative\n",
      "TRUE SENTIMENT: negative\n"
     ]
    },
    {
     "name": "stderr",
     "output_type": "stream",
     "text": [
      " 99%|█████████▉| 993/1000 [29:24<00:12,  1.82s/it]"
     ]
    },
    {
     "name": "stdout",
     "output_type": "stream",
     "text": [
      "\n",
      "=== Sample 993/1000 ===\n",
      "RAW TEXT: my newsreader is filling up with blogs  yay! keep pm`ing me your blog sites. I love reading them!\n",
      "Predicted RAW: positive\n",
      "CLEANED TEXT: newsreader filling blog yay keep pming blog site love reading\n",
      "Predicted CLEAN: positive\n",
      "TRUE SENTIMENT: positive\n"
     ]
    },
    {
     "name": "stderr",
     "output_type": "stream",
     "text": [
      " 99%|█████████▉| 994/1000 [29:25<00:10,  1.81s/it]"
     ]
    },
    {
     "name": "stdout",
     "output_type": "stream",
     "text": [
      "\n",
      "=== Sample 994/1000 ===\n",
      "RAW TEXT: home alone and no one left me any gummy bears\n",
      "Predicted RAW: negative\n",
      "CLEANED TEXT: home alone one left gummy bear\n",
      "Predicted CLEAN: positive\n",
      "TRUE SENTIMENT: negative\n"
     ]
    },
    {
     "name": "stderr",
     "output_type": "stream",
     "text": [
      "100%|█████████▉| 995/1000 [29:27<00:08,  1.79s/it]"
     ]
    },
    {
     "name": "stdout",
     "output_type": "stream",
     "text": [
      "\n",
      "=== Sample 995/1000 ===\n",
      "RAW TEXT: back from melly`s party... i had fun...  i`m sleepy now...\n",
      "Predicted RAW: positive\n",
      "CLEANED TEXT: back mellys party fun im sleepy\n",
      "Predicted CLEAN: positive\n",
      "TRUE SENTIMENT: positive\n"
     ]
    },
    {
     "name": "stderr",
     "output_type": "stream",
     "text": [
      "100%|█████████▉| 996/1000 [29:29<00:07,  1.78s/it]"
     ]
    },
    {
     "name": "stdout",
     "output_type": "stream",
     "text": [
      "\n",
      "=== Sample 996/1000 ===\n",
      "RAW TEXT:  Haha...YAY!!! I`M CURED!!!!\n",
      "Predicted RAW: positive\n",
      "CLEANED TEXT: hahayay im cured\n",
      "Predicted CLEAN: positive\n",
      "TRUE SENTIMENT: positive\n"
     ]
    },
    {
     "name": "stderr",
     "output_type": "stream",
     "text": [
      "100%|█████████▉| 997/1000 [29:31<00:05,  1.77s/it]"
     ]
    },
    {
     "name": "stdout",
     "output_type": "stream",
     "text": [
      "\n",
      "=== Sample 997/1000 ===\n",
      "RAW TEXT: Sick, sick, sick. This sucks. i can`t even breathe properly\n",
      "Predicted RAW: negative\n",
      "CLEANED TEXT: sick sick sick suck cant even breathe properly\n",
      "Predicted CLEAN: negative\n",
      "TRUE SENTIMENT: negative\n"
     ]
    },
    {
     "name": "stderr",
     "output_type": "stream",
     "text": [
      "100%|█████████▉| 998/1000 [29:32<00:03,  1.77s/it]"
     ]
    },
    {
     "name": "stdout",
     "output_type": "stream",
     "text": [
      "\n",
      "=== Sample 998/1000 ===\n",
      "RAW TEXT: Adding names to my Twitter account and learning how to use this amazing thing!\n",
      "Predicted RAW: positive\n",
      "CLEANED TEXT: adding name twitter account learning use amazing thing\n",
      "Predicted CLEAN: positive\n",
      "TRUE SENTIMENT: positive\n"
     ]
    },
    {
     "name": "stderr",
     "output_type": "stream",
     "text": [
      "100%|█████████▉| 999/1000 [29:34<00:01,  1.78s/it]"
     ]
    },
    {
     "name": "stdout",
     "output_type": "stream",
     "text": [
      "\n",
      "=== Sample 999/1000 ===\n",
      "RAW TEXT:  ooh thats an early start  ive got bed planned for that time..ha..LoveYouJonesy ****\n",
      "Predicted RAW: negative\n",
      "CLEANED TEXT: ooh thats early start ive got bed planned timehaloveyoujonesy\n",
      "Predicted CLEAN: positive\n",
      "TRUE SENTIMENT: positive\n"
     ]
    },
    {
     "name": "stderr",
     "output_type": "stream",
     "text": [
      "100%|██████████| 1000/1000 [29:36<00:00,  1.78s/it]"
     ]
    },
    {
     "name": "stdout",
     "output_type": "stream",
     "text": [
      "\n",
      "=== Sample 1000/1000 ===\n",
      "RAW TEXT: Booo my best friend is leavin for the weekend. What ever will I do without her??\n",
      "Predicted RAW: negative\n",
      "CLEANED TEXT: booo best friend leavin weekend ever without\n",
      "Predicted CLEAN: negative\n",
      "TRUE SENTIMENT: negative\n",
      "\n",
      "Accuracy (raw text): 87.40%\n",
      "Accuracy (clean text): 85.70%\n"
     ]
    },
    {
     "name": "stderr",
     "output_type": "stream",
     "text": [
      "\n"
     ]
    }
   ],
   "source": [
    "data_subset = data.head(1000)\n",
    "\n",
    "results = []\n",
    "total_samples = len(data_subset)\n",
    "\n",
    "for i, (_, row) in enumerate(tqdm(data_subset.iterrows(), total=total_samples), start=1):\n",
    "    raw_text = row[\"raw_text\"]\n",
    "    cleaned_text = row[\"clean_text\"]\n",
    "    true_sent = row[\"sentiment\"]\n",
    "\n",
    "    pred_raw = classify_sentiment(raw_text)\n",
    "    pred_clean = classify_sentiment(cleaned_text)\n",
    "\n",
    "    # Lưu kết quả vào list\n",
    "    results.append({\n",
    "        \"textID\": row[\"textID\"],\n",
    "        \"raw_text\": raw_text,\n",
    "        \"clean_text\": cleaned_text,\n",
    "        \"sentiment\": true_sent,\n",
    "        \"pred_raw\": pred_raw,\n",
    "        \"pred_clean\": pred_clean\n",
    "    })\n",
    "\n",
    "    # In ra kiểu sample i/n\n",
    "    print(f\"\\n=== Sample {i}/{total_samples} ===\")\n",
    "    print(\"RAW TEXT:\", raw_text)\n",
    "    print(\"Predicted RAW:\", pred_raw)\n",
    "    print(\"CLEANED TEXT:\", cleaned_text)\n",
    "    print(\"Predicted CLEAN:\", pred_clean)\n",
    "    print(\"TRUE SENTIMENT:\", true_sent)\n",
    "\n",
    "# Chuyển sang DataFrame\n",
    "df_results = pd.DataFrame(results)\n",
    "\n",
    "# Accuracy\n",
    "acc_raw = (df_results[\"pred_raw\"] == df_results[\"sentiment\"]).mean()\n",
    "acc_clean = (df_results[\"pred_clean\"] == df_results[\"sentiment\"]).mean()\n",
    "print(f\"\\nAccuracy (raw text): {acc_raw:.2%}\")\n",
    "print(f\"Accuracy (clean text): {acc_clean:.2%}\")\n",
    "\n",
    "# Xuất CSV\n",
    "df_results.to_csv(\"sentiment_predictions_1000.csv\", index=False)\n"
   ]
  }
 ],
 "metadata": {
  "kaggle": {
   "accelerator": "gpu",
   "dataSources": [
    {
     "datasetId": 8213782,
     "sourceId": 12977231,
     "sourceType": "datasetVersion"
    }
   ],
   "dockerImageVersionId": 31090,
   "isGpuEnabled": true,
   "isInternetEnabled": true,
   "language": "python",
   "sourceType": "notebook"
  },
  "kernelspec": {
   "display_name": "Python 3",
   "language": "python",
   "name": "python3"
  },
  "language_info": {
   "codemirror_mode": {
    "name": "ipython",
    "version": 3
   },
   "file_extension": ".py",
   "mimetype": "text/x-python",
   "name": "python",
   "nbconvert_exporter": "python",
   "pygments_lexer": "ipython3",
   "version": "3.11.13"
  },
  "papermill": {
   "default_parameters": {},
   "duration": 1903.14626,
   "end_time": "2025-09-06T12:26:00.375019",
   "environment_variables": {},
   "exception": null,
   "input_path": "__notebook__.ipynb",
   "output_path": "__notebook__.ipynb",
   "parameters": {},
   "start_time": "2025-09-06T11:54:17.228759",
   "version": "2.6.0"
  },
  "widgets": {
   "application/vnd.jupyter.widget-state+json": {
    "state": {
     "02d044510bd84a92965d3cbae59deca0": {
      "model_module": "@jupyter-widgets/base",
      "model_module_version": "2.0.0",
      "model_name": "LayoutModel",
      "state": {
       "_model_module": "@jupyter-widgets/base",
       "_model_module_version": "2.0.0",
       "_model_name": "LayoutModel",
       "_view_count": null,
       "_view_module": "@jupyter-widgets/base",
       "_view_module_version": "2.0.0",
       "_view_name": "LayoutView",
       "align_content": null,
       "align_items": null,
       "align_self": null,
       "border_bottom": null,
       "border_left": null,
       "border_right": null,
       "border_top": null,
       "bottom": null,
       "display": null,
       "flex": null,
       "flex_flow": null,
       "grid_area": null,
       "grid_auto_columns": null,
       "grid_auto_flow": null,
       "grid_auto_rows": null,
       "grid_column": null,
       "grid_gap": null,
       "grid_row": null,
       "grid_template_areas": null,
       "grid_template_columns": null,
       "grid_template_rows": null,
       "height": null,
       "justify_content": null,
       "justify_items": null,
       "left": null,
       "margin": null,
       "max_height": null,
       "max_width": null,
       "min_height": null,
       "min_width": null,
       "object_fit": null,
       "object_position": null,
       "order": null,
       "overflow": null,
       "padding": null,
       "right": null,
       "top": null,
       "visibility": null,
       "width": null
      }
     },
     "0491a9578961435ba7cb3ba3efbfc8cb": {
      "model_module": "@jupyter-widgets/base",
      "model_module_version": "2.0.0",
      "model_name": "LayoutModel",
      "state": {
       "_model_module": "@jupyter-widgets/base",
       "_model_module_version": "2.0.0",
       "_model_name": "LayoutModel",
       "_view_count": null,
       "_view_module": "@jupyter-widgets/base",
       "_view_module_version": "2.0.0",
       "_view_name": "LayoutView",
       "align_content": null,
       "align_items": null,
       "align_self": null,
       "border_bottom": null,
       "border_left": null,
       "border_right": null,
       "border_top": null,
       "bottom": null,
       "display": null,
       "flex": null,
       "flex_flow": null,
       "grid_area": null,
       "grid_auto_columns": null,
       "grid_auto_flow": null,
       "grid_auto_rows": null,
       "grid_column": null,
       "grid_gap": null,
       "grid_row": null,
       "grid_template_areas": null,
       "grid_template_columns": null,
       "grid_template_rows": null,
       "height": null,
       "justify_content": null,
       "justify_items": null,
       "left": null,
       "margin": null,
       "max_height": null,
       "max_width": null,
       "min_height": null,
       "min_width": null,
       "object_fit": null,
       "object_position": null,
       "order": null,
       "overflow": null,
       "padding": null,
       "right": null,
       "top": null,
       "visibility": null,
       "width": null
      }
     },
     "0b4d3054e0e741638df536de7dd7cae7": {
      "model_module": "@jupyter-widgets/controls",
      "model_module_version": "2.0.0",
      "model_name": "HBoxModel",
      "state": {
       "_dom_classes": [],
       "_model_module": "@jupyter-widgets/controls",
       "_model_module_version": "2.0.0",
       "_model_name": "HBoxModel",
       "_view_count": null,
       "_view_module": "@jupyter-widgets/controls",
       "_view_module_version": "2.0.0",
       "_view_name": "HBoxView",
       "box_style": "",
       "children": [
        "IPY_MODEL_d152fea3cf2d43edbef6062f280927e8",
        "IPY_MODEL_ffd012875b2f473bbc3f2d9d4790b8b5",
        "IPY_MODEL_b0592ccf0b2a4609af7d9dbaa7d6135f"
       ],
       "layout": "IPY_MODEL_84350104c78c43468966fead776c581a",
       "tabbable": null,
       "tooltip": null
      }
     },
     "0ebeafb9531f4f43908c204471fac0bd": {
      "model_module": "@jupyter-widgets/base",
      "model_module_version": "2.0.0",
      "model_name": "LayoutModel",
      "state": {
       "_model_module": "@jupyter-widgets/base",
       "_model_module_version": "2.0.0",
       "_model_name": "LayoutModel",
       "_view_count": null,
       "_view_module": "@jupyter-widgets/base",
       "_view_module_version": "2.0.0",
       "_view_name": "LayoutView",
       "align_content": null,
       "align_items": null,
       "align_self": null,
       "border_bottom": null,
       "border_left": null,
       "border_right": null,
       "border_top": null,
       "bottom": null,
       "display": null,
       "flex": null,
       "flex_flow": null,
       "grid_area": null,
       "grid_auto_columns": null,
       "grid_auto_flow": null,
       "grid_auto_rows": null,
       "grid_column": null,
       "grid_gap": null,
       "grid_row": null,
       "grid_template_areas": null,
       "grid_template_columns": null,
       "grid_template_rows": null,
       "height": null,
       "justify_content": null,
       "justify_items": null,
       "left": null,
       "margin": null,
       "max_height": null,
       "max_width": null,
       "min_height": null,
       "min_width": null,
       "object_fit": null,
       "object_position": null,
       "order": null,
       "overflow": null,
       "padding": null,
       "right": null,
       "top": null,
       "visibility": null,
       "width": null
      }
     },
     "0ee0ebcc465a4c78a08a2c3430731204": {
      "model_module": "@jupyter-widgets/base",
      "model_module_version": "2.0.0",
      "model_name": "LayoutModel",
      "state": {
       "_model_module": "@jupyter-widgets/base",
       "_model_module_version": "2.0.0",
       "_model_name": "LayoutModel",
       "_view_count": null,
       "_view_module": "@jupyter-widgets/base",
       "_view_module_version": "2.0.0",
       "_view_name": "LayoutView",
       "align_content": null,
       "align_items": null,
       "align_self": null,
       "border_bottom": null,
       "border_left": null,
       "border_right": null,
       "border_top": null,
       "bottom": null,
       "display": null,
       "flex": null,
       "flex_flow": null,
       "grid_area": null,
       "grid_auto_columns": null,
       "grid_auto_flow": null,
       "grid_auto_rows": null,
       "grid_column": null,
       "grid_gap": null,
       "grid_row": null,
       "grid_template_areas": null,
       "grid_template_columns": null,
       "grid_template_rows": null,
       "height": null,
       "justify_content": null,
       "justify_items": null,
       "left": null,
       "margin": null,
       "max_height": null,
       "max_width": null,
       "min_height": null,
       "min_width": null,
       "object_fit": null,
       "object_position": null,
       "order": null,
       "overflow": null,
       "padding": null,
       "right": null,
       "top": null,
       "visibility": null,
       "width": null
      }
     },
     "0f68866a158c43c2be8776bb1ba92001": {
      "model_module": "@jupyter-widgets/base",
      "model_module_version": "2.0.0",
      "model_name": "LayoutModel",
      "state": {
       "_model_module": "@jupyter-widgets/base",
       "_model_module_version": "2.0.0",
       "_model_name": "LayoutModel",
       "_view_count": null,
       "_view_module": "@jupyter-widgets/base",
       "_view_module_version": "2.0.0",
       "_view_name": "LayoutView",
       "align_content": null,
       "align_items": null,
       "align_self": null,
       "border_bottom": null,
       "border_left": null,
       "border_right": null,
       "border_top": null,
       "bottom": null,
       "display": null,
       "flex": null,
       "flex_flow": null,
       "grid_area": null,
       "grid_auto_columns": null,
       "grid_auto_flow": null,
       "grid_auto_rows": null,
       "grid_column": null,
       "grid_gap": null,
       "grid_row": null,
       "grid_template_areas": null,
       "grid_template_columns": null,
       "grid_template_rows": null,
       "height": null,
       "justify_content": null,
       "justify_items": null,
       "left": null,
       "margin": null,
       "max_height": null,
       "max_width": null,
       "min_height": null,
       "min_width": null,
       "object_fit": null,
       "object_position": null,
       "order": null,
       "overflow": null,
       "padding": null,
       "right": null,
       "top": null,
       "visibility": null,
       "width": null
      }
     },
     "15582d2e9af94476877ac22bbb47d4e0": {
      "model_module": "@jupyter-widgets/base",
      "model_module_version": "2.0.0",
      "model_name": "LayoutModel",
      "state": {
       "_model_module": "@jupyter-widgets/base",
       "_model_module_version": "2.0.0",
       "_model_name": "LayoutModel",
       "_view_count": null,
       "_view_module": "@jupyter-widgets/base",
       "_view_module_version": "2.0.0",
       "_view_name": "LayoutView",
       "align_content": null,
       "align_items": null,
       "align_self": null,
       "border_bottom": null,
       "border_left": null,
       "border_right": null,
       "border_top": null,
       "bottom": null,
       "display": null,
       "flex": null,
       "flex_flow": null,
       "grid_area": null,
       "grid_auto_columns": null,
       "grid_auto_flow": null,
       "grid_auto_rows": null,
       "grid_column": null,
       "grid_gap": null,
       "grid_row": null,
       "grid_template_areas": null,
       "grid_template_columns": null,
       "grid_template_rows": null,
       "height": null,
       "justify_content": null,
       "justify_items": null,
       "left": null,
       "margin": null,
       "max_height": null,
       "max_width": null,
       "min_height": null,
       "min_width": null,
       "object_fit": null,
       "object_position": null,
       "order": null,
       "overflow": null,
       "padding": null,
       "right": null,
       "top": null,
       "visibility": null,
       "width": null
      }
     },
     "167e9e8fcb7a474ba5bb4d5d03c1eda8": {
      "model_module": "@jupyter-widgets/base",
      "model_module_version": "2.0.0",
      "model_name": "LayoutModel",
      "state": {
       "_model_module": "@jupyter-widgets/base",
       "_model_module_version": "2.0.0",
       "_model_name": "LayoutModel",
       "_view_count": null,
       "_view_module": "@jupyter-widgets/base",
       "_view_module_version": "2.0.0",
       "_view_name": "LayoutView",
       "align_content": null,
       "align_items": null,
       "align_self": null,
       "border_bottom": null,
       "border_left": null,
       "border_right": null,
       "border_top": null,
       "bottom": null,
       "display": null,
       "flex": null,
       "flex_flow": null,
       "grid_area": null,
       "grid_auto_columns": null,
       "grid_auto_flow": null,
       "grid_auto_rows": null,
       "grid_column": null,
       "grid_gap": null,
       "grid_row": null,
       "grid_template_areas": null,
       "grid_template_columns": null,
       "grid_template_rows": null,
       "height": null,
       "justify_content": null,
       "justify_items": null,
       "left": null,
       "margin": null,
       "max_height": null,
       "max_width": null,
       "min_height": null,
       "min_width": null,
       "object_fit": null,
       "object_position": null,
       "order": null,
       "overflow": null,
       "padding": null,
       "right": null,
       "top": null,
       "visibility": null,
       "width": null
      }
     },
     "1847a7231b9f447fb1c5d410a07f5b4c": {
      "model_module": "@jupyter-widgets/controls",
      "model_module_version": "2.0.0",
      "model_name": "HTMLModel",
      "state": {
       "_dom_classes": [],
       "_model_module": "@jupyter-widgets/controls",
       "_model_module_version": "2.0.0",
       "_model_name": "HTMLModel",
       "_view_count": null,
       "_view_module": "@jupyter-widgets/controls",
       "_view_module_version": "2.0.0",
       "_view_name": "HTMLView",
       "description": "",
       "description_allow_html": false,
       "layout": "IPY_MODEL_aa2c9f219ea64c84af25f8463aeb4ed9",
       "placeholder": "​",
       "style": "IPY_MODEL_85ebe8ace5d74f8f8d591923d3d0a6ce",
       "tabbable": null,
       "tooltip": null,
       "value": "Fetching 3 files: 100%"
      }
     },
     "196116ff8f434b6fa91eec5602283947": {
      "model_module": "@jupyter-widgets/controls",
      "model_module_version": "2.0.0",
      "model_name": "HBoxModel",
      "state": {
       "_dom_classes": [],
       "_model_module": "@jupyter-widgets/controls",
       "_model_module_version": "2.0.0",
       "_model_name": "HBoxModel",
       "_view_count": null,
       "_view_module": "@jupyter-widgets/controls",
       "_view_module_version": "2.0.0",
       "_view_name": "HBoxView",
       "box_style": "",
       "children": [
        "IPY_MODEL_758b3a0cade348d4bca9a97388afb048",
        "IPY_MODEL_8bd67697486d442798368524ea236d72",
        "IPY_MODEL_b0aaa120986241468561f2fc6b4152f4"
       ],
       "layout": "IPY_MODEL_0ee0ebcc465a4c78a08a2c3430731204",
       "tabbable": null,
       "tooltip": null
      }
     },
     "19c0e82846154d9995c1c2906fd96e4c": {
      "model_module": "@jupyter-widgets/base",
      "model_module_version": "2.0.0",
      "model_name": "LayoutModel",
      "state": {
       "_model_module": "@jupyter-widgets/base",
       "_model_module_version": "2.0.0",
       "_model_name": "LayoutModel",
       "_view_count": null,
       "_view_module": "@jupyter-widgets/base",
       "_view_module_version": "2.0.0",
       "_view_name": "LayoutView",
       "align_content": null,
       "align_items": null,
       "align_self": null,
       "border_bottom": null,
       "border_left": null,
       "border_right": null,
       "border_top": null,
       "bottom": null,
       "display": null,
       "flex": null,
       "flex_flow": null,
       "grid_area": null,
       "grid_auto_columns": null,
       "grid_auto_flow": null,
       "grid_auto_rows": null,
       "grid_column": null,
       "grid_gap": null,
       "grid_row": null,
       "grid_template_areas": null,
       "grid_template_columns": null,
       "grid_template_rows": null,
       "height": null,
       "justify_content": null,
       "justify_items": null,
       "left": null,
       "margin": null,
       "max_height": null,
       "max_width": null,
       "min_height": null,
       "min_width": null,
       "object_fit": null,
       "object_position": null,
       "order": null,
       "overflow": null,
       "padding": null,
       "right": null,
       "top": null,
       "visibility": null,
       "width": null
      }
     },
     "1b5be4d2a9c94e90bd122d8fa840efc3": {
      "model_module": "@jupyter-widgets/controls",
      "model_module_version": "2.0.0",
      "model_name": "FloatProgressModel",
      "state": {
       "_dom_classes": [],
       "_model_module": "@jupyter-widgets/controls",
       "_model_module_version": "2.0.0",
       "_model_name": "FloatProgressModel",
       "_view_count": null,
       "_view_module": "@jupyter-widgets/controls",
       "_view_module_version": "2.0.0",
       "_view_name": "ProgressView",
       "bar_style": "success",
       "description": "",
       "description_allow_html": false,
       "layout": "IPY_MODEL_7e669cac3b4242e8b53ab94084f99968",
       "max": 99630640.0,
       "min": 0.0,
       "orientation": "horizontal",
       "style": "IPY_MODEL_419c204cad52460ead315b04dbc7c535",
       "tabbable": null,
       "tooltip": null,
       "value": 99630640.0
      }
     },
     "1ccabc81649e43b4bb83fa3b94170363": {
      "model_module": "@jupyter-widgets/controls",
      "model_module_version": "2.0.0",
      "model_name": "ProgressStyleModel",
      "state": {
       "_model_module": "@jupyter-widgets/controls",
       "_model_module_version": "2.0.0",
       "_model_name": "ProgressStyleModel",
       "_view_count": null,
       "_view_module": "@jupyter-widgets/base",
       "_view_module_version": "2.0.0",
       "_view_name": "StyleView",
       "bar_color": null,
       "description_width": ""
      }
     },
     "1e8b7445a3434f519eae3aacdc259bd2": {
      "model_module": "@jupyter-widgets/base",
      "model_module_version": "2.0.0",
      "model_name": "LayoutModel",
      "state": {
       "_model_module": "@jupyter-widgets/base",
       "_model_module_version": "2.0.0",
       "_model_name": "LayoutModel",
       "_view_count": null,
       "_view_module": "@jupyter-widgets/base",
       "_view_module_version": "2.0.0",
       "_view_name": "LayoutView",
       "align_content": null,
       "align_items": null,
       "align_self": null,
       "border_bottom": null,
       "border_left": null,
       "border_right": null,
       "border_top": null,
       "bottom": null,
       "display": null,
       "flex": null,
       "flex_flow": null,
       "grid_area": null,
       "grid_auto_columns": null,
       "grid_auto_flow": null,
       "grid_auto_rows": null,
       "grid_column": null,
       "grid_gap": null,
       "grid_row": null,
       "grid_template_areas": null,
       "grid_template_columns": null,
       "grid_template_rows": null,
       "height": null,
       "justify_content": null,
       "justify_items": null,
       "left": null,
       "margin": null,
       "max_height": null,
       "max_width": null,
       "min_height": null,
       "min_width": null,
       "object_fit": null,
       "object_position": null,
       "order": null,
       "overflow": null,
       "padding": null,
       "right": null,
       "top": null,
       "visibility": null,
       "width": null
      }
     },
     "2125da923f48457b9f9e4ec4af633a29": {
      "model_module": "@jupyter-widgets/controls",
      "model_module_version": "2.0.0",
      "model_name": "HTMLModel",
      "state": {
       "_dom_classes": [],
       "_model_module": "@jupyter-widgets/controls",
       "_model_module_version": "2.0.0",
       "_model_name": "HTMLModel",
       "_view_count": null,
       "_view_module": "@jupyter-widgets/controls",
       "_view_module_version": "2.0.0",
       "_view_name": "HTMLView",
       "description": "",
       "description_allow_html": false,
       "layout": "IPY_MODEL_716525a7da9c48ec879560e9115dd155",
       "placeholder": "​",
       "style": "IPY_MODEL_9f7f96db9596400d9019209a24d46bc9",
       "tabbable": null,
       "tooltip": null,
       "value": " 727/727 [00:00&lt;00:00, 85.4kB/s]"
      }
     },
     "215381aa117447cc81972d76f27b94f6": {
      "model_module": "@jupyter-widgets/controls",
      "model_module_version": "2.0.0",
      "model_name": "FloatProgressModel",
      "state": {
       "_dom_classes": [],
       "_model_module": "@jupyter-widgets/controls",
       "_model_module_version": "2.0.0",
       "_model_name": "FloatProgressModel",
       "_view_count": null,
       "_view_module": "@jupyter-widgets/controls",
       "_view_module_version": "2.0.0",
       "_view_name": "ProgressView",
       "bar_style": "success",
       "description": "",
       "description_allow_html": false,
       "layout": "IPY_MODEL_f6828c9d84aa4f8580a93568d04fb7b1",
       "max": 3.0,
       "min": 0.0,
       "orientation": "horizontal",
       "style": "IPY_MODEL_5fee277dfbbb4b1cb527e6f0cdda1f0e",
       "tabbable": null,
       "tooltip": null,
       "value": 3.0
      }
     },
     "2686afd17c2f4b2daa0a30f626d23aba": {
      "model_module": "@jupyter-widgets/base",
      "model_module_version": "2.0.0",
      "model_name": "LayoutModel",
      "state": {
       "_model_module": "@jupyter-widgets/base",
       "_model_module_version": "2.0.0",
       "_model_name": "LayoutModel",
       "_view_count": null,
       "_view_module": "@jupyter-widgets/base",
       "_view_module_version": "2.0.0",
       "_view_name": "LayoutView",
       "align_content": null,
       "align_items": null,
       "align_self": null,
       "border_bottom": null,
       "border_left": null,
       "border_right": null,
       "border_top": null,
       "bottom": null,
       "display": null,
       "flex": null,
       "flex_flow": null,
       "grid_area": null,
       "grid_auto_columns": null,
       "grid_auto_flow": null,
       "grid_auto_rows": null,
       "grid_column": null,
       "grid_gap": null,
       "grid_row": null,
       "grid_template_areas": null,
       "grid_template_columns": null,
       "grid_template_rows": null,
       "height": null,
       "justify_content": null,
       "justify_items": null,
       "left": null,
       "margin": null,
       "max_height": null,
       "max_width": null,
       "min_height": null,
       "min_width": null,
       "object_fit": null,
       "object_position": null,
       "order": null,
       "overflow": null,
       "padding": null,
       "right": null,
       "top": null,
       "visibility": null,
       "width": "20px"
      }
     },
     "2ade8edb7cfb48ff9c926c17e8353d27": {
      "model_module": "@jupyter-widgets/controls",
      "model_module_version": "2.0.0",
      "model_name": "HTMLModel",
      "state": {
       "_dom_classes": [],
       "_model_module": "@jupyter-widgets/controls",
       "_model_module_version": "2.0.0",
       "_model_name": "HTMLModel",
       "_view_count": null,
       "_view_module": "@jupyter-widgets/controls",
       "_view_module_version": "2.0.0",
       "_view_name": "HTMLView",
       "description": "",
       "description_allow_html": false,
       "layout": "IPY_MODEL_1e8b7445a3434f519eae3aacdc259bd2",
       "placeholder": "​",
       "style": "IPY_MODEL_ea0de8d51c014c0c8b1ce206f69443b4",
       "tabbable": null,
       "tooltip": null,
       "value": "generation_config.json: 100%"
      }
     },
     "2ce24b08954747b48278f62b810fe274": {
      "model_module": "@jupyter-widgets/base",
      "model_module_version": "2.0.0",
      "model_name": "LayoutModel",
      "state": {
       "_model_module": "@jupyter-widgets/base",
       "_model_module_version": "2.0.0",
       "_model_name": "LayoutModel",
       "_view_count": null,
       "_view_module": "@jupyter-widgets/base",
       "_view_module_version": "2.0.0",
       "_view_name": "LayoutView",
       "align_content": null,
       "align_items": null,
       "align_self": null,
       "border_bottom": null,
       "border_left": null,
       "border_right": null,
       "border_top": null,
       "bottom": null,
       "display": null,
       "flex": null,
       "flex_flow": null,
       "grid_area": null,
       "grid_auto_columns": null,
       "grid_auto_flow": null,
       "grid_auto_rows": null,
       "grid_column": null,
       "grid_gap": null,
       "grid_row": null,
       "grid_template_areas": null,
       "grid_template_columns": null,
       "grid_template_rows": null,
       "height": null,
       "justify_content": null,
       "justify_items": null,
       "left": null,
       "margin": null,
       "max_height": null,
       "max_width": null,
       "min_height": null,
       "min_width": null,
       "object_fit": null,
       "object_position": null,
       "order": null,
       "overflow": null,
       "padding": null,
       "right": null,
       "top": null,
       "visibility": null,
       "width": "20px"
      }
     },
     "2f57db8ad79147c1a0187d61f3606d27": {
      "model_module": "@jupyter-widgets/controls",
      "model_module_version": "2.0.0",
      "model_name": "ProgressStyleModel",
      "state": {
       "_model_module": "@jupyter-widgets/controls",
       "_model_module_version": "2.0.0",
       "_model_name": "ProgressStyleModel",
       "_view_count": null,
       "_view_module": "@jupyter-widgets/base",
       "_view_module_version": "2.0.0",
       "_view_name": "StyleView",
       "bar_color": null,
       "description_width": ""
      }
     },
     "2f6088c887114344a7dd4749c3e8dc63": {
      "model_module": "@jupyter-widgets/controls",
      "model_module_version": "2.0.0",
      "model_name": "FloatProgressModel",
      "state": {
       "_dom_classes": [],
       "_model_module": "@jupyter-widgets/controls",
       "_model_module_version": "2.0.0",
       "_model_name": "FloatProgressModel",
       "_view_count": null,
       "_view_module": "@jupyter-widgets/controls",
       "_view_module_version": "2.0.0",
       "_view_name": "ProgressView",
       "bar_style": "success",
       "description": "",
       "description_allow_html": false,
       "layout": "IPY_MODEL_7f414763017f47d18ba9be6c87e79eb8",
       "max": 1.0,
       "min": 0.0,
       "orientation": "horizontal",
       "style": "IPY_MODEL_57082e4dd7ff4161861d85307c7d35f9",
       "tabbable": null,
       "tooltip": null,
       "value": 1.0
      }
     },
     "2f8d9f30be514308a8be607b8648b4a3": {
      "model_module": "@jupyter-widgets/controls",
      "model_module_version": "2.0.0",
      "model_name": "FloatProgressModel",
      "state": {
       "_dom_classes": [],
       "_model_module": "@jupyter-widgets/controls",
       "_model_module_version": "2.0.0",
       "_model_name": "FloatProgressModel",
       "_view_count": null,
       "_view_module": "@jupyter-widgets/controls",
       "_view_module_version": "2.0.0",
       "_view_name": "ProgressView",
       "bar_style": "success",
       "description": "",
       "description_allow_html": false,
       "layout": "IPY_MODEL_b915077c8aea4e5991e71fce2469afcb",
       "max": 3957900840.0,
       "min": 0.0,
       "orientation": "horizontal",
       "style": "IPY_MODEL_f7c0d85b63b94598a5a881d093b3abc5",
       "tabbable": null,
       "tooltip": null,
       "value": 3957900840.0
      }
     },
     "30349098f7594d49876ce55673f0aaca": {
      "model_module": "@jupyter-widgets/base",
      "model_module_version": "2.0.0",
      "model_name": "LayoutModel",
      "state": {
       "_model_module": "@jupyter-widgets/base",
       "_model_module_version": "2.0.0",
       "_model_name": "LayoutModel",
       "_view_count": null,
       "_view_module": "@jupyter-widgets/base",
       "_view_module_version": "2.0.0",
       "_view_name": "LayoutView",
       "align_content": null,
       "align_items": null,
       "align_self": null,
       "border_bottom": null,
       "border_left": null,
       "border_right": null,
       "border_top": null,
       "bottom": null,
       "display": null,
       "flex": null,
       "flex_flow": null,
       "grid_area": null,
       "grid_auto_columns": null,
       "grid_auto_flow": null,
       "grid_auto_rows": null,
       "grid_column": null,
       "grid_gap": null,
       "grid_row": null,
       "grid_template_areas": null,
       "grid_template_columns": null,
       "grid_template_rows": null,
       "height": null,
       "justify_content": null,
       "justify_items": null,
       "left": null,
       "margin": null,
       "max_height": null,
       "max_width": null,
       "min_height": null,
       "min_width": null,
       "object_fit": null,
       "object_position": null,
       "order": null,
       "overflow": null,
       "padding": null,
       "right": null,
       "top": null,
       "visibility": null,
       "width": null
      }
     },
     "312fae558920420ba025d289b3d7e9cc": {
      "model_module": "@jupyter-widgets/controls",
      "model_module_version": "2.0.0",
      "model_name": "HTMLStyleModel",
      "state": {
       "_model_module": "@jupyter-widgets/controls",
       "_model_module_version": "2.0.0",
       "_model_name": "HTMLStyleModel",
       "_view_count": null,
       "_view_module": "@jupyter-widgets/base",
       "_view_module_version": "2.0.0",
       "_view_name": "StyleView",
       "background": null,
       "description_width": "",
       "font_size": null,
       "text_color": null
      }
     },
     "31dc76424b4a48b5ad6f10dd7b0427e8": {
      "model_module": "@jupyter-widgets/base",
      "model_module_version": "2.0.0",
      "model_name": "LayoutModel",
      "state": {
       "_model_module": "@jupyter-widgets/base",
       "_model_module_version": "2.0.0",
       "_model_name": "LayoutModel",
       "_view_count": null,
       "_view_module": "@jupyter-widgets/base",
       "_view_module_version": "2.0.0",
       "_view_name": "LayoutView",
       "align_content": null,
       "align_items": null,
       "align_self": null,
       "border_bottom": null,
       "border_left": null,
       "border_right": null,
       "border_top": null,
       "bottom": null,
       "display": null,
       "flex": null,
       "flex_flow": null,
       "grid_area": null,
       "grid_auto_columns": null,
       "grid_auto_flow": null,
       "grid_auto_rows": null,
       "grid_column": null,
       "grid_gap": null,
       "grid_row": null,
       "grid_template_areas": null,
       "grid_template_columns": null,
       "grid_template_rows": null,
       "height": null,
       "justify_content": null,
       "justify_items": null,
       "left": null,
       "margin": null,
       "max_height": null,
       "max_width": null,
       "min_height": null,
       "min_width": null,
       "object_fit": null,
       "object_position": null,
       "order": null,
       "overflow": null,
       "padding": null,
       "right": null,
       "top": null,
       "visibility": null,
       "width": null
      }
     },
     "33a3ebdaf1cb4ffc9dacc629a022c34b": {
      "model_module": "@jupyter-widgets/controls",
      "model_module_version": "2.0.0",
      "model_name": "HTMLStyleModel",
      "state": {
       "_model_module": "@jupyter-widgets/controls",
       "_model_module_version": "2.0.0",
       "_model_name": "HTMLStyleModel",
       "_view_count": null,
       "_view_module": "@jupyter-widgets/base",
       "_view_module_version": "2.0.0",
       "_view_name": "StyleView",
       "background": null,
       "description_width": "",
       "font_size": null,
       "text_color": null
      }
     },
     "385e4f7fa6cf4b79a519ed14d4973111": {
      "model_module": "@jupyter-widgets/controls",
      "model_module_version": "2.0.0",
      "model_name": "ProgressStyleModel",
      "state": {
       "_model_module": "@jupyter-widgets/controls",
       "_model_module_version": "2.0.0",
       "_model_name": "ProgressStyleModel",
       "_view_count": null,
       "_view_module": "@jupyter-widgets/base",
       "_view_module_version": "2.0.0",
       "_view_name": "StyleView",
       "bar_color": null,
       "description_width": ""
      }
     },
     "3c6b2adb386847a1967d097319f66a10": {
      "model_module": "@jupyter-widgets/controls",
      "model_module_version": "2.0.0",
      "model_name": "HTMLStyleModel",
      "state": {
       "_model_module": "@jupyter-widgets/controls",
       "_model_module_version": "2.0.0",
       "_model_name": "HTMLStyleModel",
       "_view_count": null,
       "_view_module": "@jupyter-widgets/base",
       "_view_module_version": "2.0.0",
       "_view_name": "StyleView",
       "background": null,
       "description_width": "",
       "font_size": null,
       "text_color": null
      }
     },
     "3cc7e270b9b64a2d89c8d78cd587fa3c": {
      "model_module": "@jupyter-widgets/base",
      "model_module_version": "2.0.0",
      "model_name": "LayoutModel",
      "state": {
       "_model_module": "@jupyter-widgets/base",
       "_model_module_version": "2.0.0",
       "_model_name": "LayoutModel",
       "_view_count": null,
       "_view_module": "@jupyter-widgets/base",
       "_view_module_version": "2.0.0",
       "_view_name": "LayoutView",
       "align_content": null,
       "align_items": null,
       "align_self": null,
       "border_bottom": null,
       "border_left": null,
       "border_right": null,
       "border_top": null,
       "bottom": null,
       "display": null,
       "flex": null,
       "flex_flow": null,
       "grid_area": null,
       "grid_auto_columns": null,
       "grid_auto_flow": null,
       "grid_auto_rows": null,
       "grid_column": null,
       "grid_gap": null,
       "grid_row": null,
       "grid_template_areas": null,
       "grid_template_columns": null,
       "grid_template_rows": null,
       "height": null,
       "justify_content": null,
       "justify_items": null,
       "left": null,
       "margin": null,
       "max_height": null,
       "max_width": null,
       "min_height": null,
       "min_width": null,
       "object_fit": null,
       "object_position": null,
       "order": null,
       "overflow": null,
       "padding": null,
       "right": null,
       "top": null,
       "visibility": null,
       "width": null
      }
     },
     "419c204cad52460ead315b04dbc7c535": {
      "model_module": "@jupyter-widgets/controls",
      "model_module_version": "2.0.0",
      "model_name": "ProgressStyleModel",
      "state": {
       "_model_module": "@jupyter-widgets/controls",
       "_model_module_version": "2.0.0",
       "_model_name": "ProgressStyleModel",
       "_view_count": null,
       "_view_module": "@jupyter-widgets/base",
       "_view_module_version": "2.0.0",
       "_view_name": "StyleView",
       "bar_color": null,
       "description_width": ""
      }
     },
     "42191b3d990a49a3b63ea9d97b3bcef8": {
      "model_module": "@jupyter-widgets/controls",
      "model_module_version": "2.0.0",
      "model_name": "HTMLStyleModel",
      "state": {
       "_model_module": "@jupyter-widgets/controls",
       "_model_module_version": "2.0.0",
       "_model_name": "HTMLStyleModel",
       "_view_count": null,
       "_view_module": "@jupyter-widgets/base",
       "_view_module_version": "2.0.0",
       "_view_name": "StyleView",
       "background": null,
       "description_width": "",
       "font_size": null,
       "text_color": null
      }
     },
     "443e5a83b57f42b1b9d78e4f37cb78c0": {
      "model_module": "@jupyter-widgets/base",
      "model_module_version": "2.0.0",
      "model_name": "LayoutModel",
      "state": {
       "_model_module": "@jupyter-widgets/base",
       "_model_module_version": "2.0.0",
       "_model_name": "LayoutModel",
       "_view_count": null,
       "_view_module": "@jupyter-widgets/base",
       "_view_module_version": "2.0.0",
       "_view_name": "LayoutView",
       "align_content": null,
       "align_items": null,
       "align_self": null,
       "border_bottom": null,
       "border_left": null,
       "border_right": null,
       "border_top": null,
       "bottom": null,
       "display": null,
       "flex": null,
       "flex_flow": null,
       "grid_area": null,
       "grid_auto_columns": null,
       "grid_auto_flow": null,
       "grid_auto_rows": null,
       "grid_column": null,
       "grid_gap": null,
       "grid_row": null,
       "grid_template_areas": null,
       "grid_template_columns": null,
       "grid_template_rows": null,
       "height": null,
       "justify_content": null,
       "justify_items": null,
       "left": null,
       "margin": null,
       "max_height": null,
       "max_width": null,
       "min_height": null,
       "min_width": null,
       "object_fit": null,
       "object_position": null,
       "order": null,
       "overflow": null,
       "padding": null,
       "right": null,
       "top": null,
       "visibility": null,
       "width": null
      }
     },
     "47a474405ae64a02992022ae008a44ef": {
      "model_module": "@jupyter-widgets/base",
      "model_module_version": "2.0.0",
      "model_name": "LayoutModel",
      "state": {
       "_model_module": "@jupyter-widgets/base",
       "_model_module_version": "2.0.0",
       "_model_name": "LayoutModel",
       "_view_count": null,
       "_view_module": "@jupyter-widgets/base",
       "_view_module_version": "2.0.0",
       "_view_name": "LayoutView",
       "align_content": null,
       "align_items": null,
       "align_self": null,
       "border_bottom": null,
       "border_left": null,
       "border_right": null,
       "border_top": null,
       "bottom": null,
       "display": null,
       "flex": null,
       "flex_flow": null,
       "grid_area": null,
       "grid_auto_columns": null,
       "grid_auto_flow": null,
       "grid_auto_rows": null,
       "grid_column": null,
       "grid_gap": null,
       "grid_row": null,
       "grid_template_areas": null,
       "grid_template_columns": null,
       "grid_template_rows": null,
       "height": null,
       "justify_content": null,
       "justify_items": null,
       "left": null,
       "margin": null,
       "max_height": null,
       "max_width": null,
       "min_height": null,
       "min_width": null,
       "object_fit": null,
       "object_position": null,
       "order": null,
       "overflow": null,
       "padding": null,
       "right": null,
       "top": null,
       "visibility": null,
       "width": null
      }
     },
     "48009d751bc747b6a9c568952acde627": {
      "model_module": "@jupyter-widgets/base",
      "model_module_version": "2.0.0",
      "model_name": "LayoutModel",
      "state": {
       "_model_module": "@jupyter-widgets/base",
       "_model_module_version": "2.0.0",
       "_model_name": "LayoutModel",
       "_view_count": null,
       "_view_module": "@jupyter-widgets/base",
       "_view_module_version": "2.0.0",
       "_view_name": "LayoutView",
       "align_content": null,
       "align_items": null,
       "align_self": null,
       "border_bottom": null,
       "border_left": null,
       "border_right": null,
       "border_top": null,
       "bottom": null,
       "display": null,
       "flex": null,
       "flex_flow": null,
       "grid_area": null,
       "grid_auto_columns": null,
       "grid_auto_flow": null,
       "grid_auto_rows": null,
       "grid_column": null,
       "grid_gap": null,
       "grid_row": null,
       "grid_template_areas": null,
       "grid_template_columns": null,
       "grid_template_rows": null,
       "height": null,
       "justify_content": null,
       "justify_items": null,
       "left": null,
       "margin": null,
       "max_height": null,
       "max_width": null,
       "min_height": null,
       "min_width": null,
       "object_fit": null,
       "object_position": null,
       "order": null,
       "overflow": null,
       "padding": null,
       "right": null,
       "top": null,
       "visibility": null,
       "width": null
      }
     },
     "483bcf1db9b4459dbb1d6493c95cec5b": {
      "model_module": "@jupyter-widgets/controls",
      "model_module_version": "2.0.0",
      "model_name": "HTMLModel",
      "state": {
       "_dom_classes": [],
       "_model_module": "@jupyter-widgets/controls",
       "_model_module_version": "2.0.0",
       "_model_name": "HTMLModel",
       "_view_count": null,
       "_view_module": "@jupyter-widgets/controls",
       "_view_module_version": "2.0.0",
       "_view_name": "HTMLView",
       "description": "",
       "description_allow_html": false,
       "layout": "IPY_MODEL_7bb8c11aabec41cd89b43d165a41e3d4",
       "placeholder": "​",
       "style": "IPY_MODEL_8e0d178240354fcc8219d8f349b2c4cd",
       "tabbable": null,
       "tooltip": null,
       "value": "model-00003-of-00003.safetensors: 100%"
      }
     },
     "4bd5421bd3414c0e97259d32021528bc": {
      "model_module": "@jupyter-widgets/base",
      "model_module_version": "2.0.0",
      "model_name": "LayoutModel",
      "state": {
       "_model_module": "@jupyter-widgets/base",
       "_model_module_version": "2.0.0",
       "_model_name": "LayoutModel",
       "_view_count": null,
       "_view_module": "@jupyter-widgets/base",
       "_view_module_version": "2.0.0",
       "_view_name": "LayoutView",
       "align_content": null,
       "align_items": null,
       "align_self": null,
       "border_bottom": null,
       "border_left": null,
       "border_right": null,
       "border_top": null,
       "bottom": null,
       "display": null,
       "flex": null,
       "flex_flow": null,
       "grid_area": null,
       "grid_auto_columns": null,
       "grid_auto_flow": null,
       "grid_auto_rows": null,
       "grid_column": null,
       "grid_gap": null,
       "grid_row": null,
       "grid_template_areas": null,
       "grid_template_columns": null,
       "grid_template_rows": null,
       "height": null,
       "justify_content": null,
       "justify_items": null,
       "left": null,
       "margin": null,
       "max_height": null,
       "max_width": null,
       "min_height": null,
       "min_width": null,
       "object_fit": null,
       "object_position": null,
       "order": null,
       "overflow": null,
       "padding": null,
       "right": null,
       "top": null,
       "visibility": null,
       "width": null
      }
     },
     "4f0dc35e0dcf47378b7ada5842bc2aab": {
      "model_module": "@jupyter-widgets/base",
      "model_module_version": "2.0.0",
      "model_name": "LayoutModel",
      "state": {
       "_model_module": "@jupyter-widgets/base",
       "_model_module_version": "2.0.0",
       "_model_name": "LayoutModel",
       "_view_count": null,
       "_view_module": "@jupyter-widgets/base",
       "_view_module_version": "2.0.0",
       "_view_name": "LayoutView",
       "align_content": null,
       "align_items": null,
       "align_self": null,
       "border_bottom": null,
       "border_left": null,
       "border_right": null,
       "border_top": null,
       "bottom": null,
       "display": null,
       "flex": null,
       "flex_flow": null,
       "grid_area": null,
       "grid_auto_columns": null,
       "grid_auto_flow": null,
       "grid_auto_rows": null,
       "grid_column": null,
       "grid_gap": null,
       "grid_row": null,
       "grid_template_areas": null,
       "grid_template_columns": null,
       "grid_template_rows": null,
       "height": null,
       "justify_content": null,
       "justify_items": null,
       "left": null,
       "margin": null,
       "max_height": null,
       "max_width": null,
       "min_height": null,
       "min_width": null,
       "object_fit": null,
       "object_position": null,
       "order": null,
       "overflow": null,
       "padding": null,
       "right": null,
       "top": null,
       "visibility": null,
       "width": null
      }
     },
     "4f2ce6798c594e79ae14f64bf6e363db": {
      "model_module": "@jupyter-widgets/controls",
      "model_module_version": "2.0.0",
      "model_name": "FloatProgressModel",
      "state": {
       "_dom_classes": [],
       "_model_module": "@jupyter-widgets/controls",
       "_model_module_version": "2.0.0",
       "_model_name": "FloatProgressModel",
       "_view_count": null,
       "_view_module": "@jupyter-widgets/controls",
       "_view_module_version": "2.0.0",
       "_view_name": "ProgressView",
       "bar_style": "success",
       "description": "",
       "description_allow_html": false,
       "layout": "IPY_MODEL_2ce24b08954747b48278f62b810fe274",
       "max": 1.0,
       "min": 0.0,
       "orientation": "horizontal",
       "style": "IPY_MODEL_2f57db8ad79147c1a0187d61f3606d27",
       "tabbable": null,
       "tooltip": null,
       "value": 1.0
      }
     },
     "505271fcdfa042a19fb84e16edf1f148": {
      "model_module": "@jupyter-widgets/controls",
      "model_module_version": "2.0.0",
      "model_name": "HTMLModel",
      "state": {
       "_dom_classes": [],
       "_model_module": "@jupyter-widgets/controls",
       "_model_module_version": "2.0.0",
       "_model_name": "HTMLModel",
       "_view_count": null,
       "_view_module": "@jupyter-widgets/controls",
       "_view_module_version": "2.0.0",
       "_view_name": "HTMLView",
       "description": "",
       "description_allow_html": false,
       "layout": "IPY_MODEL_bcd27d06dfaf441ea87405493fa24c0b",
       "placeholder": "​",
       "style": "IPY_MODEL_b25f4a2ba5744eeabb6c841c4ca49fe4",
       "tabbable": null,
       "tooltip": null,
       "value": " 11.4M/11.4M [00:01&lt;00:00, 9.48MB/s]"
      }
     },
     "52d38a5176be4f4495f47f769d16ed99": {
      "model_module": "@jupyter-widgets/controls",
      "model_module_version": "2.0.0",
      "model_name": "HBoxModel",
      "state": {
       "_dom_classes": [],
       "_model_module": "@jupyter-widgets/controls",
       "_model_module_version": "2.0.0",
       "_model_name": "HBoxModel",
       "_view_count": null,
       "_view_module": "@jupyter-widgets/controls",
       "_view_module_version": "2.0.0",
       "_view_name": "HBoxView",
       "box_style": "",
       "children": [
        "IPY_MODEL_b131638d640345bf91c3b7546021abde",
        "IPY_MODEL_f451d49259c64474ac1e07ea0796e0b0",
        "IPY_MODEL_505271fcdfa042a19fb84e16edf1f148"
       ],
       "layout": "IPY_MODEL_7db1a50dc627461b8e278bd52b8abece",
       "tabbable": null,
       "tooltip": null
      }
     },
     "52df7cbd76cd4b038a3304b6b9741462": {
      "model_module": "@jupyter-widgets/controls",
      "model_module_version": "2.0.0",
      "model_name": "HTMLModel",
      "state": {
       "_dom_classes": [],
       "_model_module": "@jupyter-widgets/controls",
       "_model_module_version": "2.0.0",
       "_model_name": "HTMLModel",
       "_view_count": null,
       "_view_module": "@jupyter-widgets/controls",
       "_view_module_version": "2.0.0",
       "_view_name": "HTMLView",
       "description": "",
       "description_allow_html": false,
       "layout": "IPY_MODEL_0ebeafb9531f4f43908c204471fac0bd",
       "placeholder": "​",
       "style": "IPY_MODEL_973e122d4c2842f7aec4e45a66ca72e0",
       "tabbable": null,
       "tooltip": null,
       "value": " 99.6M/99.6M [00:01&lt;00:00, 66.8MB/s]"
      }
     },
     "535294f6692640159f36f38623ab549e": {
      "model_module": "@jupyter-widgets/controls",
      "model_module_version": "2.0.0",
      "model_name": "HTMLModel",
      "state": {
       "_dom_classes": [],
       "_model_module": "@jupyter-widgets/controls",
       "_model_module_version": "2.0.0",
       "_model_name": "HTMLModel",
       "_view_count": null,
       "_view_module": "@jupyter-widgets/controls",
       "_view_module_version": "2.0.0",
       "_view_name": "HTMLView",
       "description": "",
       "description_allow_html": false,
       "layout": "IPY_MODEL_167e9e8fcb7a474ba5bb4d5d03c1eda8",
       "placeholder": "​",
       "style": "IPY_MODEL_aba7830ae29c4fdd94bc9df1982c6dd8",
       "tabbable": null,
       "tooltip": null,
       "value": " 2.78M/? [00:00&lt;00:00, 91.5MB/s]"
      }
     },
     "550513f358604ec89b8e927fb7f65bea": {
      "model_module": "@jupyter-widgets/controls",
      "model_module_version": "2.0.0",
      "model_name": "HTMLModel",
      "state": {
       "_dom_classes": [],
       "_model_module": "@jupyter-widgets/controls",
       "_model_module_version": "2.0.0",
       "_model_name": "HTMLModel",
       "_view_count": null,
       "_view_module": "@jupyter-widgets/controls",
       "_view_module_version": "2.0.0",
       "_view_name": "HTMLView",
       "description": "",
       "description_allow_html": false,
       "layout": "IPY_MODEL_e7e74e617b7344da9cdb9f9f95d4c27e",
       "placeholder": "​",
       "style": "IPY_MODEL_c5e4cb0c2fa24e068516badefa0f644e",
       "tabbable": null,
       "tooltip": null,
       "value": "config.json: 100%"
      }
     },
     "5516a8d0fbb2423a9691901cd95913c8": {
      "model_module": "@jupyter-widgets/base",
      "model_module_version": "2.0.0",
      "model_name": "LayoutModel",
      "state": {
       "_model_module": "@jupyter-widgets/base",
       "_model_module_version": "2.0.0",
       "_model_name": "LayoutModel",
       "_view_count": null,
       "_view_module": "@jupyter-widgets/base",
       "_view_module_version": "2.0.0",
       "_view_name": "LayoutView",
       "align_content": null,
       "align_items": null,
       "align_self": null,
       "border_bottom": null,
       "border_left": null,
       "border_right": null,
       "border_top": null,
       "bottom": null,
       "display": null,
       "flex": null,
       "flex_flow": null,
       "grid_area": null,
       "grid_auto_columns": null,
       "grid_auto_flow": null,
       "grid_auto_rows": null,
       "grid_column": null,
       "grid_gap": null,
       "grid_row": null,
       "grid_template_areas": null,
       "grid_template_columns": null,
       "grid_template_rows": null,
       "height": null,
       "justify_content": null,
       "justify_items": null,
       "left": null,
       "margin": null,
       "max_height": null,
       "max_width": null,
       "min_height": null,
       "min_width": null,
       "object_fit": null,
       "object_position": null,
       "order": null,
       "overflow": null,
       "padding": null,
       "right": null,
       "top": null,
       "visibility": null,
       "width": null
      }
     },
     "57082e4dd7ff4161861d85307c7d35f9": {
      "model_module": "@jupyter-widgets/controls",
      "model_module_version": "2.0.0",
      "model_name": "ProgressStyleModel",
      "state": {
       "_model_module": "@jupyter-widgets/controls",
       "_model_module_version": "2.0.0",
       "_model_name": "ProgressStyleModel",
       "_view_count": null,
       "_view_module": "@jupyter-widgets/base",
       "_view_module_version": "2.0.0",
       "_view_name": "StyleView",
       "bar_color": null,
       "description_width": ""
      }
     },
     "571286c6dfc445c6bfe0fd7f13c2d698": {
      "model_module": "@jupyter-widgets/base",
      "model_module_version": "2.0.0",
      "model_name": "LayoutModel",
      "state": {
       "_model_module": "@jupyter-widgets/base",
       "_model_module_version": "2.0.0",
       "_model_name": "LayoutModel",
       "_view_count": null,
       "_view_module": "@jupyter-widgets/base",
       "_view_module_version": "2.0.0",
       "_view_name": "LayoutView",
       "align_content": null,
       "align_items": null,
       "align_self": null,
       "border_bottom": null,
       "border_left": null,
       "border_right": null,
       "border_top": null,
       "bottom": null,
       "display": null,
       "flex": null,
       "flex_flow": null,
       "grid_area": null,
       "grid_auto_columns": null,
       "grid_auto_flow": null,
       "grid_auto_rows": null,
       "grid_column": null,
       "grid_gap": null,
       "grid_row": null,
       "grid_template_areas": null,
       "grid_template_columns": null,
       "grid_template_rows": null,
       "height": null,
       "justify_content": null,
       "justify_items": null,
       "left": null,
       "margin": null,
       "max_height": null,
       "max_width": null,
       "min_height": null,
       "min_width": null,
       "object_fit": null,
       "object_position": null,
       "order": null,
       "overflow": null,
       "padding": null,
       "right": null,
       "top": null,
       "visibility": null,
       "width": null
      }
     },
     "58086fc4cd6b48f5ab2a8ffd6de56fff": {
      "model_module": "@jupyter-widgets/base",
      "model_module_version": "2.0.0",
      "model_name": "LayoutModel",
      "state": {
       "_model_module": "@jupyter-widgets/base",
       "_model_module_version": "2.0.0",
       "_model_name": "LayoutModel",
       "_view_count": null,
       "_view_module": "@jupyter-widgets/base",
       "_view_module_version": "2.0.0",
       "_view_name": "LayoutView",
       "align_content": null,
       "align_items": null,
       "align_self": null,
       "border_bottom": null,
       "border_left": null,
       "border_right": null,
       "border_top": null,
       "bottom": null,
       "display": null,
       "flex": null,
       "flex_flow": null,
       "grid_area": null,
       "grid_auto_columns": null,
       "grid_auto_flow": null,
       "grid_auto_rows": null,
       "grid_column": null,
       "grid_gap": null,
       "grid_row": null,
       "grid_template_areas": null,
       "grid_template_columns": null,
       "grid_template_rows": null,
       "height": null,
       "justify_content": null,
       "justify_items": null,
       "left": null,
       "margin": null,
       "max_height": null,
       "max_width": null,
       "min_height": null,
       "min_width": null,
       "object_fit": null,
       "object_position": null,
       "order": null,
       "overflow": null,
       "padding": null,
       "right": null,
       "top": null,
       "visibility": null,
       "width": null
      }
     },
     "59837ce398a94f9b945e6eda8a04a95d": {
      "model_module": "@jupyter-widgets/base",
      "model_module_version": "2.0.0",
      "model_name": "LayoutModel",
      "state": {
       "_model_module": "@jupyter-widgets/base",
       "_model_module_version": "2.0.0",
       "_model_name": "LayoutModel",
       "_view_count": null,
       "_view_module": "@jupyter-widgets/base",
       "_view_module_version": "2.0.0",
       "_view_name": "LayoutView",
       "align_content": null,
       "align_items": null,
       "align_self": null,
       "border_bottom": null,
       "border_left": null,
       "border_right": null,
       "border_top": null,
       "bottom": null,
       "display": null,
       "flex": null,
       "flex_flow": null,
       "grid_area": null,
       "grid_auto_columns": null,
       "grid_auto_flow": null,
       "grid_auto_rows": null,
       "grid_column": null,
       "grid_gap": null,
       "grid_row": null,
       "grid_template_areas": null,
       "grid_template_columns": null,
       "grid_template_rows": null,
       "height": null,
       "justify_content": null,
       "justify_items": null,
       "left": null,
       "margin": null,
       "max_height": null,
       "max_width": null,
       "min_height": null,
       "min_width": null,
       "object_fit": null,
       "object_position": null,
       "order": null,
       "overflow": null,
       "padding": null,
       "right": null,
       "top": null,
       "visibility": null,
       "width": null
      }
     },
     "59bae6259f91412ebc15dd4c88cce17a": {
      "model_module": "@jupyter-widgets/controls",
      "model_module_version": "2.0.0",
      "model_name": "HTMLModel",
      "state": {
       "_dom_classes": [],
       "_model_module": "@jupyter-widgets/controls",
       "_model_module_version": "2.0.0",
       "_model_name": "HTMLModel",
       "_view_count": null,
       "_view_module": "@jupyter-widgets/controls",
       "_view_module_version": "2.0.0",
       "_view_name": "HTMLView",
       "description": "",
       "description_allow_html": false,
       "layout": "IPY_MODEL_0f68866a158c43c2be8776bb1ba92001",
       "placeholder": "​",
       "style": "IPY_MODEL_5ad242428ceb4611bec789a70ea495ad",
       "tabbable": null,
       "tooltip": null,
       "value": " 3.96G/3.96G [01:01&lt;00:00, 28.5MB/s]"
      }
     },
     "5ad242428ceb4611bec789a70ea495ad": {
      "model_module": "@jupyter-widgets/controls",
      "model_module_version": "2.0.0",
      "model_name": "HTMLStyleModel",
      "state": {
       "_model_module": "@jupyter-widgets/controls",
       "_model_module_version": "2.0.0",
       "_model_name": "HTMLStyleModel",
       "_view_count": null,
       "_view_module": "@jupyter-widgets/base",
       "_view_module_version": "2.0.0",
       "_view_name": "StyleView",
       "background": null,
       "description_width": "",
       "font_size": null,
       "text_color": null
      }
     },
     "5e02c5b1673a4ad7a28f2c6015e4d104": {
      "model_module": "@jupyter-widgets/base",
      "model_module_version": "2.0.0",
      "model_name": "LayoutModel",
      "state": {
       "_model_module": "@jupyter-widgets/base",
       "_model_module_version": "2.0.0",
       "_model_name": "LayoutModel",
       "_view_count": null,
       "_view_module": "@jupyter-widgets/base",
       "_view_module_version": "2.0.0",
       "_view_name": "LayoutView",
       "align_content": null,
       "align_items": null,
       "align_self": null,
       "border_bottom": null,
       "border_left": null,
       "border_right": null,
       "border_top": null,
       "bottom": null,
       "display": null,
       "flex": null,
       "flex_flow": null,
       "grid_area": null,
       "grid_auto_columns": null,
       "grid_auto_flow": null,
       "grid_auto_rows": null,
       "grid_column": null,
       "grid_gap": null,
       "grid_row": null,
       "grid_template_areas": null,
       "grid_template_columns": null,
       "grid_template_rows": null,
       "height": null,
       "justify_content": null,
       "justify_items": null,
       "left": null,
       "margin": null,
       "max_height": null,
       "max_width": null,
       "min_height": null,
       "min_width": null,
       "object_fit": null,
       "object_position": null,
       "order": null,
       "overflow": null,
       "padding": null,
       "right": null,
       "top": null,
       "visibility": null,
       "width": null
      }
     },
     "5e86a658fc0e475f8e59e1a486c40f97": {
      "model_module": "@jupyter-widgets/controls",
      "model_module_version": "2.0.0",
      "model_name": "HTMLStyleModel",
      "state": {
       "_model_module": "@jupyter-widgets/controls",
       "_model_module_version": "2.0.0",
       "_model_name": "HTMLStyleModel",
       "_view_count": null,
       "_view_module": "@jupyter-widgets/base",
       "_view_module_version": "2.0.0",
       "_view_name": "StyleView",
       "background": null,
       "description_width": "",
       "font_size": null,
       "text_color": null
      }
     },
     "5f55353263714b65be540beca790f145": {
      "model_module": "@jupyter-widgets/controls",
      "model_module_version": "2.0.0",
      "model_name": "HTMLModel",
      "state": {
       "_dom_classes": [],
       "_model_module": "@jupyter-widgets/controls",
       "_model_module_version": "2.0.0",
       "_model_name": "HTMLModel",
       "_view_count": null,
       "_view_module": "@jupyter-widgets/controls",
       "_view_module_version": "2.0.0",
       "_view_name": "HTMLView",
       "description": "",
       "description_allow_html": false,
       "layout": "IPY_MODEL_fffa9cd1ad804834877a829774c1b952",
       "placeholder": "​",
       "style": "IPY_MODEL_42191b3d990a49a3b63ea9d97b3bcef8",
       "tabbable": null,
       "tooltip": null,
       "value": " 3/3 [01:02&lt;00:00, 25.83s/it]"
      }
     },
     "5fee277dfbbb4b1cb527e6f0cdda1f0e": {
      "model_module": "@jupyter-widgets/controls",
      "model_module_version": "2.0.0",
      "model_name": "ProgressStyleModel",
      "state": {
       "_model_module": "@jupyter-widgets/controls",
       "_model_module_version": "2.0.0",
       "_model_name": "ProgressStyleModel",
       "_view_count": null,
       "_view_module": "@jupyter-widgets/base",
       "_view_module_version": "2.0.0",
       "_view_name": "StyleView",
       "bar_color": null,
       "description_width": ""
      }
     },
     "60132e79fc8e49b7a09cca90eadbe961": {
      "model_module": "@jupyter-widgets/controls",
      "model_module_version": "2.0.0",
      "model_name": "HBoxModel",
      "state": {
       "_dom_classes": [],
       "_model_module": "@jupyter-widgets/controls",
       "_model_module_version": "2.0.0",
       "_model_name": "HBoxModel",
       "_view_count": null,
       "_view_module": "@jupyter-widgets/controls",
       "_view_module_version": "2.0.0",
       "_view_name": "HBoxView",
       "box_style": "",
       "children": [
        "IPY_MODEL_2ade8edb7cfb48ff9c926c17e8353d27",
        "IPY_MODEL_cf0da11dd1b6468d8e6ce01a4eaa8d27",
        "IPY_MODEL_f1f47ca9b188493382869547001f3208"
       ],
       "layout": "IPY_MODEL_0491a9578961435ba7cb3ba3efbfc8cb",
       "tabbable": null,
       "tooltip": null
      }
     },
     "60afcc612aa34d78af74cfe10fb4b345": {
      "model_module": "@jupyter-widgets/controls",
      "model_module_version": "2.0.0",
      "model_name": "HTMLStyleModel",
      "state": {
       "_model_module": "@jupyter-widgets/controls",
       "_model_module_version": "2.0.0",
       "_model_name": "HTMLStyleModel",
       "_view_count": null,
       "_view_module": "@jupyter-widgets/base",
       "_view_module_version": "2.0.0",
       "_view_name": "StyleView",
       "background": null,
       "description_width": "",
       "font_size": null,
       "text_color": null
      }
     },
     "64d02b4f8adf446e982de400e15ef081": {
      "model_module": "@jupyter-widgets/controls",
      "model_module_version": "2.0.0",
      "model_name": "HTMLStyleModel",
      "state": {
       "_model_module": "@jupyter-widgets/controls",
       "_model_module_version": "2.0.0",
       "_model_name": "HTMLStyleModel",
       "_view_count": null,
       "_view_module": "@jupyter-widgets/base",
       "_view_module_version": "2.0.0",
       "_view_name": "StyleView",
       "background": null,
       "description_width": "",
       "font_size": null,
       "text_color": null
      }
     },
     "6a03de47c76f46b283afb2e8f8d76cd7": {
      "model_module": "@jupyter-widgets/controls",
      "model_module_version": "2.0.0",
      "model_name": "HTMLStyleModel",
      "state": {
       "_model_module": "@jupyter-widgets/controls",
       "_model_module_version": "2.0.0",
       "_model_name": "HTMLStyleModel",
       "_view_count": null,
       "_view_module": "@jupyter-widgets/base",
       "_view_module_version": "2.0.0",
       "_view_name": "StyleView",
       "background": null,
       "description_width": "",
       "font_size": null,
       "text_color": null
      }
     },
     "6ad01aa56472408ba258b014fb04ca66": {
      "model_module": "@jupyter-widgets/controls",
      "model_module_version": "2.0.0",
      "model_name": "HBoxModel",
      "state": {
       "_dom_classes": [],
       "_model_module": "@jupyter-widgets/controls",
       "_model_module_version": "2.0.0",
       "_model_name": "HBoxModel",
       "_view_count": null,
       "_view_module": "@jupyter-widgets/controls",
       "_view_module_version": "2.0.0",
       "_view_name": "HBoxView",
       "box_style": "",
       "children": [
        "IPY_MODEL_483bcf1db9b4459dbb1d6493c95cec5b",
        "IPY_MODEL_1b5be4d2a9c94e90bd122d8fa840efc3",
        "IPY_MODEL_52df7cbd76cd4b038a3304b6b9741462"
       ],
       "layout": "IPY_MODEL_4bd5421bd3414c0e97259d32021528bc",
       "tabbable": null,
       "tooltip": null
      }
     },
     "716525a7da9c48ec879560e9115dd155": {
      "model_module": "@jupyter-widgets/base",
      "model_module_version": "2.0.0",
      "model_name": "LayoutModel",
      "state": {
       "_model_module": "@jupyter-widgets/base",
       "_model_module_version": "2.0.0",
       "_model_name": "LayoutModel",
       "_view_count": null,
       "_view_module": "@jupyter-widgets/base",
       "_view_module_version": "2.0.0",
       "_view_name": "LayoutView",
       "align_content": null,
       "align_items": null,
       "align_self": null,
       "border_bottom": null,
       "border_left": null,
       "border_right": null,
       "border_top": null,
       "bottom": null,
       "display": null,
       "flex": null,
       "flex_flow": null,
       "grid_area": null,
       "grid_auto_columns": null,
       "grid_auto_flow": null,
       "grid_auto_rows": null,
       "grid_column": null,
       "grid_gap": null,
       "grid_row": null,
       "grid_template_areas": null,
       "grid_template_columns": null,
       "grid_template_rows": null,
       "height": null,
       "justify_content": null,
       "justify_items": null,
       "left": null,
       "margin": null,
       "max_height": null,
       "max_width": null,
       "min_height": null,
       "min_width": null,
       "object_fit": null,
       "object_position": null,
       "order": null,
       "overflow": null,
       "padding": null,
       "right": null,
       "top": null,
       "visibility": null,
       "width": null
      }
     },
     "71ced755cb8b43db883c79818721dda5": {
      "model_module": "@jupyter-widgets/controls",
      "model_module_version": "2.0.0",
      "model_name": "HTMLStyleModel",
      "state": {
       "_model_module": "@jupyter-widgets/controls",
       "_model_module_version": "2.0.0",
       "_model_name": "HTMLStyleModel",
       "_view_count": null,
       "_view_module": "@jupyter-widgets/base",
       "_view_module_version": "2.0.0",
       "_view_name": "StyleView",
       "background": null,
       "description_width": "",
       "font_size": null,
       "text_color": null
      }
     },
     "758b3a0cade348d4bca9a97388afb048": {
      "model_module": "@jupyter-widgets/controls",
      "model_module_version": "2.0.0",
      "model_name": "HTMLModel",
      "state": {
       "_dom_classes": [],
       "_model_module": "@jupyter-widgets/controls",
       "_model_module_version": "2.0.0",
       "_model_name": "HTMLModel",
       "_view_count": null,
       "_view_module": "@jupyter-widgets/controls",
       "_view_module_version": "2.0.0",
       "_view_name": "HTMLView",
       "description": "",
       "description_allow_html": false,
       "layout": "IPY_MODEL_a65292f348a347c98131b4ec80d061dd",
       "placeholder": "​",
       "style": "IPY_MODEL_60afcc612aa34d78af74cfe10fb4b345",
       "tabbable": null,
       "tooltip": null,
       "value": "model.safetensors.index.json: "
      }
     },
     "77a6e067e508422cb9a3b46a3fc23ad2": {
      "model_module": "@jupyter-widgets/controls",
      "model_module_version": "2.0.0",
      "model_name": "FloatProgressModel",
      "state": {
       "_dom_classes": [],
       "_model_module": "@jupyter-widgets/controls",
       "_model_module_version": "2.0.0",
       "_model_name": "FloatProgressModel",
       "_view_count": null,
       "_view_module": "@jupyter-widgets/controls",
       "_view_module_version": "2.0.0",
       "_view_name": "ProgressView",
       "bar_style": "success",
       "description": "",
       "description_allow_html": false,
       "layout": "IPY_MODEL_a444497c88b44c18a289084dd4d36e5c",
       "max": 727.0,
       "min": 0.0,
       "orientation": "horizontal",
       "style": "IPY_MODEL_83f139df72524e81811a4ee09d3e404c",
       "tabbable": null,
       "tooltip": null,
       "value": 727.0
      }
     },
     "7bb8c11aabec41cd89b43d165a41e3d4": {
      "model_module": "@jupyter-widgets/base",
      "model_module_version": "2.0.0",
      "model_name": "LayoutModel",
      "state": {
       "_model_module": "@jupyter-widgets/base",
       "_model_module_version": "2.0.0",
       "_model_name": "LayoutModel",
       "_view_count": null,
       "_view_module": "@jupyter-widgets/base",
       "_view_module_version": "2.0.0",
       "_view_name": "LayoutView",
       "align_content": null,
       "align_items": null,
       "align_self": null,
       "border_bottom": null,
       "border_left": null,
       "border_right": null,
       "border_top": null,
       "bottom": null,
       "display": null,
       "flex": null,
       "flex_flow": null,
       "grid_area": null,
       "grid_auto_columns": null,
       "grid_auto_flow": null,
       "grid_auto_rows": null,
       "grid_column": null,
       "grid_gap": null,
       "grid_row": null,
       "grid_template_areas": null,
       "grid_template_columns": null,
       "grid_template_rows": null,
       "height": null,
       "justify_content": null,
       "justify_items": null,
       "left": null,
       "margin": null,
       "max_height": null,
       "max_width": null,
       "min_height": null,
       "min_width": null,
       "object_fit": null,
       "object_position": null,
       "order": null,
       "overflow": null,
       "padding": null,
       "right": null,
       "top": null,
       "visibility": null,
       "width": null
      }
     },
     "7db1a50dc627461b8e278bd52b8abece": {
      "model_module": "@jupyter-widgets/base",
      "model_module_version": "2.0.0",
      "model_name": "LayoutModel",
      "state": {
       "_model_module": "@jupyter-widgets/base",
       "_model_module_version": "2.0.0",
       "_model_name": "LayoutModel",
       "_view_count": null,
       "_view_module": "@jupyter-widgets/base",
       "_view_module_version": "2.0.0",
       "_view_name": "LayoutView",
       "align_content": null,
       "align_items": null,
       "align_self": null,
       "border_bottom": null,
       "border_left": null,
       "border_right": null,
       "border_top": null,
       "bottom": null,
       "display": null,
       "flex": null,
       "flex_flow": null,
       "grid_area": null,
       "grid_auto_columns": null,
       "grid_auto_flow": null,
       "grid_auto_rows": null,
       "grid_column": null,
       "grid_gap": null,
       "grid_row": null,
       "grid_template_areas": null,
       "grid_template_columns": null,
       "grid_template_rows": null,
       "height": null,
       "justify_content": null,
       "justify_items": null,
       "left": null,
       "margin": null,
       "max_height": null,
       "max_width": null,
       "min_height": null,
       "min_width": null,
       "object_fit": null,
       "object_position": null,
       "order": null,
       "overflow": null,
       "padding": null,
       "right": null,
       "top": null,
       "visibility": null,
       "width": null
      }
     },
     "7e669cac3b4242e8b53ab94084f99968": {
      "model_module": "@jupyter-widgets/base",
      "model_module_version": "2.0.0",
      "model_name": "LayoutModel",
      "state": {
       "_model_module": "@jupyter-widgets/base",
       "_model_module_version": "2.0.0",
       "_model_name": "LayoutModel",
       "_view_count": null,
       "_view_module": "@jupyter-widgets/base",
       "_view_module_version": "2.0.0",
       "_view_name": "LayoutView",
       "align_content": null,
       "align_items": null,
       "align_self": null,
       "border_bottom": null,
       "border_left": null,
       "border_right": null,
       "border_top": null,
       "bottom": null,
       "display": null,
       "flex": null,
       "flex_flow": null,
       "grid_area": null,
       "grid_auto_columns": null,
       "grid_auto_flow": null,
       "grid_auto_rows": null,
       "grid_column": null,
       "grid_gap": null,
       "grid_row": null,
       "grid_template_areas": null,
       "grid_template_columns": null,
       "grid_template_rows": null,
       "height": null,
       "justify_content": null,
       "justify_items": null,
       "left": null,
       "margin": null,
       "max_height": null,
       "max_width": null,
       "min_height": null,
       "min_width": null,
       "object_fit": null,
       "object_position": null,
       "order": null,
       "overflow": null,
       "padding": null,
       "right": null,
       "top": null,
       "visibility": null,
       "width": null
      }
     },
     "7f414763017f47d18ba9be6c87e79eb8": {
      "model_module": "@jupyter-widgets/base",
      "model_module_version": "2.0.0",
      "model_name": "LayoutModel",
      "state": {
       "_model_module": "@jupyter-widgets/base",
       "_model_module_version": "2.0.0",
       "_model_name": "LayoutModel",
       "_view_count": null,
       "_view_module": "@jupyter-widgets/base",
       "_view_module_version": "2.0.0",
       "_view_name": "LayoutView",
       "align_content": null,
       "align_items": null,
       "align_self": null,
       "border_bottom": null,
       "border_left": null,
       "border_right": null,
       "border_top": null,
       "bottom": null,
       "display": null,
       "flex": null,
       "flex_flow": null,
       "grid_area": null,
       "grid_auto_columns": null,
       "grid_auto_flow": null,
       "grid_auto_rows": null,
       "grid_column": null,
       "grid_gap": null,
       "grid_row": null,
       "grid_template_areas": null,
       "grid_template_columns": null,
       "grid_template_rows": null,
       "height": null,
       "justify_content": null,
       "justify_items": null,
       "left": null,
       "margin": null,
       "max_height": null,
       "max_width": null,
       "min_height": null,
       "min_width": null,
       "object_fit": null,
       "object_position": null,
       "order": null,
       "overflow": null,
       "padding": null,
       "right": null,
       "top": null,
       "visibility": null,
       "width": "20px"
      }
     },
     "83f139df72524e81811a4ee09d3e404c": {
      "model_module": "@jupyter-widgets/controls",
      "model_module_version": "2.0.0",
      "model_name": "ProgressStyleModel",
      "state": {
       "_model_module": "@jupyter-widgets/controls",
       "_model_module_version": "2.0.0",
       "_model_name": "ProgressStyleModel",
       "_view_count": null,
       "_view_module": "@jupyter-widgets/base",
       "_view_module_version": "2.0.0",
       "_view_name": "StyleView",
       "bar_color": null,
       "description_width": ""
      }
     },
     "84350104c78c43468966fead776c581a": {
      "model_module": "@jupyter-widgets/base",
      "model_module_version": "2.0.0",
      "model_name": "LayoutModel",
      "state": {
       "_model_module": "@jupyter-widgets/base",
       "_model_module_version": "2.0.0",
       "_model_name": "LayoutModel",
       "_view_count": null,
       "_view_module": "@jupyter-widgets/base",
       "_view_module_version": "2.0.0",
       "_view_name": "LayoutView",
       "align_content": null,
       "align_items": null,
       "align_self": null,
       "border_bottom": null,
       "border_left": null,
       "border_right": null,
       "border_top": null,
       "bottom": null,
       "display": null,
       "flex": null,
       "flex_flow": null,
       "grid_area": null,
       "grid_auto_columns": null,
       "grid_auto_flow": null,
       "grid_auto_rows": null,
       "grid_column": null,
       "grid_gap": null,
       "grid_row": null,
       "grid_template_areas": null,
       "grid_template_columns": null,
       "grid_template_rows": null,
       "height": null,
       "justify_content": null,
       "justify_items": null,
       "left": null,
       "margin": null,
       "max_height": null,
       "max_width": null,
       "min_height": null,
       "min_width": null,
       "object_fit": null,
       "object_position": null,
       "order": null,
       "overflow": null,
       "padding": null,
       "right": null,
       "top": null,
       "visibility": null,
       "width": null
      }
     },
     "85ebe8ace5d74f8f8d591923d3d0a6ce": {
      "model_module": "@jupyter-widgets/controls",
      "model_module_version": "2.0.0",
      "model_name": "HTMLStyleModel",
      "state": {
       "_model_module": "@jupyter-widgets/controls",
       "_model_module_version": "2.0.0",
       "_model_name": "HTMLStyleModel",
       "_view_count": null,
       "_view_module": "@jupyter-widgets/base",
       "_view_module_version": "2.0.0",
       "_view_name": "StyleView",
       "background": null,
       "description_width": "",
       "font_size": null,
       "text_color": null
      }
     },
     "88b3da1f0cf24476b6bb6f648dcd5c18": {
      "model_module": "@jupyter-widgets/controls",
      "model_module_version": "2.0.0",
      "model_name": "HBoxModel",
      "state": {
       "_dom_classes": [],
       "_model_module": "@jupyter-widgets/controls",
       "_model_module_version": "2.0.0",
       "_model_name": "HBoxModel",
       "_view_count": null,
       "_view_module": "@jupyter-widgets/controls",
       "_view_module_version": "2.0.0",
       "_view_name": "HBoxView",
       "box_style": "",
       "children": [
        "IPY_MODEL_df6e32d532b64f188feaf6762e521c3e",
        "IPY_MODEL_4f2ce6798c594e79ae14f64bf6e363db",
        "IPY_MODEL_faaa4fdb033b4698a1f70e06695685c0"
       ],
       "layout": "IPY_MODEL_cb08934dbcf14a76a6a2da943616ca1b",
       "tabbable": null,
       "tooltip": null
      }
     },
     "8bd67697486d442798368524ea236d72": {
      "model_module": "@jupyter-widgets/controls",
      "model_module_version": "2.0.0",
      "model_name": "FloatProgressModel",
      "state": {
       "_dom_classes": [],
       "_model_module": "@jupyter-widgets/controls",
       "_model_module_version": "2.0.0",
       "_model_name": "FloatProgressModel",
       "_view_count": null,
       "_view_module": "@jupyter-widgets/controls",
       "_view_module_version": "2.0.0",
       "_view_name": "ProgressView",
       "bar_style": "success",
       "description": "",
       "description_allow_html": false,
       "layout": "IPY_MODEL_ee73ac45970b493dbf33388c33cadd68",
       "max": 1.0,
       "min": 0.0,
       "orientation": "horizontal",
       "style": "IPY_MODEL_b385e390e2964f3094d4e1c6ef8628a6",
       "tabbable": null,
       "tooltip": null,
       "value": 1.0
      }
     },
     "8cd517019d2a4c36b7758c9e6cd5d843": {
      "model_module": "@jupyter-widgets/base",
      "model_module_version": "2.0.0",
      "model_name": "LayoutModel",
      "state": {
       "_model_module": "@jupyter-widgets/base",
       "_model_module_version": "2.0.0",
       "_model_name": "LayoutModel",
       "_view_count": null,
       "_view_module": "@jupyter-widgets/base",
       "_view_module_version": "2.0.0",
       "_view_name": "LayoutView",
       "align_content": null,
       "align_items": null,
       "align_self": null,
       "border_bottom": null,
       "border_left": null,
       "border_right": null,
       "border_top": null,
       "bottom": null,
       "display": null,
       "flex": null,
       "flex_flow": null,
       "grid_area": null,
       "grid_auto_columns": null,
       "grid_auto_flow": null,
       "grid_auto_rows": null,
       "grid_column": null,
       "grid_gap": null,
       "grid_row": null,
       "grid_template_areas": null,
       "grid_template_columns": null,
       "grid_template_rows": null,
       "height": null,
       "justify_content": null,
       "justify_items": null,
       "left": null,
       "margin": null,
       "max_height": null,
       "max_width": null,
       "min_height": null,
       "min_width": null,
       "object_fit": null,
       "object_position": null,
       "order": null,
       "overflow": null,
       "padding": null,
       "right": null,
       "top": null,
       "visibility": null,
       "width": null
      }
     },
     "8e0d178240354fcc8219d8f349b2c4cd": {
      "model_module": "@jupyter-widgets/controls",
      "model_module_version": "2.0.0",
      "model_name": "HTMLStyleModel",
      "state": {
       "_model_module": "@jupyter-widgets/controls",
       "_model_module_version": "2.0.0",
       "_model_name": "HTMLStyleModel",
       "_view_count": null,
       "_view_module": "@jupyter-widgets/base",
       "_view_module_version": "2.0.0",
       "_view_name": "StyleView",
       "background": null,
       "description_width": "",
       "font_size": null,
       "text_color": null
      }
     },
     "909660ca6e684793b711eb4cdcfd4e1e": {
      "model_module": "@jupyter-widgets/base",
      "model_module_version": "2.0.0",
      "model_name": "LayoutModel",
      "state": {
       "_model_module": "@jupyter-widgets/base",
       "_model_module_version": "2.0.0",
       "_model_name": "LayoutModel",
       "_view_count": null,
       "_view_module": "@jupyter-widgets/base",
       "_view_module_version": "2.0.0",
       "_view_name": "LayoutView",
       "align_content": null,
       "align_items": null,
       "align_self": null,
       "border_bottom": null,
       "border_left": null,
       "border_right": null,
       "border_top": null,
       "bottom": null,
       "display": null,
       "flex": null,
       "flex_flow": null,
       "grid_area": null,
       "grid_auto_columns": null,
       "grid_auto_flow": null,
       "grid_auto_rows": null,
       "grid_column": null,
       "grid_gap": null,
       "grid_row": null,
       "grid_template_areas": null,
       "grid_template_columns": null,
       "grid_template_rows": null,
       "height": null,
       "justify_content": null,
       "justify_items": null,
       "left": null,
       "margin": null,
       "max_height": null,
       "max_width": null,
       "min_height": null,
       "min_width": null,
       "object_fit": null,
       "object_position": null,
       "order": null,
       "overflow": null,
       "padding": null,
       "right": null,
       "top": null,
       "visibility": null,
       "width": null
      }
     },
     "9722610132db4cefba9032fd9b9eda86": {
      "model_module": "@jupyter-widgets/controls",
      "model_module_version": "2.0.0",
      "model_name": "HBoxModel",
      "state": {
       "_dom_classes": [],
       "_model_module": "@jupyter-widgets/controls",
       "_model_module_version": "2.0.0",
       "_model_name": "HBoxModel",
       "_view_count": null,
       "_view_module": "@jupyter-widgets/controls",
       "_view_module_version": "2.0.0",
       "_view_name": "HBoxView",
       "box_style": "",
       "children": [
        "IPY_MODEL_550513f358604ec89b8e927fb7f65bea",
        "IPY_MODEL_77a6e067e508422cb9a3b46a3fc23ad2",
        "IPY_MODEL_2125da923f48457b9f9e4ec4af633a29"
       ],
       "layout": "IPY_MODEL_be49591785be417598bb7d507cf1bf69",
       "tabbable": null,
       "tooltip": null
      }
     },
     "973e122d4c2842f7aec4e45a66ca72e0": {
      "model_module": "@jupyter-widgets/controls",
      "model_module_version": "2.0.0",
      "model_name": "HTMLStyleModel",
      "state": {
       "_model_module": "@jupyter-widgets/controls",
       "_model_module_version": "2.0.0",
       "_model_name": "HTMLStyleModel",
       "_view_count": null,
       "_view_module": "@jupyter-widgets/base",
       "_view_module_version": "2.0.0",
       "_view_name": "StyleView",
       "background": null,
       "description_width": "",
       "font_size": null,
       "text_color": null
      }
     },
     "9f7f96db9596400d9019209a24d46bc9": {
      "model_module": "@jupyter-widgets/controls",
      "model_module_version": "2.0.0",
      "model_name": "HTMLStyleModel",
      "state": {
       "_model_module": "@jupyter-widgets/controls",
       "_model_module_version": "2.0.0",
       "_model_name": "HTMLStyleModel",
       "_view_count": null,
       "_view_module": "@jupyter-widgets/base",
       "_view_module_version": "2.0.0",
       "_view_name": "StyleView",
       "background": null,
       "description_width": "",
       "font_size": null,
       "text_color": null
      }
     },
     "a2c1c9fe182240e6a98f81eac7eb5878": {
      "model_module": "@jupyter-widgets/base",
      "model_module_version": "2.0.0",
      "model_name": "LayoutModel",
      "state": {
       "_model_module": "@jupyter-widgets/base",
       "_model_module_version": "2.0.0",
       "_model_name": "LayoutModel",
       "_view_count": null,
       "_view_module": "@jupyter-widgets/base",
       "_view_module_version": "2.0.0",
       "_view_name": "LayoutView",
       "align_content": null,
       "align_items": null,
       "align_self": null,
       "border_bottom": null,
       "border_left": null,
       "border_right": null,
       "border_top": null,
       "bottom": null,
       "display": null,
       "flex": null,
       "flex_flow": null,
       "grid_area": null,
       "grid_auto_columns": null,
       "grid_auto_flow": null,
       "grid_auto_rows": null,
       "grid_column": null,
       "grid_gap": null,
       "grid_row": null,
       "grid_template_areas": null,
       "grid_template_columns": null,
       "grid_template_rows": null,
       "height": null,
       "justify_content": null,
       "justify_items": null,
       "left": null,
       "margin": null,
       "max_height": null,
       "max_width": null,
       "min_height": null,
       "min_width": null,
       "object_fit": null,
       "object_position": null,
       "order": null,
       "overflow": null,
       "padding": null,
       "right": null,
       "top": null,
       "visibility": null,
       "width": null
      }
     },
     "a444497c88b44c18a289084dd4d36e5c": {
      "model_module": "@jupyter-widgets/base",
      "model_module_version": "2.0.0",
      "model_name": "LayoutModel",
      "state": {
       "_model_module": "@jupyter-widgets/base",
       "_model_module_version": "2.0.0",
       "_model_name": "LayoutModel",
       "_view_count": null,
       "_view_module": "@jupyter-widgets/base",
       "_view_module_version": "2.0.0",
       "_view_name": "LayoutView",
       "align_content": null,
       "align_items": null,
       "align_self": null,
       "border_bottom": null,
       "border_left": null,
       "border_right": null,
       "border_top": null,
       "bottom": null,
       "display": null,
       "flex": null,
       "flex_flow": null,
       "grid_area": null,
       "grid_auto_columns": null,
       "grid_auto_flow": null,
       "grid_auto_rows": null,
       "grid_column": null,
       "grid_gap": null,
       "grid_row": null,
       "grid_template_areas": null,
       "grid_template_columns": null,
       "grid_template_rows": null,
       "height": null,
       "justify_content": null,
       "justify_items": null,
       "left": null,
       "margin": null,
       "max_height": null,
       "max_width": null,
       "min_height": null,
       "min_width": null,
       "object_fit": null,
       "object_position": null,
       "order": null,
       "overflow": null,
       "padding": null,
       "right": null,
       "top": null,
       "visibility": null,
       "width": null
      }
     },
     "a65292f348a347c98131b4ec80d061dd": {
      "model_module": "@jupyter-widgets/base",
      "model_module_version": "2.0.0",
      "model_name": "LayoutModel",
      "state": {
       "_model_module": "@jupyter-widgets/base",
       "_model_module_version": "2.0.0",
       "_model_name": "LayoutModel",
       "_view_count": null,
       "_view_module": "@jupyter-widgets/base",
       "_view_module_version": "2.0.0",
       "_view_name": "LayoutView",
       "align_content": null,
       "align_items": null,
       "align_self": null,
       "border_bottom": null,
       "border_left": null,
       "border_right": null,
       "border_top": null,
       "bottom": null,
       "display": null,
       "flex": null,
       "flex_flow": null,
       "grid_area": null,
       "grid_auto_columns": null,
       "grid_auto_flow": null,
       "grid_auto_rows": null,
       "grid_column": null,
       "grid_gap": null,
       "grid_row": null,
       "grid_template_areas": null,
       "grid_template_columns": null,
       "grid_template_rows": null,
       "height": null,
       "justify_content": null,
       "justify_items": null,
       "left": null,
       "margin": null,
       "max_height": null,
       "max_width": null,
       "min_height": null,
       "min_width": null,
       "object_fit": null,
       "object_position": null,
       "order": null,
       "overflow": null,
       "padding": null,
       "right": null,
       "top": null,
       "visibility": null,
       "width": null
      }
     },
     "a79ed7c764de411d93b7780503b9b352": {
      "model_module": "@jupyter-widgets/controls",
      "model_module_version": "2.0.0",
      "model_name": "HTMLModel",
      "state": {
       "_dom_classes": [],
       "_model_module": "@jupyter-widgets/controls",
       "_model_module_version": "2.0.0",
       "_model_name": "HTMLModel",
       "_view_count": null,
       "_view_module": "@jupyter-widgets/controls",
       "_view_module_version": "2.0.0",
       "_view_name": "HTMLView",
       "description": "",
       "description_allow_html": false,
       "layout": "IPY_MODEL_443e5a83b57f42b1b9d78e4f37cb78c0",
       "placeholder": "​",
       "style": "IPY_MODEL_f667dcd92fc349d6b05279cdcaaf1b68",
       "tabbable": null,
       "tooltip": null,
       "value": "vocab.json: "
      }
     },
     "aa2c9f219ea64c84af25f8463aeb4ed9": {
      "model_module": "@jupyter-widgets/base",
      "model_module_version": "2.0.0",
      "model_name": "LayoutModel",
      "state": {
       "_model_module": "@jupyter-widgets/base",
       "_model_module_version": "2.0.0",
       "_model_name": "LayoutModel",
       "_view_count": null,
       "_view_module": "@jupyter-widgets/base",
       "_view_module_version": "2.0.0",
       "_view_name": "LayoutView",
       "align_content": null,
       "align_items": null,
       "align_self": null,
       "border_bottom": null,
       "border_left": null,
       "border_right": null,
       "border_top": null,
       "bottom": null,
       "display": null,
       "flex": null,
       "flex_flow": null,
       "grid_area": null,
       "grid_auto_columns": null,
       "grid_auto_flow": null,
       "grid_auto_rows": null,
       "grid_column": null,
       "grid_gap": null,
       "grid_row": null,
       "grid_template_areas": null,
       "grid_template_columns": null,
       "grid_template_rows": null,
       "height": null,
       "justify_content": null,
       "justify_items": null,
       "left": null,
       "margin": null,
       "max_height": null,
       "max_width": null,
       "min_height": null,
       "min_width": null,
       "object_fit": null,
       "object_position": null,
       "order": null,
       "overflow": null,
       "padding": null,
       "right": null,
       "top": null,
       "visibility": null,
       "width": null
      }
     },
     "ab3d9b681861479caaa50f8dd671b737": {
      "model_module": "@jupyter-widgets/controls",
      "model_module_version": "2.0.0",
      "model_name": "HTMLStyleModel",
      "state": {
       "_model_module": "@jupyter-widgets/controls",
       "_model_module_version": "2.0.0",
       "_model_name": "HTMLStyleModel",
       "_view_count": null,
       "_view_module": "@jupyter-widgets/base",
       "_view_module_version": "2.0.0",
       "_view_name": "StyleView",
       "background": null,
       "description_width": "",
       "font_size": null,
       "text_color": null
      }
     },
     "aba7830ae29c4fdd94bc9df1982c6dd8": {
      "model_module": "@jupyter-widgets/controls",
      "model_module_version": "2.0.0",
      "model_name": "HTMLStyleModel",
      "state": {
       "_model_module": "@jupyter-widgets/controls",
       "_model_module_version": "2.0.0",
       "_model_name": "HTMLStyleModel",
       "_view_count": null,
       "_view_module": "@jupyter-widgets/base",
       "_view_module_version": "2.0.0",
       "_view_name": "StyleView",
       "background": null,
       "description_width": "",
       "font_size": null,
       "text_color": null
      }
     },
     "af6ab98b525448629db6f3b9c76bf70e": {
      "model_module": "@jupyter-widgets/controls",
      "model_module_version": "2.0.0",
      "model_name": "ProgressStyleModel",
      "state": {
       "_model_module": "@jupyter-widgets/controls",
       "_model_module_version": "2.0.0",
       "_model_name": "ProgressStyleModel",
       "_view_count": null,
       "_view_module": "@jupyter-widgets/base",
       "_view_module_version": "2.0.0",
       "_view_name": "StyleView",
       "bar_color": null,
       "description_width": ""
      }
     },
     "b0592ccf0b2a4609af7d9dbaa7d6135f": {
      "model_module": "@jupyter-widgets/controls",
      "model_module_version": "2.0.0",
      "model_name": "HTMLModel",
      "state": {
       "_dom_classes": [],
       "_model_module": "@jupyter-widgets/controls",
       "_model_module_version": "2.0.0",
       "_model_name": "HTMLModel",
       "_view_count": null,
       "_view_module": "@jupyter-widgets/controls",
       "_view_module_version": "2.0.0",
       "_view_name": "HTMLView",
       "description": "",
       "description_allow_html": false,
       "layout": "IPY_MODEL_5e02c5b1673a4ad7a28f2c6015e4d104",
       "placeholder": "​",
       "style": "IPY_MODEL_d52b511b55e44fcda8319c457d39456b",
       "tabbable": null,
       "tooltip": null,
       "value": " 3.99G/3.99G [01:02&lt;00:00, 60.9MB/s]"
      }
     },
     "b0aaa120986241468561f2fc6b4152f4": {
      "model_module": "@jupyter-widgets/controls",
      "model_module_version": "2.0.0",
      "model_name": "HTMLModel",
      "state": {
       "_dom_classes": [],
       "_model_module": "@jupyter-widgets/controls",
       "_model_module_version": "2.0.0",
       "_model_name": "HTMLModel",
       "_view_count": null,
       "_view_module": "@jupyter-widgets/controls",
       "_view_module_version": "2.0.0",
       "_view_name": "HTMLView",
       "description": "",
       "description_allow_html": false,
       "layout": "IPY_MODEL_59837ce398a94f9b945e6eda8a04a95d",
       "placeholder": "​",
       "style": "IPY_MODEL_6a03de47c76f46b283afb2e8f8d76cd7",
       "tabbable": null,
       "tooltip": null,
       "value": " 32.8k/? [00:00&lt;00:00, 3.59MB/s]"
      }
     },
     "b131638d640345bf91c3b7546021abde": {
      "model_module": "@jupyter-widgets/controls",
      "model_module_version": "2.0.0",
      "model_name": "HTMLModel",
      "state": {
       "_dom_classes": [],
       "_model_module": "@jupyter-widgets/controls",
       "_model_module_version": "2.0.0",
       "_model_name": "HTMLModel",
       "_view_count": null,
       "_view_module": "@jupyter-widgets/controls",
       "_view_module_version": "2.0.0",
       "_view_name": "HTMLView",
       "description": "",
       "description_allow_html": false,
       "layout": "IPY_MODEL_909660ca6e684793b711eb4cdcfd4e1e",
       "placeholder": "​",
       "style": "IPY_MODEL_c79e6bedda29434d9777b8940d73362c",
       "tabbable": null,
       "tooltip": null,
       "value": "tokenizer.json: 100%"
      }
     },
     "b25f4a2ba5744eeabb6c841c4ca49fe4": {
      "model_module": "@jupyter-widgets/controls",
      "model_module_version": "2.0.0",
      "model_name": "HTMLStyleModel",
      "state": {
       "_model_module": "@jupyter-widgets/controls",
       "_model_module_version": "2.0.0",
       "_model_name": "HTMLStyleModel",
       "_view_count": null,
       "_view_module": "@jupyter-widgets/base",
       "_view_module_version": "2.0.0",
       "_view_name": "StyleView",
       "background": null,
       "description_width": "",
       "font_size": null,
       "text_color": null
      }
     },
     "b385e390e2964f3094d4e1c6ef8628a6": {
      "model_module": "@jupyter-widgets/controls",
      "model_module_version": "2.0.0",
      "model_name": "ProgressStyleModel",
      "state": {
       "_model_module": "@jupyter-widgets/controls",
       "_model_module_version": "2.0.0",
       "_model_name": "ProgressStyleModel",
       "_view_count": null,
       "_view_module": "@jupyter-widgets/base",
       "_view_module_version": "2.0.0",
       "_view_name": "StyleView",
       "bar_color": null,
       "description_width": ""
      }
     },
     "b915077c8aea4e5991e71fce2469afcb": {
      "model_module": "@jupyter-widgets/base",
      "model_module_version": "2.0.0",
      "model_name": "LayoutModel",
      "state": {
       "_model_module": "@jupyter-widgets/base",
       "_model_module_version": "2.0.0",
       "_model_name": "LayoutModel",
       "_view_count": null,
       "_view_module": "@jupyter-widgets/base",
       "_view_module_version": "2.0.0",
       "_view_name": "LayoutView",
       "align_content": null,
       "align_items": null,
       "align_self": null,
       "border_bottom": null,
       "border_left": null,
       "border_right": null,
       "border_top": null,
       "bottom": null,
       "display": null,
       "flex": null,
       "flex_flow": null,
       "grid_area": null,
       "grid_auto_columns": null,
       "grid_auto_flow": null,
       "grid_auto_rows": null,
       "grid_column": null,
       "grid_gap": null,
       "grid_row": null,
       "grid_template_areas": null,
       "grid_template_columns": null,
       "grid_template_rows": null,
       "height": null,
       "justify_content": null,
       "justify_items": null,
       "left": null,
       "margin": null,
       "max_height": null,
       "max_width": null,
       "min_height": null,
       "min_width": null,
       "object_fit": null,
       "object_position": null,
       "order": null,
       "overflow": null,
       "padding": null,
       "right": null,
       "top": null,
       "visibility": null,
       "width": null
      }
     },
     "baf1dbda66a44004aa51849dffcb8b53": {
      "model_module": "@jupyter-widgets/controls",
      "model_module_version": "2.0.0",
      "model_name": "HTMLStyleModel",
      "state": {
       "_model_module": "@jupyter-widgets/controls",
       "_model_module_version": "2.0.0",
       "_model_name": "HTMLStyleModel",
       "_view_count": null,
       "_view_module": "@jupyter-widgets/base",
       "_view_module_version": "2.0.0",
       "_view_name": "StyleView",
       "background": null,
       "description_width": "",
       "font_size": null,
       "text_color": null
      }
     },
     "bb398d875e344e52b1f625accaf6e800": {
      "model_module": "@jupyter-widgets/base",
      "model_module_version": "2.0.0",
      "model_name": "LayoutModel",
      "state": {
       "_model_module": "@jupyter-widgets/base",
       "_model_module_version": "2.0.0",
       "_model_name": "LayoutModel",
       "_view_count": null,
       "_view_module": "@jupyter-widgets/base",
       "_view_module_version": "2.0.0",
       "_view_name": "LayoutView",
       "align_content": null,
       "align_items": null,
       "align_self": null,
       "border_bottom": null,
       "border_left": null,
       "border_right": null,
       "border_top": null,
       "bottom": null,
       "display": null,
       "flex": null,
       "flex_flow": null,
       "grid_area": null,
       "grid_auto_columns": null,
       "grid_auto_flow": null,
       "grid_auto_rows": null,
       "grid_column": null,
       "grid_gap": null,
       "grid_row": null,
       "grid_template_areas": null,
       "grid_template_columns": null,
       "grid_template_rows": null,
       "height": null,
       "justify_content": null,
       "justify_items": null,
       "left": null,
       "margin": null,
       "max_height": null,
       "max_width": null,
       "min_height": null,
       "min_width": null,
       "object_fit": null,
       "object_position": null,
       "order": null,
       "overflow": null,
       "padding": null,
       "right": null,
       "top": null,
       "visibility": null,
       "width": null
      }
     },
     "bbd38e6e83ba41bba4dbf6cce5871c74": {
      "model_module": "@jupyter-widgets/controls",
      "model_module_version": "2.0.0",
      "model_name": "FloatProgressModel",
      "state": {
       "_dom_classes": [],
       "_model_module": "@jupyter-widgets/controls",
       "_model_module_version": "2.0.0",
       "_model_name": "FloatProgressModel",
       "_view_count": null,
       "_view_module": "@jupyter-widgets/controls",
       "_view_module_version": "2.0.0",
       "_view_name": "ProgressView",
       "bar_style": "success",
       "description": "",
       "description_allow_html": false,
       "layout": "IPY_MODEL_2686afd17c2f4b2daa0a30f626d23aba",
       "max": 1.0,
       "min": 0.0,
       "orientation": "horizontal",
       "style": "IPY_MODEL_be46a3c128e54721909021a186bfbde6",
       "tabbable": null,
       "tooltip": null,
       "value": 1.0
      }
     },
     "bcd27d06dfaf441ea87405493fa24c0b": {
      "model_module": "@jupyter-widgets/base",
      "model_module_version": "2.0.0",
      "model_name": "LayoutModel",
      "state": {
       "_model_module": "@jupyter-widgets/base",
       "_model_module_version": "2.0.0",
       "_model_name": "LayoutModel",
       "_view_count": null,
       "_view_module": "@jupyter-widgets/base",
       "_view_module_version": "2.0.0",
       "_view_name": "LayoutView",
       "align_content": null,
       "align_items": null,
       "align_self": null,
       "border_bottom": null,
       "border_left": null,
       "border_right": null,
       "border_top": null,
       "bottom": null,
       "display": null,
       "flex": null,
       "flex_flow": null,
       "grid_area": null,
       "grid_auto_columns": null,
       "grid_auto_flow": null,
       "grid_auto_rows": null,
       "grid_column": null,
       "grid_gap": null,
       "grid_row": null,
       "grid_template_areas": null,
       "grid_template_columns": null,
       "grid_template_rows": null,
       "height": null,
       "justify_content": null,
       "justify_items": null,
       "left": null,
       "margin": null,
       "max_height": null,
       "max_width": null,
       "min_height": null,
       "min_width": null,
       "object_fit": null,
       "object_position": null,
       "order": null,
       "overflow": null,
       "padding": null,
       "right": null,
       "top": null,
       "visibility": null,
       "width": null
      }
     },
     "be46a3c128e54721909021a186bfbde6": {
      "model_module": "@jupyter-widgets/controls",
      "model_module_version": "2.0.0",
      "model_name": "ProgressStyleModel",
      "state": {
       "_model_module": "@jupyter-widgets/controls",
       "_model_module_version": "2.0.0",
       "_model_name": "ProgressStyleModel",
       "_view_count": null,
       "_view_module": "@jupyter-widgets/base",
       "_view_module_version": "2.0.0",
       "_view_name": "StyleView",
       "bar_color": null,
       "description_width": ""
      }
     },
     "be49591785be417598bb7d507cf1bf69": {
      "model_module": "@jupyter-widgets/base",
      "model_module_version": "2.0.0",
      "model_name": "LayoutModel",
      "state": {
       "_model_module": "@jupyter-widgets/base",
       "_model_module_version": "2.0.0",
       "_model_name": "LayoutModel",
       "_view_count": null,
       "_view_module": "@jupyter-widgets/base",
       "_view_module_version": "2.0.0",
       "_view_name": "LayoutView",
       "align_content": null,
       "align_items": null,
       "align_self": null,
       "border_bottom": null,
       "border_left": null,
       "border_right": null,
       "border_top": null,
       "bottom": null,
       "display": null,
       "flex": null,
       "flex_flow": null,
       "grid_area": null,
       "grid_auto_columns": null,
       "grid_auto_flow": null,
       "grid_auto_rows": null,
       "grid_column": null,
       "grid_gap": null,
       "grid_row": null,
       "grid_template_areas": null,
       "grid_template_columns": null,
       "grid_template_rows": null,
       "height": null,
       "justify_content": null,
       "justify_items": null,
       "left": null,
       "margin": null,
       "max_height": null,
       "max_width": null,
       "min_height": null,
       "min_width": null,
       "object_fit": null,
       "object_position": null,
       "order": null,
       "overflow": null,
       "padding": null,
       "right": null,
       "top": null,
       "visibility": null,
       "width": null
      }
     },
     "c4e0e47ba0e14ef9a482740224589567": {
      "model_module": "@jupyter-widgets/controls",
      "model_module_version": "2.0.0",
      "model_name": "HBoxModel",
      "state": {
       "_dom_classes": [],
       "_model_module": "@jupyter-widgets/controls",
       "_model_module_version": "2.0.0",
       "_model_name": "HBoxModel",
       "_view_count": null,
       "_view_module": "@jupyter-widgets/controls",
       "_view_module_version": "2.0.0",
       "_view_name": "HBoxView",
       "box_style": "",
       "children": [
        "IPY_MODEL_f296cdf13bd44eceb1f5858d43e49522",
        "IPY_MODEL_bbd38e6e83ba41bba4dbf6cce5871c74",
        "IPY_MODEL_da9b1aa2ee164b04b0ce62a77c78ec57"
       ],
       "layout": "IPY_MODEL_5516a8d0fbb2423a9691901cd95913c8",
       "tabbable": null,
       "tooltip": null
      }
     },
     "c5e4cb0c2fa24e068516badefa0f644e": {
      "model_module": "@jupyter-widgets/controls",
      "model_module_version": "2.0.0",
      "model_name": "HTMLStyleModel",
      "state": {
       "_model_module": "@jupyter-widgets/controls",
       "_model_module_version": "2.0.0",
       "_model_name": "HTMLStyleModel",
       "_view_count": null,
       "_view_module": "@jupyter-widgets/base",
       "_view_module_version": "2.0.0",
       "_view_name": "StyleView",
       "background": null,
       "description_width": "",
       "font_size": null,
       "text_color": null
      }
     },
     "c79e6bedda29434d9777b8940d73362c": {
      "model_module": "@jupyter-widgets/controls",
      "model_module_version": "2.0.0",
      "model_name": "HTMLStyleModel",
      "state": {
       "_model_module": "@jupyter-widgets/controls",
       "_model_module_version": "2.0.0",
       "_model_name": "HTMLStyleModel",
       "_view_count": null,
       "_view_module": "@jupyter-widgets/base",
       "_view_module_version": "2.0.0",
       "_view_name": "StyleView",
       "background": null,
       "description_width": "",
       "font_size": null,
       "text_color": null
      }
     },
     "cb08934dbcf14a76a6a2da943616ca1b": {
      "model_module": "@jupyter-widgets/base",
      "model_module_version": "2.0.0",
      "model_name": "LayoutModel",
      "state": {
       "_model_module": "@jupyter-widgets/base",
       "_model_module_version": "2.0.0",
       "_model_name": "LayoutModel",
       "_view_count": null,
       "_view_module": "@jupyter-widgets/base",
       "_view_module_version": "2.0.0",
       "_view_name": "LayoutView",
       "align_content": null,
       "align_items": null,
       "align_self": null,
       "border_bottom": null,
       "border_left": null,
       "border_right": null,
       "border_top": null,
       "bottom": null,
       "display": null,
       "flex": null,
       "flex_flow": null,
       "grid_area": null,
       "grid_auto_columns": null,
       "grid_auto_flow": null,
       "grid_auto_rows": null,
       "grid_column": null,
       "grid_gap": null,
       "grid_row": null,
       "grid_template_areas": null,
       "grid_template_columns": null,
       "grid_template_rows": null,
       "height": null,
       "justify_content": null,
       "justify_items": null,
       "left": null,
       "margin": null,
       "max_height": null,
       "max_width": null,
       "min_height": null,
       "min_width": null,
       "object_fit": null,
       "object_position": null,
       "order": null,
       "overflow": null,
       "padding": null,
       "right": null,
       "top": null,
       "visibility": null,
       "width": null
      }
     },
     "cf0da11dd1b6468d8e6ce01a4eaa8d27": {
      "model_module": "@jupyter-widgets/controls",
      "model_module_version": "2.0.0",
      "model_name": "FloatProgressModel",
      "state": {
       "_dom_classes": [],
       "_model_module": "@jupyter-widgets/controls",
       "_model_module_version": "2.0.0",
       "_model_name": "FloatProgressModel",
       "_view_count": null,
       "_view_module": "@jupyter-widgets/controls",
       "_view_module_version": "2.0.0",
       "_view_name": "ProgressView",
       "bar_style": "success",
       "description": "",
       "description_allow_html": false,
       "layout": "IPY_MODEL_a2c1c9fe182240e6a98f81eac7eb5878",
       "max": 238.0,
       "min": 0.0,
       "orientation": "horizontal",
       "style": "IPY_MODEL_af6ab98b525448629db6f3b9c76bf70e",
       "tabbable": null,
       "tooltip": null,
       "value": 238.0
      }
     },
     "d152fea3cf2d43edbef6062f280927e8": {
      "model_module": "@jupyter-widgets/controls",
      "model_module_version": "2.0.0",
      "model_name": "HTMLModel",
      "state": {
       "_dom_classes": [],
       "_model_module": "@jupyter-widgets/controls",
       "_model_module_version": "2.0.0",
       "_model_name": "HTMLModel",
       "_view_count": null,
       "_view_module": "@jupyter-widgets/controls",
       "_view_module_version": "2.0.0",
       "_view_name": "HTMLView",
       "description": "",
       "description_allow_html": false,
       "layout": "IPY_MODEL_30349098f7594d49876ce55673f0aaca",
       "placeholder": "​",
       "style": "IPY_MODEL_71ced755cb8b43db883c79818721dda5",
       "tabbable": null,
       "tooltip": null,
       "value": "model-00002-of-00003.safetensors: 100%"
      }
     },
     "d52b511b55e44fcda8319c457d39456b": {
      "model_module": "@jupyter-widgets/controls",
      "model_module_version": "2.0.0",
      "model_name": "HTMLStyleModel",
      "state": {
       "_model_module": "@jupyter-widgets/controls",
       "_model_module_version": "2.0.0",
       "_model_name": "HTMLStyleModel",
       "_view_count": null,
       "_view_module": "@jupyter-widgets/base",
       "_view_module_version": "2.0.0",
       "_view_name": "StyleView",
       "background": null,
       "description_width": "",
       "font_size": null,
       "text_color": null
      }
     },
     "d6dbc15bce594aa18fe290209ea6cdf6": {
      "model_module": "@jupyter-widgets/controls",
      "model_module_version": "2.0.0",
      "model_name": "HBoxModel",
      "state": {
       "_dom_classes": [],
       "_model_module": "@jupyter-widgets/controls",
       "_model_module_version": "2.0.0",
       "_model_name": "HBoxModel",
       "_view_count": null,
       "_view_module": "@jupyter-widgets/controls",
       "_view_module_version": "2.0.0",
       "_view_name": "HBoxView",
       "box_style": "",
       "children": [
        "IPY_MODEL_fba7890a26464ddab89ec185c1575322",
        "IPY_MODEL_215381aa117447cc81972d76f27b94f6",
        "IPY_MODEL_d7f219a68efd48c3a8d96993dfd28553"
       ],
       "layout": "IPY_MODEL_58086fc4cd6b48f5ab2a8ffd6de56fff",
       "tabbable": null,
       "tooltip": null
      }
     },
     "d7f219a68efd48c3a8d96993dfd28553": {
      "model_module": "@jupyter-widgets/controls",
      "model_module_version": "2.0.0",
      "model_name": "HTMLModel",
      "state": {
       "_dom_classes": [],
       "_model_module": "@jupyter-widgets/controls",
       "_model_module_version": "2.0.0",
       "_model_name": "HTMLModel",
       "_view_count": null,
       "_view_module": "@jupyter-widgets/controls",
       "_view_module_version": "2.0.0",
       "_view_name": "HTMLView",
       "description": "",
       "description_allow_html": false,
       "layout": "IPY_MODEL_bb398d875e344e52b1f625accaf6e800",
       "placeholder": "​",
       "style": "IPY_MODEL_3c6b2adb386847a1967d097319f66a10",
       "tabbable": null,
       "tooltip": null,
       "value": " 3/3 [00:15&lt;00:00,  4.42s/it]"
      }
     },
     "d865758094f1464786ffe3ec8d505bc3": {
      "model_module": "@jupyter-widgets/controls",
      "model_module_version": "2.0.0",
      "model_name": "HTMLStyleModel",
      "state": {
       "_model_module": "@jupyter-widgets/controls",
       "_model_module_version": "2.0.0",
       "_model_name": "HTMLStyleModel",
       "_view_count": null,
       "_view_module": "@jupyter-widgets/base",
       "_view_module_version": "2.0.0",
       "_view_name": "StyleView",
       "background": null,
       "description_width": "",
       "font_size": null,
       "text_color": null
      }
     },
     "da9b1aa2ee164b04b0ce62a77c78ec57": {
      "model_module": "@jupyter-widgets/controls",
      "model_module_version": "2.0.0",
      "model_name": "HTMLModel",
      "state": {
       "_dom_classes": [],
       "_model_module": "@jupyter-widgets/controls",
       "_model_module_version": "2.0.0",
       "_model_name": "HTMLModel",
       "_view_count": null,
       "_view_module": "@jupyter-widgets/controls",
       "_view_module_version": "2.0.0",
       "_view_name": "HTMLView",
       "description": "",
       "description_allow_html": false,
       "layout": "IPY_MODEL_e1101231d70a4200b85a2eef597b8376",
       "placeholder": "​",
       "style": "IPY_MODEL_d865758094f1464786ffe3ec8d505bc3",
       "tabbable": null,
       "tooltip": null,
       "value": " 1.67M/? [00:00&lt;00:00, 73.6MB/s]"
      }
     },
     "db3ce8c7d7a04f18af75702ce658a65a": {
      "model_module": "@jupyter-widgets/controls",
      "model_module_version": "2.0.0",
      "model_name": "HBoxModel",
      "state": {
       "_dom_classes": [],
       "_model_module": "@jupyter-widgets/controls",
       "_model_module_version": "2.0.0",
       "_model_name": "HBoxModel",
       "_view_count": null,
       "_view_module": "@jupyter-widgets/controls",
       "_view_module_version": "2.0.0",
       "_view_name": "HBoxView",
       "box_style": "",
       "children": [
        "IPY_MODEL_1847a7231b9f447fb1c5d410a07f5b4c",
        "IPY_MODEL_e4463bae03544f2eb5bec273e99839b6",
        "IPY_MODEL_5f55353263714b65be540beca790f145"
       ],
       "layout": "IPY_MODEL_571286c6dfc445c6bfe0fd7f13c2d698",
       "tabbable": null,
       "tooltip": null
      }
     },
     "dbe2f52a028741f0a2c0189e124885bf": {
      "model_module": "@jupyter-widgets/controls",
      "model_module_version": "2.0.0",
      "model_name": "HBoxModel",
      "state": {
       "_dom_classes": [],
       "_model_module": "@jupyter-widgets/controls",
       "_model_module_version": "2.0.0",
       "_model_name": "HBoxModel",
       "_view_count": null,
       "_view_module": "@jupyter-widgets/controls",
       "_view_module_version": "2.0.0",
       "_view_name": "HBoxView",
       "box_style": "",
       "children": [
        "IPY_MODEL_a79ed7c764de411d93b7780503b9b352",
        "IPY_MODEL_2f6088c887114344a7dd4749c3e8dc63",
        "IPY_MODEL_535294f6692640159f36f38623ab549e"
       ],
       "layout": "IPY_MODEL_3cc7e270b9b64a2d89c8d78cd587fa3c",
       "tabbable": null,
       "tooltip": null
      }
     },
     "df6e32d532b64f188feaf6762e521c3e": {
      "model_module": "@jupyter-widgets/controls",
      "model_module_version": "2.0.0",
      "model_name": "HTMLModel",
      "state": {
       "_dom_classes": [],
       "_model_module": "@jupyter-widgets/controls",
       "_model_module_version": "2.0.0",
       "_model_name": "HTMLModel",
       "_view_count": null,
       "_view_module": "@jupyter-widgets/controls",
       "_view_module_version": "2.0.0",
       "_view_name": "HTMLView",
       "description": "",
       "description_allow_html": false,
       "layout": "IPY_MODEL_48009d751bc747b6a9c568952acde627",
       "placeholder": "​",
       "style": "IPY_MODEL_33a3ebdaf1cb4ffc9dacc629a022c34b",
       "tabbable": null,
       "tooltip": null,
       "value": "tokenizer_config.json: "
      }
     },
     "e10aa9fd26bb42459f1f9863244ba855": {
      "model_module": "@jupyter-widgets/controls",
      "model_module_version": "2.0.0",
      "model_name": "HBoxModel",
      "state": {
       "_dom_classes": [],
       "_model_module": "@jupyter-widgets/controls",
       "_model_module_version": "2.0.0",
       "_model_name": "HBoxModel",
       "_view_count": null,
       "_view_module": "@jupyter-widgets/controls",
       "_view_module_version": "2.0.0",
       "_view_name": "HBoxView",
       "box_style": "",
       "children": [
        "IPY_MODEL_f37cc4e8077249f2a5142dbf5b2788cb",
        "IPY_MODEL_2f8d9f30be514308a8be607b8648b4a3",
        "IPY_MODEL_59bae6259f91412ebc15dd4c88cce17a"
       ],
       "layout": "IPY_MODEL_8cd517019d2a4c36b7758c9e6cd5d843",
       "tabbable": null,
       "tooltip": null
      }
     },
     "e1101231d70a4200b85a2eef597b8376": {
      "model_module": "@jupyter-widgets/base",
      "model_module_version": "2.0.0",
      "model_name": "LayoutModel",
      "state": {
       "_model_module": "@jupyter-widgets/base",
       "_model_module_version": "2.0.0",
       "_model_name": "LayoutModel",
       "_view_count": null,
       "_view_module": "@jupyter-widgets/base",
       "_view_module_version": "2.0.0",
       "_view_name": "LayoutView",
       "align_content": null,
       "align_items": null,
       "align_self": null,
       "border_bottom": null,
       "border_left": null,
       "border_right": null,
       "border_top": null,
       "bottom": null,
       "display": null,
       "flex": null,
       "flex_flow": null,
       "grid_area": null,
       "grid_auto_columns": null,
       "grid_auto_flow": null,
       "grid_auto_rows": null,
       "grid_column": null,
       "grid_gap": null,
       "grid_row": null,
       "grid_template_areas": null,
       "grid_template_columns": null,
       "grid_template_rows": null,
       "height": null,
       "justify_content": null,
       "justify_items": null,
       "left": null,
       "margin": null,
       "max_height": null,
       "max_width": null,
       "min_height": null,
       "min_width": null,
       "object_fit": null,
       "object_position": null,
       "order": null,
       "overflow": null,
       "padding": null,
       "right": null,
       "top": null,
       "visibility": null,
       "width": null
      }
     },
     "e4463bae03544f2eb5bec273e99839b6": {
      "model_module": "@jupyter-widgets/controls",
      "model_module_version": "2.0.0",
      "model_name": "FloatProgressModel",
      "state": {
       "_dom_classes": [],
       "_model_module": "@jupyter-widgets/controls",
       "_model_module_version": "2.0.0",
       "_model_name": "FloatProgressModel",
       "_view_count": null,
       "_view_module": "@jupyter-widgets/controls",
       "_view_module_version": "2.0.0",
       "_view_name": "ProgressView",
       "bar_style": "success",
       "description": "",
       "description_allow_html": false,
       "layout": "IPY_MODEL_f918ddbcc3e348b6a519497dbe043d2f",
       "max": 3.0,
       "min": 0.0,
       "orientation": "horizontal",
       "style": "IPY_MODEL_1ccabc81649e43b4bb83fa3b94170363",
       "tabbable": null,
       "tooltip": null,
       "value": 3.0
      }
     },
     "e4932b63e0bc442cb3d9221819ae22c0": {
      "model_module": "@jupyter-widgets/controls",
      "model_module_version": "2.0.0",
      "model_name": "ProgressStyleModel",
      "state": {
       "_model_module": "@jupyter-widgets/controls",
       "_model_module_version": "2.0.0",
       "_model_name": "ProgressStyleModel",
       "_view_count": null,
       "_view_module": "@jupyter-widgets/base",
       "_view_module_version": "2.0.0",
       "_view_name": "StyleView",
       "bar_color": null,
       "description_width": ""
      }
     },
     "e7e74e617b7344da9cdb9f9f95d4c27e": {
      "model_module": "@jupyter-widgets/base",
      "model_module_version": "2.0.0",
      "model_name": "LayoutModel",
      "state": {
       "_model_module": "@jupyter-widgets/base",
       "_model_module_version": "2.0.0",
       "_model_name": "LayoutModel",
       "_view_count": null,
       "_view_module": "@jupyter-widgets/base",
       "_view_module_version": "2.0.0",
       "_view_name": "LayoutView",
       "align_content": null,
       "align_items": null,
       "align_self": null,
       "border_bottom": null,
       "border_left": null,
       "border_right": null,
       "border_top": null,
       "bottom": null,
       "display": null,
       "flex": null,
       "flex_flow": null,
       "grid_area": null,
       "grid_auto_columns": null,
       "grid_auto_flow": null,
       "grid_auto_rows": null,
       "grid_column": null,
       "grid_gap": null,
       "grid_row": null,
       "grid_template_areas": null,
       "grid_template_columns": null,
       "grid_template_rows": null,
       "height": null,
       "justify_content": null,
       "justify_items": null,
       "left": null,
       "margin": null,
       "max_height": null,
       "max_width": null,
       "min_height": null,
       "min_width": null,
       "object_fit": null,
       "object_position": null,
       "order": null,
       "overflow": null,
       "padding": null,
       "right": null,
       "top": null,
       "visibility": null,
       "width": null
      }
     },
     "ea0de8d51c014c0c8b1ce206f69443b4": {
      "model_module": "@jupyter-widgets/controls",
      "model_module_version": "2.0.0",
      "model_name": "HTMLStyleModel",
      "state": {
       "_model_module": "@jupyter-widgets/controls",
       "_model_module_version": "2.0.0",
       "_model_name": "HTMLStyleModel",
       "_view_count": null,
       "_view_module": "@jupyter-widgets/base",
       "_view_module_version": "2.0.0",
       "_view_name": "StyleView",
       "background": null,
       "description_width": "",
       "font_size": null,
       "text_color": null
      }
     },
     "eca9c725003c4915b878ac9b0984a349": {
      "model_module": "@jupyter-widgets/base",
      "model_module_version": "2.0.0",
      "model_name": "LayoutModel",
      "state": {
       "_model_module": "@jupyter-widgets/base",
       "_model_module_version": "2.0.0",
       "_model_name": "LayoutModel",
       "_view_count": null,
       "_view_module": "@jupyter-widgets/base",
       "_view_module_version": "2.0.0",
       "_view_name": "LayoutView",
       "align_content": null,
       "align_items": null,
       "align_self": null,
       "border_bottom": null,
       "border_left": null,
       "border_right": null,
       "border_top": null,
       "bottom": null,
       "display": null,
       "flex": null,
       "flex_flow": null,
       "grid_area": null,
       "grid_auto_columns": null,
       "grid_auto_flow": null,
       "grid_auto_rows": null,
       "grid_column": null,
       "grid_gap": null,
       "grid_row": null,
       "grid_template_areas": null,
       "grid_template_columns": null,
       "grid_template_rows": null,
       "height": null,
       "justify_content": null,
       "justify_items": null,
       "left": null,
       "margin": null,
       "max_height": null,
       "max_width": null,
       "min_height": null,
       "min_width": null,
       "object_fit": null,
       "object_position": null,
       "order": null,
       "overflow": null,
       "padding": null,
       "right": null,
       "top": null,
       "visibility": null,
       "width": null
      }
     },
     "ee73ac45970b493dbf33388c33cadd68": {
      "model_module": "@jupyter-widgets/base",
      "model_module_version": "2.0.0",
      "model_name": "LayoutModel",
      "state": {
       "_model_module": "@jupyter-widgets/base",
       "_model_module_version": "2.0.0",
       "_model_name": "LayoutModel",
       "_view_count": null,
       "_view_module": "@jupyter-widgets/base",
       "_view_module_version": "2.0.0",
       "_view_name": "LayoutView",
       "align_content": null,
       "align_items": null,
       "align_self": null,
       "border_bottom": null,
       "border_left": null,
       "border_right": null,
       "border_top": null,
       "bottom": null,
       "display": null,
       "flex": null,
       "flex_flow": null,
       "grid_area": null,
       "grid_auto_columns": null,
       "grid_auto_flow": null,
       "grid_auto_rows": null,
       "grid_column": null,
       "grid_gap": null,
       "grid_row": null,
       "grid_template_areas": null,
       "grid_template_columns": null,
       "grid_template_rows": null,
       "height": null,
       "justify_content": null,
       "justify_items": null,
       "left": null,
       "margin": null,
       "max_height": null,
       "max_width": null,
       "min_height": null,
       "min_width": null,
       "object_fit": null,
       "object_position": null,
       "order": null,
       "overflow": null,
       "padding": null,
       "right": null,
       "top": null,
       "visibility": null,
       "width": "20px"
      }
     },
     "f1f47ca9b188493382869547001f3208": {
      "model_module": "@jupyter-widgets/controls",
      "model_module_version": "2.0.0",
      "model_name": "HTMLModel",
      "state": {
       "_dom_classes": [],
       "_model_module": "@jupyter-widgets/controls",
       "_model_module_version": "2.0.0",
       "_model_name": "HTMLModel",
       "_view_count": null,
       "_view_module": "@jupyter-widgets/controls",
       "_view_module_version": "2.0.0",
       "_view_name": "HTMLView",
       "description": "",
       "description_allow_html": false,
       "layout": "IPY_MODEL_47a474405ae64a02992022ae008a44ef",
       "placeholder": "​",
       "style": "IPY_MODEL_5e86a658fc0e475f8e59e1a486c40f97",
       "tabbable": null,
       "tooltip": null,
       "value": " 238/238 [00:00&lt;00:00, 26.8kB/s]"
      }
     },
     "f296cdf13bd44eceb1f5858d43e49522": {
      "model_module": "@jupyter-widgets/controls",
      "model_module_version": "2.0.0",
      "model_name": "HTMLModel",
      "state": {
       "_dom_classes": [],
       "_model_module": "@jupyter-widgets/controls",
       "_model_module_version": "2.0.0",
       "_model_name": "HTMLModel",
       "_view_count": null,
       "_view_module": "@jupyter-widgets/controls",
       "_view_module_version": "2.0.0",
       "_view_name": "HTMLView",
       "description": "",
       "description_allow_html": false,
       "layout": "IPY_MODEL_19c0e82846154d9995c1c2906fd96e4c",
       "placeholder": "​",
       "style": "IPY_MODEL_312fae558920420ba025d289b3d7e9cc",
       "tabbable": null,
       "tooltip": null,
       "value": "merges.txt: "
      }
     },
     "f37cc4e8077249f2a5142dbf5b2788cb": {
      "model_module": "@jupyter-widgets/controls",
      "model_module_version": "2.0.0",
      "model_name": "HTMLModel",
      "state": {
       "_dom_classes": [],
       "_model_module": "@jupyter-widgets/controls",
       "_model_module_version": "2.0.0",
       "_model_name": "HTMLModel",
       "_view_count": null,
       "_view_module": "@jupyter-widgets/controls",
       "_view_module_version": "2.0.0",
       "_view_name": "HTMLView",
       "description": "",
       "description_allow_html": false,
       "layout": "IPY_MODEL_02d044510bd84a92965d3cbae59deca0",
       "placeholder": "​",
       "style": "IPY_MODEL_baf1dbda66a44004aa51849dffcb8b53",
       "tabbable": null,
       "tooltip": null,
       "value": "model-00001-of-00003.safetensors: 100%"
      }
     },
     "f451d49259c64474ac1e07ea0796e0b0": {
      "model_module": "@jupyter-widgets/controls",
      "model_module_version": "2.0.0",
      "model_name": "FloatProgressModel",
      "state": {
       "_dom_classes": [],
       "_model_module": "@jupyter-widgets/controls",
       "_model_module_version": "2.0.0",
       "_model_name": "FloatProgressModel",
       "_view_count": null,
       "_view_module": "@jupyter-widgets/controls",
       "_view_module_version": "2.0.0",
       "_view_name": "ProgressView",
       "bar_style": "success",
       "description": "",
       "description_allow_html": false,
       "layout": "IPY_MODEL_4f0dc35e0dcf47378b7ada5842bc2aab",
       "max": 11422654.0,
       "min": 0.0,
       "orientation": "horizontal",
       "style": "IPY_MODEL_385e4f7fa6cf4b79a519ed14d4973111",
       "tabbable": null,
       "tooltip": null,
       "value": 11422654.0
      }
     },
     "f667dcd92fc349d6b05279cdcaaf1b68": {
      "model_module": "@jupyter-widgets/controls",
      "model_module_version": "2.0.0",
      "model_name": "HTMLStyleModel",
      "state": {
       "_model_module": "@jupyter-widgets/controls",
       "_model_module_version": "2.0.0",
       "_model_name": "HTMLStyleModel",
       "_view_count": null,
       "_view_module": "@jupyter-widgets/base",
       "_view_module_version": "2.0.0",
       "_view_name": "StyleView",
       "background": null,
       "description_width": "",
       "font_size": null,
       "text_color": null
      }
     },
     "f6828c9d84aa4f8580a93568d04fb7b1": {
      "model_module": "@jupyter-widgets/base",
      "model_module_version": "2.0.0",
      "model_name": "LayoutModel",
      "state": {
       "_model_module": "@jupyter-widgets/base",
       "_model_module_version": "2.0.0",
       "_model_name": "LayoutModel",
       "_view_count": null,
       "_view_module": "@jupyter-widgets/base",
       "_view_module_version": "2.0.0",
       "_view_name": "LayoutView",
       "align_content": null,
       "align_items": null,
       "align_self": null,
       "border_bottom": null,
       "border_left": null,
       "border_right": null,
       "border_top": null,
       "bottom": null,
       "display": null,
       "flex": null,
       "flex_flow": null,
       "grid_area": null,
       "grid_auto_columns": null,
       "grid_auto_flow": null,
       "grid_auto_rows": null,
       "grid_column": null,
       "grid_gap": null,
       "grid_row": null,
       "grid_template_areas": null,
       "grid_template_columns": null,
       "grid_template_rows": null,
       "height": null,
       "justify_content": null,
       "justify_items": null,
       "left": null,
       "margin": null,
       "max_height": null,
       "max_width": null,
       "min_height": null,
       "min_width": null,
       "object_fit": null,
       "object_position": null,
       "order": null,
       "overflow": null,
       "padding": null,
       "right": null,
       "top": null,
       "visibility": null,
       "width": null
      }
     },
     "f7c0d85b63b94598a5a881d093b3abc5": {
      "model_module": "@jupyter-widgets/controls",
      "model_module_version": "2.0.0",
      "model_name": "ProgressStyleModel",
      "state": {
       "_model_module": "@jupyter-widgets/controls",
       "_model_module_version": "2.0.0",
       "_model_name": "ProgressStyleModel",
       "_view_count": null,
       "_view_module": "@jupyter-widgets/base",
       "_view_module_version": "2.0.0",
       "_view_name": "StyleView",
       "bar_color": null,
       "description_width": ""
      }
     },
     "f918ddbcc3e348b6a519497dbe043d2f": {
      "model_module": "@jupyter-widgets/base",
      "model_module_version": "2.0.0",
      "model_name": "LayoutModel",
      "state": {
       "_model_module": "@jupyter-widgets/base",
       "_model_module_version": "2.0.0",
       "_model_name": "LayoutModel",
       "_view_count": null,
       "_view_module": "@jupyter-widgets/base",
       "_view_module_version": "2.0.0",
       "_view_name": "LayoutView",
       "align_content": null,
       "align_items": null,
       "align_self": null,
       "border_bottom": null,
       "border_left": null,
       "border_right": null,
       "border_top": null,
       "bottom": null,
       "display": null,
       "flex": null,
       "flex_flow": null,
       "grid_area": null,
       "grid_auto_columns": null,
       "grid_auto_flow": null,
       "grid_auto_rows": null,
       "grid_column": null,
       "grid_gap": null,
       "grid_row": null,
       "grid_template_areas": null,
       "grid_template_columns": null,
       "grid_template_rows": null,
       "height": null,
       "justify_content": null,
       "justify_items": null,
       "left": null,
       "margin": null,
       "max_height": null,
       "max_width": null,
       "min_height": null,
       "min_width": null,
       "object_fit": null,
       "object_position": null,
       "order": null,
       "overflow": null,
       "padding": null,
       "right": null,
       "top": null,
       "visibility": null,
       "width": null
      }
     },
     "faaa4fdb033b4698a1f70e06695685c0": {
      "model_module": "@jupyter-widgets/controls",
      "model_module_version": "2.0.0",
      "model_name": "HTMLModel",
      "state": {
       "_dom_classes": [],
       "_model_module": "@jupyter-widgets/controls",
       "_model_module_version": "2.0.0",
       "_model_name": "HTMLModel",
       "_view_count": null,
       "_view_module": "@jupyter-widgets/controls",
       "_view_module_version": "2.0.0",
       "_view_name": "HTMLView",
       "description": "",
       "description_allow_html": false,
       "layout": "IPY_MODEL_15582d2e9af94476877ac22bbb47d4e0",
       "placeholder": "​",
       "style": "IPY_MODEL_ab3d9b681861479caaa50f8dd671b737",
       "tabbable": null,
       "tooltip": null,
       "value": " 10.8k/? [00:00&lt;00:00, 1.07MB/s]"
      }
     },
     "fba7890a26464ddab89ec185c1575322": {
      "model_module": "@jupyter-widgets/controls",
      "model_module_version": "2.0.0",
      "model_name": "HTMLModel",
      "state": {
       "_dom_classes": [],
       "_model_module": "@jupyter-widgets/controls",
       "_model_module_version": "2.0.0",
       "_model_name": "HTMLModel",
       "_view_count": null,
       "_view_module": "@jupyter-widgets/controls",
       "_view_module_version": "2.0.0",
       "_view_name": "HTMLView",
       "description": "",
       "description_allow_html": false,
       "layout": "IPY_MODEL_eca9c725003c4915b878ac9b0984a349",
       "placeholder": "​",
       "style": "IPY_MODEL_64d02b4f8adf446e982de400e15ef081",
       "tabbable": null,
       "tooltip": null,
       "value": "Loading checkpoint shards: 100%"
      }
     },
     "ffd012875b2f473bbc3f2d9d4790b8b5": {
      "model_module": "@jupyter-widgets/controls",
      "model_module_version": "2.0.0",
      "model_name": "FloatProgressModel",
      "state": {
       "_dom_classes": [],
       "_model_module": "@jupyter-widgets/controls",
       "_model_module_version": "2.0.0",
       "_model_name": "FloatProgressModel",
       "_view_count": null,
       "_view_module": "@jupyter-widgets/controls",
       "_view_module_version": "2.0.0",
       "_view_name": "ProgressView",
       "bar_style": "success",
       "description": "",
       "description_allow_html": false,
       "layout": "IPY_MODEL_31dc76424b4a48b5ad6f10dd7b0427e8",
       "max": 3987450520.0,
       "min": 0.0,
       "orientation": "horizontal",
       "style": "IPY_MODEL_e4932b63e0bc442cb3d9221819ae22c0",
       "tabbable": null,
       "tooltip": null,
       "value": 3987450520.0
      }
     },
     "fffa9cd1ad804834877a829774c1b952": {
      "model_module": "@jupyter-widgets/base",
      "model_module_version": "2.0.0",
      "model_name": "LayoutModel",
      "state": {
       "_model_module": "@jupyter-widgets/base",
       "_model_module_version": "2.0.0",
       "_model_name": "LayoutModel",
       "_view_count": null,
       "_view_module": "@jupyter-widgets/base",
       "_view_module_version": "2.0.0",
       "_view_name": "LayoutView",
       "align_content": null,
       "align_items": null,
       "align_self": null,
       "border_bottom": null,
       "border_left": null,
       "border_right": null,
       "border_top": null,
       "bottom": null,
       "display": null,
       "flex": null,
       "flex_flow": null,
       "grid_area": null,
       "grid_auto_columns": null,
       "grid_auto_flow": null,
       "grid_auto_rows": null,
       "grid_column": null,
       "grid_gap": null,
       "grid_row": null,
       "grid_template_areas": null,
       "grid_template_columns": null,
       "grid_template_rows": null,
       "height": null,
       "justify_content": null,
       "justify_items": null,
       "left": null,
       "margin": null,
       "max_height": null,
       "max_width": null,
       "min_height": null,
       "min_width": null,
       "object_fit": null,
       "object_position": null,
       "order": null,
       "overflow": null,
       "padding": null,
       "right": null,
       "top": null,
       "visibility": null,
       "width": null
      }
     }
    },
    "version_major": 2,
    "version_minor": 0
   }
  }
 },
 "nbformat": 4,
 "nbformat_minor": 5
}
