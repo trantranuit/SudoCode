{
 "cells": [
  {
   "cell_type": "markdown",
   "id": "e29e45b3",
   "metadata": {
    "papermill": {
     "duration": 0.004104,
     "end_time": "2025-09-05T16:56:55.681573",
     "exception": false,
     "start_time": "2025-09-05T16:56:55.677469",
     "status": "completed"
    },
    "tags": []
   },
   "source": [
    "## Load dataset"
   ]
  },
  {
   "cell_type": "code",
   "execution_count": 1,
   "id": "050bd011",
   "metadata": {
    "execution": {
     "iopub.execute_input": "2025-09-05T16:56:55.689676Z",
     "iopub.status.busy": "2025-09-05T16:56:55.689362Z",
     "iopub.status.idle": "2025-09-05T16:57:02.661482Z",
     "shell.execute_reply": "2025-09-05T16:57:02.660243Z"
    },
    "papermill": {
     "duration": 6.978124,
     "end_time": "2025-09-05T16:57:02.663237",
     "exception": false,
     "start_time": "2025-09-05T16:56:55.685113",
     "status": "completed"
    },
    "tags": []
   },
   "outputs": [
    {
     "name": "stdout",
     "output_type": "stream",
     "text": [
      "Collecting underthesea\r\n",
      "  Downloading underthesea-6.8.4-py3-none-any.whl.metadata (15 kB)\r\n",
      "Requirement already satisfied: Click>=6.0 in /usr/local/lib/python3.11/dist-packages (from underthesea) (8.2.1)\r\n",
      "Collecting python-crfsuite>=0.9.6 (from underthesea)\r\n",
      "  Downloading python_crfsuite-0.9.11-cp311-cp311-manylinux_2_17_x86_64.manylinux2014_x86_64.whl.metadata (4.3 kB)\r\n",
      "Requirement already satisfied: nltk in /usr/local/lib/python3.11/dist-packages (from underthesea) (3.9.1)\r\n",
      "Requirement already satisfied: tqdm in /usr/local/lib/python3.11/dist-packages (from underthesea) (4.67.1)\r\n",
      "Requirement already satisfied: requests in /usr/local/lib/python3.11/dist-packages (from underthesea) (2.32.4)\r\n",
      "Requirement already satisfied: joblib in /usr/local/lib/python3.11/dist-packages (from underthesea) (1.5.1)\r\n",
      "Requirement already satisfied: scikit-learn in /usr/local/lib/python3.11/dist-packages (from underthesea) (1.2.2)\r\n",
      "Requirement already satisfied: PyYAML in /usr/local/lib/python3.11/dist-packages (from underthesea) (6.0.2)\r\n",
      "Collecting underthesea-core==1.0.4 (from underthesea)\r\n",
      "  Downloading underthesea_core-1.0.4-cp311-cp311-manylinux2010_x86_64.whl.metadata (1.7 kB)\r\n",
      "Requirement already satisfied: regex>=2021.8.3 in /usr/local/lib/python3.11/dist-packages (from nltk->underthesea) (2024.11.6)\r\n",
      "Requirement already satisfied: charset_normalizer<4,>=2 in /usr/local/lib/python3.11/dist-packages (from requests->underthesea) (3.4.2)\r\n",
      "Requirement already satisfied: idna<4,>=2.5 in /usr/local/lib/python3.11/dist-packages (from requests->underthesea) (3.10)\r\n",
      "Requirement already satisfied: urllib3<3,>=1.21.1 in /usr/local/lib/python3.11/dist-packages (from requests->underthesea) (2.5.0)\r\n",
      "Requirement already satisfied: certifi>=2017.4.17 in /usr/local/lib/python3.11/dist-packages (from requests->underthesea) (2025.6.15)\r\n",
      "Requirement already satisfied: numpy>=1.17.3 in /usr/local/lib/python3.11/dist-packages (from scikit-learn->underthesea) (1.26.4)\r\n",
      "Requirement already satisfied: scipy>=1.3.2 in /usr/local/lib/python3.11/dist-packages (from scikit-learn->underthesea) (1.15.3)\r\n",
      "Requirement already satisfied: threadpoolctl>=2.0.0 in /usr/local/lib/python3.11/dist-packages (from scikit-learn->underthesea) (3.6.0)\r\n",
      "Requirement already satisfied: mkl_fft in /usr/local/lib/python3.11/dist-packages (from numpy>=1.17.3->scikit-learn->underthesea) (1.3.8)\r\n",
      "Requirement already satisfied: mkl_random in /usr/local/lib/python3.11/dist-packages (from numpy>=1.17.3->scikit-learn->underthesea) (1.2.4)\r\n",
      "Requirement already satisfied: mkl_umath in /usr/local/lib/python3.11/dist-packages (from numpy>=1.17.3->scikit-learn->underthesea) (0.1.1)\r\n",
      "Requirement already satisfied: mkl in /usr/local/lib/python3.11/dist-packages (from numpy>=1.17.3->scikit-learn->underthesea) (2025.2.0)\r\n",
      "Requirement already satisfied: tbb4py in /usr/local/lib/python3.11/dist-packages (from numpy>=1.17.3->scikit-learn->underthesea) (2022.2.0)\r\n",
      "Requirement already satisfied: mkl-service in /usr/local/lib/python3.11/dist-packages (from numpy>=1.17.3->scikit-learn->underthesea) (2.4.1)\r\n",
      "Requirement already satisfied: intel-openmp<2026,>=2024 in /usr/local/lib/python3.11/dist-packages (from mkl->numpy>=1.17.3->scikit-learn->underthesea) (2024.2.0)\r\n",
      "Requirement already satisfied: tbb==2022.* in /usr/local/lib/python3.11/dist-packages (from mkl->numpy>=1.17.3->scikit-learn->underthesea) (2022.2.0)\r\n",
      "Requirement already satisfied: tcmlib==1.* in /usr/local/lib/python3.11/dist-packages (from tbb==2022.*->mkl->numpy>=1.17.3->scikit-learn->underthesea) (1.4.0)\r\n",
      "Requirement already satisfied: intel-cmplr-lib-rt in /usr/local/lib/python3.11/dist-packages (from mkl_umath->numpy>=1.17.3->scikit-learn->underthesea) (2024.2.0)\r\n",
      "Requirement already satisfied: intel-cmplr-lib-ur==2024.2.0 in /usr/local/lib/python3.11/dist-packages (from intel-openmp<2026,>=2024->mkl->numpy>=1.17.3->scikit-learn->underthesea) (2024.2.0)\r\n",
      "Downloading underthesea-6.8.4-py3-none-any.whl (20.9 MB)\r\n",
      "\u001b[2K   \u001b[90m━━━━━━━━━━━━━━━━━━━━━━━━━━━━━━━━━━━━━━━━\u001b[0m \u001b[32m20.9/20.9 MB\u001b[0m \u001b[31m77.3 MB/s\u001b[0m eta \u001b[36m0:00:00\u001b[0m\r\n",
      "\u001b[?25hDownloading underthesea_core-1.0.4-cp311-cp311-manylinux2010_x86_64.whl (657 kB)\r\n",
      "\u001b[2K   \u001b[90m━━━━━━━━━━━━━━━━━━━━━━━━━━━━━━━━━━━━━━━━\u001b[0m \u001b[32m657.8/657.8 kB\u001b[0m \u001b[31m25.1 MB/s\u001b[0m eta \u001b[36m0:00:00\u001b[0m\r\n",
      "\u001b[?25hDownloading python_crfsuite-0.9.11-cp311-cp311-manylinux_2_17_x86_64.manylinux2014_x86_64.whl (1.3 MB)\r\n",
      "\u001b[2K   \u001b[90m━━━━━━━━━━━━━━━━━━━━━━━━━━━━━━━━━━━━━━━━\u001b[0m \u001b[32m1.3/1.3 MB\u001b[0m \u001b[31m34.5 MB/s\u001b[0m eta \u001b[36m0:00:00\u001b[0m\r\n",
      "\u001b[?25hInstalling collected packages: underthesea-core, python-crfsuite, underthesea\r\n",
      "Successfully installed python-crfsuite-0.9.11 underthesea-6.8.4 underthesea-core-1.0.4\r\n"
     ]
    }
   ],
   "source": [
    "!pip install underthesea"
   ]
  },
  {
   "cell_type": "code",
   "execution_count": 2,
   "id": "eb1f04fe",
   "metadata": {
    "execution": {
     "iopub.execute_input": "2025-09-05T16:57:02.674055Z",
     "iopub.status.busy": "2025-09-05T16:57:02.673728Z",
     "iopub.status.idle": "2025-09-05T16:57:20.878299Z",
     "shell.execute_reply": "2025-09-05T16:57:20.877429Z"
    },
    "papermill": {
     "duration": 18.211862,
     "end_time": "2025-09-05T16:57:20.879871",
     "exception": false,
     "start_time": "2025-09-05T16:57:02.668009",
     "status": "completed"
    },
    "tags": []
   },
   "outputs": [],
   "source": [
    "import numpy as np \n",
    "import pandas as pd \n",
    "import nltk\n",
    "import spacy\n",
    "import re\n",
    "import underthesea as ud \n",
    "import json\n",
    "from tqdm import tqdm"
   ]
  },
  {
   "cell_type": "code",
   "execution_count": 3,
   "id": "195699fb",
   "metadata": {
    "execution": {
     "iopub.execute_input": "2025-09-05T16:57:20.890221Z",
     "iopub.status.busy": "2025-09-05T16:57:20.889623Z",
     "iopub.status.idle": "2025-09-05T16:57:21.816873Z",
     "shell.execute_reply": "2025-09-05T16:57:21.815597Z"
    },
    "papermill": {
     "duration": 0.934443,
     "end_time": "2025-09-05T16:57:21.818776",
     "exception": false,
     "start_time": "2025-09-05T16:57:20.884333",
     "status": "completed"
    },
    "tags": []
   },
   "outputs": [
    {
     "name": "stderr",
     "output_type": "stream",
     "text": [
      "[nltk_data] Downloading package wordnet to /usr/share/nltk_data...\n",
      "[nltk_data]   Package wordnet is already up-to-date!\n",
      "[nltk_data] Downloading package omw-1.4 to /usr/share/nltk_data...\n"
     ]
    },
    {
     "name": "stdout",
     "output_type": "stream",
     "text": [
      "Archive:  /usr/share/nltk_data/corpora/wordnet.zip\r\n",
      "   creating: /usr/share/nltk_data/corpora/wordnet/\r\n",
      "  inflating: /usr/share/nltk_data/corpora/wordnet/lexnames  \r\n",
      "  inflating: /usr/share/nltk_data/corpora/wordnet/data.verb  \r\n",
      "  inflating: /usr/share/nltk_data/corpora/wordnet/index.adv  \r\n",
      "  inflating: /usr/share/nltk_data/corpora/wordnet/adv.exc  \r\n",
      "  inflating: /usr/share/nltk_data/corpora/wordnet/index.verb  \r\n",
      "  inflating: /usr/share/nltk_data/corpora/wordnet/cntlist.rev  \r\n",
      "  inflating: /usr/share/nltk_data/corpora/wordnet/data.adj  "
     ]
    },
    {
     "name": "stderr",
     "output_type": "stream",
     "text": [
      "[nltk_data] Downloading package averaged_perceptron_tagger to\n",
      "[nltk_data]     /usr/share/nltk_data...\n",
      "[nltk_data]   Package averaged_perceptron_tagger is already up-to-\n",
      "[nltk_data]       date!\n",
      "[nltk_data] Downloading package maxent_ne_chunker to\n",
      "[nltk_data]     /usr/share/nltk_data...\n",
      "[nltk_data]   Package maxent_ne_chunker is already up-to-date!\n",
      "[nltk_data] Downloading package words to /usr/share/nltk_data...\n",
      "[nltk_data]   Package words is already up-to-date!\n"
     ]
    },
    {
     "name": "stdout",
     "output_type": "stream",
     "text": [
      "\r\n",
      "  inflating: /usr/share/nltk_data/corpora/wordnet/index.adj  \r\n",
      "  inflating: /usr/share/nltk_data/corpora/wordnet/LICENSE  \r\n",
      "  inflating: /usr/share/nltk_data/corpora/wordnet/citation.bib  \r\n",
      "  inflating: /usr/share/nltk_data/corpora/wordnet/noun.exc  \r\n",
      "  inflating: /usr/share/nltk_data/corpora/wordnet/verb.exc  \r\n",
      "  inflating: /usr/share/nltk_data/corpora/wordnet/README  \r\n",
      "  inflating: /usr/share/nltk_data/corpora/wordnet/index.sense  \r\n",
      "  inflating: /usr/share/nltk_data/corpora/wordnet/data.noun  \r\n",
      "  inflating: /usr/share/nltk_data/corpora/wordnet/data.adv  \r\n",
      "  inflating: /usr/share/nltk_data/corpora/wordnet/index.noun  \r\n",
      "  inflating: /usr/share/nltk_data/corpora/wordnet/adj.exc  \r\n"
     ]
    }
   ],
   "source": [
    "import nltk\n",
    "nltk.download('wordnet')\n",
    "nltk.download('omw-1.4')  # Optional, for better lemmatization support\n",
    "nltk.download('averaged_perceptron_tagger')  # For POS tagging\n",
    "nltk.download('maxent_ne_chunker')  # For NER chunking\n",
    "nltk.download('words')  # For supporting NER\n",
    "\n",
    "!unzip /usr/share/nltk_data/corpora/wordnet.zip -d /usr/share/nltk_data/corpora/"
   ]
  },
  {
   "cell_type": "code",
   "execution_count": 4,
   "id": "48dcbaa8",
   "metadata": {
    "_cell_guid": "b1076dfc-b9ad-4769-8c92-a6c4dae69d19",
    "_uuid": "8f2839f25d086af736a60e9eeb907d3b93b6e0e5",
    "execution": {
     "iopub.execute_input": "2025-09-05T16:57:21.830000Z",
     "iopub.status.busy": "2025-09-05T16:57:21.829624Z",
     "iopub.status.idle": "2025-09-05T16:57:22.001394Z",
     "shell.execute_reply": "2025-09-05T16:57:22.000259Z"
    },
    "papermill": {
     "duration": 0.179342,
     "end_time": "2025-09-05T16:57:22.002913",
     "exception": false,
     "start_time": "2025-09-05T16:57:21.823571",
     "status": "completed"
    },
    "tags": []
   },
   "outputs": [
    {
     "name": "stdout",
     "output_type": "stream",
     "text": [
      "Path to dataset files: /kaggle/input/vietnamese-online-news-dataset\n"
     ]
    }
   ],
   "source": [
    "import kagglehub\n",
    "\n",
    "# Download latest version\n",
    "path = kagglehub.dataset_download(\"haitranquangofficial/vietnamese-online-news-dataset\")\n",
    "\n",
    "print(\"Path to dataset files:\", path)"
   ]
  },
  {
   "cell_type": "code",
   "execution_count": 5,
   "id": "fe679759",
   "metadata": {
    "execution": {
     "iopub.execute_input": "2025-09-05T16:57:22.014199Z",
     "iopub.status.busy": "2025-09-05T16:57:22.013245Z",
     "iopub.status.idle": "2025-09-05T16:57:22.021594Z",
     "shell.execute_reply": "2025-09-05T16:57:22.020479Z"
    },
    "papermill": {
     "duration": 0.015334,
     "end_time": "2025-09-05T16:57:22.023083",
     "exception": false,
     "start_time": "2025-09-05T16:57:22.007749",
     "status": "completed"
    },
    "tags": []
   },
   "outputs": [
    {
     "name": "stdout",
     "output_type": "stream",
     "text": [
      "/kaggle/input/vietnamese-online-news-dataset/news_dataset.json\n"
     ]
    }
   ],
   "source": [
    "import os\n",
    "for dirname, _, filenames in os.walk('/kaggle/input'):\n",
    "    for filename in filenames:\n",
    "        print(os.path.join(dirname, filename))"
   ]
  },
  {
   "cell_type": "code",
   "execution_count": 6,
   "id": "7cd73767",
   "metadata": {
    "execution": {
     "iopub.execute_input": "2025-09-05T16:57:22.034086Z",
     "iopub.status.busy": "2025-09-05T16:57:22.033733Z",
     "iopub.status.idle": "2025-09-05T16:57:41.643956Z",
     "shell.execute_reply": "2025-09-05T16:57:41.643036Z"
    },
    "papermill": {
     "duration": 19.617926,
     "end_time": "2025-09-05T16:57:41.645853",
     "exception": false,
     "start_time": "2025-09-05T16:57:22.027927",
     "status": "completed"
    },
    "tags": []
   },
   "outputs": [],
   "source": [
    "df = pd.read_json('/kaggle/input/vietnamese-online-news-dataset/news_dataset.json')"
   ]
  },
  {
   "cell_type": "code",
   "execution_count": 7,
   "id": "6b770d76",
   "metadata": {
    "execution": {
     "iopub.execute_input": "2025-09-05T16:57:41.656780Z",
     "iopub.status.busy": "2025-09-05T16:57:41.656444Z",
     "iopub.status.idle": "2025-09-05T16:57:41.793020Z",
     "shell.execute_reply": "2025-09-05T16:57:41.791469Z"
    },
    "papermill": {
     "duration": 0.144233,
     "end_time": "2025-09-05T16:57:41.794967",
     "exception": false,
     "start_time": "2025-09-05T16:57:41.650734",
     "status": "completed"
    },
    "tags": []
   },
   "outputs": [
    {
     "name": "stdout",
     "output_type": "stream",
     "text": [
      "<class 'pandas.core.frame.DataFrame'>\n",
      "RangeIndex: 184539 entries, 0 to 184538\n",
      "Data columns (total 10 columns):\n",
      " #   Column         Non-Null Count   Dtype         \n",
      "---  ------         --------------   -----         \n",
      " 0   id             184539 non-null  int64         \n",
      " 1   author         184539 non-null  object        \n",
      " 2   content        184539 non-null  object        \n",
      " 3   picture_count  184539 non-null  int64         \n",
      " 4   processed      184539 non-null  int64         \n",
      " 5   source         184534 non-null  object        \n",
      " 6   title          184539 non-null  object        \n",
      " 7   topic          184539 non-null  object        \n",
      " 8   url            184539 non-null  object        \n",
      " 9   crawled_at     184125 non-null  datetime64[ns]\n",
      "dtypes: datetime64[ns](1), int64(3), object(6)\n",
      "memory usage: 14.1+ MB\n",
      "None\n"
     ]
    }
   ],
   "source": [
    "print(df.info())"
   ]
  },
  {
   "cell_type": "code",
   "execution_count": 8,
   "id": "4d7b16e3",
   "metadata": {
    "execution": {
     "iopub.execute_input": "2025-09-05T16:57:41.807717Z",
     "iopub.status.busy": "2025-09-05T16:57:41.807367Z",
     "iopub.status.idle": "2025-09-05T16:57:42.231151Z",
     "shell.execute_reply": "2025-09-05T16:57:42.230023Z"
    },
    "papermill": {
     "duration": 0.431534,
     "end_time": "2025-09-05T16:57:42.232917",
     "exception": false,
     "start_time": "2025-09-05T16:57:41.801383",
     "status": "completed"
    },
    "tags": []
   },
   "outputs": [],
   "source": [
    "# Remove empty data\n",
    "df = df.dropna()\n",
    "df = df[~(df == '').any(axis=1)].reset_index().drop(columns=['index'])"
   ]
  },
  {
   "cell_type": "code",
   "execution_count": 9,
   "id": "962d229c",
   "metadata": {
    "execution": {
     "iopub.execute_input": "2025-09-05T16:57:42.262476Z",
     "iopub.status.busy": "2025-09-05T16:57:42.262063Z",
     "iopub.status.idle": "2025-09-05T16:57:42.354640Z",
     "shell.execute_reply": "2025-09-05T16:57:42.353228Z"
    },
    "papermill": {
     "duration": 0.118426,
     "end_time": "2025-09-05T16:57:42.356321",
     "exception": false,
     "start_time": "2025-09-05T16:57:42.237895",
     "status": "completed"
    },
    "tags": []
   },
   "outputs": [
    {
     "name": "stdout",
     "output_type": "stream",
     "text": [
      "<class 'pandas.core.frame.DataFrame'>\n",
      "RangeIndex: 113418 entries, 0 to 113417\n",
      "Data columns (total 10 columns):\n",
      " #   Column         Non-Null Count   Dtype         \n",
      "---  ------         --------------   -----         \n",
      " 0   id             113418 non-null  int64         \n",
      " 1   author         113418 non-null  object        \n",
      " 2   content        113418 non-null  object        \n",
      " 3   picture_count  113418 non-null  int64         \n",
      " 4   processed      113418 non-null  int64         \n",
      " 5   source         113418 non-null  object        \n",
      " 6   title          113418 non-null  object        \n",
      " 7   topic          113418 non-null  object        \n",
      " 8   url            113418 non-null  object        \n",
      " 9   crawled_at     113418 non-null  datetime64[ns]\n",
      "dtypes: datetime64[ns](1), int64(3), object(6)\n",
      "memory usage: 8.7+ MB\n",
      "None\n",
      "(113418, 10)\n"
     ]
    }
   ],
   "source": [
    "print(df.info())\n",
    "print(df.shape)"
   ]
  },
  {
   "cell_type": "code",
   "execution_count": 10,
   "id": "1eebeec4",
   "metadata": {
    "execution": {
     "iopub.execute_input": "2025-09-05T16:57:42.367538Z",
     "iopub.status.busy": "2025-09-05T16:57:42.367167Z",
     "iopub.status.idle": "2025-09-05T16:57:42.394898Z",
     "shell.execute_reply": "2025-09-05T16:57:42.393990Z"
    },
    "papermill": {
     "duration": 0.035141,
     "end_time": "2025-09-05T16:57:42.396409",
     "exception": false,
     "start_time": "2025-09-05T16:57:42.361268",
     "status": "completed"
    },
    "tags": []
   },
   "outputs": [
    {
     "data": {
      "text/html": [
       "<div>\n",
       "<style scoped>\n",
       "    .dataframe tbody tr th:only-of-type {\n",
       "        vertical-align: middle;\n",
       "    }\n",
       "\n",
       "    .dataframe tbody tr th {\n",
       "        vertical-align: top;\n",
       "    }\n",
       "\n",
       "    .dataframe thead th {\n",
       "        text-align: right;\n",
       "    }\n",
       "</style>\n",
       "<table border=\"1\" class=\"dataframe\">\n",
       "  <thead>\n",
       "    <tr style=\"text-align: right;\">\n",
       "      <th></th>\n",
       "      <th>id</th>\n",
       "      <th>author</th>\n",
       "      <th>content</th>\n",
       "      <th>picture_count</th>\n",
       "      <th>processed</th>\n",
       "      <th>source</th>\n",
       "      <th>title</th>\n",
       "      <th>topic</th>\n",
       "      <th>url</th>\n",
       "      <th>crawled_at</th>\n",
       "    </tr>\n",
       "  </thead>\n",
       "  <tbody>\n",
       "    <tr>\n",
       "      <th>0</th>\n",
       "      <td>218269</td>\n",
       "      <td>(Nguồn: Sina)</td>\n",
       "      <td>Gần đây, Thứ trưởng Bộ Phát triển Kỹ thuật số,...</td>\n",
       "      <td>1</td>\n",
       "      <td>0</td>\n",
       "      <td>vtc.vn</td>\n",
       "      <td>Bỏ qua mạng 5G, Nga tiến thẳng từ 4G lên 6G</td>\n",
       "      <td>Sống kết nối</td>\n",
       "      <td>https://vtc.vn/bo-qua-mang-5g-nga-tien-thang-t...</td>\n",
       "      <td>2022-08-01 09:09:21.181469</td>\n",
       "    </tr>\n",
       "    <tr>\n",
       "      <th>1</th>\n",
       "      <td>218268</td>\n",
       "      <td>Hồ Sỹ Anh</td>\n",
       "      <td>Kết quả thi tốt nghiệp THPT năm 2022 cho thấy ...</td>\n",
       "      <td>3</td>\n",
       "      <td>0</td>\n",
       "      <td>thanhnien.vn</td>\n",
       "      <td>Địa phương nào đứng đầu cả nước tổng điểm 3 mô...</td>\n",
       "      <td>Giáo dục</td>\n",
       "      <td>https://thanhnien.vn/dia-phuong-nao-dung-dau-c...</td>\n",
       "      <td>2022-08-01 09:09:15.311901</td>\n",
       "    </tr>\n",
       "    <tr>\n",
       "      <th>2</th>\n",
       "      <td>218267</td>\n",
       "      <td>Ngọc Ánh</td>\n",
       "      <td>Thống đốc Kentucky Andy Beshear hôm 31/7 cho h...</td>\n",
       "      <td>1</td>\n",
       "      <td>0</td>\n",
       "      <td>vnexpress</td>\n",
       "      <td>Người chết trong mưa lũ 'nghìn năm có một' ở M...</td>\n",
       "      <td>Thế giới</td>\n",
       "      <td>https://vnexpress.net/nguoi-chet-trong-mua-lu-...</td>\n",
       "      <td>2022-08-01 09:09:02.211498</td>\n",
       "    </tr>\n",
       "  </tbody>\n",
       "</table>\n",
       "</div>"
      ],
      "text/plain": [
       "       id         author                                            content  \\\n",
       "0  218269  (Nguồn: Sina)  Gần đây, Thứ trưởng Bộ Phát triển Kỹ thuật số,...   \n",
       "1  218268      Hồ Sỹ Anh  Kết quả thi tốt nghiệp THPT năm 2022 cho thấy ...   \n",
       "2  218267       Ngọc Ánh  Thống đốc Kentucky Andy Beshear hôm 31/7 cho h...   \n",
       "\n",
       "   picture_count  processed        source  \\\n",
       "0              1          0        vtc.vn   \n",
       "1              3          0  thanhnien.vn   \n",
       "2              1          0     vnexpress   \n",
       "\n",
       "                                               title         topic  \\\n",
       "0        Bỏ qua mạng 5G, Nga tiến thẳng từ 4G lên 6G  Sống kết nối   \n",
       "1  Địa phương nào đứng đầu cả nước tổng điểm 3 mô...      Giáo dục   \n",
       "2  Người chết trong mưa lũ 'nghìn năm có một' ở M...      Thế giới   \n",
       "\n",
       "                                                 url  \\\n",
       "0  https://vtc.vn/bo-qua-mang-5g-nga-tien-thang-t...   \n",
       "1  https://thanhnien.vn/dia-phuong-nao-dung-dau-c...   \n",
       "2  https://vnexpress.net/nguoi-chet-trong-mua-lu-...   \n",
       "\n",
       "                  crawled_at  \n",
       "0 2022-08-01 09:09:21.181469  \n",
       "1 2022-08-01 09:09:15.311901  \n",
       "2 2022-08-01 09:09:02.211498  "
      ]
     },
     "execution_count": 10,
     "metadata": {},
     "output_type": "execute_result"
    }
   ],
   "source": [
    "df.head(3)"
   ]
  },
  {
   "cell_type": "code",
   "execution_count": 11,
   "id": "eeb2d410",
   "metadata": {
    "execution": {
     "iopub.execute_input": "2025-09-05T16:57:42.408345Z",
     "iopub.status.busy": "2025-09-05T16:57:42.407975Z",
     "iopub.status.idle": "2025-09-05T16:57:42.414932Z",
     "shell.execute_reply": "2025-09-05T16:57:42.414080Z"
    },
    "papermill": {
     "duration": 0.014559,
     "end_time": "2025-09-05T16:57:42.416323",
     "exception": false,
     "start_time": "2025-09-05T16:57:42.401764",
     "status": "completed"
    },
    "tags": []
   },
   "outputs": [
    {
     "data": {
      "text/plain": [
       "'Kết quả thi tốt nghiệp THPT năm 2022 cho thấy điểm trung bình các môn toán, ngoại ngữ giảm, riêng ngữ văn tăng so với năm 2021. Về tổng điểm của 3 môn học năm 2022 là 18,13, giảm so với năm 2021 (18,92 điểm). Có 60 địa phương giảm tổng điểm 3 môn (chiếm 95,24%), chỉ có 3 địa phương tăng (chiếm 4,76%): Hòa Bình tăng 0,93 điểm, Hải Phòng tăng 0,57 và Vĩnh Phúc tăng 0,09. Có 5 địa phương giảm nhiều là Sóc Trăng (giảm 1,36 điểm), Bến Tre (1,37), Kon Tum (1,51), Lai Châu (1,53) và An Giang (1,61). Bình Dương có tổng 3 môn ngữ văn, toán và ngoại ngữ là 20,48 điểm, dẫn đầu cả nước. Tiếp theo là Hải Phòng (20,39 điểm), Nam Định (20,22), Vĩnh Phúc (20,01), Ninh Bình (19,82), TP.HCM (19,80), Hà Nam (19,46), Bắc Ninh (19,39), Hà Nội (19,25) và Tiền Giang (19,06)... Toàn quốc có 4 địa phương tổng điểm 3 môn trên 20 điểm (chiếm 6,35%), 21 địa phương từ 18 đến dưới 20 điểm (33,33%), 37 địa phương từ 15 đến dưới 18 điểm (58,73%) và 1 địa phương dưới 15 điểm (1,56%). 10 địa phương có tổng điểm 3 môn thấp nhất là Bắc Kạn (16,03 điểm), Điện Biên (16,0), Hậu Giang (16,0), Lạng Sơn (15,86), Trà Vinh (15,70), Đắk Nông (15,55), Lai Châu (15,13), Sơn La (15,12), Cao Bằng (15,11), Hà Giang (13,74). Môn ngữ văn là môn thi có tăng điểm nhưng không nhiều, từ 6,47 năm 2021 lên 6,51 năm 2022. Tỷ lệ điểm văn giỏi (từ 8 trở lên) tăng, năm 2021 là 14,9% và năm 2022 là 16,98%. Đối sánh thứ hạng môn ngữ văn của các địa phương trong giai đoạn 2017 - 2022 cho thấy, nhiều tỉnh, thành thứ hạng không biến động nhiều. Trong đó, có một số địa phương tiến bộ trong 2 năm gần đây như: Vĩnh Phúc (năm 2017: xếp hạng 1; 2018: xếp hạng 9; 2019: xếp hạng 4; 2020: xếp hạng 2; 2021: xếp hạng 2; 2022: xếp hạng 2), Hải Phòng (7; 1; 2; 9; 1; 1), Ninh Bình (3; 3; 8; 11; 11; 4), Nghệ An (19; 7; 3; 20; 4; 6), Thanh Hóa (6; 2; 15; 8; 16; 8), Hải Dương (27; 20; 11; 31; 31; 16). Bên cạnh đó cũng có một số địa phương môn ngữ văn trồi sụt như: Quảng Ngãi (14; 39; 38; 32; 8; 25), Đồng Tháp (16; 40; 36; 28; 7; 20), TP.HCM (12; 35; 50; 47; 20; 34). Môn ngữ văn có điểm trung bình học bạ lớp 12 của cả nước năm 2022 là 7,21 trong khi trung bình điểm thi chỉ đạt 6,51 (lệch 0,7 điểm) là phù hợp. Tuy nhiên, khi so sánh thứ hạng hai chỉ số này, một số địa phương có thay đổi lớn. Chẳng hạn, Bắc Kạn có trung bình điểm học bạ xếp thứ 63, nhưng trung bình điểm thi xếp thứ 35, TP.HCM có trung bình học bạ xếp thứ 18 (7,31 điểm) nhưng trung bình điểm thi xếp thứ 34 (6,34 điểm). Môn toán là môn có điểm trung bình giảm, từ 6,61 năm 2021 xuống 6,47 năm 2022. Tỷ lệ điểm toán giỏi giảm 4,05%, năm 2021 là 25,9%, năm 2022 là 21,85%. Nhìn chung môn toán nhiều tỉnh có thứ hạng khá ổn định trong cả giai đoạn 2017 - 2022. Các địa phương như Nam Định, Bình Dương, TP.HCM, Hà Nam, Ninh Bình là những địa phương có điểm môn toán luôn ở top 10, đặc biệt là Nam Định 6 năm liền đứng đầu cả nước. Một số địa phương có tiến bộ trong những năm gần đây như: Vĩnh Phúc (20; 23; 22; 19; 15; 7), Bạc Liêu (12; 16; 9; 30; 18; 15), Hà Tĩnh (31; 30; 33; 35; 24; 20), Lào Cai (40; 39; 45; 50; 43; 38). Một số tỉnh có thứ hạng môn toán giảm những năm gần đây: Bình Phước (24; 22; 21; 23; 27; 37), Hậu Giang (46; 46; 46; 38; 53; 51), Trà Vinh (47; 45; 43; 42; 54; 55), Bà Rịa-Vũng Tàu (7; 6; 3; 3; 10; 13;), Tây Ninh (15; 19; 14; 18; 21; 25). Môn toán có điểm trung bình học bạ toàn quốc là 7,51, trong khi trung bình điểm thi 6,47 điểm (lệch 1,04 điểm). Khi đối sánh điểm thi của môn toán so với học bạ có độ vênh đáng kể ở một số địa phương như: Điểm học bạ của Hải Phòng là 8,14 điểm, xếp thứ 1, nhưng điểm thi là 6,92 điểm, xếp thứ 8 (lệch 1,12 điểm); Đồng Tháp điểm học bạ 8,01, xếp thứ 2, điểm thi là 6,49, xếp thứ 26 (lệch 1,52 điểm); Hải Dương điểm học bạ 7,99, điểm thi 6,71 (lệch 1,28 điểm), Hà Nội điểm học bạ 7,94, điểm thi là 6,77 (lệch 1,17 điểm). Trong khi đó, Nam Định có điểm học bạ xếp thứ 9, nhưng điểm thi xếp thứ 1. Điều này khẳng định rằng, Nam Định là một tỉnh thực hiện rất tốt tinh thần \"học thật, thi thật\". Ngoại ngữ là môn có điểm trung bình giảm, từ 5,84 năm 2021 xuống 5,15 năm 2022. Tỷ lệ điểm ngoại ngữ giỏi giảm 12,1%, từ 24,0% năm 2021 xuống 11,9% năm 2022. Môn ngoại ngữ là thế mạnh của các tỉnh, thành phố có kinh tế - xã hội, du lịch, công nghiệp phát triển. Các địa phương như TP.HCM, Bình Dương, Bà Rịa-Vũng Tàu, Hà Nội, Hải Phòng, Đà Nẵng, Vĩnh Phúc, Nam Định, Ninh Bình... là những địa phương thường ở top đầu về ngoại ngữ, đặc biệt là TP.HCM cả 6 năm đều đứng đầu. Một số địa phương có thứ hạng ngoại ngữ tiến bộ trong giai đoạn 2017 - 2022 như: Vĩnh Phúc (11; 13; 13; 18; 10; 7), Bắc Ninh (21; 22; 22; 26; 17; 10), Hà Tĩnh (42; 46; 49; 49; 36; 30), Quảng Ninh (31; 41; 35; 32; 23; 15), Phú Thọ (23; 14; 29; 41; 26; 25). Bên cạnh đó, một số tỉnh có thứ hạng ngoại ngữ giảm như: Trà Vinh (43; 42; 40; 34; 56; 58), Hậu Giang (54; 55; 52; 44; 58; 60); Ninh Thuận (13; 8; 14; 14; 40; 43); Kon Tum (34; 32; 31; 28; 39; 45), Bến Tre (30; 19; 15; 12; 29; 33). Đối sánh giữa điểm thi và điểm học bạ cho thấy, điểm học bạ của môn ngoại ngữ khá cao nhưng điểm thi lại quá thấp, trung bình học bạ cả nước là 7,27, nhưng điểm thi là 5,15 (lệch 2,12 điểm). Hải Phòng có điểm trung bình học bạ cao nhất nước (8,04 điểm), nhưng điểm thi xếp thứ 5 với 5,775 điểm (lệch 2,265 điểm). Nhìn chung các tỉnh, thành phố có thế mạnh 3 môn ngữ văn, toán, ngoại ngữ vẫn giữ vững thành tích của mình. Trong 10 địa phương top đầu 3 môn này năm 2022 có 6 địa phương dẫn đầu cả 3 môn (Bình Dương, Hải Phòng, Nam Định, Vĩnh Phúc, Ninh Bình, Bắc Ninh), 2 địa phương dẫn đầu 2 môn (Hà Nam, TP.HCM), 8 địa phương dẫn đầu 1 môn (Hà Tĩnh, Nghệ An, Thanh Hóa, Thái Bình, Tiền Giang, Bà Rịa-Vũng Tàu, Hà Nội, Đà Nẵng).'"
      ]
     },
     "execution_count": 11,
     "metadata": {},
     "output_type": "execute_result"
    }
   ],
   "source": [
    "df['content'][1]"
   ]
  },
  {
   "cell_type": "markdown",
   "id": "556e5b48",
   "metadata": {
    "papermill": {
     "duration": 0.00498,
     "end_time": "2025-09-05T16:57:42.426719",
     "exception": false,
     "start_time": "2025-09-05T16:57:42.421739",
     "status": "completed"
    },
    "tags": []
   },
   "source": [
    "## Text Preprocessing"
   ]
  },
  {
   "cell_type": "code",
   "execution_count": 12,
   "id": "9fd83223",
   "metadata": {
    "execution": {
     "iopub.execute_input": "2025-09-05T16:57:42.439006Z",
     "iopub.status.busy": "2025-09-05T16:57:42.438267Z",
     "iopub.status.idle": "2025-09-05T16:57:42.887361Z",
     "shell.execute_reply": "2025-09-05T16:57:42.886403Z"
    },
    "papermill": {
     "duration": 0.457005,
     "end_time": "2025-09-05T16:57:42.888911",
     "exception": false,
     "start_time": "2025-09-05T16:57:42.431906",
     "status": "completed"
    },
    "tags": []
   },
   "outputs": [
    {
     "data": {
      "text/plain": [
       "[{'author': '(Nguồn: Sina)',\n",
       "  'title': 'Bỏ qua mạng 5G, Nga tiến thẳng từ 4G lên 6G',\n",
       "  'topic': 'Sống kết nối',\n",
       "  'content': 'Gần đây, Thứ trưởng Bộ Phát triển Kỹ thuật số, Truyền thông và Truyền thông đại chúng Nga - Oleg Ivanov cho biết trong một cuộc phỏng vấn rằng, đến năm 2025\\xa0Viện Khoa học & Công nghệ Skolkovo và đài phát thanh trực thuộc Bộ Kỹ thuật số Nga, Viện Khoa học Chế tạo sẽ nhận được khoản phân bổ 30 tỷ rúp để thúc đẩy các dự án chung về thiết bị liên lạc di động thế hệ thứ 6 (6G). Dự kiến, thiết bị 6G có thể được chế tạo trước năm 2025. Điều đó có nghĩa là giới chức Nga không còn quan tâm đến việc phát triển công nghệ 5G nữa mà đặt cược vốn và nguồn nhân lực của mình vào công nghệ 6G. Cách tiếp cận này rất táo bạo bởi nhìn chung, công nghệ truyền thông hiện đại cần phải tích lũy công nghệ từ thế hệ này sang thế hệ khác\\xa0và sự phát triển giữa các thế hệ thường rất khó khăn. Điều khó khăn hơn nữa là 6G hiện đang trong giai đoạn nghiên cứu ban đầu trên khắp thế giới, các tiêu chuẩn kỹ thuật liên quan vẫn chưa được xác định và việc phát triển sản phẩm vẫn còn rất xa. Do đó, giới chức Nga vẫn chưa công bố thông tin chi tiết cụ thể. Ngay cả khi Nga có thể phát triển sớm mạng lưới 6G, quốc gia này có thể sớm bị tụt hậu vì các quốc gia khác sẽ nhanh chóng bắt kịp. Nhưng điều quan trọng nhất là các nhà mạng tại Nga tin rằng nhiều người tiêu dùng nước này vẫn chưa sẵn sàng nâng cấp mạng di động vì đối với họ mạng 4G là quá đủ. Các nhà mạng này thậm chí còn không bị làm phiền bởi mạng 5G chứ chưa nói đến mạng 6G còn rất lâu mới hoàn thiện.'}]"
      ]
     },
     "execution_count": 12,
     "metadata": {},
     "output_type": "execute_result"
    }
   ],
   "source": [
    "cols = ['author', 'title', 'topic', 'content']\n",
    "articles = df[cols].to_dict(orient='records')\n",
    "articles[:1]"
   ]
  },
  {
   "cell_type": "code",
   "execution_count": 13,
   "id": "1242adb6",
   "metadata": {
    "execution": {
     "iopub.execute_input": "2025-09-05T16:57:42.901913Z",
     "iopub.status.busy": "2025-09-05T16:57:42.901543Z",
     "iopub.status.idle": "2025-09-05T16:57:42.911624Z",
     "shell.execute_reply": "2025-09-05T16:57:42.910801Z"
    },
    "papermill": {
     "duration": 0.018663,
     "end_time": "2025-09-05T16:57:42.913351",
     "exception": false,
     "start_time": "2025-09-05T16:57:42.894688",
     "status": "completed"
    },
    "tags": []
   },
   "outputs": [],
   "source": [
    "import re\n",
    "from underthesea import word_tokenize\n",
    "\n",
    "class VietnamesePreprocessor:\n",
    "    def __init__(self, stopwords=None):\n",
    "        # Khởi tạo stopwords mặc định nếu không truyền vào\n",
    "        if stopwords is None:\n",
    "            stopwords = {\n",
    "                \"bị\", \"bởi\", \"các\", \"cái\", \"cần\", \"chỉ\", \"cho\", \"chưa\",\n",
    "                \"có\", \"cùng\", \"cũng\", \"đã\", \"đang\", \"đây\", \"để\", \"đều\", \"do\", \"đó\", \"được\",\n",
    "                \"gì\", \"khi\", \"không\", \"là\", \"lại\", \"lên\", \"lúc\", \"mà\", \"mỗi\", \"một\", \"này\",\n",
    "                \"nên\", \"nếu\", \"nhiều\", \"như\", \"nhưng\", \"những\", \"nơi\", \"phải\", \"qua\", \"ra\",\n",
    "                \"rằng\", \"rất\", \"rồi\", \"sau\", \"sẽ\", \"thì\", \"trên\", \"trước\", \"từ\", \"và\",\n",
    "                \"vẫn\", \"vào\", \"vậy\", \"vì\", \"việc\", \"với\", \"tất_cả\"\n",
    "            }\n",
    "        self.stopwords = stopwords\n",
    "\n",
    "    def clean_text(self, text):\n",
    "        \"\"\"Chuẩn hóa text: lowercase, bỏ URL, ký tự đặc biệt.\"\"\"\n",
    "        if not isinstance(text, str):\n",
    "            raise ValueError(\"Input must be a string\")\n",
    "        text = text.lower()\n",
    "        text = re.sub(r\"http\\S+|www\\S+\", \" \", text)  # xoá URL\n",
    "        text = re.sub(r\"[^0-9a-zàáảãạâầấẩẫậăằắẳẵặèéẻẽẹêềếểễệ\"\n",
    "                      r\"ìíỉĩịòóỏõọôồốổỗộơờớởỡợùúủũụưừứửữự\"\n",
    "                      r\"ỳýỷỹỵđ\\s]\", \" \", text)  # xoá ký tự ngoài bảng chữ\n",
    "        text = re.sub(r\"\\s+\", \" \", text).strip()\n",
    "        return text\n",
    "\n",
    "    def tokenize(self, text):\n",
    "        \"\"\"Tách từ với underthesea.\"\"\"\n",
    "        return word_tokenize(text, format=\"text\").split(\" \")\n",
    "\n",
    "    def remove_stopwords(self, tokens):\n",
    "        \"\"\"Loại bỏ stopwords.\"\"\"\n",
    "        return [w for w in tokens if w not in self.stopwords]\n",
    "\n",
    "    def preprocess(self, text):\n",
    "        \"\"\"Pipeline tổng hợp: clean → tokenize → remove stopwords.\"\"\"\n",
    "        text = self.clean_text(text)\n",
    "        tokens = self.tokenize(text)\n",
    "        tokens = self.remove_stopwords(tokens)\n",
    "        return tokens\n"
   ]
  },
  {
   "cell_type": "code",
   "execution_count": 14,
   "id": "ad566ac4",
   "metadata": {
    "execution": {
     "iopub.execute_input": "2025-09-05T16:57:42.925838Z",
     "iopub.status.busy": "2025-09-05T16:57:42.925468Z",
     "iopub.status.idle": "2025-09-05T18:59:00.165382Z",
     "shell.execute_reply": "2025-09-05T18:59:00.164180Z"
    },
    "papermill": {
     "duration": 7277.248344,
     "end_time": "2025-09-05T18:59:00.167341",
     "exception": false,
     "start_time": "2025-09-05T16:57:42.918997",
     "status": "completed"
    },
    "tags": []
   },
   "outputs": [
    {
     "name": "stderr",
     "output_type": "stream",
     "text": [
      "100%|██████████| 113418/113418 [2:01:17<00:00, 15.59it/s]\n"
     ]
    }
   ],
   "source": [
    "preprocessor = VietnamesePreprocessor()\n",
    "\n",
    "# tqdm hỗ trợ apply bằng cách wrap với progress_apply\n",
    "tqdm.pandas()\n",
    "\n",
    "df[\"processed_content\"] = df[\"content\"].progress_apply(preprocessor.preprocess)"
   ]
  },
  {
   "cell_type": "code",
   "execution_count": 15,
   "id": "c4316c3e",
   "metadata": {
    "execution": {
     "iopub.execute_input": "2025-09-05T18:59:04.690314Z",
     "iopub.status.busy": "2025-09-05T18:59:04.689897Z",
     "iopub.status.idle": "2025-09-05T19:03:01.629481Z",
     "shell.execute_reply": "2025-09-05T19:03:01.628143Z"
    },
    "papermill": {
     "duration": 239.213537,
     "end_time": "2025-09-05T19:03:01.631327",
     "exception": false,
     "start_time": "2025-09-05T18:59:02.417790",
     "status": "completed"
    },
    "tags": []
   },
   "outputs": [],
   "source": [
    "# Xuất ra file CSV (giữ nguyên encoding tiếng Việt)\n",
    "df.to_csv(\"processed_content.csv\", index=False, encoding=\"utf-8-sig\")\n",
    "\n",
    "# Nếu muốn xuất Excel\n",
    "df.to_excel(\"processed_content.xlsx\", index=False)\n",
    "\n",
    "# Nếu muốn xuất JSON\n",
    "df.to_json(\"processed_content.json\", orient=\"records\", force_ascii=False, indent=2)\n"
   ]
  }
 ],
 "metadata": {
  "kaggle": {
   "accelerator": "none",
   "dataSources": [
    {
     "datasetId": 2378920,
     "isSourceIdPinned": false,
     "sourceId": 4013342,
     "sourceType": "datasetVersion"
    }
   ],
   "dockerImageVersionId": 31089,
   "isGpuEnabled": false,
   "isInternetEnabled": true,
   "language": "python",
   "sourceType": "notebook"
  },
  "kernelspec": {
   "display_name": "Python 3",
   "language": "python",
   "name": "python3"
  },
  "language_info": {
   "codemirror_mode": {
    "name": "ipython",
    "version": 3
   },
   "file_extension": ".py",
   "mimetype": "text/x-python",
   "name": "python",
   "nbconvert_exporter": "python",
   "pygments_lexer": "ipython3",
   "version": "3.11.13"
  },
  "papermill": {
   "default_parameters": {},
   "duration": 7577.187004,
   "end_time": "2025-09-05T19:03:07.148759",
   "environment_variables": {},
   "exception": null,
   "input_path": "__notebook__.ipynb",
   "output_path": "__notebook__.ipynb",
   "parameters": {},
   "start_time": "2025-09-05T16:56:49.961755",
   "version": "2.6.0"
  }
 },
 "nbformat": 4,
 "nbformat_minor": 5
}
